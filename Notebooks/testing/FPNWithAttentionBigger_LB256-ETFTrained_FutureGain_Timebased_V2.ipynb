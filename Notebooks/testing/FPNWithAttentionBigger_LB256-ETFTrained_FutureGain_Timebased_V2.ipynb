{
 "cells": [
  {
   "cell_type": "markdown",
   "metadata": {
    "id": "RIbOPenP-I_d"
   },
   "source": [
    "# Mount drive and bucket\n",
    "Todo: Remove in public version"
   ]
  },
  {
   "cell_type": "code",
   "execution_count": 1,
   "metadata": {
    "id": "GHybPwDjX1gZ",
    "tags": []
   },
   "outputs": [],
   "source": [
    "# Check if the notebook is run in Google Colab\n",
    "import sys\n",
    "\n",
    "COLAB = 'google.colab' in sys.modules"
   ]
  },
  {
   "cell_type": "code",
   "execution_count": 2,
   "metadata": {
    "tags": []
   },
   "outputs": [
    {
     "name": "stdout",
     "output_type": "stream",
     "text": [
      "<_io.TextIOWrapper name='/content/bigdata/nb_20230330_0633.log' mode='a+' encoding='UTF-8'>\n"
     ]
    },
    {
     "data": {
      "application/javascript": [
       "IPython.notebook.set_autosave_interval(60000)"
      ]
     },
     "metadata": {},
     "output_type": "display_data"
    },
    {
     "name": "stdout",
     "output_type": "stream",
     "text": [
      "Autosaving every 60 seconds\n"
     ]
    }
   ],
   "source": [
    "import sys\n",
    "import datetime\n",
    "import logging\n",
    "\n",
    "nblog = open(f\"/content/bigdata/nb_{datetime.datetime.utcnow().strftime('%Y%m%d_%H%M')}.log\", \"a+\")\n",
    "print(nblog)\n",
    "sys.stdout.echo = nblog\n",
    "sys.stderr.echo = nblog\n",
    "\n",
    "#get_ipython().log.handlers[0].stream = nblog\n",
    "#get_ipython().log.setLevel(logging.INFO)\n",
    "\n",
    "%autosave 60"
   ]
  },
  {
   "cell_type": "code",
   "execution_count": 3,
   "metadata": {
    "colab": {
     "base_uri": "https://localhost:8080/"
    },
    "id": "sK6Uuoy5qsua",
    "outputId": "d29d48f5-a2e5-40f9-927d-002d32fd48f9"
   },
   "outputs": [],
   "source": [
    "# if COLAB:\n",
    "#   from google.colab import drive\n",
    "#   drive.mount('/content/drive')"
   ]
  },
  {
   "cell_type": "code",
   "execution_count": 4,
   "metadata": {
    "id": "MTJ7bYMtHmvS"
   },
   "outputs": [
    {
     "name": "stdout",
     "output_type": "stream",
     "text": [
      "Run the command!\n"
     ]
    }
   ],
   "source": [
    "if COLAB:\n",
    "  from google.colab import auth\n",
    "  auth.authenticate_user()\n",
    "else:\n",
    "    print(\"Run the command!\")\n",
    "  #Todo #bring the command inside the notebook\n",
    "  #run this terminal inside docker: gcloud auth login b.girsule@gmail.com --no-launch-browser"
   ]
  },
  {
   "cell_type": "code",
   "execution_count": 5,
   "metadata": {
    "id": "DOScyXpJws23"
   },
   "outputs": [],
   "source": [
    "# Todo: Check if possible in local docker\n",
    "# from google.cloud import storage"
   ]
  },
  {
   "cell_type": "code",
   "execution_count": 6,
   "metadata": {
    "colab": {
     "base_uri": "https://localhost:8080/"
    },
    "id": "t9dbL-PU-okV",
    "outputId": "14e73bf6-881d-4bc0-96f4-8a1b79cae570"
   },
   "outputs": [
    {
     "name": "stderr",
     "output_type": "stream",
     "text": [
      "2023-03-30 06:33:48.751689: I tensorflow/core/platform/cpu_feature_guard.cc:193] This TensorFlow binary is optimized with oneAPI Deep Neural Network Library (oneDNN) to use the following CPU instructions in performance-critical operations:  AVX2 FMA\n",
      "To enable them in other operations, rebuild TensorFlow with the appropriate compiler flags.\n",
      "2023-03-30 06:33:48.879520: E tensorflow/stream_executor/cuda/cuda_blas.cc:2981] Unable to register cuBLAS factory: Attempting to register factory for plugin cuBLAS when one has already been registered\n",
      "2023-03-30 06:33:49.527947: W tensorflow/stream_executor/platform/default/dso_loader.cc:64] Could not load dynamic library 'libnvinfer.so.7'; dlerror: libnvinfer.so.7: cannot open shared object file: No such file or directory\n",
      "2023-03-30 06:33:49.528010: W tensorflow/stream_executor/platform/default/dso_loader.cc:64] Could not load dynamic library 'libnvinfer_plugin.so.7'; dlerror: libnvinfer_plugin.so.7: cannot open shared object file: No such file or directory\n",
      "2023-03-30 06:33:49.528019: W tensorflow/compiler/tf2tensorrt/utils/py_utils.cc:38] TF-TRT Warning: Cannot dlopen some TensorRT libraries. If you would like to use Nvidia GPU with TensorRT, please make sure the missing libraries mentioned above are installed properly.\n"
     ]
    },
    {
     "name": "stdout",
     "output_type": "stream",
     "text": [
      "TF Version is 2.10.0, ok!\n"
     ]
    }
   ],
   "source": [
    "# Check if the tf version is 2.10.0, this is required to use the 'ignore_class' in the  SparseCategoricalCrossentropy\n",
    "import tensorflow as tf\n",
    "\n",
    "if '2.10.0' != tf.__version__:\n",
    "  !pip uninstall tensorflow -y\n",
    "  !pip install tensorflow-gpu==2.10.0\n",
    "  please_restart_the_runtime\n",
    "else:\n",
    "  print(\"TF Version is 2.10.0, ok!\")"
   ]
  },
  {
   "cell_type": "code",
   "execution_count": 7,
   "metadata": {
    "id": "FYePtDVpqtkN"
   },
   "outputs": [],
   "source": [
    "from tensorflow import keras\n",
    "# import tensorflow_gcs_config\n",
    "from tensorflow.python.lib.io import file_io\n",
    "\n",
    "from keras.layers import Input, Dense, Flatten #, ReLU, Add, Flatten, Concatenate, LayerNormalization, UpSampling2D, Activation, LSTM, Multiply, Dropout, Reshape, Permute, BatchNormalization, MaxPooling1D, AveragePooling1D, MaxPooling3D, AveragePooling2D, LayerNormalization, MaxPooling2D\n",
    "from keras.models import Model\n",
    "from keras.optimizers import Adam"
   ]
  },
  {
   "cell_type": "code",
   "execution_count": 8,
   "metadata": {
    "id": "pxa3Ug_JplIq"
   },
   "outputs": [],
   "source": [
    "import os\n",
    "from os import listdir\n",
    "from os.path import isfile, join"
   ]
  },
  {
   "cell_type": "code",
   "execution_count": 9,
   "metadata": {
    "id": "EcBnUrFKqyCK"
   },
   "outputs": [],
   "source": [
    "import pandas as pd\n",
    "import numpy as np\n",
    "import copy\n",
    "import matplotlib.pyplot as plt\n",
    "from tqdm import tqdm\n",
    "import pickle\n",
    "import gc\n",
    "import random"
   ]
  },
  {
   "cell_type": "code",
   "execution_count": 10,
   "metadata": {
    "id": "R_3vswfeRqmj"
   },
   "outputs": [],
   "source": [
    "# Set the google cloud bucket data\n",
    "project_id = 'tweetprediction'\n",
    "bucket_name = 'crypto_nlp_training'"
   ]
  },
  {
   "cell_type": "code",
   "execution_count": 11,
   "metadata": {
    "id": "X3s3eDubSFaJ",
    "tags": []
   },
   "outputs": [],
   "source": [
    "# Set the checkpoint path for saving train progress\n",
    "if COLAB:\n",
    "    CHECKPOINT_PATH = f\"gs://{bucket_name}/chk/\"\n",
    "else:\n",
    "    CHECKPOINT_PATH = f\"/content/bigdata/chk/\""
   ]
  },
  {
   "cell_type": "code",
   "execution_count": 12,
   "metadata": {
    "colab": {
     "base_uri": "https://localhost:8080/"
    },
    "id": "8rvlsLwbpmWJ",
    "outputId": "12f0ff94-d55c-449f-f101-c4581499db7d"
   },
   "outputs": [],
   "source": [
    "# Check if the notebook is run in google colab, if so, clone the repo\n",
    "if COLAB:\n",
    "    print(\"Running in Colab\")\n",
    "\n",
    "    # Clone the whole repo to get all data and code if not already done\n",
    "    if not os.path.exists(\"/content/CryptoCrystalBall\"):\n",
    "      !git clone https://github.com/girsigit/CryptoCrystalBall\n",
    "\n",
    "      # cd into the notebooks directory --> Necessary to match all paths for importing\n",
    "    #%cd /content/CryptoCrystalBall/JupyterDocker/notebooks\n",
    "    %cd /content"
   ]
  },
  {
   "cell_type": "code",
   "execution_count": 13,
   "metadata": {
    "id": "q9OmJ6vFthwG"
   },
   "outputs": [],
   "source": [
    "# Try importing the Ta-Lib library, if this fails, try to install it and\n",
    "# import it again afterwards\n",
    "try:\n",
    "    import talib\n",
    "except:\n",
    "    !wget http://prdownloads.sourceforge.net/ta-lib/ta-lib-0.4.0-src.tar.gz\n",
    "    !tar -xzvf ta-lib-0.4.0-src.tar.gz\n",
    "    %cd ta-lib\n",
    "    !./configure --prefix=/usr\n",
    "    !make\n",
    "    !make install\n",
    "    !pip install Ta-Lib\n",
    "    %cd ..\n",
    "\n",
    "    import talib"
   ]
  },
  {
   "cell_type": "code",
   "execution_count": 14,
   "metadata": {
    "id": "2orTUN099zyA",
    "tags": []
   },
   "outputs": [],
   "source": [
    "try:\n",
    "  from transformers import TFRobertaModel, RobertaConfig\n",
    "except:\n",
    "  # Important!: Version 4.23 does not work on TPU\n",
    "  !pip install transformers==4.22\n",
    "\n",
    "  from transformers import TFRobertaModel, RobertaConfig"
   ]
  },
  {
   "cell_type": "code",
   "execution_count": 15,
   "metadata": {
    "tags": []
   },
   "outputs": [],
   "source": [
    "# !pip uninstall -y tensorboard-plugin-profile"
   ]
  },
  {
   "cell_type": "code",
   "execution_count": 16,
   "metadata": {
    "colab": {
     "base_uri": "https://localhost:8080/"
    },
    "id": "qfAsp4TWHivL",
    "outputId": "a25fdba4-ad57-40a3-f725-7d4ed114d38b",
    "tags": []
   },
   "outputs": [],
   "source": [
    "# # Required to do profiling\n",
    "# !pip install tensorboard-plugin-profile"
   ]
  },
  {
   "cell_type": "code",
   "execution_count": 17,
   "metadata": {
    "id": "axPYAbN9upgY",
    "tags": []
   },
   "outputs": [],
   "source": [
    "import logging\n",
    "logger = logging.getLogger()\n",
    "logger.setLevel(logging.INFO)"
   ]
  },
  {
   "cell_type": "markdown",
   "metadata": {
    "id": "Nbt7oQxzL2Zy"
   },
   "source": [
    "---\n",
    "# Add custom import path for DataStreamCreator and IndicatorCalculator\n",
    "\n",
    "These libs are not in the standard python directory, so their paths have to be added to the import paths"
   ]
  },
  {
   "cell_type": "code",
   "execution_count": 18,
   "metadata": {
    "colab": {
     "base_uri": "https://localhost:8080/"
    },
    "id": "ICDL0OwbL2Zz",
    "outputId": "41c7541e-3a1e-4035-f2f3-182fed452a8e",
    "tags": []
   },
   "outputs": [
    {
     "data": {
      "text/plain": [
       "['', 'content']"
      ]
     },
     "execution_count": 18,
     "metadata": {},
     "output_type": "execute_result"
    }
   ],
   "source": [
    "# # Get the current directory\n",
    "# current_dir = os.getcwd()\n",
    "# current_dir_splitted = current_dir.split(os.sep)\n",
    "\n",
    "# Todo: is inside /content/CB in local docker\n",
    "current_dir_splitted = [\"\", \"content\"]\n",
    "current_dir_splitted"
   ]
  },
  {
   "cell_type": "code",
   "execution_count": 19,
   "metadata": {
    "colab": {
     "base_uri": "https://localhost:8080/"
    },
    "id": "JJ8l6O2gL2Z1",
    "outputId": "de6d884a-f4be-47e2-c808-eeac3448580c",
    "tags": []
   },
   "outputs": [
    {
     "name": "stdout",
     "output_type": "stream",
     "text": [
      "dsc_dir: /content/CryptoCrystalBall/DataStreamCreator\n",
      "ind_dir: /content/CryptoCrystalBall/IndicatorCalculator\n"
     ]
    }
   ],
   "source": [
    "# Create the import directories for the DataStreamCreator and the IndicatorCalculator\n",
    "dsc_dir = '/content/CryptoCrystalBall/DataStreamCreator'\n",
    "print(f\"dsc_dir: {dsc_dir}\")\n",
    "\n",
    "ind_dir = '/content/CryptoCrystalBall/IndicatorCalculator'\n",
    "print(f\"ind_dir: {ind_dir}\")\n",
    "\n",
    "# Add them to the import paths\n",
    "sys.path.insert(0, dsc_dir)\n",
    "sys.path.insert(0, ind_dir)"
   ]
  },
  {
   "cell_type": "code",
   "execution_count": 20,
   "metadata": {
    "id": "iqyTbcZDttLT",
    "tags": []
   },
   "outputs": [],
   "source": [
    "# Import the actual classes\n",
    "from IndicatorCalculator import IndicatorCalculator\n",
    "import DataStreamCreator"
   ]
  },
  {
   "cell_type": "markdown",
   "metadata": {
    "id": "zPsG4dqRL2Z5"
   },
   "source": [
    "---\n",
    "# Define all the parameters and variables"
   ]
  },
  {
   "cell_type": "code",
   "execution_count": 21,
   "metadata": {
    "colab": {
     "base_uri": "https://localhost:8080/"
    },
    "id": "5J8ODl45L2Z6",
    "outputId": "690c2801-687e-47fe-cefc-616e029a62a5",
    "tags": []
   },
   "outputs": [
    {
     "name": "stdout",
     "output_type": "stream",
     "text": [
      "DATA_PATH: /content/DemoData\n"
     ]
    }
   ],
   "source": [
    "# Define the tick data path\n",
    "DATA_PATH = os.path.join(os.sep, *current_dir_splitted, 'DemoData')\n",
    "print(f\"DATA_PATH: {DATA_PATH}\")"
   ]
  },
  {
   "cell_type": "code",
   "execution_count": 22,
   "metadata": {
    "colab": {
     "base_uri": "https://localhost:8080/"
    },
    "id": "7TUeLGiOL2Z7",
    "outputId": "00651843-f462-4c20-e6cc-7cb0d7cd6d23",
    "tags": []
   },
   "outputs": [
    {
     "name": "stdout",
     "output_type": "stream",
     "text": [
      "IMG_SAVE_PATH: /content/Documentation/Images\n"
     ]
    }
   ],
   "source": [
    "# Define the chart image save path\n",
    "IMG_SAVE_PATH = os.path.join(os.sep, *current_dir_splitted, 'Documentation', 'Images')\n",
    "print(f\"IMG_SAVE_PATH: {IMG_SAVE_PATH}\")"
   ]
  },
  {
   "cell_type": "code",
   "execution_count": 23,
   "metadata": {
    "id": "o23rkki9ttLZ",
    "tags": []
   },
   "outputs": [],
   "source": [
    "# Define a global random seed\n",
    "RANDOM_SEED = 42\n",
    "\n",
    "# Set the seed in np\n",
    "np.random.seed(RANDOM_SEED)"
   ]
  },
  {
   "cell_type": "code",
   "execution_count": 24,
   "metadata": {
    "id": "g9gBeRtnxKMD",
    "tags": []
   },
   "outputs": [],
   "source": [
    "# X_BLOCK_LENGHT defines how far into the past a 'slice of a chart' shall be\n",
    "# See: https://github.com/girsigit/CryptoCrystalBall/tree/main/DataStreamCreator#xblockgenerator\n",
    "# X_BLOCK_LENGHT = 256\n",
    "X_BLOCK_LENGHT = 128"
   ]
  },
  {
   "cell_type": "code",
   "execution_count": 25,
   "metadata": {
    "id": "sh5dsBKr5Ko-",
    "tags": []
   },
   "outputs": [],
   "source": [
    "# How many examples shall be processed at the same time, limited by GPU memory\n",
    "BATCH_SIZE = 384 # for X_BLOCK_LENGHT = 256\n",
    "BATCH_SIZE = 512 # for X_BLOCK_LENGHT = 128"
   ]
  },
  {
   "cell_type": "code",
   "execution_count": 26,
   "metadata": {
    "id": "J331jHk-u345",
    "tags": []
   },
   "outputs": [],
   "source": [
    "# A fixed number of features is used\n",
    "FEATURES = 160"
   ]
  },
  {
   "cell_type": "code",
   "execution_count": 27,
   "metadata": {
    "id": "1JVT1Z2U0lW8",
    "tags": []
   },
   "outputs": [],
   "source": [
    "# Finanical indicator timespans\n",
    "# See: https://github.com/girsigit/CryptoCrystalBall/tree/main/IndicatorCalculator\n",
    "SHORTSPAN = 7\n",
    "MIDSPAN = 38\n",
    "LONGSPAN = 50"
   ]
  },
  {
   "cell_type": "code",
   "execution_count": 28,
   "metadata": {
    "id": "AnNz-Oke3J3p",
    "tags": []
   },
   "outputs": [],
   "source": [
    "# Additional settings for the data stream\n",
    "# For this notebook, the calculation of pattern indicators is turned off\n",
    "DATA_STREAM_PARAMETERS = {\n",
    "    \"calcPatternIndicators\": False, # No patterns are used\n",
    "    \"calcVolumeInidators\": False, # No volume indicators, these are wide spread and may disturb the classifer\n",
    "    \"dropna\": True # Drop all tick/indicator table rows containing nan values instead of just replacing them by 0 (which would lead to wrong predictions)\n",
    "}"
   ]
  },
  {
   "cell_type": "markdown",
   "metadata": {
    "id": "7xXpDFe9ROVQ"
   },
   "source": [
    "# Load the train dataset"
   ]
  },
  {
   "cell_type": "code",
   "execution_count": 29,
   "metadata": {
    "tags": []
   },
   "outputs": [
    {
     "name": "stdout",
     "output_type": "stream",
     "text": [
      "The train dataset contains 1064 files.\n",
      "['/content/dataset/etffancy/DE0002635265.csv', '/content/dataset/etffancy/DE0002635273.csv', '/content/dataset/etffancy/DE0002635281.csv']\n"
     ]
    }
   ],
   "source": [
    "# Get train file names - Only pick the ones ending with -USDT to prevent\n",
    "# influence between different currencies\n",
    "TRAIN_PATH = \"/content/dataset/etffancy\"\n",
    "\n",
    "# Get all file names\n",
    "ALL_FILES = [os.path.join(TRAIN_PATH,f) for f in listdir(TRAIN_PATH) if isfile(join(TRAIN_PATH, f)) and \".csv\" in f ]\n",
    "\n",
    "# Sort them (as a stable basis for randomizing afterwards)\n",
    "ALL_FILES = sorted(ALL_FILES)\n",
    "\n",
    "print(f\"The train dataset contains {len(ALL_FILES)} files.\")\n",
    "print(ALL_FILES[:3])"
   ]
  },
  {
   "cell_type": "code",
   "execution_count": 30,
   "metadata": {
    "tags": []
   },
   "outputs": [
    {
     "name": "stdout",
     "output_type": "stream",
     "text": [
      "train_split_index: 532\n",
      "test_split_index: 798\n"
     ]
    }
   ],
   "source": [
    "# Split the dataset into train, test (trade algorithm train) and eval (trade algorithm test)\n",
    "SPLIT_RANDOM_SEED = 666\n",
    "TRAIN_SET_SIZE = 0.5\n",
    "TEST_SET_SIZE = 0.25\n",
    "# EVAL_SET_SIZE: The rest\n",
    "\n",
    "random.Random(SPLIT_RANDOM_SEED).shuffle(ALL_FILES)\n",
    "\n",
    "train_split_index = int(len(ALL_FILES) * TRAIN_SET_SIZE)\n",
    "print(f\"train_split_index: {train_split_index}\")\n",
    "\n",
    "test_split_index = int(len(ALL_FILES) * (TRAIN_SET_SIZE + TEST_SET_SIZE))\n",
    "print(f\"test_split_index: {test_split_index}\")\n",
    "\n",
    "TRAIN_FILES = ALL_FILES[:train_split_index]\n",
    "TEST_FILES = ALL_FILES[train_split_index:test_split_index]\n",
    "EVAL_FILES = ALL_FILES[test_split_index:]"
   ]
  },
  {
   "cell_type": "markdown",
   "metadata": {
    "id": "J9cA0AKquwZ2"
   },
   "source": [
    "---\n",
    "# Prepare data source\n",
    "\n",
    "For training a neural network, first the data source has to be prepared. For this purpose, the method `FileListToDataStream` from the `DataStreamCreator` class is used. This method creates a stream of `X-Block` and `y-data` arrays out of a list of .csv file names, pointing to tick tables (called `EXAMPLE_FILE_PATHS` in this example). For details about `X-Blocks` and `y-data`, please refer to the documentation of the `XBlockGenerator` and the `YDataGenerator` under https://github.com/girsigit/CryptoCrystalBall/tree/main/DataStreamCreator.\n",
    "\n",
    "<br>\n",
    "\n",
    "WRONG  WRONG  WRONG  WRONG  WRONG  WRONG  WRONG  WRONG  \n",
    "Target values (y-data) from the data generator would not be necessary in this notebook, but since it cannot be switched off, the future direction and its derviation of the price have been chosen in `Y_TYPE_DICT` since they are not expensive to compute. A switch flag will be added in a future release."
   ]
  },
  {
   "cell_type": "code",
   "execution_count": 31,
   "metadata": {},
   "outputs": [
    {
     "data": {
      "text/plain": [
       "{'dataType': 3,\n",
       " 'gain_timespan': 60,\n",
       " 'direction_ma_timespan': 48,\n",
       " 'derivation_ma_timespan': 48}"
      ]
     },
     "execution_count": 31,
     "metadata": {},
     "output_type": "execute_result"
    }
   ],
   "source": [
    "# FPNWithAttention_5_ETF_Trained_Past_Future_Gain_TrainSetOnly_GPU_64LB\n",
    "Y_TYPE_DICT = copy.deepcopy(DataStreamCreator.YDataGenerator.PARAM_DICT_TEMPLATE_Y_DATA_TYPE_PAST_FUTURE_GAIN)\n",
    "Y_TYPE_DICT[\"gain_timespan\"] = 60\n",
    "# Y_TYPE_DICT[\"direction_ma_timespan\"] = 14\n",
    "# Y_TYPE_DICT[\"derivation_ma_timespan\"] = 14\n",
    "Y_TYPE_DICT"
   ]
  },
  {
   "cell_type": "code",
   "execution_count": 32,
   "metadata": {},
   "outputs": [],
   "source": [
    "TARGET_FEATURE_CNT = 160 #256"
   ]
  },
  {
   "cell_type": "code",
   "execution_count": 33,
   "metadata": {},
   "outputs": [
    {
     "data": {
      "text/plain": [
       "(512, 128, 160)"
      ]
     },
     "execution_count": 33,
     "metadata": {},
     "output_type": "execute_result"
    }
   ],
   "source": [
    "XShape = (BATCH_SIZE, X_BLOCK_LENGHT, TARGET_FEATURE_CNT)\n",
    "XShape"
   ]
  },
  {
   "cell_type": "code",
   "execution_count": 34,
   "metadata": {
    "tags": []
   },
   "outputs": [
    {
     "data": {
      "text/plain": [
       "array([2, 4])"
      ]
     },
     "execution_count": 34,
     "metadata": {},
     "output_type": "execute_result"
    }
   ],
   "source": [
    "import numpy as np\n",
    "a = np.array([1,2,3,4])\n",
    "a[[1,3]]"
   ]
  },
  {
   "cell_type": "code",
   "execution_count": 35,
   "metadata": {
    "id": "S2e6q_2su26o",
    "tags": []
   },
   "outputs": [],
   "source": [
    "# A python generator function has to be applied on the dataStream\n",
    "\n",
    "def pythonGeneratorSignalsTraining():\n",
    "  # Initialize the FileListToDataStream generator\n",
    "  dataStreamTraining = DataStreamCreator.FileListToDataStream(fileList = TRAIN_FILES,\n",
    "                                                      batch_size = BATCH_SIZE,\n",
    "                                                      X_Block_lenght = X_BLOCK_LENGHT,\n",
    "                                                      y_type_dict=Y_TYPE_DICT,\n",
    "                                                      shuffle=True,\n",
    "                                                      parallel_generators = np.min([BATCH_SIZE, 8]),\n",
    "                                                      random_seed = RANDOM_SEED,\n",
    "                                                      **DATA_STREAM_PARAMETERS\n",
    "                                                      )\n",
    "\n",
    "  # This while has to integrated into the FileListToDataStream method\n",
    "  while True:  \n",
    "    try:\n",
    "      ne = next(dataStreamTraining)\n",
    "      _X = ne['X']\n",
    "      _y = ne['y'][:,[1,3]]\n",
    "    \n",
    "      # Limit the y signal to avoid excess\n",
    "      _y /= 10.0\n",
    "      _y = np.clip(_y, -10.0, 10.0)\n",
    "        \n",
    "      # 'Blow up' the X array to a 2**n size\n",
    "      #_X_new = np.zeros((_X.shape[0], _X.shape[1], TARGET_FEATURE_CNT))\n",
    "      #_X_new[:,:,:_X.shape[2]] = _X\n",
    "\n",
    "      yield (_X, _y)\n",
    "    except StopIteration as si:\n",
    "      logging.warning(\"StopIteration in pythonGenerator\")\n",
    "      logging.warning(si)\n",
    "      return"
   ]
  },
  {
   "cell_type": "code",
   "execution_count": 36,
   "metadata": {
    "colab": {
     "base_uri": "https://localhost:8080/"
    },
    "id": "FoTRNHyEvnyg",
    "outputId": "d7fb1944-9236-47c2-c749-8a999e6fe3e3",
    "tags": []
   },
   "outputs": [
    {
     "name": "stderr",
     "output_type": "stream",
     "text": [
      "2023-03-30 06:33:51.380424: I tensorflow/stream_executor/cuda/cuda_gpu_executor.cc:980] successful NUMA node read from SysFS had negative value (-1), but there must be at least one NUMA node, so returning NUMA node zero\n",
      "2023-03-30 06:33:51.456000: I tensorflow/stream_executor/cuda/cuda_gpu_executor.cc:980] successful NUMA node read from SysFS had negative value (-1), but there must be at least one NUMA node, so returning NUMA node zero\n",
      "2023-03-30 06:33:51.456173: I tensorflow/stream_executor/cuda/cuda_gpu_executor.cc:980] successful NUMA node read from SysFS had negative value (-1), but there must be at least one NUMA node, so returning NUMA node zero\n",
      "2023-03-30 06:33:51.456856: I tensorflow/core/platform/cpu_feature_guard.cc:193] This TensorFlow binary is optimized with oneAPI Deep Neural Network Library (oneDNN) to use the following CPU instructions in performance-critical operations:  AVX2 FMA\n",
      "To enable them in other operations, rebuild TensorFlow with the appropriate compiler flags.\n",
      "2023-03-30 06:33:51.457686: I tensorflow/stream_executor/cuda/cuda_gpu_executor.cc:980] successful NUMA node read from SysFS had negative value (-1), but there must be at least one NUMA node, so returning NUMA node zero\n",
      "2023-03-30 06:33:51.457837: I tensorflow/stream_executor/cuda/cuda_gpu_executor.cc:980] successful NUMA node read from SysFS had negative value (-1), but there must be at least one NUMA node, so returning NUMA node zero\n",
      "2023-03-30 06:33:51.457968: I tensorflow/stream_executor/cuda/cuda_gpu_executor.cc:980] successful NUMA node read from SysFS had negative value (-1), but there must be at least one NUMA node, so returning NUMA node zero\n",
      "2023-03-30 06:33:52.274981: I tensorflow/stream_executor/cuda/cuda_gpu_executor.cc:980] successful NUMA node read from SysFS had negative value (-1), but there must be at least one NUMA node, so returning NUMA node zero\n",
      "2023-03-30 06:33:52.275166: I tensorflow/stream_executor/cuda/cuda_gpu_executor.cc:980] successful NUMA node read from SysFS had negative value (-1), but there must be at least one NUMA node, so returning NUMA node zero\n",
      "2023-03-30 06:33:52.275306: I tensorflow/stream_executor/cuda/cuda_gpu_executor.cc:980] successful NUMA node read from SysFS had negative value (-1), but there must be at least one NUMA node, so returning NUMA node zero\n",
      "2023-03-30 06:33:52.275415: I tensorflow/core/common_runtime/gpu/gpu_device.cc:1616] Created device /job:localhost/replica:0/task:0/device:GPU:0 with 7386 MB memory:  -> device: 0, name: NVIDIA GeForce GTX 1070, pci bus id: 0000:01:00.0, compute capability: 6.1\n"
     ]
    },
    {
     "data": {
      "text/plain": [
       "<PrefetchDataset element_spec=(TensorSpec(shape=(512, 128, 160), dtype=tf.float32, name=None), TensorSpec(shape=(512, 2), dtype=tf.float32, name=None))>"
      ]
     },
     "execution_count": 36,
     "metadata": {},
     "output_type": "execute_result"
    }
   ],
   "source": [
    "# Create a Tensorflow dataset out of the python generator, which can be fed to the network\n",
    "tfGenTraining = tf.data.Dataset.from_generator(pythonGeneratorSignalsTraining, \n",
    "                                               output_types = (tf.float32, tf.float32),\n",
    "                                               output_shapes=(\n",
    "                                                   (BATCH_SIZE, X_BLOCK_LENGHT, TARGET_FEATURE_CNT),\n",
    "                                                   (BATCH_SIZE, 2)\n",
    "                                                   )\n",
    "                                               )\n",
    "\n",
    "tfGenTraining = tfGenTraining.prefetch(buffer_size=32)\n",
    "tfGenTraining"
   ]
  },
  {
   "cell_type": "markdown",
   "metadata": {
    "id": "moBea0tTbFbX"
   },
   "source": [
    "---\n",
    "# Create the neural network\n",
    "\n",
    "In the example, two Conv1D pyramids are used to extract features at different levels out of the feature and the time dimension.\n",
    "\n",
    "It is also possible to use different architecures, like LSTM, Conv2D, Attention-Based ones or even NLP-based models. I have already tried many different ones and will publish them into the model zoo.\n",
    "\n",
    "```\n",
    "Todo: Create Model Zoo\n",
    "```\n",
    "\n",
    "```\n",
    "Todo: Create Image of netwrok structure\n",
    "```"
   ]
  },
  {
   "cell_type": "code",
   "execution_count": 37,
   "metadata": {
    "tags": []
   },
   "outputs": [],
   "source": [
    "# from keras.layers import Input, Dense, ReLU, Add, Flatten, Concatenate, LayerNormalization, UpSampling2D, Activation, LSTM, Multiply, Dropout, Reshape, Permute, BatchNormalization, MaxPooling1D, AveragePooling1D, MaxPooling3D, AveragePooling2D, LayerNormalization, MaxPooling2D, UnitNormalization, UpSampling1D\n",
    "from keras.layers import UnitNormalization, Permute, Conv1D, UpSampling1D, Add, LSTM, Concatenate, Multiply, Activation, Attention, Dropout"
   ]
  },
  {
   "cell_type": "code",
   "execution_count": 38,
   "metadata": {
    "tags": []
   },
   "outputs": [
    {
     "name": "stdout",
     "output_type": "stream",
     "text": [
      "256\n",
      "Step 0, using 64 filters with a kernel size of 2 at strides of 2\n",
      "attention_map.shape: (None, 64, 64)\n",
      "feature_conv_attentioned.shape: (None, 64, 64)\n",
      "Step 1, using 128 filters with a kernel size of 4 at strides of 2\n",
      "attention_map.shape: (None, 32, 128)\n",
      "feature_conv_attentioned.shape: (None, 32, 128)\n",
      "Step 2, using 256 filters with a kernel size of 8 at strides of 2\n",
      "attention_map.shape: (None, 16, 256)\n",
      "feature_conv_attentioned.shape: (None, 16, 256)\n",
      "Step 3, using 512 filters with a kernel size of 8 at strides of 2\n",
      "attention_map.shape: (None, 8, 512)\n",
      "feature_conv_attentioned.shape: (None, 8, 512)\n",
      "Step 4, using 1024 filters with a kernel size of 8 at strides of 2\n",
      "attention_map.shape: (None, 4, 1024)\n",
      "feature_conv_attentioned.shape: (None, 4, 1024)\n",
      "Step 5, using 2048 filters with a kernel size of 8 at strides of 2\n",
      "attention_map.shape: (None, 2, 2048)\n",
      "feature_conv_attentioned.shape: (None, 2, 2048)\n",
      "Building feature_map_layers, step 5. Shape of aligned_layer: (None, 2, 256)\n",
      "Building feature_map_layers, step 4. Shape of aligned_layer: (None, 4, 256)\n",
      "Building feature_map_layers, step 3. Shape of aligned_layer: (None, 8, 256)\n",
      "Building feature_map_layers, step 2. Shape of aligned_layer: (None, 16, 256)\n",
      "{'NAME': 'FPNWithAttentionBiggerTimebased', 'VERSION': '2_FutureOnly_60days', 'CNN_INITIAL_FILTERS': 64, 'CNN_EXTRACTOR_LAYERS': 6, 'CNN_INITIAL_KERNEL_SIZE': 2, 'CNN_MAX_KERNEL_SIZE': 8, 'FEATURE_PYRAMID_START_INDEX': 2, 'HEAD_LSTM_SIZE': 64, 'HEAD_DENSE_SIZE': 32}\n",
      "Model: \"FPNWithAttentionBiggerTimebased_2_FutureOnly_60days\"\n",
      "____________________________________________________________________________________________________________________________________________________________________________________________________________________________\n",
      " Layer (type)                                                           Output Shape                                     Param #                   Connected to                                                             \n",
      "============================================================================================================================================================================================================================\n",
      " input_1 (InputLayer)                                                   [(None, 128, 160)]                               0                         []                                                                       \n",
      "                                                                                                                                                                                                                            \n",
      " UnitNormalizationInput (UnitNormalization)                             (None, 128, 160)                                 0                         ['input_1[0][0]']                                                        \n",
      "                                                                                                                                                                                                                            \n",
      " ResNet_0_Conv1D_1 (Conv1D)                                             (None, 128, 160)                                 51360                     ['UnitNormalizationInput[1][0]']                                         \n",
      "                                                                                                                                                                                                                            \n",
      " ResNet_0_ReLU (Activation)                                             (None, 128, 160)                                 0                         ['ResNet_0_Conv1D_1[1][0]']                                              \n",
      "                                                                                                                                                                                                                            \n",
      " ResNet_0_Conv1D_2 (Conv1D)                                             (None, 128, 160)                                 51360                     ['ResNet_0_ReLU[1][0]']                                                  \n",
      "                                                                                                                                                                                                                            \n",
      " ResNet_0_Add (Add)                                                     (None, 128, 160)                                 0                         ['ResNet_0_Conv1D_2[1][0]',                                              \n",
      "                                                                                                                                                    'UnitNormalizationInput[1][0]']                                         \n",
      "                                                                                                                                                                                                                            \n",
      " ResNet_0_Feature_Conv1D_FilterDimReduction (Conv1D)                    (None, 64, 64)                                   20544                     ['ResNet_0_Add[1][0]']                                                   \n",
      "                                                                                                                                                                                                                            \n",
      " ResNet_1_Conv1D_1 (Conv1D)                                             (None, 64, 64)                                   16448                     ['ResNet_0_Feature_Conv1D_FilterDimReduction[1][0]']                     \n",
      "                                                                                                                                                                                                                            \n",
      " ResNet_1_ReLU (Activation)                                             (None, 64, 64)                                   0                         ['ResNet_1_Conv1D_1[1][0]']                                              \n",
      "                                                                                                                                                                                                                            \n",
      " ResNet_1_Conv1D_2 (Conv1D)                                             (None, 64, 64)                                   16448                     ['ResNet_1_ReLU[1][0]']                                                  \n",
      "                                                                                                                                                                                                                            \n",
      " ResNet_1_Add (Add)                                                     (None, 64, 64)                                   0                         ['ResNet_1_Conv1D_2[1][0]',                                              \n",
      "                                                                                                                                                    'ResNet_0_Feature_Conv1D_FilterDimReduction[1][0]']                     \n",
      "                                                                                                                                                                                                                            \n",
      " ResNet_1_Feature_Conv1D_FilterDimReduction (Conv1D)                    (None, 32, 128)                                  32896                     ['ResNet_1_Add[1][0]']                                                   \n",
      "                                                                                                                                                                                                                            \n",
      " ResNet_2_Conv1D_1 (Conv1D)                                             (None, 32, 128)                                  131200                    ['ResNet_1_Feature_Conv1D_FilterDimReduction[1][0]']                     \n",
      "                                                                                                                                                                                                                            \n",
      " ResNet_2_ReLU (Activation)                                             (None, 32, 128)                                  0                         ['ResNet_2_Conv1D_1[1][0]']                                              \n",
      "                                                                                                                                                                                                                            \n",
      " ResNet_2_Conv1D_2 (Conv1D)                                             (None, 32, 128)                                  131200                    ['ResNet_2_ReLU[1][0]']                                                  \n",
      "                                                                                                                                                                                                                            \n",
      " ResNet_2_Add (Add)                                                     (None, 32, 128)                                  0                         ['ResNet_2_Conv1D_2[1][0]',                                              \n",
      "                                                                                                                                                    'ResNet_1_Feature_Conv1D_FilterDimReduction[1][0]']                     \n",
      "                                                                                                                                                                                                                            \n",
      " ResNet_2_Feature_Conv1D_FilterDimReduction (Conv1D)                    (None, 16, 256)                                  262400                    ['ResNet_2_Add[1][0]']                                                   \n",
      "                                                                                                                                                                                                                            \n",
      " ResNet_3_Conv1D_1 (Conv1D)                                             (None, 16, 256)                                  524544                    ['ResNet_2_Feature_Conv1D_FilterDimReduction[1][0]']                     \n",
      "                                                                                                                                                                                                                            \n",
      " ResNet_3_ReLU (Activation)                                             (None, 16, 256)                                  0                         ['ResNet_3_Conv1D_1[1][0]']                                              \n",
      "                                                                                                                                                                                                                            \n",
      " ResNet_3_Conv1D_2 (Conv1D)                                             (None, 16, 256)                                  524544                    ['ResNet_3_ReLU[1][0]']                                                  \n",
      "                                                                                                                                                                                                                            \n",
      " ResNet_3_Add (Add)                                                     (None, 16, 256)                                  0                         ['ResNet_3_Conv1D_2[1][0]',                                              \n",
      "                                                                                                                                                    'ResNet_2_Feature_Conv1D_FilterDimReduction[1][0]']                     \n",
      "                                                                                                                                                                                                                            \n",
      " ResNet_3_Feature_Conv1D_FilterDimReduction (Conv1D)                    (None, 8, 512)                                   1049088                   ['ResNet_3_Add[1][0]']                                                   \n",
      "                                                                                                                                                                                                                            \n",
      " ResNet_4_Conv1D_1 (Conv1D)                                             (None, 8, 512)                                   2097664                   ['ResNet_3_Feature_Conv1D_FilterDimReduction[1][0]']                     \n",
      "                                                                                                                                                                                                                            \n",
      " ResNet_4_ReLU (Activation)                                             (None, 8, 512)                                   0                         ['ResNet_4_Conv1D_1[1][0]']                                              \n",
      "                                                                                                                                                                                                                            \n",
      " ResNet_4_Conv1D_2 (Conv1D)                                             (None, 8, 512)                                   2097664                   ['ResNet_4_ReLU[1][0]']                                                  \n",
      "                                                                                                                                                                                                                            \n",
      " ResNet_4_Add (Add)                                                     (None, 8, 512)                                   0                         ['ResNet_4_Conv1D_2[1][0]',                                              \n",
      "                                                                                                                                                    'ResNet_3_Feature_Conv1D_FilterDimReduction[1][0]']                     \n",
      "                                                                                                                                                                                                                            \n",
      " ResNet_4_Feature_Conv1D_FilterDimReduction (Conv1D)                    (None, 4, 1024)                                  4195328                   ['ResNet_4_Add[1][0]']                                                   \n",
      "                                                                                                                                                                                                                            \n",
      " ResNet_5_Conv1D_1 (Conv1D)                                             (None, 4, 1024)                                  8389632                   ['ResNet_4_Feature_Conv1D_FilterDimReduction[1][0]']                     \n",
      "                                                                                                                                                                                                                            \n",
      " ResNet_5_ReLU (Activation)                                             (None, 4, 1024)                                  0                         ['ResNet_5_Conv1D_1[1][0]']                                              \n",
      "                                                                                                                                                                                                                            \n",
      " ResNet_5_Conv1D_2 (Conv1D)                                             (None, 4, 1024)                                  8389632                   ['ResNet_5_ReLU[1][0]']                                                  \n",
      "                                                                                                                                                                                                                            \n",
      " ResNet_5_Add (Add)                                                     (None, 4, 1024)                                  0                         ['ResNet_5_Conv1D_2[1][0]',                                              \n",
      "                                                                                                                                                    'ResNet_4_Feature_Conv1D_FilterDimReduction[1][0]']                     \n",
      "                                                                                                                                                                                                                            \n",
      " ResNet_5_Feature_Conv1D_FilterDimReduction (Conv1D)                    (None, 2, 2048)                                  16779264                  ['ResNet_5_Add[1][0]']                                                   \n",
      "                                                                                                                                                                                                                            \n",
      " Attention_Layer_5 (Attention)                                          (None, 2, 2048)                                  0                         ['ResNet_5_Feature_Conv1D_FilterDimReduction[1][0]',                     \n",
      "                                                                                                                                                    'ResNet_5_Feature_Conv1D_FilterDimReduction[1][0]']                     \n",
      "                                                                                                                                                                                                                            \n",
      " Multiply_Apply_Attention_5 (Multiply)                                  (None, 2, 2048)                                  0                         ['ResNet_5_Feature_Conv1D_FilterDimReduction[1][0]',                     \n",
      "                                                                                                                                                    'Attention_Layer_5[1][0]']                                              \n",
      "                                                                                                                                                                                                                            \n",
      " Attention_Layer_4 (Attention)                                          (None, 4, 1024)                                  0                         ['ResNet_4_Feature_Conv1D_FilterDimReduction[1][0]',                     \n",
      "                                                                                                                                                    'ResNet_4_Feature_Conv1D_FilterDimReduction[1][0]']                     \n",
      "                                                                                                                                                                                                                            \n",
      " Channel_Depth_Alignment_5 (Conv1D)                                     (None, 2, 256)                                   524544                    ['Multiply_Apply_Attention_5[1][0]']                                     \n",
      "                                                                                                                                                                                                                            \n",
      " Multiply_Apply_Attention_4 (Multiply)                                  (None, 4, 1024)                                  0                         ['ResNet_4_Feature_Conv1D_FilterDimReduction[1][0]',                     \n",
      "                                                                                                                                                    'Attention_Layer_4[1][0]']                                              \n",
      "                                                                                                                                                                                                                            \n",
      " Pyramid_Upsampling_4 (UpSampling1D)                                    (None, 4, 256)                                   0                         ['Channel_Depth_Alignment_5[1][0]']                                      \n",
      "                                                                                                                                                                                                                            \n",
      " Channel_Depth_Alignment_4 (Conv1D)                                     (None, 4, 256)                                   262400                    ['Multiply_Apply_Attention_4[1][0]']                                     \n",
      "                                                                                                                                                                                                                            \n",
      " Attention_Layer_3 (Attention)                                          (None, 8, 512)                                   0                         ['ResNet_3_Feature_Conv1D_FilterDimReduction[1][0]',                     \n",
      "                                                                                                                                                    'ResNet_3_Feature_Conv1D_FilterDimReduction[1][0]']                     \n",
      "                                                                                                                                                                                                                            \n",
      " Pyramid_Add_4 (Add)                                                    (None, 4, 256)                                   0                         ['Pyramid_Upsampling_4[1][0]',                                           \n",
      "                                                                                                                                                    'Channel_Depth_Alignment_4[1][0]']                                      \n",
      "                                                                                                                                                                                                                            \n",
      " Multiply_Apply_Attention_3 (Multiply)                                  (None, 8, 512)                                   0                         ['ResNet_3_Feature_Conv1D_FilterDimReduction[1][0]',                     \n",
      "                                                                                                                                                    'Attention_Layer_3[1][0]']                                              \n",
      "                                                                                                                                                                                                                            \n",
      " Pyramid_Upsampling_3 (UpSampling1D)                                    (None, 8, 256)                                   0                         ['Pyramid_Add_4[1][0]']                                                  \n",
      "                                                                                                                                                                                                                            \n",
      " Channel_Depth_Alignment_3 (Conv1D)                                     (None, 8, 256)                                   131328                    ['Multiply_Apply_Attention_3[1][0]']                                     \n",
      "                                                                                                                                                                                                                            \n",
      " Pyramid_Add_3 (Add)                                                    (None, 8, 256)                                   0                         ['Pyramid_Upsampling_3[1][0]',                                           \n",
      "                                                                                                                                                    'Channel_Depth_Alignment_3[1][0]']                                      \n",
      "                                                                                                                                                                                                                            \n",
      " Attention_Layer_2 (Attention)                                          (None, 16, 256)                                  0                         ['ResNet_2_Feature_Conv1D_FilterDimReduction[1][0]',                     \n",
      "                                                                                                                                                    'ResNet_2_Feature_Conv1D_FilterDimReduction[1][0]']                     \n",
      "                                                                                                                                                                                                                            \n",
      " Pyramid_Upsampling_2 (UpSampling1D)                                    (None, 16, 256)                                  0                         ['Pyramid_Add_3[1][0]']                                                  \n",
      "                                                                                                                                                                                                                            \n",
      " Multiply_Apply_Attention_2 (Multiply)                                  (None, 16, 256)                                  0                         ['ResNet_2_Feature_Conv1D_FilterDimReduction[1][0]',                     \n",
      "                                                                                                                                                    'Attention_Layer_2[1][0]']                                              \n",
      "                                                                                                                                                                                                                            \n",
      " Pyramid_Add_2 (Add)                                                    (None, 16, 256)                                  0                         ['Pyramid_Upsampling_2[1][0]',                                           \n",
      "                                                                                                                                                    'Multiply_Apply_Attention_2[1][0]']                                     \n",
      "                                                                                                                                                                                                                            \n",
      " Anti_Alias_4 (Conv1D)                                                  (None, 4, 256)                                   196864                    ['Pyramid_Add_4[1][0]']                                                  \n",
      "                                                                                                                                                                                                                            \n",
      " Anti_Alias_3 (Conv1D)                                                  (None, 8, 256)                                   196864                    ['Pyramid_Add_3[1][0]']                                                  \n",
      "                                                                                                                                                                                                                            \n",
      " Anti_Alias_2 (Conv1D)                                                  (None, 16, 256)                                  196864                    ['Pyramid_Add_2[1][0]']                                                  \n",
      "                                                                                                                                                                                                                            \n",
      " PermutePredictorInput_5 (Permute)                                      (None, 256, 2)                                   0                         ['Channel_Depth_Alignment_5[1][0]']                                      \n",
      "                                                                                                                                                                                                                            \n",
      " PermutePredictorInput_4 (Permute)                                      (None, 256, 4)                                   0                         ['Anti_Alias_4[1][0]']                                                   \n",
      "                                                                                                                                                                                                                            \n",
      " PermutePredictorInput_3 (Permute)                                      (None, 256, 8)                                   0                         ['Anti_Alias_3[1][0]']                                                   \n",
      "                                                                                                                                                                                                                            \n",
      " PermutePredictorInput_2 (Permute)                                      (None, 256, 16)                                  0                         ['Anti_Alias_2[1][0]']                                                   \n",
      "                                                                                                                                                                                                                            \n",
      " Predictor_Head_5_LSTM (LSTM)                                           (None, 64)                                       17152                     ['PermutePredictorInput_5[1][0]']                                        \n",
      "                                                                                                                                                                                                                            \n",
      " Predictor_Head_4_LSTM (LSTM)                                           (None, 64)                                       17664                     ['PermutePredictorInput_4[1][0]']                                        \n",
      "                                                                                                                                                                                                                            \n",
      " Predictor_Head_3_LSTM (LSTM)                                           (None, 64)                                       18688                     ['PermutePredictorInput_3[1][0]']                                        \n",
      "                                                                                                                                                                                                                            \n",
      " Predictor_Head_2_LSTM (LSTM)                                           (None, 64)                                       20736                     ['PermutePredictorInput_2[1][0]']                                        \n",
      "                                                                                                                                                                                                                            \n",
      " Predictor_Head_5_Dense_Regressor (Dense)                               (None, 32)                                       2080                      ['Predictor_Head_5_LSTM[1][0]']                                          \n",
      "                                                                                                                                                                                                                            \n",
      " Predictor_Head_4_Dense_Regressor (Dense)                               (None, 32)                                       2080                      ['Predictor_Head_4_LSTM[1][0]']                                          \n",
      "                                                                                                                                                                                                                            \n",
      " Predictor_Head_3_Dense_Regressor (Dense)                               (None, 32)                                       2080                      ['Predictor_Head_3_LSTM[1][0]']                                          \n",
      "                                                                                                                                                                                                                            \n",
      " Predictor_Head_2_Dense_Regressor (Dense)                               (None, 32)                                       2080                      ['Predictor_Head_2_LSTM[1][0]']                                          \n",
      "                                                                                                                                                                                                                            \n",
      " Concatenate_regressors (Concatenate)                                   (None, 128)                                      0                         ['Predictor_Head_5_Dense_Regressor[1][0]',                               \n",
      "                                                                                                                                                    'Predictor_Head_4_Dense_Regressor[1][0]',                               \n",
      "                                                                                                                                                    'Predictor_Head_3_Dense_Regressor[1][0]',                               \n",
      "                                                                                                                                                    'Predictor_Head_2_Dense_Regressor[1][0]']                               \n",
      "                                                                                                                                                                                                                            \n",
      " Output (Dense)                                                         (None, 2)                                        258                       ['Concatenate_regressors[1][0]']                                         \n",
      "                                                                                                                                                                                                                            \n",
      "============================================================================================================================================================================================================================\n",
      "Total params: 46,352,898\n",
      "Trainable params: 46,352,898\n",
      "Non-trainable params: 0\n",
      "____________________________________________________________________________________________________________________________________________________________________________________________________________________________\n"
     ]
    }
   ],
   "source": [
    "# Create the FPNWithFScaledInput model\n",
    "# Infos about the feature pyramid: https://jonathan-hui.medium.com/understanding-feature-pyramid-networks-for-object-detection-fpn-45b227b9106c\n",
    "\n",
    "def CreateModelFPNWithAttention():\n",
    "  # Define model parameters\n",
    "  mp = {\n",
    "      \"NAME\": \"FPNWithAttentionBiggerTimebased\",\n",
    "      \"VERSION\": \"2_FutureOnly_60days\",\n",
    "      \"CNN_INITIAL_FILTERS\": 64,\n",
    "      \"CNN_EXTRACTOR_LAYERS\": 6,\n",
    "      \"CNN_INITIAL_KERNEL_SIZE\": 2,\n",
    "      \"CNN_MAX_KERNEL_SIZE\": 8,\n",
    "      \"FEATURE_PYRAMID_START_INDEX\": 2,\n",
    "      \"HEAD_LSTM_SIZE\": 64,\n",
    "      \"HEAD_DENSE_SIZE\": 32\n",
    "      }\n",
    "  \n",
    "  # Create the model input  \n",
    "  inputTicksAndIndicators = Input(shape=(X_BLOCK_LENGHT, TARGET_FEATURE_CNT), name='inputTicksAndIndicators', dtype='float32')\n",
    "  inputTicksAndIndicators = Dropout(0.1, name='inputDropout')(inputTicksAndIndicators)\n",
    "\n",
    "  # Normalize the input data, as it has a wide value spread (range of 1e8)\n",
    "  normalized = UnitNormalization(name=\"UnitNormalizationInput\", axis=-2)(inputTicksAndIndicators)\n",
    "\n",
    "  # Permute it to Conv over Features\n",
    "  #normalized = Permute((2, 1), name=\"PermuteInput\")(normalized)\n",
    "\n",
    "  # ----------------------------------------------------------------------------\n",
    "\n",
    "  # As an example a 1D-CNN pyramid is used to extract higher-level features out\n",
    "  # of the indicator+tick dimension\n",
    "  conv_layers = []\n",
    "  aligned_layers = []\n",
    "  feature_map_layers = []\n",
    "  anti_aliased_layers = []\n",
    "  anti_aliased_pyramid_indices = []\n",
    "  regressor_layers = []\n",
    "\n",
    "  finalFilters = mp[\"CNN_INITIAL_FILTERS\"] * 2**(mp[\"FEATURE_PYRAMID_START_INDEX\"])\n",
    "  print(finalFilters) \n",
    "\n",
    "  for i in range(mp[\"CNN_EXTRACTOR_LAYERS\"]):\n",
    "    if 0 == i:\n",
    "      source_layer = normalized\n",
    "    else:\n",
    "      source_layer = feature_conv\n",
    "    \n",
    "    filters = int(mp[\"CNN_INITIAL_FILTERS\"]*(2**i))\n",
    "    kernel_size = mp[\"CNN_INITIAL_KERNEL_SIZE\"]*(2**i)\n",
    "    kernel_size = int(np.min([mp[\"CNN_MAX_KERNEL_SIZE\"], kernel_size]))\n",
    "    strides = int(np.min([2,kernel_size]))\n",
    "\n",
    "    print(f\"Step {i}, using {filters} filters with a kernel size of {kernel_size} at strides of {strides}\")\n",
    "\n",
    "    # Create the feature extraction convolution\n",
    "    res_net_element = Conv1D(filters=source_layer.shape[-1],\n",
    "                          kernel_size=kernel_size,\n",
    "                          strides=1, \n",
    "                          padding=\"same\",\n",
    "                          name=f\"ResNet_{i}_Conv1D_1\")(source_layer)\n",
    "    \n",
    "    res_net_element = Activation(\"relu\",\n",
    "                              name=f\"ResNet_{i}_ReLU\")(res_net_element)\n",
    "    \n",
    "    res_net_element = Conv1D(filters=source_layer.shape[-1],\n",
    "                          kernel_size=kernel_size,\n",
    "                          strides=1, \n",
    "                          padding=\"same\",\n",
    "                          name=f\"ResNet_{i}_Conv1D_2\")(res_net_element)\n",
    "    \n",
    "    res_net_element = Add(name=f\"ResNet_{i}_Add\")([res_net_element, source_layer])\n",
    "        \n",
    "    feature_conv = Conv1D(filters=filters,\n",
    "                          kernel_size=kernel_size,\n",
    "                          strides=strides, \n",
    "                          padding=\"same\",\n",
    "                          name=f\"ResNet_{i}_Feature_Conv1D_FilterDimReduction\")(res_net_element)\n",
    "\n",
    "    attention_map = Attention(name=f\"Attention_Layer_{i}\")([feature_conv,feature_conv])\n",
    "    print(f\"attention_map.shape: {attention_map.shape}\")\n",
    "\n",
    "    feature_conv_attentioned = Multiply(name=f\"Multiply_Apply_Attention_{i}\")([feature_conv, attention_map])\n",
    "    print(f\"feature_conv_attentioned.shape: {feature_conv_attentioned.shape}\")\n",
    "    \n",
    "    conv_layers.append(feature_conv_attentioned)\n",
    "\n",
    "    # Apply the feature extraction pyramid\n",
    "    if mp[\"FEATURE_PYRAMID_START_INDEX\"] <= i:\n",
    "      # Apply a 1x1 convolution to align the channel depth    \n",
    "      if feature_conv_attentioned.shape[-1] != finalFilters:\n",
    "        aligned_layer = Conv1D(filters=finalFilters,\n",
    "                              kernel_size=1,\n",
    "                              strides=1,\n",
    "                              padding=\"same\",\n",
    "                              name=f\"Channel_Depth_Alignment_{i}\")(feature_conv_attentioned)\n",
    "      else:\n",
    "        aligned_layer = feature_conv_attentioned\n",
    "      \n",
    "      aligned_layers.append(aligned_layer)\n",
    "\n",
    "  # Go top-down through the aligned_layers to create the feature_map_layers\n",
    "  for i in range(mp[\"CNN_EXTRACTOR_LAYERS\"]-1, mp[\"FEATURE_PYRAMID_START_INDEX\"]-1, -1):\n",
    "    aligned_layers_index = i - mp[\"FEATURE_PYRAMID_START_INDEX\"]\n",
    "    aligned_layer = aligned_layers[aligned_layers_index]\n",
    "\n",
    "    print(f\"Building feature_map_layers, step {i}. Shape of aligned_layer: {aligned_layer.shape}\")\n",
    "\n",
    "    # The highest-filtered layer is taken as feature map directly\n",
    "    if i == mp[\"CNN_EXTRACTOR_LAYERS\"]-1:\n",
    "      feature_map_layers.append(aligned_layer)\n",
    "      anti_aliased_layers.append(feature_map_layers[-1])\n",
    "    else:\n",
    "      # Take the last feature_map_layer and scale it by two\n",
    "      upsampled = UpSampling1D(size=2,\n",
    "                               name=f\"Pyramid_Upsampling_{i}\")(feature_map_layers[-1])\n",
    "\n",
    "      # Add the aligned_layer\n",
    "      added = Add(name=f\"Pyramid_Add_{i}\")([upsampled, aligned_layer])\n",
    "\n",
    "      # Append as new feature_map_layer\n",
    "      feature_map_layers.append(added)\n",
    "\n",
    "      # Apply a convolution with a kernel size of 3 to \"reduce the aliasing effect\"\n",
    "      anti_aliased_layer = Conv1D(filters=feature_map_layers[-1].shape[-1],\n",
    "                                  kernel_size=3,\n",
    "                                  strides=1,\n",
    "                                  padding=\"same\",\n",
    "                                  name=f\"Anti_Alias_{i}\")(feature_map_layers[-1])\n",
    "\n",
    "      anti_aliased_layers.append(anti_aliased_layer)\n",
    "\n",
    "    # Helper storage to keep pyramid index consistent, also in predictor/regressor\n",
    "    anti_aliased_pyramid_indices.append(i)\n",
    "\n",
    "  # Apply the predictor head to each feature dimension layer\n",
    "  for n in range(len(anti_aliased_layers)):\n",
    "    predictor_input = anti_aliased_layers[n]\n",
    "\n",
    "    # Get the pyramid index\n",
    "    pyramid_index = anti_aliased_pyramid_indices[n]\n",
    "\n",
    "    # Permute the Conv output back\n",
    "    predictor_input = Permute((2, 1), name=f\"PermutePredictorInput_{pyramid_index}\")(predictor_input)\n",
    "\n",
    "    predictor = LSTM(units=mp[\"HEAD_LSTM_SIZE\"],\n",
    "                     name=f\"Predictor_Head_{pyramid_index}_LSTM\")(predictor_input)\n",
    "    \n",
    "    # Direction and derivation regressor\n",
    "    regressor = Dense(units=mp[\"HEAD_DENSE_SIZE\"],\n",
    "                      name=f\"Predictor_Head_{pyramid_index}_Dense_Regressor\",\n",
    "                      activation='relu')(predictor)\n",
    "    \n",
    "    regressor_layers.append(regressor)\n",
    "  \n",
    "  # Add all regressors together\n",
    "  regressor_conced = Concatenate(name=\"Concatenate_regressors\")(regressor_layers)\n",
    "  #regressor_conced = Dense(regressor_conced.shape[1], name=\"Combined_Regressor_1\")(regressor_conced)\n",
    "  #regressor_conced = Dense(regressor_conced.shape[1], name=\"Combined_Regressor_2\")(regressor_conced)\n",
    "\n",
    "  # The output are two values (direction and derivation) in the range [-1.0, 1.0]\n",
    "  output = Dense(2, activation=\"tanh\", name=\"Output\")(regressor_conced)\n",
    "  outputs = [output]\n",
    "\n",
    "  # Combine it all into a model object\n",
    "  model = Model(inputs=inputTicksAndIndicators, outputs=outputs, name=mp[\"NAME\"] + \"_\" + str(mp[\"VERSION\"]))\n",
    "\n",
    "  return model, mp\n",
    "\n",
    "model, model_config = CreateModelFPNWithAttention()\n",
    "print(model_config)\n",
    "model.summary(line_length=220)"
   ]
  },
  {
   "cell_type": "markdown",
   "metadata": {
    "id": "kXE8AjjoEWE4"
   },
   "source": [
    "# Train the model"
   ]
  },
  {
   "cell_type": "markdown",
   "metadata": {
    "id": "QfwL7EWInGWB"
   },
   "source": [
    "### Train strategy in the paper\n",
    "https://huggingface.co/roberta-base\n",
    "\n",
    "The model was trained on 1024 V100 GPUs for 500K steps with a batch size of 8K and a sequence length of 512. The optimizer used is Adam with a learning rate of 6e-4, β1=0.9\\beta_{1} = 0.9β1​=0.9, β2=0.98\\beta_{2} = 0.98β2​=0.98 and ϵ=1e−6\\epsilon = 1e-6ϵ=1e−6, a weight decay of 0.01, learning rate warmup for 24,000 steps and linear decay of the learning rate after."
   ]
  },
  {
   "cell_type": "code",
   "execution_count": 39,
   "metadata": {
    "colab": {
     "base_uri": "https://localhost:8080/",
     "height": 35
    },
    "id": "_jkOrQ01hZnE",
    "outputId": "afe655bf-d35c-4f71-ced0-d225a2ff6155"
   },
   "outputs": [
    {
     "data": {
      "text/plain": [
       "'FPNWithAttentionBiggerTimebased_2_FutureOnly_60days_GPU_128LB'"
      ]
     },
     "execution_count": 39,
     "metadata": {},
     "output_type": "execute_result"
    }
   ],
   "source": [
    "CHKPNT_NAME = f\"{model.name}_GPU_{X_BLOCK_LENGHT}LB\"\n",
    "CHKPNT_NAME"
   ]
  },
  {
   "cell_type": "code",
   "execution_count": 40,
   "metadata": {
    "id": "g0VmovApkwAB"
   },
   "outputs": [],
   "source": [
    "# Set an optimizer\n",
    "optimizer = Adam(\n",
    "    learning_rate=1e-03,\n",
    "    epsilon=1e-06,\n",
    "    beta_1=0.9,\n",
    "    beta_2=0.98,\n",
    "    decay=0.01)"
   ]
  },
  {
   "cell_type": "code",
   "execution_count": 41,
   "metadata": {
    "id": "AOLSygN7Ut7_"
   },
   "outputs": [],
   "source": [
    "# Compile the model\n",
    "model.compile(\n",
    "    optimizer = optimizer,\n",
    "    loss = [\"mse\"], \n",
    "    metrics=[\"mae\"])"
   ]
  },
  {
   "cell_type": "code",
   "execution_count": 42,
   "metadata": {},
   "outputs": [],
   "source": [
    "#@title CustomCallback\n",
    "class CustomCallback(tf.keras.callbacks.Callback):\n",
    "  def __init__(self, save_freq, val_freq, checkpoint_path, model_name, epoch_add=0):\n",
    "    self.save_freq = save_freq\n",
    "    self.val_freq = val_freq\n",
    "    self.checkpoint_path = checkpoint_path\n",
    "    self.model_name = model_name\n",
    "    self.current_epoch = 0\n",
    "    self.epoch_add = epoch_add\n",
    "\n",
    "  def on_epoch_begin(self, epoch, logs=None):\n",
    "    self.current_epoch = epoch + self.epoch_add\n",
    "    # keys = list(logs.keys())\n",
    "    # print(\"Start epoch {} of training; got log keys: {}\".format(epoch, keys))\n",
    "\n",
    "  def on_epoch_end(self, epoch, logs=None):\n",
    "    self.saveTheModel(-1, logs)\n",
    "\n",
    "  def on_train_batch_end(self, batch, logs=None):\n",
    "    self.saveTheModel(batch, logs)\n",
    "\n",
    "  def saveTheModel(self, batch, logs=None):\n",
    "    if (0 < batch and 0 == batch % self.save_freq) or (0 > batch):\n",
    "      logging.info(str(datetime.datetime.utcnow()))\n",
    "    \n",
    "      if 0 > batch:\n",
    "        _save_folder = os.path.join(self.checkpoint_path,\n",
    "                                    self.model_name,\n",
    "                                    \"cp_daily_valid_{:02d}_end\".format(self.current_epoch)\n",
    "                                    )\n",
    "      else:\n",
    "        _save_folder = os.path.join(self.checkpoint_path,\n",
    "                                    self.model_name,\n",
    "                                    \"cp_daily_valid_{:02d}_{:05d}\".format(self.current_epoch, batch)\n",
    "                                    )\n",
    "      \n",
    "      fp = os.path.join(_save_folder, \"model.h5\")\n",
    "      model.save(fp)\n",
    "      logging.info(f\"Saved model to '{fp}'\")\n",
    "      \n",
    "      # Save optimizer config\n",
    "      # c = copy.deepcopy(self.model.optimizer.get_config())\n",
    "\n",
    "      fp = os.path.join(_save_folder, \"c.pickle\")\n",
    "      with file_io.FileIO(fp, mode='wb+') as handle:\n",
    "        pickle.dump(self.model.optimizer.get_config(), handle, protocol=pickle.HIGHEST_PROTOCOL)\n",
    "        \n",
    "      logging.info(f\"Saved optimizer config to '{fp}'\")\n",
    "\n",
    "      # Save optimizer weights\n",
    "      # w = copy.deepcopy(self.model.optimizer.get_weights())\n",
    "\n",
    "      fp = os.path.join(_save_folder, \"w.pickle\")\n",
    "      with open(fp, \"wb\") as handle:\n",
    "        # with file_io.FileIO(fp, mode='wb+') as handle:\n",
    "        pickle.dump(self.model.optimizer.get_weights(), handle, protocol=pickle.HIGHEST_PROTOCOL)\n",
    "      \n",
    "      logging.info(f\"Saved optimizer weights to '{fp}'\")\n",
    "        \n",
    "      logging.info(f\"Did a gc collect: {gc.collect()}\")\n",
    "\n",
    "    # if 0 < batch and 0 == batch % self.val_freq:\n",
    "    #   print(\"-------------------------EVAL-------------------------\")\n",
    "    #   model.evaluate(tfgenTest)\n",
    "    #   print(\"\\n-------------------------EVAL-------------------------\")"
   ]
  },
  {
   "cell_type": "code",
   "execution_count": 43,
   "metadata": {},
   "outputs": [
    {
     "data": {
      "text/plain": [
       "6589"
      ]
     },
     "execution_count": 43,
     "metadata": {},
     "output_type": "execute_result"
    }
   ],
   "source": [
    "gc.collect()"
   ]
  },
  {
   "cell_type": "code",
   "execution_count": 44,
   "metadata": {
    "id": "JyggHiDGNTEX"
   },
   "outputs": [],
   "source": [
    "epoch_add = 0"
   ]
  },
  {
   "cell_type": "code",
   "execution_count": 45,
   "metadata": {
    "id": "-pJ08IBN7cgB"
   },
   "outputs": [],
   "source": [
    "CALLBACK_EVERY_N_BATCHES = 2000"
   ]
  },
  {
   "cell_type": "code",
   "execution_count": 46,
   "metadata": {
    "id": "CuGT0rFvzH1n"
   },
   "outputs": [],
   "source": [
    "cc = CustomCallback(checkpoint_path = CHECKPOINT_PATH,\n",
    "                    model_name = CHKPNT_NAME,\n",
    "                    save_freq = CALLBACK_EVERY_N_BATCHES,\n",
    "                    val_freq = CALLBACK_EVERY_N_BATCHES,\n",
    "                    epoch_add = epoch_add)"
   ]
  },
  {
   "cell_type": "code",
   "execution_count": 47,
   "metadata": {
    "id": "LuuH0xBKGE1g",
    "tags": []
   },
   "outputs": [],
   "source": [
    "# Load the TensorBoard notebook extension\n",
    "%load_ext tensorboard"
   ]
  },
  {
   "cell_type": "code",
   "execution_count": 48,
   "metadata": {
    "id": "0noHN-UeSCQ-"
   },
   "outputs": [],
   "source": [
    "%reload_ext tensorboard"
   ]
  },
  {
   "cell_type": "markdown",
   "metadata": {
    "id": "u7xAyqce3qYJ"
   },
   "source": [
    "The TensorBoard UI is displayed in a browser window. In this colab, perform the following steps to prepare to capture profile information.\n",
    "1.  Click on the dropdown menu box on the top right side and scroll down and click PROFILE. A new window appears that shows: **No profile data was found** at the top.\n",
    "1.  Click on the CAPTURE PROFILE button. A new dialog appears. The top input line shows: **Profile Service URL or TPU name**. Copy and paste the Profile Service URL (the service_addr value shown before launching TensorBoard) into the top input line. While still on the dialog box, start the training with the next step.\n",
    "1.  Click on the next colab cell to start training the model.\n",
    "1.  Watch the output from the training until several epochs have completed. This allows time for the profile data to start being collected. Return to the dialog box and click on the CAPTURE button. If the capture succeeds, the page will auto refresh and redirect you to the profiling results."
   ]
  },
  {
   "cell_type": "code",
   "execution_count": 49,
   "metadata": {
    "colab": {
     "base_uri": "https://localhost:8080/",
     "height": 35
    },
    "id": "mpUXurxwSp_3",
    "outputId": "8d57d014-c4bc-49e1-a434-179a5be0529c"
   },
   "outputs": [
    {
     "data": {
      "text/plain": [
       "'/content/bigdata/log/FPNWithAttentionBiggerTimebased_2_FutureOnly_60days_GPU_128LB20230330-063353'"
      ]
     },
     "execution_count": 49,
     "metadata": {},
     "output_type": "execute_result"
    }
   ],
   "source": [
    "# Todo: Create more elegant solution\n",
    "log_dir = \"gs://ticks_with_indicators_with_volume/logs/TPU/\" + CHKPNT_NAME + datetime.datetime.now().strftime(\"%Y%m%d-%H%M%S\")\n",
    "\n",
    "if not COLAB:\n",
    "    log_dir = os.path.join(\"/content/bigdata/log\",log_dir.split(\"/\")[-1])\n",
    "\n",
    "log_dir"
   ]
  },
  {
   "cell_type": "code",
   "execution_count": 50,
   "metadata": {
    "id": "_X-ab7uc3gTt"
   },
   "outputs": [
    {
     "name": "stderr",
     "output_type": "stream",
     "text": [
      "2023-03-30 06:33:53.876757: I tensorflow/core/profiler/lib/profiler_session.cc:101] Profiler session initializing.\n",
      "2023-03-30 06:33:53.876776: I tensorflow/core/profiler/lib/profiler_session.cc:116] Profiler session started.\n",
      "2023-03-30 06:33:53.876816: I tensorflow/core/profiler/backends/gpu/cupti_tracer.cc:1664] Profiler found 1 GPUs\n",
      "2023-03-30 06:33:53.877101: W tensorflow/stream_executor/platform/default/dso_loader.cc:64] Could not load dynamic library 'libcupti.so.11.2'; dlerror: libcupti.so.11.2: cannot open shared object file: No such file or directory\n",
      "2023-03-30 06:33:54.010360: I tensorflow/core/profiler/lib/profiler_session.cc:128] Profiler session tear down.\n",
      "2023-03-30 06:33:54.010546: I tensorflow/core/profiler/backends/gpu/cupti_tracer.cc:1798] CUPTI activity buffer flushed\n"
     ]
    }
   ],
   "source": [
    "import datetime\n",
    "\n",
    "tensorboard_callback = tf.keras.callbacks.TensorBoard(\n",
    "    log_dir=log_dir,\n",
    "    histogram_freq=1,\n",
    "    update_freq=CALLBACK_EVERY_N_BATCHES,\n",
    "    profile_batch=(5,100)\n",
    "    )"
   ]
  },
  {
   "cell_type": "code",
   "execution_count": 51,
   "metadata": {
    "tags": []
   },
   "outputs": [],
   "source": [
    "#model.load_weights(\"/content/bigdata/chk/FPNWithAttentionBigger_3_FutureOnly_GPU_256LB/cp_daily_valid_33_end/model.h5\")"
   ]
  },
  {
   "cell_type": "code",
   "execution_count": 52,
   "metadata": {
    "tags": []
   },
   "outputs": [
    {
     "data": {
      "text/html": [
       "\n",
       "      <iframe id=\"tensorboard-frame-bd44fd2268832938\" width=\"100%\" height=\"800\" frameborder=\"0\">\n",
       "      </iframe>\n",
       "      <script>\n",
       "        (function() {\n",
       "          const frame = document.getElementById(\"tensorboard-frame-bd44fd2268832938\");\n",
       "          const url = new URL(\"/\", window.location);\n",
       "          const port = 6006;\n",
       "          if (port) {\n",
       "            url.port = port;\n",
       "          }\n",
       "          frame.src = url;\n",
       "        })();\n",
       "      </script>\n",
       "    "
      ],
      "text/plain": [
       "<IPython.core.display.HTML object>"
      ]
     },
     "metadata": {},
     "output_type": "display_data"
    }
   ],
   "source": [
    "%tensorboard --logdir $log_dir --host 0.0.0.0 --port 6006"
   ]
  },
  {
   "cell_type": "code",
   "execution_count": 53,
   "metadata": {
    "tags": []
   },
   "outputs": [
    {
     "name": "stderr",
     "output_type": "stream",
     "text": [
      "INFO:root:File 'IE00B6X2VY59.csv' loaded, 531 left\n",
      "INFO:root:File 'IE00BYXVGZ48.csv' loaded, 530 left\n",
      "INFO:root:File 'DE000A0F5UF5.csv' loaded, 529 left\n",
      "INFO:root:File 'DE000ETFL441.csv' loaded, 528 left\n",
      "INFO:root:File 'LU1781541179.csv' loaded, 527 left\n",
      "INFO:root:File 'LU1650487926.csv' loaded, 526 left\n",
      "INFO:root:File 'LU1285960032.csv' loaded, 525 left\n",
      "INFO:root:File 'IE00B1FZSD53.csv' loaded, 524 left\n",
      "2023-03-30 06:34:14.635809: I tensorflow/stream_executor/cuda/cuda_dnn.cc:384] Loaded cuDNN version 8700\n",
      "INFO:root:File 'IE00B5KQNG97.csv' loaded, 523 left\n",
      "INFO:root:File 'IE00BYM31M36.csv' loaded, 522 left\n"
     ]
    },
    {
     "name": "stdout",
     "output_type": "stream",
     "text": [
      "      2/Unknown - 26s 558ms/step - loss: 1.6083e-04 - mae: 0.0092"
     ]
    },
    {
     "name": "stderr",
     "output_type": "stream",
     "text": [
      "INFO:root:File 'LU2082996542.csv' loaded, 521 left\n"
     ]
    },
    {
     "name": "stdout",
     "output_type": "stream",
     "text": [
      "      4/Unknown - 27s 702ms/step - loss: 8.8048e-05 - mae: 0.0061"
     ]
    },
    {
     "name": "stderr",
     "output_type": "stream",
     "text": [
      "2023-03-30 06:34:24.118653: I tensorflow/core/profiler/lib/profiler_session.cc:101] Profiler session initializing.\n",
      "2023-03-30 06:34:24.118683: I tensorflow/core/profiler/lib/profiler_session.cc:116] Profiler session started.\n",
      "INFO:root:File 'IE00BF4G7076.csv' loaded, 520 left\n"
     ]
    },
    {
     "name": "stdout",
     "output_type": "stream",
     "text": [
      "      6/Unknown - 29s 820ms/step - loss: 6.2457e-05 - mae: 0.0050WARNING:tensorflow:Callback method `on_train_batch_end` is slow compared to the batch time (batch time: 0.1493s vs `on_train_batch_end` time: 0.5530s). Check your callbacks.\n"
     ]
    },
    {
     "name": "stderr",
     "output_type": "stream",
     "text": [
      "WARNING:tensorflow:Callback method `on_train_batch_end` is slow compared to the batch time (batch time: 0.1493s vs `on_train_batch_end` time: 0.5530s). Check your callbacks.\n"
     ]
    },
    {
     "name": "stdout",
     "output_type": "stream",
     "text": [
      "     12/Unknown - 33s 681ms/step - loss: 3.8166e-05 - mae: 0.0040"
     ]
    },
    {
     "name": "stderr",
     "output_type": "stream",
     "text": [
      "INFO:root:File 'IE00BQN1K786.csv' loaded, 519 left\n"
     ]
    },
    {
     "name": "stdout",
     "output_type": "stream",
     "text": [
      "     16/Unknown - 36s 716ms/step - loss: 3.1483e-05 - mae: 0.0036"
     ]
    },
    {
     "name": "stderr",
     "output_type": "stream",
     "text": [
      "INFO:root:File 'LU0136240974.csv' loaded, 518 left\n"
     ]
    },
    {
     "name": "stdout",
     "output_type": "stream",
     "text": [
      "     25/Unknown - 44s 779ms/step - loss: 2.2785e-05 - mae: 0.0031"
     ]
    },
    {
     "name": "stderr",
     "output_type": "stream",
     "text": [
      "INFO:root:File 'IE00BLDGH447.csv' loaded, 517 left\n"
     ]
    },
    {
     "name": "stdout",
     "output_type": "stream",
     "text": [
      "     27/Unknown - 45s 767ms/step - loss: 2.1592e-05 - mae: 0.0030"
     ]
    },
    {
     "name": "stderr",
     "output_type": "stream",
     "text": [
      "INFO:root:File 'IE00BFTWP510.csv' loaded, 516 left\n"
     ]
    },
    {
     "name": "stdout",
     "output_type": "stream",
     "text": [
      "     30/Unknown - 48s 784ms/step - loss: 3.5945e-05 - mae: 0.0031"
     ]
    },
    {
     "name": "stderr",
     "output_type": "stream",
     "text": [
      "INFO:root:File 'IE00BQT3WG13.csv' loaded, 515 left\n"
     ]
    },
    {
     "name": "stdout",
     "output_type": "stream",
     "text": [
      "     36/Unknown - 52s 772ms/step - loss: 3.2593e-05 - mae: 0.0031"
     ]
    },
    {
     "name": "stderr",
     "output_type": "stream",
     "text": [
      "INFO:root:File 'LU1407888053.csv' loaded, 514 left\n"
     ]
    },
    {
     "name": "stdout",
     "output_type": "stream",
     "text": [
      "     50/Unknown - 61s 729ms/step - loss: 3.4855e-05 - mae: 0.0031"
     ]
    },
    {
     "name": "stderr",
     "output_type": "stream",
     "text": [
      "INFO:root:File 'IE00BMYDM794.csv' loaded, 513 left\n"
     ]
    },
    {
     "name": "stdout",
     "output_type": "stream",
     "text": [
      "     57/Unknown - 65s 711ms/step - loss: 3.2232e-05 - mae: 0.0031"
     ]
    },
    {
     "name": "stderr",
     "output_type": "stream",
     "text": [
      "INFO:root:File 'IE00B441G979.csv' loaded, 512 left\n"
     ]
    },
    {
     "name": "stdout",
     "output_type": "stream",
     "text": [
      "     58/Unknown - 67s 735ms/step - loss: 3.2000e-05 - mae: 0.0031"
     ]
    },
    {
     "name": "stderr",
     "output_type": "stream",
     "text": [
      "INFO:root:File 'IE00B8X9NY41.csv' loaded, 511 left\n"
     ]
    },
    {
     "name": "stdout",
     "output_type": "stream",
     "text": [
      "     60/Unknown - 70s 753ms/step - loss: 3.1268e-05 - mae: 0.0031"
     ]
    },
    {
     "name": "stderr",
     "output_type": "stream",
     "text": [
      "INFO:root:File 'IE00BMDH1538.csv' loaded, 510 left\n"
     ]
    },
    {
     "name": "stdout",
     "output_type": "stream",
     "text": [
      "     62/Unknown - 71s 748ms/step - loss: 3.0517e-05 - mae: 0.0030"
     ]
    },
    {
     "name": "stderr",
     "output_type": "stream",
     "text": [
      "INFO:root:File 'IE00BLF7VX27.csv' loaded, 509 left\n"
     ]
    },
    {
     "name": "stdout",
     "output_type": "stream",
     "text": [
      "     69/Unknown - 75s 732ms/step - loss: 2.8700e-05 - mae: 0.0030"
     ]
    },
    {
     "name": "stderr",
     "output_type": "stream",
     "text": [
      "INFO:root:File 'IE00BYMS5W68.csv' loaded, 508 left\n"
     ]
    },
    {
     "name": "stdout",
     "output_type": "stream",
     "text": [
      "     73/Unknown - 78s 732ms/step - loss: 2.7526e-05 - mae: 0.0029"
     ]
    },
    {
     "name": "stderr",
     "output_type": "stream",
     "text": [
      "INFO:root:File 'LU1079842321.csv' loaded, 507 left\n"
     ]
    },
    {
     "name": "stdout",
     "output_type": "stream",
     "text": [
      "     74/Unknown - 79s 730ms/step - loss: 2.7231e-05 - mae: 0.0029"
     ]
    },
    {
     "name": "stderr",
     "output_type": "stream",
     "text": [
      "INFO:root:File 'IE00BKVL7778.csv' loaded, 506 left\n"
     ]
    },
    {
     "name": "stdout",
     "output_type": "stream",
     "text": [
      "     75/Unknown - 80s 742ms/step - loss: 2.6925e-05 - mae: 0.0029"
     ]
    },
    {
     "name": "stderr",
     "output_type": "stream",
     "text": [
      "INFO:root:File 'LU1681045537.csv' loaded, 505 left\n"
     ]
    },
    {
     "name": "stdout",
     "output_type": "stream",
     "text": [
      "     77/Unknown - 83s 763ms/step - loss: 2.6415e-05 - mae: 0.0029"
     ]
    },
    {
     "name": "stderr",
     "output_type": "stream",
     "text": [
      "INFO:root:File 'IE00B60SX287.csv' loaded, 504 left\n"
     ]
    },
    {
     "name": "stdout",
     "output_type": "stream",
     "text": [
      "     88/Unknown - 91s 758ms/step - loss: 2.4152e-05 - mae: 0.0028"
     ]
    },
    {
     "name": "stderr",
     "output_type": "stream",
     "text": [
      "INFO:root:File 'IE00BJXRT698.csv' loaded, 503 left\n"
     ]
    },
    {
     "name": "stdout",
     "output_type": "stream",
     "text": [
      "     99/Unknown - 98s 740ms/step - loss: 2.2944e-05 - mae: 0.0028"
     ]
    },
    {
     "name": "stderr",
     "output_type": "stream",
     "text": [
      "2023-03-30 06:35:35.101198: I tensorflow/core/profiler/lib/profiler_session.cc:67] Profiler session collecting data.\n",
      "2023-03-30 06:35:35.104830: I tensorflow/core/profiler/backends/gpu/cupti_tracer.cc:1798] CUPTI activity buffer flushed\n",
      "2023-03-30 06:35:35.585342: I tensorflow/core/profiler/backends/gpu/cupti_collector.cc:521]  GpuTracer has collected 594721 callback api events and 597478 activity events. \n",
      "2023-03-30 06:35:41.455955: I tensorflow/core/profiler/lib/profiler_session.cc:128] Profiler session tear down.\n",
      "2023-03-30 06:35:47.102399: I tensorflow/core/profiler/rpc/client/save_profile.cc:136] Creating directory: /content/bigdata/log/FPNWithAttentionBiggerTimebased_2_FutureOnly_60days_GPU_128LB20230330-063353/plugins/profile/2023_03_30_06_35_41\n",
      "\n",
      "2023-03-30 06:35:51.005178: I tensorflow/core/profiler/rpc/client/save_profile.cc:142] Dumped gzipped tool data for trace.json.gz to /content/bigdata/log/FPNWithAttentionBiggerTimebased_2_FutureOnly_60days_GPU_128LB20230330-063353/plugins/profile/2023_03_30_06_35_41/f9a70a97a93c.trace.json.gz\n",
      "2023-03-30 06:35:55.114278: I tensorflow/core/profiler/rpc/client/save_profile.cc:136] Creating directory: /content/bigdata/log/FPNWithAttentionBiggerTimebased_2_FutureOnly_60days_GPU_128LB20230330-063353/plugins/profile/2023_03_30_06_35_41\n",
      "\n",
      "2023-03-30 06:35:55.128998: I tensorflow/core/profiler/rpc/client/save_profile.cc:142] Dumped gzipped tool data for memory_profile.json.gz to /content/bigdata/log/FPNWithAttentionBiggerTimebased_2_FutureOnly_60days_GPU_128LB20230330-063353/plugins/profile/2023_03_30_06_35_41/f9a70a97a93c.memory_profile.json.gz\n",
      "2023-03-30 06:35:55.624785: I tensorflow/core/profiler/rpc/client/capture_profile.cc:251] Creating directory: /content/bigdata/log/FPNWithAttentionBiggerTimebased_2_FutureOnly_60days_GPU_128LB20230330-063353/plugins/profile/2023_03_30_06_35_41\n",
      "Dumped tool data for xplane.pb to /content/bigdata/log/FPNWithAttentionBiggerTimebased_2_FutureOnly_60days_GPU_128LB20230330-063353/plugins/profile/2023_03_30_06_35_41/f9a70a97a93c.xplane.pb\n",
      "Dumped tool data for overview_page.pb to /content/bigdata/log/FPNWithAttentionBiggerTimebased_2_FutureOnly_60days_GPU_128LB20230330-063353/plugins/profile/2023_03_30_06_35_41/f9a70a97a93c.overview_page.pb\n",
      "Dumped tool data for input_pipeline.pb to /content/bigdata/log/FPNWithAttentionBiggerTimebased_2_FutureOnly_60days_GPU_128LB20230330-063353/plugins/profile/2023_03_30_06_35_41/f9a70a97a93c.input_pipeline.pb\n",
      "Dumped tool data for tensorflow_stats.pb to /content/bigdata/log/FPNWithAttentionBiggerTimebased_2_FutureOnly_60days_GPU_128LB20230330-063353/plugins/profile/2023_03_30_06_35_41/f9a70a97a93c.tensorflow_stats.pb\n",
      "Dumped tool data for kernel_stats.pb to /content/bigdata/log/FPNWithAttentionBiggerTimebased_2_FutureOnly_60days_GPU_128LB20230330-063353/plugins/profile/2023_03_30_06_35_41/f9a70a97a93c.kernel_stats.pb\n",
      "\n"
     ]
    },
    {
     "name": "stdout",
     "output_type": "stream",
     "text": [
      "    101/Unknown - 120s 947ms/step - loss: 2.2601e-05 - mae: 0.0027"
     ]
    },
    {
     "name": "stderr",
     "output_type": "stream",
     "text": [
      "INFO:root:File 'IE00B40B8R38.csv' loaded, 502 left\n"
     ]
    },
    {
     "name": "stdout",
     "output_type": "stream",
     "text": [
      "    104/Unknown - 122s 943ms/step - loss: 2.2112e-05 - mae: 0.0027"
     ]
    },
    {
     "name": "stderr",
     "output_type": "stream",
     "text": [
      "INFO:root:File 'IE00BYTH5T38.csv' loaded, 501 left\n"
     ]
    },
    {
     "name": "stdout",
     "output_type": "stream",
     "text": [
      "    106/Unknown - 124s 937ms/step - loss: 2.1797e-05 - mae: 0.0027"
     ]
    },
    {
     "name": "stderr",
     "output_type": "stream",
     "text": [
      "INFO:root:File 'IE00077FRP95.csv' loaded, 500 left\n"
     ]
    },
    {
     "name": "stdout",
     "output_type": "stream",
     "text": [
      "    110/Unknown - 126s 923ms/step - loss: 2.1186e-05 - mae: 0.0027"
     ]
    },
    {
     "name": "stderr",
     "output_type": "stream",
     "text": [
      "INFO:root:File 'DE0002635273.csv' loaded, 499 left\n"
     ]
    },
    {
     "name": "stdout",
     "output_type": "stream",
     "text": [
      "    112/Unknown - 129s 938ms/step - loss: 2.1007e-05 - mae: 0.0027"
     ]
    },
    {
     "name": "stderr",
     "output_type": "stream",
     "text": [
      "INFO:root:File 'IE00B5WHFQ43.csv' loaded, 498 left\n"
     ]
    },
    {
     "name": "stdout",
     "output_type": "stream",
     "text": [
      "    117/Unknown - 134s 936ms/step - loss: 2.0349e-05 - mae: 0.0026"
     ]
    },
    {
     "name": "stderr",
     "output_type": "stream",
     "text": [
      "INFO:root:File 'IE00BKVL7D31.csv' loaded, 497 left\n"
     ]
    },
    {
     "name": "stdout",
     "output_type": "stream",
     "text": [
      "    126/Unknown - 139s 911ms/step - loss: 1.9454e-05 - mae: 0.0026"
     ]
    },
    {
     "name": "stderr",
     "output_type": "stream",
     "text": [
      "INFO:root:File 'LU2356220926.csv' loaded, 496 left\n"
     ]
    },
    {
     "name": "stdout",
     "output_type": "stream",
     "text": [
      "    132/Unknown - 143s 895ms/step - loss: 1.8882e-05 - mae: 0.0025"
     ]
    },
    {
     "name": "stderr",
     "output_type": "stream",
     "text": [
      "INFO:root:File 'IE00BYZK4883.csv' loaded, 495 left\n"
     ]
    },
    {
     "name": "stdout",
     "output_type": "stream",
     "text": [
      "    133/Unknown - 144s 898ms/step - loss: 1.8785e-05 - mae: 0.0025"
     ]
    },
    {
     "name": "stderr",
     "output_type": "stream",
     "text": [
      "INFO:root:File 'IE00B4YBJ215.csv' loaded, 494 left\n"
     ]
    },
    {
     "name": "stdout",
     "output_type": "stream",
     "text": [
      "    134/Unknown - 146s 907ms/step - loss: 1.8715e-05 - mae: 0.0025"
     ]
    },
    {
     "name": "stderr",
     "output_type": "stream",
     "text": [
      "INFO:root:File 'IE00BMDKNW35.csv' loaded, 493 left\n"
     ]
    },
    {
     "name": "stdout",
     "output_type": "stream",
     "text": [
      "    136/Unknown - 147s 903ms/step - loss: 1.8538e-05 - mae: 0.0025"
     ]
    },
    {
     "name": "stderr",
     "output_type": "stream",
     "text": [
      "INFO:root:File 'LU1769088581.csv' loaded, 492 left\n"
     ]
    },
    {
     "name": "stdout",
     "output_type": "stream",
     "text": [
      "    141/Unknown - 151s 895ms/step - loss: 1.8175e-05 - mae: 0.0025"
     ]
    },
    {
     "name": "stderr",
     "output_type": "stream",
     "text": [
      "INFO:root:File 'IE00B6YX5B26.csv' loaded, 491 left\n"
     ]
    },
    {
     "name": "stdout",
     "output_type": "stream",
     "text": [
      "    149/Unknown - 157s 887ms/step - loss: 1.7449e-05 - mae: 0.0025"
     ]
    },
    {
     "name": "stderr",
     "output_type": "stream",
     "text": [
      "INFO:root:File 'LU2023678449.csv' loaded, 490 left\n"
     ]
    },
    {
     "name": "stdout",
     "output_type": "stream",
     "text": [
      "    154/Unknown - 160s 878ms/step - loss: 1.7092e-05 - mae: 0.0025"
     ]
    },
    {
     "name": "stderr",
     "output_type": "stream",
     "text": [
      "INFO:root:File 'LU1953188833.csv' loaded, 489 left\n"
     ]
    },
    {
     "name": "stdout",
     "output_type": "stream",
     "text": [
      "    162/Unknown - 165s 865ms/step - loss: 1.6636e-05 - mae: 0.0024"
     ]
    },
    {
     "name": "stderr",
     "output_type": "stream",
     "text": [
      "INFO:root:File 'LU1861134382.csv' loaded, 488 left\n"
     ]
    },
    {
     "name": "stdout",
     "output_type": "stream",
     "text": [
      "    164/Unknown - 166s 864ms/step - loss: 1.6620e-05 - mae: 0.0024"
     ]
    },
    {
     "name": "stderr",
     "output_type": "stream",
     "text": [
      "INFO:root:File 'IE00BLRPN388.csv' loaded, 487 left\n"
     ]
    },
    {
     "name": "stdout",
     "output_type": "stream",
     "text": [
      "    166/Unknown - 167s 861ms/step - loss: 1.6624e-05 - mae: 0.0024"
     ]
    },
    {
     "name": "stderr",
     "output_type": "stream",
     "text": [
      "INFO:root:File 'LU1781540957.csv' loaded, 486 left\n"
     ]
    },
    {
     "name": "stdout",
     "output_type": "stream",
     "text": [
      "    172/Unknown - 171s 854ms/step - loss: 1.6804e-05 - mae: 0.0024"
     ]
    },
    {
     "name": "stderr",
     "output_type": "stream",
     "text": [
      "INFO:root:File 'IE00BD9MMF62.csv' loaded, 485 left\n"
     ]
    },
    {
     "name": "stdout",
     "output_type": "stream",
     "text": [
      "    175/Unknown - 174s 852ms/step - loss: 1.7116e-05 - mae: 0.0024"
     ]
    },
    {
     "name": "stderr",
     "output_type": "stream",
     "text": [
      "INFO:root:File 'LU1806495575.csv' loaded, 484 left\n"
     ]
    },
    {
     "name": "stdout",
     "output_type": "stream",
     "text": [
      "    181/Unknown - 177s 846ms/step - loss: 1.6880e-05 - mae: 0.0024"
     ]
    },
    {
     "name": "stderr",
     "output_type": "stream",
     "text": [
      "INFO:root:File 'DE000A0H08N1.csv' loaded, 483 left\n"
     ]
    },
    {
     "name": "stdout",
     "output_type": "stream",
     "text": [
      "    186/Unknown - 183s 851ms/step - loss: 1.6857e-05 - mae: 0.0025"
     ]
    },
    {
     "name": "stderr",
     "output_type": "stream",
     "text": [
      "INFO:root:File 'LU2082997946.csv' loaded, 482 left\n"
     ]
    },
    {
     "name": "stdout",
     "output_type": "stream",
     "text": [
      "    193/Unknown - 187s 842ms/step - loss: 1.6609e-05 - mae: 0.0025"
     ]
    },
    {
     "name": "stderr",
     "output_type": "stream",
     "text": [
      "INFO:root:File 'DE0002635307.csv' loaded, 481 left\n"
     ]
    },
    {
     "name": "stdout",
     "output_type": "stream",
     "text": [
      "    194/Unknown - 188s 842ms/step - loss: 1.6565e-05 - mae: 0.0025"
     ]
    },
    {
     "name": "stderr",
     "output_type": "stream",
     "text": [
      "INFO:root:File 'IE00BWBXM492.csv' loaded, 480 left\n"
     ]
    },
    {
     "name": "stdout",
     "output_type": "stream",
     "text": [
      "    197/Unknown - 193s 855ms/step - loss: 1.6485e-05 - mae: 0.0025"
     ]
    },
    {
     "name": "stderr",
     "output_type": "stream",
     "text": [
      "INFO:root:File 'IE00BC7GZJ81.csv' loaded, 479 left\n"
     ]
    },
    {
     "name": "stdout",
     "output_type": "stream",
     "text": [
      "    198/Unknown - 195s 859ms/step - loss: 1.6463e-05 - mae: 0.0025"
     ]
    },
    {
     "name": "stderr",
     "output_type": "stream",
     "text": [
      "INFO:root:File 'LU0832436512.csv' loaded, 478 left\n"
     ]
    },
    {
     "name": "stdout",
     "output_type": "stream",
     "text": [
      "    200/Unknown - 197s 864ms/step - loss: 1.6379e-05 - mae: 0.0024"
     ]
    },
    {
     "name": "stderr",
     "output_type": "stream",
     "text": [
      "INFO:root:File 'IE00BD3V0B10.csv' loaded, 477 left\n"
     ]
    },
    {
     "name": "stdout",
     "output_type": "stream",
     "text": [
      "    204/Unknown - 200s 861ms/step - loss: 1.6283e-05 - mae: 0.0024"
     ]
    },
    {
     "name": "stderr",
     "output_type": "stream",
     "text": [
      "INFO:root:File 'IE00BYTRR863.csv' loaded, 476 left\n"
     ]
    },
    {
     "name": "stdout",
     "output_type": "stream",
     "text": [
      "    210/Unknown - 204s 856ms/step - loss: 1.7557e-05 - mae: 0.0025"
     ]
    },
    {
     "name": "stderr",
     "output_type": "stream",
     "text": [
      "INFO:root:File 'DE000ETFL037.csv' loaded, 475 left\n"
     ]
    },
    {
     "name": "stdout",
     "output_type": "stream",
     "text": [
      "    225/Unknown - 215s 846ms/step - loss: 2.2535e-05 - mae: 0.0025"
     ]
    },
    {
     "name": "stderr",
     "output_type": "stream",
     "text": [
      "INFO:root:File 'IE00B60SX170.csv' loaded, 474 left\n"
     ]
    },
    {
     "name": "stdout",
     "output_type": "stream",
     "text": [
      "    236/Unknown - 223s 841ms/step - loss: 2.4703e-05 - mae: 0.0026"
     ]
    },
    {
     "name": "stderr",
     "output_type": "stream",
     "text": [
      "INFO:root:File 'LU1215454460.csv' loaded, 473 left\n"
     ]
    },
    {
     "name": "stdout",
     "output_type": "stream",
     "text": [
      "    241/Unknown - 227s 839ms/step - loss: 2.4431e-05 - mae: 0.0026"
     ]
    },
    {
     "name": "stderr",
     "output_type": "stream",
     "text": [
      "INFO:root:File 'IE00BJXRZ273.csv' loaded, 472 left\n"
     ]
    },
    {
     "name": "stdout",
     "output_type": "stream",
     "text": [
      "    249/Unknown - 231s 831ms/step - loss: 2.4193e-05 - mae: 0.0026"
     ]
    },
    {
     "name": "stderr",
     "output_type": "stream",
     "text": [
      "INFO:root:File 'IE00BKT1CS59.csv' loaded, 471 left\n"
     ]
    },
    {
     "name": "stdout",
     "output_type": "stream",
     "text": [
      "    255/Unknown - 235s 826ms/step - loss: 2.4032e-05 - mae: 0.0026"
     ]
    },
    {
     "name": "stderr",
     "output_type": "stream",
     "text": [
      "INFO:root:File 'LU1287023342.csv' loaded, 470 left\n"
     ]
    },
    {
     "name": "stdout",
     "output_type": "stream",
     "text": [
      "    257/Unknown - 238s 831ms/step - loss: 2.4047e-05 - mae: 0.0027"
     ]
    },
    {
     "name": "stderr",
     "output_type": "stream",
     "text": [
      "INFO:root:File 'LU1981859819.csv' loaded, 469 left\n"
     ]
    },
    {
     "name": "stdout",
     "output_type": "stream",
     "text": [
      "    264/Unknown - 242s 826ms/step - loss: 2.3955e-05 - mae: 0.0027"
     ]
    },
    {
     "name": "stderr",
     "output_type": "stream",
     "text": [
      "INFO:root:File 'LU1841731745.csv' loaded, 468 left\n"
     ]
    },
    {
     "name": "stdout",
     "output_type": "stream",
     "text": [
      "    274/Unknown - 249s 818ms/step - loss: 2.3486e-05 - mae: 0.0026"
     ]
    },
    {
     "name": "stderr",
     "output_type": "stream",
     "text": [
      "INFO:root:File 'IE000L5NW549.csv' loaded, 467 left\n"
     ]
    },
    {
     "name": "stdout",
     "output_type": "stream",
     "text": [
      "    277/Unknown - 250s 815ms/step - loss: 2.3770e-05 - mae: 0.0026"
     ]
    },
    {
     "name": "stderr",
     "output_type": "stream",
     "text": [
      "INFO:root:File 'IE00B4LN9N13.csv' loaded, 466 left\n"
     ]
    },
    {
     "name": "stdout",
     "output_type": "stream",
     "text": [
      "    280/Unknown - 253s 815ms/step - loss: 2.3641e-05 - mae: 0.0026"
     ]
    },
    {
     "name": "stderr",
     "output_type": "stream",
     "text": [
      "INFO:root:File 'FR0010869578.csv' loaded, 465 left\n"
     ]
    },
    {
     "name": "stdout",
     "output_type": "stream",
     "text": [
      "    287/Unknown - 258s 815ms/step - loss: 2.3338e-05 - mae: 0.0026"
     ]
    },
    {
     "name": "stderr",
     "output_type": "stream",
     "text": [
      "INFO:root:File 'IE00BCRY6557.csv' loaded, 464 left\n"
     ]
    },
    {
     "name": "stdout",
     "output_type": "stream",
     "text": [
      "    293/Unknown - 263s 814ms/step - loss: 2.2981e-05 - mae: 0.0026"
     ]
    },
    {
     "name": "stderr",
     "output_type": "stream",
     "text": [
      "INFO:root:File 'LU2090062949.csv' loaded, 463 left\n"
     ]
    },
    {
     "name": "stdout",
     "output_type": "stream",
     "text": [
      "    297/Unknown - 265s 811ms/step - loss: 2.2744e-05 - mae: 0.0026"
     ]
    },
    {
     "name": "stderr",
     "output_type": "stream",
     "text": [
      "INFO:root:File 'IE00B5M1WJ87.csv' loaded, 462 left\n"
     ]
    },
    {
     "name": "stdout",
     "output_type": "stream",
     "text": [
      "    300/Unknown - 269s 814ms/step - loss: 2.2581e-05 - mae: 0.0026"
     ]
    },
    {
     "name": "stderr",
     "output_type": "stream",
     "text": [
      "INFO:root:File 'IE00B1TXHL60.csv' loaded, 461 left\n"
     ]
    },
    {
     "name": "stdout",
     "output_type": "stream",
     "text": [
      "    303/Unknown - 272s 818ms/step - loss: 2.3875e-05 - mae: 0.0026"
     ]
    },
    {
     "name": "stderr",
     "output_type": "stream",
     "text": [
      "INFO:root:File 'IE00BMQ8YK98.csv' loaded, 460 left\n"
     ]
    },
    {
     "name": "stdout",
     "output_type": "stream",
     "text": [
      "    305/Unknown - 274s 817ms/step - loss: 2.3823e-05 - mae: 0.0026"
     ]
    },
    {
     "name": "stderr",
     "output_type": "stream",
     "text": [
      "INFO:root:File 'IE00BKWQ0D84.csv' loaded, 459 left\n"
     ]
    },
    {
     "name": "stdout",
     "output_type": "stream",
     "text": [
      "    308/Unknown - 276s 818ms/step - loss: 2.3711e-05 - mae: 0.0026"
     ]
    },
    {
     "name": "stderr",
     "output_type": "stream",
     "text": [
      "INFO:root:File 'LU1525418643.csv' loaded, 458 left\n"
     ]
    },
    {
     "name": "stdout",
     "output_type": "stream",
     "text": [
      "    309/Unknown - 278s 819ms/step - loss: 2.3656e-05 - mae: 0.0026"
     ]
    },
    {
     "name": "stderr",
     "output_type": "stream",
     "text": [
      "INFO:root:File 'IE00BJK9H753.csv' loaded, 457 left\n"
     ]
    },
    {
     "name": "stdout",
     "output_type": "stream",
     "text": [
      "    328/Unknown - 289s 806ms/step - loss: 2.2767e-05 - mae: 0.0026"
     ]
    },
    {
     "name": "stderr",
     "output_type": "stream",
     "text": [
      "INFO:root:File 'LU2082997359.csv' loaded, 456 left\n"
     ]
    },
    {
     "name": "stdout",
     "output_type": "stream",
     "text": [
      "    332/Unknown - 291s 804ms/step - loss: 2.2594e-05 - mae: 0.0026"
     ]
    },
    {
     "name": "stderr",
     "output_type": "stream",
     "text": [
      "INFO:root:File 'IE00B6YX5L24.csv' loaded, 455 left\n"
     ]
    },
    {
     "name": "stdout",
     "output_type": "stream",
     "text": [
      "    339/Unknown - 297s 803ms/step - loss: 2.2506e-05 - mae: 0.0026"
     ]
    },
    {
     "name": "stderr",
     "output_type": "stream",
     "text": [
      "INFO:root:File 'LU2082996898.csv' loaded, 454 left\n"
     ]
    },
    {
     "name": "stdout",
     "output_type": "stream",
     "text": [
      "    340/Unknown - 297s 803ms/step - loss: 2.2521e-05 - mae: 0.0026"
     ]
    },
    {
     "name": "stderr",
     "output_type": "stream",
     "text": [
      "INFO:root:File 'IE00B3B8PX14.csv' loaded, 453 left\n"
     ]
    },
    {
     "name": "stdout",
     "output_type": "stream",
     "text": [
      "    341/Unknown - 300s 808ms/step - loss: 2.2494e-05 - mae: 0.0026"
     ]
    },
    {
     "name": "stderr",
     "output_type": "stream",
     "text": [
      "INFO:root:File 'IE00B02KXL92.csv' loaded, 452 left\n"
     ]
    },
    {
     "name": "stdout",
     "output_type": "stream",
     "text": [
      "    350/Unknown - 308s 810ms/step - loss: 2.5594e-05 - mae: 0.0026"
     ]
    },
    {
     "name": "stderr",
     "output_type": "stream",
     "text": [
      "INFO:root:File 'LU1681041205.csv' loaded, 451 left\n"
     ]
    },
    {
     "name": "stdout",
     "output_type": "stream",
     "text": [
      "    351/Unknown - 308s 809ms/step - loss: 2.5575e-05 - mae: 0.0026"
     ]
    },
    {
     "name": "stderr",
     "output_type": "stream",
     "text": [
      "INFO:root:File 'IE00BHZPJ015.csv' loaded, 450 left\n"
     ]
    },
    {
     "name": "stdout",
     "output_type": "stream",
     "text": [
      "    352/Unknown - 311s 814ms/step - loss: 2.5543e-05 - mae: 0.0026"
     ]
    },
    {
     "name": "stderr",
     "output_type": "stream",
     "text": [
      "INFO:root:File 'LU0959210278.csv' loaded, 449 left\n"
     ]
    },
    {
     "name": "stdout",
     "output_type": "stream",
     "text": [
      "    358/Unknown - 316s 814ms/step - loss: 2.5744e-05 - mae: 0.0026"
     ]
    },
    {
     "name": "stderr",
     "output_type": "stream",
     "text": [
      "INFO:root:File 'IE000KPJJWM6.csv' loaded, 448 left\n",
      "WARNING:root:Caught StopIteration in filling missing values for 'IE000KPJJWM6.csv', starting with completely new batch blocks\n",
      "INFO:root:File 'IE00BKWQ0M75.csv' loaded, 447 left\n"
     ]
    },
    {
     "name": "stdout",
     "output_type": "stream",
     "text": [
      "    371/Unknown - 324s 808ms/step - loss: 2.7943e-05 - mae: 0.0027"
     ]
    },
    {
     "name": "stderr",
     "output_type": "stream",
     "text": [
      "INFO:root:File 'IE000NDWFGA5.csv' loaded, 446 left\n"
     ]
    },
    {
     "name": "stdout",
     "output_type": "stream",
     "text": [
      "    374/Unknown - 326s 806ms/step - loss: 2.7774e-05 - mae: 0.0027"
     ]
    },
    {
     "name": "stderr",
     "output_type": "stream",
     "text": [
      "INFO:root:File 'IE00BYSZ5R67.csv' loaded, 445 left\n"
     ]
    },
    {
     "name": "stdout",
     "output_type": "stream",
     "text": [
      "    389/Unknown - 335s 799ms/step - loss: 2.6982e-05 - mae: 0.0026"
     ]
    },
    {
     "name": "stderr",
     "output_type": "stream",
     "text": [
      "INFO:root:File 'IE00BGJWWY63.csv' loaded, 444 left\n"
     ]
    },
    {
     "name": "stdout",
     "output_type": "stream",
     "text": [
      "    392/Unknown - 337s 798ms/step - loss: 2.6831e-05 - mae: 0.0026"
     ]
    },
    {
     "name": "stderr",
     "output_type": "stream",
     "text": [
      "INFO:root:File 'IE00BJK9HD13.csv' loaded, 443 left\n"
     ]
    },
    {
     "name": "stdout",
     "output_type": "stream",
     "text": [
      "    403/Unknown - 344s 793ms/step - loss: 2.6303e-05 - mae: 0.0026"
     ]
    },
    {
     "name": "stderr",
     "output_type": "stream",
     "text": [
      "INFO:root:File 'IE00BMH5Y871.csv' loaded, 442 left\n"
     ]
    },
    {
     "name": "stdout",
     "output_type": "stream",
     "text": [
      "    404/Unknown - 345s 792ms/step - loss: 2.6252e-05 - mae: 0.0026"
     ]
    },
    {
     "name": "stderr",
     "output_type": "stream",
     "text": [
      "INFO:root:File 'IE00BYV1Y969.csv' loaded, 441 left\n"
     ]
    },
    {
     "name": "stdout",
     "output_type": "stream",
     "text": [
      "    407/Unknown - 347s 792ms/step - loss: 2.6115e-05 - mae: 0.0026"
     ]
    },
    {
     "name": "stderr",
     "output_type": "stream",
     "text": [
      "INFO:root:File 'LU0392496427.csv' loaded, 440 left\n"
     ]
    },
    {
     "name": "stdout",
     "output_type": "stream",
     "text": [
      "    409/Unknown - 350s 796ms/step - loss: 2.6020e-05 - mae: 0.0026"
     ]
    },
    {
     "name": "stderr",
     "output_type": "stream",
     "text": [
      "INFO:root:File 'IE00BNDS1P30.csv' loaded, 439 left\n"
     ]
    },
    {
     "name": "stdout",
     "output_type": "stream",
     "text": [
      "    411/Unknown - 351s 795ms/step - loss: 2.5926e-05 - mae: 0.0026"
     ]
    },
    {
     "name": "stderr",
     "output_type": "stream",
     "text": [
      "INFO:root:File 'IE00B3CNHJ55.csv' loaded, 438 left\n"
     ]
    },
    {
     "name": "stdout",
     "output_type": "stream",
     "text": [
      "    412/Unknown - 353s 798ms/step - loss: 2.5882e-05 - mae: 0.0026"
     ]
    },
    {
     "name": "stderr",
     "output_type": "stream",
     "text": [
      "INFO:root:File 'DE000A0H08H3.csv' loaded, 437 left\n"
     ]
    },
    {
     "name": "stdout",
     "output_type": "stream",
     "text": [
      "    417/Unknown - 359s 803ms/step - loss: 2.5652e-05 - mae: 0.0026"
     ]
    },
    {
     "name": "stderr",
     "output_type": "stream",
     "text": [
      "INFO:root:File 'IE00BHXMHL11.csv' loaded, 436 left\n"
     ]
    },
    {
     "name": "stdout",
     "output_type": "stream",
     "text": [
      "    418/Unknown - 360s 803ms/step - loss: 2.5607e-05 - mae: 0.0026"
     ]
    },
    {
     "name": "stderr",
     "output_type": "stream",
     "text": [
      "INFO:root:File 'IE00BYTRRC02.csv' loaded, 435 left\n"
     ]
    },
    {
     "name": "stdout",
     "output_type": "stream",
     "text": [
      "    422/Unknown - 363s 803ms/step - loss: 2.5445e-05 - mae: 0.0026"
     ]
    },
    {
     "name": "stderr",
     "output_type": "stream",
     "text": [
      "INFO:root:File 'DE000ETF7011.csv' loaded, 434 left\n"
     ]
    },
    {
     "name": "stdout",
     "output_type": "stream",
     "text": [
      "    431/Unknown - 369s 800ms/step - loss: 2.5039e-05 - mae: 0.0026"
     ]
    },
    {
     "name": "stderr",
     "output_type": "stream",
     "text": [
      "INFO:root:File 'IE00BYPLS672.csv' loaded, 433 left\n"
     ]
    },
    {
     "name": "stdout",
     "output_type": "stream",
     "text": [
      "    437/Unknown - 374s 799ms/step - loss: 2.4802e-05 - mae: 0.0026"
     ]
    },
    {
     "name": "stderr",
     "output_type": "stream",
     "text": [
      "INFO:root:File 'IE00B2NPL135.csv' loaded, 432 left\n"
     ]
    },
    {
     "name": "stdout",
     "output_type": "stream",
     "text": [
      "    444/Unknown - 379s 800ms/step - loss: 2.4771e-05 - mae: 0.0026"
     ]
    },
    {
     "name": "stderr",
     "output_type": "stream",
     "text": [
      "INFO:root:File 'DE000ETFL565.csv' loaded, 431 left\n"
     ]
    },
    {
     "name": "stdout",
     "output_type": "stream",
     "text": [
      "    455/Unknown - 386s 794ms/step - loss: 2.4416e-05 - mae: 0.0025"
     ]
    },
    {
     "name": "stderr",
     "output_type": "stream",
     "text": [
      "INFO:root:File 'IE00BYSX4846.csv' loaded, 430 left\n"
     ]
    },
    {
     "name": "stdout",
     "output_type": "stream",
     "text": [
      "    457/Unknown - 388s 795ms/step - loss: 2.4323e-05 - mae: 0.0025"
     ]
    },
    {
     "name": "stderr",
     "output_type": "stream",
     "text": [
      "INFO:root:File 'IE0032895942.csv' loaded, 429 left\n"
     ]
    },
    {
     "name": "stdout",
     "output_type": "stream",
     "text": [
      "    459/Unknown - 392s 800ms/step - loss: 2.4234e-05 - mae: 0.0025"
     ]
    },
    {
     "name": "stderr",
     "output_type": "stream",
     "text": [
      "INFO:root:File 'LU1230561679.csv' loaded, 428 left\n"
     ]
    },
    {
     "name": "stdout",
     "output_type": "stream",
     "text": [
      "    471/Unknown - 399s 796ms/step - loss: 2.3759e-05 - mae: 0.0025"
     ]
    },
    {
     "name": "stderr",
     "output_type": "stream",
     "text": [
      "INFO:root:File 'IE00BZ048462.csv' loaded, 427 left\n"
     ]
    },
    {
     "name": "stdout",
     "output_type": "stream",
     "text": [
      "    483/Unknown - 407s 792ms/step - loss: 2.3374e-05 - mae: 0.0025"
     ]
    },
    {
     "name": "stderr",
     "output_type": "stream",
     "text": [
      "INFO:root:File 'LU1829218822.csv' loaded, 426 left\n"
     ]
    },
    {
     "name": "stdout",
     "output_type": "stream",
     "text": [
      "    486/Unknown - 410s 794ms/step - loss: 2.3263e-05 - mae: 0.0025"
     ]
    },
    {
     "name": "stderr",
     "output_type": "stream",
     "text": [
      "INFO:root:File 'LU2182388400.csv' loaded, 425 left\n"
     ]
    },
    {
     "name": "stdout",
     "output_type": "stream",
     "text": [
      "    492/Unknown - 414s 792ms/step - loss: 2.3113e-05 - mae: 0.0025"
     ]
    },
    {
     "name": "stderr",
     "output_type": "stream",
     "text": [
      "INFO:root:File 'IE00BM8R0N95.csv' loaded, 424 left\n"
     ]
    },
    {
     "name": "stdout",
     "output_type": "stream",
     "text": [
      "    497/Unknown - 417s 789ms/step - loss: 2.2928e-05 - mae: 0.0025"
     ]
    },
    {
     "name": "stderr",
     "output_type": "stream",
     "text": [
      "INFO:root:File 'IE00BK5BR626.csv' loaded, 423 left\n"
     ]
    },
    {
     "name": "stdout",
     "output_type": "stream",
     "text": [
      "    498/Unknown - 417s 789ms/step - loss: 2.2889e-05 - mae: 0.0025"
     ]
    },
    {
     "name": "stderr",
     "output_type": "stream",
     "text": [
      "INFO:root:File 'IE00B4L5YC18.csv' loaded, 422 left\n"
     ]
    },
    {
     "name": "stdout",
     "output_type": "stream",
     "text": [
      "    500/Unknown - 421s 792ms/step - loss: 2.2819e-05 - mae: 0.0025"
     ]
    },
    {
     "name": "stderr",
     "output_type": "stream",
     "text": [
      "INFO:root:File 'LU2197908721.csv' loaded, 421 left\n"
     ]
    },
    {
     "name": "stdout",
     "output_type": "stream",
     "text": [
      "    501/Unknown - 421s 792ms/step - loss: 2.2790e-05 - mae: 0.0025"
     ]
    },
    {
     "name": "stderr",
     "output_type": "stream",
     "text": [
      "INFO:root:File 'IE00B1FZS798.csv' loaded, 420 left\n"
     ]
    },
    {
     "name": "stdout",
     "output_type": "stream",
     "text": [
      "    512/Unknown - 430s 792ms/step - loss: 2.2468e-05 - mae: 0.0025"
     ]
    },
    {
     "name": "stderr",
     "output_type": "stream",
     "text": [
      "INFO:root:File 'IE00BYV1YH46.csv' loaded, 419 left\n"
     ]
    },
    {
     "name": "stdout",
     "output_type": "stream",
     "text": [
      "    515/Unknown - 432s 792ms/step - loss: 2.2379e-05 - mae: 0.0025"
     ]
    },
    {
     "name": "stderr",
     "output_type": "stream",
     "text": [
      "INFO:root:File 'IE00B3YLTY66.csv' loaded, 418 left\n"
     ]
    },
    {
     "name": "stdout",
     "output_type": "stream",
     "text": [
      "    521/Unknown - 437s 792ms/step - loss: 2.2195e-05 - mae: 0.0025"
     ]
    },
    {
     "name": "stderr",
     "output_type": "stream",
     "text": [
      "INFO:root:File 'IE00BL0BMZ89.csv' loaded, 417 left\n"
     ]
    },
    {
     "name": "stdout",
     "output_type": "stream",
     "text": [
      "    527/Unknown - 441s 790ms/step - loss: 2.2067e-05 - mae: 0.0025"
     ]
    },
    {
     "name": "stderr",
     "output_type": "stream",
     "text": [
      "INFO:root:File 'IE000EBFYWX3.csv' loaded, 416 left\n"
     ]
    },
    {
     "name": "stdout",
     "output_type": "stream",
     "text": [
      "    531/Unknown - 443s 788ms/step - loss: 2.1938e-05 - mae: 0.0025"
     ]
    },
    {
     "name": "stderr",
     "output_type": "stream",
     "text": [
      "INFO:root:File 'LU1829219390.csv' loaded, 415 left\n"
     ]
    },
    {
     "name": "stdout",
     "output_type": "stream",
     "text": [
      "    534/Unknown - 446s 789ms/step - loss: 2.1840e-05 - mae: 0.0024"
     ]
    },
    {
     "name": "stderr",
     "output_type": "stream",
     "text": [
      "INFO:root:File 'DE0005933931.csv' loaded, 414 left\n"
     ]
    },
    {
     "name": "stdout",
     "output_type": "stream",
     "text": [
      "    540/Unknown - 453s 793ms/step - loss: 2.1670e-05 - mae: 0.0024"
     ]
    },
    {
     "name": "stderr",
     "output_type": "stream",
     "text": [
      "INFO:root:File 'IE00BFYN8Y92.csv' loaded, 413 left\n"
     ]
    },
    {
     "name": "stdout",
     "output_type": "stream",
     "text": [
      "    557/Unknown - 463s 787ms/step - loss: 2.1230e-05 - mae: 0.0024"
     ]
    },
    {
     "name": "stderr",
     "output_type": "stream",
     "text": [
      "INFO:root:File 'DE0006289499.csv' loaded, 412 left\n"
     ]
    },
    {
     "name": "stdout",
     "output_type": "stream",
     "text": [
      "    563/Unknown - 469s 789ms/step - loss: 2.1081e-05 - mae: 0.0024"
     ]
    },
    {
     "name": "stderr",
     "output_type": "stream",
     "text": [
      "INFO:root:File 'LU1812090543.csv' loaded, 411 left\n"
     ]
    },
    {
     "name": "stdout",
     "output_type": "stream",
     "text": [
      "    568/Unknown - 473s 790ms/step - loss: 2.0948e-05 - mae: 0.0024"
     ]
    },
    {
     "name": "stderr",
     "output_type": "stream",
     "text": [
      "INFO:root:File 'DE0006289390.csv' loaded, 410 left\n"
     ]
    },
    {
     "name": "stdout",
     "output_type": "stream",
     "text": [
      "    572/Unknown - 479s 794ms/step - loss: 2.0859e-05 - mae: 0.0024"
     ]
    },
    {
     "name": "stderr",
     "output_type": "stream",
     "text": [
      "INFO:root:File 'IE00BM9GRM34.csv' loaded, 409 left\n"
     ]
    },
    {
     "name": "stdout",
     "output_type": "stream",
     "text": [
      "    580/Unknown - 483s 791ms/step - loss: 2.0767e-05 - mae: 0.0024"
     ]
    },
    {
     "name": "stderr",
     "output_type": "stream",
     "text": [
      "INFO:root:File 'DE0002635299.csv' loaded, 408 left\n"
     ]
    },
    {
     "name": "stdout",
     "output_type": "stream",
     "text": [
      "    581/Unknown - 486s 794ms/step - loss: 2.0751e-05 - mae: 0.0024"
     ]
    },
    {
     "name": "stderr",
     "output_type": "stream",
     "text": [
      "INFO:root:File 'LU1377382368.csv' loaded, 407 left\n"
     ]
    },
    {
     "name": "stdout",
     "output_type": "stream",
     "text": [
      "    582/Unknown - 487s 795ms/step - loss: 2.0737e-05 - mae: 0.0024"
     ]
    },
    {
     "name": "stderr",
     "output_type": "stream",
     "text": [
      "INFO:root:File 'LU1437015735.csv' loaded, 406 left\n"
     ]
    },
    {
     "name": "stdout",
     "output_type": "stream",
     "text": [
      "    592/Unknown - 494s 793ms/step - loss: 2.0621e-05 - mae: 0.0024"
     ]
    },
    {
     "name": "stderr",
     "output_type": "stream",
     "text": [
      "INFO:root:File 'IE00B7452L46.csv' loaded, 405 left\n"
     ]
    },
    {
     "name": "stdout",
     "output_type": "stream",
     "text": [
      "    612/Unknown - 507s 788ms/step - loss: 2.0330e-05 - mae: 0.0024"
     ]
    },
    {
     "name": "stderr",
     "output_type": "stream",
     "text": [
      "INFO:root:File 'IE00BYTRRB94.csv' loaded, 404 left\n"
     ]
    },
    {
     "name": "stdout",
     "output_type": "stream",
     "text": [
      "    616/Unknown - 510s 788ms/step - loss: 2.0265e-05 - mae: 0.0024"
     ]
    },
    {
     "name": "stderr",
     "output_type": "stream",
     "text": [
      "INFO:root:File 'IE00BHZRQY00.csv' loaded, 403 left\n"
     ]
    },
    {
     "name": "stdout",
     "output_type": "stream",
     "text": [
      "    630/Unknown - 518s 784ms/step - loss: 1.9937e-05 - mae: 0.0024"
     ]
    },
    {
     "name": "stderr",
     "output_type": "stream",
     "text": [
      "INFO:root:File 'LU1437018168.csv' loaded, 402 left\n"
     ]
    },
    {
     "name": "stdout",
     "output_type": "stream",
     "text": [
      "    635/Unknown - 522s 783ms/step - loss: 1.9837e-05 - mae: 0.0024"
     ]
    },
    {
     "name": "stderr",
     "output_type": "stream",
     "text": [
      "INFO:root:File 'LU1291098827.csv' loaded, 401 left\n"
     ]
    },
    {
     "name": "stdout",
     "output_type": "stream",
     "text": [
      "    649/Unknown - 531s 780ms/step - loss: 1.9522e-05 - mae: 0.0024"
     ]
    },
    {
     "name": "stderr",
     "output_type": "stream",
     "text": [
      "INFO:root:File 'LU1681042609.csv' loaded, 400 left\n"
     ]
    },
    {
     "name": "stdout",
     "output_type": "stream",
     "text": [
      "    653/Unknown - 535s 781ms/step - loss: 1.9520e-05 - mae: 0.0024"
     ]
    },
    {
     "name": "stderr",
     "output_type": "stream",
     "text": [
      "INFO:root:File 'LU1681047319.csv' loaded, 399 left\n"
     ]
    },
    {
     "name": "stdout",
     "output_type": "stream",
     "text": [
      "    658/Unknown - 539s 782ms/step - loss: 1.9464e-05 - mae: 0.0024"
     ]
    },
    {
     "name": "stderr",
     "output_type": "stream",
     "text": [
      "INFO:root:File 'LU1681044480.csv' loaded, 398 left\n"
     ]
    },
    {
     "name": "stdout",
     "output_type": "stream",
     "text": [
      "    664/Unknown - 544s 783ms/step - loss: 1.9388e-05 - mae: 0.0024"
     ]
    },
    {
     "name": "stderr",
     "output_type": "stream",
     "text": [
      "INFO:root:File 'IE00BKWQ0F09.csv' loaded, 397 left\n"
     ]
    },
    {
     "name": "stdout",
     "output_type": "stream",
     "text": [
      "    668/Unknown - 547s 783ms/step - loss: 1.9322e-05 - mae: 0.0024"
     ]
    },
    {
     "name": "stderr",
     "output_type": "stream",
     "text": [
      "INFO:root:File 'DE000A0Q4R36.csv' loaded, 396 left\n"
     ]
    },
    {
     "name": "stdout",
     "output_type": "stream",
     "text": [
      "    673/Unknown - 553s 786ms/step - loss: 1.9225e-05 - mae: 0.0024"
     ]
    },
    {
     "name": "stderr",
     "output_type": "stream",
     "text": [
      "INFO:root:File 'LU1900066975.csv' loaded, 395 left\n"
     ]
    },
    {
     "name": "stdout",
     "output_type": "stream",
     "text": [
      "    680/Unknown - 559s 786ms/step - loss: 1.9098e-05 - mae: 0.0024"
     ]
    },
    {
     "name": "stderr",
     "output_type": "stream",
     "text": [
      "INFO:root:File 'LU2109786827.csv' loaded, 394 left\n"
     ]
    },
    {
     "name": "stdout",
     "output_type": "stream",
     "text": [
      "    688/Unknown - 564s 784ms/step - loss: 1.8957e-05 - mae: 0.0024"
     ]
    },
    {
     "name": "stderr",
     "output_type": "stream",
     "text": [
      "INFO:root:File 'IE00B4L5Y983.csv' loaded, 393 left\n"
     ]
    },
    {
     "name": "stdout",
     "output_type": "stream",
     "text": [
      "    694/Unknown - 569s 785ms/step - loss: 1.9111e-05 - mae: 0.0024"
     ]
    },
    {
     "name": "stderr",
     "output_type": "stream",
     "text": [
      "INFO:root:File 'IE00BZ4BMM98.csv' loaded, 392 left\n"
     ]
    },
    {
     "name": "stdout",
     "output_type": "stream",
     "text": [
      "    709/Unknown - 579s 782ms/step - loss: 1.9365e-05 - mae: 0.0024"
     ]
    },
    {
     "name": "stderr",
     "output_type": "stream",
     "text": [
      "INFO:root:File 'FR0011475078.csv' loaded, 391 left\n"
     ]
    },
    {
     "name": "stdout",
     "output_type": "stream",
     "text": [
      "    723/Unknown - 588s 779ms/step - loss: 1.9168e-05 - mae: 0.0024"
     ]
    },
    {
     "name": "stderr",
     "output_type": "stream",
     "text": [
      "INFO:root:File 'IE00B5MTYK77.csv' loaded, 390 left\n"
     ]
    },
    {
     "name": "stdout",
     "output_type": "stream",
     "text": [
      "    724/Unknown - 590s 781ms/step - loss: 1.9150e-05 - mae: 0.0024"
     ]
    },
    {
     "name": "stderr",
     "output_type": "stream",
     "text": [
      "INFO:root:File 'LU0629460089.csv' loaded, 389 left\n"
     ]
    },
    {
     "name": "stdout",
     "output_type": "stream",
     "text": [
      "    729/Unknown - 595s 782ms/step - loss: 1.9104e-05 - mae: 0.0024"
     ]
    },
    {
     "name": "stderr",
     "output_type": "stream",
     "text": [
      "INFO:root:File 'IE00BJK9H860.csv' loaded, 388 left\n"
     ]
    },
    {
     "name": "stdout",
     "output_type": "stream",
     "text": [
      "    732/Unknown - 597s 782ms/step - loss: 1.9053e-05 - mae: 0.0024"
     ]
    },
    {
     "name": "stderr",
     "output_type": "stream",
     "text": [
      "INFO:root:File 'IE00BWTNM966.csv' loaded, 387 left\n"
     ]
    },
    {
     "name": "stdout",
     "output_type": "stream",
     "text": [
      "    750/Unknown - 608s 778ms/step - loss: 1.8754e-05 - mae: 0.0023"
     ]
    },
    {
     "name": "stderr",
     "output_type": "stream",
     "text": [
      "INFO:root:File 'IE00B52SF786.csv' loaded, 386 left\n"
     ]
    },
    {
     "name": "stdout",
     "output_type": "stream",
     "text": [
      "    763/Unknown - 617s 777ms/step - loss: 1.8529e-05 - mae: 0.0023"
     ]
    },
    {
     "name": "stderr",
     "output_type": "stream",
     "text": [
      "INFO:root:File 'IE00BKWQ0P07.csv' loaded, 385 left\n"
     ]
    },
    {
     "name": "stdout",
     "output_type": "stream",
     "text": [
      "    764/Unknown - 618s 777ms/step - loss: 1.8508e-05 - mae: 0.0023"
     ]
    },
    {
     "name": "stderr",
     "output_type": "stream",
     "text": [
      "INFO:root:File 'LU1650491795.csv' loaded, 384 left\n"
     ]
    },
    {
     "name": "stdout",
     "output_type": "stream",
     "text": [
      "    765/Unknown - 619s 778ms/step - loss: 1.8489e-05 - mae: 0.0023"
     ]
    },
    {
     "name": "stderr",
     "output_type": "stream",
     "text": [
      "INFO:root:File 'IE00BHJYDV33.csv' loaded, 383 left\n"
     ]
    },
    {
     "name": "stdout",
     "output_type": "stream",
     "text": [
      "    770/Unknown - 623s 777ms/step - loss: 1.8400e-05 - mae: 0.0023"
     ]
    },
    {
     "name": "stderr",
     "output_type": "stream",
     "text": [
      "INFO:root:File 'IE00BYZK4669.csv' loaded, 382 left\n"
     ]
    },
    {
     "name": "stdout",
     "output_type": "stream",
     "text": [
      "    775/Unknown - 627s 777ms/step - loss: 1.8315e-05 - mae: 0.0023"
     ]
    },
    {
     "name": "stderr",
     "output_type": "stream",
     "text": [
      "INFO:root:File 'IE00B1FZS350.csv' loaded, 381 left\n"
     ]
    },
    {
     "name": "stdout",
     "output_type": "stream",
     "text": [
      "    786/Unknown - 635s 777ms/step - loss: 1.8171e-05 - mae: 0.0023"
     ]
    },
    {
     "name": "stderr",
     "output_type": "stream",
     "text": [
      "INFO:root:File 'IE00BLRPRR04.csv' loaded, 380 left\n"
     ]
    },
    {
     "name": "stdout",
     "output_type": "stream",
     "text": [
      "    787/Unknown - 636s 776ms/step - loss: 1.8158e-05 - mae: 0.0023"
     ]
    },
    {
     "name": "stderr",
     "output_type": "stream",
     "text": [
      "INFO:root:File 'LU0603940916.csv' loaded, 379 left\n"
     ]
    },
    {
     "name": "stdout",
     "output_type": "stream",
     "text": [
      "    791/Unknown - 639s 777ms/step - loss: 1.8094e-05 - mae: 0.0023"
     ]
    },
    {
     "name": "stderr",
     "output_type": "stream",
     "text": [
      "INFO:root:File 'IE00B979GK47.csv' loaded in retry loop, 378 left\n"
     ]
    },
    {
     "name": "stdout",
     "output_type": "stream",
     "text": [
      "    793/Unknown - 641s 777ms/step - loss: 1.8058e-05 - mae: 0.0023"
     ]
    },
    {
     "name": "stderr",
     "output_type": "stream",
     "text": [
      "INFO:root:File 'IE00BYPC1H27.csv' loaded, 377 left\n"
     ]
    },
    {
     "name": "stdout",
     "output_type": "stream",
     "text": [
      "    799/Unknown - 645s 776ms/step - loss: 1.7956e-05 - mae: 0.0023"
     ]
    },
    {
     "name": "stderr",
     "output_type": "stream",
     "text": [
      "INFO:root:File 'DE000ETFL482.csv' loaded, 376 left\n"
     ]
    },
    {
     "name": "stdout",
     "output_type": "stream",
     "text": [
      "    805/Unknown - 649s 776ms/step - loss: 1.7871e-05 - mae: 0.0023"
     ]
    },
    {
     "name": "stderr",
     "output_type": "stream",
     "text": [
      "INFO:root:File 'LU2056739464.csv' loaded, 375 left\n"
     ]
    },
    {
     "name": "stdout",
     "output_type": "stream",
     "text": [
      "    808/Unknown - 651s 775ms/step - loss: 1.7824e-05 - mae: 0.0023"
     ]
    },
    {
     "name": "stderr",
     "output_type": "stream",
     "text": [
      "INFO:root:File 'IE000ST40PX8.csv' loaded, 374 left\n"
     ]
    },
    {
     "name": "stdout",
     "output_type": "stream",
     "text": [
      "    809/Unknown - 652s 775ms/step - loss: 1.7808e-05 - mae: 0.0023"
     ]
    },
    {
     "name": "stderr",
     "output_type": "stream",
     "text": [
      "INFO:root:File 'IE00BQN1K901.csv' loaded, 373 left\n"
     ]
    },
    {
     "name": "stdout",
     "output_type": "stream",
     "text": [
      "    810/Unknown - 653s 776ms/step - loss: 1.7792e-05 - mae: 0.0023"
     ]
    },
    {
     "name": "stderr",
     "output_type": "stream",
     "text": [
      "INFO:root:File 'IE00BKWQ0C77.csv' loaded, 372 left\n"
     ]
    },
    {
     "name": "stdout",
     "output_type": "stream",
     "text": [
      "    812/Unknown - 655s 777ms/step - loss: 1.7763e-05 - mae: 0.0023"
     ]
    },
    {
     "name": "stderr",
     "output_type": "stream",
     "text": [
      "INFO:root:File 'IE00BJQRDM08.csv' loaded, 371 left\n"
     ]
    },
    {
     "name": "stdout",
     "output_type": "stream",
     "text": [
      "    819/Unknown - 660s 776ms/step - loss: 1.7679e-05 - mae: 0.0023"
     ]
    },
    {
     "name": "stderr",
     "output_type": "stream",
     "text": [
      "INFO:root:File 'IE00B8FHGS14.csv' loaded, 370 left\n"
     ]
    },
    {
     "name": "stdout",
     "output_type": "stream",
     "text": [
      "    822/Unknown - 663s 776ms/step - loss: 1.7667e-05 - mae: 0.0023"
     ]
    },
    {
     "name": "stderr",
     "output_type": "stream",
     "text": [
      "INFO:root:File 'IE00B1FZS913.csv' loaded, 369 left\n"
     ]
    },
    {
     "name": "stdout",
     "output_type": "stream",
     "text": [
      "    831/Unknown - 670s 777ms/step - loss: 1.7565e-05 - mae: 0.0023"
     ]
    },
    {
     "name": "stderr",
     "output_type": "stream",
     "text": [
      "INFO:root:File 'LU2198883410.csv' loaded, 368 left\n"
     ]
    },
    {
     "name": "stdout",
     "output_type": "stream",
     "text": [
      "    839/Unknown - 675s 775ms/step - loss: 1.7452e-05 - mae: 0.0023"
     ]
    },
    {
     "name": "stderr",
     "output_type": "stream",
     "text": [
      "INFO:root:File 'IE00B5MTZM66.csv' loaded, 367 left\n"
     ]
    },
    {
     "name": "stdout",
     "output_type": "stream",
     "text": [
      "    844/Unknown - 679s 776ms/step - loss: 1.7387e-05 - mae: 0.0023"
     ]
    },
    {
     "name": "stderr",
     "output_type": "stream",
     "text": [
      "INFO:root:File 'IE00B1W57M07.csv' loaded, 366 left\n"
     ]
    },
    {
     "name": "stdout",
     "output_type": "stream",
     "text": [
      "    853/Unknown - 687s 776ms/step - loss: 1.7277e-05 - mae: 0.0023"
     ]
    },
    {
     "name": "stderr",
     "output_type": "stream",
     "text": [
      "INFO:root:File 'IE00BMDBMT65.csv' loaded, 365 left\n"
     ]
    },
    {
     "name": "stdout",
     "output_type": "stream",
     "text": [
      "    854/Unknown - 687s 776ms/step - loss: 1.7305e-05 - mae: 0.0023"
     ]
    },
    {
     "name": "stderr",
     "output_type": "stream",
     "text": [
      "INFO:root:File 'LU1681039134.csv' loaded, 364 left\n"
     ]
    },
    {
     "name": "stdout",
     "output_type": "stream",
     "text": [
      "    855/Unknown - 688s 776ms/step - loss: 1.7778e-05 - mae: 0.0023"
     ]
    },
    {
     "name": "stderr",
     "output_type": "stream",
     "text": [
      "INFO:root:File 'LU1681041544.csv' loaded, 363 left\n"
     ]
    },
    {
     "name": "stdout",
     "output_type": "stream",
     "text": [
      "    863/Unknown - 695s 777ms/step - loss: 1.7671e-05 - mae: 0.0023"
     ]
    },
    {
     "name": "stderr",
     "output_type": "stream",
     "text": [
      "INFO:root:File 'IE00B8GF1M35.csv' loaded, 362 left\n"
     ]
    },
    {
     "name": "stdout",
     "output_type": "stream",
     "text": [
      "    867/Unknown - 699s 778ms/step - loss: 1.7612e-05 - mae: 0.0023"
     ]
    },
    {
     "name": "stderr",
     "output_type": "stream",
     "text": [
      "INFO:root:File 'FR0010361683.csv' loaded, 361 left\n"
     ]
    },
    {
     "name": "stdout",
     "output_type": "stream",
     "text": [
      "    876/Unknown - 706s 778ms/step - loss: 1.7584e-05 - mae: 0.0023"
     ]
    },
    {
     "name": "stderr",
     "output_type": "stream",
     "text": [
      "INFO:root:File 'IE00BDDRF478.csv' loaded, 360 left\n"
     ]
    },
    {
     "name": "stdout",
     "output_type": "stream",
     "text": [
      "    895/Unknown - 717s 774ms/step - loss: 1.7423e-05 - mae: 0.0023"
     ]
    },
    {
     "name": "stderr",
     "output_type": "stream",
     "text": [
      "INFO:root:File 'IE00BGBN6P67.csv' loaded, 359 left\n"
     ]
    },
    {
     "name": "stdout",
     "output_type": "stream",
     "text": [
      "    899/Unknown - 720s 774ms/step - loss: 1.7366e-05 - mae: 0.0023"
     ]
    },
    {
     "name": "stderr",
     "output_type": "stream",
     "text": [
      "INFO:root:File 'LU1650488494.csv' loaded, 358 left\n"
     ]
    },
    {
     "name": "stdout",
     "output_type": "stream",
     "text": [
      "    913/Unknown - 731s 774ms/step - loss: 1.7325e-05 - mae: 0.0023"
     ]
    },
    {
     "name": "stderr",
     "output_type": "stream",
     "text": [
      "INFO:root:File 'LU1681045024.csv' loaded, 357 left\n"
     ]
    },
    {
     "name": "stdout",
     "output_type": "stream",
     "text": [
      "    915/Unknown - 734s 775ms/step - loss: 1.7302e-05 - mae: 0.0023"
     ]
    },
    {
     "name": "stderr",
     "output_type": "stream",
     "text": [
      "INFO:root:File 'IE00BYXVGY31.csv' loaded, 356 left\n"
     ]
    },
    {
     "name": "stdout",
     "output_type": "stream",
     "text": [
      "    916/Unknown - 735s 775ms/step - loss: 1.7291e-05 - mae: 0.0023"
     ]
    },
    {
     "name": "stderr",
     "output_type": "stream",
     "text": [
      "INFO:root:File 'IE00BFNM3B99.csv' loaded, 355 left\n"
     ]
    },
    {
     "name": "stdout",
     "output_type": "stream",
     "text": [
      "    920/Unknown - 738s 775ms/step - loss: 1.7252e-05 - mae: 0.0023"
     ]
    },
    {
     "name": "stderr",
     "output_type": "stream",
     "text": [
      "INFO:root:File 'IE00BHZRQZ17.csv' loaded, 354 left\n"
     ]
    },
    {
     "name": "stdout",
     "output_type": "stream",
     "text": [
      "    932/Unknown - 745s 773ms/step - loss: 1.7117e-05 - mae: 0.0023"
     ]
    },
    {
     "name": "stderr",
     "output_type": "stream",
     "text": [
      "INFO:root:File 'IE0032077012.csv' loaded, 353 left\n"
     ]
    },
    {
     "name": "stdout",
     "output_type": "stream",
     "text": [
      "    937/Unknown - 750s 775ms/step - loss: 1.7182e-05 - mae: 0.0023"
     ]
    },
    {
     "name": "stderr",
     "output_type": "stream",
     "text": [
      "INFO:root:File 'IE00BFXR5W90.csv' loaded, 352 left\n"
     ]
    },
    {
     "name": "stdout",
     "output_type": "stream",
     "text": [
      "    939/Unknown - 752s 775ms/step - loss: 1.7169e-05 - mae: 0.0023"
     ]
    },
    {
     "name": "stderr",
     "output_type": "stream",
     "text": [
      "INFO:root:File 'LU2244386053.csv' loaded, 351 left\n"
     ]
    },
    {
     "name": "stdout",
     "output_type": "stream",
     "text": [
      "    940/Unknown - 753s 775ms/step - loss: 1.7165e-05 - mae: 0.0023"
     ]
    },
    {
     "name": "stderr",
     "output_type": "stream",
     "text": [
      "INFO:root:File 'IE00B3VTML14.csv' loaded, 350 left\n"
     ]
    },
    {
     "name": "stdout",
     "output_type": "stream",
     "text": [
      "    947/Unknown - 758s 775ms/step - loss: 1.7143e-05 - mae: 0.0023"
     ]
    },
    {
     "name": "stderr",
     "output_type": "stream",
     "text": [
      "INFO:root:File 'FR0007056841.csv' loaded, 349 left\n"
     ]
    },
    {
     "name": "stdout",
     "output_type": "stream",
     "text": [
      "    949/Unknown - 763s 778ms/step - loss: 1.7128e-05 - mae: 0.0023"
     ]
    },
    {
     "name": "stderr",
     "output_type": "stream",
     "text": [
      "INFO:root:File 'IE00B23LNQ02.csv' loaded, 348 left\n"
     ]
    },
    {
     "name": "stdout",
     "output_type": "stream",
     "text": [
      "    958/Unknown - 770s 778ms/step - loss: 1.7023e-05 - mae: 0.0023"
     ]
    },
    {
     "name": "stderr",
     "output_type": "stream",
     "text": [
      "INFO:root:File 'IE00BG5J1M21.csv' loaded, 347 left\n"
     ]
    },
    {
     "name": "stdout",
     "output_type": "stream",
     "text": [
      "    959/Unknown - 771s 778ms/step - loss: 1.7011e-05 - mae: 0.0023"
     ]
    },
    {
     "name": "stderr",
     "output_type": "stream",
     "text": [
      "INFO:root:File 'IE00BMFNW783.csv' loaded, 346 left\n"
     ]
    },
    {
     "name": "stdout",
     "output_type": "stream",
     "text": [
      "    967/Unknown - 776s 777ms/step - loss: 1.6926e-05 - mae: 0.0023"
     ]
    },
    {
     "name": "stderr",
     "output_type": "stream",
     "text": [
      "INFO:root:File 'DE000ETF7037.csv' loaded, 345 left\n"
     ]
    },
    {
     "name": "stdout",
     "output_type": "stream",
     "text": [
      "    974/Unknown - 780s 776ms/step - loss: 1.6865e-05 - mae: 0.0023"
     ]
    },
    {
     "name": "stderr",
     "output_type": "stream",
     "text": [
      "INFO:root:File 'FR0011550185.csv' loaded, 344 left\n"
     ]
    },
    {
     "name": "stdout",
     "output_type": "stream",
     "text": [
      "    979/Unknown - 784s 776ms/step - loss: 1.6828e-05 - mae: 0.0023"
     ]
    },
    {
     "name": "stderr",
     "output_type": "stream",
     "text": [
      "INFO:root:File 'IE000XGNMWE1.csv' loaded in retry loop, 343 left\n"
     ]
    },
    {
     "name": "stdout",
     "output_type": "stream",
     "text": [
      "    983/Unknown - 787s 775ms/step - loss: 1.6788e-05 - mae: 0.0023"
     ]
    },
    {
     "name": "stderr",
     "output_type": "stream",
     "text": [
      "INFO:root:File 'LU1215461325.csv' loaded, 342 left\n"
     ]
    },
    {
     "name": "stdout",
     "output_type": "stream",
     "text": [
      "    994/Unknown - 794s 774ms/step - loss: 1.6799e-05 - mae: 0.0023"
     ]
    },
    {
     "name": "stderr",
     "output_type": "stream",
     "text": [
      "INFO:root:File 'DE000A0D8Q31.csv' loaded, 341 left\n"
     ]
    },
    {
     "name": "stdout",
     "output_type": "stream",
     "text": [
      "   1006/Unknown - 803s 774ms/step - loss: 1.6742e-05 - mae: 0.0023"
     ]
    },
    {
     "name": "stderr",
     "output_type": "stream",
     "text": [
      "INFO:root:File 'LU1437017350.csv' loaded, 340 left\n"
     ]
    },
    {
     "name": "stdout",
     "output_type": "stream",
     "text": [
      "   1015/Unknown - 809s 773ms/step - loss: 1.6671e-05 - mae: 0.0023"
     ]
    },
    {
     "name": "stderr",
     "output_type": "stream",
     "text": [
      "INFO:root:File 'IE00B14X4N27.csv' loaded, 339 left\n"
     ]
    },
    {
     "name": "stdout",
     "output_type": "stream",
     "text": [
      "   1023/Unknown - 816s 773ms/step - loss: 1.6592e-05 - mae: 0.0023"
     ]
    },
    {
     "name": "stderr",
     "output_type": "stream",
     "text": [
      "INFO:root:File 'LU1681043599.csv' loaded, 338 left\n"
     ]
    },
    {
     "name": "stdout",
     "output_type": "stream",
     "text": [
      "   1026/Unknown - 819s 774ms/step - loss: 1.6555e-05 - mae: 0.0023"
     ]
    },
    {
     "name": "stderr",
     "output_type": "stream",
     "text": [
      "INFO:root:File 'IE00BKP5L730.csv' loaded, 337 left\n"
     ]
    },
    {
     "name": "stdout",
     "output_type": "stream",
     "text": [
      "   1034/Unknown - 824s 773ms/step - loss: 1.6503e-05 - mae: 0.0023"
     ]
    },
    {
     "name": "stderr",
     "output_type": "stream",
     "text": [
      "INFO:root:File 'IE00B5MTYL84.csv' loaded, 336 left\n"
     ]
    },
    {
     "name": "stdout",
     "output_type": "stream",
     "text": [
      "   1037/Unknown - 827s 774ms/step - loss: 1.6472e-05 - mae: 0.0023"
     ]
    },
    {
     "name": "stderr",
     "output_type": "stream",
     "text": [
      "INFO:root:File 'IE00BYTH5R14.csv' loaded, 335 left\n"
     ]
    },
    {
     "name": "stdout",
     "output_type": "stream",
     "text": [
      "   1042/Unknown - 830s 773ms/step - loss: 1.6427e-05 - mae: 0.0023"
     ]
    },
    {
     "name": "stderr",
     "output_type": "stream",
     "text": [
      "INFO:root:File 'LU0136234068.csv' loaded, 334 left\n"
     ]
    },
    {
     "name": "stdout",
     "output_type": "stream",
     "text": [
      "   1045/Unknown - 835s 776ms/step - loss: 1.6410e-05 - mae: 0.0023"
     ]
    },
    {
     "name": "stderr",
     "output_type": "stream",
     "text": [
      "INFO:root:File 'IE00BFNM3F38.csv' loaded, 333 left\n"
     ]
    },
    {
     "name": "stdout",
     "output_type": "stream",
     "text": [
      "   1046/Unknown - 836s 776ms/step - loss: 1.6398e-05 - mae: 0.0023"
     ]
    },
    {
     "name": "stderr",
     "output_type": "stream",
     "text": [
      "INFO:root:File 'IE00B4WXJG34.csv' loaded, 332 left\n"
     ]
    },
    {
     "name": "stdout",
     "output_type": "stream",
     "text": [
      "   1068/Unknown - 851s 773ms/step - loss: 1.6186e-05 - mae: 0.0023"
     ]
    },
    {
     "name": "stderr",
     "output_type": "stream",
     "text": [
      "INFO:root:File 'IE00B4WXJH41.csv' loaded, 331 left\n"
     ]
    },
    {
     "name": "stdout",
     "output_type": "stream",
     "text": [
      "   1070/Unknown - 853s 775ms/step - loss: 1.6166e-05 - mae: 0.0023"
     ]
    },
    {
     "name": "stderr",
     "output_type": "stream",
     "text": [
      "INFO:root:File 'IE00BDDRDW15.csv' loaded, 330 left\n"
     ]
    },
    {
     "name": "stdout",
     "output_type": "stream",
     "text": [
      "   1091/Unknown - 866s 771ms/step - loss: 1.5947e-05 - mae: 0.0022"
     ]
    },
    {
     "name": "stderr",
     "output_type": "stream",
     "text": [
      "INFO:root:File 'LU1681041627.csv' loaded, 329 left\n"
     ]
    },
    {
     "name": "stdout",
     "output_type": "stream",
     "text": [
      "   1093/Unknown - 869s 773ms/step - loss: 1.5923e-05 - mae: 0.0022"
     ]
    },
    {
     "name": "stderr",
     "output_type": "stream",
     "text": [
      "INFO:root:File 'LU1650492256.csv' loaded, 328 left\n"
     ]
    },
    {
     "name": "stdout",
     "output_type": "stream",
     "text": [
      "   1099/Unknown - 873s 772ms/step - loss: 1.5866e-05 - mae: 0.0022"
     ]
    },
    {
     "name": "stderr",
     "output_type": "stream",
     "text": [
      "INFO:root:File 'FR0010342592.csv' loaded, 327 left\n"
     ]
    },
    {
     "name": "stdout",
     "output_type": "stream",
     "text": [
      "   1109/Unknown - 881s 773ms/step - loss: 1.5757e-05 - mae: 0.0022"
     ]
    },
    {
     "name": "stderr",
     "output_type": "stream",
     "text": [
      "INFO:root:File 'DE000A0D8Q49.csv' loaded, 326 left\n"
     ]
    },
    {
     "name": "stdout",
     "output_type": "stream",
     "text": [
      "   1110/Unknown - 883s 773ms/step - loss: 1.5746e-05 - mae: 0.0022"
     ]
    },
    {
     "name": "stderr",
     "output_type": "stream",
     "text": [
      "INFO:root:File 'IE00BMCZLJ20.csv' loaded, 325 left\n"
     ]
    },
    {
     "name": "stdout",
     "output_type": "stream",
     "text": [
      "   1122/Unknown - 891s 773ms/step - loss: 1.5647e-05 - mae: 0.0022"
     ]
    },
    {
     "name": "stderr",
     "output_type": "stream",
     "text": [
      "INFO:root:File 'LU1681040496.csv' loaded, 324 left\n"
     ]
    },
    {
     "name": "stdout",
     "output_type": "stream",
     "text": [
      "   1123/Unknown - 893s 773ms/step - loss: 1.5637e-05 - mae: 0.0022"
     ]
    },
    {
     "name": "stderr",
     "output_type": "stream",
     "text": [
      "INFO:root:File 'IE00BDQYWQ65.csv' loaded, 323 left\n"
     ]
    },
    {
     "name": "stdout",
     "output_type": "stream",
     "text": [
      "   1142/Unknown - 905s 771ms/step - loss: 1.5493e-05 - mae: 0.0022"
     ]
    },
    {
     "name": "stderr",
     "output_type": "stream",
     "text": [
      "INFO:root:File 'LU1602144575.csv' loaded, 322 left\n"
     ]
    },
    {
     "name": "stdout",
     "output_type": "stream",
     "text": [
      "   1145/Unknown - 907s 771ms/step - loss: 1.5480e-05 - mae: 0.0022"
     ]
    },
    {
     "name": "stderr",
     "output_type": "stream",
     "text": [
      "INFO:root:File 'IE00BKM4H312.csv' loaded, 321 left\n"
     ]
    },
    {
     "name": "stdout",
     "output_type": "stream",
     "text": [
      "   1154/Unknown - 913s 770ms/step - loss: 1.5493e-05 - mae: 0.0022"
     ]
    },
    {
     "name": "stderr",
     "output_type": "stream",
     "text": [
      "INFO:root:File 'IE00BFNM3G45.csv' loaded, 320 left\n"
     ]
    },
    {
     "name": "stdout",
     "output_type": "stream",
     "text": [
      "   1162/Unknown - 918s 769ms/step - loss: 1.5481e-05 - mae: 0.0022"
     ]
    },
    {
     "name": "stderr",
     "output_type": "stream",
     "text": [
      "INFO:root:File 'LU1686832277.csv' loaded, 319 left\n"
     ]
    },
    {
     "name": "stdout",
     "output_type": "stream",
     "text": [
      "   1169/Unknown - 923s 768ms/step - loss: 1.5432e-05 - mae: 0.0022"
     ]
    },
    {
     "name": "stderr",
     "output_type": "stream",
     "text": [
      "INFO:root:File 'LU1437018838.csv' loaded, 318 left\n"
     ]
    },
    {
     "name": "stdout",
     "output_type": "stream",
     "text": [
      "   1173/Unknown - 926s 768ms/step - loss: 1.5443e-05 - mae: 0.0022"
     ]
    },
    {
     "name": "stderr",
     "output_type": "stream",
     "text": [
      "INFO:root:File 'IE00B5MTWY73.csv' loaded, 317 left\n"
     ]
    },
    {
     "name": "stdout",
     "output_type": "stream",
     "text": [
      "   1174/Unknown - 928s 770ms/step - loss: 1.5434e-05 - mae: 0.0022"
     ]
    },
    {
     "name": "stderr",
     "output_type": "stream",
     "text": [
      "INFO:root:File 'IE00BYVJRP78.csv' loaded, 316 left\n"
     ]
    },
    {
     "name": "stdout",
     "output_type": "stream",
     "text": [
      "   1175/Unknown - 929s 770ms/step - loss: 1.5435e-05 - mae: 0.0022"
     ]
    },
    {
     "name": "stderr",
     "output_type": "stream",
     "text": [
      "INFO:root:File 'LU1834986900.csv' loaded, 315 left\n"
     ]
    },
    {
     "name": "stdout",
     "output_type": "stream",
     "text": [
      "   1177/Unknown - 933s 772ms/step - loss: 1.5448e-05 - mae: 0.0022"
     ]
    },
    {
     "name": "stderr",
     "output_type": "stream",
     "text": [
      "INFO:root:File 'IE000IM4K4K2.csv' loaded, 314 left\n"
     ]
    },
    {
     "name": "stdout",
     "output_type": "stream",
     "text": [
      "   1178/Unknown - 934s 772ms/step - loss: 1.5445e-05 - mae: 0.0022"
     ]
    },
    {
     "name": "stderr",
     "output_type": "stream",
     "text": [
      "INFO:root:File 'LU0496786574.csv' loaded, 313 left\n"
     ]
    },
    {
     "name": "stdout",
     "output_type": "stream",
     "text": [
      "   1192/Unknown - 943s 771ms/step - loss: 1.5360e-05 - mae: 0.0022"
     ]
    },
    {
     "name": "stderr",
     "output_type": "stream",
     "text": [
      "INFO:root:File 'IE00BGPP6473.csv' loaded, 312 left\n"
     ]
    },
    {
     "name": "stdout",
     "output_type": "stream",
     "text": [
      "   1193/Unknown - 944s 771ms/step - loss: 1.5353e-05 - mae: 0.0022"
     ]
    },
    {
     "name": "stderr",
     "output_type": "stream",
     "text": [
      "INFO:root:File 'LU2023678282.csv' loaded, 311 left\n"
     ]
    },
    {
     "name": "stdout",
     "output_type": "stream",
     "text": [
      "   1203/Unknown - 950s 769ms/step - loss: 1.5317e-05 - mae: 0.0022"
     ]
    },
    {
     "name": "stderr",
     "output_type": "stream",
     "text": [
      "INFO:root:File 'LU1280303014.csv' loaded, 310 left\n"
     ]
    },
    {
     "name": "stdout",
     "output_type": "stream",
     "text": [
      "   1206/Unknown - 953s 770ms/step - loss: 1.5306e-05 - mae: 0.0022"
     ]
    },
    {
     "name": "stderr",
     "output_type": "stream",
     "text": [
      "INFO:root:File 'IE00BG0J4C88.csv' loaded, 309 left\n"
     ]
    },
    {
     "name": "stdout",
     "output_type": "stream",
     "text": [
      "   1207/Unknown - 953s 770ms/step - loss: 1.5317e-05 - mae: 0.0022"
     ]
    },
    {
     "name": "stderr",
     "output_type": "stream",
     "text": [
      "INFO:root:File 'IE00BJXRZJ40.csv' loaded, 308 left\n"
     ]
    },
    {
     "name": "stdout",
     "output_type": "stream",
     "text": [
      "   1209/Unknown - 955s 770ms/step - loss: 1.5338e-05 - mae: 0.0022"
     ]
    },
    {
     "name": "stderr",
     "output_type": "stream",
     "text": [
      "INFO:root:File 'IE00B0M62Q58.csv' loaded, 307 left\n"
     ]
    },
    {
     "name": "stdout",
     "output_type": "stream",
     "text": [
      "   1213/Unknown - 960s 771ms/step - loss: 1.5358e-05 - mae: 0.0022"
     ]
    },
    {
     "name": "stderr",
     "output_type": "stream",
     "text": [
      "INFO:root:File 'IE00B5MTWD60.csv' loaded, 306 left\n"
     ]
    },
    {
     "name": "stdout",
     "output_type": "stream",
     "text": [
      "   1223/Unknown - 967s 771ms/step - loss: 1.5325e-05 - mae: 0.0022"
     ]
    },
    {
     "name": "stderr",
     "output_type": "stream",
     "text": [
      "INFO:root:File 'IE00B3ZW0K18.csv' loaded, 305 left\n"
     ]
    },
    {
     "name": "stdout",
     "output_type": "stream",
     "text": [
      "   1229/Unknown - 972s 771ms/step - loss: 1.5310e-05 - mae: 0.0022"
     ]
    },
    {
     "name": "stderr",
     "output_type": "stream",
     "text": [
      "INFO:root:File 'IE00B6TLBW47.csv' loaded, 304 left\n"
     ]
    },
    {
     "name": "stdout",
     "output_type": "stream",
     "text": [
      "   1242/Unknown - 981s 770ms/step - loss: 1.5258e-05 - mae: 0.0022"
     ]
    },
    {
     "name": "stderr",
     "output_type": "stream",
     "text": [
      "INFO:root:File 'LU1829219713.csv' loaded, 303 left\n"
     ]
    },
    {
     "name": "stdout",
     "output_type": "stream",
     "text": [
      "   1249/Unknown - 987s 770ms/step - loss: 1.5234e-05 - mae: 0.0022"
     ]
    },
    {
     "name": "stderr",
     "output_type": "stream",
     "text": [
      "INFO:root:File 'LU1291101555.csv' loaded, 302 left\n"
     ]
    },
    {
     "name": "stdout",
     "output_type": "stream",
     "text": [
      "   1250/Unknown - 988s 771ms/step - loss: 1.5231e-05 - mae: 0.0022"
     ]
    },
    {
     "name": "stderr",
     "output_type": "stream",
     "text": [
      "INFO:root:File 'IE00B6S2Z822.csv' loaded, 301 left\n"
     ]
    },
    {
     "name": "stdout",
     "output_type": "stream",
     "text": [
      "   1266/Unknown - 999s 770ms/step - loss: 1.5145e-05 - mae: 0.0022"
     ]
    },
    {
     "name": "stderr",
     "output_type": "stream",
     "text": [
      "INFO:root:File 'LU1215415214.csv' loaded, 300 left\n"
     ]
    },
    {
     "name": "stdout",
     "output_type": "stream",
     "text": [
      "   1287/Unknown - 1012s 767ms/step - loss: 1.5010e-05 - mae: 0.0022"
     ]
    },
    {
     "name": "stderr",
     "output_type": "stream",
     "text": [
      "INFO:root:File 'DE000A0H08J9.csv' loaded, 299 left\n"
     ]
    },
    {
     "name": "stdout",
     "output_type": "stream",
     "text": [
      "   1289/Unknown - 1016s 769ms/step - loss: 1.4993e-05 - mae: 0.0022"
     ]
    },
    {
     "name": "stderr",
     "output_type": "stream",
     "text": [
      "INFO:root:File 'IE00B0M63284.csv' loaded, 298 left\n"
     ]
    },
    {
     "name": "stdout",
     "output_type": "stream",
     "text": [
      "   1290/Unknown - 1019s 771ms/step - loss: 1.4984e-05 - mae: 0.0022"
     ]
    },
    {
     "name": "stderr",
     "output_type": "stream",
     "text": [
      "INFO:root:File 'LU1681044720.csv' loaded, 297 left\n"
     ]
    },
    {
     "name": "stdout",
     "output_type": "stream",
     "text": [
      "   1292/Unknown - 1022s 772ms/step - loss: 1.4965e-05 - mae: 0.0022"
     ]
    },
    {
     "name": "stderr",
     "output_type": "stream",
     "text": [
      "INFO:root:File 'LU0950381748.csv' loaded, 296 left\n"
     ]
    },
    {
     "name": "stdout",
     "output_type": "stream",
     "text": [
      "   1304/Unknown - 1030s 771ms/step - loss: 1.4874e-05 - mae: 0.0022"
     ]
    },
    {
     "name": "stderr",
     "output_type": "stream",
     "text": [
      "INFO:root:File 'IE00B5377D42.csv' loaded, 295 left\n"
     ]
    },
    {
     "name": "stdout",
     "output_type": "stream",
     "text": [
      "   1306/Unknown - 1033s 772ms/step - loss: 1.4867e-05 - mae: 0.0022"
     ]
    },
    {
     "name": "stderr",
     "output_type": "stream",
     "text": [
      "INFO:root:File 'LU1852211215.csv' loaded, 294 left\n"
     ]
    },
    {
     "name": "stdout",
     "output_type": "stream",
     "text": [
      "   1309/Unknown - 1035s 772ms/step - loss: 1.4870e-05 - mae: 0.0022"
     ]
    },
    {
     "name": "stderr",
     "output_type": "stream",
     "text": [
      "INFO:root:File 'IE00BSKRJZ44.csv' loaded, 293 left\n"
     ]
    },
    {
     "name": "stdout",
     "output_type": "stream",
     "text": [
      "   1310/Unknown - 1036s 772ms/step - loss: 1.4868e-05 - mae: 0.0022"
     ]
    },
    {
     "name": "stderr",
     "output_type": "stream",
     "text": [
      "INFO:root:File 'IE00B4L5ZG21.csv' loaded, 292 left\n"
     ]
    },
    {
     "name": "stdout",
     "output_type": "stream",
     "text": [
      "   1329/Unknown - 1049s 771ms/step - loss: 1.4774e-05 - mae: 0.0022"
     ]
    },
    {
     "name": "stderr",
     "output_type": "stream",
     "text": [
      "INFO:root:File 'IE00B449XP68.csv' loaded, 291 left\n"
     ]
    },
    {
     "name": "stdout",
     "output_type": "stream",
     "text": [
      "   1344/Unknown - 1059s 770ms/step - loss: 1.4728e-05 - mae: 0.0022"
     ]
    },
    {
     "name": "stderr",
     "output_type": "stream",
     "text": [
      "INFO:root:File 'IE00BDFK1573.csv' loaded, 290 left\n"
     ]
    },
    {
     "name": "stdout",
     "output_type": "stream",
     "text": [
      "   1353/Unknown - 1065s 769ms/step - loss: 1.4670e-05 - mae: 0.0022"
     ]
    },
    {
     "name": "stderr",
     "output_type": "stream",
     "text": [
      "INFO:root:File 'IE00B3VWM098.csv' loaded, 289 left\n"
     ]
    },
    {
     "name": "stdout",
     "output_type": "stream",
     "text": [
      "   1370/Unknown - 1077s 768ms/step - loss: 1.4582e-05 - mae: 0.0022"
     ]
    },
    {
     "name": "stderr",
     "output_type": "stream",
     "text": [
      "INFO:root:File 'IE00BG0J4841.csv' loaded, 288 left\n"
     ]
    },
    {
     "name": "stdout",
     "output_type": "stream",
     "text": [
      "   1371/Unknown - 1077s 768ms/step - loss: 1.4576e-05 - mae: 0.0022"
     ]
    },
    {
     "name": "stderr",
     "output_type": "stream",
     "text": [
      "INFO:root:File 'IE00BNGFMY78.csv' loaded, 287 left\n"
     ]
    },
    {
     "name": "stdout",
     "output_type": "stream",
     "text": [
      "   1377/Unknown - 1081s 767ms/step - loss: 1.4580e-05 - mae: 0.0022"
     ]
    },
    {
     "name": "stderr",
     "output_type": "stream",
     "text": [
      "INFO:root:File 'IE00BX7RR706.csv' loaded, 286 left\n"
     ]
    },
    {
     "name": "stdout",
     "output_type": "stream",
     "text": [
      "   1380/Unknown - 1084s 767ms/step - loss: 1.4766e-05 - mae: 0.0022"
     ]
    },
    {
     "name": "stderr",
     "output_type": "stream",
     "text": [
      "INFO:root:File 'LU1602144229.csv' loaded, 285 left\n"
     ]
    },
    {
     "name": "stdout",
     "output_type": "stream",
     "text": [
      "   1384/Unknown - 1087s 767ms/step - loss: 1.4735e-05 - mae: 0.0022"
     ]
    },
    {
     "name": "stderr",
     "output_type": "stream",
     "text": [
      "INFO:root:File 'IE00BYML9W36.csv' loaded, 284 left\n"
     ]
    },
    {
     "name": "stdout",
     "output_type": "stream",
     "text": [
      "   1386/Unknown - 1089s 768ms/step - loss: 1.4721e-05 - mae: 0.0022"
     ]
    },
    {
     "name": "stderr",
     "output_type": "stream",
     "text": [
      "INFO:root:File 'IE00BQN1K562.csv' loaded, 283 left\n"
     ]
    },
    {
     "name": "stdout",
     "output_type": "stream",
     "text": [
      "   1393/Unknown - 1094s 768ms/step - loss: 1.5380e-05 - mae: 0.0022"
     ]
    },
    {
     "name": "stderr",
     "output_type": "stream",
     "text": [
      "INFO:root:File 'IE0002MXIF34.csv' loaded, 282 left\n"
     ]
    },
    {
     "name": "stdout",
     "output_type": "stream",
     "text": [
      "   1394/Unknown - 1094s 767ms/step - loss: 1.5377e-05 - mae: 0.0022"
     ]
    },
    {
     "name": "stderr",
     "output_type": "stream",
     "text": [
      "INFO:root:File 'IE00BYVZV757.csv' loaded, 281 left\n"
     ]
    },
    {
     "name": "stdout",
     "output_type": "stream",
     "text": [
      "   1402/Unknown - 1099s 767ms/step - loss: 1.5342e-05 - mae: 0.0022"
     ]
    },
    {
     "name": "stderr",
     "output_type": "stream",
     "text": [
      "INFO:root:File 'IE00BX7RRJ27.csv' loaded, 280 left\n"
     ]
    },
    {
     "name": "stdout",
     "output_type": "stream",
     "text": [
      "   1403/Unknown - 1101s 767ms/step - loss: 1.5336e-05 - mae: 0.0022"
     ]
    },
    {
     "name": "stderr",
     "output_type": "stream",
     "text": [
      "INFO:root:File 'LU0832435464.csv' loaded, 279 left\n"
     ]
    },
    {
     "name": "stdout",
     "output_type": "stream",
     "text": [
      "   1412/Unknown - 1108s 767ms/step - loss: 1.5279e-05 - mae: 0.0022"
     ]
    },
    {
     "name": "stderr",
     "output_type": "stream",
     "text": [
      "INFO:root:File 'IE00B41RYL63.csv' loaded, 278 left\n"
     ]
    },
    {
     "name": "stdout",
     "output_type": "stream",
     "text": [
      "   1418/Unknown - 1113s 767ms/step - loss: 1.5255e-05 - mae: 0.0022"
     ]
    },
    {
     "name": "stderr",
     "output_type": "stream",
     "text": [
      "INFO:root:File 'IE00BLSNMW37.csv' loaded, 277 left\n"
     ]
    },
    {
     "name": "stdout",
     "output_type": "stream",
     "text": [
      "   1420/Unknown - 1115s 768ms/step - loss: 1.5243e-05 - mae: 0.0022"
     ]
    },
    {
     "name": "stderr",
     "output_type": "stream",
     "text": [
      "INFO:root:File 'IE00BCRY6003.csv' loaded, 276 left\n"
     ]
    },
    {
     "name": "stdout",
     "output_type": "stream",
     "text": [
      "   1424/Unknown - 1118s 768ms/step - loss: 1.5212e-05 - mae: 0.0022"
     ]
    },
    {
     "name": "stderr",
     "output_type": "stream",
     "text": [
      "INFO:root:File 'IE00BMDX0M10.csv' loaded, 275 left\n"
     ]
    },
    {
     "name": "stdout",
     "output_type": "stream",
     "text": [
      "   1429/Unknown - 1121s 768ms/step - loss: 1.5185e-05 - mae: 0.0022"
     ]
    },
    {
     "name": "stderr",
     "output_type": "stream",
     "text": [
      "INFO:root:File 'DE000ETF7029.csv' loaded, 274 left\n"
     ]
    },
    {
     "name": "stdout",
     "output_type": "stream",
     "text": [
      "   1430/Unknown - 1122s 768ms/step - loss: 1.5178e-05 - mae: 0.0022"
     ]
    },
    {
     "name": "stderr",
     "output_type": "stream",
     "text": [
      "INFO:root:File 'IE00BFD2H405.csv' loaded, 273 left\n"
     ]
    },
    {
     "name": "stdout",
     "output_type": "stream",
     "text": [
      "   1437/Unknown - 1127s 767ms/step - loss: 1.5137e-05 - mae: 0.0022"
     ]
    },
    {
     "name": "stderr",
     "output_type": "stream",
     "text": [
      "INFO:root:File 'LU1437018598.csv' loaded, 272 left\n"
     ]
    },
    {
     "name": "stdout",
     "output_type": "stream",
     "text": [
      "   1443/Unknown - 1131s 767ms/step - loss: 1.5105e-05 - mae: 0.0022"
     ]
    },
    {
     "name": "stderr",
     "output_type": "stream",
     "text": [
      "INFO:root:File 'LU0480132876.csv' loaded, 271 left\n"
     ]
    },
    {
     "name": "stdout",
     "output_type": "stream",
     "text": [
      "   1451/Unknown - 1137s 767ms/step - loss: 1.5328e-05 - mae: 0.0022"
     ]
    },
    {
     "name": "stderr",
     "output_type": "stream",
     "text": [
      "INFO:root:File 'IE00B0M62X26.csv' loaded, 270 left\n"
     ]
    },
    {
     "name": "stdout",
     "output_type": "stream",
     "text": [
      "   1456/Unknown - 1142s 768ms/step - loss: 1.5317e-05 - mae: 0.0022"
     ]
    },
    {
     "name": "stderr",
     "output_type": "stream",
     "text": [
      "INFO:root:File 'IE00BF59RW70.csv' loaded, 269 left\n"
     ]
    },
    {
     "name": "stdout",
     "output_type": "stream",
     "text": [
      "   1461/Unknown - 1146s 767ms/step - loss: 1.5287e-05 - mae: 0.0022"
     ]
    },
    {
     "name": "stderr",
     "output_type": "stream",
     "text": [
      "INFO:root:File 'IE00B3S5XW04.csv' loaded, 268 left\n"
     ]
    },
    {
     "name": "stdout",
     "output_type": "stream",
     "text": [
      "   1463/Unknown - 1148s 768ms/step - loss: 1.5271e-05 - mae: 0.0022"
     ]
    },
    {
     "name": "stderr",
     "output_type": "stream",
     "text": [
      "INFO:root:File 'IE00BYTRR970.csv' loaded, 267 left\n"
     ]
    },
    {
     "name": "stdout",
     "output_type": "stream",
     "text": [
      "   1470/Unknown - 1153s 768ms/step - loss: 1.5298e-05 - mae: 0.0022"
     ]
    },
    {
     "name": "stderr",
     "output_type": "stream",
     "text": [
      "INFO:root:File 'LU1681040819.csv' loaded, 266 left\n"
     ]
    },
    {
     "name": "stdout",
     "output_type": "stream",
     "text": [
      "   1472/Unknown - 1156s 769ms/step - loss: 1.5296e-05 - mae: 0.0022"
     ]
    },
    {
     "name": "stderr",
     "output_type": "stream",
     "text": [
      "INFO:root:File 'IE00B02KXK85.csv' loaded, 265 left\n"
     ]
    },
    {
     "name": "stdout",
     "output_type": "stream",
     "text": [
      "   1477/Unknown - 1161s 770ms/step - loss: 1.5669e-05 - mae: 0.0022"
     ]
    },
    {
     "name": "stderr",
     "output_type": "stream",
     "text": [
      "INFO:root:File 'LU1799934903.csv' loaded, 264 left\n"
     ]
    },
    {
     "name": "stdout",
     "output_type": "stream",
     "text": [
      "   1478/Unknown - 1162s 770ms/step - loss: 1.5666e-05 - mae: 0.0022"
     ]
    },
    {
     "name": "stderr",
     "output_type": "stream",
     "text": [
      "INFO:root:File 'IE00BK5BC891.csv' loaded, 263 left\n"
     ]
    },
    {
     "name": "stdout",
     "output_type": "stream",
     "text": [
      "   1485/Unknown - 1166s 769ms/step - loss: 1.5635e-05 - mae: 0.0022"
     ]
    },
    {
     "name": "stderr",
     "output_type": "stream",
     "text": [
      "INFO:root:File 'IE00B4WXJD03.csv' loaded, 262 left\n"
     ]
    },
    {
     "name": "stdout",
     "output_type": "stream",
     "text": [
      "   1497/Unknown - 1175s 769ms/step - loss: 1.5589e-05 - mae: 0.0022"
     ]
    },
    {
     "name": "stderr",
     "output_type": "stream",
     "text": [
      "INFO:root:File 'LU1681041890.csv' loaded, 261 left\n"
     ]
    },
    {
     "name": "stdout",
     "output_type": "stream",
     "text": [
      "   1500/Unknown - 1178s 769ms/step - loss: 1.5858e-05 - mae: 0.0022"
     ]
    },
    {
     "name": "stderr",
     "output_type": "stream",
     "text": [
      "INFO:root:File 'IE00BJK3WF00.csv' loaded, 260 left\n"
     ]
    },
    {
     "name": "stdout",
     "output_type": "stream",
     "text": [
      "   1511/Unknown - 1184s 768ms/step - loss: 1.5872e-05 - mae: 0.0022"
     ]
    },
    {
     "name": "stderr",
     "output_type": "stream",
     "text": [
      "INFO:root:File 'DE000ETFL540.csv' loaded, 259 left\n"
     ]
    },
    {
     "name": "stdout",
     "output_type": "stream",
     "text": [
      "   1519/Unknown - 1189s 767ms/step - loss: 1.5869e-05 - mae: 0.0022"
     ]
    },
    {
     "name": "stderr",
     "output_type": "stream",
     "text": [
      "INFO:root:File 'IE00BYSX4739.csv' loaded, 258 left\n"
     ]
    },
    {
     "name": "stdout",
     "output_type": "stream",
     "text": [
      "   1524/Unknown - 1192s 766ms/step - loss: 1.5851e-05 - mae: 0.0022"
     ]
    },
    {
     "name": "stderr",
     "output_type": "stream",
     "text": [
      "INFO:root:File 'IE00BJ5JNZ06.csv' loaded, 257 left\n"
     ]
    },
    {
     "name": "stdout",
     "output_type": "stream",
     "text": [
      "   1526/Unknown - 1194s 766ms/step - loss: 1.5843e-05 - mae: 0.0022"
     ]
    },
    {
     "name": "stderr",
     "output_type": "stream",
     "text": [
      "INFO:root:File 'IE00B3VPKB53.csv' loaded, 256 left\n"
     ]
    },
    {
     "name": "stdout",
     "output_type": "stream",
     "text": [
      "   1534/Unknown - 1200s 766ms/step - loss: 1.5809e-05 - mae: 0.0022"
     ]
    },
    {
     "name": "stderr",
     "output_type": "stream",
     "text": [
      "INFO:root:File 'IE00B5L8K969.csv' loaded, 255 left\n"
     ]
    },
    {
     "name": "stdout",
     "output_type": "stream",
     "text": [
      "   1537/Unknown - 1203s 767ms/step - loss: 1.5785e-05 - mae: 0.0022"
     ]
    },
    {
     "name": "stderr",
     "output_type": "stream",
     "text": [
      "INFO:root:File 'DE000A0F5UH1.csv' loaded, 254 left\n"
     ]
    },
    {
     "name": "stdout",
     "output_type": "stream",
     "text": [
      "   1541/Unknown - 1207s 768ms/step - loss: 1.5751e-05 - mae: 0.0022"
     ]
    },
    {
     "name": "stderr",
     "output_type": "stream",
     "text": [
      "INFO:root:File 'IE00B2QWDR12.csv' loaded, 253 left\n"
     ]
    },
    {
     "name": "stdout",
     "output_type": "stream",
     "text": [
      "   1542/Unknown - 1209s 768ms/step - loss: 1.5743e-05 - mae: 0.0022"
     ]
    },
    {
     "name": "stderr",
     "output_type": "stream",
     "text": [
      "INFO:root:File 'IE00BK5BCH80.csv' loaded, 252 left\n"
     ]
    },
    {
     "name": "stdout",
     "output_type": "stream",
     "text": [
      "   1548/Unknown - 1214s 768ms/step - loss: 1.5706e-05 - mae: 0.0022"
     ]
    },
    {
     "name": "stderr",
     "output_type": "stream",
     "text": [
      "INFO:root:File 'LU0721552973.csv' loaded, 251 left\n"
     ]
    },
    {
     "name": "stdout",
     "output_type": "stream",
     "text": [
      "   1552/Unknown - 1217s 769ms/step - loss: 1.5677e-05 - mae: 0.0022"
     ]
    },
    {
     "name": "stderr",
     "output_type": "stream",
     "text": [
      "INFO:root:File 'IE00BMZ17W23.csv' loaded, 250 left\n"
     ]
    },
    {
     "name": "stdout",
     "output_type": "stream",
     "text": [
      "   1562/Unknown - 1223s 767ms/step - loss: 1.5668e-05 - mae: 0.0022"
     ]
    },
    {
     "name": "stderr",
     "output_type": "stream",
     "text": [
      "INFO:root:File 'LU0446734526.csv' loaded, 249 left\n"
     ]
    },
    {
     "name": "stdout",
     "output_type": "stream",
     "text": [
      "   1563/Unknown - 1224s 767ms/step - loss: 1.5661e-05 - mae: 0.0022"
     ]
    },
    {
     "name": "stderr",
     "output_type": "stream",
     "text": [
      "INFO:root:File 'DE000ETFL029.csv' loaded, 248 left\n"
     ]
    },
    {
     "name": "stdout",
     "output_type": "stream",
     "text": [
      "   1575/Unknown - 1235s 768ms/step - loss: 1.5585e-05 - mae: 0.0022"
     ]
    },
    {
     "name": "stderr",
     "output_type": "stream",
     "text": [
      "INFO:root:File 'IE00BYYW2V44.csv' loaded, 247 left\n"
     ]
    },
    {
     "name": "stdout",
     "output_type": "stream",
     "text": [
      "   1597/Unknown - 1248s 766ms/step - loss: 1.5494e-05 - mae: 0.0022"
     ]
    },
    {
     "name": "stderr",
     "output_type": "stream",
     "text": [
      "INFO:root:File 'LU1781541252.csv' loaded, 246 left\n"
     ]
    },
    {
     "name": "stdout",
     "output_type": "stream",
     "text": [
      "   1599/Unknown - 1249s 766ms/step - loss: 1.5479e-05 - mae: 0.0022"
     ]
    },
    {
     "name": "stderr",
     "output_type": "stream",
     "text": [
      "INFO:root:File 'LU2082999306.csv' loaded, 245 left\n"
     ]
    },
    {
     "name": "stdout",
     "output_type": "stream",
     "text": [
      "   1603/Unknown - 1252s 766ms/step - loss: 1.5460e-05 - mae: 0.0022"
     ]
    },
    {
     "name": "stderr",
     "output_type": "stream",
     "text": [
      "INFO:root:File 'IE00BYTRRG40.csv' loaded, 244 left\n"
     ]
    },
    {
     "name": "stdout",
     "output_type": "stream",
     "text": [
      "   1609/Unknown - 1256s 765ms/step - loss: 1.5424e-05 - mae: 0.0022"
     ]
    },
    {
     "name": "stderr",
     "output_type": "stream",
     "text": [
      "INFO:root:File 'IE000KDY10O3.csv' loaded, 243 left\n"
     ]
    },
    {
     "name": "stdout",
     "output_type": "stream",
     "text": [
      "   1611/Unknown - 1257s 765ms/step - loss: 1.5416e-05 - mae: 0.0022"
     ]
    },
    {
     "name": "stderr",
     "output_type": "stream",
     "text": [
      "INFO:root:File 'LU1681049109.csv' loaded, 242 left\n"
     ]
    },
    {
     "name": "stdout",
     "output_type": "stream",
     "text": [
      "   1612/Unknown - 1258s 765ms/step - loss: 1.5410e-05 - mae: 0.0022"
     ]
    },
    {
     "name": "stderr",
     "output_type": "stream",
     "text": [
      "INFO:root:File 'IE00BNG8L278.csv' loaded, 241 left\n"
     ]
    },
    {
     "name": "stdout",
     "output_type": "stream",
     "text": [
      "   1613/Unknown - 1259s 765ms/step - loss: 1.5404e-05 - mae: 0.0022"
     ]
    },
    {
     "name": "stderr",
     "output_type": "stream",
     "text": [
      "INFO:root:File 'LU1681043086.csv' loaded, 240 left\n"
     ]
    },
    {
     "name": "stdout",
     "output_type": "stream",
     "text": [
      "   1620/Unknown - 1265s 766ms/step - loss: 1.5360e-05 - mae: 0.0022"
     ]
    },
    {
     "name": "stderr",
     "output_type": "stream",
     "text": [
      "INFO:root:File 'IE00BF11F458.csv' loaded, 239 left\n"
     ]
    },
    {
     "name": "stdout",
     "output_type": "stream",
     "text": [
      "   1624/Unknown - 1268s 766ms/step - loss: 1.5336e-05 - mae: 0.0022"
     ]
    },
    {
     "name": "stderr",
     "output_type": "stream",
     "text": [
      "INFO:root:File 'IE00BYSX4283.csv' loaded, 238 left\n"
     ]
    },
    {
     "name": "stdout",
     "output_type": "stream",
     "text": [
      "   1625/Unknown - 1269s 766ms/step - loss: 1.5329e-05 - mae: 0.0022"
     ]
    },
    {
     "name": "stderr",
     "output_type": "stream",
     "text": [
      "INFO:root:File 'LU2082997516.csv' loaded, 237 left\n"
     ]
    },
    {
     "name": "stdout",
     "output_type": "stream",
     "text": [
      "   1637/Unknown - 1276s 765ms/step - loss: 1.5547e-05 - mae: 0.0022"
     ]
    },
    {
     "name": "stderr",
     "output_type": "stream",
     "text": [
      "INFO:root:File 'IE00BKLWY790.csv' loaded, 236 left\n"
     ]
    },
    {
     "name": "stdout",
     "output_type": "stream",
     "text": [
      "   1638/Unknown - 1277s 765ms/step - loss: 1.5541e-05 - mae: 0.0022"
     ]
    },
    {
     "name": "stderr",
     "output_type": "stream",
     "text": [
      "INFO:root:File 'DE000ETF9033.csv' loaded, 235 left\n"
     ]
    },
    {
     "name": "stdout",
     "output_type": "stream",
     "text": [
      "   1640/Unknown - 1279s 765ms/step - loss: 1.5530e-05 - mae: 0.0022"
     ]
    },
    {
     "name": "stderr",
     "output_type": "stream",
     "text": [
      "INFO:root:File 'IE00BLDGH553.csv' loaded, 234 left\n"
     ]
    },
    {
     "name": "stdout",
     "output_type": "stream",
     "text": [
      "   1642/Unknown - 1280s 765ms/step - loss: 1.5518e-05 - mae: 0.0022"
     ]
    },
    {
     "name": "stderr",
     "output_type": "stream",
     "text": [
      "INFO:root:File 'LU1681040223.csv' loaded, 233 left\n"
     ]
    },
    {
     "name": "stdout",
     "output_type": "stream",
     "text": [
      "   1647/Unknown - 1285s 765ms/step - loss: 1.5500e-05 - mae: 0.0022"
     ]
    },
    {
     "name": "stderr",
     "output_type": "stream",
     "text": [
      "INFO:root:File 'IE0002PG6CA6.csv' loaded, 232 left\n"
     ]
    },
    {
     "name": "stdout",
     "output_type": "stream",
     "text": [
      "   1650/Unknown - 1287s 765ms/step - loss: 1.5482e-05 - mae: 0.0022"
     ]
    },
    {
     "name": "stderr",
     "output_type": "stream",
     "text": [
      "INFO:root:File 'IE00BD4TYG73.csv' loaded, 231 left\n"
     ]
    },
    {
     "name": "stdout",
     "output_type": "stream",
     "text": [
      "   1652/Unknown - 1289s 766ms/step - loss: 1.5468e-05 - mae: 0.0022"
     ]
    },
    {
     "name": "stderr",
     "output_type": "stream",
     "text": [
      "INFO:root:File 'IE00BGL86Z12.csv' loaded, 230 left\n"
     ]
    },
    {
     "name": "stdout",
     "output_type": "stream",
     "text": [
      "   1653/Unknown - 1290s 766ms/step - loss: 1.5479e-05 - mae: 0.0022"
     ]
    },
    {
     "name": "stderr",
     "output_type": "stream",
     "text": [
      "INFO:root:File 'LU1681046857.csv' loaded, 229 left\n"
     ]
    },
    {
     "name": "stdout",
     "output_type": "stream",
     "text": [
      "   1654/Unknown - 1291s 766ms/step - loss: 1.5796e-05 - mae: 0.0022"
     ]
    },
    {
     "name": "stderr",
     "output_type": "stream",
     "text": [
      "INFO:root:File 'IE000APK27S2.csv' loaded, 228 left\n"
     ]
    },
    {
     "name": "stdout",
     "output_type": "stream",
     "text": [
      "   1655/Unknown - 1292s 766ms/step - loss: 1.5947e-05 - mae: 0.0022"
     ]
    },
    {
     "name": "stderr",
     "output_type": "stream",
     "text": [
      "INFO:root:File 'IE00B4K48X80.csv' loaded, 227 left\n"
     ]
    },
    {
     "name": "stdout",
     "output_type": "stream",
     "text": [
      "   1660/Unknown - 1297s 766ms/step - loss: 1.6473e-05 - mae: 0.0022"
     ]
    },
    {
     "name": "stderr",
     "output_type": "stream",
     "text": [
      "INFO:root:File 'IE00B7KQ7B66.csv' loaded, 226 left\n"
     ]
    },
    {
     "name": "stdout",
     "output_type": "stream",
     "text": [
      "   1673/Unknown - 1306s 766ms/step - loss: 1.6954e-05 - mae: 0.0022"
     ]
    },
    {
     "name": "stderr",
     "output_type": "stream",
     "text": [
      "INFO:root:File 'IE00BMFNWC33.csv' loaded, 225 left\n"
     ]
    },
    {
     "name": "stdout",
     "output_type": "stream",
     "text": [
      "   1676/Unknown - 1307s 765ms/step - loss: 1.6935e-05 - mae: 0.0022"
     ]
    },
    {
     "name": "stderr",
     "output_type": "stream",
     "text": [
      "INFO:root:File 'LU1650489385.csv' loaded, 224 left\n"
     ]
    },
    {
     "name": "stdout",
     "output_type": "stream",
     "text": [
      "   1681/Unknown - 1313s 766ms/step - loss: 1.6918e-05 - mae: 0.0022"
     ]
    },
    {
     "name": "stderr",
     "output_type": "stream",
     "text": [
      "INFO:root:File 'IE00B53QDK08.csv' loaded, 223 left\n"
     ]
    },
    {
     "name": "stdout",
     "output_type": "stream",
     "text": [
      "   1690/Unknown - 1320s 766ms/step - loss: 1.6872e-05 - mae: 0.0022"
     ]
    },
    {
     "name": "stderr",
     "output_type": "stream",
     "text": [
      "INFO:root:File 'LU1753045415.csv' loaded, 222 left\n"
     ]
    },
    {
     "name": "stdout",
     "output_type": "stream",
     "text": [
      "   1691/Unknown - 1321s 767ms/step - loss: 1.6865e-05 - mae: 0.0022"
     ]
    },
    {
     "name": "stderr",
     "output_type": "stream",
     "text": [
      "INFO:root:File 'IE00BFNM3M05.csv' loaded, 221 left\n"
     ]
    },
    {
     "name": "stdout",
     "output_type": "stream",
     "text": [
      "   1702/Unknown - 1328s 766ms/step - loss: 1.6803e-05 - mae: 0.0022"
     ]
    },
    {
     "name": "stderr",
     "output_type": "stream",
     "text": [
      "INFO:root:File 'IE00BD8PGZ49.csv' loaded, 220 left\n"
     ]
    },
    {
     "name": "stdout",
     "output_type": "stream",
     "text": [
      "   1714/Unknown - 1335s 765ms/step - loss: 1.6737e-05 - mae: 0.0022"
     ]
    },
    {
     "name": "stderr",
     "output_type": "stream",
     "text": [
      "INFO:root:File 'LU2206598109.csv' loaded, 219 left\n"
     ]
    },
    {
     "name": "stdout",
     "output_type": "stream",
     "text": [
      "   1717/Unknown - 1337s 764ms/step - loss: 1.6716e-05 - mae: 0.0022"
     ]
    },
    {
     "name": "stderr",
     "output_type": "stream",
     "text": [
      "INFO:root:File 'NL0010273801.csv' loaded, 218 left\n"
     ]
    },
    {
     "name": "stdout",
     "output_type": "stream",
     "text": [
      "   1718/Unknown - 1339s 765ms/step - loss: 1.6709e-05 - mae: 0.0022"
     ]
    },
    {
     "name": "stderr",
     "output_type": "stream",
     "text": [
      "INFO:root:File 'IE00BF0M2Z96.csv' loaded, 217 left\n"
     ]
    },
    {
     "name": "stdout",
     "output_type": "stream",
     "text": [
      "   1720/Unknown - 1341s 765ms/step - loss: 1.6704e-05 - mae: 0.0022"
     ]
    },
    {
     "name": "stderr",
     "output_type": "stream",
     "text": [
      "INFO:root:File 'IE00B23D9570.csv' loaded, 216 left\n"
     ]
    },
    {
     "name": "stdout",
     "output_type": "stream",
     "text": [
      "   1724/Unknown - 1345s 766ms/step - loss: 1.6674e-05 - mae: 0.0022"
     ]
    },
    {
     "name": "stderr",
     "output_type": "stream",
     "text": [
      "INFO:root:File 'IE00B0M63391.csv' loaded, 215 left\n"
     ]
    },
    {
     "name": "stdout",
     "output_type": "stream",
     "text": [
      "   1727/Unknown - 1349s 767ms/step - loss: 1.6652e-05 - mae: 0.0022"
     ]
    },
    {
     "name": "stderr",
     "output_type": "stream",
     "text": [
      "INFO:root:File 'IE000QNJAOX1.csv' loaded, 214 left\n"
     ]
    },
    {
     "name": "stdout",
     "output_type": "stream",
     "text": [
      "   1728/Unknown - 1349s 767ms/step - loss: 1.6644e-05 - mae: 0.0022"
     ]
    },
    {
     "name": "stderr",
     "output_type": "stream",
     "text": [
      "INFO:root:File 'IE000YKE1AQ5.csv' loaded, 213 left\n"
     ]
    },
    {
     "name": "stdout",
     "output_type": "stream",
     "text": [
      "   1731/Unknown - 1351s 766ms/step - loss: 1.6627e-05 - mae: 0.0022"
     ]
    },
    {
     "name": "stderr",
     "output_type": "stream",
     "text": [
      "INFO:root:File 'IE00BMTX1Y45.csv' loaded, 212 left\n"
     ]
    },
    {
     "name": "stdout",
     "output_type": "stream",
     "text": [
      "   1732/Unknown - 1352s 766ms/step - loss: 1.6619e-05 - mae: 0.0022"
     ]
    },
    {
     "name": "stderr",
     "output_type": "stream",
     "text": [
      "INFO:root:File 'DE000ETFL557.csv' loaded, 211 left\n"
     ]
    },
    {
     "name": "stdout",
     "output_type": "stream",
     "text": [
      "   1742/Unknown - 1358s 765ms/step - loss: 1.6546e-05 - mae: 0.0022"
     ]
    },
    {
     "name": "stderr",
     "output_type": "stream",
     "text": [
      "INFO:root:File 'IE00BKVD2J03.csv' loaded, 210 left\n"
     ]
    },
    {
     "name": "stdout",
     "output_type": "stream",
     "text": [
      "   1744/Unknown - 1359s 765ms/step - loss: 1.6533e-05 - mae: 0.0022"
     ]
    },
    {
     "name": "stderr",
     "output_type": "stream",
     "text": [
      "INFO:root:File 'LU0603942888.csv' loaded, 209 left\n"
     ]
    },
    {
     "name": "stdout",
     "output_type": "stream",
     "text": [
      "   1745/Unknown - 1361s 766ms/step - loss: 1.6527e-05 - mae: 0.0022"
     ]
    },
    {
     "name": "stderr",
     "output_type": "stream",
     "text": [
      "INFO:root:File 'IE00BZ0G8860.csv' loaded, 208 left\n"
     ]
    },
    {
     "name": "stdout",
     "output_type": "stream",
     "text": [
      "   1751/Unknown - 1366s 766ms/step - loss: 1.6493e-05 - mae: 0.0022"
     ]
    },
    {
     "name": "stderr",
     "output_type": "stream",
     "text": [
      "INFO:root:File 'IE00BD1F4M44.csv' loaded in retry loop, 207 left\n"
     ]
    },
    {
     "name": "stdout",
     "output_type": "stream",
     "text": [
      "   1753/Unknown - 1368s 766ms/step - loss: 1.6479e-05 - mae: 0.0022"
     ]
    },
    {
     "name": "stderr",
     "output_type": "stream",
     "text": [
      "INFO:root:File 'IE00BF2B0L69.csv' loaded, 206 left\n"
     ]
    },
    {
     "name": "stdout",
     "output_type": "stream",
     "text": [
      "   1773/Unknown - 1380s 764ms/step - loss: 1.6413e-05 - mae: 0.0022"
     ]
    },
    {
     "name": "stderr",
     "output_type": "stream",
     "text": [
      "INFO:root:File 'IE000MWUQBJ0.csv' loaded, 205 left\n"
     ]
    },
    {
     "name": "stdout",
     "output_type": "stream",
     "text": [
      "   1775/Unknown - 1381s 764ms/step - loss: 1.6412e-05 - mae: 0.0022"
     ]
    },
    {
     "name": "stderr",
     "output_type": "stream",
     "text": [
      "INFO:root:File 'IE00B1FZS806.csv' loaded, 204 left\n"
     ]
    },
    {
     "name": "stdout",
     "output_type": "stream",
     "text": [
      "   1783/Unknown - 1388s 765ms/step - loss: 1.6379e-05 - mae: 0.0022"
     ]
    },
    {
     "name": "stderr",
     "output_type": "stream",
     "text": [
      "INFO:root:File 'IE00B6YX5D40.csv' loaded, 203 left\n"
     ]
    },
    {
     "name": "stdout",
     "output_type": "stream",
     "text": [
      "   1784/Unknown - 1390s 765ms/step - loss: 1.6375e-05 - mae: 0.0022"
     ]
    },
    {
     "name": "stderr",
     "output_type": "stream",
     "text": [
      "INFO:root:File 'IE00B87RLX93.csv' loaded, 202 left\n"
     ]
    },
    {
     "name": "stdout",
     "output_type": "stream",
     "text": [
      "   1785/Unknown - 1392s 766ms/step - loss: 1.6373e-05 - mae: 0.0022"
     ]
    },
    {
     "name": "stderr",
     "output_type": "stream",
     "text": [
      "INFO:root:File 'IE00BN4Q1675.csv' loaded, 201 left\n"
     ]
    },
    {
     "name": "stdout",
     "output_type": "stream",
     "text": [
      "   1786/Unknown - 1392s 766ms/step - loss: 1.6367e-05 - mae: 0.0022"
     ]
    },
    {
     "name": "stderr",
     "output_type": "stream",
     "text": [
      "INFO:root:File 'IE00BLCHJZ35.csv' loaded, 200 left\n"
     ]
    },
    {
     "name": "stdout",
     "output_type": "stream",
     "text": [
      "   1790/Unknown - 1395s 766ms/step - loss: 1.6349e-05 - mae: 0.0022"
     ]
    },
    {
     "name": "stderr",
     "output_type": "stream",
     "text": [
      "INFO:root:File 'IE00B6YX5C33.csv' loaded, 199 left\n"
     ]
    },
    {
     "name": "stdout",
     "output_type": "stream",
     "text": [
      "   1791/Unknown - 1397s 766ms/step - loss: 1.6343e-05 - mae: 0.0022"
     ]
    },
    {
     "name": "stderr",
     "output_type": "stream",
     "text": [
      "INFO:root:File 'IE0004U3TX15.csv' loaded, 198 left\n"
     ]
    },
    {
     "name": "stdout",
     "output_type": "stream",
     "text": [
      "   1792/Unknown - 1398s 766ms/step - loss: 1.6336e-05 - mae: 0.0022"
     ]
    },
    {
     "name": "stderr",
     "output_type": "stream",
     "text": [
      "INFO:root:File 'IE00B7KMNP07.csv' loaded, 197 left\n"
     ]
    },
    {
     "name": "stdout",
     "output_type": "stream",
     "text": [
      "   1793/Unknown - 1399s 767ms/step - loss: 1.6329e-05 - mae: 0.0022"
     ]
    },
    {
     "name": "stderr",
     "output_type": "stream",
     "text": [
      "INFO:root:File 'IE00BD4TXV59.csv' loaded in retry loop, 196 left\n"
     ]
    },
    {
     "name": "stdout",
     "output_type": "stream",
     "text": [
      "   1810/Unknown - 1410s 765ms/step - loss: 1.6246e-05 - mae: 0.0022"
     ]
    },
    {
     "name": "stderr",
     "output_type": "stream",
     "text": [
      "INFO:root:File 'IE0031442068.csv' loaded, 195 left\n"
     ]
    },
    {
     "name": "stdout",
     "output_type": "stream",
     "text": [
      "   1812/Unknown - 1414s 767ms/step - loss: 1.6271e-05 - mae: 0.0022"
     ]
    },
    {
     "name": "stderr",
     "output_type": "stream",
     "text": [
      "INFO:root:File 'IE00BHZPJ783.csv' loaded, 194 left\n"
     ]
    },
    {
     "name": "stdout",
     "output_type": "stream",
     "text": [
      "   1820/Unknown - 1419s 766ms/step - loss: 1.6225e-05 - mae: 0.0022"
     ]
    },
    {
     "name": "stderr",
     "output_type": "stream",
     "text": [
      "INFO:root:File 'IE00B43HR379.csv' loaded, 193 left\n"
     ]
    },
    {
     "name": "stdout",
     "output_type": "stream",
     "text": [
      "   1832/Unknown - 1426s 765ms/step - loss: 1.6175e-05 - mae: 0.0022"
     ]
    },
    {
     "name": "stderr",
     "output_type": "stream",
     "text": [
      "INFO:root:File 'IE00B2QWCY14.csv' loaded, 192 left\n"
     ]
    },
    {
     "name": "stdout",
     "output_type": "stream",
     "text": [
      "   1837/Unknown - 1431s 766ms/step - loss: 1.6165e-05 - mae: 0.0022"
     ]
    },
    {
     "name": "stderr",
     "output_type": "stream",
     "text": [
      "INFO:root:File 'IE00B3VTMJ91.csv' loaded, 191 left\n"
     ]
    },
    {
     "name": "stdout",
     "output_type": "stream",
     "text": [
      "   1846/Unknown - 1438s 766ms/step - loss: 1.6216e-05 - mae: 0.0022"
     ]
    },
    {
     "name": "stderr",
     "output_type": "stream",
     "text": [
      "INFO:root:File 'IE00BLCHJ534.csv' loaded, 190 left\n"
     ]
    },
    {
     "name": "stdout",
     "output_type": "stream",
     "text": [
      "   1849/Unknown - 1440s 765ms/step - loss: 1.6201e-05 - mae: 0.0022"
     ]
    },
    {
     "name": "stderr",
     "output_type": "stream",
     "text": [
      "INFO:root:File 'IE000L2ZNB07.csv' loaded, 189 left\n"
     ]
    },
    {
     "name": "stdout",
     "output_type": "stream",
     "text": [
      "   1850/Unknown - 1440s 765ms/step - loss: 1.6197e-05 - mae: 0.0022"
     ]
    },
    {
     "name": "stderr",
     "output_type": "stream",
     "text": [
      "INFO:root:File 'IE00B77D4428.csv' loaded, 188 left\n"
     ]
    },
    {
     "name": "stdout",
     "output_type": "stream",
     "text": [
      "   1851/Unknown - 1442s 766ms/step - loss: 1.6190e-05 - mae: 0.0022"
     ]
    },
    {
     "name": "stderr",
     "output_type": "stream",
     "text": [
      "INFO:root:File 'IE00BLCHJN13.csv' loaded, 187 left\n"
     ]
    },
    {
     "name": "stdout",
     "output_type": "stream",
     "text": [
      "   1852/Unknown - 1443s 766ms/step - loss: 1.6184e-05 - mae: 0.0022"
     ]
    },
    {
     "name": "stderr",
     "output_type": "stream",
     "text": [
      "INFO:root:File 'IE00BMDPBZ72.csv' loaded, 186 left\n"
     ]
    },
    {
     "name": "stdout",
     "output_type": "stream",
     "text": [
      "   1856/Unknown - 1446s 766ms/step - loss: 1.6159e-05 - mae: 0.0022"
     ]
    },
    {
     "name": "stderr",
     "output_type": "stream",
     "text": [
      "INFO:root:File 'LU1437016204.csv' loaded, 185 left\n"
     ]
    },
    {
     "name": "stdout",
     "output_type": "stream",
     "text": [
      "   1860/Unknown - 1449s 766ms/step - loss: 1.6162e-05 - mae: 0.0022"
     ]
    },
    {
     "name": "stderr",
     "output_type": "stream",
     "text": [
      "INFO:root:File 'LU1327051279.csv' loaded, 184 left\n"
     ]
    },
    {
     "name": "stdout",
     "output_type": "stream",
     "text": [
      "   1863/Unknown - 1451s 766ms/step - loss: 1.6154e-05 - mae: 0.0022"
     ]
    },
    {
     "name": "stderr",
     "output_type": "stream",
     "text": [
      "INFO:root:File 'DE000A0Q4RZ9.csv' loaded, 183 left\n"
     ]
    },
    {
     "name": "stdout",
     "output_type": "stream",
     "text": [
      "   1865/Unknown - 1454s 766ms/step - loss: 1.6173e-05 - mae: 0.0022"
     ]
    },
    {
     "name": "stderr",
     "output_type": "stream",
     "text": [
      "INFO:root:File 'IE00BHBFDF83.csv' loaded, 182 left\n"
     ]
    },
    {
     "name": "stdout",
     "output_type": "stream",
     "text": [
      "   1890/Unknown - 1469s 764ms/step - loss: 1.6091e-05 - mae: 0.0022"
     ]
    },
    {
     "name": "stderr",
     "output_type": "stream",
     "text": [
      "INFO:root:File 'LU1686830909.csv' loaded, 181 left\n"
     ]
    },
    {
     "name": "stdout",
     "output_type": "stream",
     "text": [
      "   1899/Unknown - 1476s 764ms/step - loss: 1.6073e-05 - mae: 0.0022"
     ]
    },
    {
     "name": "stderr",
     "output_type": "stream",
     "text": [
      "INFO:root:File 'LU1481203070.csv' loaded, 180 left\n"
     ]
    },
    {
     "name": "stdout",
     "output_type": "stream",
     "text": [
      "   1910/Unknown - 1483s 764ms/step - loss: 1.6080e-05 - mae: 0.0022"
     ]
    },
    {
     "name": "stderr",
     "output_type": "stream",
     "text": [
      "INFO:root:File 'LU1852212965.csv' loaded, 179 left\n"
     ]
    },
    {
     "name": "stdout",
     "output_type": "stream",
     "text": [
      "   1913/Unknown - 1485s 764ms/step - loss: 1.6072e-05 - mae: 0.0022"
     ]
    },
    {
     "name": "stderr",
     "output_type": "stream",
     "text": [
      "INFO:root:File 'LU1861137484.csv' loaded, 178 left\n"
     ]
    },
    {
     "name": "stdout",
     "output_type": "stream",
     "text": [
      "   1914/Unknown - 1486s 764ms/step - loss: 1.6126e-05 - mae: 0.0022"
     ]
    },
    {
     "name": "stderr",
     "output_type": "stream",
     "text": [
      "INFO:root:File 'LU0671493277.csv' loaded, 177 left\n"
     ]
    },
    {
     "name": "stdout",
     "output_type": "stream",
     "text": [
      "   1915/Unknown - 1489s 764ms/step - loss: 1.6152e-05 - mae: 0.0022"
     ]
    },
    {
     "name": "stderr",
     "output_type": "stream",
     "text": [
      "INFO:root:File 'IE00B466KX20.csv' loaded, 176 left\n"
     ]
    },
    {
     "name": "stdout",
     "output_type": "stream",
     "text": [
      "   1927/Unknown - 1497s 764ms/step - loss: 1.6297e-05 - mae: 0.0022"
     ]
    },
    {
     "name": "stderr",
     "output_type": "stream",
     "text": [
      "INFO:root:File 'IE00BCLWRB83.csv' loaded, 175 left\n"
     ]
    },
    {
     "name": "stdout",
     "output_type": "stream",
     "text": [
      "   1930/Unknown - 1500s 764ms/step - loss: 1.6421e-05 - mae: 0.0022"
     ]
    },
    {
     "name": "stderr",
     "output_type": "stream",
     "text": [
      "INFO:root:File 'DE0006289382.csv' loaded, 174 left\n"
     ]
    },
    {
     "name": "stdout",
     "output_type": "stream",
     "text": [
      "   1932/Unknown - 1503s 765ms/step - loss: 1.6599e-05 - mae: 0.0022"
     ]
    },
    {
     "name": "stderr",
     "output_type": "stream",
     "text": [
      "INFO:root:File 'IE00B53HP851.csv' loaded, 173 left\n"
     ]
    },
    {
     "name": "stdout",
     "output_type": "stream",
     "text": [
      "   1937/Unknown - 1508s 766ms/step - loss: 1.7563e-05 - mae: 0.0022"
     ]
    },
    {
     "name": "stderr",
     "output_type": "stream",
     "text": [
      "INFO:root:File 'LU1681046691.csv' loaded, 172 left\n"
     ]
    },
    {
     "name": "stdout",
     "output_type": "stream",
     "text": [
      "   1944/Unknown - 1513s 766ms/step - loss: 1.8853e-05 - mae: 0.0022"
     ]
    },
    {
     "name": "stderr",
     "output_type": "stream",
     "text": [
      "INFO:root:File 'IE00B23D8X81.csv' loaded, 171 left\n"
     ]
    },
    {
     "name": "stdout",
     "output_type": "stream",
     "text": [
      "   1958/Unknown - 1523s 766ms/step - loss: 2.0488e-05 - mae: 0.0022"
     ]
    },
    {
     "name": "stderr",
     "output_type": "stream",
     "text": [
      "INFO:root:File 'LU1650488817.csv' loaded, 170 left\n"
     ]
    },
    {
     "name": "stdout",
     "output_type": "stream",
     "text": [
      "   1969/Unknown - 1530s 765ms/step - loss: 2.1769e-05 - mae: 0.0023"
     ]
    },
    {
     "name": "stderr",
     "output_type": "stream",
     "text": [
      "INFO:root:File 'IE00B4WXJJ64.csv' loaded, 169 left\n"
     ]
    },
    {
     "name": "stdout",
     "output_type": "stream",
     "text": [
      "   1977/Unknown - 1536s 765ms/step - loss: 2.2051e-05 - mae: 0.0023"
     ]
    },
    {
     "name": "stderr",
     "output_type": "stream",
     "text": [
      "INFO:root:File 'DE000A0Q4R69.csv' loaded, 168 left\n"
     ]
    },
    {
     "name": "stdout",
     "output_type": "stream",
     "text": [
      "   1979/Unknown - 1537s 764ms/step - loss: 2.2038e-05 - mae: 0.0023"
     ]
    },
    {
     "name": "stderr",
     "output_type": "stream",
     "text": [
      "INFO:root:File 'IE00BJRCLL96.csv' loaded, 167 left\n"
     ]
    },
    {
     "name": "stdout",
     "output_type": "stream",
     "text": [
      "   1980/Unknown - 1538s 764ms/step - loss: 2.2029e-05 - mae: 0.0023"
     ]
    },
    {
     "name": "stderr",
     "output_type": "stream",
     "text": [
      "INFO:root:File 'IE00BLP53M98.csv' loaded, 166 left\n"
     ]
    },
    {
     "name": "stdout",
     "output_type": "stream",
     "text": [
      "   1985/Unknown - 1541s 764ms/step - loss: 2.2011e-05 - mae: 0.0023"
     ]
    },
    {
     "name": "stderr",
     "output_type": "stream",
     "text": [
      "INFO:root:File 'IE00BMH5XY61.csv' loaded, 165 left\n"
     ]
    },
    {
     "name": "stdout",
     "output_type": "stream",
     "text": [
      "   1990/Unknown - 1544s 764ms/step - loss: 2.1967e-05 - mae: 0.0023"
     ]
    },
    {
     "name": "stderr",
     "output_type": "stream",
     "text": [
      "INFO:root:File 'IE00BCBJF711.csv' loaded, 164 left\n"
     ]
    },
    {
     "name": "stdout",
     "output_type": "stream",
     "text": [
      "   1991/Unknown - 1545s 764ms/step - loss: 2.1958e-05 - mae: 0.0023"
     ]
    },
    {
     "name": "stderr",
     "output_type": "stream",
     "text": [
      "INFO:root:File 'IE00B1FZSB30.csv' loaded, 163 left\n"
     ]
    },
    {
     "name": "stdout",
     "output_type": "stream",
     "text": [
      "   1998/Unknown - 1552s 765ms/step - loss: 2.1922e-05 - mae: 0.0023"
     ]
    },
    {
     "name": "stderr",
     "output_type": "stream",
     "text": [
      "INFO:root:File 'IE00BN4PXC48.csv' loaded, 162 left\n"
     ]
    },
    {
     "name": "stdout",
     "output_type": "stream",
     "text": [
      "   2000/Unknown - 1553s 764ms/step - loss: 2.1907e-05 - mae: 0.0023"
     ]
    },
    {
     "name": "stderr",
     "output_type": "stream",
     "text": [
      "INFO:root:2023-03-30 06:59:50.785078\n",
      "INFO:root:Saved model to '/content/bigdata/chk/FPNWithAttentionBiggerTimebased_2_FutureOnly_60days_GPU_128LB/cp_daily_valid_00_02000/model.h5'\n",
      "INFO:root:Saved optimizer config to '/content/bigdata/chk/FPNWithAttentionBiggerTimebased_2_FutureOnly_60days_GPU_128LB/cp_daily_valid_00_02000/c.pickle'\n",
      "INFO:root:Saved optimizer weights to '/content/bigdata/chk/FPNWithAttentionBiggerTimebased_2_FutureOnly_60days_GPU_128LB/cp_daily_valid_00_02000/w.pickle'\n",
      "INFO:root:Did a gc collect: 0\n"
     ]
    },
    {
     "name": "stdout",
     "output_type": "stream",
     "text": [
      "   2005/Unknown - 1561s 766ms/step - loss: 2.1863e-05 - mae: 0.0023"
     ]
    },
    {
     "name": "stderr",
     "output_type": "stream",
     "text": [
      "INFO:root:File 'LU1829218319.csv' loaded, 161 left\n"
     ]
    },
    {
     "name": "stdout",
     "output_type": "stream",
     "text": [
      "   2006/Unknown - 1563s 767ms/step - loss: 2.1855e-05 - mae: 0.0023"
     ]
    },
    {
     "name": "stderr",
     "output_type": "stream",
     "text": [
      "INFO:root:File 'IE00BRKWGL70.csv' loaded, 160 left\n"
     ]
    },
    {
     "name": "stdout",
     "output_type": "stream",
     "text": [
      "   2007/Unknown - 1564s 767ms/step - loss: 2.1846e-05 - mae: 0.0023"
     ]
    },
    {
     "name": "stderr",
     "output_type": "stream",
     "text": [
      "INFO:root:File 'IE00B02KXH56.csv' loaded, 159 left\n"
     ]
    },
    {
     "name": "stdout",
     "output_type": "stream",
     "text": [
      "   2030/Unknown - 1580s 766ms/step - loss: 2.1658e-05 - mae: 0.0023"
     ]
    },
    {
     "name": "stderr",
     "output_type": "stream",
     "text": [
      "INFO:root:File 'NL0010408704.csv' loaded, 158 left\n"
     ]
    },
    {
     "name": "stdout",
     "output_type": "stream",
     "text": [
      "   2040/Unknown - 1587s 766ms/step - loss: 2.1807e-05 - mae: 0.0023"
     ]
    },
    {
     "name": "stderr",
     "output_type": "stream",
     "text": [
      "INFO:root:File 'LU1861136247.csv' loaded, 157 left\n"
     ]
    },
    {
     "name": "stdout",
     "output_type": "stream",
     "text": [
      "   2047/Unknown - 1592s 766ms/step - loss: 2.1759e-05 - mae: 0.0023"
     ]
    },
    {
     "name": "stderr",
     "output_type": "stream",
     "text": [
      "INFO:root:File 'IE00BG8BCY43.csv' loaded, 156 left\n"
     ]
    },
    {
     "name": "stdout",
     "output_type": "stream",
     "text": [
      "   2049/Unknown - 1593s 766ms/step - loss: 2.1744e-05 - mae: 0.0023"
     ]
    },
    {
     "name": "stderr",
     "output_type": "stream",
     "text": [
      "INFO:root:File 'IE00BP2C1V62.csv' loaded, 155 left\n"
     ]
    },
    {
     "name": "stdout",
     "output_type": "stream",
     "text": [
      "   2051/Unknown - 1595s 766ms/step - loss: 2.1727e-05 - mae: 0.0023"
     ]
    },
    {
     "name": "stderr",
     "output_type": "stream",
     "text": [
      "INFO:root:File 'LU1686832194.csv' loaded, 154 left\n"
     ]
    },
    {
     "name": "stdout",
     "output_type": "stream",
     "text": [
      "   2052/Unknown - 1596s 766ms/step - loss: 2.1718e-05 - mae: 0.0023"
     ]
    },
    {
     "name": "stderr",
     "output_type": "stream",
     "text": [
      "INFO:root:File 'LU2250132763.csv' loaded, 153 left\n"
     ]
    },
    {
     "name": "stdout",
     "output_type": "stream",
     "text": [
      "   2057/Unknown - 1599s 765ms/step - loss: 2.1784e-05 - mae: 0.0023"
     ]
    },
    {
     "name": "stderr",
     "output_type": "stream",
     "text": [
      "INFO:root:File 'LU0950674928.csv' loaded, 152 left\n"
     ]
    },
    {
     "name": "stdout",
     "output_type": "stream",
     "text": [
      "   2060/Unknown - 1601s 765ms/step - loss: 2.1886e-05 - mae: 0.0023"
     ]
    },
    {
     "name": "stderr",
     "output_type": "stream",
     "text": [
      "INFO:root:File 'IE00BKSBGV72.csv' loaded, 151 left\n"
     ]
    },
    {
     "name": "stdout",
     "output_type": "stream",
     "text": [
      "   2063/Unknown - 1603s 765ms/step - loss: 2.1861e-05 - mae: 0.0023"
     ]
    },
    {
     "name": "stderr",
     "output_type": "stream",
     "text": [
      "INFO:root:File 'IE00B4M7GH52.csv' loaded, 150 left\n"
     ]
    },
    {
     "name": "stdout",
     "output_type": "stream",
     "text": [
      "   2067/Unknown - 1607s 765ms/step - loss: 2.2063e-05 - mae: 0.0023"
     ]
    },
    {
     "name": "stderr",
     "output_type": "stream",
     "text": [
      "INFO:root:File 'DE000A0F5UE8.csv' loaded, 149 left\n"
     ]
    },
    {
     "name": "stdout",
     "output_type": "stream",
     "text": [
      "   2070/Unknown - 1611s 766ms/step - loss: 2.2042e-05 - mae: 0.0023"
     ]
    },
    {
     "name": "stderr",
     "output_type": "stream",
     "text": [
      "INFO:root:File 'IE00B9KNR336.csv' loaded, 148 left\n"
     ]
    },
    {
     "name": "stdout",
     "output_type": "stream",
     "text": [
      "   2073/Unknown - 1614s 767ms/step - loss: 2.2238e-05 - mae: 0.0023"
     ]
    },
    {
     "name": "stderr",
     "output_type": "stream",
     "text": [
      "INFO:root:File 'IE00B0M63623.csv' loaded, 147 left\n"
     ]
    },
    {
     "name": "stdout",
     "output_type": "stream",
     "text": [
      "   2082/Unknown - 1621s 767ms/step - loss: 2.2191e-05 - mae: 0.0023"
     ]
    },
    {
     "name": "stderr",
     "output_type": "stream",
     "text": [
      "INFO:root:File 'IE00B3LK4Z20.csv' loaded, 146 left\n"
     ]
    },
    {
     "name": "stdout",
     "output_type": "stream",
     "text": [
      "   2084/Unknown - 1624s 767ms/step - loss: 2.2175e-05 - mae: 0.0023"
     ]
    },
    {
     "name": "stderr",
     "output_type": "stream",
     "text": [
      "INFO:root:File 'IE00BYXPXL17.csv' loaded, 145 left\n"
     ]
    },
    {
     "name": "stdout",
     "output_type": "stream",
     "text": [
      "   2094/Unknown - 1630s 767ms/step - loss: 2.2094e-05 - mae: 0.0022"
     ]
    },
    {
     "name": "stderr",
     "output_type": "stream",
     "text": [
      "INFO:root:File 'LU1829218749.csv' loaded, 144 left\n"
     ]
    },
    {
     "name": "stdout",
     "output_type": "stream",
     "text": [
      "   2110/Unknown - 1641s 766ms/step - loss: 2.2012e-05 - mae: 0.0022"
     ]
    },
    {
     "name": "stderr",
     "output_type": "stream",
     "text": [
      "INFO:root:File 'FR0010296061.csv' loaded, 143 left\n"
     ]
    },
    {
     "name": "stdout",
     "output_type": "stream",
     "text": [
      "   2115/Unknown - 1646s 767ms/step - loss: 2.1988e-05 - mae: 0.0022"
     ]
    },
    {
     "name": "stderr",
     "output_type": "stream",
     "text": [
      "INFO:root:File 'LU0392494992.csv' loaded, 142 left\n"
     ]
    },
    {
     "name": "stdout",
     "output_type": "stream",
     "text": [
      "   2124/Unknown - 1653s 767ms/step - loss: 2.1936e-05 - mae: 0.0022"
     ]
    },
    {
     "name": "stderr",
     "output_type": "stream",
     "text": [
      "INFO:root:File 'IE00BHZRR147.csv' loaded, 141 left\n"
     ]
    },
    {
     "name": "stdout",
     "output_type": "stream",
     "text": [
      "   2130/Unknown - 1657s 766ms/step - loss: 2.1895e-05 - mae: 0.0022"
     ]
    },
    {
     "name": "stderr",
     "output_type": "stream",
     "text": [
      "INFO:root:File 'DE0006289473.csv' loaded, 140 left\n"
     ]
    },
    {
     "name": "stdout",
     "output_type": "stream",
     "text": [
      "   2142/Unknown - 1666s 767ms/step - loss: 2.1800e-05 - mae: 0.0022"
     ]
    },
    {
     "name": "stderr",
     "output_type": "stream",
     "text": [
      "INFO:root:File 'IE000M0ZXLY9.csv' loaded, 139 left\n"
     ]
    },
    {
     "name": "stdout",
     "output_type": "stream",
     "text": [
      "   2143/Unknown - 1667s 766ms/step - loss: 2.1791e-05 - mae: 0.0022"
     ]
    },
    {
     "name": "stderr",
     "output_type": "stream",
     "text": [
      "INFO:root:File 'IE00BN76Y761.csv' loaded, 138 left\n"
     ]
    },
    {
     "name": "stdout",
     "output_type": "stream",
     "text": [
      "   2144/Unknown - 1668s 766ms/step - loss: 2.1783e-05 - mae: 0.0022"
     ]
    },
    {
     "name": "stderr",
     "output_type": "stream",
     "text": [
      "INFO:root:File 'LU2297533809.csv' loaded, 137 left\n"
     ]
    },
    {
     "name": "stdout",
     "output_type": "stream",
     "text": [
      "   2151/Unknown - 1672s 766ms/step - loss: 2.1739e-05 - mae: 0.0022"
     ]
    },
    {
     "name": "stderr",
     "output_type": "stream",
     "text": [
      "INFO:root:File 'FR0011720911.csv' loaded, 136 left\n"
     ]
    },
    {
     "name": "stdout",
     "output_type": "stream",
     "text": [
      "   2152/Unknown - 1673s 766ms/step - loss: 2.1735e-05 - mae: 0.0022"
     ]
    },
    {
     "name": "stderr",
     "output_type": "stream",
     "text": [
      "INFO:root:File 'LU1681047236.csv' loaded, 135 left\n"
     ]
    },
    {
     "name": "stdout",
     "output_type": "stream",
     "text": [
      "   2161/Unknown - 1681s 766ms/step - loss: 2.1677e-05 - mae: 0.0022"
     ]
    },
    {
     "name": "stderr",
     "output_type": "stream",
     "text": [
      "INFO:root:File 'LU1215451524.csv' loaded, 134 left\n"
     ]
    },
    {
     "name": "stdout",
     "output_type": "stream",
     "text": [
      "   2170/Unknown - 1687s 766ms/step - loss: 2.1622e-05 - mae: 0.0022"
     ]
    },
    {
     "name": "stderr",
     "output_type": "stream",
     "text": [
      "INFO:root:File 'LU2082998670.csv' loaded, 133 left\n"
     ]
    },
    {
     "name": "stdout",
     "output_type": "stream",
     "text": [
      "   2182/Unknown - 1694s 765ms/step - loss: 2.1553e-05 - mae: 0.0022"
     ]
    },
    {
     "name": "stderr",
     "output_type": "stream",
     "text": [
      "INFO:root:File 'IE00B66F4759.csv' loaded, 132 left\n"
     ]
    },
    {
     "name": "stdout",
     "output_type": "stream",
     "text": [
      "   2190/Unknown - 1700s 765ms/step - loss: 2.1534e-05 - mae: 0.0022"
     ]
    },
    {
     "name": "stderr",
     "output_type": "stream",
     "text": [
      "INFO:root:File 'IE00B4K6B022.csv' loaded, 131 left\n"
     ]
    },
    {
     "name": "stdout",
     "output_type": "stream",
     "text": [
      "   2194/Unknown - 1704s 765ms/step - loss: 2.1512e-05 - mae: 0.0022"
     ]
    },
    {
     "name": "stderr",
     "output_type": "stream",
     "text": [
      "INFO:root:File 'IE00BK5BQY34.csv' loaded, 130 left\n"
     ]
    },
    {
     "name": "stdout",
     "output_type": "stream",
     "text": [
      "   2197/Unknown - 1706s 765ms/step - loss: 2.1493e-05 - mae: 0.0022"
     ]
    },
    {
     "name": "stderr",
     "output_type": "stream",
     "text": [
      "INFO:root:File 'IE00BP3QZ601.csv' loaded, 129 left\n"
     ]
    },
    {
     "name": "stdout",
     "output_type": "stream",
     "text": [
      "   2202/Unknown - 1710s 765ms/step - loss: 2.1458e-05 - mae: 0.0022"
     ]
    },
    {
     "name": "stderr",
     "output_type": "stream",
     "text": [
      "INFO:root:File 'LU2082998324.csv' loaded, 128 left\n"
     ]
    },
    {
     "name": "stdout",
     "output_type": "stream",
     "text": [
      "   2205/Unknown - 1712s 765ms/step - loss: 2.1437e-05 - mae: 0.0022"
     ]
    },
    {
     "name": "stderr",
     "output_type": "stream",
     "text": [
      "INFO:root:File 'LU1287023003.csv' loaded, 127 left\n"
     ]
    },
    {
     "name": "stdout",
     "output_type": "stream",
     "text": [
      "   2213/Unknown - 1718s 765ms/step - loss: 2.1396e-05 - mae: 0.0022"
     ]
    },
    {
     "name": "stderr",
     "output_type": "stream",
     "text": [
      "INFO:root:File 'IE000GOJO2A3.csv' loaded, 126 left\n",
      "WARNING:root:Batch size did not match the desired size, trying again: self.batch_size != _X_data.shape[0], 512 != 459\n",
      "INFO:root:File 'IE00B3VWN179.csv' loaded, 125 left\n"
     ]
    },
    {
     "name": "stdout",
     "output_type": "stream",
     "text": [
      "   2215/Unknown - 1721s 766ms/step - loss: 2.1391e-05 - mae: 0.0022"
     ]
    },
    {
     "name": "stderr",
     "output_type": "stream",
     "text": [
      "INFO:root:File 'IE00BKY59G90.csv' loaded in retry loop, 124 left\n"
     ]
    },
    {
     "name": "stdout",
     "output_type": "stream",
     "text": [
      "   2225/Unknown - 1727s 765ms/step - loss: 2.1343e-05 - mae: 0.0022"
     ]
    },
    {
     "name": "stderr",
     "output_type": "stream",
     "text": [
      "INFO:root:File 'DE000A0Q4R28.csv' loaded, 123 left\n"
     ]
    },
    {
     "name": "stdout",
     "output_type": "stream",
     "text": [
      "   2231/Unknown - 1733s 766ms/step - loss: 2.1301e-05 - mae: 0.0022"
     ]
    },
    {
     "name": "stderr",
     "output_type": "stream",
     "text": [
      "INFO:root:File 'IE00BYVJRR92.csv' loaded, 122 left\n"
     ]
    },
    {
     "name": "stdout",
     "output_type": "stream",
     "text": [
      "   2240/Unknown - 1739s 766ms/step - loss: 2.1239e-05 - mae: 0.0022"
     ]
    },
    {
     "name": "stderr",
     "output_type": "stream",
     "text": [
      "INFO:root:File 'DE0005933923.csv' loaded, 121 left\n"
     ]
    },
    {
     "name": "stdout",
     "output_type": "stream",
     "text": [
      "   2242/Unknown - 1743s 767ms/step - loss: 2.1225e-05 - mae: 0.0022"
     ]
    },
    {
     "name": "stderr",
     "output_type": "stream",
     "text": [
      "INFO:root:File 'IE00BFZXGZ54.csv' loaded, 120 left\n"
     ]
    },
    {
     "name": "stdout",
     "output_type": "stream",
     "text": [
      "   2250/Unknown - 1748s 766ms/step - loss: 2.1176e-05 - mae: 0.0022"
     ]
    },
    {
     "name": "stderr",
     "output_type": "stream",
     "text": [
      "INFO:root:File 'DE000ETFL011.csv' loaded, 119 left\n"
     ]
    },
    {
     "name": "stdout",
     "output_type": "stream",
     "text": [
      "   2263/Unknown - 1758s 766ms/step - loss: 2.1090e-05 - mae: 0.0022"
     ]
    },
    {
     "name": "stderr",
     "output_type": "stream",
     "text": [
      "INFO:root:File 'LU2082999058.csv' loaded, 118 left\n"
     ]
    },
    {
     "name": "stdout",
     "output_type": "stream",
     "text": [
      "   2265/Unknown - 1759s 766ms/step - loss: 2.1076e-05 - mae: 0.0022"
     ]
    },
    {
     "name": "stderr",
     "output_type": "stream",
     "text": [
      "INFO:root:File 'DE000A0Q4R02.csv' loaded, 117 left\n"
     ]
    },
    {
     "name": "stdout",
     "output_type": "stream",
     "text": [
      "   2267/Unknown - 1763s 767ms/step - loss: 2.1063e-05 - mae: 0.0022"
     ]
    },
    {
     "name": "stderr",
     "output_type": "stream",
     "text": [
      "INFO:root:File 'IE000BPQIAA3.csv' loaded, 116 left\n"
     ]
    },
    {
     "name": "stdout",
     "output_type": "stream",
     "text": [
      "   2268/Unknown - 1764s 767ms/step - loss: 2.1056e-05 - mae: 0.0022"
     ]
    },
    {
     "name": "stderr",
     "output_type": "stream",
     "text": [
      "INFO:root:File 'IE000XFORJ80.csv' loaded, 115 left\n"
     ]
    },
    {
     "name": "stdout",
     "output_type": "stream",
     "text": [
      "   2271/Unknown - 1766s 767ms/step - loss: 2.1034e-05 - mae: 0.0022"
     ]
    },
    {
     "name": "stderr",
     "output_type": "stream",
     "text": [
      "INFO:root:File 'LU1931975152.csv' loaded, 114 left\n"
     ]
    },
    {
     "name": "stdout",
     "output_type": "stream",
     "text": [
      "   2275/Unknown - 1768s 767ms/step - loss: 2.1007e-05 - mae: 0.0022"
     ]
    },
    {
     "name": "stderr",
     "output_type": "stream",
     "text": [
      "INFO:root:File 'IE00B23D8S39.csv' loaded, 113 left\n"
     ]
    },
    {
     "name": "stdout",
     "output_type": "stream",
     "text": [
      "   2280/Unknown - 1773s 767ms/step - loss: 2.0983e-05 - mae: 0.0022"
     ]
    },
    {
     "name": "stderr",
     "output_type": "stream",
     "text": [
      "INFO:root:File 'IE00BFNM3C07.csv' loaded, 112 left\n"
     ]
    },
    {
     "name": "stdout",
     "output_type": "stream",
     "text": [
      "   2290/Unknown - 1780s 766ms/step - loss: 2.0937e-05 - mae: 0.0022"
     ]
    },
    {
     "name": "stderr",
     "output_type": "stream",
     "text": [
      "INFO:root:File 'LU1861132840.csv' loaded, 111 left\n"
     ]
    },
    {
     "name": "stdout",
     "output_type": "stream",
     "text": [
      "   2292/Unknown - 1781s 766ms/step - loss: 2.0925e-05 - mae: 0.0022"
     ]
    },
    {
     "name": "stderr",
     "output_type": "stream",
     "text": [
      "INFO:root:File 'IE00B53L4350.csv' loaded, 110 left\n"
     ]
    },
    {
     "name": "stdout",
     "output_type": "stream",
     "text": [
      "   2303/Unknown - 1789s 766ms/step - loss: 2.0882e-05 - mae: 0.0022"
     ]
    },
    {
     "name": "stderr",
     "output_type": "stream",
     "text": [
      "INFO:root:File 'LU2265794276.csv' loaded, 109 left\n"
     ]
    },
    {
     "name": "stdout",
     "output_type": "stream",
     "text": [
      "   2312/Unknown - 1795s 766ms/step - loss: 2.0838e-05 - mae: 0.0022"
     ]
    },
    {
     "name": "stderr",
     "output_type": "stream",
     "text": [
      "INFO:root:File 'LU1681045370.csv' loaded, 108 left\n"
     ]
    },
    {
     "name": "stdout",
     "output_type": "stream",
     "text": [
      "   2313/Unknown - 1796s 766ms/step - loss: 2.0836e-05 - mae: 0.0022"
     ]
    },
    {
     "name": "stderr",
     "output_type": "stream",
     "text": [
      "INFO:root:File 'IE00B5MJYC95.csv' loaded, 107 left\n"
     ]
    },
    {
     "name": "stdout",
     "output_type": "stream",
     "text": [
      "   2334/Unknown - 1811s 765ms/step - loss: 2.0782e-05 - mae: 0.0022"
     ]
    },
    {
     "name": "stderr",
     "output_type": "stream",
     "text": [
      "INFO:root:File 'LU0908501488.csv' loaded, 106 left\n"
     ]
    },
    {
     "name": "stdout",
     "output_type": "stream",
     "text": [
      "   2341/Unknown - 1815s 765ms/step - loss: 2.0740e-05 - mae: 0.0022"
     ]
    },
    {
     "name": "stderr",
     "output_type": "stream",
     "text": [
      "INFO:root:File 'IE00BZ0G8C04.csv' loaded, 105 left\n"
     ]
    },
    {
     "name": "stdout",
     "output_type": "stream",
     "text": [
      "   2346/Unknown - 1819s 765ms/step - loss: 2.0714e-05 - mae: 0.0022"
     ]
    },
    {
     "name": "stderr",
     "output_type": "stream",
     "text": [
      "INFO:root:File 'IE00BD1F4L37.csv' loaded, 104 left\n"
     ]
    },
    {
     "name": "stdout",
     "output_type": "stream",
     "text": [
      "   2360/Unknown - 1828s 764ms/step - loss: 2.0635e-05 - mae: 0.0022"
     ]
    },
    {
     "name": "stderr",
     "output_type": "stream",
     "text": [
      "INFO:root:File 'IE000QUOSE01.csv' loaded, 103 left\n"
     ]
    },
    {
     "name": "stdout",
     "output_type": "stream",
     "text": [
      "   2361/Unknown - 1828s 764ms/step - loss: 2.0631e-05 - mae: 0.0022"
     ]
    },
    {
     "name": "stderr",
     "output_type": "stream",
     "text": [
      "INFO:root:File 'IE00BDZZTM54.csv' loaded, 102 left\n"
     ]
    },
    {
     "name": "stdout",
     "output_type": "stream",
     "text": [
      "   2363/Unknown - 1830s 764ms/step - loss: 2.0620e-05 - mae: 0.0022"
     ]
    },
    {
     "name": "stderr",
     "output_type": "stream",
     "text": [
      "INFO:root:File 'IE00BFNM3N12.csv' loaded, 101 left\n"
     ]
    },
    {
     "name": "stdout",
     "output_type": "stream",
     "text": [
      "   2365/Unknown - 1832s 764ms/step - loss: 2.0607e-05 - mae: 0.0022"
     ]
    },
    {
     "name": "stderr",
     "output_type": "stream",
     "text": [
      "INFO:root:File 'IE00BCLWRD08.csv' loaded, 100 left\n"
     ]
    },
    {
     "name": "stdout",
     "output_type": "stream",
     "text": [
      "   2380/Unknown - 1841s 763ms/step - loss: 2.0509e-05 - mae: 0.0022"
     ]
    },
    {
     "name": "stderr",
     "output_type": "stream",
     "text": [
      "INFO:root:File 'DE000ETFL383.csv' loaded, 99 left\n"
     ]
    },
    {
     "name": "stdout",
     "output_type": "stream",
     "text": [
      "   2381/Unknown - 1843s 764ms/step - loss: 2.0503e-05 - mae: 0.0022"
     ]
    },
    {
     "name": "stderr",
     "output_type": "stream",
     "text": [
      "INFO:root:File 'LU0488317701.csv' loaded, 98 left\n"
     ]
    },
    {
     "name": "stdout",
     "output_type": "stream",
     "text": [
      "   2382/Unknown - 1845s 764ms/step - loss: 2.0496e-05 - mae: 0.0022"
     ]
    },
    {
     "name": "stderr",
     "output_type": "stream",
     "text": [
      "INFO:root:File 'IE00BP3QZ825.csv' loaded, 97 left\n"
     ]
    },
    {
     "name": "stdout",
     "output_type": "stream",
     "text": [
      "   2383/Unknown - 1847s 765ms/step - loss: 2.0488e-05 - mae: 0.0022"
     ]
    },
    {
     "name": "stderr",
     "output_type": "stream",
     "text": [
      "INFO:root:File 'IE00BLSN7P11.csv' loaded, 96 left\n"
     ]
    },
    {
     "name": "stdout",
     "output_type": "stream",
     "text": [
      "   2385/Unknown - 1849s 765ms/step - loss: 2.0474e-05 - mae: 0.0022"
     ]
    },
    {
     "name": "stderr",
     "output_type": "stream",
     "text": [
      "INFO:root:File 'LU0378437502.csv' loaded, 95 left\n"
     ]
    },
    {
     "name": "stdout",
     "output_type": "stream",
     "text": [
      "   2389/Unknown - 1853s 766ms/step - loss: 2.0447e-05 - mae: 0.0022"
     ]
    },
    {
     "name": "stderr",
     "output_type": "stream",
     "text": [
      "INFO:root:File 'IE00B0M63730.csv' loaded, 94 left\n"
     ]
    },
    {
     "name": "stdout",
     "output_type": "stream",
     "text": [
      "   2390/Unknown - 1855s 766ms/step - loss: 2.0440e-05 - mae: 0.0022"
     ]
    },
    {
     "name": "stderr",
     "output_type": "stream",
     "text": [
      "INFO:root:File 'LU1861138961.csv' loaded, 93 left\n"
     ]
    },
    {
     "name": "stdout",
     "output_type": "stream",
     "text": [
      "   2391/Unknown - 1857s 767ms/step - loss: 2.0433e-05 - mae: 0.0022"
     ]
    },
    {
     "name": "stderr",
     "output_type": "stream",
     "text": [
      "INFO:root:File 'IE00BJP26D89.csv' loaded in retry loop, 92 left\n"
     ]
    },
    {
     "name": "stdout",
     "output_type": "stream",
     "text": [
      "   2405/Unknown - 1866s 766ms/step - loss: 2.0345e-05 - mae: 0.0022"
     ]
    },
    {
     "name": "stderr",
     "output_type": "stream",
     "text": [
      "INFO:root:File 'DE0006289465.csv' loaded, 91 left\n"
     ]
    },
    {
     "name": "stdout",
     "output_type": "stream",
     "text": [
      "   2411/Unknown - 1872s 766ms/step - loss: 2.0313e-05 - mae: 0.0022"
     ]
    },
    {
     "name": "stderr",
     "output_type": "stream",
     "text": [
      "INFO:root:File 'DE000ETF9090.csv' loaded, 90 left\n"
     ]
    },
    {
     "name": "stdout",
     "output_type": "stream",
     "text": [
      "   2417/Unknown - 1875s 766ms/step - loss: 2.0278e-05 - mae: 0.0022"
     ]
    },
    {
     "name": "stderr",
     "output_type": "stream",
     "text": [
      "INFO:root:File 'LU0599612842.csv' loaded in retry loop, 89 left\n"
     ]
    },
    {
     "name": "stdout",
     "output_type": "stream",
     "text": [
      "   2426/Unknown - 1882s 766ms/step - loss: 2.0396e-05 - mae: 0.0022"
     ]
    },
    {
     "name": "stderr",
     "output_type": "stream",
     "text": [
      "INFO:root:File 'IE00BKX55S42.csv' loaded, 88 left\n"
     ]
    },
    {
     "name": "stdout",
     "output_type": "stream",
     "text": [
      "   2427/Unknown - 1883s 766ms/step - loss: 2.0418e-05 - mae: 0.0022"
     ]
    },
    {
     "name": "stderr",
     "output_type": "stream",
     "text": [
      "INFO:root:File 'IE00B5MTY077.csv' loaded, 87 left\n"
     ]
    },
    {
     "name": "stdout",
     "output_type": "stream",
     "text": [
      "   2447/Unknown - 1897s 765ms/step - loss: 2.0785e-05 - mae: 0.0022"
     ]
    },
    {
     "name": "stderr",
     "output_type": "stream",
     "text": [
      "INFO:root:File 'IE00B1FZSC47.csv' loaded, 86 left\n"
     ]
    },
    {
     "name": "stdout",
     "output_type": "stream",
     "text": [
      "   2451/Unknown - 1901s 766ms/step - loss: 2.0765e-05 - mae: 0.0022"
     ]
    },
    {
     "name": "stderr",
     "output_type": "stream",
     "text": [
      "INFO:root:File 'IE00B1FZS244.csv' loaded, 85 left\n"
     ]
    },
    {
     "name": "stdout",
     "output_type": "stream",
     "text": [
      "   2466/Unknown - 1912s 765ms/step - loss: 2.0701e-05 - mae: 0.0022"
     ]
    },
    {
     "name": "stderr",
     "output_type": "stream",
     "text": [
      "INFO:root:File 'IE00B6R52143.csv' loaded, 84 left\n"
     ]
    },
    {
     "name": "stdout",
     "output_type": "stream",
     "text": [
      "   2472/Unknown - 1917s 766ms/step - loss: 2.0693e-05 - mae: 0.0022"
     ]
    },
    {
     "name": "stderr",
     "output_type": "stream",
     "text": [
      "INFO:root:File 'FR0010245514.csv' loaded, 83 left\n"
     ]
    },
    {
     "name": "stdout",
     "output_type": "stream",
     "text": [
      "   2481/Unknown - 1924s 766ms/step - loss: 2.0655e-05 - mae: 0.0022"
     ]
    },
    {
     "name": "stderr",
     "output_type": "stream",
     "text": [
      "INFO:root:File 'LU0721553864.csv' loaded, 82 left\n"
     ]
    },
    {
     "name": "stdout",
     "output_type": "stream",
     "text": [
      "   2486/Unknown - 1929s 766ms/step - loss: 2.0623e-05 - mae: 0.0022"
     ]
    },
    {
     "name": "stderr",
     "output_type": "stream",
     "text": [
      "INFO:root:File 'IE00BDFC6Q91.csv' loaded, 81 left\n"
     ]
    },
    {
     "name": "stdout",
     "output_type": "stream",
     "text": [
      "   2502/Unknown - 1938s 765ms/step - loss: 2.0534e-05 - mae: 0.0022"
     ]
    },
    {
     "name": "stderr",
     "output_type": "stream",
     "text": [
      "INFO:root:File 'LU1484799769.csv' loaded, 80 left\n"
     ]
    },
    {
     "name": "stdout",
     "output_type": "stream",
     "text": [
      "   2513/Unknown - 1945s 764ms/step - loss: 2.0467e-05 - mae: 0.0022"
     ]
    },
    {
     "name": "stderr",
     "output_type": "stream",
     "text": [
      "INFO:root:File 'IE000UQND7H4.csv' loaded, 79 left\n"
     ]
    },
    {
     "name": "stdout",
     "output_type": "stream",
     "text": [
      "   2514/Unknown - 1946s 764ms/step - loss: 2.0462e-05 - mae: 0.0022"
     ]
    },
    {
     "name": "stderr",
     "output_type": "stream",
     "text": [
      "INFO:root:File 'DE000A0H08D2.csv' loaded, 78 left\n"
     ]
    },
    {
     "name": "stdout",
     "output_type": "stream",
     "text": [
      "   2518/Unknown - 1950s 765ms/step - loss: 2.0440e-05 - mae: 0.0022"
     ]
    },
    {
     "name": "stderr",
     "output_type": "stream",
     "text": [
      "INFO:root:File 'LU1563454310.csv' loaded, 77 left\n"
     ]
    },
    {
     "name": "stdout",
     "output_type": "stream",
     "text": [
      "   2529/Unknown - 1957s 764ms/step - loss: 2.0375e-05 - mae: 0.0022"
     ]
    },
    {
     "name": "stderr",
     "output_type": "stream",
     "text": [
      "INFO:root:File 'IE000BWKUES1.csv' loaded, 76 left\n"
     ]
    },
    {
     "name": "stdout",
     "output_type": "stream",
     "text": [
      "   2534/Unknown - 1960s 764ms/step - loss: 2.0344e-05 - mae: 0.0022"
     ]
    },
    {
     "name": "stderr",
     "output_type": "stream",
     "text": [
      "INFO:root:File 'LU2008763935.csv' loaded, 75 left\n"
     ]
    },
    {
     "name": "stdout",
     "output_type": "stream",
     "text": [
      "   2535/Unknown - 1961s 764ms/step - loss: 2.0338e-05 - mae: 0.0022"
     ]
    },
    {
     "name": "stderr",
     "output_type": "stream",
     "text": [
      "INFO:root:File 'IE00BYZK4776.csv' loaded, 74 left\n"
     ]
    },
    {
     "name": "stdout",
     "output_type": "stream",
     "text": [
      "   2537/Unknown - 1963s 764ms/step - loss: 2.0326e-05 - mae: 0.0022"
     ]
    },
    {
     "name": "stderr",
     "output_type": "stream",
     "text": [
      "INFO:root:File 'IE0001VXZTV7.csv' loaded, 73 left\n",
      "WARNING:root:Batch size did not match the desired size, trying again: self.batch_size != _X_data.shape[0], 512 != 501\n",
      "INFO:root:File 'IE00B459R192.csv' loaded in retry loop, 72 left\n"
     ]
    },
    {
     "name": "stdout",
     "output_type": "stream",
     "text": [
      "   2541/Unknown - 1967s 764ms/step - loss: 2.0300e-05 - mae: 0.0022"
     ]
    },
    {
     "name": "stderr",
     "output_type": "stream",
     "text": [
      "INFO:root:File 'IE00BFWXDY69.csv' loaded, 71 left\n"
     ]
    },
    {
     "name": "stdout",
     "output_type": "stream",
     "text": [
      "   2542/Unknown - 1968s 764ms/step - loss: 2.0294e-05 - mae: 0.0022"
     ]
    },
    {
     "name": "stderr",
     "output_type": "stream",
     "text": [
      "INFO:root:File 'IE00B802KR88.csv' loaded, 70 left\n"
     ]
    },
    {
     "name": "stdout",
     "output_type": "stream",
     "text": [
      "   2549/Unknown - 1973s 764ms/step - loss: 2.0374e-05 - mae: 0.0022"
     ]
    },
    {
     "name": "stderr",
     "output_type": "stream",
     "text": [
      "INFO:root:File 'IE00BYZTVV78.csv' loaded, 69 left\n"
     ]
    },
    {
     "name": "stdout",
     "output_type": "stream",
     "text": [
      "   2550/Unknown - 1975s 765ms/step - loss: 2.0370e-05 - mae: 0.0022"
     ]
    },
    {
     "name": "stderr",
     "output_type": "stream",
     "text": [
      "INFO:root:File 'DE000A0Q4R85.csv' loaded, 68 left\n"
     ]
    },
    {
     "name": "stdout",
     "output_type": "stream",
     "text": [
      "   2566/Unknown - 1984s 764ms/step - loss: 2.0292e-05 - mae: 0.0022"
     ]
    },
    {
     "name": "stderr",
     "output_type": "stream",
     "text": [
      "INFO:root:File 'IE00B539F030.csv' loaded, 67 left\n"
     ]
    },
    {
     "name": "stdout",
     "output_type": "stream",
     "text": [
      "   2567/Unknown - 1987s 764ms/step - loss: 2.0286e-05 - mae: 0.0022"
     ]
    },
    {
     "name": "stderr",
     "output_type": "stream",
     "text": [
      "INFO:root:File 'IE00BMH5YF48.csv' loaded, 66 left\n"
     ]
    },
    {
     "name": "stdout",
     "output_type": "stream",
     "text": [
      "   2568/Unknown - 1987s 764ms/step - loss: 2.0280e-05 - mae: 0.0022"
     ]
    },
    {
     "name": "stderr",
     "output_type": "stream",
     "text": [
      "INFO:root:File 'IE00BDR55927.csv' loaded, 65 left\n"
     ]
    },
    {
     "name": "stdout",
     "output_type": "stream",
     "text": [
      "   2573/Unknown - 1991s 764ms/step - loss: 2.0275e-05 - mae: 0.0022"
     ]
    },
    {
     "name": "stderr",
     "output_type": "stream",
     "text": [
      "INFO:root:File 'DE0005933972.csv' loaded, 64 left\n"
     ]
    },
    {
     "name": "stdout",
     "output_type": "stream",
     "text": [
      "   2574/Unknown - 1992s 764ms/step - loss: 2.0269e-05 - mae: 0.0022"
     ]
    },
    {
     "name": "stderr",
     "output_type": "stream",
     "text": [
      "INFO:root:File 'IE00BMP3HG27.csv' loaded, 63 left\n"
     ]
    },
    {
     "name": "stdout",
     "output_type": "stream",
     "text": [
      "   2588/Unknown - 2003s 765ms/step - loss: 2.0245e-05 - mae: 0.0022"
     ]
    },
    {
     "name": "stderr",
     "output_type": "stream",
     "text": [
      "INFO:root:File 'IE00B0M62V02.csv' loaded, 62 left\n"
     ]
    },
    {
     "name": "stdout",
     "output_type": "stream",
     "text": [
      "   2596/Unknown - 2010s 765ms/step - loss: 2.0818e-05 - mae: 0.0022"
     ]
    },
    {
     "name": "stderr",
     "output_type": "stream",
     "text": [
      "INFO:root:File 'LU1646360971.csv' loaded, 61 left\n"
     ]
    },
    {
     "name": "stdout",
     "output_type": "stream",
     "text": [
      "   2599/Unknown - 2015s 766ms/step - loss: 2.0839e-05 - mae: 0.0022"
     ]
    },
    {
     "name": "stderr",
     "output_type": "stream",
     "text": [
      "INFO:root:File 'LU2182388582.csv' loaded, 60 left\n"
     ]
    },
    {
     "name": "stdout",
     "output_type": "stream",
     "text": [
      "   2601/Unknown - 2016s 766ms/step - loss: 2.0832e-05 - mae: 0.0022"
     ]
    },
    {
     "name": "stderr",
     "output_type": "stream",
     "text": [
      "INFO:root:File 'IE00BSPLC413.csv' loaded, 59 left\n"
     ]
    },
    {
     "name": "stdout",
     "output_type": "stream",
     "text": [
      "   2606/Unknown - 2020s 766ms/step - loss: 2.1014e-05 - mae: 0.0022"
     ]
    },
    {
     "name": "stderr",
     "output_type": "stream",
     "text": [
      "INFO:root:File 'LU1691909508.csv' loaded, 58 left\n"
     ]
    },
    {
     "name": "stdout",
     "output_type": "stream",
     "text": [
      "   2612/Unknown - 2024s 765ms/step - loss: 2.0992e-05 - mae: 0.0022"
     ]
    },
    {
     "name": "stderr",
     "output_type": "stream",
     "text": [
      "INFO:root:File 'LU1079841273.csv' loaded, 57 left\n"
     ]
    },
    {
     "name": "stdout",
     "output_type": "stream",
     "text": [
      "   2619/Unknown - 2029s 765ms/step - loss: 2.1155e-05 - mae: 0.0022"
     ]
    },
    {
     "name": "stderr",
     "output_type": "stream",
     "text": [
      "INFO:root:File 'LU1602144906.csv' loaded, 56 left\n"
     ]
    },
    {
     "name": "stdout",
     "output_type": "stream",
     "text": [
      "   2635/Unknown - 2039s 764ms/step - loss: 2.1063e-05 - mae: 0.0022"
     ]
    },
    {
     "name": "stderr",
     "output_type": "stream",
     "text": [
      "INFO:root:File 'FR0007052782.csv' loaded, 55 left\n"
     ]
    },
    {
     "name": "stdout",
     "output_type": "stream",
     "text": [
      "   2639/Unknown - 2044s 765ms/step - loss: 2.1042e-05 - mae: 0.0022"
     ]
    },
    {
     "name": "stderr",
     "output_type": "stream",
     "text": [
      "INFO:root:File 'IE000NRGX9M3.csv' loaded, 54 left\n"
     ]
    },
    {
     "name": "stdout",
     "output_type": "stream",
     "text": [
      "   2640/Unknown - 2045s 765ms/step - loss: 2.1036e-05 - mae: 0.0022"
     ]
    },
    {
     "name": "stderr",
     "output_type": "stream",
     "text": [
      "INFO:root:File 'IE00BMCZLH06.csv' loaded, 53 left\n"
     ]
    },
    {
     "name": "stdout",
     "output_type": "stream",
     "text": [
      "   2645/Unknown - 2048s 765ms/step - loss: 2.1008e-05 - mae: 0.0022"
     ]
    },
    {
     "name": "stderr",
     "output_type": "stream",
     "text": [
      "INFO:root:File 'IE00BJQRDK83.csv' loaded, 52 left\n"
     ]
    },
    {
     "name": "stdout",
     "output_type": "stream",
     "text": [
      "   2646/Unknown - 2048s 765ms/step - loss: 2.1002e-05 - mae: 0.0022"
     ]
    },
    {
     "name": "stderr",
     "output_type": "stream",
     "text": [
      "INFO:root:File 'LU1681044647.csv' loaded, 51 left\n"
     ]
    },
    {
     "name": "stdout",
     "output_type": "stream",
     "text": [
      "   2652/Unknown - 2054s 765ms/step - loss: 2.0979e-05 - mae: 0.0022"
     ]
    },
    {
     "name": "stderr",
     "output_type": "stream",
     "text": [
      "INFO:root:File 'IE00B74DQ490.csv' loaded, 50 left\n"
     ]
    },
    {
     "name": "stdout",
     "output_type": "stream",
     "text": [
      "   2654/Unknown - 2056s 766ms/step - loss: 2.0969e-05 - mae: 0.0022"
     ]
    },
    {
     "name": "stderr",
     "output_type": "stream",
     "text": [
      "INFO:root:File 'IE00BK5BC677.csv' loaded, 49 left\n"
     ]
    },
    {
     "name": "stdout",
     "output_type": "stream",
     "text": [
      "   2664/Unknown - 2063s 765ms/step - loss: 2.0914e-05 - mae: 0.0022"
     ]
    },
    {
     "name": "stderr",
     "output_type": "stream",
     "text": [
      "INFO:root:File 'LU2082996385.csv' loaded, 48 left\n"
     ]
    },
    {
     "name": "stdout",
     "output_type": "stream",
     "text": [
      "   2673/Unknown - 2068s 764ms/step - loss: 2.0868e-05 - mae: 0.0022"
     ]
    },
    {
     "name": "stderr",
     "output_type": "stream",
     "text": [
      "INFO:root:File 'LU1390062831.csv' loaded, 47 left\n"
     ]
    },
    {
     "name": "stdout",
     "output_type": "stream",
     "text": [
      "   2678/Unknown - 2072s 764ms/step - loss: 2.0844e-05 - mae: 0.0022"
     ]
    },
    {
     "name": "stderr",
     "output_type": "stream",
     "text": [
      "INFO:root:File 'IE00B4X9L533.csv' loaded, 46 left\n"
     ]
    },
    {
     "name": "stdout",
     "output_type": "stream",
     "text": [
      "   2685/Unknown - 2077s 765ms/step - loss: 2.0814e-05 - mae: 0.0022"
     ]
    },
    {
     "name": "stderr",
     "output_type": "stream",
     "text": [
      "INFO:root:File 'LU1805389258.csv' loaded, 45 left\n"
     ]
    },
    {
     "name": "stdout",
     "output_type": "stream",
     "text": [
      "   2696/Unknown - 2084s 764ms/step - loss: 2.0758e-05 - mae: 0.0022"
     ]
    },
    {
     "name": "stderr",
     "output_type": "stream",
     "text": [
      "INFO:root:File 'LU1681040736.csv' loaded, 44 left\n"
     ]
    },
    {
     "name": "stdout",
     "output_type": "stream",
     "text": [
      "   2706/Unknown - 2091s 764ms/step - loss: 2.0707e-05 - mae: 0.0022"
     ]
    },
    {
     "name": "stderr",
     "output_type": "stream",
     "text": [
      "INFO:root:File 'IE00B9M6SJ31.csv' loaded, 43 left\n"
     ]
    },
    {
     "name": "stdout",
     "output_type": "stream",
     "text": [
      "   2709/Unknown - 2094s 764ms/step - loss: 2.0690e-05 - mae: 0.0022"
     ]
    },
    {
     "name": "stderr",
     "output_type": "stream",
     "text": [
      "INFO:root:File 'LU0392496260.csv' loaded, 42 left\n"
     ]
    },
    {
     "name": "stdout",
     "output_type": "stream",
     "text": [
      "   2710/Unknown - 2096s 764ms/step - loss: 2.0685e-05 - mae: 0.0022"
     ]
    },
    {
     "name": "stderr",
     "output_type": "stream",
     "text": [
      "INFO:root:File 'IE00BD1F4K20.csv' loaded, 41 left\n"
     ]
    },
    {
     "name": "stdout",
     "output_type": "stream",
     "text": [
      "   2711/Unknown - 2098s 765ms/step - loss: 2.0679e-05 - mae: 0.0022"
     ]
    },
    {
     "name": "stderr",
     "output_type": "stream",
     "text": [
      "INFO:root:File 'LU1900068328.csv' loaded, 40 left\n"
     ]
    },
    {
     "name": "stdout",
     "output_type": "stream",
     "text": [
      "   2726/Unknown - 2109s 765ms/step - loss: 2.0596e-05 - mae: 0.0022"
     ]
    },
    {
     "name": "stderr",
     "output_type": "stream",
     "text": [
      "INFO:root:File 'IE00BNG8L385.csv' loaded, 39 left\n"
     ]
    },
    {
     "name": "stdout",
     "output_type": "stream",
     "text": [
      "   2735/Unknown - 2115s 764ms/step - loss: 2.0703e-05 - mae: 0.0022"
     ]
    },
    {
     "name": "stderr",
     "output_type": "stream",
     "text": [
      "INFO:root:File 'IE00BLCHJH52.csv' loaded, 38 left\n"
     ]
    },
    {
     "name": "stdout",
     "output_type": "stream",
     "text": [
      "   2740/Unknown - 2117s 764ms/step - loss: 2.0959e-05 - mae: 0.0022"
     ]
    },
    {
     "name": "stderr",
     "output_type": "stream",
     "text": [
      "INFO:root:File 'LU0136234654.csv' loaded, 37 left\n"
     ]
    },
    {
     "name": "stdout",
     "output_type": "stream",
     "text": [
      "   2744/Unknown - 2123s 765ms/step - loss: 2.0938e-05 - mae: 0.0022"
     ]
    },
    {
     "name": "stderr",
     "output_type": "stream",
     "text": [
      "INFO:root:File 'LU1829219127.csv' loaded, 36 left\n"
     ]
    },
    {
     "name": "stdout",
     "output_type": "stream",
     "text": [
      "   2745/Unknown - 2124s 765ms/step - loss: 2.0932e-05 - mae: 0.0022"
     ]
    },
    {
     "name": "stderr",
     "output_type": "stream",
     "text": [
      "INFO:root:File 'IE00BNDS1Q47.csv' loaded, 35 left\n"
     ]
    },
    {
     "name": "stdout",
     "output_type": "stream",
     "text": [
      "   2753/Unknown - 2130s 765ms/step - loss: 2.0891e-05 - mae: 0.0022"
     ]
    },
    {
     "name": "stderr",
     "output_type": "stream",
     "text": [
      "INFO:root:File 'LU1900065811.csv' loaded, 34 left\n"
     ]
    },
    {
     "name": "stdout",
     "output_type": "stream",
     "text": [
      "   2759/Unknown - 2135s 765ms/step - loss: 2.0862e-05 - mae: 0.0022"
     ]
    },
    {
     "name": "stderr",
     "output_type": "stream",
     "text": [
      "INFO:root:File 'LU1681046931.csv' loaded, 33 left\n"
     ]
    },
    {
     "name": "stdout",
     "output_type": "stream",
     "text": [
      "   2760/Unknown - 2138s 766ms/step - loss: 2.0856e-05 - mae: 0.0022"
     ]
    },
    {
     "name": "stderr",
     "output_type": "stream",
     "text": [
      "INFO:root:File 'IE00BKX55Q28.csv' loaded, 32 left\n"
     ]
    },
    {
     "name": "stdout",
     "output_type": "stream",
     "text": [
      "   2766/Unknown - 2143s 766ms/step - loss: 2.0822e-05 - mae: 0.0022"
     ]
    },
    {
     "name": "stderr",
     "output_type": "stream",
     "text": [
      "INFO:root:File 'LU1681046006.csv' loaded, 31 left\n"
     ]
    },
    {
     "name": "stdout",
     "output_type": "stream",
     "text": [
      "   2788/Unknown - 2157s 765ms/step - loss: 2.0732e-05 - mae: 0.0022"
     ]
    },
    {
     "name": "stderr",
     "output_type": "stream",
     "text": [
      "INFO:root:File 'IE00BLCHJB90.csv' loaded, 30 left\n"
     ]
    },
    {
     "name": "stdout",
     "output_type": "stream",
     "text": [
      "   2794/Unknown - 2160s 764ms/step - loss: 2.0701e-05 - mae: 0.0022"
     ]
    },
    {
     "name": "stderr",
     "output_type": "stream",
     "text": [
      "INFO:root:File 'LU1974696418.csv' loaded, 29 left\n"
     ]
    },
    {
     "name": "stdout",
     "output_type": "stream",
     "text": [
      "   2804/Unknown - 2166s 764ms/step - loss: 2.0646e-05 - mae: 0.0022"
     ]
    },
    {
     "name": "stderr",
     "output_type": "stream",
     "text": [
      "INFO:root:File 'LU1220245556.csv' loaded, 28 left\n"
     ]
    },
    {
     "name": "stdout",
     "output_type": "stream",
     "text": [
      "   2805/Unknown - 2168s 764ms/step - loss: 2.0640e-05 - mae: 0.0022"
     ]
    },
    {
     "name": "stderr",
     "output_type": "stream",
     "text": [
      "INFO:root:File 'LU1681042864.csv' loaded, 27 left\n"
     ]
    },
    {
     "name": "stdout",
     "output_type": "stream",
     "text": [
      "   2812/Unknown - 2174s 764ms/step - loss: 2.0603e-05 - mae: 0.0022"
     ]
    },
    {
     "name": "stderr",
     "output_type": "stream",
     "text": [
      "INFO:root:File 'IE00B6YX5M31.csv' loaded, 26 left\n"
     ]
    },
    {
     "name": "stdout",
     "output_type": "stream",
     "text": [
      "   2818/Unknown - 2179s 764ms/step - loss: 2.0571e-05 - mae: 0.0022"
     ]
    },
    {
     "name": "stderr",
     "output_type": "stream",
     "text": [
      "INFO:root:File 'FR0007054358.csv' loaded, 25 left\n"
     ]
    },
    {
     "name": "stdout",
     "output_type": "stream",
     "text": [
      "   2821/Unknown - 2184s 765ms/step - loss: 2.0554e-05 - mae: 0.0022"
     ]
    },
    {
     "name": "stderr",
     "output_type": "stream",
     "text": [
      "INFO:root:File 'DE0005933949.csv' loaded, 24 left\n"
     ]
    },
    {
     "name": "stdout",
     "output_type": "stream",
     "text": [
      "   2841/Unknown - 2198s 765ms/step - loss: 2.0461e-05 - mae: 0.0022"
     ]
    },
    {
     "name": "stderr",
     "output_type": "stream",
     "text": [
      "INFO:root:File 'IE00BJ5JNY98.csv' loaded, 23 left\n"
     ]
    },
    {
     "name": "stdout",
     "output_type": "stream",
     "text": [
      "   2847/Unknown - 2202s 765ms/step - loss: 2.0440e-05 - mae: 0.0022"
     ]
    },
    {
     "name": "stderr",
     "output_type": "stream",
     "text": [
      "INFO:root:File 'LU0392495023.csv' loaded, 22 left\n"
     ]
    },
    {
     "name": "stdout",
     "output_type": "stream",
     "text": [
      "   2858/Unknown - 2210s 765ms/step - loss: 2.0396e-05 - mae: 0.0022"
     ]
    },
    {
     "name": "stderr",
     "output_type": "stream",
     "text": [
      "INFO:root:File 'LU2037748345.csv' loaded, 21 left\n"
     ]
    },
    {
     "name": "stdout",
     "output_type": "stream",
     "text": [
      "   2860/Unknown - 2211s 765ms/step - loss: 2.0391e-05 - mae: 0.0022"
     ]
    },
    {
     "name": "stderr",
     "output_type": "stream",
     "text": [
      "INFO:root:File 'LU1169821292.csv' loaded, 20 left\n"
     ]
    },
    {
     "name": "stdout",
     "output_type": "stream",
     "text": [
      "   2871/Unknown - 2218s 764ms/step - loss: 2.0352e-05 - mae: 0.0022"
     ]
    },
    {
     "name": "stderr",
     "output_type": "stream",
     "text": [
      "INFO:root:File 'DE000A2QP349.csv' loaded, 19 left\n"
     ]
    },
    {
     "name": "stdout",
     "output_type": "stream",
     "text": [
      "   2873/Unknown - 2219s 764ms/step - loss: 2.0341e-05 - mae: 0.0022"
     ]
    },
    {
     "name": "stderr",
     "output_type": "stream",
     "text": [
      "INFO:root:File 'IE00BFXR5T61.csv' loaded, 18 left\n"
     ]
    },
    {
     "name": "stdout",
     "output_type": "stream",
     "text": [
      "   2874/Unknown - 2220s 764ms/step - loss: 2.0337e-05 - mae: 0.0022"
     ]
    },
    {
     "name": "stderr",
     "output_type": "stream",
     "text": [
      "INFO:root:File 'IE000YDZG487.csv' loaded, 17 left\n"
     ]
    },
    {
     "name": "stdout",
     "output_type": "stream",
     "text": [
      "   2875/Unknown - 2221s 764ms/step - loss: 2.0331e-05 - mae: 0.0022"
     ]
    },
    {
     "name": "stderr",
     "output_type": "stream",
     "text": [
      "INFO:root:File 'IE00BKWQ0G16.csv' loaded, 16 left\n"
     ]
    },
    {
     "name": "stdout",
     "output_type": "stream",
     "text": [
      "   2877/Unknown - 2223s 764ms/step - loss: 2.0320e-05 - mae: 0.0022"
     ]
    },
    {
     "name": "stderr",
     "output_type": "stream",
     "text": [
      "INFO:root:File 'LU1615092217.csv' loaded, 15 left\n"
     ]
    },
    {
     "name": "stdout",
     "output_type": "stream",
     "text": [
      "   2880/Unknown - 2225s 764ms/step - loss: 2.0305e-05 - mae: 0.0022"
     ]
    },
    {
     "name": "stderr",
     "output_type": "stream",
     "text": [
      "INFO:root:File 'IE00BKWQ0N82.csv' loaded, 14 left\n"
     ]
    },
    {
     "name": "stdout",
     "output_type": "stream",
     "text": [
      "   2884/Unknown - 2229s 764ms/step - loss: 2.0286e-05 - mae: 0.0022"
     ]
    },
    {
     "name": "stderr",
     "output_type": "stream",
     "text": [
      "INFO:root:File 'IE00BYYHSQ67.csv' loaded, 13 left\n"
     ]
    },
    {
     "name": "stdout",
     "output_type": "stream",
     "text": [
      "   2896/Unknown - 2236s 764ms/step - loss: 2.0226e-05 - mae: 0.0022"
     ]
    },
    {
     "name": "stderr",
     "output_type": "stream",
     "text": [
      "INFO:root:File 'DE0005933956.csv' loaded in retry loop, 12 left\n"
     ]
    },
    {
     "name": "stdout",
     "output_type": "stream",
     "text": [
      "   2907/Unknown - 2246s 764ms/step - loss: 2.0172e-05 - mae: 0.0022"
     ]
    },
    {
     "name": "stderr",
     "output_type": "stream",
     "text": [
      "INFO:root:File 'LU2244387457.csv' loaded in retry loop, 11 left\n"
     ]
    },
    {
     "name": "stdout",
     "output_type": "stream",
     "text": [
      "   2914/Unknown - 2250s 764ms/step - loss: 2.0141e-05 - mae: 0.0022"
     ]
    },
    {
     "name": "stderr",
     "output_type": "stream",
     "text": [
      "INFO:root:File 'IE00BD9MMD49.csv' loaded, 10 left\n"
     ]
    },
    {
     "name": "stdout",
     "output_type": "stream",
     "text": [
      "   2916/Unknown - 2251s 764ms/step - loss: 2.0129e-05 - mae: 0.0022"
     ]
    },
    {
     "name": "stderr",
     "output_type": "stream",
     "text": [
      "INFO:root:File 'LU1974693662.csv' loaded, 9 left\n"
     ]
    },
    {
     "name": "stdout",
     "output_type": "stream",
     "text": [
      "   2920/Unknown - 2254s 763ms/step - loss: 2.0108e-05 - mae: 0.0022"
     ]
    },
    {
     "name": "stderr",
     "output_type": "stream",
     "text": [
      "INFO:root:File 'IE00B3FH7618.csv' loaded, 8 left\n"
     ]
    },
    {
     "name": "stdout",
     "output_type": "stream",
     "text": [
      "   2925/Unknown - 2259s 764ms/step - loss: 2.0079e-05 - mae: 0.0022"
     ]
    },
    {
     "name": "stderr",
     "output_type": "stream",
     "text": [
      "INFO:root:File 'IE00B3B8Q275.csv' loaded, 7 left\n"
     ]
    },
    {
     "name": "stdout",
     "output_type": "stream",
     "text": [
      "   2926/Unknown - 2261s 764ms/step - loss: 2.0073e-05 - mae: 0.0022"
     ]
    },
    {
     "name": "stderr",
     "output_type": "stream",
     "text": [
      "INFO:root:File 'LU1435356149.csv' loaded, 6 left\n"
     ]
    },
    {
     "name": "stdout",
     "output_type": "stream",
     "text": [
      "   2934/Unknown - 2267s 764ms/step - loss: 2.0031e-05 - mae: 0.0022"
     ]
    },
    {
     "name": "stderr",
     "output_type": "stream",
     "text": [
      "INFO:root:File 'DE000ETFL581.csv' loaded, 5 left\n"
     ]
    },
    {
     "name": "stdout",
     "output_type": "stream",
     "text": [
      "   2939/Unknown - 2270s 764ms/step - loss: 2.0005e-05 - mae: 0.0022"
     ]
    },
    {
     "name": "stderr",
     "output_type": "stream",
     "text": [
      "INFO:root:File 'LU1681048127.csv' loaded, 4 left\n"
     ]
    },
    {
     "name": "stdout",
     "output_type": "stream",
     "text": [
      "   2942/Unknown - 2272s 764ms/step - loss: 1.9993e-05 - mae: 0.0022"
     ]
    },
    {
     "name": "stderr",
     "output_type": "stream",
     "text": [
      "INFO:root:File 'IE00B3F81409.csv' loaded, 3 left\n"
     ]
    },
    {
     "name": "stdout",
     "output_type": "stream",
     "text": [
      "   2946/Unknown - 2275s 764ms/step - loss: 1.9972e-05 - mae: 0.0022"
     ]
    },
    {
     "name": "stderr",
     "output_type": "stream",
     "text": [
      "INFO:root:File 'IE00BLF7VW10.csv' loaded, 2 left\n"
     ]
    },
    {
     "name": "stdout",
     "output_type": "stream",
     "text": [
      "   2947/Unknown - 2276s 764ms/step - loss: 1.9967e-05 - mae: 0.0022"
     ]
    },
    {
     "name": "stderr",
     "output_type": "stream",
     "text": [
      "INFO:root:File 'IE00B1XNHC34.csv' loaded, 1 left\n"
     ]
    },
    {
     "name": "stdout",
     "output_type": "stream",
     "text": [
      "   2957/Unknown - 2284s 764ms/step - loss: 1.9913e-05 - mae: 0.0022"
     ]
    },
    {
     "name": "stderr",
     "output_type": "stream",
     "text": [
      "INFO:root:File 'IE00BMH5YL08.csv' loaded, 0 left\n"
     ]
    },
    {
     "name": "stdout",
     "output_type": "stream",
     "text": [
      "   2962/Unknown - 2287s 764ms/step - loss: 1.9886e-05 - mae: 0.0022"
     ]
    },
    {
     "name": "stderr",
     "output_type": "stream",
     "text": [
      "WARNING:root:StopIteration in pythonGenerator\n",
      "WARNING:root:\n"
     ]
    },
    {
     "name": "stdout",
     "output_type": "stream",
     "text": [
      "   2994/Unknown - 2305s 762ms/step - loss: 2.0428e-05 - mae: 0.0022"
     ]
    },
    {
     "name": "stderr",
     "output_type": "stream",
     "text": [
      "2023-03-30 07:12:22.582800: W tensorflow/core/framework/cpu_allocator_impl.cc:82] Allocation of 1006632960 exceeds 10% of free system memory.\n",
      "2023-03-30 07:12:22.868290: W tensorflow/core/framework/cpu_allocator_impl.cc:82] Allocation of 2013265920 exceeds 10% of free system memory.\n",
      "2023-03-30 07:12:23.367495: W tensorflow/core/framework/cpu_allocator_impl.cc:82] Allocation of 2013265920 exceeds 10% of free system memory.\n",
      "2023-03-30 07:12:23.952016: W tensorflow/core/framework/cpu_allocator_impl.cc:82] Allocation of 4026531840 exceeds 10% of free system memory.\n",
      "INFO:root:2023-03-30 07:12:25.360208\n",
      "INFO:root:Saved model to '/content/bigdata/chk/FPNWithAttentionBiggerTimebased_2_FutureOnly_60days_GPU_128LB/cp_daily_valid_00_end/model.h5'\n",
      "INFO:root:Saved optimizer config to '/content/bigdata/chk/FPNWithAttentionBiggerTimebased_2_FutureOnly_60days_GPU_128LB/cp_daily_valid_00_end/c.pickle'\n",
      "INFO:root:Saved optimizer weights to '/content/bigdata/chk/FPNWithAttentionBiggerTimebased_2_FutureOnly_60days_GPU_128LB/cp_daily_valid_00_end/w.pickle'\n",
      "INFO:root:Did a gc collect: 0\n"
     ]
    },
    {
     "name": "stdout",
     "output_type": "stream",
     "text": [
      "2994/2994 [==============================] - 2316s 765ms/step - loss: 2.0428e-05 - mae: 0.0022\n"
     ]
    },
    {
     "data": {
      "text/plain": [
       "<keras.callbacks.History at 0x7f5d0175a260>"
      ]
     },
     "execution_count": 53,
     "metadata": {},
     "output_type": "execute_result"
    }
   ],
   "source": [
    "model.fit(tfGenTraining,\n",
    "          epochs=1,\n",
    "          verbose = 1,\n",
    "          callbacks=[tensorboard_callback, cc])"
   ]
  },
  {
   "cell_type": "code",
   "execution_count": 54,
   "metadata": {
    "tags": []
   },
   "outputs": [],
   "source": [
    "model.optimizer.learning_rate = 5e-6"
   ]
  },
  {
   "cell_type": "code",
   "execution_count": 55,
   "metadata": {
    "tags": []
   },
   "outputs": [
    {
     "data": {
      "text/plain": [
       "<tf.Variable 'Adam/learning_rate:0' shape=() dtype=float32, numpy=5e-06>"
      ]
     },
     "execution_count": 55,
     "metadata": {},
     "output_type": "execute_result"
    }
   ],
   "source": [
    "model.optimizer.learning_rate"
   ]
  },
  {
   "cell_type": "code",
   "execution_count": 56,
   "metadata": {},
   "outputs": [],
   "source": [
    "epoch_add = 1\n",
    "\n",
    "cc = CustomCallback(checkpoint_path = CHECKPOINT_PATH,\n",
    "                    model_name = CHKPNT_NAME,\n",
    "                    save_freq = CALLBACK_EVERY_N_BATCHES,\n",
    "                    val_freq = CALLBACK_EVERY_N_BATCHES,\n",
    "                    epoch_add = epoch_add)"
   ]
  },
  {
   "cell_type": "code",
   "execution_count": null,
   "metadata": {
    "colab": {
     "base_uri": "https://localhost:8080/"
    },
    "id": "DcUTfAbHb2FW",
    "outputId": "a6b2d3a2-f00f-4733-fd4b-268b42e7f2a6",
    "tags": []
   },
   "outputs": [
    {
     "name": "stdout",
     "output_type": "stream",
     "text": [
      "Epoch 1/5\n"
     ]
    },
    {
     "name": "stderr",
     "output_type": "stream",
     "text": [
      "INFO:root:File 'IE00B6X2VY59.csv' loaded, 531 left\n",
      "INFO:root:File 'IE00BYXVGZ48.csv' loaded, 530 left\n",
      "INFO:root:File 'DE000A0F5UF5.csv' loaded, 529 left\n",
      "INFO:root:File 'DE000ETFL441.csv' loaded, 528 left\n",
      "INFO:root:File 'LU1781541179.csv' loaded, 527 left\n",
      "INFO:root:File 'LU1650487926.csv' loaded, 526 left\n",
      "INFO:root:File 'LU1285960032.csv' loaded, 525 left\n",
      "INFO:root:File 'IE00B1FZSD53.csv' loaded, 524 left\n"
     ]
    },
    {
     "name": "stdout",
     "output_type": "stream",
     "text": [
      "      3/Unknown - 15s 570ms/step - loss: 9.7085e-06 - mae: 0.0023"
     ]
    },
    {
     "name": "stderr",
     "output_type": "stream",
     "text": [
      "INFO:root:File 'IE00B5KQNG97.csv' loaded, 523 left\n"
     ]
    },
    {
     "name": "stdout",
     "output_type": "stream",
     "text": [
      "      4/Unknown - 16s 641ms/step - loss: 8.4052e-06 - mae: 0.0021"
     ]
    },
    {
     "name": "stderr",
     "output_type": "stream",
     "text": [
      "2023-03-30 07:12:49.740237: I tensorflow/core/profiler/lib/profiler_session.cc:101] Profiler session initializing.\n",
      "2023-03-30 07:12:49.740263: I tensorflow/core/profiler/lib/profiler_session.cc:116] Profiler session started.\n"
     ]
    },
    {
     "name": "stdout",
     "output_type": "stream",
     "text": [
      "      6/Unknown - 18s 960ms/step - loss: 7.0151e-06 - mae: 0.0019WARNING:tensorflow:Callback method `on_train_batch_end` is slow compared to the batch time (batch time: 0.1540s vs `on_train_batch_end` time: 0.7298s). Check your callbacks.\n"
     ]
    },
    {
     "name": "stderr",
     "output_type": "stream",
     "text": [
      "WARNING:tensorflow:Callback method `on_train_batch_end` is slow compared to the batch time (batch time: 0.1540s vs `on_train_batch_end` time: 0.7298s). Check your callbacks.\n"
     ]
    },
    {
     "name": "stdout",
     "output_type": "stream",
     "text": [
      "      8/Unknown - 20s 852ms/step - loss: 6.6504e-06 - mae: 0.0019"
     ]
    },
    {
     "name": "stderr",
     "output_type": "stream",
     "text": [
      "INFO:root:File 'IE00BYM31M36.csv' loaded, 522 left\n"
     ]
    },
    {
     "name": "stdout",
     "output_type": "stream",
     "text": [
      "     10/Unknown - 22s 881ms/step - loss: 6.7794e-06 - mae: 0.0019"
     ]
    },
    {
     "name": "stderr",
     "output_type": "stream",
     "text": [
      "INFO:root:File 'LU2082996542.csv' loaded, 521 left\n"
     ]
    },
    {
     "name": "stdout",
     "output_type": "stream",
     "text": [
      "     12/Unknown - 23s 861ms/step - loss: 6.6085e-06 - mae: 0.0019"
     ]
    },
    {
     "name": "stderr",
     "output_type": "stream",
     "text": [
      "INFO:root:File 'IE00BF4G7076.csv' loaded, 520 left\n"
     ]
    },
    {
     "name": "stdout",
     "output_type": "stream",
     "text": [
      "     15/Unknown - 26s 855ms/step - loss: 6.7369e-06 - mae: 0.0019"
     ]
    },
    {
     "name": "stderr",
     "output_type": "stream",
     "text": [
      "INFO:root:File 'IE00BQN1K786.csv' loaded, 519 left\n"
     ]
    },
    {
     "name": "stdout",
     "output_type": "stream",
     "text": [
      "     17/Unknown - 28s 889ms/step - loss: 6.5628e-06 - mae: 0.0019"
     ]
    },
    {
     "name": "stderr",
     "output_type": "stream",
     "text": [
      "INFO:root:File 'LU0136240974.csv' loaded, 518 left\n"
     ]
    },
    {
     "name": "stdout",
     "output_type": "stream",
     "text": [
      "     25/Unknown - 35s 906ms/step - loss: 6.3657e-06 - mae: 0.0019"
     ]
    },
    {
     "name": "stderr",
     "output_type": "stream",
     "text": [
      "INFO:root:File 'IE00BLDGH447.csv' loaded, 517 left\n"
     ]
    },
    {
     "name": "stdout",
     "output_type": "stream",
     "text": [
      "     27/Unknown - 37s 884ms/step - loss: 6.2927e-06 - mae: 0.0018"
     ]
    },
    {
     "name": "stderr",
     "output_type": "stream",
     "text": [
      "INFO:root:File 'IE00BFTWP510.csv' loaded, 516 left\n"
     ]
    },
    {
     "name": "stdout",
     "output_type": "stream",
     "text": [
      "     30/Unknown - 39s 888ms/step - loss: 2.1586e-05 - mae: 0.0020"
     ]
    },
    {
     "name": "stderr",
     "output_type": "stream",
     "text": [
      "INFO:root:File 'IE00BQT3WG13.csv' loaded, 515 left\n"
     ]
    },
    {
     "name": "stdout",
     "output_type": "stream",
     "text": [
      "     36/Unknown - 44s 861ms/step - loss: 1.9170e-05 - mae: 0.0020"
     ]
    },
    {
     "name": "stderr",
     "output_type": "stream",
     "text": [
      "INFO:root:File 'LU1407888053.csv' loaded, 514 left\n"
     ]
    },
    {
     "name": "stdout",
     "output_type": "stream",
     "text": [
      "     50/Unknown - 53s 796ms/step - loss: 2.3384e-05 - mae: 0.0020"
     ]
    },
    {
     "name": "stderr",
     "output_type": "stream",
     "text": [
      "INFO:root:File 'IE00BMYDM794.csv' loaded, 513 left\n"
     ]
    },
    {
     "name": "stdout",
     "output_type": "stream",
     "text": [
      "     57/Unknown - 57s 770ms/step - loss: 2.1708e-05 - mae: 0.0020"
     ]
    },
    {
     "name": "stderr",
     "output_type": "stream",
     "text": [
      "INFO:root:File 'IE00B441G979.csv' loaded, 512 left\n"
     ]
    },
    {
     "name": "stdout",
     "output_type": "stream",
     "text": [
      "     58/Unknown - 58s 775ms/step - loss: 2.1421e-05 - mae: 0.0020"
     ]
    },
    {
     "name": "stderr",
     "output_type": "stream",
     "text": [
      "INFO:root:File 'IE00B8X9NY41.csv' loaded, 511 left\n"
     ]
    },
    {
     "name": "stdout",
     "output_type": "stream",
     "text": [
      "     60/Unknown - 61s 808ms/step - loss: 2.1006e-05 - mae: 0.0020"
     ]
    },
    {
     "name": "stderr",
     "output_type": "stream",
     "text": [
      "INFO:root:File 'IE00BMDH1538.csv' loaded, 510 left\n"
     ]
    },
    {
     "name": "stdout",
     "output_type": "stream",
     "text": [
      "     62/Unknown - 63s 802ms/step - loss: 2.0475e-05 - mae: 0.0020"
     ]
    },
    {
     "name": "stderr",
     "output_type": "stream",
     "text": [
      "INFO:root:File 'IE00BLF7VX27.csv' loaded, 509 left\n"
     ]
    },
    {
     "name": "stdout",
     "output_type": "stream",
     "text": [
      "     69/Unknown - 67s 780ms/step - loss: 1.9389e-05 - mae: 0.0020"
     ]
    },
    {
     "name": "stderr",
     "output_type": "stream",
     "text": [
      "INFO:root:File 'IE00BYMS5W68.csv' loaded, 508 left\n"
     ]
    },
    {
     "name": "stdout",
     "output_type": "stream",
     "text": [
      "     73/Unknown - 70s 779ms/step - loss: 1.8664e-05 - mae: 0.0020"
     ]
    },
    {
     "name": "stderr",
     "output_type": "stream",
     "text": [
      "INFO:root:File 'LU1079842321.csv' loaded, 507 left\n"
     ]
    },
    {
     "name": "stdout",
     "output_type": "stream",
     "text": [
      "     74/Unknown - 70s 776ms/step - loss: 1.8470e-05 - mae: 0.0020"
     ]
    },
    {
     "name": "stderr",
     "output_type": "stream",
     "text": [
      "INFO:root:File 'IE00BKVL7778.csv' loaded, 506 left\n"
     ]
    },
    {
     "name": "stdout",
     "output_type": "stream",
     "text": [
      "     75/Unknown - 72s 787ms/step - loss: 1.8291e-05 - mae: 0.0020"
     ]
    },
    {
     "name": "stderr",
     "output_type": "stream",
     "text": [
      "INFO:root:File 'LU1681045537.csv' loaded, 505 left\n"
     ]
    },
    {
     "name": "stdout",
     "output_type": "stream",
     "text": [
      "     77/Unknown - 75s 807ms/step - loss: 1.8017e-05 - mae: 0.0020"
     ]
    },
    {
     "name": "stderr",
     "output_type": "stream",
     "text": [
      "INFO:root:File 'IE00B60SX287.csv' loaded, 504 left\n"
     ]
    },
    {
     "name": "stdout",
     "output_type": "stream",
     "text": [
      "     88/Unknown - 83s 798ms/step - loss: 1.6681e-05 - mae: 0.0020"
     ]
    },
    {
     "name": "stderr",
     "output_type": "stream",
     "text": [
      "INFO:root:File 'IE00BJXRT698.csv' loaded, 503 left\n"
     ]
    },
    {
     "name": "stdout",
     "output_type": "stream",
     "text": [
      "     99/Unknown - 90s 777ms/step - loss: 1.6095e-05 - mae: 0.0020"
     ]
    },
    {
     "name": "stderr",
     "output_type": "stream",
     "text": [
      "2023-03-30 07:14:03.023878: I tensorflow/core/profiler/lib/profiler_session.cc:67] Profiler session collecting data.\n",
      "2023-03-30 07:14:03.027403: I tensorflow/core/profiler/backends/gpu/cupti_tracer.cc:1798] CUPTI activity buffer flushed\n",
      "2023-03-30 07:14:03.466557: I tensorflow/core/profiler/backends/gpu/cupti_collector.cc:521]  GpuTracer has collected 594721 callback api events and 597478 activity events. \n",
      "2023-03-30 07:14:09.147088: I tensorflow/core/profiler/lib/profiler_session.cc:128] Profiler session tear down.\n",
      "2023-03-30 07:14:14.795064: I tensorflow/core/profiler/rpc/client/save_profile.cc:136] Creating directory: /content/bigdata/log/FPNWithAttentionBiggerTimebased_2_FutureOnly_60days_GPU_128LB20230330-063353/plugins/profile/2023_03_30_07_14_09\n",
      "\n",
      "2023-03-30 07:14:18.696556: I tensorflow/core/profiler/rpc/client/save_profile.cc:142] Dumped gzipped tool data for trace.json.gz to /content/bigdata/log/FPNWithAttentionBiggerTimebased_2_FutureOnly_60days_GPU_128LB20230330-063353/plugins/profile/2023_03_30_07_14_09/f9a70a97a93c.trace.json.gz\n",
      "2023-03-30 07:14:22.748699: I tensorflow/core/profiler/rpc/client/save_profile.cc:136] Creating directory: /content/bigdata/log/FPNWithAttentionBiggerTimebased_2_FutureOnly_60days_GPU_128LB20230330-063353/plugins/profile/2023_03_30_07_14_09\n",
      "\n",
      "2023-03-30 07:14:22.764674: I tensorflow/core/profiler/rpc/client/save_profile.cc:142] Dumped gzipped tool data for memory_profile.json.gz to /content/bigdata/log/FPNWithAttentionBiggerTimebased_2_FutureOnly_60days_GPU_128LB20230330-063353/plugins/profile/2023_03_30_07_14_09/f9a70a97a93c.memory_profile.json.gz\n",
      "2023-03-30 07:14:23.275296: I tensorflow/core/profiler/rpc/client/capture_profile.cc:251] Creating directory: /content/bigdata/log/FPNWithAttentionBiggerTimebased_2_FutureOnly_60days_GPU_128LB20230330-063353/plugins/profile/2023_03_30_07_14_09\n",
      "Dumped tool data for xplane.pb to /content/bigdata/log/FPNWithAttentionBiggerTimebased_2_FutureOnly_60days_GPU_128LB20230330-063353/plugins/profile/2023_03_30_07_14_09/f9a70a97a93c.xplane.pb\n",
      "Dumped tool data for overview_page.pb to /content/bigdata/log/FPNWithAttentionBiggerTimebased_2_FutureOnly_60days_GPU_128LB20230330-063353/plugins/profile/2023_03_30_07_14_09/f9a70a97a93c.overview_page.pb\n",
      "Dumped tool data for input_pipeline.pb to /content/bigdata/log/FPNWithAttentionBiggerTimebased_2_FutureOnly_60days_GPU_128LB20230330-063353/plugins/profile/2023_03_30_07_14_09/f9a70a97a93c.input_pipeline.pb\n",
      "Dumped tool data for tensorflow_stats.pb to /content/bigdata/log/FPNWithAttentionBiggerTimebased_2_FutureOnly_60days_GPU_128LB20230330-063353/plugins/profile/2023_03_30_07_14_09/f9a70a97a93c.tensorflow_stats.pb\n",
      "Dumped tool data for kernel_stats.pb to /content/bigdata/log/FPNWithAttentionBiggerTimebased_2_FutureOnly_60days_GPU_128LB20230330-063353/plugins/profile/2023_03_30_07_14_09/f9a70a97a93c.kernel_stats.pb\n",
      "\n"
     ]
    },
    {
     "name": "stdout",
     "output_type": "stream",
     "text": [
      "    101/Unknown - 112s 982ms/step - loss: 1.5877e-05 - mae: 0.0020"
     ]
    },
    {
     "name": "stderr",
     "output_type": "stream",
     "text": [
      "INFO:root:File 'IE00B40B8R38.csv' loaded, 502 left\n"
     ]
    },
    {
     "name": "stdout",
     "output_type": "stream",
     "text": [
      "    104/Unknown - 114s 976ms/step - loss: 1.5562e-05 - mae: 0.0020"
     ]
    },
    {
     "name": "stderr",
     "output_type": "stream",
     "text": [
      "INFO:root:File 'IE00BYTH5T38.csv' loaded, 501 left\n"
     ]
    },
    {
     "name": "stdout",
     "output_type": "stream",
     "text": [
      "    106/Unknown - 115s 970ms/step - loss: 1.5363e-05 - mae: 0.0020"
     ]
    },
    {
     "name": "stderr",
     "output_type": "stream",
     "text": [
      "INFO:root:File 'IE00077FRP95.csv' loaded, 500 left\n"
     ]
    },
    {
     "name": "stdout",
     "output_type": "stream",
     "text": [
      "    110/Unknown - 118s 955ms/step - loss: 1.4962e-05 - mae: 0.0019"
     ]
    },
    {
     "name": "stderr",
     "output_type": "stream",
     "text": [
      "INFO:root:File 'DE0002635273.csv' loaded, 499 left\n"
     ]
    },
    {
     "name": "stdout",
     "output_type": "stream",
     "text": [
      "    112/Unknown - 121s 969ms/step - loss: 1.4910e-05 - mae: 0.0020"
     ]
    },
    {
     "name": "stderr",
     "output_type": "stream",
     "text": [
      "INFO:root:File 'IE00B5WHFQ43.csv' loaded, 498 left\n"
     ]
    },
    {
     "name": "stdout",
     "output_type": "stream",
     "text": [
      "    117/Unknown - 126s 966ms/step - loss: 1.4471e-05 - mae: 0.0019"
     ]
    },
    {
     "name": "stderr",
     "output_type": "stream",
     "text": [
      "INFO:root:File 'IE00BKVL7D31.csv' loaded, 497 left\n"
     ]
    },
    {
     "name": "stdout",
     "output_type": "stream",
     "text": [
      "    126/Unknown - 131s 939ms/step - loss: 1.3830e-05 - mae: 0.0019"
     ]
    },
    {
     "name": "stderr",
     "output_type": "stream",
     "text": [
      "INFO:root:File 'LU2356220926.csv' loaded, 496 left\n"
     ]
    },
    {
     "name": "stdout",
     "output_type": "stream",
     "text": [
      "    132/Unknown - 136s 931ms/step - loss: 1.3425e-05 - mae: 0.0019"
     ]
    },
    {
     "name": "stderr",
     "output_type": "stream",
     "text": [
      "INFO:root:File 'IE00BYZK4883.csv' loaded, 495 left\n"
     ]
    },
    {
     "name": "stdout",
     "output_type": "stream",
     "text": [
      "    133/Unknown - 136s 928ms/step - loss: 1.3359e-05 - mae: 0.0019"
     ]
    },
    {
     "name": "stderr",
     "output_type": "stream",
     "text": [
      "INFO:root:File 'IE00B4YBJ215.csv' loaded, 494 left\n"
     ]
    },
    {
     "name": "stdout",
     "output_type": "stream",
     "text": [
      "    134/Unknown - 139s 942ms/step - loss: 1.3298e-05 - mae: 0.0019"
     ]
    },
    {
     "name": "stderr",
     "output_type": "stream",
     "text": [
      "INFO:root:File 'IE00BMDKNW35.csv' loaded, 493 left\n"
     ]
    },
    {
     "name": "stdout",
     "output_type": "stream",
     "text": [
      "    136/Unknown - 140s 939ms/step - loss: 1.3186e-05 - mae: 0.0019"
     ]
    },
    {
     "name": "stderr",
     "output_type": "stream",
     "text": [
      "INFO:root:File 'LU1769088581.csv' loaded, 492 left\n"
     ]
    },
    {
     "name": "stdout",
     "output_type": "stream",
     "text": [
      "    141/Unknown - 144s 929ms/step - loss: 1.2963e-05 - mae: 0.0019"
     ]
    },
    {
     "name": "stderr",
     "output_type": "stream",
     "text": [
      "INFO:root:File 'IE00B6YX5B26.csv' loaded, 491 left\n"
     ]
    },
    {
     "name": "stdout",
     "output_type": "stream",
     "text": [
      "    149/Unknown - 150s 920ms/step - loss: 1.2456e-05 - mae: 0.0019"
     ]
    },
    {
     "name": "stderr",
     "output_type": "stream",
     "text": [
      "INFO:root:File 'LU2023678449.csv' loaded, 490 left\n"
     ]
    },
    {
     "name": "stdout",
     "output_type": "stream",
     "text": [
      "    154/Unknown - 153s 910ms/step - loss: 1.2234e-05 - mae: 0.0019"
     ]
    },
    {
     "name": "stderr",
     "output_type": "stream",
     "text": [
      "INFO:root:File 'LU1953188833.csv' loaded, 489 left\n"
     ]
    },
    {
     "name": "stdout",
     "output_type": "stream",
     "text": [
      "    162/Unknown - 158s 896ms/step - loss: 1.2011e-05 - mae: 0.0019"
     ]
    },
    {
     "name": "stderr",
     "output_type": "stream",
     "text": [
      "INFO:root:File 'LU1861134382.csv' loaded, 488 left\n"
     ]
    },
    {
     "name": "stdout",
     "output_type": "stream",
     "text": [
      "    164/Unknown - 159s 894ms/step - loss: 1.2001e-05 - mae: 0.0019"
     ]
    },
    {
     "name": "stderr",
     "output_type": "stream",
     "text": [
      "INFO:root:File 'IE00BLRPN388.csv' loaded, 487 left\n"
     ]
    },
    {
     "name": "stdout",
     "output_type": "stream",
     "text": [
      "    166/Unknown - 161s 891ms/step - loss: 1.2045e-05 - mae: 0.0019"
     ]
    },
    {
     "name": "stderr",
     "output_type": "stream",
     "text": [
      "INFO:root:File 'LU1781540957.csv' loaded, 486 left\n"
     ]
    },
    {
     "name": "stdout",
     "output_type": "stream",
     "text": [
      "    172/Unknown - 164s 882ms/step - loss: 1.2365e-05 - mae: 0.0019"
     ]
    },
    {
     "name": "stderr",
     "output_type": "stream",
     "text": [
      "INFO:root:File 'IE00BD9MMF62.csv' loaded, 485 left\n"
     ]
    },
    {
     "name": "stdout",
     "output_type": "stream",
     "text": [
      "    175/Unknown - 167s 880ms/step - loss: 1.2706e-05 - mae: 0.0019"
     ]
    },
    {
     "name": "stderr",
     "output_type": "stream",
     "text": [
      "INFO:root:File 'LU1806495575.csv' loaded, 484 left\n"
     ]
    },
    {
     "name": "stdout",
     "output_type": "stream",
     "text": [
      "    181/Unknown - 171s 872ms/step - loss: 1.2524e-05 - mae: 0.0019"
     ]
    },
    {
     "name": "stderr",
     "output_type": "stream",
     "text": [
      "INFO:root:File 'DE000A0H08N1.csv' loaded, 483 left\n"
     ]
    },
    {
     "name": "stdout",
     "output_type": "stream",
     "text": [
      "    186/Unknown - 177s 880ms/step - loss: 1.2443e-05 - mae: 0.0019"
     ]
    },
    {
     "name": "stderr",
     "output_type": "stream",
     "text": [
      "INFO:root:File 'LU2082997946.csv' loaded, 482 left\n"
     ]
    },
    {
     "name": "stdout",
     "output_type": "stream",
     "text": [
      "    193/Unknown - 181s 870ms/step - loss: 1.2320e-05 - mae: 0.0019"
     ]
    },
    {
     "name": "stderr",
     "output_type": "stream",
     "text": [
      "INFO:root:File 'DE0002635307.csv' loaded, 481 left\n"
     ]
    },
    {
     "name": "stdout",
     "output_type": "stream",
     "text": [
      "    194/Unknown - 182s 872ms/step - loss: 1.2276e-05 - mae: 0.0019"
     ]
    },
    {
     "name": "stderr",
     "output_type": "stream",
     "text": [
      "INFO:root:File 'IE00BWBXM492.csv' loaded, 480 left\n"
     ]
    },
    {
     "name": "stdout",
     "output_type": "stream",
     "text": [
      "    197/Unknown - 187s 883ms/step - loss: 1.2208e-05 - mae: 0.0019"
     ]
    },
    {
     "name": "stderr",
     "output_type": "stream",
     "text": [
      "INFO:root:File 'IE00BC7GZJ81.csv' loaded, 479 left\n"
     ]
    },
    {
     "name": "stdout",
     "output_type": "stream",
     "text": [
      "    198/Unknown - 189s 887ms/step - loss: 1.2173e-05 - mae: 0.0019"
     ]
    },
    {
     "name": "stderr",
     "output_type": "stream",
     "text": [
      "INFO:root:File 'LU0832436512.csv' loaded, 478 left\n"
     ]
    },
    {
     "name": "stdout",
     "output_type": "stream",
     "text": [
      "    200/Unknown - 191s 892ms/step - loss: 1.2123e-05 - mae: 0.0019"
     ]
    },
    {
     "name": "stderr",
     "output_type": "stream",
     "text": [
      "INFO:root:File 'IE00BD3V0B10.csv' loaded, 477 left\n"
     ]
    },
    {
     "name": "stdout",
     "output_type": "stream",
     "text": [
      "    204/Unknown - 194s 888ms/step - loss: 1.2064e-05 - mae: 0.0019"
     ]
    },
    {
     "name": "stderr",
     "output_type": "stream",
     "text": [
      "INFO:root:File 'IE00BYTRR863.csv' loaded, 476 left\n"
     ]
    },
    {
     "name": "stdout",
     "output_type": "stream",
     "text": [
      "    210/Unknown - 198s 883ms/step - loss: 1.3392e-05 - mae: 0.0019"
     ]
    },
    {
     "name": "stderr",
     "output_type": "stream",
     "text": [
      "INFO:root:File 'DE000ETFL037.csv' loaded, 475 left\n"
     ]
    },
    {
     "name": "stdout",
     "output_type": "stream",
     "text": [
      "    225/Unknown - 209s 871ms/step - loss: 1.8417e-05 - mae: 0.0020"
     ]
    },
    {
     "name": "stderr",
     "output_type": "stream",
     "text": [
      "INFO:root:File 'IE00B60SX170.csv' loaded, 474 left\n"
     ]
    },
    {
     "name": "stdout",
     "output_type": "stream",
     "text": [
      "    236/Unknown - 217s 864ms/step - loss: 2.0122e-05 - mae: 0.0020"
     ]
    },
    {
     "name": "stderr",
     "output_type": "stream",
     "text": [
      "INFO:root:File 'LU1215454460.csv' loaded, 473 left\n"
     ]
    },
    {
     "name": "stdout",
     "output_type": "stream",
     "text": [
      "    241/Unknown - 221s 862ms/step - loss: 1.9829e-05 - mae: 0.0020"
     ]
    },
    {
     "name": "stderr",
     "output_type": "stream",
     "text": [
      "INFO:root:File 'IE00BJXRZ273.csv' loaded, 472 left\n"
     ]
    },
    {
     "name": "stdout",
     "output_type": "stream",
     "text": [
      "    249/Unknown - 225s 854ms/step - loss: 1.9555e-05 - mae: 0.0020"
     ]
    },
    {
     "name": "stderr",
     "output_type": "stream",
     "text": [
      "INFO:root:File 'IE00BKT1CS59.csv' loaded, 471 left\n"
     ]
    },
    {
     "name": "stdout",
     "output_type": "stream",
     "text": [
      "    255/Unknown - 229s 848ms/step - loss: 1.9448e-05 - mae: 0.0020"
     ]
    },
    {
     "name": "stderr",
     "output_type": "stream",
     "text": [
      "INFO:root:File 'LU1287023342.csv' loaded, 470 left\n"
     ]
    },
    {
     "name": "stdout",
     "output_type": "stream",
     "text": [
      "    257/Unknown - 232s 853ms/step - loss: 1.9511e-05 - mae: 0.0020"
     ]
    },
    {
     "name": "stderr",
     "output_type": "stream",
     "text": [
      "INFO:root:File 'LU1981859819.csv' loaded, 469 left\n"
     ]
    },
    {
     "name": "stdout",
     "output_type": "stream",
     "text": [
      "    264/Unknown - 236s 847ms/step - loss: 1.9548e-05 - mae: 0.0020"
     ]
    },
    {
     "name": "stderr",
     "output_type": "stream",
     "text": [
      "INFO:root:File 'LU1841731745.csv' loaded, 468 left\n"
     ]
    },
    {
     "name": "stdout",
     "output_type": "stream",
     "text": [
      "    274/Unknown - 243s 839ms/step - loss: 1.9275e-05 - mae: 0.0020"
     ]
    },
    {
     "name": "stderr",
     "output_type": "stream",
     "text": [
      "INFO:root:File 'IE000L5NW549.csv' loaded, 467 left\n"
     ]
    },
    {
     "name": "stdout",
     "output_type": "stream",
     "text": [
      "    277/Unknown - 244s 836ms/step - loss: 1.9559e-05 - mae: 0.0020"
     ]
    },
    {
     "name": "stderr",
     "output_type": "stream",
     "text": [
      "INFO:root:File 'IE00B4LN9N13.csv' loaded, 466 left\n"
     ]
    },
    {
     "name": "stdout",
     "output_type": "stream",
     "text": [
      "    280/Unknown - 247s 835ms/step - loss: 1.9448e-05 - mae: 0.0020"
     ]
    },
    {
     "name": "stderr",
     "output_type": "stream",
     "text": [
      "INFO:root:File 'FR0010869578.csv' loaded, 465 left\n"
     ]
    },
    {
     "name": "stdout",
     "output_type": "stream",
     "text": [
      "    287/Unknown - 252s 835ms/step - loss: 1.9109e-05 - mae: 0.0020"
     ]
    },
    {
     "name": "stderr",
     "output_type": "stream",
     "text": [
      "INFO:root:File 'IE00BCRY6557.csv' loaded, 464 left\n"
     ]
    },
    {
     "name": "stdout",
     "output_type": "stream",
     "text": [
      "    293/Unknown - 257s 834ms/step - loss: 1.8809e-05 - mae: 0.0020"
     ]
    },
    {
     "name": "stderr",
     "output_type": "stream",
     "text": [
      "INFO:root:File 'LU2090062949.csv' loaded, 463 left\n"
     ]
    },
    {
     "name": "stdout",
     "output_type": "stream",
     "text": [
      "    297/Unknown - 260s 831ms/step - loss: 1.8619e-05 - mae: 0.0020"
     ]
    },
    {
     "name": "stderr",
     "output_type": "stream",
     "text": [
      "INFO:root:File 'IE00B5M1WJ87.csv' loaded, 462 left\n"
     ]
    },
    {
     "name": "stdout",
     "output_type": "stream",
     "text": [
      "    300/Unknown - 263s 833ms/step - loss: 1.8474e-05 - mae: 0.0020"
     ]
    },
    {
     "name": "stderr",
     "output_type": "stream",
     "text": [
      "INFO:root:File 'IE00B1TXHL60.csv' loaded, 461 left\n"
     ]
    },
    {
     "name": "stdout",
     "output_type": "stream",
     "text": [
      "    303/Unknown - 267s 837ms/step - loss: 1.9786e-05 - mae: 0.0020"
     ]
    },
    {
     "name": "stderr",
     "output_type": "stream",
     "text": [
      "INFO:root:File 'IE00BMQ8YK98.csv' loaded, 460 left\n"
     ]
    },
    {
     "name": "stdout",
     "output_type": "stream",
     "text": [
      "    305/Unknown - 268s 836ms/step - loss: 1.9724e-05 - mae: 0.0020"
     ]
    },
    {
     "name": "stderr",
     "output_type": "stream",
     "text": [
      "INFO:root:File 'IE00BKWQ0D84.csv' loaded, 459 left\n"
     ]
    },
    {
     "name": "stdout",
     "output_type": "stream",
     "text": [
      "    308/Unknown - 270s 836ms/step - loss: 1.9618e-05 - mae: 0.0020"
     ]
    },
    {
     "name": "stderr",
     "output_type": "stream",
     "text": [
      "INFO:root:File 'LU1525418643.csv' loaded, 458 left\n"
     ]
    },
    {
     "name": "stdout",
     "output_type": "stream",
     "text": [
      "    309/Unknown - 272s 837ms/step - loss: 1.9568e-05 - mae: 0.0020"
     ]
    },
    {
     "name": "stderr",
     "output_type": "stream",
     "text": [
      "INFO:root:File 'IE00BJK9H753.csv' loaded, 457 left\n"
     ]
    },
    {
     "name": "stdout",
     "output_type": "stream",
     "text": [
      "    328/Unknown - 283s 824ms/step - loss: 1.8769e-05 - mae: 0.0020"
     ]
    },
    {
     "name": "stderr",
     "output_type": "stream",
     "text": [
      "INFO:root:File 'LU2082997359.csv' loaded, 456 left\n"
     ]
    },
    {
     "name": "stdout",
     "output_type": "stream",
     "text": [
      "    332/Unknown - 286s 821ms/step - loss: 1.8630e-05 - mae: 0.0020"
     ]
    },
    {
     "name": "stderr",
     "output_type": "stream",
     "text": [
      "INFO:root:File 'IE00B6YX5L24.csv' loaded, 455 left\n"
     ]
    },
    {
     "name": "stdout",
     "output_type": "stream",
     "text": [
      "    339/Unknown - 291s 820ms/step - loss: 1.8556e-05 - mae: 0.0020"
     ]
    },
    {
     "name": "stderr",
     "output_type": "stream",
     "text": [
      "INFO:root:File 'LU2082996898.csv' loaded, 454 left\n"
     ]
    },
    {
     "name": "stdout",
     "output_type": "stream",
     "text": [
      "    340/Unknown - 292s 820ms/step - loss: 1.8572e-05 - mae: 0.0020"
     ]
    },
    {
     "name": "stderr",
     "output_type": "stream",
     "text": [
      "INFO:root:File 'IE00B3B8PX14.csv' loaded, 453 left\n"
     ]
    },
    {
     "name": "stdout",
     "output_type": "stream",
     "text": [
      "    342/Unknown - 294s 823ms/step - loss: 1.8878e-05 - mae: 0.0020"
     ]
    },
    {
     "name": "stderr",
     "output_type": "stream",
     "text": [
      "INFO:root:File 'IE00B02KXL92.csv' loaded, 452 left\n"
     ]
    },
    {
     "name": "stdout",
     "output_type": "stream",
     "text": [
      "    350/Unknown - 302s 825ms/step - loss: 2.1505e-05 - mae: 0.0020"
     ]
    },
    {
     "name": "stderr",
     "output_type": "stream",
     "text": [
      "INFO:root:File 'LU1681041205.csv' loaded, 451 left\n"
     ]
    },
    {
     "name": "stdout",
     "output_type": "stream",
     "text": [
      "    351/Unknown - 303s 826ms/step - loss: 2.1470e-05 - mae: 0.0020"
     ]
    },
    {
     "name": "stderr",
     "output_type": "stream",
     "text": [
      "INFO:root:File 'IE00BHZPJ015.csv' loaded, 450 left\n"
     ]
    },
    {
     "name": "stdout",
     "output_type": "stream",
     "text": [
      "    352/Unknown - 305s 829ms/step - loss: 2.1426e-05 - mae: 0.0020"
     ]
    },
    {
     "name": "stderr",
     "output_type": "stream",
     "text": [
      "INFO:root:File 'LU0959210278.csv' loaded, 449 left\n"
     ]
    },
    {
     "name": "stdout",
     "output_type": "stream",
     "text": [
      "    358/Unknown - 310s 829ms/step - loss: 2.1686e-05 - mae: 0.0021"
     ]
    },
    {
     "name": "stderr",
     "output_type": "stream",
     "text": [
      "INFO:root:File 'IE000KPJJWM6.csv' loaded, 448 left\n",
      "WARNING:root:Caught StopIteration in filling missing values for 'IE000KPJJWM6.csv', starting with completely new batch blocks\n",
      "INFO:root:File 'IE00BKWQ0M75.csv' loaded, 447 left\n"
     ]
    },
    {
     "name": "stdout",
     "output_type": "stream",
     "text": [
      "    371/Unknown - 318s 822ms/step - loss: 2.3965e-05 - mae: 0.0021"
     ]
    },
    {
     "name": "stderr",
     "output_type": "stream",
     "text": [
      "INFO:root:File 'IE000NDWFGA5.csv' loaded, 446 left\n"
     ]
    },
    {
     "name": "stdout",
     "output_type": "stream",
     "text": [
      "    374/Unknown - 320s 820ms/step - loss: 2.3807e-05 - mae: 0.0021"
     ]
    },
    {
     "name": "stderr",
     "output_type": "stream",
     "text": [
      "INFO:root:File 'IE00BYSZ5R67.csv' loaded, 445 left\n"
     ]
    },
    {
     "name": "stdout",
     "output_type": "stream",
     "text": [
      "    389/Unknown - 329s 813ms/step - loss: 2.3122e-05 - mae: 0.0021"
     ]
    },
    {
     "name": "stderr",
     "output_type": "stream",
     "text": [
      "INFO:root:File 'IE00BGJWWY63.csv' loaded, 444 left\n"
     ]
    },
    {
     "name": "stdout",
     "output_type": "stream",
     "text": [
      "    392/Unknown - 331s 812ms/step - loss: 2.2983e-05 - mae: 0.0021"
     ]
    },
    {
     "name": "stderr",
     "output_type": "stream",
     "text": [
      "INFO:root:File 'IE00BJK9HD13.csv' loaded, 443 left\n"
     ]
    },
    {
     "name": "stdout",
     "output_type": "stream",
     "text": [
      "    403/Unknown - 338s 806ms/step - loss: 2.2535e-05 - mae: 0.0021"
     ]
    },
    {
     "name": "stderr",
     "output_type": "stream",
     "text": [
      "INFO:root:File 'IE00BMH5Y871.csv' loaded, 442 left\n"
     ]
    },
    {
     "name": "stdout",
     "output_type": "stream",
     "text": [
      "    404/Unknown - 338s 806ms/step - loss: 2.2494e-05 - mae: 0.0021"
     ]
    },
    {
     "name": "stderr",
     "output_type": "stream",
     "text": [
      "INFO:root:File 'IE00BYV1Y969.csv' loaded, 441 left\n"
     ]
    },
    {
     "name": "stdout",
     "output_type": "stream",
     "text": [
      "    406/Unknown - 340s 806ms/step - loss: 2.2407e-05 - mae: 0.0021"
     ]
    }
   ],
   "source": [
    "model.fit(tfGenTraining,\n",
    "          epochs=5,\n",
    "          verbose = 1,\n",
    "          callbacks=[tensorboard_callback, cc])"
   ]
  },
  {
   "cell_type": "code",
   "execution_count": null,
   "metadata": {
    "id": "RLmWNTDIUpt6",
    "tags": []
   },
   "outputs": [],
   "source": [
    "# A python generator function has to be applied on the dataStream\n",
    "\n",
    "def pythonGeneratorEval(fileList):\n",
    "  # Initialize the FileListToDataStream generator\n",
    "  dataStreamEval= DataStreamCreator.FileListToDataStream(fileList = fileList,\n",
    "                                                      batch_size = BATCH_SIZE,\n",
    "                                                      X_Block_lenght = X_BLOCK_LENGHT,\n",
    "                                                      y_type_dict=Y_TYPE_DICT,\n",
    "                                                      shuffle=False,\n",
    "                                                      parallel_generators = 1,\n",
    "                                                      random_seed = RANDOM_SEED,\n",
    "                                                      **DATA_STREAM_PARAMETERS\n",
    "                                                      )\n",
    "  \n",
    "  # This while has to integrated into the FileListToDataStream method\n",
    "  while True:  \n",
    "    try:\n",
    "      ne = next(dataStreamEval)\n",
    "      _X = ne['X']\n",
    "      _y = _y = ne['y']#[:,[1,3]]\n",
    "    \n",
    "      # Limit the y signal to avoid excess\n",
    "      _y /= 10.0\n",
    "      _y = np.clip(_y, -10.0, 10.0)\n",
    "    \n",
    "      # 'Blow up' the X array to a 2**n size\n",
    "      #_X_new = np.zeros((_X.shape[0], _X.shape[1], TARGET_FEATURE_CNT))\n",
    "      #_X_new[:,:,:_X.shape[2]] = _X\n",
    "\n",
    "      yield (_X, _y)\n",
    "    except StopIteration as si:\n",
    "      logging.warning(\"StopIteration in pythonGenerator\")\n",
    "      logging.warning(si)\n",
    "      return"
   ]
  },
  {
   "cell_type": "code",
   "execution_count": null,
   "metadata": {
    "id": "iUSw95cqUuE_",
    "tags": []
   },
   "outputs": [],
   "source": [
    "# Create a Tensorflow dataset out of the python generator, which can be fed to the network\n",
    "tfGenEval = tf.data.Dataset.from_generator(lambda: pythonGeneratorEval(fileList=[TRAIN_FILES[4]]), \n",
    "                                               output_types = (tf.float32, tf.float32),\n",
    "                                               output_shapes=(\n",
    "                                                   (BATCH_SIZE, X_BLOCK_LENGHT, TARGET_FEATURE_CNT),\n",
    "                                                   (BATCH_SIZE, 4)\n",
    "                                                   )\n",
    "                                               )\n",
    "tfGenEval"
   ]
  },
  {
   "cell_type": "code",
   "execution_count": null,
   "metadata": {
    "tags": []
   },
   "outputs": [],
   "source": [
    "# ne[0].shape"
   ]
  },
  {
   "cell_type": "code",
   "execution_count": null,
   "metadata": {
    "tags": []
   },
   "outputs": [],
   "source": [
    "# ne[1].shape"
   ]
  },
  {
   "cell_type": "code",
   "execution_count": null,
   "metadata": {
    "tags": []
   },
   "outputs": [],
   "source": [
    "# plt.plot(ne[1][:,0])"
   ]
  },
  {
   "cell_type": "code",
   "execution_count": null,
   "metadata": {
    "tags": []
   },
   "outputs": [],
   "source": [
    "# plt.plot(ne[1][:,1])"
   ]
  },
  {
   "cell_type": "code",
   "execution_count": null,
   "metadata": {
    "tags": []
   },
   "outputs": [],
   "source": [
    "# evl = model.evaluate(tfGenEval)\n",
    "# evl"
   ]
  },
  {
   "cell_type": "code",
   "execution_count": null,
   "metadata": {
    "id": "ktuZ3D04UzeE"
   },
   "outputs": [],
   "source": [
    "p = model.predict(tfGenEval)\n",
    "p *= 10.0\n",
    "p.shape"
   ]
  },
  {
   "cell_type": "code",
   "execution_count": null,
   "metadata": {
    "tags": []
   },
   "outputs": [],
   "source": [
    "def getPastDataFromGen(genIn, predictedShapeIn):\n",
    "    it = genIn.as_numpy_iterator()\n",
    "\n",
    "    y_past_data = np.empty((predictedShapeIn[0], 2))\n",
    "    i = 0\n",
    "\n",
    "    try:\n",
    "        while (ne := next(it)):\n",
    "            #print(i)\n",
    "            y_past_data[i:i+ne[1].shape[0],0] = ne[1][:,0]\n",
    "            y_past_data[i:i+ne[1].shape[0],1] = ne[1][:,2]\n",
    "\n",
    "            i += ne[1].shape[0]\n",
    "\n",
    "    except StopIteration:\n",
    "        pass\n",
    "\n",
    "    return y_past_data\n",
    "    \n",
    "y_past_data = getPastDataFromGen(tfGenEval, p.shape)\n",
    "y_past_data.shape"
   ]
  },
  {
   "cell_type": "code",
   "execution_count": null,
   "metadata": {
    "tags": []
   },
   "outputs": [],
   "source": [
    "plt.plot(y_past_data[:,0])"
   ]
  },
  {
   "cell_type": "code",
   "execution_count": null,
   "metadata": {
    "tags": []
   },
   "outputs": [],
   "source": [
    "plt.plot(y_past_data[:,1])"
   ]
  },
  {
   "cell_type": "code",
   "execution_count": null,
   "metadata": {
    "id": "vgzPCL7KVXC1"
   },
   "outputs": [],
   "source": [
    "plt.plot(p[:,0])"
   ]
  },
  {
   "cell_type": "code",
   "execution_count": null,
   "metadata": {
    "tags": []
   },
   "outputs": [],
   "source": [
    "plt.plot(p[:,1])"
   ]
  },
  {
   "cell_type": "code",
   "execution_count": null,
   "metadata": {
    "tags": []
   },
   "outputs": [],
   "source": [
    "p.shape"
   ]
  },
  {
   "cell_type": "code",
   "execution_count": null,
   "metadata": {
    "tags": []
   },
   "outputs": [],
   "source": [
    "tickDF = pd.read_csv(TRAIN_FILES[1])\n",
    "tickDF"
   ]
  },
  {
   "cell_type": "code",
   "execution_count": null,
   "metadata": {
    "tags": []
   },
   "outputs": [],
   "source": [
    "tickDF.shape[0] - p.shape[0]"
   ]
  },
  {
   "cell_type": "code",
   "execution_count": null,
   "metadata": {
    "tags": []
   },
   "outputs": [],
   "source": [
    "tickDFcropped = tickDF.iloc[-p.shape[0]:, :]\n",
    "tickDFcropped"
   ]
  },
  {
   "cell_type": "code",
   "execution_count": null,
   "metadata": {
    "tags": []
   },
   "outputs": [],
   "source": [
    "# p_dir = p[:,0]\n",
    "# p_dir_derivation = p[:,1]\n",
    "\n",
    "p_future = p[:,0]\n",
    "p_future_derivation = p[:,1]"
   ]
  },
  {
   "cell_type": "code",
   "execution_count": null,
   "metadata": {
    "tags": []
   },
   "outputs": [],
   "source": [
    "# Plot the prediction again, now over the open price\n",
    "chart_name=\"Predicted direction of price movement with open price\"\n",
    "fig, ax1 = plt.subplots(figsize=(20,10))\n",
    "ax1.set_title(chart_name, fontsize=14)\n",
    "\n",
    "_ = ax1.plot(p_future, color=\"green\", label=\"Predicted p_future\")\n",
    "_ = ax1.plot(p_future_derivation, color=\"red\", label=\"Predicted p_future_derivation\")\n",
    "# _ = ax1.plot(p_neutral, color=\"gray\", label=\"Predicted neutral\")\n",
    "\n",
    "ax2 = ax1.twinx()\n",
    "\n",
    "ax2.plot(tickDFcropped.loc[:,'open'].values, color=\"black\", label=\"Price\")\n",
    "\n",
    "ax1.set_xlabel(\"Timesteps\")\n",
    "ax1.set_ylabel(\"Direction\")\n",
    "ax2.set_ylabel(\"Price\")\n",
    "\n",
    "# Show a legend\n",
    "lines, labels = ax1.get_legend_handles_labels()\n",
    "lines2, labels2 = ax2.get_legend_handles_labels()\n",
    "ax2.legend(lines + lines2, labels + labels2, loc=\"upper left\")\n",
    "\n",
    "# Save the figure\n",
    "# fig_name = \"FileListToDataStreamExample_\" + chart_name.replace(\" \", \"_\").replace(\"'\", \"\").replace(\"(\", \"\").replace(\")\", \"\") + \".svg\"\n",
    "# plt.savefig(os.path.join(IMG_SAVE_PATH, fig_name), bbox_inches=\"tight\")"
   ]
  },
  {
   "cell_type": "code",
   "execution_count": null,
   "metadata": {
    "tags": []
   },
   "outputs": [],
   "source": [
    "#@title Buy and sell signal thresholds\n",
    "BUY_SIGNAL_THRESHOLD_FUTURE = 0.15 #@param {type:\"number\"}\n",
    "BUY_SIGNAL_THRESHOLD_PAST = 0.01 #@param {type:\"number\"}\n",
    "\n",
    "SELL_SIGNAL_THRESHOLD_PAST = 0.1 #@param {type:\"number\"}"
   ]
  },
  {
   "cell_type": "code",
   "execution_count": null,
   "metadata": {
    "tags": []
   },
   "outputs": [],
   "source": [
    "#@title Plot buy and sell signals\n",
    "chart_name=\"Buy and sell signals\"\n",
    "fig, ax1 = plt.subplots(figsize=(20,10))\n",
    "ax1.set_title(chart_name)\n",
    "\n",
    "x_datetimes = [datetime.datetime.fromtimestamp(ts) for ts in tickDFcropped.loc[:,'open'].index]\n",
    "\n",
    "_ = ax1.plot(x_datetimes, tickDFcropped.loc[:,'open'].values, color=\"black\", label=\"Price\", linewidth=2)\n",
    "\n",
    "# Color area axis\n",
    "ax2 = ax1.twinx()\n",
    "\n",
    "# Convert the float value prediction into rising and falling categories\n",
    "yCategoryFall = p_past_gain >= SELL_SIGNAL_THRESHOLD_PAST\n",
    "yCategoryRise = (p_future_gain > p_past_gain) & (p_past_gain <= BUY_SIGNAL_THRESHOLD_FUTURE) #(p_future_gain >= BUY_SIGNAL_THRESHOLD_FUTURE)\n",
    "\n",
    "ax2.fill_between(x_datetimes, yCategoryFall , alpha=0.5, color=\"red\", label=\"'Buy' signal\")\n",
    "ax2.fill_between(x_datetimes, yCategoryRise , alpha=0.5, color=\"green\", label=\"'Sell' signal\")\n",
    "\n",
    "# Remove tick marks and set limits for color area axis\n",
    "ax2.set_yticks([])\n",
    "ax2.set_ylim(-0.05,1.05)\n",
    "\n",
    "ax3 = ax1.twinx()\n",
    "_ = ax3.plot(x_datetimes, p_future_gain, color=\"blue\", label=\"Predicted future gain\")\n",
    "# _ = ax3.plot(x_datetimes, 10.0*p_dir_derivation, color=\"red\", label=\"10.0 * Predicted price direction derivation\")\n",
    "# ax3.set_ylim(-1.05,1.05)\n",
    "\n",
    "ax3.plot([np.min(x_datetimes), np.max(x_datetimes)], [0.0,0.0], color=\"gray\")\n",
    "\n",
    "# Show a legend\n",
    "lines, labels = ax1.get_legend_handles_labels()\n",
    "lines2, labels2 = ax2.get_legend_handles_labels()\n",
    "lines3, labels3 = ax3.get_legend_handles_labels()\n",
    "ax2.legend(lines + lines2 + lines3, labels + labels2 + labels3, loc=\"upper left\")\n",
    "\n",
    "# Save the figure\n",
    "# fig_name = chart_name.replace(\" \", \"_\").replace(\"'\", \"\") + \".svg\"\n",
    "# plt.savefig(os.path.join(IMG_SAVE_PATH, fig_name), bbox_inches=\"tight\")"
   ]
  },
  {
   "cell_type": "markdown",
   "metadata": {},
   "source": [
    "# Add predictions to tick tables"
   ]
  },
  {
   "cell_type": "code",
   "execution_count": null,
   "metadata": {
    "tags": []
   },
   "outputs": [],
   "source": [
    "stop"
   ]
  },
  {
   "cell_type": "code",
   "execution_count": null,
   "metadata": {
    "tags": []
   },
   "outputs": [],
   "source": [
    "# PREDICTED_SAVE_PATH = \"/content/dataset/etffancy/PastFutureGainV2/test\""
   ]
  },
  {
   "cell_type": "code",
   "execution_count": null,
   "metadata": {
    "tags": []
   },
   "outputs": [],
   "source": [
    "!mkdir /content/dataset/etffancy/FPNWithAttentionBiggerTimebased_1_FutureOnly\n",
    "!mkdir /content/dataset/etffancy/FPNWithAttentionBiggerTimebased_1_FutureOnly/test\n",
    "!mkdir /content/dataset/etffancy/FPNWithAttentionBiggerTimebased_1_FutureOnly/eval"
   ]
  },
  {
   "cell_type": "code",
   "execution_count": null,
   "metadata": {
    "tags": []
   },
   "outputs": [],
   "source": [
    "# Create a Tensorflow dataset out of the python generator, which can be fed to the network\n",
    "# https://stackoverflow.com/questions/52443273/how-do-you-send-arguments-to-a-generator-function-using-tf-data-dataset-from-gen\n",
    "\n",
    "#fileList = EVAL_FILES\n",
    "#PREDICTED_SAVE_PATH = \"/content/dataset/etffancy/FPNWithAttentionBiggerTimebased_1_FutureOnly/eval\"\n",
    "\n",
    "fileList = TEST_FILES\n",
    "PREDICTED_SAVE_PATH = \"/content/dataset/etffancy/FPNWithAttentionBiggerTimebased_1_FutureOnly/test\"\n",
    "\n",
    "pd.options.mode.chained_assignment = None  # default='warn'\n",
    "\n",
    "for file_index in tqdm(range(0, len(fileList))):\n",
    "    try:\n",
    "        filename = fileList[file_index]\n",
    "\n",
    "        logging.info(f\"\\nFile name: '{filename}' for index {file_index}\")\n",
    "\n",
    "        tfGenEval = tf.data.Dataset.from_generator(lambda: pythonGeneratorEval(fileList=[filename]), \n",
    "                                                       output_types = (tf.float32, tf.float32),\n",
    "                                                       output_shapes=(\n",
    "                                                           (BATCH_SIZE, X_BLOCK_LENGHT, TARGET_FEATURE_CNT),\n",
    "                                                           (BATCH_SIZE, 4)\n",
    "                                                           )\n",
    "                                                       )\n",
    "        p = model.predict(tfGenEval, verbose = 0)\n",
    "\n",
    "        logging.info(f\"p.shape: {p.shape}\")\n",
    "\n",
    "        p_future_gain = p[:,0]\n",
    "        p_future_gain_derivation = p[:,1]\n",
    "        \n",
    "        # Load the tick table\n",
    "        tickDF = pd.read_csv(filename)\n",
    "        tickDFcropped = tickDF.iloc[-p.shape[0]:, :]\n",
    "        \n",
    "        # Add the predicted future gain\n",
    "        tickDFcropped.loc[:,\"p_future_gain\"] = p_future_gain\n",
    "        tickDFcropped.loc[:,\"p_future_gain_derivation\"] = p_future_gain_derivation\n",
    "        \n",
    "        # Get the (known) past data\n",
    "        y_past_data = getPastDataFromGen(tfGenEval, p.shape)\n",
    "\n",
    "        # Add the past gain\n",
    "        tickDFcropped.loc[:,\"p_past_gain\"] = y_past_data[:,0]\n",
    "        tickDFcropped.loc[:,\"p_past_gain_derivation\"] = y_past_data[:,1]\n",
    "\n",
    "        # Save the DF\n",
    "        tickDFcropped.to_csv(os.path.join(PREDICTED_SAVE_PATH, filename.split(os.path.sep)[-1]))\n",
    "\n",
    "        logging.info(\"Saved the predicted data.\")\n",
    "    except KeyboardInterrupt:\n",
    "        raise\n",
    "    except Exception as ex:\n",
    "        logging.warning(str(ex))"
   ]
  },
  {
   "cell_type": "code",
   "execution_count": null,
   "metadata": {
    "tags": []
   },
   "outputs": [],
   "source": [
    "# Create a Tensorflow dataset out of the python generator, which can be fed to the network\n",
    "# https://stackoverflow.com/questions/52443273/how-do-you-send-arguments-to-a-generator-function-using-tf-data-dataset-from-gen\n",
    "\n",
    "fileList = EVAL_FILES\n",
    "PREDICTED_SAVE_PATH = \"/content/dataset/etffancy/FPNWithAttentionBiggerTimebased_1_FutureOnly/eval\"\n",
    "\n",
    "# fileList = TEST_FILES\n",
    "# PREDICTED_SAVE_PATH = \"/content/dataset/etffancy/FPNWithAttentionBiggerTimebased_1_FutureOnly/test\"\n",
    "\n",
    "pd.options.mode.chained_assignment = None  # default='warn'\n",
    "\n",
    "for file_index in tqdm(range(0, len(fileList))):\n",
    "    try:\n",
    "        filename = fileList[file_index]\n",
    "\n",
    "        logging.info(f\"\\nFile name: '{filename}' for index {file_index}\")\n",
    "\n",
    "        tfGenEval = tf.data.Dataset.from_generator(lambda: pythonGeneratorEval(fileList=[filename]), \n",
    "                                                       output_types = (tf.float32, tf.float32),\n",
    "                                                       output_shapes=(\n",
    "                                                           (BATCH_SIZE, X_BLOCK_LENGHT, TARGET_FEATURE_CNT),\n",
    "                                                           (BATCH_SIZE, 4)\n",
    "                                                           )\n",
    "                                                       )\n",
    "        p = model.predict(tfGenEval, verbose = 0)\n",
    "\n",
    "        logging.info(f\"p.shape: {p.shape}\")\n",
    "\n",
    "        p_future_gain = p[:,0]\n",
    "        p_future_gain_derivation = p[:,1]\n",
    "        \n",
    "        # Load the tick table\n",
    "        tickDF = pd.read_csv(filename)\n",
    "        tickDFcropped = tickDF.iloc[-p.shape[0]:, :]\n",
    "        \n",
    "        # Add the predicted future gain\n",
    "        tickDFcropped.loc[:,\"p_future_gain\"] = p_future_gain\n",
    "        tickDFcropped.loc[:,\"p_future_gain_derivation\"] = p_future_gain_derivation\n",
    "        \n",
    "        # Get the (known) past data\n",
    "        y_past_data = getPastDataFromGen(tfGenEval, p.shape)\n",
    "\n",
    "        # Add the past gain\n",
    "        tickDFcropped.loc[:,\"p_past_gain\"] = y_past_data[:,0]\n",
    "        tickDFcropped.loc[:,\"p_past_gain_derivation\"] = y_past_data[:,1]\n",
    "\n",
    "        # Save the DF\n",
    "        tickDFcropped.to_csv(os.path.join(PREDICTED_SAVE_PATH, filename.split(os.path.sep)[-1]))\n",
    "\n",
    "        logging.info(\"Saved the predicted data.\")\n",
    "    except KeyboardInterrupt:\n",
    "        raise\n",
    "    except Exception as ex:\n",
    "        logging.warning(str(ex))"
   ]
  }
 ],
 "metadata": {
  "colab": {
   "provenance": []
  },
  "gpuClass": "standard",
  "kernelspec": {
   "display_name": "Python 3 (ipykernel)",
   "language": "python",
   "name": "python3"
  },
  "language_info": {
   "codemirror_mode": {
    "name": "ipython",
    "version": 3
   },
   "file_extension": ".py",
   "mimetype": "text/x-python",
   "name": "python",
   "nbconvert_exporter": "python",
   "pygments_lexer": "ipython3",
   "version": "3.10.9"
  }
 },
 "nbformat": 4,
 "nbformat_minor": 4
}
