{
 "cells": [
  {
   "cell_type": "markdown",
   "metadata": {
    "id": "RIbOPenP-I_d"
   },
   "source": [
    "# Mount drive and bucket\n",
    "Todo: Remove in public version"
   ]
  },
  {
   "cell_type": "code",
   "execution_count": 1,
   "metadata": {
    "id": "GHybPwDjX1gZ",
    "tags": []
   },
   "outputs": [],
   "source": [
    "# Check if the notebook is run in Google Colab\n",
    "import sys\n",
    "\n",
    "COLAB = 'google.colab' in sys.modules"
   ]
  },
  {
   "cell_type": "code",
   "execution_count": 2,
   "metadata": {
    "tags": []
   },
   "outputs": [
    {
     "name": "stdout",
     "output_type": "stream",
     "text": [
      "<_io.TextIOWrapper name='/content/bigdata/nb_20230314_0752.log' mode='a+' encoding='UTF-8'>\n"
     ]
    },
    {
     "data": {
      "application/javascript": [
       "IPython.notebook.set_autosave_interval(60000)"
      ]
     },
     "metadata": {},
     "output_type": "display_data"
    },
    {
     "name": "stdout",
     "output_type": "stream",
     "text": [
      "Autosaving every 60 seconds\n"
     ]
    }
   ],
   "source": [
    "import sys\n",
    "import datetime\n",
    "import logging\n",
    "\n",
    "nblog = open(f\"/content/bigdata/nb_{datetime.datetime.utcnow().strftime('%Y%m%d_%H%M')}.log\", \"a+\")\n",
    "print(nblog)\n",
    "sys.stdout.echo = nblog\n",
    "sys.stderr.echo = nblog\n",
    "\n",
    "#get_ipython().log.handlers[0].stream = nblog\n",
    "#get_ipython().log.setLevel(logging.INFO)\n",
    "\n",
    "%autosave 60"
   ]
  },
  {
   "cell_type": "code",
   "execution_count": 3,
   "metadata": {
    "colab": {
     "base_uri": "https://localhost:8080/"
    },
    "id": "sK6Uuoy5qsua",
    "outputId": "d29d48f5-a2e5-40f9-927d-002d32fd48f9"
   },
   "outputs": [],
   "source": [
    "# if COLAB:\n",
    "#   from google.colab import drive\n",
    "#   drive.mount('/content/drive')"
   ]
  },
  {
   "cell_type": "code",
   "execution_count": 4,
   "metadata": {
    "id": "MTJ7bYMtHmvS"
   },
   "outputs": [
    {
     "name": "stdout",
     "output_type": "stream",
     "text": [
      "Run the command!\n"
     ]
    }
   ],
   "source": [
    "if COLAB:\n",
    "  from google.colab import auth\n",
    "  auth.authenticate_user()\n",
    "else:\n",
    "    print(\"Run the command!\")\n",
    "  #Todo #bring the command inside the notebook\n",
    "  #run this terminal inside docker: gcloud auth login b.girsule@gmail.com --no-launch-browser"
   ]
  },
  {
   "cell_type": "code",
   "execution_count": 5,
   "metadata": {
    "id": "DOScyXpJws23"
   },
   "outputs": [],
   "source": [
    "# Todo: Check if possible in local docker\n",
    "# from google.cloud import storage"
   ]
  },
  {
   "cell_type": "code",
   "execution_count": 6,
   "metadata": {
    "colab": {
     "base_uri": "https://localhost:8080/"
    },
    "id": "t9dbL-PU-okV",
    "outputId": "14e73bf6-881d-4bc0-96f4-8a1b79cae570"
   },
   "outputs": [
    {
     "name": "stderr",
     "output_type": "stream",
     "text": [
      "2023-03-14 07:52:15.420350: I tensorflow/core/platform/cpu_feature_guard.cc:193] This TensorFlow binary is optimized with oneAPI Deep Neural Network Library (oneDNN) to use the following CPU instructions in performance-critical operations:  AVX2 FMA\n",
      "To enable them in other operations, rebuild TensorFlow with the appropriate compiler flags.\n",
      "2023-03-14 07:52:15.543481: E tensorflow/stream_executor/cuda/cuda_blas.cc:2981] Unable to register cuBLAS factory: Attempting to register factory for plugin cuBLAS when one has already been registered\n",
      "2023-03-14 07:52:16.170249: W tensorflow/stream_executor/platform/default/dso_loader.cc:64] Could not load dynamic library 'libnvinfer.so.7'; dlerror: libnvinfer.so.7: cannot open shared object file: No such file or directory\n",
      "2023-03-14 07:52:16.170317: W tensorflow/stream_executor/platform/default/dso_loader.cc:64] Could not load dynamic library 'libnvinfer_plugin.so.7'; dlerror: libnvinfer_plugin.so.7: cannot open shared object file: No such file or directory\n",
      "2023-03-14 07:52:16.170326: W tensorflow/compiler/tf2tensorrt/utils/py_utils.cc:38] TF-TRT Warning: Cannot dlopen some TensorRT libraries. If you would like to use Nvidia GPU with TensorRT, please make sure the missing libraries mentioned above are installed properly.\n"
     ]
    },
    {
     "name": "stdout",
     "output_type": "stream",
     "text": [
      "TF Version is 2.10.0, ok!\n"
     ]
    }
   ],
   "source": [
    "# Check if the tf version is 2.10.0, this is required to use the 'ignore_class' in the  SparseCategoricalCrossentropy\n",
    "import tensorflow as tf\n",
    "\n",
    "if '2.10.0' != tf.__version__:\n",
    "  !pip uninstall tensorflow -y\n",
    "  !pip install tensorflow-gpu==2.10.0\n",
    "  please_restart_the_runtime\n",
    "else:\n",
    "  print(\"TF Version is 2.10.0, ok!\")"
   ]
  },
  {
   "cell_type": "code",
   "execution_count": 7,
   "metadata": {
    "id": "FYePtDVpqtkN"
   },
   "outputs": [],
   "source": [
    "from tensorflow import keras\n",
    "# import tensorflow_gcs_config\n",
    "from tensorflow.python.lib.io import file_io\n",
    "\n",
    "from keras.layers import Input, Dense, Flatten #, ReLU, Add, Flatten, Concatenate, LayerNormalization, UpSampling2D, Activation, LSTM, Multiply, Dropout, Reshape, Permute, BatchNormalization, MaxPooling1D, AveragePooling1D, MaxPooling3D, AveragePooling2D, LayerNormalization, MaxPooling2D\n",
    "from keras.models import Model\n",
    "from keras.optimizers import Adam"
   ]
  },
  {
   "cell_type": "code",
   "execution_count": 8,
   "metadata": {
    "id": "pxa3Ug_JplIq"
   },
   "outputs": [],
   "source": [
    "import os\n",
    "from os import listdir\n",
    "from os.path import isfile, join"
   ]
  },
  {
   "cell_type": "code",
   "execution_count": 9,
   "metadata": {
    "id": "EcBnUrFKqyCK"
   },
   "outputs": [],
   "source": [
    "import pandas as pd\n",
    "import numpy as np\n",
    "import copy\n",
    "import matplotlib.pyplot as plt\n",
    "from tqdm import tqdm\n",
    "import pickle\n",
    "import gc"
   ]
  },
  {
   "cell_type": "code",
   "execution_count": 10,
   "metadata": {
    "id": "R_3vswfeRqmj"
   },
   "outputs": [],
   "source": [
    "# Set the google cloud bucket data\n",
    "project_id = 'tweetprediction'\n",
    "bucket_name = 'crypto_nlp_training'"
   ]
  },
  {
   "cell_type": "code",
   "execution_count": 11,
   "metadata": {
    "id": "X3s3eDubSFaJ",
    "tags": []
   },
   "outputs": [],
   "source": [
    "# Set the checkpoint path for saving train progress\n",
    "if COLAB:\n",
    "    CHECKPOINT_PATH = f\"gs://{bucket_name}/chk/\"\n",
    "else:\n",
    "    CHECKPOINT_PATH = f\"/content/bigdata/chk/\""
   ]
  },
  {
   "cell_type": "code",
   "execution_count": 12,
   "metadata": {
    "colab": {
     "base_uri": "https://localhost:8080/"
    },
    "id": "8rvlsLwbpmWJ",
    "outputId": "12f0ff94-d55c-449f-f101-c4581499db7d"
   },
   "outputs": [],
   "source": [
    "# Check if the notebook is run in google colab, if so, clone the repo\n",
    "if COLAB:\n",
    "    print(\"Running in Colab\")\n",
    "\n",
    "    # Clone the whole repo to get all data and code if not already done\n",
    "    if not os.path.exists(\"/content/CryptoCrystalBall\"):\n",
    "      !git clone https://github.com/girsigit/CryptoCrystalBall\n",
    "\n",
    "      # cd into the notebooks directory --> Necessary to match all paths for importing\n",
    "    #%cd /content/CryptoCrystalBall/JupyterDocker/notebooks\n",
    "    %cd /content"
   ]
  },
  {
   "cell_type": "code",
   "execution_count": 13,
   "metadata": {
    "id": "q9OmJ6vFthwG"
   },
   "outputs": [],
   "source": [
    "# Try importing the Ta-Lib library, if this fails, try to install it and\n",
    "# import it again afterwards\n",
    "try:\n",
    "    import talib\n",
    "except:\n",
    "    !wget http://prdownloads.sourceforge.net/ta-lib/ta-lib-0.4.0-src.tar.gz\n",
    "    !tar -xzvf ta-lib-0.4.0-src.tar.gz\n",
    "    %cd ta-lib\n",
    "    !./configure --prefix=/usr\n",
    "    !make\n",
    "    !make install\n",
    "    !pip install Ta-Lib\n",
    "    %cd ..\n",
    "\n",
    "    import talib"
   ]
  },
  {
   "cell_type": "code",
   "execution_count": 14,
   "metadata": {
    "id": "2orTUN099zyA",
    "tags": []
   },
   "outputs": [],
   "source": [
    "try:\n",
    "  from transformers import TFRobertaModel, RobertaConfig\n",
    "except:\n",
    "  # Important!: Version 4.23 does not work on TPU\n",
    "  !pip install transformers==4.22\n",
    "\n",
    "  from transformers import TFRobertaModel, RobertaConfig"
   ]
  },
  {
   "cell_type": "code",
   "execution_count": 15,
   "metadata": {
    "tags": []
   },
   "outputs": [],
   "source": [
    "# !pip uninstall -y tensorboard-plugin-profile"
   ]
  },
  {
   "cell_type": "code",
   "execution_count": 16,
   "metadata": {
    "colab": {
     "base_uri": "https://localhost:8080/"
    },
    "id": "qfAsp4TWHivL",
    "outputId": "a25fdba4-ad57-40a3-f725-7d4ed114d38b",
    "tags": []
   },
   "outputs": [],
   "source": [
    "# # Required to do profiling\n",
    "# !pip install tensorboard-plugin-profile"
   ]
  },
  {
   "cell_type": "code",
   "execution_count": 17,
   "metadata": {
    "id": "axPYAbN9upgY",
    "tags": []
   },
   "outputs": [],
   "source": [
    "import logging\n",
    "logger = logging.getLogger()\n",
    "logger.setLevel(logging.INFO)"
   ]
  },
  {
   "cell_type": "markdown",
   "metadata": {
    "id": "Nbt7oQxzL2Zy"
   },
   "source": [
    "---\n",
    "# Add custom import path for DataStreamCreator and IndicatorCalculator\n",
    "\n",
    "These libs are not in the standard python directory, so their paths have to be added to the import paths"
   ]
  },
  {
   "cell_type": "code",
   "execution_count": 18,
   "metadata": {
    "colab": {
     "base_uri": "https://localhost:8080/"
    },
    "id": "ICDL0OwbL2Zz",
    "outputId": "41c7541e-3a1e-4035-f2f3-182fed452a8e",
    "tags": []
   },
   "outputs": [
    {
     "data": {
      "text/plain": [
       "['', 'content']"
      ]
     },
     "execution_count": 18,
     "metadata": {},
     "output_type": "execute_result"
    }
   ],
   "source": [
    "# # Get the current directory\n",
    "# current_dir = os.getcwd()\n",
    "# current_dir_splitted = current_dir.split(os.sep)\n",
    "\n",
    "# Todo: is inside /content/CB in local docker\n",
    "current_dir_splitted = [\"\", \"content\"]\n",
    "current_dir_splitted"
   ]
  },
  {
   "cell_type": "code",
   "execution_count": 19,
   "metadata": {
    "colab": {
     "base_uri": "https://localhost:8080/"
    },
    "id": "JJ8l6O2gL2Z1",
    "outputId": "de6d884a-f4be-47e2-c808-eeac3448580c",
    "tags": []
   },
   "outputs": [
    {
     "name": "stdout",
     "output_type": "stream",
     "text": [
      "dsc_dir: /content/CryptoCrystalBall/DataStreamCreator\n",
      "ind_dir: /content/CryptoCrystalBall/IndicatorCalculator\n"
     ]
    }
   ],
   "source": [
    "# Create the import directories for the DataStreamCreator and the IndicatorCalculator\n",
    "dsc_dir = '/content/CryptoCrystalBall/DataStreamCreator'\n",
    "print(f\"dsc_dir: {dsc_dir}\")\n",
    "\n",
    "ind_dir = '/content/CryptoCrystalBall/IndicatorCalculator'\n",
    "print(f\"ind_dir: {ind_dir}\")\n",
    "\n",
    "# Add them to the import paths\n",
    "sys.path.insert(0, dsc_dir)\n",
    "sys.path.insert(0, ind_dir)"
   ]
  },
  {
   "cell_type": "code",
   "execution_count": 20,
   "metadata": {
    "id": "iqyTbcZDttLT",
    "tags": []
   },
   "outputs": [],
   "source": [
    "# Import the actual classes\n",
    "from IndicatorCalculator import IndicatorCalculator\n",
    "import DataStreamCreator"
   ]
  },
  {
   "cell_type": "markdown",
   "metadata": {
    "id": "zPsG4dqRL2Z5"
   },
   "source": [
    "---\n",
    "# Define all the parameters and variables"
   ]
  },
  {
   "cell_type": "code",
   "execution_count": 21,
   "metadata": {
    "colab": {
     "base_uri": "https://localhost:8080/"
    },
    "id": "5J8ODl45L2Z6",
    "outputId": "690c2801-687e-47fe-cefc-616e029a62a5",
    "tags": []
   },
   "outputs": [
    {
     "name": "stdout",
     "output_type": "stream",
     "text": [
      "DATA_PATH: /content/DemoData\n"
     ]
    }
   ],
   "source": [
    "# Define the tick data path\n",
    "DATA_PATH = os.path.join(os.sep, *current_dir_splitted, 'DemoData')\n",
    "print(f\"DATA_PATH: {DATA_PATH}\")"
   ]
  },
  {
   "cell_type": "code",
   "execution_count": 22,
   "metadata": {
    "colab": {
     "base_uri": "https://localhost:8080/"
    },
    "id": "7TUeLGiOL2Z7",
    "outputId": "00651843-f462-4c20-e6cc-7cb0d7cd6d23",
    "tags": []
   },
   "outputs": [
    {
     "name": "stdout",
     "output_type": "stream",
     "text": [
      "IMG_SAVE_PATH: /content/Documentation/Images\n"
     ]
    }
   ],
   "source": [
    "# Define the chart image save path\n",
    "IMG_SAVE_PATH = os.path.join(os.sep, *current_dir_splitted, 'Documentation', 'Images')\n",
    "print(f\"IMG_SAVE_PATH: {IMG_SAVE_PATH}\")"
   ]
  },
  {
   "cell_type": "code",
   "execution_count": 23,
   "metadata": {
    "id": "o23rkki9ttLZ",
    "tags": []
   },
   "outputs": [],
   "source": [
    "# Define a global random seed\n",
    "RANDOM_SEED = 42+14\n",
    "\n",
    "# Set the seed in np\n",
    "np.random.seed(RANDOM_SEED)"
   ]
  },
  {
   "cell_type": "code",
   "execution_count": 24,
   "metadata": {
    "id": "g9gBeRtnxKMD",
    "tags": []
   },
   "outputs": [],
   "source": [
    "# X_BLOCK_LENGHT defines how far into the past a 'slice of a chart' shall be\n",
    "# See: https://github.com/girsigit/CryptoCrystalBall/tree/main/DataStreamCreator#xblockgenerator\n",
    "X_BLOCK_LENGHT = 64"
   ]
  },
  {
   "cell_type": "code",
   "execution_count": 25,
   "metadata": {
    "id": "sh5dsBKr5Ko-",
    "tags": []
   },
   "outputs": [],
   "source": [
    "# How many examples shall be processed at the same time, limited by GPU memory\n",
    "BATCH_SIZE = 512"
   ]
  },
  {
   "cell_type": "code",
   "execution_count": 26,
   "metadata": {
    "id": "J331jHk-u345",
    "tags": []
   },
   "outputs": [],
   "source": [
    "# A fixed number of features is used\n",
    "FEATURES = 160"
   ]
  },
  {
   "cell_type": "code",
   "execution_count": 27,
   "metadata": {
    "id": "1JVT1Z2U0lW8",
    "tags": []
   },
   "outputs": [],
   "source": [
    "# Finanical indicator timespans\n",
    "# See: https://github.com/girsigit/CryptoCrystalBall/tree/main/IndicatorCalculator\n",
    "SHORTSPAN = 7\n",
    "MIDSPAN = 38\n",
    "LONGSPAN = 50"
   ]
  },
  {
   "cell_type": "code",
   "execution_count": 28,
   "metadata": {
    "id": "AnNz-Oke3J3p",
    "tags": []
   },
   "outputs": [],
   "source": [
    "# Additional settings for the data stream\n",
    "# For this notebook, the calculation of pattern indicators is turned off\n",
    "DATA_STREAM_PARAMETERS = {\n",
    "    \"calcPatternIndicators\": False, # No patterns are used\n",
    "    \"calcVolumeInidators\": False, # No volume indicators, these are wide spread and may disturb the classifer\n",
    "    \"dropna\": True # Drop all tick/indicator table rows containing nan values instead of just replacing them by 0 (which would lead to wrong predictions)\n",
    "}"
   ]
  },
  {
   "cell_type": "markdown",
   "metadata": {
    "id": "7xXpDFe9ROVQ"
   },
   "source": [
    "# Load the train dataset"
   ]
  },
  {
   "cell_type": "code",
   "execution_count": 29,
   "metadata": {
    "id": "b2EO18ZmppNe",
    "tags": []
   },
   "outputs": [],
   "source": [
    "# # Check if the dataset already has been copy, if not, copy it\n",
    "# if not os.path.exists(\"/content/dataset\") or not os.path.exists(\"/content/dataset/Train\"):\n",
    "#   !mkdir /content/dataset\n",
    "#   !mkdir /content/dataset/Train\n",
    "#   !gsutil -m cp -r gs://cryptocrystalball_public/CryptoDataset/Hourly/significant_currencies.txt /content/dataset/significant_currencies.txt\n",
    "#   !gsutil -m cp -r gs://cryptocrystalball_public/CryptoDataset/Hourly/Train/* /content/dataset/Train/"
   ]
  },
  {
   "cell_type": "code",
   "execution_count": 30,
   "metadata": {
    "cellView": "form",
    "colab": {
     "base_uri": "https://localhost:8080/"
    },
    "id": "2sRVckzNtbZL",
    "outputId": "5cfd2c06-7823-40b3-eea8-2dbc3f51df57",
    "tags": []
   },
   "outputs": [],
   "source": [
    "# #@markdown ### Use only significant currencies\n",
    "# #@markdown Load a manually defined list of significant currencies (`significant_currencies.txt`).\n",
    "# #@markdown This list contains no currencies which little or no volume or price movement, to\n",
    "# #@markdown avoid training on data sample which would never be used to trade on in a real \n",
    "# #@markdown application.\n",
    "\n",
    "# #@markdown If enabled, only currency pairs with the base currency USDT are laoded,\n",
    "# #@markdown this is important to prevent interference between different cryptocurrencies.\n",
    "# #@markdown For example, in `BTC-ETH.csv`, there is influence of both the BTC and the ETH price, but we want to predict trade signals based on a 'real' currency (USDT is kind of the same as USD).\n",
    "\n",
    "# significant_only = True #@param {type:\"boolean\"}\n",
    "\n",
    "# if significant_only:\n",
    "#   with open(\"/content/dataset/significant_currencies.txt\") as f:\n",
    "#     SIGNIFICANT_CURRS = f.read().splitlines()\n",
    "\n",
    "#   print(f\"Loaded {len(SIGNIFICANT_CURRS)} significant files names.\")"
   ]
  },
  {
   "cell_type": "code",
   "execution_count": 31,
   "metadata": {
    "colab": {
     "base_uri": "https://localhost:8080/"
    },
    "id": "dlNAUwUTtdBE",
    "outputId": "3c614762-758a-444f-dc86-e86527a6c0ca",
    "tags": []
   },
   "outputs": [],
   "source": [
    "# # Get train file names - Only pick the ones ending with -USDT to prevent\n",
    "# # influence between different currencies\n",
    "# TRAIN_PATH = \"/content/dataset/Train\"\n",
    "\n",
    "# # Get all file names\n",
    "# TRAIN_FILES = [os.path.join(TRAIN_PATH,f) for f in listdir(TRAIN_PATH) if isfile(join(TRAIN_PATH, f)) and \".csv\" in f ]\n",
    "\n",
    "# # Filter for significant currencies only\n",
    "# if significant_only:\n",
    "#   TRAIN_FILES = [f for f in TRAIN_FILES if f.split(\"/\")[-1].replace(\".csv\",\"\") in SIGNIFICANT_CURRS]\n",
    "\n",
    "# # Filter for USDT-based ones only\n",
    "# TRAIN_FILES = [f for f in TRAIN_FILES if \"-USDT\" in f]\n",
    "\n",
    "# # Sort them (as a stable basis for randomizing afterwards)\n",
    "# TRAIN_FILES = sorted(TRAIN_FILES)\n",
    "\n",
    "# print(f\"The train dataset contains {len(TRAIN_FILES)} files.\")\n",
    "# print(TRAIN_FILES[:3])"
   ]
  },
  {
   "cell_type": "code",
   "execution_count": 32,
   "metadata": {
    "tags": []
   },
   "outputs": [
    {
     "name": "stdout",
     "output_type": "stream",
     "text": [
      "The train dataset contains 1064 files.\n",
      "['/content/dataset/etffancy/DE0002635265.csv', '/content/dataset/etffancy/DE0002635273.csv', '/content/dataset/etffancy/DE0002635281.csv']\n"
     ]
    }
   ],
   "source": [
    "# Get train file names - Only pick the ones ending with -USDT to prevent\n",
    "# influence between different currencies\n",
    "TRAIN_PATH = \"/content/dataset/etffancy\"\n",
    "\n",
    "# Get all file names\n",
    "TRAIN_FILES = [os.path.join(TRAIN_PATH,f) for f in listdir(TRAIN_PATH) if isfile(join(TRAIN_PATH, f)) and \".csv\" in f ]\n",
    "\n",
    "# Sort them (as a stable basis for randomizing afterwards)\n",
    "TRAIN_FILES = sorted(TRAIN_FILES)\n",
    "\n",
    "print(f\"The train dataset contains {len(TRAIN_FILES)} files.\")\n",
    "print(TRAIN_FILES[:3])"
   ]
  },
  {
   "cell_type": "markdown",
   "metadata": {
    "id": "J9cA0AKquwZ2"
   },
   "source": [
    "---\n",
    "# Prepare data source\n",
    "\n",
    "For training a neural network, first the data source has to be prepared. For this purpose, the method `FileListToDataStream` from the `DataStreamCreator` class is used. This method creates a stream of `X-Block` and `y-data` arrays out of a list of .csv file names, pointing to tick tables (called `EXAMPLE_FILE_PATHS` in this example). For details about `X-Blocks` and `y-data`, please refer to the documentation of the `XBlockGenerator` and the `YDataGenerator` under https://github.com/girsigit/CryptoCrystalBall/tree/main/DataStreamCreator.\n",
    "\n",
    "<br>\n",
    "\n",
    "Target values (y-data) from the data generator would not be necessary in this notebook, but since it cannot be switched off, the future direction and its derviation of the price have been chosen in `Y_TYPE_DICT` since they are not expensive to compute. A switch flag will be added in a future release."
   ]
  },
  {
   "cell_type": "code",
   "execution_count": 33,
   "metadata": {
    "colab": {
     "base_uri": "https://localhost:8080/"
    },
    "id": "pqze4dT8uz6V",
    "outputId": "985dae70-a5db-4972-bde2-b52e5b15c6b5",
    "tags": []
   },
   "outputs": [
    {
     "data": {
      "text/plain": [
       "{'dataType': 0,\n",
       " 'direction_ma_timespan': 200,\n",
       " 'derivation_ma_timespan': 100,\n",
       " 'direction_derivation_shift_span': 0}"
      ]
     },
     "execution_count": 33,
     "metadata": {},
     "output_type": "execute_result"
    }
   ],
   "source": [
    "# Set direction and derivation information as y target\n",
    "# Both y values (direction & derivation) are in the interval [-1.0,1.0]\n",
    "\n",
    "Y_TYPE_DICT = copy.deepcopy(DataStreamCreator.YDataGenerator.PARAM_DICT_TEMPLATE_Y_DATA_TYPE_DIRECTION_FLOAT)\n",
    "Y_TYPE_DICT"
   ]
  },
  {
   "cell_type": "code",
   "execution_count": 34,
   "metadata": {},
   "outputs": [],
   "source": [
    "TARGET_FEATURE_CNT = 256"
   ]
  },
  {
   "cell_type": "code",
   "execution_count": 35,
   "metadata": {},
   "outputs": [
    {
     "data": {
      "text/plain": [
       "(512, 64, 256)"
      ]
     },
     "execution_count": 35,
     "metadata": {},
     "output_type": "execute_result"
    }
   ],
   "source": [
    "XShape = (BATCH_SIZE, X_BLOCK_LENGHT, TARGET_FEATURE_CNT)\n",
    "XShape"
   ]
  },
  {
   "cell_type": "code",
   "execution_count": 36,
   "metadata": {
    "id": "S2e6q_2su26o",
    "tags": []
   },
   "outputs": [],
   "source": [
    "# A python generator function has to be applied on the dataStream\n",
    "\n",
    "def pythonGeneratorMLMTraining():\n",
    "  # Initialize the FileListToDataStream generator\n",
    "  dataStreamTraining = DataStreamCreator.FileListToDataStream(fileList = TRAIN_FILES,\n",
    "                                                      batch_size = BATCH_SIZE,\n",
    "                                                      X_Block_lenght = X_BLOCK_LENGHT,\n",
    "                                                      y_type_dict=Y_TYPE_DICT,\n",
    "                                                      shuffle=True,\n",
    "                                                      parallel_generators = np.min([BATCH_SIZE, 8]),\n",
    "                                                      random_seed = RANDOM_SEED,\n",
    "                                                      **DATA_STREAM_PARAMETERS\n",
    "                                                      )\n",
    "\n",
    "  # This while has to integrated into the FileListToDataStream method\n",
    "  while True:  \n",
    "    try:\n",
    "      ne = next(dataStreamTraining)\n",
    "      _X = ne['X']\n",
    "      _y = ne['y']\n",
    "    \n",
    "      # Recreate the y values\n",
    "      _y = np.arctanh(_y)\n",
    "    \n",
    "      # There may be inf or nan values due to the tanh-->acrtanh, remove them\n",
    "      np.nan_to_num(_y, copy=False, nan=0.0, posinf=0.0, neginf=0.0)\n",
    "    \n",
    "      # 'Blow up' the X array to a 2**n size\n",
    "      _X_new = np.zeros((_X.shape[0], _X.shape[1], TARGET_FEATURE_CNT))\n",
    "      _X_new[:,:,:_X.shape[2]] = _X\n",
    "\n",
    "      yield (_X_new, _y)\n",
    "    except StopIteration as si:\n",
    "      logging.warning(\"StopIteration in pythonGenerator\")\n",
    "      logging.warning(si)\n",
    "      return"
   ]
  },
  {
   "cell_type": "code",
   "execution_count": 37,
   "metadata": {
    "colab": {
     "base_uri": "https://localhost:8080/"
    },
    "id": "FoTRNHyEvnyg",
    "outputId": "d7fb1944-9236-47c2-c749-8a999e6fe3e3",
    "tags": []
   },
   "outputs": [
    {
     "name": "stderr",
     "output_type": "stream",
     "text": [
      "2023-03-14 07:52:17.900776: I tensorflow/stream_executor/cuda/cuda_gpu_executor.cc:980] successful NUMA node read from SysFS had negative value (-1), but there must be at least one NUMA node, so returning NUMA node zero\n",
      "2023-03-14 07:52:17.932334: I tensorflow/stream_executor/cuda/cuda_gpu_executor.cc:980] successful NUMA node read from SysFS had negative value (-1), but there must be at least one NUMA node, so returning NUMA node zero\n",
      "2023-03-14 07:52:17.932514: I tensorflow/stream_executor/cuda/cuda_gpu_executor.cc:980] successful NUMA node read from SysFS had negative value (-1), but there must be at least one NUMA node, so returning NUMA node zero\n",
      "2023-03-14 07:52:17.933006: I tensorflow/core/platform/cpu_feature_guard.cc:193] This TensorFlow binary is optimized with oneAPI Deep Neural Network Library (oneDNN) to use the following CPU instructions in performance-critical operations:  AVX2 FMA\n",
      "To enable them in other operations, rebuild TensorFlow with the appropriate compiler flags.\n",
      "2023-03-14 07:52:17.933648: I tensorflow/stream_executor/cuda/cuda_gpu_executor.cc:980] successful NUMA node read from SysFS had negative value (-1), but there must be at least one NUMA node, so returning NUMA node zero\n",
      "2023-03-14 07:52:17.933800: I tensorflow/stream_executor/cuda/cuda_gpu_executor.cc:980] successful NUMA node read from SysFS had negative value (-1), but there must be at least one NUMA node, so returning NUMA node zero\n",
      "2023-03-14 07:52:17.933935: I tensorflow/stream_executor/cuda/cuda_gpu_executor.cc:980] successful NUMA node read from SysFS had negative value (-1), but there must be at least one NUMA node, so returning NUMA node zero\n",
      "2023-03-14 07:52:18.374344: I tensorflow/stream_executor/cuda/cuda_gpu_executor.cc:980] successful NUMA node read from SysFS had negative value (-1), but there must be at least one NUMA node, so returning NUMA node zero\n",
      "2023-03-14 07:52:18.374539: I tensorflow/stream_executor/cuda/cuda_gpu_executor.cc:980] successful NUMA node read from SysFS had negative value (-1), but there must be at least one NUMA node, so returning NUMA node zero\n",
      "2023-03-14 07:52:18.374685: I tensorflow/stream_executor/cuda/cuda_gpu_executor.cc:980] successful NUMA node read from SysFS had negative value (-1), but there must be at least one NUMA node, so returning NUMA node zero\n",
      "2023-03-14 07:52:18.374799: I tensorflow/core/common_runtime/gpu/gpu_device.cc:1616] Created device /job:localhost/replica:0/task:0/device:GPU:0 with 7386 MB memory:  -> device: 0, name: NVIDIA GeForce GTX 1070, pci bus id: 0000:01:00.0, compute capability: 6.1\n"
     ]
    },
    {
     "data": {
      "text/plain": [
       "<FlatMapDataset element_spec=(TensorSpec(shape=(512, 64, 256), dtype=tf.int32, name=None), TensorSpec(shape=(512, 2), dtype=tf.float32, name=None))>"
      ]
     },
     "execution_count": 37,
     "metadata": {},
     "output_type": "execute_result"
    }
   ],
   "source": [
    "# Create a Tensorflow dataset out of the python generator, which can be fed to the network\n",
    "tfGenTraining = tf.data.Dataset.from_generator(pythonGeneratorMLMTraining, \n",
    "                                               output_types = (tf.int32, tf.float32),\n",
    "                                               output_shapes=(\n",
    "                                                   (BATCH_SIZE, X_BLOCK_LENGHT, TARGET_FEATURE_CNT),\n",
    "                                                   (BATCH_SIZE, 2)\n",
    "                                                   )\n",
    "                                               )\n",
    "tfGenTraining.prefetch(buffer_size=2)\n",
    "tfGenTraining"
   ]
  },
  {
   "cell_type": "markdown",
   "metadata": {
    "id": "moBea0tTbFbX"
   },
   "source": [
    "---\n",
    "# Create the neural network\n",
    "\n",
    "In the example, two Conv1D pyramids are used to extract features at different levels out of the feature and the time dimension.\n",
    "\n",
    "It is also possible to use different architecures, like LSTM, Conv2D, Attention-Based ones or even NLP-based models. I have already tried many different ones and will publish them into the model zoo.\n",
    "\n",
    "```\n",
    "Todo: Create Model Zoo\n",
    "```\n",
    "\n",
    "```\n",
    "Todo: Create Image of netwrok structure\n",
    "```"
   ]
  },
  {
   "cell_type": "code",
   "execution_count": 38,
   "metadata": {
    "tags": []
   },
   "outputs": [],
   "source": [
    "# from keras.layers import Input, Dense, ReLU, Add, Flatten, Concatenate, LayerNormalization, UpSampling2D, Activation, LSTM, Multiply, Dropout, Reshape, Permute, BatchNormalization, MaxPooling1D, AveragePooling1D, MaxPooling3D, AveragePooling2D, LayerNormalization, MaxPooling2D, UnitNormalization, UpSampling1D\n",
    "from keras.layers import UnitNormalization, Permute, Conv1D, UpSampling1D, Add, LSTM, Concatenate, Multiply, Activation, Attention"
   ]
  },
  {
   "cell_type": "code",
   "execution_count": 39,
   "metadata": {
    "tags": []
   },
   "outputs": [
    {
     "name": "stdout",
     "output_type": "stream",
     "text": [
      "256\n",
      "Step 0, using 64 filters with a kernel size of 2 at strides of 2\n",
      "attention_map.shape: (None, 128, 64)\n",
      "feature_conv_attentioned.shape: (None, 128, 64)\n",
      "Step 1, using 128 filters with a kernel size of 4 at strides of 2\n",
      "attention_map.shape: (None, 64, 128)\n",
      "feature_conv_attentioned.shape: (None, 64, 128)\n",
      "Step 2, using 256 filters with a kernel size of 8 at strides of 2\n",
      "attention_map.shape: (None, 32, 256)\n",
      "feature_conv_attentioned.shape: (None, 32, 256)\n",
      "Step 3, using 512 filters with a kernel size of 8 at strides of 2\n",
      "attention_map.shape: (None, 16, 512)\n",
      "feature_conv_attentioned.shape: (None, 16, 512)\n",
      "Step 4, using 1024 filters with a kernel size of 8 at strides of 2\n",
      "attention_map.shape: (None, 8, 1024)\n",
      "feature_conv_attentioned.shape: (None, 8, 1024)\n",
      "Step 5, using 2048 filters with a kernel size of 8 at strides of 2\n",
      "attention_map.shape: (None, 4, 2048)\n",
      "feature_conv_attentioned.shape: (None, 4, 2048)\n",
      "Building feature_map_layers, step 5. Shape of aligned_layer: (None, 4, 256)\n",
      "Building feature_map_layers, step 4. Shape of aligned_layer: (None, 8, 256)\n",
      "Building feature_map_layers, step 3. Shape of aligned_layer: (None, 16, 256)\n",
      "Building feature_map_layers, step 2. Shape of aligned_layer: (None, 32, 256)\n",
      "{'NAME': 'FPNWithAttention', 'VERSION': '2_ETF_Trained', 'CNN_INITIAL_FILTERS': 64, 'CNN_EXTRACTOR_LAYERS': 6, 'CNN_INITIAL_KERNEL_SIZE': 2, 'CNN_MAX_KERNEL_SIZE': 8, 'FEATURE_PYRAMID_START_INDEX': 2, 'HEAD_LSTM_SIZE': 32, 'HEAD_DENSE_SIZE': 16}\n",
      "Model: \"FPNWithAttention_2_ETF_Trained\"\n",
      "____________________________________________________________________________________________________________________________________________________________________________________________________________________________\n",
      " Layer (type)                                                           Output Shape                                     Param #                   Connected to                                                             \n",
      "============================================================================================================================================================================================================================\n",
      " inputTicksAndIndicators (InputLayer)                                   [(None, 64, 256)]                                0                         []                                                                       \n",
      "                                                                                                                                                                                                                            \n",
      " UnitNormalizationInput (UnitNormalization)                             (None, 64, 256)                                  0                         ['inputTicksAndIndicators[0][0]']                                        \n",
      "                                                                                                                                                                                                                            \n",
      " PermuteInput (Permute)                                                 (None, 256, 64)                                  0                         ['UnitNormalizationInput[0][0]']                                         \n",
      "                                                                                                                                                                                                                            \n",
      " Feature_Conv1D_0 (Conv1D)                                              (None, 128, 64)                                  8256                      ['PermuteInput[0][0]']                                                   \n",
      "                                                                                                                                                                                                                            \n",
      " Feature_Conv1D_1 (Conv1D)                                              (None, 64, 128)                                  32896                     ['Feature_Conv1D_0[0][0]']                                               \n",
      "                                                                                                                                                                                                                            \n",
      " Feature_Conv1D_2 (Conv1D)                                              (None, 32, 256)                                  262400                    ['Feature_Conv1D_1[0][0]']                                               \n",
      "                                                                                                                                                                                                                            \n",
      " Feature_Conv1D_3 (Conv1D)                                              (None, 16, 512)                                  1049088                   ['Feature_Conv1D_2[0][0]']                                               \n",
      "                                                                                                                                                                                                                            \n",
      " Feature_Conv1D_4 (Conv1D)                                              (None, 8, 1024)                                  4195328                   ['Feature_Conv1D_3[0][0]']                                               \n",
      "                                                                                                                                                                                                                            \n",
      " Feature_Conv1D_5 (Conv1D)                                              (None, 4, 2048)                                  16779264                  ['Feature_Conv1D_4[0][0]']                                               \n",
      "                                                                                                                                                                                                                            \n",
      " Attention_Layer_5 (Attention)                                          (None, 4, 2048)                                  0                         ['Feature_Conv1D_5[0][0]',                                               \n",
      "                                                                                                                                                    'Feature_Conv1D_5[0][0]']                                               \n",
      "                                                                                                                                                                                                                            \n",
      " Multiply_Apply_Attention_5 (Multiply)                                  (None, 4, 2048)                                  0                         ['Feature_Conv1D_5[0][0]',                                               \n",
      "                                                                                                                                                    'Attention_Layer_5[0][0]']                                              \n",
      "                                                                                                                                                                                                                            \n",
      " Attention_Layer_4 (Attention)                                          (None, 8, 1024)                                  0                         ['Feature_Conv1D_4[0][0]',                                               \n",
      "                                                                                                                                                    'Feature_Conv1D_4[0][0]']                                               \n",
      "                                                                                                                                                                                                                            \n",
      " Channel_Depth_Alignment_5 (Conv1D)                                     (None, 4, 256)                                   524544                    ['Multiply_Apply_Attention_5[0][0]']                                     \n",
      "                                                                                                                                                                                                                            \n",
      " Multiply_Apply_Attention_4 (Multiply)                                  (None, 8, 1024)                                  0                         ['Feature_Conv1D_4[0][0]',                                               \n",
      "                                                                                                                                                    'Attention_Layer_4[0][0]']                                              \n",
      "                                                                                                                                                                                                                            \n",
      " Pyramid_Upsampling_4 (UpSampling1D)                                    (None, 8, 256)                                   0                         ['Channel_Depth_Alignment_5[0][0]']                                      \n",
      "                                                                                                                                                                                                                            \n",
      " Channel_Depth_Alignment_4 (Conv1D)                                     (None, 8, 256)                                   262400                    ['Multiply_Apply_Attention_4[0][0]']                                     \n",
      "                                                                                                                                                                                                                            \n",
      " Attention_Layer_3 (Attention)                                          (None, 16, 512)                                  0                         ['Feature_Conv1D_3[0][0]',                                               \n",
      "                                                                                                                                                    'Feature_Conv1D_3[0][0]']                                               \n",
      "                                                                                                                                                                                                                            \n",
      " Pyramid_Add_4 (Add)                                                    (None, 8, 256)                                   0                         ['Pyramid_Upsampling_4[0][0]',                                           \n",
      "                                                                                                                                                    'Channel_Depth_Alignment_4[0][0]']                                      \n",
      "                                                                                                                                                                                                                            \n",
      " Multiply_Apply_Attention_3 (Multiply)                                  (None, 16, 512)                                  0                         ['Feature_Conv1D_3[0][0]',                                               \n",
      "                                                                                                                                                    'Attention_Layer_3[0][0]']                                              \n",
      "                                                                                                                                                                                                                            \n",
      " Pyramid_Upsampling_3 (UpSampling1D)                                    (None, 16, 256)                                  0                         ['Pyramid_Add_4[0][0]']                                                  \n",
      "                                                                                                                                                                                                                            \n",
      " Channel_Depth_Alignment_3 (Conv1D)                                     (None, 16, 256)                                  131328                    ['Multiply_Apply_Attention_3[0][0]']                                     \n",
      "                                                                                                                                                                                                                            \n",
      " Pyramid_Add_3 (Add)                                                    (None, 16, 256)                                  0                         ['Pyramid_Upsampling_3[0][0]',                                           \n",
      "                                                                                                                                                    'Channel_Depth_Alignment_3[0][0]']                                      \n",
      "                                                                                                                                                                                                                            \n",
      " Attention_Layer_2 (Attention)                                          (None, 32, 256)                                  0                         ['Feature_Conv1D_2[0][0]',                                               \n",
      "                                                                                                                                                    'Feature_Conv1D_2[0][0]']                                               \n",
      "                                                                                                                                                                                                                            \n",
      " Pyramid_Upsampling_2 (UpSampling1D)                                    (None, 32, 256)                                  0                         ['Pyramid_Add_3[0][0]']                                                  \n",
      "                                                                                                                                                                                                                            \n",
      " Multiply_Apply_Attention_2 (Multiply)                                  (None, 32, 256)                                  0                         ['Feature_Conv1D_2[0][0]',                                               \n",
      "                                                                                                                                                    'Attention_Layer_2[0][0]']                                              \n",
      "                                                                                                                                                                                                                            \n",
      " Pyramid_Add_2 (Add)                                                    (None, 32, 256)                                  0                         ['Pyramid_Upsampling_2[0][0]',                                           \n",
      "                                                                                                                                                    'Multiply_Apply_Attention_2[0][0]']                                     \n",
      "                                                                                                                                                                                                                            \n",
      " Anti_Alias_4 (Conv1D)                                                  (None, 8, 256)                                   196864                    ['Pyramid_Add_4[0][0]']                                                  \n",
      "                                                                                                                                                                                                                            \n",
      " Anti_Alias_3 (Conv1D)                                                  (None, 16, 256)                                  196864                    ['Pyramid_Add_3[0][0]']                                                  \n",
      "                                                                                                                                                                                                                            \n",
      " Anti_Alias_2 (Conv1D)                                                  (None, 32, 256)                                  196864                    ['Pyramid_Add_2[0][0]']                                                  \n",
      "                                                                                                                                                                                                                            \n",
      " PermutePredictorInput_5 (Permute)                                      (None, 256, 4)                                   0                         ['Channel_Depth_Alignment_5[0][0]']                                      \n",
      "                                                                                                                                                                                                                            \n",
      " PermutePredictorInput_4 (Permute)                                      (None, 256, 8)                                   0                         ['Anti_Alias_4[0][0]']                                                   \n",
      "                                                                                                                                                                                                                            \n",
      " PermutePredictorInput_3 (Permute)                                      (None, 256, 16)                                  0                         ['Anti_Alias_3[0][0]']                                                   \n",
      "                                                                                                                                                                                                                            \n",
      " PermutePredictorInput_2 (Permute)                                      (None, 256, 32)                                  0                         ['Anti_Alias_2[0][0]']                                                   \n",
      "                                                                                                                                                                                                                            \n",
      " Predictor_Head_5_LSTM (LSTM)                                           (None, 32)                                       4736                      ['PermutePredictorInput_5[0][0]']                                        \n",
      "                                                                                                                                                                                                                            \n",
      " Predictor_Head_4_LSTM (LSTM)                                           (None, 32)                                       5248                      ['PermutePredictorInput_4[0][0]']                                        \n",
      "                                                                                                                                                                                                                            \n",
      " Predictor_Head_3_LSTM (LSTM)                                           (None, 32)                                       6272                      ['PermutePredictorInput_3[0][0]']                                        \n",
      "                                                                                                                                                                                                                            \n",
      " Predictor_Head_2_LSTM (LSTM)                                           (None, 32)                                       8320                      ['PermutePredictorInput_2[0][0]']                                        \n",
      "                                                                                                                                                                                                                            \n",
      " Predictor_Head_5_Dense_Regressor (Dense)                               (None, 16)                                       528                       ['Predictor_Head_5_LSTM[0][0]']                                          \n",
      "                                                                                                                                                                                                                            \n",
      " Predictor_Head_4_Dense_Regressor (Dense)                               (None, 16)                                       528                       ['Predictor_Head_4_LSTM[0][0]']                                          \n",
      "                                                                                                                                                                                                                            \n",
      " Predictor_Head_3_Dense_Regressor (Dense)                               (None, 16)                                       528                       ['Predictor_Head_3_LSTM[0][0]']                                          \n",
      "                                                                                                                                                                                                                            \n",
      " Predictor_Head_2_Dense_Regressor (Dense)                               (None, 16)                                       528                       ['Predictor_Head_2_LSTM[0][0]']                                          \n",
      "                                                                                                                                                                                                                            \n",
      " Concatenate_regressors (Concatenate)                                   (None, 64)                                       0                         ['Predictor_Head_5_Dense_Regressor[0][0]',                               \n",
      "                                                                                                                                                    'Predictor_Head_4_Dense_Regressor[0][0]',                               \n",
      "                                                                                                                                                    'Predictor_Head_3_Dense_Regressor[0][0]',                               \n",
      "                                                                                                                                                    'Predictor_Head_2_Dense_Regressor[0][0]']                               \n",
      "                                                                                                                                                                                                                            \n",
      " Combined_Regressor_1 (Dense)                                           (None, 64)                                       4160                      ['Concatenate_regressors[0][0]']                                         \n",
      "                                                                                                                                                                                                                            \n",
      " Combined_Regressor_2 (Dense)                                           (None, 64)                                       4160                      ['Combined_Regressor_1[0][0]']                                           \n",
      "                                                                                                                                                                                                                            \n",
      " Output (Dense)                                                         (None, 2)                                        130                       ['Combined_Regressor_2[0][0]']                                           \n",
      "                                                                                                                                                                                                                            \n",
      "============================================================================================================================================================================================================================\n",
      "Total params: 23,871,234\n",
      "Trainable params: 23,871,234\n",
      "Non-trainable params: 0\n",
      "____________________________________________________________________________________________________________________________________________________________________________________________________________________________\n"
     ]
    }
   ],
   "source": [
    "# Create the FPNWithFScaledInput model\n",
    "# Infos about the feature pyramid: https://jonathan-hui.medium.com/understanding-feature-pyramid-networks-for-object-detection-fpn-45b227b9106c\n",
    "\n",
    "def CreateModelFPNWithAttention():\n",
    "  # Define model parameters\n",
    "  mp = {\n",
    "      \"NAME\": \"FPNWithAttention\",\n",
    "      \"VERSION\": \"2_ETF_Trained\",\n",
    "      \"CNN_INITIAL_FILTERS\": 64, \n",
    "      \"CNN_EXTRACTOR_LAYERS\": 6,\n",
    "      \"CNN_INITIAL_KERNEL_SIZE\": 2,\n",
    "      \"CNN_MAX_KERNEL_SIZE\": 8,\n",
    "      \"FEATURE_PYRAMID_START_INDEX\": 2,\n",
    "      \"HEAD_LSTM_SIZE\": 32,\n",
    "      \"HEAD_DENSE_SIZE\": 16\n",
    "      }\n",
    "  \n",
    "  # Create the model input  \n",
    "  inputTicksAndIndicators = Input(shape=(X_BLOCK_LENGHT, TARGET_FEATURE_CNT), name='inputTicksAndIndicators', dtype='float32')\n",
    "\n",
    "  # Normalize the input data, as it has a wide value spread (range of 1e8)\n",
    "  normalized = UnitNormalization(name=\"UnitNormalizationInput\", axis=-2)(inputTicksAndIndicators)\n",
    "\n",
    "  # Permute it to Conv over Features\n",
    "  normalized = Permute((2, 1), name=\"PermuteInput\")(normalized)\n",
    "\n",
    "  # ----------------------------------------------------------------------------\n",
    "\n",
    "  # As an example a 1D-CNN pyramid is used to extract higher-level features out\n",
    "  # of the indicator+tick dimension\n",
    "  conv_layers = []\n",
    "  aligned_layers = []\n",
    "  feature_map_layers = []\n",
    "  anti_aliased_layers = []\n",
    "  anti_aliased_pyramid_indices = []\n",
    "  regressor_layers = []\n",
    "\n",
    "  finalFilters = mp[\"CNN_INITIAL_FILTERS\"] * 2**(mp[\"FEATURE_PYRAMID_START_INDEX\"])\n",
    "  print(finalFilters) \n",
    "\n",
    "  for i in range(mp[\"CNN_EXTRACTOR_LAYERS\"]):\n",
    "    if 0 == i:\n",
    "      source_layer = normalized\n",
    "    else:\n",
    "      source_layer = feature_conv\n",
    "    \n",
    "    filters = int(mp[\"CNN_INITIAL_FILTERS\"]*(2**i))\n",
    "    kernel_size = mp[\"CNN_INITIAL_KERNEL_SIZE\"]*(2**i)\n",
    "    kernel_size = int(np.min([mp[\"CNN_MAX_KERNEL_SIZE\"], kernel_size]))\n",
    "    strides = int(np.min([2,kernel_size]))\n",
    "\n",
    "    print(f\"Step {i}, using {filters} filters with a kernel size of {kernel_size} at strides of {strides}\")\n",
    "\n",
    "    # Create the feature extraction convolution\n",
    "    feature_conv = Conv1D(filters=filters,\n",
    "                          kernel_size=kernel_size,\n",
    "                          strides=strides, \n",
    "                          padding=\"same\",\n",
    "                          name=f\"Feature_Conv1D_{i}\")(source_layer)\n",
    "\n",
    "    # # Calculate the attention filters\n",
    "    # attention_f = Conv1D(filters=1,\n",
    "    #                      kernel_size=1,\n",
    "    #                      strides=1, \n",
    "    #                      padding=\"same\",\n",
    "    #                      name=f\"Attention_f_Conv1D_{i}\")(feature_conv)\n",
    "  \n",
    "    # attention_g = Conv1D(filters=1,\n",
    "    #                      kernel_size=1,\n",
    "    #                      strides=1, \n",
    "    #                      padding=\"same\",\n",
    "    #                      name=f\"Attention_g_Conv1D_{i}\")(feature_conv)\n",
    "   \n",
    "    # attention_h = Conv1D(filters=1,\n",
    "    #                      kernel_size=1,\n",
    "    #                      strides=1, \n",
    "    #                      padding=\"same\",\n",
    "    #                      name=f\"Attention_h_Conv1D_{i}\")(feature_conv)\n",
    "\n",
    "    # attention_map = Attention(name=f\"Attention_Layer_{i}\")([attention_f,attention_g,attention_h])\n",
    "    attention_map = Attention(name=f\"Attention_Layer_{i}\")([feature_conv,feature_conv])\n",
    "    print(f\"attention_map.shape: {attention_map.shape}\")\n",
    "\n",
    "    feature_conv_attentioned = Multiply(name=f\"Multiply_Apply_Attention_{i}\")([feature_conv, attention_map])\n",
    "    print(f\"feature_conv_attentioned.shape: {feature_conv_attentioned.shape}\")\n",
    "    \n",
    "    # feature_conv_attentioned = Conv1D(filters=filters,\n",
    "    #                                   kernel_size=1,\n",
    "    #                                   strides=1, \n",
    "    #                                   padding=\"same\",\n",
    "    #                                   name=f\"Feature_Conv1D_Attentioned_Filterextend{i}\")(feature_conv_attentioned)\n",
    "    # print(f\"feature_conv_attentioned.shape: {feature_conv_attentioned.shape}\")\n",
    "\n",
    "    conv_layers.append(feature_conv_attentioned)\n",
    "\n",
    "    # Apply the feature extraction pyramid\n",
    "    if mp[\"FEATURE_PYRAMID_START_INDEX\"] <= i:\n",
    "      # Apply a 1x1 convolution to align the channel depth    \n",
    "      if feature_conv_attentioned.shape[-1] != finalFilters:\n",
    "        aligned_layer = Conv1D(filters=finalFilters,\n",
    "                              kernel_size=1,\n",
    "                              strides=1,\n",
    "                              padding=\"same\",\n",
    "                              name=f\"Channel_Depth_Alignment_{i}\")(feature_conv_attentioned)\n",
    "      else:\n",
    "        aligned_layer = feature_conv_attentioned\n",
    "      \n",
    "      aligned_layers.append(aligned_layer)\n",
    "\n",
    "  # Go top-down through the aligned_layers to create the feature_map_layers\n",
    "  for i in range(mp[\"CNN_EXTRACTOR_LAYERS\"]-1, mp[\"FEATURE_PYRAMID_START_INDEX\"]-1, -1):\n",
    "    aligned_layers_index = i - mp[\"FEATURE_PYRAMID_START_INDEX\"]\n",
    "    aligned_layer = aligned_layers[aligned_layers_index]\n",
    "\n",
    "    print(f\"Building feature_map_layers, step {i}. Shape of aligned_layer: {aligned_layer.shape}\")\n",
    "\n",
    "    # The highest-filtered layer is taken as feature map directly\n",
    "    if i == mp[\"CNN_EXTRACTOR_LAYERS\"]-1:\n",
    "      feature_map_layers.append(aligned_layer)\n",
    "      anti_aliased_layers.append(feature_map_layers[-1])\n",
    "    else:\n",
    "      # Take the last feature_map_layer and scale it by two\n",
    "      upsampled = UpSampling1D(size=2,\n",
    "                               name=f\"Pyramid_Upsampling_{i}\")(feature_map_layers[-1])\n",
    "\n",
    "      # Add the aligned_layer\n",
    "      added = Add(name=f\"Pyramid_Add_{i}\")([upsampled, aligned_layer])\n",
    "\n",
    "      # Append as new feature_map_layer\n",
    "      feature_map_layers.append(added)\n",
    "\n",
    "      # Apply a convolution with a kernel size of 3 to \"reduce the aliasing effect\"\n",
    "      anti_aliased_layer = Conv1D(filters=feature_map_layers[-1].shape[-1],\n",
    "                                  kernel_size=3,\n",
    "                                  strides=1,\n",
    "                                  padding=\"same\",\n",
    "                                  name=f\"Anti_Alias_{i}\")(feature_map_layers[-1])\n",
    "\n",
    "      anti_aliased_layers.append(anti_aliased_layer)\n",
    "\n",
    "    # Helper storage to keep pyramid index consistent, also in predictor/regressor\n",
    "    anti_aliased_pyramid_indices.append(i)\n",
    "\n",
    "  # Apply the predictor head to each feature dimension layer\n",
    "  for n in range(len(anti_aliased_layers)):\n",
    "    predictor_input = anti_aliased_layers[n]\n",
    "\n",
    "    # Get the pyramid index\n",
    "    pyramid_index = anti_aliased_pyramid_indices[n]\n",
    "\n",
    "    # Permute the Conv output back\n",
    "    predictor_input = Permute((2, 1), name=f\"PermutePredictorInput_{pyramid_index}\")(predictor_input)\n",
    "\n",
    "    predictor = LSTM(units=mp[\"HEAD_LSTM_SIZE\"],\n",
    "                     name=f\"Predictor_Head_{pyramid_index}_LSTM\")(predictor_input)\n",
    "    \n",
    "    # Direction and derivation regressor\n",
    "    regressor = Dense(units=mp[\"HEAD_DENSE_SIZE\"],\n",
    "                      name=f\"Predictor_Head_{pyramid_index}_Dense_Regressor\",\n",
    "                      activation='relu')(predictor)\n",
    "    \n",
    "    regressor_layers.append(regressor)\n",
    "  \n",
    "  # Add all regressors together\n",
    "  regressor_conced = Concatenate(name=\"Concatenate_regressors\")(regressor_layers)\n",
    "  regressor_conced = Dense(regressor_conced.shape[1], name=\"Combined_Regressor_1\")(regressor_conced)\n",
    "  regressor_conced = Dense(regressor_conced.shape[1], name=\"Combined_Regressor_2\")(regressor_conced)\n",
    "\n",
    "  # The output are two values (direction and derivation) in the range [-1.0, 1.0]\n",
    "  output = Dense(2, name=\"Output\")(regressor_conced)\n",
    "  outputs = [output]\n",
    "\n",
    "  # Combine it all into a model object\n",
    "  model = Model(inputs=inputTicksAndIndicators, outputs=outputs, name=mp[\"NAME\"] + \"_\" + str(mp[\"VERSION\"]))\n",
    "\n",
    "  return model, mp\n",
    "\n",
    "model, model_config = CreateModelFPNWithAttention()\n",
    "print(model_config)\n",
    "model.summary(line_length=220)"
   ]
  },
  {
   "cell_type": "code",
   "execution_count": 40,
   "metadata": {
    "tags": []
   },
   "outputs": [],
   "source": [
    "# model.load_weights(\"/content/bigdata/chk/FPNWithFScaledInput_3_GPU_64LB/cp_daily_valid_202_end/model.h5\")"
   ]
  },
  {
   "cell_type": "code",
   "execution_count": 41,
   "metadata": {
    "tags": []
   },
   "outputs": [],
   "source": [
    "# model.get_layer(\"CryptoRoberta\").set_weights(modelMLM.get_layer(\"tf_roberta_model\").get_weights())"
   ]
  },
  {
   "cell_type": "code",
   "execution_count": 42,
   "metadata": {
    "tags": []
   },
   "outputs": [],
   "source": [
    "# model.get_layer(\"CryptoRoberta\").trainable=False"
   ]
  },
  {
   "cell_type": "code",
   "execution_count": 43,
   "metadata": {
    "tags": []
   },
   "outputs": [],
   "source": [
    "# model.summary()"
   ]
  },
  {
   "cell_type": "code",
   "execution_count": 44,
   "metadata": {
    "tags": []
   },
   "outputs": [],
   "source": [
    "# model.save(\"/content/bigdata/RobertaToDirDerv_1_init.h5\")"
   ]
  },
  {
   "cell_type": "code",
   "execution_count": 45,
   "metadata": {},
   "outputs": [],
   "source": [
    "# model.load_weights(\"/content/bigdata/RobertaToDirDerv_1_init.h5\")\n",
    "model.load_weights(\"/content/bigdata/chk/FPNWithAttention_1_ETF_Trained_GPU_64LB/cp_daily_valid_182_end/model.h5\")"
   ]
  },
  {
   "cell_type": "markdown",
   "metadata": {
    "id": "kXE8AjjoEWE4"
   },
   "source": [
    "# Train the model"
   ]
  },
  {
   "cell_type": "markdown",
   "metadata": {
    "id": "QfwL7EWInGWB"
   },
   "source": [
    "### Train strategy in the paper\n",
    "https://huggingface.co/roberta-base\n",
    "\n",
    "The model was trained on 1024 V100 GPUs for 500K steps with a batch size of 8K and a sequence length of 512. The optimizer used is Adam with a learning rate of 6e-4, β1=0.9\\beta_{1} = 0.9β1​=0.9, β2=0.98\\beta_{2} = 0.98β2​=0.98 and ϵ=1e−6\\epsilon = 1e-6ϵ=1e−6, a weight decay of 0.01, learning rate warmup for 24,000 steps and linear decay of the learning rate after."
   ]
  },
  {
   "cell_type": "code",
   "execution_count": 46,
   "metadata": {
    "colab": {
     "base_uri": "https://localhost:8080/",
     "height": 35
    },
    "id": "_jkOrQ01hZnE",
    "outputId": "afe655bf-d35c-4f71-ced0-d225a2ff6155"
   },
   "outputs": [
    {
     "data": {
      "text/plain": [
       "'FPNWithAttention_2_ETF_Trained_GPU_64LB'"
      ]
     },
     "execution_count": 46,
     "metadata": {},
     "output_type": "execute_result"
    }
   ],
   "source": [
    "CHKPNT_NAME = f\"{model.name}_GPU_{X_BLOCK_LENGHT}LB\"\n",
    "CHKPNT_NAME"
   ]
  },
  {
   "cell_type": "code",
   "execution_count": 47,
   "metadata": {
    "id": "g0VmovApkwAB"
   },
   "outputs": [],
   "source": [
    "# Set an optimizer\n",
    "optimizer = Adam(\n",
    "    learning_rate=1e-04,\n",
    "    epsilon=1e-06,\n",
    "    beta_1=0.9,\n",
    "    beta_2=0.98,\n",
    "    decay=0.01)"
   ]
  },
  {
   "cell_type": "code",
   "execution_count": 48,
   "metadata": {
    "id": "AOLSygN7Ut7_"
   },
   "outputs": [],
   "source": [
    "# Compile the model\n",
    "model.compile(\n",
    "    optimizer = optimizer,\n",
    "    loss = [\"mse\"], \n",
    "    metrics=[\"mae\"])"
   ]
  },
  {
   "cell_type": "code",
   "execution_count": 49,
   "metadata": {
    "colab": {
     "base_uri": "https://localhost:8080/"
    },
    "id": "TFa0iWcaqli5",
    "outputId": "0ec595c6-7c5c-4723-8a2c-64d0d7a07f08"
   },
   "outputs": [],
   "source": [
    "# model.summary(line_length=220)"
   ]
  },
  {
   "cell_type": "code",
   "execution_count": 50,
   "metadata": {},
   "outputs": [],
   "source": [
    "#@title CustomCallback\n",
    "class CustomCallback(tf.keras.callbacks.Callback):\n",
    "  def __init__(self, save_freq, val_freq, checkpoint_path, model_name, epoch_add=0):\n",
    "    self.save_freq = save_freq\n",
    "    self.val_freq = val_freq\n",
    "    self.checkpoint_path = checkpoint_path\n",
    "    self.model_name = model_name\n",
    "    self.current_epoch = 0\n",
    "    self.epoch_add = epoch_add\n",
    "\n",
    "  def on_epoch_begin(self, epoch, logs=None):\n",
    "    self.current_epoch = epoch + self.epoch_add\n",
    "    # keys = list(logs.keys())\n",
    "    # print(\"Start epoch {} of training; got log keys: {}\".format(epoch, keys))\n",
    "\n",
    "  def on_epoch_end(self, epoch, logs=None):\n",
    "    self.saveTheModel(-1, logs)\n",
    "\n",
    "  def on_train_batch_end(self, batch, logs=None):\n",
    "    self.saveTheModel(batch, logs)\n",
    "\n",
    "  def saveTheModel(self, batch, logs=None):\n",
    "    if (0 < batch and 0 == batch % self.save_freq) or (0 > batch):\n",
    "      logging.info(str(datetime.datetime.utcnow()))\n",
    "    \n",
    "      if 0 > batch:\n",
    "        _save_folder = os.path.join(self.checkpoint_path,\n",
    "                                    self.model_name,\n",
    "                                    \"cp_daily_valid_{:02d}_end\".format(self.current_epoch)\n",
    "                                    )\n",
    "      else:\n",
    "        _save_folder = os.path.join(self.checkpoint_path,\n",
    "                                    self.model_name,\n",
    "                                    \"cp_daily_valid_{:02d}_{:05d}\".format(self.current_epoch, batch)\n",
    "                                    )\n",
    "      \n",
    "      fp = os.path.join(_save_folder, \"model.h5\")\n",
    "      model.save(fp)\n",
    "      logging.info(f\"Saved model to '{fp}'\")\n",
    "      \n",
    "      # Save optimizer config\n",
    "      # c = copy.deepcopy(self.model.optimizer.get_config())\n",
    "\n",
    "      fp = os.path.join(_save_folder, \"c.pickle\")\n",
    "      with file_io.FileIO(fp, mode='wb+') as handle:\n",
    "        pickle.dump(self.model.optimizer.get_config(), handle, protocol=pickle.HIGHEST_PROTOCOL)\n",
    "        \n",
    "      logging.info(f\"Saved optimizer config to '{fp}'\")\n",
    "\n",
    "      # Save optimizer weights\n",
    "      # w = copy.deepcopy(self.model.optimizer.get_weights())\n",
    "\n",
    "      fp = os.path.join(_save_folder, \"w.pickle\")\n",
    "      with open(fp, \"wb\") as handle:\n",
    "        # with file_io.FileIO(fp, mode='wb+') as handle:\n",
    "        pickle.dump(self.model.optimizer.get_weights(), handle, protocol=pickle.HIGHEST_PROTOCOL)\n",
    "      \n",
    "      logging.info(f\"Saved optimizer weights to '{fp}'\")\n",
    "        \n",
    "      logging.info(f\"Did a gc collect: {gc.collect()}\")\n",
    "\n",
    "    # if 0 < batch and 0 == batch % self.val_freq:\n",
    "    #   print(\"-------------------------EVAL-------------------------\")\n",
    "    #   model.evaluate(tfgenTest)\n",
    "    #   print(\"\\n-------------------------EVAL-------------------------\")"
   ]
  },
  {
   "cell_type": "code",
   "execution_count": 51,
   "metadata": {},
   "outputs": [
    {
     "data": {
      "text/plain": [
       "9802"
      ]
     },
     "execution_count": 51,
     "metadata": {},
     "output_type": "execute_result"
    }
   ],
   "source": [
    "gc.collect()"
   ]
  },
  {
   "cell_type": "code",
   "execution_count": 52,
   "metadata": {
    "id": "TczoGFYOStmg"
   },
   "outputs": [],
   "source": [
    "# CLASS_WEIGHTS_DICT = None\n",
    "# CLASS_WEIGHTS_DICT = {}\n",
    "\n",
    "# for i, cw in enumerate(CLASS_WEIGHTS[0,0,:]):\n",
    "#   CLASS_WEIGHTS_DICT[i] = cw"
   ]
  },
  {
   "cell_type": "code",
   "execution_count": 53,
   "metadata": {
    "id": "JyggHiDGNTEX"
   },
   "outputs": [],
   "source": [
    "epoch_add = 0"
   ]
  },
  {
   "cell_type": "code",
   "execution_count": 54,
   "metadata": {
    "id": "-pJ08IBN7cgB"
   },
   "outputs": [],
   "source": [
    "CALLBACK_EVERY_N_BATCHES = 1000"
   ]
  },
  {
   "cell_type": "code",
   "execution_count": 55,
   "metadata": {
    "id": "CuGT0rFvzH1n"
   },
   "outputs": [],
   "source": [
    "cc = CustomCallback(checkpoint_path = CHECKPOINT_PATH,\n",
    "                    model_name = CHKPNT_NAME,\n",
    "                    save_freq = CALLBACK_EVERY_N_BATCHES,\n",
    "                    val_freq = CALLBACK_EVERY_N_BATCHES,\n",
    "                    epoch_add = epoch_add)"
   ]
  },
  {
   "cell_type": "code",
   "execution_count": 56,
   "metadata": {
    "id": "LuuH0xBKGE1g",
    "tags": []
   },
   "outputs": [],
   "source": [
    "# Load the TensorBoard notebook extension\n",
    "%load_ext tensorboard"
   ]
  },
  {
   "cell_type": "code",
   "execution_count": 57,
   "metadata": {
    "id": "0noHN-UeSCQ-"
   },
   "outputs": [],
   "source": [
    "%reload_ext tensorboard"
   ]
  },
  {
   "cell_type": "markdown",
   "metadata": {
    "id": "u7xAyqce3qYJ"
   },
   "source": [
    "The TensorBoard UI is displayed in a browser window. In this colab, perform the following steps to prepare to capture profile information.\n",
    "1.  Click on the dropdown menu box on the top right side and scroll down and click PROFILE. A new window appears that shows: **No profile data was found** at the top.\n",
    "1.  Click on the CAPTURE PROFILE button. A new dialog appears. The top input line shows: **Profile Service URL or TPU name**. Copy and paste the Profile Service URL (the service_addr value shown before launching TensorBoard) into the top input line. While still on the dialog box, start the training with the next step.\n",
    "1.  Click on the next colab cell to start training the model.\n",
    "1.  Watch the output from the training until several epochs have completed. This allows time for the profile data to start being collected. Return to the dialog box and click on the CAPTURE button. If the capture succeeds, the page will auto refresh and redirect you to the profiling results."
   ]
  },
  {
   "cell_type": "code",
   "execution_count": 58,
   "metadata": {
    "colab": {
     "base_uri": "https://localhost:8080/",
     "height": 35
    },
    "id": "mpUXurxwSp_3",
    "outputId": "8d57d014-c4bc-49e1-a434-179a5be0529c"
   },
   "outputs": [
    {
     "data": {
      "text/plain": [
       "'/content/bigdata/log/FPNWithAttention_2_ETF_Trained_GPU_64LB20230314-075219'"
      ]
     },
     "execution_count": 58,
     "metadata": {},
     "output_type": "execute_result"
    }
   ],
   "source": [
    "# Todo: Create more elegant solution\n",
    "log_dir = \"gs://ticks_with_indicators_with_volume/logs/TPU/\" + CHKPNT_NAME + datetime.datetime.now().strftime(\"%Y%m%d-%H%M%S\")\n",
    "\n",
    "if not COLAB:\n",
    "    log_dir = os.path.join(\"/content/bigdata/log\",log_dir.split(\"/\")[-1])\n",
    "\n",
    "log_dir"
   ]
  },
  {
   "cell_type": "code",
   "execution_count": 59,
   "metadata": {
    "id": "_X-ab7uc3gTt"
   },
   "outputs": [
    {
     "name": "stderr",
     "output_type": "stream",
     "text": [
      "2023-03-14 07:52:19.972824: I tensorflow/core/profiler/lib/profiler_session.cc:101] Profiler session initializing.\n",
      "2023-03-14 07:52:19.972865: I tensorflow/core/profiler/lib/profiler_session.cc:116] Profiler session started.\n",
      "2023-03-14 07:52:19.972905: I tensorflow/core/profiler/backends/gpu/cupti_tracer.cc:1664] Profiler found 1 GPUs\n",
      "2023-03-14 07:52:19.973184: W tensorflow/stream_executor/platform/default/dso_loader.cc:64] Could not load dynamic library 'libcupti.so.11.2'; dlerror: libcupti.so.11.2: cannot open shared object file: No such file or directory\n",
      "2023-03-14 07:52:20.077317: I tensorflow/core/profiler/lib/profiler_session.cc:128] Profiler session tear down.\n",
      "2023-03-14 07:52:20.077492: I tensorflow/core/profiler/backends/gpu/cupti_tracer.cc:1798] CUPTI activity buffer flushed\n"
     ]
    }
   ],
   "source": [
    "import datetime\n",
    "\n",
    "tensorboard_callback = tf.keras.callbacks.TensorBoard(\n",
    "    log_dir=log_dir,\n",
    "    histogram_freq=1,\n",
    "    update_freq=CALLBACK_EVERY_N_BATCHES,\n",
    "    profile_batch=(5,100)\n",
    "    )"
   ]
  },
  {
   "cell_type": "code",
   "execution_count": 60,
   "metadata": {
    "tags": []
   },
   "outputs": [],
   "source": [
    "# CLASS_WEIGHTS_DICT = None"
   ]
  },
  {
   "cell_type": "code",
   "execution_count": 61,
   "metadata": {},
   "outputs": [],
   "source": [
    "# model.load_weights(\"/content/bigdata/chk/FPNWithFScaledInput_4_ETF_Trained_GPU_64LB/cp_daily_valid_03_04000/model.h5\")"
   ]
  },
  {
   "cell_type": "code",
   "execution_count": 62,
   "metadata": {
    "tags": []
   },
   "outputs": [
    {
     "data": {
      "text/html": [
       "\n",
       "      <iframe id=\"tensorboard-frame-a59cc5d0409d2519\" width=\"100%\" height=\"800\" frameborder=\"0\">\n",
       "      </iframe>\n",
       "      <script>\n",
       "        (function() {\n",
       "          const frame = document.getElementById(\"tensorboard-frame-a59cc5d0409d2519\");\n",
       "          const url = new URL(\"/\", window.location);\n",
       "          const port = 6006;\n",
       "          if (port) {\n",
       "            url.port = port;\n",
       "          }\n",
       "          frame.src = url;\n",
       "        })();\n",
       "      </script>\n",
       "    "
      ],
      "text/plain": [
       "<IPython.core.display.HTML object>"
      ]
     },
     "metadata": {},
     "output_type": "display_data"
    }
   ],
   "source": [
    "%tensorboard --logdir $log_dir --host 0.0.0.0 --port 6006"
   ]
  },
  {
   "cell_type": "code",
   "execution_count": 63,
   "metadata": {
    "tags": []
   },
   "outputs": [],
   "source": [
    "# model.optimizer.learning_rate = 1e-4"
   ]
  },
  {
   "cell_type": "code",
   "execution_count": 64,
   "metadata": {
    "tags": []
   },
   "outputs": [
    {
     "data": {
      "text/plain": [
       "<tf.Variable 'learning_rate:0' shape=() dtype=float32, numpy=1e-04>"
      ]
     },
     "execution_count": 64,
     "metadata": {},
     "output_type": "execute_result"
    }
   ],
   "source": [
    "model.optimizer.learning_rate "
   ]
  },
  {
   "cell_type": "code",
   "execution_count": null,
   "metadata": {
    "colab": {
     "base_uri": "https://localhost:8080/"
    },
    "id": "DcUTfAbHb2FW",
    "outputId": "a6b2d3a2-f00f-4733-fd4b-268b42e7f2a6",
    "tags": []
   },
   "outputs": [
    {
     "name": "stdout",
     "output_type": "stream",
     "text": [
      "Epoch 1/200\n"
     ]
    },
    {
     "name": "stderr",
     "output_type": "stream",
     "text": [
      "INFO:root:File 'IE00BGJWWY63.csv' loaded, 1063 left\n",
      "INFO:root:File 'IE00BD45KH83.csv' loaded, 1062 left\n",
      "INFO:root:File 'IE00BP2C0316.csv' loaded, 1061 left\n",
      "INFO:root:File 'IE00B3VWN518.csv' loaded, 1060 left\n",
      "INFO:root:File 'LU2082998167.csv' loaded, 1059 left\n",
      "INFO:root:File 'FR0010342592.csv' loaded, 1058 left\n",
      "INFO:root:File 'DE000A0D8Q49.csv' loaded, 1057 left\n",
      "INFO:root:File 'IE00B7KMNP07.csv' loaded, 1056 left\n",
      "2023-03-14 07:52:29.974637: I tensorflow/stream_executor/cuda/cuda_dnn.cc:384] Loaded cuDNN version 8700\n",
      "2023-03-14 07:52:31.415824: W tensorflow/core/common_runtime/bfc_allocator.cc:290] Allocator (GPU_0_bfc) ran out of memory trying to allocate 448.75MiB with freed_by_count=0. The caller indicates that this is not a failure, but this may mean that there could be performance gains if more memory were available.\n"
     ]
    },
    {
     "name": "stdout",
     "output_type": "stream",
     "text": [
      "      4/Unknown - 14s 530ms/step - loss: 0.2086 - mae: 0.2246"
     ]
    },
    {
     "name": "stderr",
     "output_type": "stream",
     "text": [
      "2023-03-14 07:52:36.995373: I tensorflow/core/profiler/lib/profiler_session.cc:101] Profiler session initializing.\n",
      "2023-03-14 07:52:36.995397: I tensorflow/core/profiler/lib/profiler_session.cc:116] Profiler session started.\n"
     ]
    },
    {
     "name": "stdout",
     "output_type": "stream",
     "text": [
      "      6/Unknown - 16s 586ms/step - loss: 0.1585 - mae: 0.1965WARNING:tensorflow:Callback method `on_train_batch_end` is slow compared to the batch time (batch time: 0.2119s vs `on_train_batch_end` time: 0.2906s). Check your callbacks.\n"
     ]
    },
    {
     "name": "stderr",
     "output_type": "stream",
     "text": [
      "WARNING:tensorflow:Callback method `on_train_batch_end` is slow compared to the batch time (batch time: 0.2119s vs `on_train_batch_end` time: 0.2906s). Check your callbacks.\n"
     ]
    },
    {
     "name": "stdout",
     "output_type": "stream",
     "text": [
      "      7/Unknown - 16s 578ms/step - loss: 0.1574 - mae: 0.1971"
     ]
    },
    {
     "name": "stderr",
     "output_type": "stream",
     "text": [
      "INFO:root:File 'LU1650488494.csv' loaded, 1055 left\n"
     ]
    },
    {
     "name": "stdout",
     "output_type": "stream",
     "text": [
      "     14/Unknown - 20s 584ms/step - loss: 0.2928 - mae: 0.2438"
     ]
    },
    {
     "name": "stderr",
     "output_type": "stream",
     "text": [
      "INFO:root:File 'IE00B8X9NW27.csv' loaded, 1054 left\n"
     ]
    },
    {
     "name": "stdout",
     "output_type": "stream",
     "text": [
      "     18/Unknown - 23s 594ms/step - loss: 0.3495 - mae: 0.2706"
     ]
    },
    {
     "name": "stderr",
     "output_type": "stream",
     "text": [
      "INFO:root:File 'IE00BQN1K786.csv' loaded, 1053 left\n"
     ]
    },
    {
     "name": "stdout",
     "output_type": "stream",
     "text": [
      "     27/Unknown - 28s 586ms/step - loss: 0.2984 - mae: 0.2532"
     ]
    },
    {
     "name": "stderr",
     "output_type": "stream",
     "text": [
      "INFO:root:File 'IE00BYTH5R14.csv' loaded, 1052 left\n"
     ]
    },
    {
     "name": "stdout",
     "output_type": "stream",
     "text": [
      "     36/Unknown - 33s 582ms/step - loss: 0.2557 - mae: 0.2388"
     ]
    },
    {
     "name": "stderr",
     "output_type": "stream",
     "text": [
      "INFO:root:File 'IE00B44Z5B48.csv' loaded, 1051 left\n"
     ]
    },
    {
     "name": "stdout",
     "output_type": "stream",
     "text": [
      "     57/Unknown - 45s 572ms/step - loss: 0.2175 - mae: 0.2243"
     ]
    },
    {
     "name": "stderr",
     "output_type": "stream",
     "text": [
      "INFO:root:File 'IE00B5KQNG97.csv' loaded, 1050 left\n"
     ]
    },
    {
     "name": "stdout",
     "output_type": "stream",
     "text": [
      "     64/Unknown - 49s 574ms/step - loss: 0.2017 - mae: 0.2181"
     ]
    },
    {
     "name": "stderr",
     "output_type": "stream",
     "text": [
      "INFO:root:File 'LU2090063673.csv' loaded, 1049 left\n"
     ]
    },
    {
     "name": "stdout",
     "output_type": "stream",
     "text": [
      "     69/Unknown - 52s 576ms/step - loss: 0.2033 - mae: 0.2152"
     ]
    },
    {
     "name": "stderr",
     "output_type": "stream",
     "text": [
      "INFO:root:File 'LU1650487926.csv' loaded, 1048 left\n"
     ]
    },
    {
     "name": "stdout",
     "output_type": "stream",
     "text": [
      "     77/Unknown - 56s 575ms/step - loss: 0.2499 - mae: 0.2156"
     ]
    },
    {
     "name": "stderr",
     "output_type": "stream",
     "text": [
      "INFO:root:File 'FR0007054358.csv' loaded, 1047 left\n",
      "INFO:root:File 'IE00BZ173V67.csv' loaded, 1046 left\n"
     ]
    },
    {
     "name": "stdout",
     "output_type": "stream",
     "text": [
      "     82/Unknown - 60s 582ms/step - loss: 0.2456 - mae: 0.2154"
     ]
    },
    {
     "name": "stderr",
     "output_type": "stream",
     "text": [
      "INFO:root:File 'LU1681046931.csv' loaded, 1045 left\n"
     ]
    },
    {
     "name": "stdout",
     "output_type": "stream",
     "text": [
      "     94/Unknown - 67s 580ms/step - loss: 0.2383 - mae: 0.2163"
     ]
    },
    {
     "name": "stderr",
     "output_type": "stream",
     "text": [
      "INFO:root:File 'LU0392496344.csv' loaded, 1044 left\n"
     ]
    },
    {
     "name": "stdout",
     "output_type": "stream",
     "text": [
      "     98/Unknown - 69s 582ms/step - loss: 0.2345 - mae: 0.2156"
     ]
    },
    {
     "name": "stderr",
     "output_type": "stream",
     "text": [
      "INFO:root:File 'IE00B5377D42.csv' loaded, 1043 left\n"
     ]
    },
    {
     "name": "stdout",
     "output_type": "stream",
     "text": [
      "     99/Unknown - 70s 585ms/step - loss: 0.2328 - mae: 0.2149"
     ]
    },
    {
     "name": "stderr",
     "output_type": "stream",
     "text": [
      "2023-03-14 07:53:33.318891: I tensorflow/core/profiler/lib/profiler_session.cc:67] Profiler session collecting data.\n",
      "2023-03-14 07:53:33.321835: I tensorflow/core/profiler/backends/gpu/cupti_tracer.cc:1798] CUPTI activity buffer flushed\n",
      "2023-03-14 07:53:33.699179: I tensorflow/core/profiler/backends/gpu/cupti_collector.cc:521]  GpuTracer has collected 566785 callback api events and 569398 activity events. \n",
      "2023-03-14 07:53:39.178826: I tensorflow/core/profiler/lib/profiler_session.cc:128] Profiler session tear down.\n",
      "2023-03-14 07:53:44.514690: I tensorflow/core/profiler/rpc/client/save_profile.cc:136] Creating directory: /content/bigdata/log/FPNWithAttention_2_ETF_Trained_GPU_64LB20230314-075219/plugins/profile/2023_03_14_07_53_39\n",
      "\n",
      "2023-03-14 07:53:48.319278: I tensorflow/core/profiler/rpc/client/save_profile.cc:142] Dumped gzipped tool data for trace.json.gz to /content/bigdata/log/FPNWithAttention_2_ETF_Trained_GPU_64LB20230314-075219/plugins/profile/2023_03_14_07_53_39/8bf2321b2312.trace.json.gz\n",
      "2023-03-14 07:53:52.204998: I tensorflow/core/profiler/rpc/client/save_profile.cc:136] Creating directory: /content/bigdata/log/FPNWithAttention_2_ETF_Trained_GPU_64LB20230314-075219/plugins/profile/2023_03_14_07_53_39\n",
      "\n",
      "2023-03-14 07:53:52.219544: I tensorflow/core/profiler/rpc/client/save_profile.cc:142] Dumped gzipped tool data for memory_profile.json.gz to /content/bigdata/log/FPNWithAttention_2_ETF_Trained_GPU_64LB20230314-075219/plugins/profile/2023_03_14_07_53_39/8bf2321b2312.memory_profile.json.gz\n",
      "2023-03-14 07:53:52.632489: I tensorflow/core/profiler/rpc/client/capture_profile.cc:251] Creating directory: /content/bigdata/log/FPNWithAttention_2_ETF_Trained_GPU_64LB20230314-075219/plugins/profile/2023_03_14_07_53_39\n",
      "Dumped tool data for xplane.pb to /content/bigdata/log/FPNWithAttention_2_ETF_Trained_GPU_64LB20230314-075219/plugins/profile/2023_03_14_07_53_39/8bf2321b2312.xplane.pb\n",
      "Dumped tool data for overview_page.pb to /content/bigdata/log/FPNWithAttention_2_ETF_Trained_GPU_64LB20230314-075219/plugins/profile/2023_03_14_07_53_39/8bf2321b2312.overview_page.pb\n",
      "Dumped tool data for input_pipeline.pb to /content/bigdata/log/FPNWithAttention_2_ETF_Trained_GPU_64LB20230314-075219/plugins/profile/2023_03_14_07_53_39/8bf2321b2312.input_pipeline.pb\n",
      "Dumped tool data for tensorflow_stats.pb to /content/bigdata/log/FPNWithAttention_2_ETF_Trained_GPU_64LB20230314-075219/plugins/profile/2023_03_14_07_53_39/8bf2321b2312.tensorflow_stats.pb\n",
      "Dumped tool data for kernel_stats.pb to /content/bigdata/log/FPNWithAttention_2_ETF_Trained_GPU_64LB20230314-075219/plugins/profile/2023_03_14_07_53_39/8bf2321b2312.kernel_stats.pb\n",
      "\n"
     ]
    },
    {
     "name": "stdout",
     "output_type": "stream",
     "text": [
      "    102/Unknown - 91s 780ms/step - loss: 0.2273 - mae: 0.2124"
     ]
    },
    {
     "name": "stderr",
     "output_type": "stream",
     "text": [
      "INFO:root:File 'IE0032523478.csv' loaded, 1042 left\n",
      "INFO:root:File 'IE00BSPLC413.csv' loaded, 1041 left\n"
     ]
    },
    {
     "name": "stdout",
     "output_type": "stream",
     "text": [
      "    115/Unknown - 99s 758ms/step - loss: 0.2130 - mae: 0.2080"
     ]
    },
    {
     "name": "stderr",
     "output_type": "stream",
     "text": [
      "INFO:root:File 'IE00BQQP9G91.csv' loaded, 1040 left\n"
     ]
    },
    {
     "name": "stdout",
     "output_type": "stream",
     "text": [
      "    129/Unknown - 107s 735ms/step - loss: 0.2175 - mae: 0.2134"
     ]
    },
    {
     "name": "stderr",
     "output_type": "stream",
     "text": [
      "INFO:root:File 'DE000ETFL318.csv' loaded, 1039 left\n"
     ]
    },
    {
     "name": "stdout",
     "output_type": "stream",
     "text": [
      "    147/Unknown - 117s 712ms/step - loss: 0.2055 - mae: 0.2099"
     ]
    },
    {
     "name": "stderr",
     "output_type": "stream",
     "text": [
      "INFO:root:File 'LU1829218319.csv' loaded, 1038 left\n"
     ]
    },
    {
     "name": "stdout",
     "output_type": "stream",
     "text": [
      "    159/Unknown - 123s 700ms/step - loss: 0.2018 - mae: 0.2104"
     ]
    },
    {
     "name": "stderr",
     "output_type": "stream",
     "text": [
      "INFO:root:File 'IE00BLCHJ534.csv' loaded, 1037 left\n"
     ]
    },
    {
     "name": "stdout",
     "output_type": "stream",
     "text": [
      "    166/Unknown - 127s 695ms/step - loss: 0.1967 - mae: 0.2084"
     ]
    },
    {
     "name": "stderr",
     "output_type": "stream",
     "text": [
      "INFO:root:File 'IE00B4MCHD36.csv' loaded, 1036 left\n"
     ]
    },
    {
     "name": "stdout",
     "output_type": "stream",
     "text": [
      "    172/Unknown - 131s 691ms/step - loss: 0.1919 - mae: 0.2065"
     ]
    },
    {
     "name": "stderr",
     "output_type": "stream",
     "text": [
      "INFO:root:File 'LU0446734526.csv' loaded, 1035 left\n"
     ]
    },
    {
     "name": "stdout",
     "output_type": "stream",
     "text": [
      "    174/Unknown - 132s 691ms/step - loss: 0.1900 - mae: 0.2054"
     ]
    },
    {
     "name": "stderr",
     "output_type": "stream",
     "text": [
      "INFO:root:File 'LU0599612842.csv' loaded, 1034 left\n"
     ]
    },
    {
     "name": "stdout",
     "output_type": "stream",
     "text": [
      "    193/Unknown - 143s 677ms/step - loss: 0.1788 - mae: 0.2012"
     ]
    },
    {
     "name": "stderr",
     "output_type": "stream",
     "text": [
      "INFO:root:File 'LU2082996112.csv' loaded, 1033 left\n"
     ]
    },
    {
     "name": "stdout",
     "output_type": "stream",
     "text": [
      "    195/Unknown - 144s 677ms/step - loss: 0.1779 - mae: 0.2010"
     ]
    },
    {
     "name": "stderr",
     "output_type": "stream",
     "text": [
      "INFO:root:File 'LU1708330235.csv' loaded, 1032 left\n"
     ]
    },
    {
     "name": "stdout",
     "output_type": "stream",
     "text": [
      "    201/Unknown - 147s 674ms/step - loss: 0.1747 - mae: 0.1999"
     ]
    },
    {
     "name": "stderr",
     "output_type": "stream",
     "text": [
      "INFO:root:File 'IE00BLSNMW37.csv' loaded, 1031 left\n"
     ]
    },
    {
     "name": "stdout",
     "output_type": "stream",
     "text": [
      "    205/Unknown - 150s 673ms/step - loss: 0.1730 - mae: 0.1995"
     ]
    },
    {
     "name": "stderr",
     "output_type": "stream",
     "text": [
      "INFO:root:File 'IE00BGBN6P67.csv' loaded, 1030 left\n"
     ]
    },
    {
     "name": "stdout",
     "output_type": "stream",
     "text": [
      "    206/Unknown - 151s 674ms/step - loss: 0.1724 - mae: 0.1993"
     ]
    },
    {
     "name": "stderr",
     "output_type": "stream",
     "text": [
      "INFO:root:File 'IE00BWTN6Y99.csv' loaded, 1029 left\n",
      "INFO:root:File 'LU1481203070.csv' loaded, 1028 left\n"
     ]
    },
    {
     "name": "stdout",
     "output_type": "stream",
     "text": [
      "    215/Unknown - 156s 671ms/step - loss: 0.1759 - mae: 0.1996"
     ]
    },
    {
     "name": "stderr",
     "output_type": "stream",
     "text": [
      "INFO:root:File 'IE00B910VR50.csv' loaded, 1027 left\n"
     ]
    },
    {
     "name": "stdout",
     "output_type": "stream",
     "text": [
      "    224/Unknown - 161s 667ms/step - loss: 0.1770 - mae: 0.2000"
     ]
    },
    {
     "name": "stderr",
     "output_type": "stream",
     "text": [
      "INFO:root:File 'DE0006289390.csv' loaded, 1026 left\n"
     ]
    },
    {
     "name": "stdout",
     "output_type": "stream",
     "text": [
      "    227/Unknown - 163s 667ms/step - loss: 0.1763 - mae: 0.1999"
     ]
    },
    {
     "name": "stderr",
     "output_type": "stream",
     "text": [
      "INFO:root:File 'LU2090062865.csv' loaded, 1025 left\n"
     ]
    },
    {
     "name": "stdout",
     "output_type": "stream",
     "text": [
      "    238/Unknown - 169s 661ms/step - loss: 0.1740 - mae: 0.1994"
     ]
    },
    {
     "name": "stderr",
     "output_type": "stream",
     "text": [
      "INFO:root:File 'DE000A0F5UF5.csv' loaded, 1024 left\n"
     ]
    },
    {
     "name": "stdout",
     "output_type": "stream",
     "text": [
      "    240/Unknown - 171s 662ms/step - loss: 0.1729 - mae: 0.1988"
     ]
    },
    {
     "name": "stderr",
     "output_type": "stream",
     "text": [
      "INFO:root:File 'IE00BYM31M36.csv' loaded, 1023 left\n",
      "INFO:root:File 'IE00B52VJ196.csv' loaded, 1022 left\n"
     ]
    },
    {
     "name": "stdout",
     "output_type": "stream",
     "text": [
      "    247/Unknown - 175s 660ms/step - loss: 0.1695 - mae: 0.1968"
     ]
    },
    {
     "name": "stderr",
     "output_type": "stream",
     "text": [
      "INFO:root:File 'IE00B4L5YX21.csv' loaded, 1021 left\n"
     ]
    },
    {
     "name": "stdout",
     "output_type": "stream",
     "text": [
      "    248/Unknown - 176s 661ms/step - loss: 0.1692 - mae: 0.1967"
     ]
    },
    {
     "name": "stderr",
     "output_type": "stream",
     "text": [
      "INFO:root:File 'IE00B3CNHG25.csv' loaded, 1020 left\n"
     ]
    },
    {
     "name": "stdout",
     "output_type": "stream",
     "text": [
      "    250/Unknown - 177s 662ms/step - loss: 0.1685 - mae: 0.1964"
     ]
    },
    {
     "name": "stderr",
     "output_type": "stream",
     "text": [
      "INFO:root:File 'LU1287023003.csv' loaded, 1019 left\n"
     ]
    },
    {
     "name": "stdout",
     "output_type": "stream",
     "text": [
      "    271/Unknown - 189s 652ms/step - loss: 0.1655 - mae: 0.1969"
     ]
    },
    {
     "name": "stderr",
     "output_type": "stream",
     "text": [
      "INFO:root:File 'LU1681046774.csv' loaded, 1018 left\n"
     ]
    },
    {
     "name": "stdout",
     "output_type": "stream",
     "text": [
      "    277/Unknown - 192s 651ms/step - loss: 0.1671 - mae: 0.1973"
     ]
    },
    {
     "name": "stderr",
     "output_type": "stream",
     "text": [
      "INFO:root:File 'LU0721552973.csv' loaded, 1017 left\n"
     ]
    },
    {
     "name": "stdout",
     "output_type": "stream",
     "text": [
      "    307/Unknown - 209s 640ms/step - loss: 0.1604 - mae: 0.1942"
     ]
    },
    {
     "name": "stderr",
     "output_type": "stream",
     "text": [
      "INFO:root:File 'IE00BX7RQY03.csv' loaded, 1016 left\n"
     ]
    },
    {
     "name": "stdout",
     "output_type": "stream",
     "text": [
      "    323/Unknown - 217s 636ms/step - loss: 0.1559 - mae: 0.1921"
     ]
    },
    {
     "name": "stderr",
     "output_type": "stream",
     "text": [
      "INFO:root:File 'IE00BYMS5W68.csv' loaded, 1015 left\n"
     ]
    },
    {
     "name": "stdout",
     "output_type": "stream",
     "text": [
      "    328/Unknown - 220s 635ms/step - loss: 0.1554 - mae: 0.1922"
     ]
    },
    {
     "name": "stderr",
     "output_type": "stream",
     "text": [
      "INFO:root:File 'LU1781541849.csv' loaded, 1014 left\n"
     ]
    },
    {
     "name": "stdout",
     "output_type": "stream",
     "text": [
      "    329/Unknown - 221s 636ms/step - loss: 0.1554 - mae: 0.1923"
     ]
    },
    {
     "name": "stderr",
     "output_type": "stream",
     "text": [
      "INFO:root:File 'IE00BCLWRF22.csv' loaded, 1013 left\n"
     ]
    },
    {
     "name": "stdout",
     "output_type": "stream",
     "text": [
      "    334/Unknown - 224s 636ms/step - loss: 0.1542 - mae: 0.1919"
     ]
    },
    {
     "name": "stderr",
     "output_type": "stream",
     "text": [
      "INFO:root:File 'IE00BDZVH966.csv' loaded, 1012 left\n"
     ]
    },
    {
     "name": "stdout",
     "output_type": "stream",
     "text": [
      "    339/Unknown - 227s 635ms/step - loss: 0.1527 - mae: 0.1911"
     ]
    },
    {
     "name": "stderr",
     "output_type": "stream",
     "text": [
      "INFO:root:File 'DE000A0H08D2.csv' loaded, 1011 left\n"
     ]
    },
    {
     "name": "stdout",
     "output_type": "stream",
     "text": [
      "    343/Unknown - 230s 635ms/step - loss: 0.1517 - mae: 0.1905"
     ]
    },
    {
     "name": "stderr",
     "output_type": "stream",
     "text": [
      "INFO:root:File 'LU1287023268.csv' loaded, 1010 left\n"
     ]
    },
    {
     "name": "stdout",
     "output_type": "stream",
     "text": [
      "    344/Unknown - 231s 636ms/step - loss: 0.1514 - mae: 0.1904"
     ]
    },
    {
     "name": "stderr",
     "output_type": "stream",
     "text": [
      "/tmp/ipykernel_1242/1318332062.py:23: RuntimeWarning: divide by zero encountered in arctanh\n",
      "  _y = np.arctanh(_y)\n"
     ]
    },
    {
     "name": "stdout",
     "output_type": "stream",
     "text": [
      "    346/Unknown - 232s 635ms/step - loss: 0.1508 - mae: 0.1900"
     ]
    },
    {
     "name": "stderr",
     "output_type": "stream",
     "text": [
      "INFO:root:File 'IE00B14X4Q57.csv' loaded, 1009 left\n"
     ]
    },
    {
     "name": "stdout",
     "output_type": "stream",
     "text": [
      "    349/Unknown - 234s 635ms/step - loss: 0.1500 - mae: 0.1895"
     ]
    },
    {
     "name": "stderr",
     "output_type": "stream",
     "text": [
      "INFO:root:File 'IE00BLLZQS08.csv' loaded, 1008 left\n"
     ]
    },
    {
     "name": "stdout",
     "output_type": "stream",
     "text": [
      "    355/Unknown - 237s 634ms/step - loss: 0.1493 - mae: 0.1891"
     ]
    },
    {
     "name": "stderr",
     "output_type": "stream",
     "text": [
      "INFO:root:File 'IE000YDZG487.csv' loaded, 1007 left\n"
     ]
    },
    {
     "name": "stdout",
     "output_type": "stream",
     "text": [
      "    356/Unknown - 238s 635ms/step - loss: 0.1494 - mae: 0.1892"
     ]
    },
    {
     "name": "stderr",
     "output_type": "stream",
     "text": [
      "INFO:root:File 'DE0006289473.csv' loaded, 1006 left\n"
     ]
    },
    {
     "name": "stdout",
     "output_type": "stream",
     "text": [
      "    360/Unknown - 241s 635ms/step - loss: 0.1483 - mae: 0.1886"
     ]
    },
    {
     "name": "stderr",
     "output_type": "stream",
     "text": [
      "INFO:root:File 'IE000MWUQBJ0.csv' loaded, 1005 left\n"
     ]
    },
    {
     "name": "stdout",
     "output_type": "stream",
     "text": [
      "    361/Unknown - 241s 635ms/step - loss: 0.1480 - mae: 0.1883"
     ]
    },
    {
     "name": "stderr",
     "output_type": "stream",
     "text": [
      "INFO:root:File 'IE000APK27S2.csv' loaded, 1004 left\n"
     ]
    },
    {
     "name": "stdout",
     "output_type": "stream",
     "text": [
      "    362/Unknown - 242s 636ms/step - loss: 0.1476 - mae: 0.1880"
     ]
    },
    {
     "name": "stderr",
     "output_type": "stream",
     "text": [
      "INFO:root:File 'IE00B52SFT06.csv' loaded, 1003 left\n"
     ]
    },
    {
     "name": "stdout",
     "output_type": "stream",
     "text": [
      "    363/Unknown - 243s 637ms/step - loss: 0.1472 - mae: 0.1877"
     ]
    },
    {
     "name": "stderr",
     "output_type": "stream",
     "text": [
      "INFO:root:File 'IE00B449XP68.csv' loaded, 1002 left\n"
     ]
    },
    {
     "name": "stdout",
     "output_type": "stream",
     "text": [
      "    369/Unknown - 247s 636ms/step - loss: 0.1460 - mae: 0.1873"
     ]
    },
    {
     "name": "stderr",
     "output_type": "stream",
     "text": [
      "INFO:root:File 'LU0192223062.csv' loaded, 1001 left\n"
     ]
    },
    {
     "name": "stdout",
     "output_type": "stream",
     "text": [
      "    382/Unknown - 254s 633ms/step - loss: 0.1438 - mae: 0.1864"
     ]
    },
    {
     "name": "stderr",
     "output_type": "stream",
     "text": [
      "INFO:root:File 'IE00B3B8PX14.csv' loaded, 1000 left\n"
     ]
    },
    {
     "name": "stdout",
     "output_type": "stream",
     "text": [
      "    421/Unknown - 275s 624ms/step - loss: 0.1403 - mae: 0.1842"
     ]
    },
    {
     "name": "stderr",
     "output_type": "stream",
     "text": [
      "INFO:root:File 'IE00B86MWN23.csv' loaded, 999 left\n"
     ]
    },
    {
     "name": "stdout",
     "output_type": "stream",
     "text": [
      "    433/Unknown - 282s 622ms/step - loss: 0.1435 - mae: 0.1839"
     ]
    },
    {
     "name": "stderr",
     "output_type": "stream",
     "text": [
      "INFO:root:File 'IE00B5MTWH09.csv' loaded, 998 left\n"
     ]
    },
    {
     "name": "stdout",
     "output_type": "stream",
     "text": [
      "    436/Unknown - 284s 623ms/step - loss: 0.1476 - mae: 0.1844"
     ]
    },
    {
     "name": "stderr",
     "output_type": "stream",
     "text": [
      "INFO:root:File 'IE00BWBXM617.csv' loaded, 997 left\n"
     ]
    },
    {
     "name": "stdout",
     "output_type": "stream",
     "text": [
      "    437/Unknown - 284s 623ms/step - loss: 0.1473 - mae: 0.1842"
     ]
    },
    {
     "name": "stderr",
     "output_type": "stream",
     "text": [
      "INFO:root:File 'DE000ETF9033.csv' loaded, 996 left\n"
     ]
    },
    {
     "name": "stdout",
     "output_type": "stream",
     "text": [
      "    440/Unknown - 286s 623ms/step - loss: 0.1465 - mae: 0.1837"
     ]
    },
    {
     "name": "stderr",
     "output_type": "stream",
     "text": [
      "INFO:root:File 'LU1484799769.csv' loaded, 995 left\n"
     ]
    },
    {
     "name": "stdout",
     "output_type": "stream",
     "text": [
      "    464/Unknown - 299s 619ms/step - loss: 0.1419 - mae: 0.1811"
     ]
    },
    {
     "name": "stderr",
     "output_type": "stream",
     "text": [
      "INFO:root:File 'IE00B6YX5M31.csv' loaded, 994 left\n"
     ]
    },
    {
     "name": "stdout",
     "output_type": "stream",
     "text": [
      "    467/Unknown - 301s 619ms/step - loss: 0.1437 - mae: 0.1815"
     ]
    },
    {
     "name": "stderr",
     "output_type": "stream",
     "text": [
      "INFO:root:File 'LU1215415214.csv' loaded, 993 left\n"
     ]
    },
    {
     "name": "stdout",
     "output_type": "stream",
     "text": [
      "    474/Unknown - 305s 619ms/step - loss: 0.1429 - mae: 0.1812"
     ]
    },
    {
     "name": "stderr",
     "output_type": "stream",
     "text": [
      "INFO:root:File 'LU0721553864.csv' loaded, 992 left\n",
      "INFO:root:File 'IE00BYZTVV78.csv' loaded, 991 left\n"
     ]
    },
    {
     "name": "stdout",
     "output_type": "stream",
     "text": [
      "    478/Unknown - 308s 620ms/step - loss: 0.1419 - mae: 0.1806"
     ]
    },
    {
     "name": "stderr",
     "output_type": "stream",
     "text": [
      "INFO:root:File 'IE00B5MJYY16.csv' loaded, 990 left\n",
      "INFO:root:File 'LU2090062352.csv' loaded, 989 left\n",
      "INFO:root:File 'LU1525418643.csv' loaded, 988 left\n"
     ]
    },
    {
     "name": "stdout",
     "output_type": "stream",
     "text": [
      "    482/Unknown - 311s 621ms/step - loss: 0.1410 - mae: 0.1799"
     ]
    },
    {
     "name": "stderr",
     "output_type": "stream",
     "text": [
      "/tmp/ipykernel_1242/1318332062.py:23: RuntimeWarning: divide by zero encountered in arctanh\n",
      "  _y = np.arctanh(_y)\n"
     ]
    },
    {
     "name": "stdout",
     "output_type": "stream",
     "text": [
      "    494/Unknown - 318s 618ms/step - loss: 0.1391 - mae: 0.1783"
     ]
    },
    {
     "name": "stderr",
     "output_type": "stream",
     "text": [
      "INFO:root:File 'LU0340285161.csv' loaded, 987 left\n"
     ]
    },
    {
     "name": "stdout",
     "output_type": "stream",
     "text": [
      "    502/Unknown - 322s 618ms/step - loss: 0.1381 - mae: 0.1777"
     ]
    },
    {
     "name": "stderr",
     "output_type": "stream",
     "text": [
      "/tmp/ipykernel_1242/1318332062.py:23: RuntimeWarning: divide by zero encountered in arctanh\n",
      "  _y = np.arctanh(_y)\n"
     ]
    },
    {
     "name": "stdout",
     "output_type": "stream",
     "text": [
      "    510/Unknown - 326s 616ms/step - loss: 0.1411 - mae: 0.1774"
     ]
    },
    {
     "name": "stderr",
     "output_type": "stream",
     "text": [
      "INFO:root:File 'LU1615092217.csv' loaded, 986 left\n"
     ]
    },
    {
     "name": "stdout",
     "output_type": "stream",
     "text": [
      "    511/Unknown - 327s 617ms/step - loss: 0.1409 - mae: 0.1773"
     ]
    },
    {
     "name": "stderr",
     "output_type": "stream",
     "text": [
      "INFO:root:File 'IE00BKWQ0K51.csv' loaded, 985 left\n"
     ]
    },
    {
     "name": "stdout",
     "output_type": "stream",
     "text": [
      "    512/Unknown - 328s 617ms/step - loss: 0.1406 - mae: 0.1772"
     ]
    },
    {
     "name": "stderr",
     "output_type": "stream",
     "text": [
      "INFO:root:File 'IE00BMH5Y871.csv' loaded, 984 left\n"
     ]
    },
    {
     "name": "stdout",
     "output_type": "stream",
     "text": [
      "    514/Unknown - 329s 617ms/step - loss: 0.1403 - mae: 0.1770"
     ]
    },
    {
     "name": "stderr",
     "output_type": "stream",
     "text": [
      "INFO:root:File 'IE00BF0M2Z96.csv' loaded, 983 left\n"
     ]
    },
    {
     "name": "stdout",
     "output_type": "stream",
     "text": [
      "    519/Unknown - 332s 617ms/step - loss: 0.1483 - mae: 0.1780"
     ]
    },
    {
     "name": "stderr",
     "output_type": "stream",
     "text": [
      "INFO:root:File 'LU2206597804.csv' loaded, 982 left\n"
     ]
    },
    {
     "name": "stdout",
     "output_type": "stream",
     "text": [
      "    526/Unknown - 336s 616ms/step - loss: 0.1470 - mae: 0.1776"
     ]
    },
    {
     "name": "stderr",
     "output_type": "stream",
     "text": [
      "INFO:root:File 'LU1681045537.csv' loaded, 981 left\n"
     ]
    },
    {
     "name": "stdout",
     "output_type": "stream",
     "text": [
      "    529/Unknown - 338s 616ms/step - loss: 0.1474 - mae: 0.1778"
     ]
    },
    {
     "name": "stderr",
     "output_type": "stream",
     "text": [
      "INFO:root:File 'IE000GOJO2A3.csv' loaded, 980 left\n"
     ]
    },
    {
     "name": "stdout",
     "output_type": "stream",
     "text": [
      "    530/Unknown - 339s 617ms/step - loss: 0.1477 - mae: 0.1780"
     ]
    },
    {
     "name": "stderr",
     "output_type": "stream",
     "text": [
      "INFO:root:File 'FR0010315770.csv' loaded, 979 left\n"
     ]
    },
    {
     "name": "stdout",
     "output_type": "stream",
     "text": [
      "    536/Unknown - 342s 616ms/step - loss: 0.1470 - mae: 0.1779"
     ]
    },
    {
     "name": "stderr",
     "output_type": "stream",
     "text": [
      "INFO:root:File 'IE00B4L5Y983.csv' loaded, 978 left\n"
     ]
    },
    {
     "name": "stdout",
     "output_type": "stream",
     "text": [
      "    540/Unknown - 345s 616ms/step - loss: 0.1463 - mae: 0.1776"
     ]
    },
    {
     "name": "stderr",
     "output_type": "stream",
     "text": [
      "INFO:root:File 'IE00BCLWRD08.csv' loaded, 977 left\n"
     ]
    },
    {
     "name": "stdout",
     "output_type": "stream",
     "text": [
      "    542/Unknown - 346s 617ms/step - loss: 0.1460 - mae: 0.1776"
     ]
    },
    {
     "name": "stderr",
     "output_type": "stream",
     "text": [
      "INFO:root:File 'IE00BNGFMY78.csv' loaded, 976 left\n"
     ]
    },
    {
     "name": "stdout",
     "output_type": "stream",
     "text": [
      "    554/Unknown - 353s 615ms/step - loss: 0.1451 - mae: 0.1776"
     ]
    },
    {
     "name": "stderr",
     "output_type": "stream",
     "text": [
      "INFO:root:File 'IE00B810Q511.csv' loaded in retry loop, 975 left\n"
     ]
    },
    {
     "name": "stdout",
     "output_type": "stream",
     "text": [
      "    555/Unknown - 354s 616ms/step - loss: 0.1450 - mae: 0.1776"
     ]
    },
    {
     "name": "stderr",
     "output_type": "stream",
     "text": [
      "INFO:root:File 'LU1681044647.csv' loaded, 974 left\n"
     ]
    },
    {
     "name": "stdout",
     "output_type": "stream",
     "text": [
      "    557/Unknown - 355s 616ms/step - loss: 0.1446 - mae: 0.1775"
     ]
    },
    {
     "name": "stderr",
     "output_type": "stream",
     "text": [
      "INFO:root:File 'LU1681044480.csv' loaded, 973 left\n"
     ]
    },
    {
     "name": "stdout",
     "output_type": "stream",
     "text": [
      "    576/Unknown - 366s 614ms/step - loss: 0.1426 - mae: 0.1768"
     ]
    },
    {
     "name": "stderr",
     "output_type": "stream",
     "text": [
      "INFO:root:File 'IE00BF2B0N83.csv' loaded, 972 left\n"
     ]
    },
    {
     "name": "stdout",
     "output_type": "stream",
     "text": [
      "    593/Unknown - 375s 612ms/step - loss: 0.1523 - mae: 0.1773"
     ]
    },
    {
     "name": "stderr",
     "output_type": "stream",
     "text": [
      "INFO:root:File 'LU1437015735.csv' loaded, 971 left\n"
     ]
    },
    {
     "name": "stdout",
     "output_type": "stream",
     "text": [
      "    604/Unknown - 381s 611ms/step - loss: 0.1509 - mae: 0.1771"
     ]
    },
    {
     "name": "stderr",
     "output_type": "stream",
     "text": [
      "INFO:root:File 'DE000A0Q4RZ9.csv' loaded, 970 left\n"
     ]
    },
    {
     "name": "stdout",
     "output_type": "stream",
     "text": [
      "    606/Unknown - 383s 611ms/step - loss: 0.1504 - mae: 0.1768"
     ]
    },
    {
     "name": "stderr",
     "output_type": "stream",
     "text": [
      "INFO:root:File 'IE0008470928.csv' loaded, 969 left\n"
     ]
    },
    {
     "name": "stdout",
     "output_type": "stream",
     "text": [
      "    612/Unknown - 386s 611ms/step - loss: 0.1498 - mae: 0.1768"
     ]
    },
    {
     "name": "stderr",
     "output_type": "stream",
     "text": [
      "INFO:root:File 'LU1681049109.csv' loaded, 968 left\n"
     ]
    },
    {
     "name": "stdout",
     "output_type": "stream",
     "text": [
      "    614/Unknown - 388s 612ms/step - loss: 0.1496 - mae: 0.1767"
     ]
    },
    {
     "name": "stderr",
     "output_type": "stream",
     "text": [
      "INFO:root:File 'IE00BWTNM966.csv' loaded, 967 left\n"
     ]
    },
    {
     "name": "stdout",
     "output_type": "stream",
     "text": [
      "    624/Unknown - 393s 611ms/step - loss: 0.1487 - mae: 0.1766"
     ]
    },
    {
     "name": "stderr",
     "output_type": "stream",
     "text": [
      "INFO:root:File 'IE00BP3QZD73.csv' loaded, 966 left\n"
     ]
    },
    {
     "name": "stdout",
     "output_type": "stream",
     "text": [
      "    625/Unknown - 394s 611ms/step - loss: 0.1485 - mae: 0.1765"
     ]
    },
    {
     "name": "stderr",
     "output_type": "stream",
     "text": [
      "INFO:root:File 'IE00BCRY5Y77.csv' loaded, 965 left\n"
     ]
    },
    {
     "name": "stdout",
     "output_type": "stream",
     "text": [
      "    628/Unknown - 396s 611ms/step - loss: 0.1481 - mae: 0.1763"
     ]
    },
    {
     "name": "stderr",
     "output_type": "stream",
     "text": [
      "INFO:root:File 'LU1834986900.csv' loaded, 964 left\n"
     ]
    },
    {
     "name": "stdout",
     "output_type": "stream",
     "text": [
      "    636/Unknown - 401s 611ms/step - loss: 0.1472 - mae: 0.1761"
     ]
    },
    {
     "name": "stderr",
     "output_type": "stream",
     "text": [
      "INFO:root:File 'IE00B3YCGJ38.csv' loaded, 963 left\n"
     ]
    },
    {
     "name": "stdout",
     "output_type": "stream",
     "text": [
      "    645/Unknown - 406s 610ms/step - loss: 0.1463 - mae: 0.1759"
     ]
    },
    {
     "name": "stderr",
     "output_type": "stream",
     "text": [
      "INFO:root:File 'DE000ETF7011.csv' loaded, 962 left\n"
     ]
    },
    {
     "name": "stdout",
     "output_type": "stream",
     "text": [
      "    652/Unknown - 410s 610ms/step - loss: 0.1456 - mae: 0.1756"
     ]
    },
    {
     "name": "stderr",
     "output_type": "stream",
     "text": [
      "INFO:root:File 'IE00BYXG2H39.csv' loaded, 961 left\n"
     ]
    },
    {
     "name": "stdout",
     "output_type": "stream",
     "text": [
      "    671/Unknown - 420s 608ms/step - loss: 0.1437 - mae: 0.1747"
     ]
    },
    {
     "name": "stderr",
     "output_type": "stream",
     "text": [
      "INFO:root:File 'IE00B5MJYX09.csv' loaded, 960 left\n"
     ]
    },
    {
     "name": "stdout",
     "output_type": "stream",
     "text": [
      "    678/Unknown - 424s 607ms/step - loss: 0.1429 - mae: 0.1744"
     ]
    },
    {
     "name": "stderr",
     "output_type": "stream",
     "text": [
      "INFO:root:File 'IE00B3VTMJ91.csv' loaded, 959 left\n"
     ]
    },
    {
     "name": "stdout",
     "output_type": "stream",
     "text": [
      "    682/Unknown - 426s 607ms/step - loss: 0.1424 - mae: 0.1741"
     ]
    },
    {
     "name": "stderr",
     "output_type": "stream",
     "text": [
      "INFO:root:File 'LU2082997359.csv' loaded, 958 left\n"
     ]
    },
    {
     "name": "stdout",
     "output_type": "stream",
     "text": [
      "    683/Unknown - 427s 608ms/step - loss: 0.1423 - mae: 0.1740"
     ]
    },
    {
     "name": "stderr",
     "output_type": "stream",
     "text": [
      "INFO:root:File 'LU1781541179.csv' loaded, 957 left\n"
     ]
    },
    {
     "name": "stdout",
     "output_type": "stream",
     "text": [
      "    686/Unknown - 429s 608ms/step - loss: 0.1419 - mae: 0.1739"
     ]
    },
    {
     "name": "stderr",
     "output_type": "stream",
     "text": [
      "INFO:root:File 'IE00BYZK4776.csv' loaded, 956 left\n"
     ]
    },
    {
     "name": "stdout",
     "output_type": "stream",
     "text": [
      "    695/Unknown - 434s 607ms/step - loss: 0.1408 - mae: 0.1734"
     ]
    },
    {
     "name": "stderr",
     "output_type": "stream",
     "text": [
      "INFO:root:File 'IE00B8GKDB10.csv' loaded, 955 left\n"
     ]
    },
    {
     "name": "stdout",
     "output_type": "stream",
     "text": [
      "    708/Unknown - 441s 606ms/step - loss: 0.1399 - mae: 0.1733"
     ]
    },
    {
     "name": "stderr",
     "output_type": "stream",
     "text": [
      "INFO:root:File 'DE000A0H08H3.csv' loaded, 954 left\n"
     ]
    },
    {
     "name": "stdout",
     "output_type": "stream",
     "text": [
      "    710/Unknown - 443s 607ms/step - loss: 0.1396 - mae: 0.1731"
     ]
    },
    {
     "name": "stderr",
     "output_type": "stream",
     "text": [
      "INFO:root:File 'LU0832435464.csv' loaded, 953 left\n"
     ]
    },
    {
     "name": "stdout",
     "output_type": "stream",
     "text": [
      "    721/Unknown - 449s 606ms/step - loss: 0.1396 - mae: 0.1733"
     ]
    },
    {
     "name": "stderr",
     "output_type": "stream",
     "text": [
      "INFO:root:File 'IE00BYX5K108.csv' loaded, 952 left\n"
     ]
    },
    {
     "name": "stdout",
     "output_type": "stream",
     "text": [
      "    722/Unknown - 450s 606ms/step - loss: 0.1395 - mae: 0.1733"
     ]
    },
    {
     "name": "stderr",
     "output_type": "stream",
     "text": [
      "INFO:root:File 'IE00B6YX5C33.csv' loaded, 951 left\n"
     ]
    },
    {
     "name": "stdout",
     "output_type": "stream",
     "text": [
      "    736/Unknown - 458s 605ms/step - loss: 0.1403 - mae: 0.1738"
     ]
    },
    {
     "name": "stderr",
     "output_type": "stream",
     "text": [
      "INFO:root:File 'DE000A0F5UK5.csv' loaded, 950 left\n"
     ]
    },
    {
     "name": "stdout",
     "output_type": "stream",
     "text": [
      "    748/Unknown - 464s 605ms/step - loss: 0.1410 - mae: 0.1746"
     ]
    },
    {
     "name": "stderr",
     "output_type": "stream",
     "text": [
      "INFO:root:File 'LU1781540957.csv' loaded, 949 left\n"
     ]
    },
    {
     "name": "stdout",
     "output_type": "stream",
     "text": [
      "    750/Unknown - 466s 605ms/step - loss: 0.1408 - mae: 0.1746"
     ]
    },
    {
     "name": "stderr",
     "output_type": "stream",
     "text": [
      "INFO:root:File 'IE00BQQP9F84.csv' loaded, 948 left\n"
     ]
    },
    {
     "name": "stdout",
     "output_type": "stream",
     "text": [
      "    753/Unknown - 468s 605ms/step - loss: 0.1434 - mae: 0.1752"
     ]
    },
    {
     "name": "stderr",
     "output_type": "stream",
     "text": [
      "INFO:root:File 'IE00BFXR5W90.csv' loaded, 947 left\n"
     ]
    },
    {
     "name": "stdout",
     "output_type": "stream",
     "text": [
      "    755/Unknown - 469s 605ms/step - loss: 0.1447 - mae: 0.1758"
     ]
    },
    {
     "name": "stderr",
     "output_type": "stream",
     "text": [
      "INFO:root:File 'IE00B0M62Q58.csv' loaded, 946 left\n"
     ]
    },
    {
     "name": "stdout",
     "output_type": "stream",
     "text": [
      "    769/Unknown - 477s 605ms/step - loss: 0.1457 - mae: 0.1770"
     ]
    },
    {
     "name": "stderr",
     "output_type": "stream",
     "text": [
      "INFO:root:File 'IE00BG0J4841.csv' loaded, 945 left\n"
     ]
    },
    {
     "name": "stdout",
     "output_type": "stream",
     "text": [
      "    775/Unknown - 480s 604ms/step - loss: 0.1502 - mae: 0.1784"
     ]
    },
    {
     "name": "stderr",
     "output_type": "stream",
     "text": [
      "INFO:root:File 'IE00B6TLBW47.csv' loaded, 944 left\n"
     ]
    },
    {
     "name": "stdout",
     "output_type": "stream",
     "text": [
      "    777/Unknown - 482s 605ms/step - loss: 0.1502 - mae: 0.1784"
     ]
    },
    {
     "name": "stderr",
     "output_type": "stream",
     "text": [
      "INFO:root:File 'IE00B3VPKB53.csv' loaded, 943 left\n"
     ]
    },
    {
     "name": "stdout",
     "output_type": "stream",
     "text": [
      "    783/Unknown - 485s 605ms/step - loss: 0.1527 - mae: 0.1792"
     ]
    },
    {
     "name": "stderr",
     "output_type": "stream",
     "text": [
      "INFO:root:File 'IE00BYTRRC02.csv' loaded, 942 left\n"
     ]
    },
    {
     "name": "stdout",
     "output_type": "stream",
     "text": [
      "    792/Unknown - 491s 604ms/step - loss: 0.1522 - mae: 0.1794"
     ]
    },
    {
     "name": "stderr",
     "output_type": "stream",
     "text": [
      "INFO:root:File 'LU1681041890.csv' loaded, 941 left\n"
     ]
    },
    {
     "name": "stdout",
     "output_type": "stream",
     "text": [
      "    794/Unknown - 492s 604ms/step - loss: 0.1519 - mae: 0.1792"
     ]
    },
    {
     "name": "stderr",
     "output_type": "stream",
     "text": [
      "INFO:root:File 'IE00BHXMHL11.csv' loaded, 940 left\n"
     ]
    },
    {
     "name": "stdout",
     "output_type": "stream",
     "text": [
      "    815/Unknown - 503s 603ms/step - loss: 0.1509 - mae: 0.1793"
     ]
    },
    {
     "name": "stderr",
     "output_type": "stream",
     "text": [
      "INFO:root:File 'IE00BKM4H197.csv' loaded, 939 left\n"
     ]
    },
    {
     "name": "stdout",
     "output_type": "stream",
     "text": [
      "    821/Unknown - 507s 603ms/step - loss: 0.1693 - mae: 0.1806"
     ]
    },
    {
     "name": "stderr",
     "output_type": "stream",
     "text": [
      "INFO:root:File 'IE00B1FZS244.csv' loaded, 938 left\n"
     ]
    },
    {
     "name": "stdout",
     "output_type": "stream",
     "text": [
      "    825/Unknown - 509s 603ms/step - loss: 0.1688 - mae: 0.1804"
     ]
    },
    {
     "name": "stderr",
     "output_type": "stream",
     "text": [
      "INFO:root:File 'LU1804202403.csv' loaded, 937 left\n"
     ]
    },
    {
     "name": "stdout",
     "output_type": "stream",
     "text": [
      "    830/Unknown - 512s 603ms/step - loss: 0.1685 - mae: 0.1805"
     ]
    },
    {
     "name": "stderr",
     "output_type": "stream",
     "text": [
      "INFO:root:File 'IE00B4YBJ215.csv' loaded, 936 left\n"
     ]
    },
    {
     "name": "stdout",
     "output_type": "stream",
     "text": [
      "    836/Unknown - 516s 603ms/step - loss: 0.1692 - mae: 0.1811"
     ]
    },
    {
     "name": "stderr",
     "output_type": "stream",
     "text": [
      "INFO:root:File 'IE00B3VWN179.csv' loaded, 935 left\n"
     ]
    },
    {
     "name": "stdout",
     "output_type": "stream",
     "text": [
      "    851/Unknown - 524s 602ms/step - loss: 0.1680 - mae: 0.1812"
     ]
    },
    {
     "name": "stderr",
     "output_type": "stream",
     "text": [
      "INFO:root:File 'IE00B02KXL92.csv' loaded, 934 left\n",
      "INFO:root:File 'LU1681045370.csv' loaded, 933 left\n"
     ]
    },
    {
     "name": "stdout",
     "output_type": "stream",
     "text": [
      "    853/Unknown - 526s 602ms/step - loss: 0.1677 - mae: 0.1812"
     ]
    },
    {
     "name": "stderr",
     "output_type": "stream",
     "text": [
      "INFO:root:File 'LU1659681669.csv' loaded, 932 left\n",
      "INFO:root:File 'IE00B459R192.csv' loaded, 931 left\n"
     ]
    },
    {
     "name": "stdout",
     "output_type": "stream",
     "text": [
      "    864/Unknown - 532s 602ms/step - loss: 0.1664 - mae: 0.1809"
     ]
    },
    {
     "name": "stderr",
     "output_type": "stream",
     "text": [
      "INFO:root:File 'IE00B6R51Z18.csv' loaded, 930 left\n"
     ]
    },
    {
     "name": "stdout",
     "output_type": "stream",
     "text": [
      "    882/Unknown - 542s 601ms/step - loss: 0.1677 - mae: 0.1819"
     ]
    },
    {
     "name": "stderr",
     "output_type": "stream",
     "text": [
      "INFO:root:File 'IE00B02KXK85.csv' loaded, 929 left\n"
     ]
    },
    {
     "name": "stdout",
     "output_type": "stream",
     "text": [
      "    892/Unknown - 548s 601ms/step - loss: 0.1672 - mae: 0.1820"
     ]
    },
    {
     "name": "stderr",
     "output_type": "stream",
     "text": [
      "INFO:root:File 'NL0009690254.csv' loaded, 928 left\n"
     ]
    },
    {
     "name": "stdout",
     "output_type": "stream",
     "text": [
      "    913/Unknown - 559s 599ms/step - loss: 0.1677 - mae: 0.1826"
     ]
    },
    {
     "name": "stderr",
     "output_type": "stream",
     "text": [
      "INFO:root:File 'LU1681043599.csv' loaded, 927 left\n",
      "INFO:root:File 'IE00BHZPJ346.csv' loaded, 926 left\n"
     ]
    },
    {
     "name": "stdout",
     "output_type": "stream",
     "text": [
      "    919/Unknown - 563s 600ms/step - loss: 0.1676 - mae: 0.1826"
     ]
    },
    {
     "name": "stderr",
     "output_type": "stream",
     "text": [
      "INFO:root:File 'IE00BWBXMB69.csv' loaded, 925 left\n",
      "INFO:root:File 'IE00B3CNHJ55.csv' loaded, 924 left\n"
     ]
    },
    {
     "name": "stdout",
     "output_type": "stream",
     "text": [
      "    928/Unknown - 569s 600ms/step - loss: 0.1674 - mae: 0.1828"
     ]
    },
    {
     "name": "stderr",
     "output_type": "stream",
     "text": [
      "INFO:root:File 'LU2250132763.csv' loaded, 923 left\n"
     ]
    },
    {
     "name": "stdout",
     "output_type": "stream",
     "text": [
      "    935/Unknown - 573s 600ms/step - loss: 0.1665 - mae: 0.1825"
     ]
    },
    {
     "name": "stderr",
     "output_type": "stream",
     "text": [
      "INFO:root:File 'IE00BYTRR863.csv' loaded, 922 left\n"
     ]
    },
    {
     "name": "stdout",
     "output_type": "stream",
     "text": [
      "    938/Unknown - 575s 600ms/step - loss: 0.1664 - mae: 0.1826"
     ]
    },
    {
     "name": "stderr",
     "output_type": "stream",
     "text": [
      "INFO:root:File 'IE00BFNM3D14.csv' loaded, 921 left\n"
     ]
    },
    {
     "name": "stdout",
     "output_type": "stream",
     "text": [
      "    954/Unknown - 583s 599ms/step - loss: 0.1651 - mae: 0.1824"
     ]
    },
    {
     "name": "stderr",
     "output_type": "stream",
     "text": [
      "INFO:root:File 'LU1681047319.csv' loaded, 920 left\n"
     ]
    },
    {
     "name": "stdout",
     "output_type": "stream",
     "text": [
      "    960/Unknown - 587s 599ms/step - loss: 0.1655 - mae: 0.1828"
     ]
    },
    {
     "name": "stderr",
     "output_type": "stream",
     "text": [
      "INFO:root:File 'IE00B78JSG98.csv' loaded, 919 left\n"
     ]
    },
    {
     "name": "stdout",
     "output_type": "stream",
     "text": [
      "    962/Unknown - 588s 599ms/step - loss: 0.1655 - mae: 0.1828"
     ]
    },
    {
     "name": "stderr",
     "output_type": "stream",
     "text": [
      "INFO:root:File 'LU0629460832.csv' loaded, 918 left\n",
      "INFO:root:File 'IE00BYV1YH46.csv' loaded, 917 left\n"
     ]
    },
    {
     "name": "stdout",
     "output_type": "stream",
     "text": [
      "    973/Unknown - 595s 599ms/step - loss: 0.1765 - mae: 0.1841"
     ]
    },
    {
     "name": "stderr",
     "output_type": "stream",
     "text": [
      "INFO:root:File 'LU0136234654.csv' loaded, 916 left\n"
     ]
    },
    {
     "name": "stdout",
     "output_type": "stream",
     "text": [
      "    986/Unknown - 602s 599ms/step - loss: 0.1759 - mae: 0.1845"
     ]
    },
    {
     "name": "stderr",
     "output_type": "stream",
     "text": [
      "INFO:root:File 'LU1829219390.csv' loaded, 915 left\n"
     ]
    },
    {
     "name": "stdout",
     "output_type": "stream",
     "text": [
      "    991/Unknown - 605s 599ms/step - loss: 0.1754 - mae: 0.1843"
     ]
    },
    {
     "name": "stderr",
     "output_type": "stream",
     "text": [
      "INFO:root:File 'LU2082997516.csv' loaded, 914 left\n",
      "INFO:root:File 'IE00B27YCF74.csv' loaded, 913 left\n"
     ]
    },
    {
     "name": "stdout",
     "output_type": "stream",
     "text": [
      "   1000/Unknown - 611s 599ms/step - loss: 0.1756 - mae: 0.1846"
     ]
    },
    {
     "name": "stderr",
     "output_type": "stream",
     "text": [
      "INFO:root:File 'DE000A0H08L5.csv' loaded, 912 left\n",
      "INFO:root:2023-03-14 08:02:34.519636\n",
      "INFO:root:Saved model to '/content/bigdata/chk/FPNWithAttention_2_ETF_Trained_GPU_64LB/cp_daily_valid_00_01000/model.h5'\n",
      "INFO:root:Saved optimizer config to '/content/bigdata/chk/FPNWithAttention_2_ETF_Trained_GPU_64LB/cp_daily_valid_00_01000/c.pickle'\n",
      "INFO:root:Saved optimizer weights to '/content/bigdata/chk/FPNWithAttention_2_ETF_Trained_GPU_64LB/cp_daily_valid_00_01000/w.pickle'\n",
      "INFO:root:Did a gc collect: 0\n"
     ]
    },
    {
     "name": "stdout",
     "output_type": "stream",
     "text": [
      "   1005/Unknown - 619s 604ms/step - loss: 0.1754 - mae: 0.1848"
     ]
    },
    {
     "name": "stderr",
     "output_type": "stream",
     "text": [
      "INFO:root:File 'IE00BYX2JD69.csv' loaded, 911 left\n"
     ]
    },
    {
     "name": "stdout",
     "output_type": "stream",
     "text": [
      "   1021/Unknown - 627s 603ms/step - loss: 0.1749 - mae: 0.1852"
     ]
    },
    {
     "name": "stderr",
     "output_type": "stream",
     "text": [
      "INFO:root:File 'IE00B6YX5B26.csv' loaded, 910 left\n"
     ]
    },
    {
     "name": "stdout",
     "output_type": "stream",
     "text": [
      "   1025/Unknown - 630s 603ms/step - loss: 0.1749 - mae: 0.1853"
     ]
    },
    {
     "name": "stderr",
     "output_type": "stream",
     "text": [
      "INFO:root:File 'IE00B5M4WH52.csv' loaded, 909 left\n"
     ]
    },
    {
     "name": "stdout",
     "output_type": "stream",
     "text": [
      "   1027/Unknown - 631s 603ms/step - loss: 0.1749 - mae: 0.1854"
     ]
    },
    {
     "name": "stderr",
     "output_type": "stream",
     "text": [
      "INFO:root:File 'DE000A0Q4R36.csv' loaded, 908 left\n"
     ]
    },
    {
     "name": "stdout",
     "output_type": "stream",
     "text": [
      "   1034/Unknown - 635s 603ms/step - loss: 0.1756 - mae: 0.1859"
     ]
    },
    {
     "name": "stderr",
     "output_type": "stream",
     "text": [
      "INFO:root:File 'IE00B3DKXQ41.csv' loaded, 907 left\n"
     ]
    },
    {
     "name": "stdout",
     "output_type": "stream",
     "text": [
      "   1038/Unknown - 638s 603ms/step - loss: 0.1755 - mae: 0.1860"
     ]
    },
    {
     "name": "stderr",
     "output_type": "stream",
     "text": [
      "INFO:root:File 'IE00BKWQ0N82.csv' loaded, 906 left\n"
     ]
    },
    {
     "name": "stdout",
     "output_type": "stream",
     "text": [
      "   1078/Unknown - 660s 601ms/step - loss: 0.1719 - mae: 0.1852"
     ]
    },
    {
     "name": "stderr",
     "output_type": "stream",
     "text": [
      "INFO:root:File 'IE00BDDRF478.csv' loaded, 905 left\n"
     ]
    },
    {
     "name": "stdout",
     "output_type": "stream",
     "text": [
      "   1084/Unknown - 663s 601ms/step - loss: 0.1712 - mae: 0.1848"
     ]
    },
    {
     "name": "stderr",
     "output_type": "stream",
     "text": [
      "INFO:root:File 'IE00B77D4428.csv' loaded, 904 left\n"
     ]
    },
    {
     "name": "stdout",
     "output_type": "stream",
     "text": [
      "   1085/Unknown - 664s 601ms/step - loss: 0.1710 - mae: 0.1848"
     ]
    },
    {
     "name": "stderr",
     "output_type": "stream",
     "text": [
      "INFO:root:File 'DE0002635273.csv' loaded, 903 left\n"
     ]
    },
    {
     "name": "stdout",
     "output_type": "stream",
     "text": [
      "   1091/Unknown - 668s 601ms/step - loss: 0.1705 - mae: 0.1846"
     ]
    },
    {
     "name": "stderr",
     "output_type": "stream",
     "text": [
      "INFO:root:File 'IE00BFNM3L97.csv' loaded, 902 left\n"
     ]
    },
    {
     "name": "stdout",
     "output_type": "stream",
     "text": [
      "   1094/Unknown - 670s 601ms/step - loss: 0.1702 - mae: 0.1845"
     ]
    },
    {
     "name": "stderr",
     "output_type": "stream",
     "text": [
      "INFO:root:File 'IE00B1W57M07.csv' loaded, 901 left\n"
     ]
    },
    {
     "name": "stdout",
     "output_type": "stream",
     "text": [
      "   1102/Unknown - 674s 601ms/step - loss: 0.1709 - mae: 0.1850"
     ]
    },
    {
     "name": "stderr",
     "output_type": "stream",
     "text": [
      "INFO:root:File 'DE000ETFL201.csv' loaded, 900 left\n"
     ]
    },
    {
     "name": "stdout",
     "output_type": "stream",
     "text": [
      "   1113/Unknown - 680s 601ms/step - loss: 0.1713 - mae: 0.1855"
     ]
    },
    {
     "name": "stderr",
     "output_type": "stream",
     "text": [
      "INFO:root:File 'IE00BDBRT036.csv' loaded, 899 left\n"
     ]
    },
    {
     "name": "stdout",
     "output_type": "stream",
     "text": [
      "   1115/Unknown - 682s 601ms/step - loss: 0.1711 - mae: 0.1854"
     ]
    },
    {
     "name": "stderr",
     "output_type": "stream",
     "text": [
      "INFO:root:File 'IE00BZ6V7883.csv' loaded, 898 left\n"
     ]
    },
    {
     "name": "stdout",
     "output_type": "stream",
     "text": [
      "   1117/Unknown - 683s 601ms/step - loss: 0.1709 - mae: 0.1853"
     ]
    },
    {
     "name": "stderr",
     "output_type": "stream",
     "text": [
      "INFO:root:File 'LU1602144575.csv' loaded, 897 left\n"
     ]
    },
    {
     "name": "stdout",
     "output_type": "stream",
     "text": [
      "   1145/Unknown - 699s 600ms/step - loss: 0.1691 - mae: 0.1851"
     ]
    },
    {
     "name": "stderr",
     "output_type": "stream",
     "text": [
      "INFO:root:File 'LU1681045024.csv' loaded, 896 left\n"
     ]
    },
    {
     "name": "stdout",
     "output_type": "stream",
     "text": [
      "   1146/Unknown - 699s 600ms/step - loss: 0.1690 - mae: 0.1851"
     ]
    },
    {
     "name": "stderr",
     "output_type": "stream",
     "text": [
      "INFO:root:File 'LU1287023185.csv' loaded, 895 left\n"
     ]
    },
    {
     "name": "stdout",
     "output_type": "stream",
     "text": [
      "   1150/Unknown - 702s 600ms/step - loss: 0.1845 - mae: 0.1861"
     ]
    },
    {
     "name": "stderr",
     "output_type": "stream",
     "text": [
      "INFO:root:File 'NL0009690239.csv' loaded, 894 left\n",
      "INFO:root:File 'IE0002PG6CA6.csv' loaded in retry loop, 893 left\n"
     ]
    },
    {
     "name": "stdout",
     "output_type": "stream",
     "text": [
      "   1152/Unknown - 704s 600ms/step - loss: 0.1843 - mae: 0.1860"
     ]
    },
    {
     "name": "stderr",
     "output_type": "stream",
     "text": [
      "INFO:root:File 'LU1681042609.csv' loaded, 892 left\n"
     ]
    },
    {
     "name": "stdout",
     "output_type": "stream",
     "text": [
      "   1157/Unknown - 707s 600ms/step - loss: 0.1839 - mae: 0.1860"
     ]
    },
    {
     "name": "stderr",
     "output_type": "stream",
     "text": [
      "INFO:root:File 'DE000ETF9090.csv' loaded, 891 left\n"
     ]
    },
    {
     "name": "stdout",
     "output_type": "stream",
     "text": [
      "   1172/Unknown - 715s 600ms/step - loss: 0.1827 - mae: 0.1859"
     ]
    },
    {
     "name": "stderr",
     "output_type": "stream",
     "text": [
      "INFO:root:File 'IE00B0M63516.csv' loaded, 890 left\n"
     ]
    },
    {
     "name": "stdout",
     "output_type": "stream",
     "text": [
      "   1181/Unknown - 720s 600ms/step - loss: 0.1821 - mae: 0.1859"
     ]
    },
    {
     "name": "stderr",
     "output_type": "stream",
     "text": [
      "INFO:root:File 'IE00BYTRRB94.csv' loaded, 889 left\n"
     ]
    },
    {
     "name": "stdout",
     "output_type": "stream",
     "text": [
      "   1183/Unknown - 722s 600ms/step - loss: 0.1822 - mae: 0.1859"
     ]
    },
    {
     "name": "stderr",
     "output_type": "stream",
     "text": [
      "INFO:root:File 'IE00BKWQ0H23.csv' loaded, 888 left\n"
     ]
    },
    {
     "name": "stdout",
     "output_type": "stream",
     "text": [
      "   1186/Unknown - 723s 600ms/step - loss: 0.1827 - mae: 0.1860"
     ]
    },
    {
     "name": "stderr",
     "output_type": "stream",
     "text": [
      "INFO:root:File 'IE00BMTX1Y45.csv' loaded, 887 left\n"
     ]
    },
    {
     "name": "stdout",
     "output_type": "stream",
     "text": [
      "   1198/Unknown - 730s 599ms/step - loss: 0.1837 - mae: 0.1866"
     ]
    },
    {
     "name": "stderr",
     "output_type": "stream",
     "text": [
      "INFO:root:File 'IE00BYXVGY31.csv' loaded, 886 left\n"
     ]
    },
    {
     "name": "stdout",
     "output_type": "stream",
     "text": [
      "   1212/Unknown - 738s 599ms/step - loss: 0.1826 - mae: 0.1864"
     ]
    },
    {
     "name": "stderr",
     "output_type": "stream",
     "text": [
      "INFO:root:File 'IE00BC7GZW19.csv' loaded, 885 left\n"
     ]
    },
    {
     "name": "stdout",
     "output_type": "stream",
     "text": [
      "   1218/Unknown - 741s 599ms/step - loss: 0.1821 - mae: 0.1863"
     ]
    },
    {
     "name": "stderr",
     "output_type": "stream",
     "text": [
      "INFO:root:File 'IE00BP2C1S34.csv' loaded, 884 left\n"
     ]
    },
    {
     "name": "stdout",
     "output_type": "stream",
     "text": [
      "   1219/Unknown - 742s 599ms/step - loss: 0.1820 - mae: 0.1862"
     ]
    },
    {
     "name": "stderr",
     "output_type": "stream",
     "text": [
      "INFO:root:File 'IE00B43QJJ40.csv' loaded, 883 left\n"
     ]
    },
    {
     "name": "stdout",
     "output_type": "stream",
     "text": [
      "   1221/Unknown - 743s 599ms/step - loss: 0.1818 - mae: 0.1862"
     ]
    },
    {
     "name": "stderr",
     "output_type": "stream",
     "text": [
      "/tmp/ipykernel_1242/1318332062.py:23: RuntimeWarning: divide by zero encountered in arctanh\n",
      "  _y = np.arctanh(_y)\n"
     ]
    },
    {
     "name": "stdout",
     "output_type": "stream",
     "text": [
      "   1224/Unknown - 745s 599ms/step - loss: 0.1816 - mae: 0.1861"
     ]
    },
    {
     "name": "stderr",
     "output_type": "stream",
     "text": [
      "INFO:root:File 'DE0002635299.csv' loaded, 882 left\n"
     ]
    },
    {
     "name": "stdout",
     "output_type": "stream",
     "text": [
      "   1226/Unknown - 746s 599ms/step - loss: 0.1814 - mae: 0.1860"
     ]
    },
    {
     "name": "stderr",
     "output_type": "stream",
     "text": [
      "INFO:root:File 'DE000A0H08G5.csv' loaded, 881 left\n"
     ]
    },
    {
     "name": "stdout",
     "output_type": "stream",
     "text": [
      "   1230/Unknown - 749s 599ms/step - loss: 0.1814 - mae: 0.1861"
     ]
    },
    {
     "name": "stderr",
     "output_type": "stream",
     "text": [
      "INFO:root:File 'IE00BFYN8Y92.csv' loaded in retry loop, 880 left\n"
     ]
    },
    {
     "name": "stdout",
     "output_type": "stream",
     "text": [
      "   1231/Unknown - 750s 599ms/step - loss: 0.1814 - mae: 0.1861"
     ]
    },
    {
     "name": "stderr",
     "output_type": "stream",
     "text": [
      "INFO:root:File 'LU1806495575.csv' loaded, 879 left\n"
     ]
    },
    {
     "name": "stdout",
     "output_type": "stream",
     "text": [
      "   1234/Unknown - 752s 599ms/step - loss: 0.1813 - mae: 0.1862"
     ]
    },
    {
     "name": "stderr",
     "output_type": "stream",
     "text": [
      "INFO:root:File 'IE00BKPT2S34.csv' loaded, 878 left\n"
     ]
    },
    {
     "name": "stdout",
     "output_type": "stream",
     "text": [
      "   1240/Unknown - 755s 599ms/step - loss: 0.1812 - mae: 0.1862"
     ]
    },
    {
     "name": "stderr",
     "output_type": "stream",
     "text": [
      "/tmp/ipykernel_1242/1318332062.py:23: RuntimeWarning: divide by zero encountered in arctanh\n",
      "  _y = np.arctanh(_y)\n"
     ]
    },
    {
     "name": "stdout",
     "output_type": "stream",
     "text": [
      "   1247/Unknown - 759s 599ms/step - loss: 0.1819 - mae: 0.1868"
     ]
    },
    {
     "name": "stderr",
     "output_type": "stream",
     "text": [
      "INFO:root:File 'IE00BG5J1M21.csv' loaded, 877 left\n"
     ]
    },
    {
     "name": "stdout",
     "output_type": "stream",
     "text": [
      "   1249/Unknown - 760s 599ms/step - loss: 0.1820 - mae: 0.1869"
     ]
    },
    {
     "name": "stderr",
     "output_type": "stream",
     "text": [
      "INFO:root:File 'IE00B66F4759.csv' loaded, 876 left\n"
     ]
    },
    {
     "name": "stdout",
     "output_type": "stream",
     "text": [
      "   1253/Unknown - 762s 599ms/step - loss: 0.1827 - mae: 0.1872"
     ]
    },
    {
     "name": "stderr",
     "output_type": "stream",
     "text": [
      "INFO:root:File 'IE00B44CGS96.csv' loaded, 875 left\n"
     ]
    },
    {
     "name": "stdout",
     "output_type": "stream",
     "text": [
      "   1258/Unknown - 765s 599ms/step - loss: 0.1829 - mae: 0.1875"
     ]
    },
    {
     "name": "stderr",
     "output_type": "stream",
     "text": [
      "INFO:root:File 'LU1280303014.csv' loaded, 874 left\n"
     ]
    },
    {
     "name": "stdout",
     "output_type": "stream",
     "text": [
      "   1264/Unknown - 769s 599ms/step - loss: 0.1839 - mae: 0.1879"
     ]
    },
    {
     "name": "stderr",
     "output_type": "stream",
     "text": [
      "INFO:root:File 'IE00BZ048462.csv' loaded, 873 left\n"
     ]
    },
    {
     "name": "stdout",
     "output_type": "stream",
     "text": [
      "   1265/Unknown - 770s 599ms/step - loss: 0.1838 - mae: 0.1879"
     ]
    },
    {
     "name": "stderr",
     "output_type": "stream",
     "text": [
      "INFO:root:File 'LU1737653714.csv' loaded, 872 left\n"
     ]
    },
    {
     "name": "stdout",
     "output_type": "stream",
     "text": [
      "   1270/Unknown - 773s 599ms/step - loss: 0.1832 - mae: 0.1876"
     ]
    },
    {
     "name": "stderr",
     "output_type": "stream",
     "text": [
      "INFO:root:File 'LU2023679090.csv' loaded, 871 left\n"
     ]
    },
    {
     "name": "stdout",
     "output_type": "stream",
     "text": [
      "   1285/Unknown - 781s 598ms/step - loss: 0.1824 - mae: 0.1873"
     ]
    },
    {
     "name": "stderr",
     "output_type": "stream",
     "text": [
      "INFO:root:File 'LU1900067940.csv' loaded, 870 left\n"
     ]
    },
    {
     "name": "stdout",
     "output_type": "stream",
     "text": [
      "   1293/Unknown - 785s 598ms/step - loss: 0.1818 - mae: 0.1872"
     ]
    },
    {
     "name": "stderr",
     "output_type": "stream",
     "text": [
      "INFO:root:File 'IE00BJ5JP212.csv' loaded, 869 left\n"
     ]
    },
    {
     "name": "stdout",
     "output_type": "stream",
     "text": [
      "   1295/Unknown - 787s 598ms/step - loss: 0.1817 - mae: 0.1871"
     ]
    },
    {
     "name": "stderr",
     "output_type": "stream",
     "text": [
      "INFO:root:File 'IE00BMDBMY19.csv' loaded, 868 left\n"
     ]
    },
    {
     "name": "stdout",
     "output_type": "stream",
     "text": [
      "   1298/Unknown - 789s 598ms/step - loss: 0.1818 - mae: 0.1873"
     ]
    },
    {
     "name": "stderr",
     "output_type": "stream",
     "text": [
      "INFO:root:File 'IE000BWKUES1.csv' loaded, 867 left\n"
     ]
    },
    {
     "name": "stdout",
     "output_type": "stream",
     "text": [
      "   1303/Unknown - 792s 598ms/step - loss: 0.1816 - mae: 0.1873"
     ]
    },
    {
     "name": "stderr",
     "output_type": "stream",
     "text": [
      "INFO:root:File 'DE000ETFL557.csv' loaded, 866 left\n"
     ]
    },
    {
     "name": "stdout",
     "output_type": "stream",
     "text": [
      "   1304/Unknown - 792s 598ms/step - loss: 0.1814 - mae: 0.1872"
     ]
    },
    {
     "name": "stderr",
     "output_type": "stream",
     "text": [
      "INFO:root:File 'IE00BD8PGZ49.csv' loaded, 865 left\n"
     ]
    },
    {
     "name": "stdout",
     "output_type": "stream",
     "text": [
      "   1311/Unknown - 796s 598ms/step - loss: 0.1810 - mae: 0.1872"
     ]
    },
    {
     "name": "stderr",
     "output_type": "stream",
     "text": [
      "INFO:root:File 'LU0252634307.csv' loaded, 864 left\n"
     ]
    },
    {
     "name": "stdout",
     "output_type": "stream",
     "text": [
      "   1317/Unknown - 800s 598ms/step - loss: 0.1812 - mae: 0.1874"
     ]
    },
    {
     "name": "stderr",
     "output_type": "stream",
     "text": [
      "INFO:root:File 'LU1829218822.csv' loaded, 863 left\n"
     ]
    },
    {
     "name": "stdout",
     "output_type": "stream",
     "text": [
      "   1318/Unknown - 801s 598ms/step - loss: 0.1811 - mae: 0.1874"
     ]
    },
    {
     "name": "stderr",
     "output_type": "stream",
     "text": [
      "INFO:root:File 'IE00BWBXM385.csv' loaded, 862 left\n"
     ]
    },
    {
     "name": "stdout",
     "output_type": "stream",
     "text": [
      "   1319/Unknown - 802s 599ms/step - loss: 0.1811 - mae: 0.1874"
     ]
    },
    {
     "name": "stderr",
     "output_type": "stream",
     "text": [
      "INFO:root:File 'LU2194447293.csv' loaded, 861 left\n"
     ]
    },
    {
     "name": "stdout",
     "output_type": "stream",
     "text": [
      "   1325/Unknown - 805s 599ms/step - loss: 0.1830 - mae: 0.1880"
     ]
    },
    {
     "name": "stderr",
     "output_type": "stream",
     "text": [
      "INFO:root:File 'IE00BSKRJX20.csv' loaded, 860 left\n"
     ]
    },
    {
     "name": "stdout",
     "output_type": "stream",
     "text": [
      "   1332/Unknown - 809s 598ms/step - loss: 0.1834 - mae: 0.1883"
     ]
    },
    {
     "name": "stderr",
     "output_type": "stream",
     "text": [
      "INFO:root:File 'IE00B23D9570.csv' loaded, 859 left\n"
     ]
    },
    {
     "name": "stdout",
     "output_type": "stream",
     "text": [
      "   1334/Unknown - 811s 599ms/step - loss: 0.1834 - mae: 0.1883"
     ]
    },
    {
     "name": "stderr",
     "output_type": "stream",
     "text": [
      "INFO:root:File 'IE00B4K6B022.csv' loaded, 858 left\n"
     ]
    },
    {
     "name": "stdout",
     "output_type": "stream",
     "text": [
      "   1342/Unknown - 815s 598ms/step - loss: 0.1834 - mae: 0.1885"
     ]
    },
    {
     "name": "stderr",
     "output_type": "stream",
     "text": [
      "INFO:root:File 'FR0010655712.csv' loaded, 857 left\n"
     ]
    },
    {
     "name": "stdout",
     "output_type": "stream",
     "text": [
      "   1360/Unknown - 825s 598ms/step - loss: 0.1823 - mae: 0.1883"
     ]
    },
    {
     "name": "stderr",
     "output_type": "stream",
     "text": [
      "INFO:root:File 'IE00B0M62Y33.csv' loaded, 856 left\n"
     ]
    },
    {
     "name": "stdout",
     "output_type": "stream",
     "text": [
      "   1370/Unknown - 831s 597ms/step - loss: 0.1822 - mae: 0.1887"
     ]
    },
    {
     "name": "stderr",
     "output_type": "stream",
     "text": [
      "INFO:root:File 'IE00BFNM3J75.csv' loaded, 855 left\n"
     ]
    },
    {
     "name": "stdout",
     "output_type": "stream",
     "text": [
      "   1378/Unknown - 835s 597ms/step - loss: 0.1824 - mae: 0.1889"
     ]
    },
    {
     "name": "stderr",
     "output_type": "stream",
     "text": [
      "INFO:root:File 'LU1033693638.csv' loaded, 854 left\n"
     ]
    },
    {
     "name": "stdout",
     "output_type": "stream",
     "text": [
      "   1392/Unknown - 843s 597ms/step - loss: 0.1820 - mae: 0.1891"
     ]
    },
    {
     "name": "stderr",
     "output_type": "stream",
     "text": [
      "INFO:root:File 'IE00BJSFR200.csv' loaded, 853 left\n"
     ]
    },
    {
     "name": "stdout",
     "output_type": "stream",
     "text": [
      "   1394/Unknown - 844s 597ms/step - loss: 0.1820 - mae: 0.1892"
     ]
    },
    {
     "name": "stderr",
     "output_type": "stream",
     "text": [
      "INFO:root:File 'LU2082998324.csv' loaded, 852 left\n"
     ]
    },
    {
     "name": "stdout",
     "output_type": "stream",
     "text": [
      "   1405/Unknown - 850s 597ms/step - loss: 0.1814 - mae: 0.1891"
     ]
    },
    {
     "name": "stderr",
     "output_type": "stream",
     "text": [
      "INFO:root:File 'LU2182388236.csv' loaded, 851 left\n"
     ]
    },
    {
     "name": "stdout",
     "output_type": "stream",
     "text": [
      "   1406/Unknown - 851s 597ms/step - loss: 0.1813 - mae: 0.1890"
     ]
    },
    {
     "name": "stderr",
     "output_type": "stream",
     "text": [
      "INFO:root:File 'IE00BDBRDM35.csv' loaded, 850 left\n"
     ]
    },
    {
     "name": "stdout",
     "output_type": "stream",
     "text": [
      "   1407/Unknown - 852s 597ms/step - loss: 0.1813 - mae: 0.1890"
     ]
    },
    {
     "name": "stderr",
     "output_type": "stream",
     "text": [
      "INFO:root:File 'DE0006289465.csv' loaded, 849 left\n"
     ]
    },
    {
     "name": "stdout",
     "output_type": "stream",
     "text": [
      "   1408/Unknown - 853s 597ms/step - loss: 0.1812 - mae: 0.1890"
     ]
    },
    {
     "name": "stderr",
     "output_type": "stream",
     "text": [
      "/tmp/ipykernel_1242/1318332062.py:23: RuntimeWarning: divide by zero encountered in arctanh\n",
      "  _y = np.arctanh(_y)\n"
     ]
    },
    {
     "name": "stdout",
     "output_type": "stream",
     "text": [
      "   1409/Unknown - 853s 597ms/step - loss: 0.1811 - mae: 0.1889"
     ]
    },
    {
     "name": "stderr",
     "output_type": "stream",
     "text": [
      "INFO:root:File 'IE00BKM4GZ66.csv' loaded, 848 left\n",
      "/tmp/ipykernel_1242/1318332062.py:23: RuntimeWarning: divide by zero encountered in arctanh\n",
      "  _y = np.arctanh(_y)\n"
     ]
    },
    {
     "name": "stdout",
     "output_type": "stream",
     "text": [
      "   1413/Unknown - 856s 597ms/step - loss: 0.1808 - mae: 0.1888"
     ]
    },
    {
     "name": "stderr",
     "output_type": "stream",
     "text": [
      "INFO:root:File 'LU2023678282.csv' loaded, 847 left\n"
     ]
    },
    {
     "name": "stdout",
     "output_type": "stream",
     "text": [
      "   1420/Unknown - 860s 597ms/step - loss: 0.1804 - mae: 0.1888"
     ]
    },
    {
     "name": "stderr",
     "output_type": "stream",
     "text": [
      "INFO:root:File 'IE00B53L4350.csv' loaded, 846 left\n"
     ]
    },
    {
     "name": "stdout",
     "output_type": "stream",
     "text": [
      "   1424/Unknown - 862s 597ms/step - loss: 0.1803 - mae: 0.1888"
     ]
    },
    {
     "name": "stderr",
     "output_type": "stream",
     "text": [
      "INFO:root:File 'IE00B53L3W79.csv' loaded, 845 left\n"
     ]
    },
    {
     "name": "stdout",
     "output_type": "stream",
     "text": [
      "   1428/Unknown - 865s 597ms/step - loss: 0.1799 - mae: 0.1887"
     ]
    },
    {
     "name": "stderr",
     "output_type": "stream",
     "text": [
      "INFO:root:File 'IE00B1XNH568.csv' loaded, 844 left\n"
     ]
    },
    {
     "name": "stdout",
     "output_type": "stream",
     "text": [
      "   1429/Unknown - 866s 597ms/step - loss: 0.1799 - mae: 0.1887"
     ]
    },
    {
     "name": "stderr",
     "output_type": "stream",
     "text": [
      "INFO:root:File 'IE00B27YCK28.csv' loaded, 843 left\n"
     ]
    },
    {
     "name": "stdout",
     "output_type": "stream",
     "text": [
      "   1435/Unknown - 869s 597ms/step - loss: 0.1809 - mae: 0.1892"
     ]
    },
    {
     "name": "stderr",
     "output_type": "stream",
     "text": [
      "INFO:root:File 'IE00BYVZV757.csv' loaded, 842 left\n"
     ]
    },
    {
     "name": "stdout",
     "output_type": "stream",
     "text": [
      "   1458/Unknown - 881s 596ms/step - loss: 0.1801 - mae: 0.1891"
     ]
    },
    {
     "name": "stderr",
     "output_type": "stream",
     "text": [
      "INFO:root:File 'LU1287022708.csv' loaded, 841 left\n",
      "INFO:root:File 'DE0002635307.csv' loaded, 840 left\n"
     ]
    },
    {
     "name": "stdout",
     "output_type": "stream",
     "text": [
      "   1462/Unknown - 884s 597ms/step - loss: 0.1798 - mae: 0.1891"
     ]
    },
    {
     "name": "stderr",
     "output_type": "stream",
     "text": [
      "INFO:root:File 'IE00B3WMTH43.csv' loaded, 839 left\n"
     ]
    },
    {
     "name": "stdout",
     "output_type": "stream",
     "text": [
      "   1493/Unknown - 901s 596ms/step - loss: 0.1846 - mae: 0.1900"
     ]
    },
    {
     "name": "stderr",
     "output_type": "stream",
     "text": [
      "INFO:root:File 'IE00B14X4N27.csv' loaded, 838 left\n"
     ]
    },
    {
     "name": "stdout",
     "output_type": "stream",
     "text": [
      "   1497/Unknown - 904s 596ms/step - loss: 0.1844 - mae: 0.1900"
     ]
    },
    {
     "name": "stderr",
     "output_type": "stream",
     "text": [
      "INFO:root:File 'IE00BHZRQY00.csv' loaded, 837 left\n"
     ]
    },
    {
     "name": "stdout",
     "output_type": "stream",
     "text": [
      "   1516/Unknown - 914s 595ms/step - loss: 0.1845 - mae: 0.1905"
     ]
    },
    {
     "name": "stderr",
     "output_type": "stream",
     "text": [
      "INFO:root:File 'IE00BMH5Y327.csv' loaded, 836 left\n",
      "INFO:root:File 'IE00B9F5YL18.csv' loaded, 835 left\n"
     ]
    },
    {
     "name": "stdout",
     "output_type": "stream",
     "text": [
      "   1518/Unknown - 916s 595ms/step - loss: 0.1843 - mae: 0.1904"
     ]
    },
    {
     "name": "stderr",
     "output_type": "stream",
     "text": [
      "INFO:root:File 'LU1291109293.csv' loaded, 834 left\n"
     ]
    },
    {
     "name": "stdout",
     "output_type": "stream",
     "text": [
      "   1520/Unknown - 917s 595ms/step - loss: 0.1843 - mae: 0.1904"
     ]
    },
    {
     "name": "stderr",
     "output_type": "stream",
     "text": [
      "INFO:root:File 'FR0010296061.csv' loaded, 833 left\n"
     ]
    },
    {
     "name": "stdout",
     "output_type": "stream",
     "text": [
      "   1522/Unknown - 919s 596ms/step - loss: 0.1841 - mae: 0.1904"
     ]
    },
    {
     "name": "stderr",
     "output_type": "stream",
     "text": [
      "INFO:root:File 'LU1681048804.csv' loaded, 832 left\n"
     ]
    },
    {
     "name": "stdout",
     "output_type": "stream",
     "text": [
      "   1536/Unknown - 926s 595ms/step - loss: 0.1832 - mae: 0.1902"
     ]
    },
    {
     "name": "stderr",
     "output_type": "stream",
     "text": [
      "INFO:root:File 'IE00BCBJG560.csv' loaded, 831 left\n",
      "INFO:root:File 'LU2206598109.csv' loaded, 830 left\n"
     ]
    },
    {
     "name": "stdout",
     "output_type": "stream",
     "text": [
      "   1546/Unknown - 932s 595ms/step - loss: 0.1825 - mae: 0.1900"
     ]
    },
    {
     "name": "stderr",
     "output_type": "stream",
     "text": [
      "INFO:root:File 'LU1900067601.csv' loaded, 829 left\n"
     ]
    },
    {
     "name": "stdout",
     "output_type": "stream",
     "text": [
      "   1557/Unknown - 939s 595ms/step - loss: 0.1822 - mae: 0.1901"
     ]
    },
    {
     "name": "stderr",
     "output_type": "stream",
     "text": [
      "INFO:root:File 'IE00BF59RX87.csv' loaded, 828 left\n"
     ]
    },
    {
     "name": "stdout",
     "output_type": "stream",
     "text": [
      "   1565/Unknown - 943s 595ms/step - loss: 0.1826 - mae: 0.1903"
     ]
    },
    {
     "name": "stderr",
     "output_type": "stream",
     "text": [
      "INFO:root:File 'IE00BKSBGV72.csv' loaded, 827 left\n"
     ]
    },
    {
     "name": "stdout",
     "output_type": "stream",
     "text": [
      "   1570/Unknown - 946s 595ms/step - loss: 0.1823 - mae: 0.1903"
     ]
    },
    {
     "name": "stderr",
     "output_type": "stream",
     "text": [
      "INFO:root:File 'IE00BF1QPL78.csv' loaded, 826 left\n"
     ]
    },
    {
     "name": "stdout",
     "output_type": "stream",
     "text": [
      "   1580/Unknown - 952s 595ms/step - loss: 0.1818 - mae: 0.1902"
     ]
    },
    {
     "name": "stderr",
     "output_type": "stream",
     "text": [
      "INFO:root:File 'DE0005933972.csv' loaded, 825 left\n",
      "INFO:root:File 'IE00B7KQ7B66.csv' loaded, 824 left\n"
     ]
    },
    {
     "name": "stdout",
     "output_type": "stream",
     "text": [
      "   1588/Unknown - 957s 595ms/step - loss: 0.1831 - mae: 0.1907"
     ]
    },
    {
     "name": "stderr",
     "output_type": "stream",
     "text": [
      "INFO:root:File 'LU2082996385.csv' loaded, 823 left\n",
      "INFO:root:File 'IE00B1TXHL60.csv' loaded, 822 left\n"
     ]
    },
    {
     "name": "stdout",
     "output_type": "stream",
     "text": [
      "   1594/Unknown - 961s 595ms/step - loss: 0.1834 - mae: 0.1910"
     ]
    },
    {
     "name": "stderr",
     "output_type": "stream",
     "text": [
      "INFO:root:File 'LU1805389258.csv' loaded, 821 left\n"
     ]
    },
    {
     "name": "stdout",
     "output_type": "stream",
     "text": [
      "   1598/Unknown - 963s 595ms/step - loss: 0.1845 - mae: 0.1914"
     ]
    },
    {
     "name": "stderr",
     "output_type": "stream",
     "text": [
      "INFO:root:File 'IE00BKY40J65.csv' loaded, 820 left\n"
     ]
    },
    {
     "name": "stdout",
     "output_type": "stream",
     "text": [
      "   1602/Unknown - 965s 595ms/step - loss: 0.1846 - mae: 0.1915"
     ]
    },
    {
     "name": "stderr",
     "output_type": "stream",
     "text": [
      "INFO:root:File 'IE00B1FZSC47.csv' loaded, 819 left\n"
     ]
    },
    {
     "name": "stdout",
     "output_type": "stream",
     "text": [
      "   1613/Unknown - 972s 595ms/step - loss: 0.1841 - mae: 0.1915"
     ]
    },
    {
     "name": "stderr",
     "output_type": "stream",
     "text": [
      "INFO:root:File 'DE000ETFL383.csv' loaded, 818 left\n"
     ]
    },
    {
     "name": "stdout",
     "output_type": "stream",
     "text": [
      "   1616/Unknown - 974s 595ms/step - loss: 0.1842 - mae: 0.1915"
     ]
    },
    {
     "name": "stderr",
     "output_type": "stream",
     "text": [
      "INFO:root:File 'IE000QUOSE01.csv' loaded, 817 left\n"
     ]
    },
    {
     "name": "stdout",
     "output_type": "stream",
     "text": [
      "   1618/Unknown - 975s 595ms/step - loss: 0.1945 - mae: 0.1923"
     ]
    },
    {
     "name": "stderr",
     "output_type": "stream",
     "text": [
      "INFO:root:File 'IE00BFD2H405.csv' loaded, 816 left\n"
     ]
    },
    {
     "name": "stdout",
     "output_type": "stream",
     "text": [
      "   1620/Unknown - 976s 595ms/step - loss: 0.1947 - mae: 0.1923"
     ]
    },
    {
     "name": "stderr",
     "output_type": "stream",
     "text": [
      "INFO:root:File 'LU0908501058.csv' loaded, 815 left\n"
     ]
    },
    {
     "name": "stdout",
     "output_type": "stream",
     "text": [
      "   1640/Unknown - 987s 595ms/step - loss: 0.1948 - mae: 0.1929"
     ]
    },
    {
     "name": "stderr",
     "output_type": "stream",
     "text": [
      "INFO:root:File 'FR0010869495.csv' loaded, 814 left\n",
      "INFO:root:File 'IE00BYZK4883.csv' loaded, 813 left\n"
     ]
    },
    {
     "name": "stdout",
     "output_type": "stream",
     "text": [
      "   1641/Unknown - 988s 595ms/step - loss: 0.1947 - mae: 0.1928"
     ]
    },
    {
     "name": "stderr",
     "output_type": "stream",
     "text": [
      "INFO:root:File 'IE00B23D8X81.csv' loaded, 812 left\n"
     ]
    },
    {
     "name": "stdout",
     "output_type": "stream",
     "text": [
      "   1675/Unknown - 1006s 594ms/step - loss: 0.1972 - mae: 0.1942"
     ]
    },
    {
     "name": "stderr",
     "output_type": "stream",
     "text": [
      "INFO:root:File 'IE00B1FZS681.csv' loaded, 811 left\n"
     ]
    },
    {
     "name": "stdout",
     "output_type": "stream",
     "text": [
      "   1676/Unknown - 1007s 594ms/step - loss: 0.1971 - mae: 0.1942"
     ]
    },
    {
     "name": "stderr",
     "output_type": "stream",
     "text": [
      "INFO:root:File 'LU1650492173.csv' loaded, 810 left\n"
     ]
    },
    {
     "name": "stdout",
     "output_type": "stream",
     "text": [
      "   1678/Unknown - 1009s 594ms/step - loss: 0.1971 - mae: 0.1942"
     ]
    },
    {
     "name": "stderr",
     "output_type": "stream",
     "text": [
      "INFO:root:File 'IE00BD4TXV59.csv' loaded, 809 left\n"
     ]
    },
    {
     "name": "stdout",
     "output_type": "stream",
     "text": [
      "   1680/Unknown - 1010s 594ms/step - loss: 0.1970 - mae: 0.1942"
     ]
    },
    {
     "name": "stderr",
     "output_type": "stream",
     "text": [
      "INFO:root:File 'LU1681040900.csv' loaded, 808 left\n"
     ]
    },
    {
     "name": "stdout",
     "output_type": "stream",
     "text": [
      "   1693/Unknown - 1017s 594ms/step - loss: 0.2042 - mae: 0.1949"
     ]
    },
    {
     "name": "stderr",
     "output_type": "stream",
     "text": [
      "INFO:root:File 'IE00B14X4S71.csv' loaded, 807 left\n"
     ]
    },
    {
     "name": "stdout",
     "output_type": "stream",
     "text": [
      "   1698/Unknown - 1020s 594ms/step - loss: 0.2039 - mae: 0.1948"
     ]
    },
    {
     "name": "stderr",
     "output_type": "stream",
     "text": [
      "INFO:root:File 'IE00BF541080.csv' loaded, 806 left\n"
     ]
    },
    {
     "name": "stdout",
     "output_type": "stream",
     "text": [
      "   1704/Unknown - 1024s 594ms/step - loss: 0.2040 - mae: 0.1949"
     ]
    },
    {
     "name": "stderr",
     "output_type": "stream",
     "text": [
      "INFO:root:File 'IE00B1FZSD53.csv' loaded, 805 left\n"
     ]
    },
    {
     "name": "stdout",
     "output_type": "stream",
     "text": [
      "   1713/Unknown - 1029s 594ms/step - loss: 0.2033 - mae: 0.1946"
     ]
    },
    {
     "name": "stderr",
     "output_type": "stream",
     "text": [
      "INFO:root:File 'LU0446734872.csv' loaded, 804 left\n"
     ]
    },
    {
     "name": "stdout",
     "output_type": "stream",
     "text": [
      "   1724/Unknown - 1035s 593ms/step - loss: 0.2025 - mae: 0.1943"
     ]
    },
    {
     "name": "stderr",
     "output_type": "stream",
     "text": [
      "INFO:root:File 'IE00B52XQP83.csv' loaded, 803 left\n"
     ]
    },
    {
     "name": "stdout",
     "output_type": "stream",
     "text": [
      "   1725/Unknown - 1036s 594ms/step - loss: 0.2024 - mae: 0.1943"
     ]
    },
    {
     "name": "stderr",
     "output_type": "stream",
     "text": [
      "INFO:root:File 'IE00BYYXBF44.csv' loaded, 802 left\n"
     ]
    },
    {
     "name": "stdout",
     "output_type": "stream",
     "text": [
      "   1727/Unknown - 1037s 594ms/step - loss: 0.2030 - mae: 0.1944"
     ]
    },
    {
     "name": "stderr",
     "output_type": "stream",
     "text": [
      "INFO:root:File 'LU2082999132.csv' loaded, 801 left\n"
     ]
    },
    {
     "name": "stdout",
     "output_type": "stream",
     "text": [
      "   1740/Unknown - 1044s 593ms/step - loss: 0.2019 - mae: 0.1939"
     ]
    },
    {
     "name": "stderr",
     "output_type": "stream",
     "text": [
      "INFO:root:File 'LU1650488817.csv' loaded, 800 left\n"
     ]
    },
    {
     "name": "stdout",
     "output_type": "stream",
     "text": [
      "   1753/Unknown - 1051s 593ms/step - loss: 0.2011 - mae: 0.1938"
     ]
    },
    {
     "name": "stderr",
     "output_type": "stream",
     "text": [
      "INFO:root:File 'IE000W95TAE6.csv' loaded, 799 left\n"
     ]
    },
    {
     "name": "stdout",
     "output_type": "stream",
     "text": [
      "   1758/Unknown - 1054s 593ms/step - loss: 0.2007 - mae: 0.1938"
     ]
    },
    {
     "name": "stderr",
     "output_type": "stream",
     "text": [
      "INFO:root:File 'LU2182388582.csv' loaded, 798 left\n"
     ]
    },
    {
     "name": "stdout",
     "output_type": "stream",
     "text": [
      "   1763/Unknown - 1057s 593ms/step - loss: 0.2005 - mae: 0.1937"
     ]
    },
    {
     "name": "stderr",
     "output_type": "stream",
     "text": [
      "INFO:root:File 'IE00BH4GR342.csv' loaded, 797 left\n"
     ]
    },
    {
     "name": "stdout",
     "output_type": "stream",
     "text": [
      "   1766/Unknown - 1059s 593ms/step - loss: 0.2003 - mae: 0.1936"
     ]
    },
    {
     "name": "stderr",
     "output_type": "stream",
     "text": [
      "INFO:root:File 'IE00B02KXM00.csv' loaded in retry loop, 796 left\n"
     ]
    },
    {
     "name": "stdout",
     "output_type": "stream",
     "text": [
      "   1767/Unknown - 1060s 593ms/step - loss: 0.2002 - mae: 0.1936"
     ]
    },
    {
     "name": "stderr",
     "output_type": "stream",
     "text": [
      "INFO:root:File 'IE00BFNM3K80.csv' loaded, 795 left\n"
     ]
    },
    {
     "name": "stdout",
     "output_type": "stream",
     "text": [
      "   1772/Unknown - 1063s 593ms/step - loss: 0.2000 - mae: 0.1936"
     ]
    },
    {
     "name": "stderr",
     "output_type": "stream",
     "text": [
      "INFO:root:File 'IE00B99FL386.csv' loaded, 794 left\n"
     ]
    },
    {
     "name": "stdout",
     "output_type": "stream",
     "text": [
      "   1781/Unknown - 1068s 593ms/step - loss: 0.1995 - mae: 0.1936"
     ]
    },
    {
     "name": "stderr",
     "output_type": "stream",
     "text": [
      "INFO:root:File 'IE00BQN1K901.csv' loaded, 793 left\n"
     ]
    },
    {
     "name": "stdout",
     "output_type": "stream",
     "text": [
      "   1788/Unknown - 1072s 593ms/step - loss: 0.1994 - mae: 0.1936"
     ]
    },
    {
     "name": "stderr",
     "output_type": "stream",
     "text": [
      "INFO:root:File 'IE00BDR55927.csv' loaded, 792 left\n",
      "INFO:root:File 'LU1650491282.csv' loaded, 791 left\n"
     ]
    },
    {
     "name": "stdout",
     "output_type": "stream",
     "text": [
      "   1791/Unknown - 1074s 593ms/step - loss: 0.1993 - mae: 0.1936"
     ]
    },
    {
     "name": "stderr",
     "output_type": "stream",
     "text": [
      "INFO:root:File 'LU1681038672.csv' loaded, 790 left\n"
     ]
    },
    {
     "name": "stdout",
     "output_type": "stream",
     "text": [
      "   1796/Unknown - 1077s 593ms/step - loss: 0.1992 - mae: 0.1937"
     ]
    },
    {
     "name": "stderr",
     "output_type": "stream",
     "text": [
      "INFO:root:File 'DE000A0H08Q4.csv' loaded, 789 left\n"
     ]
    },
    {
     "name": "stdout",
     "output_type": "stream",
     "text": [
      "   1798/Unknown - 1079s 593ms/step - loss: 0.1990 - mae: 0.1936"
     ]
    },
    {
     "name": "stderr",
     "output_type": "stream",
     "text": [
      "INFO:root:File 'LU2008763935.csv' loaded, 788 left\n"
     ]
    },
    {
     "name": "stdout",
     "output_type": "stream",
     "text": [
      "   1815/Unknown - 1088s 593ms/step - loss: 0.1991 - mae: 0.1940"
     ]
    },
    {
     "name": "stderr",
     "output_type": "stream",
     "text": [
      "INFO:root:File 'IE00B5B5TG76.csv' loaded, 787 left\n"
     ]
    },
    {
     "name": "stdout",
     "output_type": "stream",
     "text": [
      "   1817/Unknown - 1089s 593ms/step - loss: 0.1990 - mae: 0.1939"
     ]
    },
    {
     "name": "stderr",
     "output_type": "stream",
     "text": [
      "INFO:root:File 'IE00B1FZS806.csv' loaded, 786 left\n"
     ]
    },
    {
     "name": "stdout",
     "output_type": "stream",
     "text": [
      "   1825/Unknown - 1094s 593ms/step - loss: 0.1985 - mae: 0.1938"
     ]
    },
    {
     "name": "stderr",
     "output_type": "stream",
     "text": [
      "INFO:root:File 'LU1437018838.csv' loaded, 785 left\n"
     ]
    },
    {
     "name": "stdout",
     "output_type": "stream",
     "text": [
      "   1826/Unknown - 1095s 593ms/step - loss: 0.1985 - mae: 0.1938"
     ]
    },
    {
     "name": "stderr",
     "output_type": "stream",
     "text": [
      "INFO:root:File 'IE000KDY10O3.csv' loaded, 784 left\n"
     ]
    },
    {
     "name": "stdout",
     "output_type": "stream",
     "text": [
      "   1831/Unknown - 1098s 593ms/step - loss: 0.1981 - mae: 0.1937"
     ]
    },
    {
     "name": "stderr",
     "output_type": "stream",
     "text": [
      "INFO:root:File 'LU0480132876.csv' loaded, 783 left\n"
     ]
    },
    {
     "name": "stdout",
     "output_type": "stream",
     "text": [
      "   1842/Unknown - 1104s 593ms/step - loss: 0.1977 - mae: 0.1936"
     ]
    },
    {
     "name": "stderr",
     "output_type": "stream",
     "text": [
      "INFO:root:File 'IE00B6X2VY59.csv' loaded, 782 left\n"
     ]
    },
    {
     "name": "stdout",
     "output_type": "stream",
     "text": [
      "   1860/Unknown - 1114s 592ms/step - loss: 0.1965 - mae: 0.1933"
     ]
    },
    {
     "name": "stderr",
     "output_type": "stream",
     "text": [
      "INFO:root:File 'DE000ETFL029.csv' loaded, 781 left\n"
     ]
    },
    {
     "name": "stdout",
     "output_type": "stream",
     "text": [
      "   1869/Unknown - 1119s 592ms/step - loss: 0.1960 - mae: 0.1931"
     ]
    },
    {
     "name": "stderr",
     "output_type": "stream",
     "text": [
      "INFO:root:File 'IE00BD9MMD49.csv' loaded, 780 left\n"
     ]
    },
    {
     "name": "stdout",
     "output_type": "stream",
     "text": [
      "   1889/Unknown - 1130s 592ms/step - loss: 0.1947 - mae: 0.1927"
     ]
    },
    {
     "name": "stderr",
     "output_type": "stream",
     "text": [
      "INFO:root:File 'IE000KPJJWM6.csv' loaded, 779 left\n",
      "WARNING:root:Batch size did not match the desired size, trying again: self.batch_size != _X_data.shape[0], 512 != 505\n",
      "INFO:root:File 'LU1681037864.csv' loaded in retry loop, 778 left\n",
      "INFO:root:File 'LU1650492256.csv' loaded, 777 left\n"
     ]
    },
    {
     "name": "stdout",
     "output_type": "stream",
     "text": [
      "   1894/Unknown - 1133s 592ms/step - loss: 0.1944 - mae: 0.1926"
     ]
    },
    {
     "name": "stderr",
     "output_type": "stream",
     "text": [
      "INFO:root:File 'LU1829219127.csv' loaded, 776 left\n"
     ]
    },
    {
     "name": "stdout",
     "output_type": "stream",
     "text": [
      "   1899/Unknown - 1136s 592ms/step - loss: 0.1941 - mae: 0.1926"
     ]
    },
    {
     "name": "stderr",
     "output_type": "stream",
     "text": [
      "INFO:root:File 'IE000M0ZXLY9.csv' loaded, 775 left\n",
      "INFO:root:File 'LU1563454823.csv' loaded, 774 left\n"
     ]
    },
    {
     "name": "stdout",
     "output_type": "stream",
     "text": [
      "   1901/Unknown - 1138s 592ms/step - loss: 0.1939 - mae: 0.1925"
     ]
    },
    {
     "name": "stderr",
     "output_type": "stream",
     "text": [
      "INFO:root:File 'IE00BWBXM500.csv' loaded, 773 left\n"
     ]
    },
    {
     "name": "stdout",
     "output_type": "stream",
     "text": [
      "   1907/Unknown - 1142s 592ms/step - loss: 0.1936 - mae: 0.1924"
     ]
    },
    {
     "name": "stderr",
     "output_type": "stream",
     "text": [
      "INFO:root:File 'IE00BYWQWR46.csv' loaded, 772 left\n"
     ]
    },
    {
     "name": "stdout",
     "output_type": "stream",
     "text": [
      "   1918/Unknown - 1148s 592ms/step - loss: 0.1932 - mae: 0.1924"
     ]
    },
    {
     "name": "stderr",
     "output_type": "stream",
     "text": [
      "INFO:root:File 'IE00BL0BMZ89.csv' loaded, 771 left\n"
     ]
    },
    {
     "name": "stdout",
     "output_type": "stream",
     "text": [
      "   1927/Unknown - 1153s 592ms/step - loss: 0.1952 - mae: 0.1928"
     ]
    },
    {
     "name": "stderr",
     "output_type": "stream",
     "text": [
      "INFO:root:File 'LU2037748345.csv' loaded, 770 left\n",
      "INFO:root:File 'LU2244387457.csv' loaded, 769 left\n"
     ]
    },
    {
     "name": "stdout",
     "output_type": "stream",
     "text": [
      "   1932/Unknown - 1156s 592ms/step - loss: 0.1974 - mae: 0.1930"
     ]
    },
    {
     "name": "stderr",
     "output_type": "stream",
     "text": [
      "INFO:root:File 'IE00BJ5JP329.csv' loaded, 768 left\n"
     ]
    },
    {
     "name": "stdout",
     "output_type": "stream",
     "text": [
      "   1938/Unknown - 1159s 592ms/step - loss: 0.1970 - mae: 0.1929"
     ]
    },
    {
     "name": "stderr",
     "output_type": "stream",
     "text": [
      "INFO:root:File 'IE0005042456.csv' loaded, 767 left\n",
      "INFO:root:File 'IE0001VXZTV7.csv' loaded, 766 left\n"
     ]
    },
    {
     "name": "stdout",
     "output_type": "stream",
     "text": [
      "   1939/Unknown - 1161s 592ms/step - loss: 0.1970 - mae: 0.1929"
     ]
    },
    {
     "name": "stderr",
     "output_type": "stream",
     "text": [
      "INFO:root:File 'DE000A0H08J9.csv' loaded, 765 left\n"
     ]
    },
    {
     "name": "stdout",
     "output_type": "stream",
     "text": [
      "   1943/Unknown - 1163s 592ms/step - loss: 0.1967 - mae: 0.1928"
     ]
    },
    {
     "name": "stderr",
     "output_type": "stream",
     "text": [
      "INFO:root:File 'DE000A0Q4R69.csv' loaded, 764 left\n"
     ]
    },
    {
     "name": "stdout",
     "output_type": "stream",
     "text": [
      "   1944/Unknown - 1164s 593ms/step - loss: 0.1966 - mae: 0.1928"
     ]
    },
    {
     "name": "stderr",
     "output_type": "stream",
     "text": [
      "INFO:root:File 'LU1900066975.csv' loaded in retry loop, 763 left\n"
     ]
    },
    {
     "name": "stdout",
     "output_type": "stream",
     "text": [
      "   1946/Unknown - 1165s 593ms/step - loss: 0.1965 - mae: 0.1927"
     ]
    },
    {
     "name": "stderr",
     "output_type": "stream",
     "text": [
      "INFO:root:File 'IE00BP2C1V62.csv' loaded, 762 left\n"
     ]
    },
    {
     "name": "stdout",
     "output_type": "stream",
     "text": [
      "   1947/Unknown - 1166s 593ms/step - loss: 0.1965 - mae: 0.1927"
     ]
    },
    {
     "name": "stderr",
     "output_type": "stream",
     "text": [
      "INFO:root:File 'IE000L2ZNB07.csv' loaded, 761 left\n"
     ]
    },
    {
     "name": "stdout",
     "output_type": "stream",
     "text": [
      "   1949/Unknown - 1167s 593ms/step - loss: 0.1964 - mae: 0.1927"
     ]
    },
    {
     "name": "stderr",
     "output_type": "stream",
     "text": [
      "INFO:root:File 'LU1681039647.csv' loaded, 760 left\n"
     ]
    },
    {
     "name": "stdout",
     "output_type": "stream",
     "text": [
      "   1950/Unknown - 1168s 593ms/step - loss: 0.1964 - mae: 0.1927"
     ]
    },
    {
     "name": "stderr",
     "output_type": "stream",
     "text": [
      "INFO:root:File 'IE00BKVL7778.csv' loaded, 759 left\n"
     ]
    },
    {
     "name": "stdout",
     "output_type": "stream",
     "text": [
      "   1953/Unknown - 1170s 593ms/step - loss: 0.1963 - mae: 0.1927"
     ]
    },
    {
     "name": "stderr",
     "output_type": "stream",
     "text": [
      "INFO:root:File 'IE0031442068.csv' loaded, 758 left\n"
     ]
    },
    {
     "name": "stdout",
     "output_type": "stream",
     "text": [
      "   1954/Unknown - 1171s 593ms/step - loss: 0.1963 - mae: 0.1927"
     ]
    },
    {
     "name": "stderr",
     "output_type": "stream",
     "text": [
      "INFO:root:File 'IE00BFZXGZ54.csv' loaded, 757 left\n"
     ]
    },
    {
     "name": "stdout",
     "output_type": "stream",
     "text": [
      "   1966/Unknown - 1178s 593ms/step - loss: 0.1960 - mae: 0.1927"
     ]
    },
    {
     "name": "stderr",
     "output_type": "stream",
     "text": [
      "INFO:root:File 'LU2082995908.csv' loaded, 756 left\n"
     ]
    },
    {
     "name": "stdout",
     "output_type": "stream",
     "text": [
      "   1972/Unknown - 1181s 593ms/step - loss: 0.1956 - mae: 0.1926"
     ]
    },
    {
     "name": "stderr",
     "output_type": "stream",
     "text": [
      "INFO:root:File 'LU1681041031.csv' loaded, 755 left\n"
     ]
    },
    {
     "name": "stdout",
     "output_type": "stream",
     "text": [
      "   1978/Unknown - 1185s 593ms/step - loss: 0.1956 - mae: 0.1927"
     ]
    },
    {
     "name": "stderr",
     "output_type": "stream",
     "text": [
      "INFO:root:File 'IE00B652H904.csv' loaded, 754 left\n"
     ]
    },
    {
     "name": "stdout",
     "output_type": "stream",
     "text": [
      "   1979/Unknown - 1186s 593ms/step - loss: 0.1956 - mae: 0.1927"
     ]
    },
    {
     "name": "stderr",
     "output_type": "stream",
     "text": [
      "INFO:root:File 'LU1681042864.csv' loaded, 753 left\n"
     ]
    },
    {
     "name": "stdout",
     "output_type": "stream",
     "text": [
      "   2000/Unknown - 1197s 592ms/step - loss: 0.1949 - mae: 0.1929"
     ]
    },
    {
     "name": "stderr",
     "output_type": "stream",
     "text": [
      "INFO:root:2023-03-14 08:12:20.258370\n",
      "INFO:root:Saved model to '/content/bigdata/chk/FPNWithAttention_2_ETF_Trained_GPU_64LB/cp_daily_valid_00_02000/model.h5'\n",
      "INFO:root:Saved optimizer config to '/content/bigdata/chk/FPNWithAttention_2_ETF_Trained_GPU_64LB/cp_daily_valid_00_02000/c.pickle'\n",
      "INFO:root:Saved optimizer weights to '/content/bigdata/chk/FPNWithAttention_2_ETF_Trained_GPU_64LB/cp_daily_valid_00_02000/w.pickle'\n",
      "INFO:root:Did a gc collect: 0\n"
     ]
    },
    {
     "name": "stdout",
     "output_type": "stream",
     "text": [
      "   2010/Unknown - 1205s 594ms/step - loss: 0.1943 - mae: 0.1926"
     ]
    },
    {
     "name": "stderr",
     "output_type": "stream",
     "text": [
      "INFO:root:File 'IE00BZ0G8977.csv' loaded, 752 left\n"
     ]
    },
    {
     "name": "stdout",
     "output_type": "stream",
     "text": [
      "   2026/Unknown - 1214s 593ms/step - loss: 0.1935 - mae: 0.1925"
     ]
    },
    {
     "name": "stderr",
     "output_type": "stream",
     "text": [
      "INFO:root:File 'IE00BSJCQV56.csv' loaded, 751 left\n"
     ]
    },
    {
     "name": "stdout",
     "output_type": "stream",
     "text": [
      "   2036/Unknown - 1220s 593ms/step - loss: 0.1929 - mae: 0.1923"
     ]
    },
    {
     "name": "stderr",
     "output_type": "stream",
     "text": [
      "INFO:root:File 'DE0005933998.csv' loaded, 750 left\n"
     ]
    },
    {
     "name": "stdout",
     "output_type": "stream",
     "text": [
      "   2041/Unknown - 1223s 593ms/step - loss: 0.1926 - mae: 0.1922"
     ]
    },
    {
     "name": "stderr",
     "output_type": "stream",
     "text": [
      "INFO:root:File 'IE00BFWXDW46.csv' loaded, 749 left\n"
     ]
    },
    {
     "name": "stdout",
     "output_type": "stream",
     "text": [
      "   2051/Unknown - 1228s 593ms/step - loss: 0.1922 - mae: 0.1922"
     ]
    },
    {
     "name": "stderr",
     "output_type": "stream",
     "text": [
      "INFO:root:File 'IE000XGNMWE1.csv' loaded, 748 left\n"
     ]
    },
    {
     "name": "stdout",
     "output_type": "stream",
     "text": [
      "   2056/Unknown - 1231s 593ms/step - loss: 0.1922 - mae: 0.1923"
     ]
    },
    {
     "name": "stderr",
     "output_type": "stream",
     "text": [
      "INFO:root:File 'LU0392494562.csv' loaded, 747 left\n",
      "INFO:root:File 'IE00BMH5YF48.csv' loaded, 746 left\n"
     ]
    },
    {
     "name": "stdout",
     "output_type": "stream",
     "text": [
      "   2059/Unknown - 1233s 593ms/step - loss: 0.1922 - mae: 0.1923"
     ]
    },
    {
     "name": "stderr",
     "output_type": "stream",
     "text": [
      "INFO:root:File 'IE00BZ4BMM98.csv' loaded, 745 left\n"
     ]
    },
    {
     "name": "stdout",
     "output_type": "stream",
     "text": [
      "   2063/Unknown - 1236s 593ms/step - loss: 0.1921 - mae: 0.1924"
     ]
    },
    {
     "name": "stderr",
     "output_type": "stream",
     "text": [
      "INFO:root:File 'IE00BQQP9H09.csv' loaded, 744 left\n"
     ]
    },
    {
     "name": "stdout",
     "output_type": "stream",
     "text": [
      "   2066/Unknown - 1238s 593ms/step - loss: 0.1920 - mae: 0.1924"
     ]
    },
    {
     "name": "stderr",
     "output_type": "stream",
     "text": [
      "INFO:root:File 'LU1681043086.csv' loaded, 743 left\n"
     ]
    },
    {
     "name": "stdout",
     "output_type": "stream",
     "text": [
      "   2067/Unknown - 1239s 593ms/step - loss: 0.1919 - mae: 0.1924"
     ]
    },
    {
     "name": "stderr",
     "output_type": "stream",
     "text": [
      "INFO:root:File 'LU1861138961.csv' loaded, 742 left\n"
     ]
    },
    {
     "name": "stdout",
     "output_type": "stream",
     "text": [
      "   2068/Unknown - 1240s 594ms/step - loss: 0.1919 - mae: 0.1923"
     ]
    },
    {
     "name": "stderr",
     "output_type": "stream",
     "text": [
      "INFO:root:File 'IE00BF2B0L69.csv' loaded, 741 left\n"
     ]
    },
    {
     "name": "stdout",
     "output_type": "stream",
     "text": [
      "   2071/Unknown - 1241s 594ms/step - loss: 0.1918 - mae: 0.1923"
     ]
    },
    {
     "name": "stderr",
     "output_type": "stream",
     "text": [
      "INFO:root:File 'IE00BJ5JP105.csv' loaded, 740 left\n"
     ]
    },
    {
     "name": "stdout",
     "output_type": "stream",
     "text": [
      "   2089/Unknown - 1251s 593ms/step - loss: 0.1914 - mae: 0.1925"
     ]
    },
    {
     "name": "stderr",
     "output_type": "stream",
     "text": [
      "INFO:root:File 'IE00BF51K249.csv' loaded, 739 left\n",
      "INFO:root:File 'IE00B8GF1M35.csv' loaded, 738 left\n"
     ]
    },
    {
     "name": "stdout",
     "output_type": "stream",
     "text": [
      "   2098/Unknown - 1257s 593ms/step - loss: 0.1909 - mae: 0.1924"
     ]
    },
    {
     "name": "stderr",
     "output_type": "stream",
     "text": [
      "INFO:root:File 'LU0959210278.csv' loaded, 737 left\n"
     ]
    },
    {
     "name": "stdout",
     "output_type": "stream",
     "text": [
      "   2099/Unknown - 1258s 593ms/step - loss: 0.1909 - mae: 0.1924"
     ]
    },
    {
     "name": "stderr",
     "output_type": "stream",
     "text": [
      "INFO:root:File 'DE000ETF9074.csv' loaded, 736 left\n"
     ]
    },
    {
     "name": "stdout",
     "output_type": "stream",
     "text": [
      "   2104/Unknown - 1261s 593ms/step - loss: 0.1906 - mae: 0.1923"
     ]
    },
    {
     "name": "stderr",
     "output_type": "stream",
     "text": [
      "INFO:root:File 'DE000A2QP349.csv' loaded, 735 left\n"
     ]
    },
    {
     "name": "stdout",
     "output_type": "stream",
     "text": [
      "   2113/Unknown - 1266s 593ms/step - loss: 0.2026 - mae: 0.1929"
     ]
    },
    {
     "name": "stderr",
     "output_type": "stream",
     "text": [
      "INFO:root:File 'DE000A0F5UE8.csv' loaded, 734 left\n"
     ]
    },
    {
     "name": "stdout",
     "output_type": "stream",
     "text": [
      "   2119/Unknown - 1269s 593ms/step - loss: 0.2024 - mae: 0.1929"
     ]
    },
    {
     "name": "stderr",
     "output_type": "stream",
     "text": [
      "INFO:root:File 'FR0011550185.csv' loaded, 733 left\n"
     ]
    },
    {
     "name": "stdout",
     "output_type": "stream",
     "text": [
      "   2136/Unknown - 1278s 593ms/step - loss: 0.2026 - mae: 0.1935"
     ]
    },
    {
     "name": "stderr",
     "output_type": "stream",
     "text": [
      "INFO:root:File 'IE00B40B8R38.csv' loaded, 732 left\n"
     ]
    },
    {
     "name": "stdout",
     "output_type": "stream",
     "text": [
      "   2137/Unknown - 1279s 593ms/step - loss: 0.2025 - mae: 0.1935"
     ]
    },
    {
     "name": "stderr",
     "output_type": "stream",
     "text": [
      "INFO:root:File 'IE00B4L5YC18.csv' loaded, 731 left\n"
     ]
    },
    {
     "name": "stdout",
     "output_type": "stream",
     "text": [
      "   2139/Unknown - 1281s 593ms/step - loss: 0.2024 - mae: 0.1934"
     ]
    },
    {
     "name": "stderr",
     "output_type": "stream",
     "text": [
      "INFO:root:File 'IE00B5MTWY73.csv' loaded, 730 left\n"
     ]
    },
    {
     "name": "stdout",
     "output_type": "stream",
     "text": [
      "   2145/Unknown - 1284s 593ms/step - loss: 0.2020 - mae: 0.1934"
     ]
    },
    {
     "name": "stderr",
     "output_type": "stream",
     "text": [
      "INFO:root:File 'IE000I8KRLL9.csv' loaded, 729 left\n"
     ]
    },
    {
     "name": "stdout",
     "output_type": "stream",
     "text": [
      "   2147/Unknown - 1285s 593ms/step - loss: 0.2019 - mae: 0.1934"
     ]
    },
    {
     "name": "stderr",
     "output_type": "stream",
     "text": [
      "INFO:root:File 'LU2082997946.csv' loaded, 728 left\n"
     ]
    },
    {
     "name": "stdout",
     "output_type": "stream",
     "text": [
      "   2151/Unknown - 1288s 593ms/step - loss: 0.2018 - mae: 0.1934"
     ]
    },
    {
     "name": "stderr",
     "output_type": "stream",
     "text": [
      "INFO:root:File 'IE00BD0B9B76.csv' loaded, 727 left\n"
     ]
    },
    {
     "name": "stdout",
     "output_type": "stream",
     "text": [
      "   2153/Unknown - 1289s 593ms/step - loss: 0.2017 - mae: 0.1933"
     ]
    },
    {
     "name": "stderr",
     "output_type": "stream",
     "text": [
      "INFO:root:File 'LU0392495023.csv' loaded, 726 left\n"
     ]
    },
    {
     "name": "stdout",
     "output_type": "stream",
     "text": [
      "   2160/Unknown - 1293s 593ms/step - loss: 0.2015 - mae: 0.1934"
     ]
    },
    {
     "name": "stderr",
     "output_type": "stream",
     "text": [
      "INFO:root:File 'IE00B5MJYC95.csv' loaded, 725 left\n"
     ]
    },
    {
     "name": "stdout",
     "output_type": "stream",
     "text": [
      "   2169/Unknown - 1298s 593ms/step - loss: 0.2012 - mae: 0.1935"
     ]
    },
    {
     "name": "stderr",
     "output_type": "stream",
     "text": [
      "INFO:root:File 'IE00B1FZS350.csv' loaded, 724 left\n"
     ]
    },
    {
     "name": "stdout",
     "output_type": "stream",
     "text": [
      "   2171/Unknown - 1300s 593ms/step - loss: 0.2011 - mae: 0.1935"
     ]
    },
    {
     "name": "stderr",
     "output_type": "stream",
     "text": [
      "INFO:root:File 'DE000A2QP323.csv' loaded, 723 left\n"
     ]
    },
    {
     "name": "stdout",
     "output_type": "stream",
     "text": [
      "   2176/Unknown - 1303s 593ms/step - loss: 0.2011 - mae: 0.1936"
     ]
    },
    {
     "name": "stderr",
     "output_type": "stream",
     "text": [
      "INFO:root:File 'NL0010731816.csv' loaded, 722 left\n"
     ]
    },
    {
     "name": "stdout",
     "output_type": "stream",
     "text": [
      "   2181/Unknown - 1306s 593ms/step - loss: 0.2012 - mae: 0.1937"
     ]
    },
    {
     "name": "stderr",
     "output_type": "stream",
     "text": [
      "INFO:root:File 'IE00BK5BR626.csv' loaded, 721 left\n"
     ]
    },
    {
     "name": "stdout",
     "output_type": "stream",
     "text": [
      "   2199/Unknown - 1315s 593ms/step - loss: 0.2005 - mae: 0.1937"
     ]
    },
    {
     "name": "stderr",
     "output_type": "stream",
     "text": [
      "INFO:root:File 'IE00BHZPJ239.csv' loaded, 720 left\n"
     ]
    },
    {
     "name": "stdout",
     "output_type": "stream",
     "text": [
      "   2209/Unknown - 1321s 592ms/step - loss: 0.2001 - mae: 0.1937"
     ]
    },
    {
     "name": "stderr",
     "output_type": "stream",
     "text": [
      "INFO:root:File 'LU2182388319.csv' loaded, 719 left\n"
     ]
    },
    {
     "name": "stdout",
     "output_type": "stream",
     "text": [
      "   2213/Unknown - 1323s 593ms/step - loss: 0.2000 - mae: 0.1937"
     ]
    },
    {
     "name": "stderr",
     "output_type": "stream",
     "text": [
      "INFO:root:File 'LU2082999058.csv' loaded, 718 left\n"
     ]
    },
    {
     "name": "stdout",
     "output_type": "stream",
     "text": [
      "   2216/Unknown - 1325s 593ms/step - loss: 0.1999 - mae: 0.1937"
     ]
    },
    {
     "name": "stderr",
     "output_type": "stream",
     "text": [
      "INFO:root:File 'LU2082998837.csv' loaded, 717 left\n"
     ]
    },
    {
     "name": "stdout",
     "output_type": "stream",
     "text": [
      "   2217/Unknown - 1326s 593ms/step - loss: 0.1998 - mae: 0.1938"
     ]
    },
    {
     "name": "stderr",
     "output_type": "stream",
     "text": [
      "INFO:root:File 'IE00BCBJF711.csv' loaded, 716 left\n"
     ]
    },
    {
     "name": "stdout",
     "output_type": "stream",
     "text": [
      "   2223/Unknown - 1329s 593ms/step - loss: 0.1998 - mae: 0.1938"
     ]
    },
    {
     "name": "stderr",
     "output_type": "stream",
     "text": [
      "INFO:root:File 'LU2023678449.csv' loaded, 715 left\n",
      "INFO:root:File 'LU1681046261.csv' loaded, 714 left\n"
     ]
    },
    {
     "name": "stdout",
     "output_type": "stream",
     "text": [
      "   2226/Unknown - 1332s 593ms/step - loss: 0.1998 - mae: 0.1939"
     ]
    },
    {
     "name": "stderr",
     "output_type": "stream",
     "text": [
      "INFO:root:File 'IE00B0M62X26.csv' loaded, 713 left\n"
     ]
    },
    {
     "name": "stdout",
     "output_type": "stream",
     "text": [
      "   2229/Unknown - 1334s 593ms/step - loss: 0.1997 - mae: 0.1939"
     ]
    },
    {
     "name": "stderr",
     "output_type": "stream",
     "text": [
      "INFO:root:File 'IE00BN4Q1675.csv' loaded, 712 left\n"
     ]
    },
    {
     "name": "stdout",
     "output_type": "stream",
     "text": [
      "   2233/Unknown - 1336s 593ms/step - loss: 0.1996 - mae: 0.1939"
     ]
    },
    {
     "name": "stderr",
     "output_type": "stream",
     "text": [
      "INFO:root:File 'IE00B441G979.csv' loaded, 711 left\n"
     ]
    },
    {
     "name": "stdout",
     "output_type": "stream",
     "text": [
      "   2237/Unknown - 1339s 593ms/step - loss: 0.1993 - mae: 0.1938"
     ]
    },
    {
     "name": "stderr",
     "output_type": "stream",
     "text": [
      "INFO:root:File 'DE0006289382.csv' loaded, 710 left\n",
      "INFO:root:File 'LU1861132840.csv' loaded, 709 left\n"
     ]
    },
    {
     "name": "stdout",
     "output_type": "stream",
     "text": [
      "   2239/Unknown - 1340s 593ms/step - loss: 0.1992 - mae: 0.1937"
     ]
    },
    {
     "name": "stderr",
     "output_type": "stream",
     "text": [
      "INFO:root:File 'DE000A0D8QZ7.csv' loaded, 708 left\n"
     ]
    },
    {
     "name": "stdout",
     "output_type": "stream",
     "text": [
      "   2262/Unknown - 1353s 593ms/step - loss: 0.2004 - mae: 0.1938"
     ]
    },
    {
     "name": "stderr",
     "output_type": "stream",
     "text": [
      "INFO:root:File 'LU2090062600.csv' loaded, 707 left\n",
      "INFO:root:File 'IE00B5MTY309.csv' loaded, 706 left\n"
     ]
    },
    {
     "name": "stdout",
     "output_type": "stream",
     "text": [
      "   2268/Unknown - 1357s 593ms/step - loss: 0.2001 - mae: 0.1938"
     ]
    },
    {
     "name": "stderr",
     "output_type": "stream",
     "text": [
      "INFO:root:File 'IE00BG8BCY43.csv' loaded, 705 left\n"
     ]
    },
    {
     "name": "stdout",
     "output_type": "stream",
     "text": [
      "   2275/Unknown - 1361s 593ms/step - loss: 0.2000 - mae: 0.1938"
     ]
    },
    {
     "name": "stderr",
     "output_type": "stream",
     "text": [
      "INFO:root:File 'IE00BFNM3G45.csv' loaded, 704 left\n"
     ]
    },
    {
     "name": "stdout",
     "output_type": "stream",
     "text": [
      "   2289/Unknown - 1368s 593ms/step - loss: 0.1992 - mae: 0.1936"
     ]
    },
    {
     "name": "stderr",
     "output_type": "stream",
     "text": [
      "INFO:root:File 'IE00B4WXJG34.csv' loaded, 703 left\n"
     ]
    },
    {
     "name": "stdout",
     "output_type": "stream",
     "text": [
      "   2299/Unknown - 1374s 592ms/step - loss: 0.1986 - mae: 0.1934"
     ]
    },
    {
     "name": "stderr",
     "output_type": "stream",
     "text": [
      "INFO:root:File 'IE00BYVQ9F29.csv' loaded, 702 left\n"
     ]
    },
    {
     "name": "stdout",
     "output_type": "stream",
     "text": [
      "   2300/Unknown - 1375s 592ms/step - loss: 0.1985 - mae: 0.1934"
     ]
    },
    {
     "name": "stderr",
     "output_type": "stream",
     "text": [
      "INFO:root:File 'LU1589349734.csv' loaded, 701 left\n"
     ]
    },
    {
     "name": "stdout",
     "output_type": "stream",
     "text": [
      "   2303/Unknown - 1377s 593ms/step - loss: 0.1983 - mae: 0.1933"
     ]
    },
    {
     "name": "stderr",
     "output_type": "stream",
     "text": [
      "INFO:root:File 'FR0011857234.csv' loaded, 700 left\n"
     ]
    },
    {
     "name": "stdout",
     "output_type": "stream",
     "text": [
      "   2323/Unknown - 1387s 592ms/step - loss: 0.2027 - mae: 0.1935"
     ]
    },
    {
     "name": "stderr",
     "output_type": "stream",
     "text": [
      "INFO:root:File 'DE000A0Q4R44.csv' loaded, 699 left\n"
     ]
    },
    {
     "name": "stdout",
     "output_type": "stream",
     "text": [
      "   2324/Unknown - 1388s 592ms/step - loss: 0.2027 - mae: 0.1935"
     ]
    },
    {
     "name": "stderr",
     "output_type": "stream",
     "text": [
      "INFO:root:File 'IE00BHZPJ569.csv' loaded, 698 left\n"
     ]
    },
    {
     "name": "stdout",
     "output_type": "stream",
     "text": [
      "   2332/Unknown - 1393s 592ms/step - loss: 0.2023 - mae: 0.1934"
     ]
    },
    {
     "name": "stderr",
     "output_type": "stream",
     "text": [
      "INFO:root:File 'LU2090063160.csv' loaded, 697 left\n"
     ]
    },
    {
     "name": "stdout",
     "output_type": "stream",
     "text": [
      "   2339/Unknown - 1397s 592ms/step - loss: 0.2027 - mae: 0.1938"
     ]
    },
    {
     "name": "stderr",
     "output_type": "stream",
     "text": [
      "INFO:root:File 'IE00BMDKNW35.csv' loaded, 696 left\n"
     ]
    },
    {
     "name": "stdout",
     "output_type": "stream",
     "text": [
      "   2340/Unknown - 1398s 592ms/step - loss: 0.2027 - mae: 0.1938"
     ]
    },
    {
     "name": "stderr",
     "output_type": "stream",
     "text": [
      "INFO:root:File 'LU1079842321.csv' loaded, 695 left\n"
     ]
    },
    {
     "name": "stdout",
     "output_type": "stream",
     "text": [
      "   2345/Unknown - 1401s 592ms/step - loss: 0.2044 - mae: 0.1941"
     ]
    },
    {
     "name": "stderr",
     "output_type": "stream",
     "text": [
      "INFO:root:File 'LU1681039480.csv' loaded, 694 left\n"
     ]
    },
    {
     "name": "stdout",
     "output_type": "stream",
     "text": [
      "   2346/Unknown - 1401s 592ms/step - loss: 0.2048 - mae: 0.1942"
     ]
    },
    {
     "name": "stderr",
     "output_type": "stream",
     "text": [
      "INFO:root:File 'IE00BHZPJ676.csv' loaded, 693 left\n"
     ]
    },
    {
     "name": "stdout",
     "output_type": "stream",
     "text": [
      "   2348/Unknown - 1403s 592ms/step - loss: 0.2047 - mae: 0.1942"
     ]
    },
    {
     "name": "stderr",
     "output_type": "stream",
     "text": [
      "INFO:root:File 'IE00BD3V0B10.csv' loaded, 692 left\n"
     ]
    },
    {
     "name": "stdout",
     "output_type": "stream",
     "text": [
      "   2352/Unknown - 1405s 592ms/step - loss: 0.2045 - mae: 0.1941"
     ]
    },
    {
     "name": "stderr",
     "output_type": "stream",
     "text": [
      "INFO:root:File 'IE00BYYW2V44.csv' loaded, 691 left\n"
     ]
    },
    {
     "name": "stdout",
     "output_type": "stream",
     "text": [
      "   2359/Unknown - 1409s 592ms/step - loss: 0.2043 - mae: 0.1942"
     ]
    },
    {
     "name": "stderr",
     "output_type": "stream",
     "text": [
      "INFO:root:File 'IE00BWBXM278.csv' loaded, 690 left\n"
     ]
    },
    {
     "name": "stdout",
     "output_type": "stream",
     "text": [
      "   2367/Unknown - 1414s 592ms/step - loss: 0.2041 - mae: 0.1942"
     ]
    },
    {
     "name": "stderr",
     "output_type": "stream",
     "text": [
      "INFO:root:File 'IE00BNG8L278.csv' loaded, 689 left\n"
     ]
    },
    {
     "name": "stdout",
     "output_type": "stream",
     "text": [
      "   2368/Unknown - 1415s 592ms/step - loss: 0.2041 - mae: 0.1942"
     ]
    },
    {
     "name": "stderr",
     "output_type": "stream",
     "text": [
      "INFO:root:File 'LU1681041114.csv' loaded, 688 left\n"
     ]
    },
    {
     "name": "stdout",
     "output_type": "stream",
     "text": [
      "   2374/Unknown - 1418s 592ms/step - loss: 0.2038 - mae: 0.1941"
     ]
    },
    {
     "name": "stderr",
     "output_type": "stream",
     "text": [
      "INFO:root:File 'IE00BF4G7183.csv' loaded, 687 left\n"
     ]
    },
    {
     "name": "stdout",
     "output_type": "stream",
     "text": [
      "   2375/Unknown - 1419s 592ms/step - loss: 0.2037 - mae: 0.1941"
     ]
    },
    {
     "name": "stderr",
     "output_type": "stream",
     "text": [
      "INFO:root:File 'LU0629460675.csv' loaded, 686 left\n"
     ]
    },
    {
     "name": "stdout",
     "output_type": "stream",
     "text": [
      "   2377/Unknown - 1420s 592ms/step - loss: 0.2036 - mae: 0.1940"
     ]
    },
    {
     "name": "stderr",
     "output_type": "stream",
     "text": [
      "INFO:root:File 'IE00BKWQ0G16.csv' loaded, 685 left\n"
     ]
    },
    {
     "name": "stdout",
     "output_type": "stream",
     "text": [
      "   2385/Unknown - 1425s 592ms/step - loss: 0.2031 - mae: 0.1939"
     ]
    },
    {
     "name": "stderr",
     "output_type": "stream",
     "text": [
      "INFO:root:File 'LU0147308422.csv' loaded, 684 left\n"
     ]
    },
    {
     "name": "stdout",
     "output_type": "stream",
     "text": [
      "   2398/Unknown - 1432s 592ms/step - loss: 0.2024 - mae: 0.1937"
     ]
    },
    {
     "name": "stderr",
     "output_type": "stream",
     "text": [
      "INFO:root:File 'IE00BKVL7331.csv' loaded, 683 left\n"
     ]
    },
    {
     "name": "stdout",
     "output_type": "stream",
     "text": [
      "   2402/Unknown - 1435s 592ms/step - loss: 0.2023 - mae: 0.1937"
     ]
    },
    {
     "name": "stderr",
     "output_type": "stream",
     "text": [
      "INFO:root:File 'IE00BF4RFH31.csv' loaded, 682 left\n"
     ]
    },
    {
     "name": "stdout",
     "output_type": "stream",
     "text": [
      "   2413/Unknown - 1441s 592ms/step - loss: 0.2020 - mae: 0.1938"
     ]
    },
    {
     "name": "stderr",
     "output_type": "stream",
     "text": [
      "INFO:root:File 'IE00BG0NY640.csv' loaded, 681 left\n"
     ]
    },
    {
     "name": "stdout",
     "output_type": "stream",
     "text": [
      "   2415/Unknown - 1442s 592ms/step - loss: 0.2020 - mae: 0.1938"
     ]
    },
    {
     "name": "stderr",
     "output_type": "stream",
     "text": [
      "INFO:root:File 'IE00BSKRK281.csv' loaded, 680 left\n"
     ]
    },
    {
     "name": "stdout",
     "output_type": "stream",
     "text": [
      "   2416/Unknown - 1443s 592ms/step - loss: 0.2020 - mae: 0.1938"
     ]
    },
    {
     "name": "stderr",
     "output_type": "stream",
     "text": [
      "INFO:root:File 'IE00B5WFQ436.csv' loaded, 679 left\n"
     ]
    },
    {
     "name": "stdout",
     "output_type": "stream",
     "text": [
      "   2420/Unknown - 1446s 592ms/step - loss: 0.2021 - mae: 0.1940"
     ]
    },
    {
     "name": "stderr",
     "output_type": "stream",
     "text": [
      "INFO:root:File 'IE000HJV1VH3.csv' loaded, 678 left\n"
     ]
    },
    {
     "name": "stdout",
     "output_type": "stream",
     "text": [
      "   2424/Unknown - 1448s 592ms/step - loss: 0.2020 - mae: 0.1940"
     ]
    },
    {
     "name": "stderr",
     "output_type": "stream",
     "text": [
      "INFO:root:File 'IE00B6YX5F63.csv' loaded, 677 left\n",
      "INFO:root:File 'IE000H1H16W5.csv' loaded, 676 left\n"
     ]
    },
    {
     "name": "stdout",
     "output_type": "stream",
     "text": [
      "   2429/Unknown - 1451s 593ms/step - loss: 0.2017 - mae: 0.1939"
     ]
    },
    {
     "name": "stderr",
     "output_type": "stream",
     "text": [
      "INFO:root:File 'DE000ETF7037.csv' loaded, 675 left\n"
     ]
    },
    {
     "name": "stdout",
     "output_type": "stream",
     "text": [
      "   2430/Unknown - 1452s 593ms/step - loss: 0.2016 - mae: 0.1939"
     ]
    },
    {
     "name": "stderr",
     "output_type": "stream",
     "text": [
      "INFO:root:File 'LU2082997789.csv' loaded, 674 left\n"
     ]
    },
    {
     "name": "stdout",
     "output_type": "stream",
     "text": [
      "   2436/Unknown - 1456s 593ms/step - loss: 0.2014 - mae: 0.1938"
     ]
    },
    {
     "name": "stderr",
     "output_type": "stream",
     "text": [
      "INFO:root:File 'DE000A0D8Q07.csv' loaded, 673 left\n"
     ]
    },
    {
     "name": "stdout",
     "output_type": "stream",
     "text": [
      "   2440/Unknown - 1458s 593ms/step - loss: 0.2012 - mae: 0.1938"
     ]
    },
    {
     "name": "stderr",
     "output_type": "stream",
     "text": [
      "INFO:root:File 'IE00B1FZSB30.csv' loaded, 672 left\n"
     ]
    },
    {
     "name": "stdout",
     "output_type": "stream",
     "text": [
      "   2443/Unknown - 1460s 593ms/step - loss: 0.2010 - mae: 0.1937"
     ]
    },
    {
     "name": "stderr",
     "output_type": "stream",
     "text": [
      "INFO:root:File 'DE000A0H08M3.csv' loaded, 671 left\n"
     ]
    },
    {
     "name": "stdout",
     "output_type": "stream",
     "text": [
      "   2456/Unknown - 1467s 593ms/step - loss: 0.2004 - mae: 0.1934"
     ]
    },
    {
     "name": "stderr",
     "output_type": "stream",
     "text": [
      "INFO:root:File 'IE00B5MTWZ80.csv' loaded, 670 left\n"
     ]
    },
    {
     "name": "stdout",
     "output_type": "stream",
     "text": [
      "   2460/Unknown - 1470s 593ms/step - loss: 0.2002 - mae: 0.1934"
     ]
    },
    {
     "name": "stderr",
     "output_type": "stream",
     "text": [
      "INFO:root:File 'DE000ETF7029.csv' loaded, 669 left\n"
     ]
    },
    {
     "name": "stdout",
     "output_type": "stream",
     "text": [
      "   2467/Unknown - 1474s 593ms/step - loss: 0.1998 - mae: 0.1933"
     ]
    },
    {
     "name": "stderr",
     "output_type": "stream",
     "text": [
      "/tmp/ipykernel_1242/1318332062.py:23: RuntimeWarning: divide by zero encountered in arctanh\n",
      "  _y = np.arctanh(_y)\n"
     ]
    },
    {
     "name": "stdout",
     "output_type": "stream",
     "text": [
      "   2488/Unknown - 1485s 592ms/step - loss: 0.1990 - mae: 0.1930"
     ]
    },
    {
     "name": "stderr",
     "output_type": "stream",
     "text": [
      "INFO:root:File 'IE000XFORJ80.csv' loaded, 668 left\n",
      "INFO:root:File 'IE00BKVD2J03.csv' loaded, 667 left\n",
      "INFO:root:File 'IE00BLCH4S17.csv' loaded, 666 left\n"
     ]
    },
    {
     "name": "stdout",
     "output_type": "stream",
     "text": [
      "   2492/Unknown - 1488s 592ms/step - loss: 0.1988 - mae: 0.1930"
     ]
    },
    {
     "name": "stderr",
     "output_type": "stream",
     "text": [
      "INFO:root:File 'LU1832418773.csv' loaded, 665 left\n"
     ]
    },
    {
     "name": "stdout",
     "output_type": "stream",
     "text": [
      "   2496/Unknown - 1491s 592ms/step - loss: 0.1986 - mae: 0.1930"
     ]
    },
    {
     "name": "stderr",
     "output_type": "stream",
     "text": [
      "INFO:root:File 'IE000QRNAC66.csv' loaded, 664 left\n"
     ]
    },
    {
     "name": "stdout",
     "output_type": "stream",
     "text": [
      "   2497/Unknown - 1491s 592ms/step - loss: 0.1986 - mae: 0.1930"
     ]
    },
    {
     "name": "stderr",
     "output_type": "stream",
     "text": [
      "INFO:root:File 'DE0006289309.csv' loaded, 663 left\n"
     ]
    },
    {
     "name": "stdout",
     "output_type": "stream",
     "text": [
      "   2500/Unknown - 1493s 593ms/step - loss: 0.1984 - mae: 0.1929"
     ]
    },
    {
     "name": "stderr",
     "output_type": "stream",
     "text": [
      "INFO:root:File 'LU1974696418.csv' loaded, 662 left\n"
     ]
    },
    {
     "name": "stdout",
     "output_type": "stream",
     "text": [
      "   2501/Unknown - 1494s 593ms/step - loss: 0.1983 - mae: 0.1929"
     ]
    },
    {
     "name": "stderr",
     "output_type": "stream",
     "text": [
      "INFO:root:File 'IE00BCRY6227.csv' loaded, 661 left\n"
     ]
    },
    {
     "name": "stdout",
     "output_type": "stream",
     "text": [
      "   2520/Unknown - 1505s 592ms/step - loss: 0.1975 - mae: 0.1927"
     ]
    },
    {
     "name": "stderr",
     "output_type": "stream",
     "text": [
      "INFO:root:File 'IE00BKSBGS44.csv' loaded, 660 left\n"
     ]
    },
    {
     "name": "stdout",
     "output_type": "stream",
     "text": [
      "   2532/Unknown - 1511s 592ms/step - loss: 0.1970 - mae: 0.1926"
     ]
    },
    {
     "name": "stderr",
     "output_type": "stream",
     "text": [
      "INFO:root:File 'LU1215451524.csv' loaded, 659 left\n"
     ]
    },
    {
     "name": "stdout",
     "output_type": "stream",
     "text": [
      "   2533/Unknown - 1512s 592ms/step - loss: 0.1970 - mae: 0.1926"
     ]
    },
    {
     "name": "stderr",
     "output_type": "stream",
     "text": [
      "INFO:root:File 'IE00BHZKHS06.csv' loaded, 658 left\n"
     ]
    },
    {
     "name": "stdout",
     "output_type": "stream",
     "text": [
      "   2534/Unknown - 1513s 592ms/step - loss: 0.1969 - mae: 0.1926"
     ]
    },
    {
     "name": "stderr",
     "output_type": "stream",
     "text": [
      "INFO:root:File 'LU1681040496.csv' loaded, 657 left\n"
     ]
    },
    {
     "name": "stdout",
     "output_type": "stream",
     "text": [
      "   2536/Unknown - 1514s 592ms/step - loss: 0.1968 - mae: 0.1926"
     ]
    },
    {
     "name": "stderr",
     "output_type": "stream",
     "text": [
      "INFO:root:File 'IE00BWBXM831.csv' loaded, 656 left\n"
     ]
    },
    {
     "name": "stdout",
     "output_type": "stream",
     "text": [
      "   2553/Unknown - 1524s 592ms/step - loss: 0.1976 - mae: 0.1931"
     ]
    },
    {
     "name": "stderr",
     "output_type": "stream",
     "text": [
      "INFO:root:File 'LU2133056387.csv' loaded, 655 left\n"
     ]
    },
    {
     "name": "stdout",
     "output_type": "stream",
     "text": [
      "   2560/Unknown - 1528s 592ms/step - loss: 0.1975 - mae: 0.1931"
     ]
    },
    {
     "name": "stderr",
     "output_type": "stream",
     "text": [
      "INFO:root:File 'LU2198883410.csv' loaded, 654 left\n"
     ]
    },
    {
     "name": "stdout",
     "output_type": "stream",
     "text": [
      "   2566/Unknown - 1531s 592ms/step - loss: 0.1976 - mae: 0.1933"
     ]
    },
    {
     "name": "stderr",
     "output_type": "stream",
     "text": [
      "INFO:root:File 'DE000A0Q4R28.csv' loaded, 653 left\n",
      "INFO:root:File 'IE00BKY58G26.csv' loaded, 652 left\n"
     ]
    },
    {
     "name": "stdout",
     "output_type": "stream",
     "text": [
      "   2574/Unknown - 1536s 592ms/step - loss: 0.1977 - mae: 0.1934"
     ]
    },
    {
     "name": "stderr",
     "output_type": "stream",
     "text": [
      "INFO:root:File 'IE00BMDBMK72.csv' loaded, 651 left\n",
      "INFO:root:File 'LU1838002480.csv' loaded, 650 left\n"
     ]
    },
    {
     "name": "stdout",
     "output_type": "stream",
     "text": [
      "   2579/Unknown - 1539s 592ms/step - loss: 0.1975 - mae: 0.1934"
     ]
    },
    {
     "name": "stderr",
     "output_type": "stream",
     "text": [
      "INFO:root:File 'FR0013041530.csv' loaded, 649 left\n",
      "INFO:root:File 'IE00BYTH5S21.csv' loaded, 648 left\n",
      "INFO:root:File 'LU1681043912.csv' loaded, 647 left\n"
     ]
    },
    {
     "name": "stdout",
     "output_type": "stream",
     "text": [
      "   2582/Unknown - 1542s 592ms/step - loss: 0.1975 - mae: 0.1934"
     ]
    },
    {
     "name": "stderr",
     "output_type": "stream",
     "text": [
      "INFO:root:File 'LU2197908721.csv' loaded, 646 left\n"
     ]
    },
    {
     "name": "stdout",
     "output_type": "stream",
     "text": [
      "   2587/Unknown - 1545s 592ms/step - loss: 0.1974 - mae: 0.1935"
     ]
    },
    {
     "name": "stderr",
     "output_type": "stream",
     "text": [
      "INFO:root:File 'IE00BYZK4669.csv' loaded, 645 left\n"
     ]
    },
    {
     "name": "stdout",
     "output_type": "stream",
     "text": [
      "   2588/Unknown - 1546s 593ms/step - loss: 0.1974 - mae: 0.1935"
     ]
    },
    {
     "name": "stderr",
     "output_type": "stream",
     "text": [
      "INFO:root:File 'IE00BH4G7D40.csv' loaded, 644 left\n"
     ]
    },
    {
     "name": "stdout",
     "output_type": "stream",
     "text": [
      "   2595/Unknown - 1549s 592ms/step - loss: 0.1972 - mae: 0.1936"
     ]
    },
    {
     "name": "stderr",
     "output_type": "stream",
     "text": [
      "INFO:root:File 'IE00BK5BC891.csv' loaded, 643 left\n"
     ]
    },
    {
     "name": "stdout",
     "output_type": "stream",
     "text": [
      "   2598/Unknown - 1551s 592ms/step - loss: 0.1971 - mae: 0.1936"
     ]
    },
    {
     "name": "stderr",
     "output_type": "stream",
     "text": [
      "INFO:root:File 'IE00B14X4T88.csv' loaded, 642 left\n"
     ]
    },
    {
     "name": "stdout",
     "output_type": "stream",
     "text": [
      "   2603/Unknown - 1554s 593ms/step - loss: 0.1971 - mae: 0.1937"
     ]
    },
    {
     "name": "stderr",
     "output_type": "stream",
     "text": [
      "INFO:root:File 'DE0005933956.csv' loaded, 641 left\n"
     ]
    },
    {
     "name": "stdout",
     "output_type": "stream",
     "text": [
      "   2615/Unknown - 1561s 592ms/step - loss: 0.1979 - mae: 0.1944"
     ]
    },
    {
     "name": "stderr",
     "output_type": "stream",
     "text": [
      "INFO:root:File 'DE0006289499.csv' loaded, 640 left\n"
     ]
    },
    {
     "name": "stdout",
     "output_type": "stream",
     "text": [
      "   2620/Unknown - 1564s 592ms/step - loss: 0.1980 - mae: 0.1945"
     ]
    },
    {
     "name": "stderr",
     "output_type": "stream",
     "text": [
      "INFO:root:File 'IE00BDDRDY39.csv' loaded, 639 left\n",
      "INFO:root:File 'LU1681046006.csv' loaded, 638 left\n"
     ]
    },
    {
     "name": "stdout",
     "output_type": "stream",
     "text": [
      "   2623/Unknown - 1566s 593ms/step - loss: 0.1978 - mae: 0.1944"
     ]
    },
    {
     "name": "stderr",
     "output_type": "stream",
     "text": [
      "INFO:root:File 'IE00BP3QZ601.csv' loaded, 637 left\n"
     ]
    },
    {
     "name": "stdout",
     "output_type": "stream",
     "text": [
      "   2644/Unknown - 1578s 592ms/step - loss: 0.1968 - mae: 0.1942"
     ]
    },
    {
     "name": "stderr",
     "output_type": "stream",
     "text": [
      "INFO:root:File 'IE00BQN1K562.csv' loaded, 636 left\n"
     ]
    },
    {
     "name": "stdout",
     "output_type": "stream",
     "text": [
      "   2658/Unknown - 1585s 592ms/step - loss: 0.1964 - mae: 0.1942"
     ]
    },
    {
     "name": "stderr",
     "output_type": "stream",
     "text": [
      "INFO:root:File 'IE00BLCHJB90.csv' loaded, 635 left\n"
     ]
    },
    {
     "name": "stdout",
     "output_type": "stream",
     "text": [
      "   2664/Unknown - 1589s 592ms/step - loss: 0.1962 - mae: 0.1941"
     ]
    },
    {
     "name": "stderr",
     "output_type": "stream",
     "text": [
      "INFO:root:File 'IE00B3F81G20.csv' loaded, 634 left\n"
     ]
    },
    {
     "name": "stdout",
     "output_type": "stream",
     "text": [
      "   2670/Unknown - 1592s 592ms/step - loss: 0.1961 - mae: 0.1942"
     ]
    },
    {
     "name": "stderr",
     "output_type": "stream",
     "text": [
      "INFO:root:File 'IE00BMH5XY61.csv' loaded, 633 left\n"
     ]
    },
    {
     "name": "stdout",
     "output_type": "stream",
     "text": [
      "   2676/Unknown - 1596s 592ms/step - loss: 0.1960 - mae: 0.1942"
     ]
    },
    {
     "name": "stderr",
     "output_type": "stream",
     "text": [
      "INFO:root:File 'IE00B60SWW18.csv' loaded, 632 left\n"
     ]
    },
    {
     "name": "stdout",
     "output_type": "stream",
     "text": [
      "   2683/Unknown - 1600s 592ms/step - loss: 0.1961 - mae: 0.1943"
     ]
    },
    {
     "name": "stderr",
     "output_type": "stream",
     "text": [
      "INFO:root:File 'LU1900068914.csv' loaded, 631 left\n"
     ]
    },
    {
     "name": "stdout",
     "output_type": "stream",
     "text": [
      "   2689/Unknown - 1603s 592ms/step - loss: 0.1959 - mae: 0.1944"
     ]
    },
    {
     "name": "stderr",
     "output_type": "stream",
     "text": [
      "INFO:root:File 'LU1602144732.csv' loaded, 630 left\n"
     ]
    },
    {
     "name": "stdout",
     "output_type": "stream",
     "text": [
      "   2693/Unknown - 1606s 592ms/step - loss: 0.1959 - mae: 0.1944"
     ]
    },
    {
     "name": "stderr",
     "output_type": "stream",
     "text": [
      "INFO:root:File 'NL0010273801.csv' loaded, 629 left\n"
     ]
    },
    {
     "name": "stdout",
     "output_type": "stream",
     "text": [
      "   2696/Unknown - 1608s 592ms/step - loss: 0.1959 - mae: 0.1944"
     ]
    },
    {
     "name": "stderr",
     "output_type": "stream",
     "text": [
      "INFO:root:File 'LU2356220926.csv' loaded, 628 left\n"
     ]
    },
    {
     "name": "stdout",
     "output_type": "stream",
     "text": [
      "   2705/Unknown - 1613s 592ms/step - loss: 0.1958 - mae: 0.1944"
     ]
    },
    {
     "name": "stderr",
     "output_type": "stream",
     "text": [
      "INFO:root:File 'DE0005933980.csv' loaded, 627 left\n"
     ]
    },
    {
     "name": "stdout",
     "output_type": "stream",
     "text": [
      "   2721/Unknown - 1621s 591ms/step - loss: 0.1972 - mae: 0.1944"
     ]
    },
    {
     "name": "stderr",
     "output_type": "stream",
     "text": [
      "INFO:root:File 'IE00BQT3WG13.csv' loaded, 626 left\n"
     ]
    },
    {
     "name": "stdout",
     "output_type": "stream",
     "text": [
      "   2727/Unknown - 1625s 591ms/step - loss: 0.1972 - mae: 0.1945"
     ]
    },
    {
     "name": "stderr",
     "output_type": "stream",
     "text": [
      "INFO:root:File 'IE000QNJAOX1.csv' loaded, 625 left\n"
     ]
    },
    {
     "name": "stdout",
     "output_type": "stream",
     "text": [
      "   2728/Unknown - 1626s 592ms/step - loss: 0.1971 - mae: 0.1945"
     ]
    },
    {
     "name": "stderr",
     "output_type": "stream",
     "text": [
      "INFO:root:File 'IE00BLRPQJ54.csv' loaded, 624 left\n",
      "INFO:root:File 'IE00BM8QRZ79.csv' loaded, 623 left\n"
     ]
    },
    {
     "name": "stdout",
     "output_type": "stream",
     "text": [
      "   2736/Unknown - 1631s 592ms/step - loss: 0.1973 - mae: 0.1947"
     ]
    },
    {
     "name": "stderr",
     "output_type": "stream",
     "text": [
      "INFO:root:File 'FR0010429068.csv' loaded, 622 left\n",
      "/tmp/ipykernel_1242/1318332062.py:23: RuntimeWarning: divide by zero encountered in arctanh\n",
      "  _y = np.arctanh(_y)\n"
     ]
    },
    {
     "name": "stdout",
     "output_type": "stream",
     "text": [
      "   2741/Unknown - 1634s 592ms/step - loss: 0.1978 - mae: 0.1949"
     ]
    },
    {
     "name": "stderr",
     "output_type": "stream",
     "text": [
      "INFO:root:File 'LU0496786657.csv' loaded, 621 left\n"
     ]
    },
    {
     "name": "stdout",
     "output_type": "stream",
     "text": [
      "   2743/Unknown - 1635s 592ms/step - loss: 0.1979 - mae: 0.1949"
     ]
    },
    {
     "name": "stderr",
     "output_type": "stream",
     "text": [
      "INFO:root:File 'LU0629459743.csv' loaded, 620 left\n"
     ]
    },
    {
     "name": "stdout",
     "output_type": "stream",
     "text": [
      "   2750/Unknown - 1639s 592ms/step - loss: 0.1979 - mae: 0.1950"
     ]
    },
    {
     "name": "stderr",
     "output_type": "stream",
     "text": [
      "INFO:root:File 'LU1215452928.csv' loaded, 619 left\n"
     ]
    },
    {
     "name": "stdout",
     "output_type": "stream",
     "text": [
      "   2755/Unknown - 1642s 592ms/step - loss: 0.1977 - mae: 0.1949"
     ]
    },
    {
     "name": "stderr",
     "output_type": "stream",
     "text": [
      "INFO:root:File 'IE00BF11F458.csv' loaded, 618 left\n"
     ]
    },
    {
     "name": "stdout",
     "output_type": "stream",
     "text": [
      "   2761/Unknown - 1646s 592ms/step - loss: 0.1974 - mae: 0.1948"
     ]
    },
    {
     "name": "stderr",
     "output_type": "stream",
     "text": [
      "/tmp/ipykernel_1242/1318332062.py:23: RuntimeWarning: divide by zero encountered in arctanh\n",
      "  _y = np.arctanh(_y)\n"
     ]
    },
    {
     "name": "stdout",
     "output_type": "stream",
     "text": [
      "   2765/Unknown - 1648s 592ms/step - loss: 0.2077 - mae: 0.1953"
     ]
    },
    {
     "name": "stderr",
     "output_type": "stream",
     "text": [
      "INFO:root:File 'IE00BF4G6Z54.csv' loaded, 617 left\n"
     ]
    },
    {
     "name": "stdout",
     "output_type": "stream",
     "text": [
      "   2782/Unknown - 1657s 591ms/step - loss: 0.2080 - mae: 0.1952"
     ]
    },
    {
     "name": "stderr",
     "output_type": "stream",
     "text": [
      "INFO:root:File 'IE00BHZPHZ28.csv' loaded, 616 left\n"
     ]
    },
    {
     "name": "stdout",
     "output_type": "stream",
     "text": [
      "   2785/Unknown - 1659s 591ms/step - loss: 0.2079 - mae: 0.1952"
     ]
    },
    {
     "name": "stderr",
     "output_type": "stream",
     "text": [
      "INFO:root:File 'LU1598689153.csv' loaded, 615 left\n"
     ]
    },
    {
     "name": "stdout",
     "output_type": "stream",
     "text": [
      "   2788/Unknown - 1661s 591ms/step - loss: 0.2078 - mae: 0.1952"
     ]
    },
    {
     "name": "stderr",
     "output_type": "stream",
     "text": [
      "INFO:root:File 'IE00BPRCH686.csv' loaded, 614 left\n"
     ]
    },
    {
     "name": "stdout",
     "output_type": "stream",
     "text": [
      "   2792/Unknown - 1663s 591ms/step - loss: 0.2108 - mae: 0.1955"
     ]
    },
    {
     "name": "stderr",
     "output_type": "stream",
     "text": [
      "INFO:root:File 'LU1377382368.csv' loaded, 613 left\n"
     ]
    },
    {
     "name": "stdout",
     "output_type": "stream",
     "text": [
      "   2804/Unknown - 1670s 591ms/step - loss: 0.2106 - mae: 0.1956"
     ]
    },
    {
     "name": "stderr",
     "output_type": "stream",
     "text": [
      "INFO:root:File 'LU1681041460.csv' loaded, 612 left\n"
     ]
    },
    {
     "name": "stdout",
     "output_type": "stream",
     "text": [
      "   2806/Unknown - 1671s 591ms/step - loss: 0.2107 - mae: 0.1956"
     ]
    },
    {
     "name": "stderr",
     "output_type": "stream",
     "text": [
      "INFO:root:File 'LU1681041387.csv' loaded, 611 left\n"
     ]
    },
    {
     "name": "stdout",
     "output_type": "stream",
     "text": [
      "   2807/Unknown - 1672s 591ms/step - loss: 0.2107 - mae: 0.1956"
     ]
    },
    {
     "name": "stderr",
     "output_type": "stream",
     "text": [
      "INFO:root:File 'IE00B52MJY50.csv' loaded, 610 left\n"
     ]
    },
    {
     "name": "stdout",
     "output_type": "stream",
     "text": [
      "   2814/Unknown - 1676s 591ms/step - loss: 0.2105 - mae: 0.1956"
     ]
    },
    {
     "name": "stderr",
     "output_type": "stream",
     "text": [
      "INFO:root:File 'IE00BF4G6Y48.csv' loaded, 609 left\n"
     ]
    },
    {
     "name": "stdout",
     "output_type": "stream",
     "text": [
      "   2824/Unknown - 1682s 591ms/step - loss: 0.2100 - mae: 0.1955"
     ]
    },
    {
     "name": "stderr",
     "output_type": "stream",
     "text": [
      "INFO:root:File 'IE00B5NLX835.csv' loaded, 608 left\n"
     ]
    },
    {
     "name": "stdout",
     "output_type": "stream",
     "text": [
      "   2826/Unknown - 1683s 591ms/step - loss: 0.2099 - mae: 0.1955"
     ]
    },
    {
     "name": "stderr",
     "output_type": "stream",
     "text": [
      "INFO:root:File 'LU2206597713.csv' loaded, 607 left\n"
     ]
    },
    {
     "name": "stdout",
     "output_type": "stream",
     "text": [
      "   2836/Unknown - 1689s 591ms/step - loss: 0.2095 - mae: 0.1954"
     ]
    },
    {
     "name": "stderr",
     "output_type": "stream",
     "text": [
      "INFO:root:File 'IE0003Z9E2Y3.csv' loaded, 606 left\n",
      "INFO:root:File 'IE00BMYDMB35.csv' loaded, 605 left\n"
     ]
    },
    {
     "name": "stdout",
     "output_type": "stream",
     "text": [
      "   2838/Unknown - 1690s 591ms/step - loss: 0.2094 - mae: 0.1954"
     ]
    },
    {
     "name": "stderr",
     "output_type": "stream",
     "text": [
      "INFO:root:File 'IE00B1TXK627.csv' loaded, 604 left\n"
     ]
    },
    {
     "name": "stdout",
     "output_type": "stream",
     "text": [
      "   2842/Unknown - 1693s 591ms/step - loss: 0.2092 - mae: 0.1953"
     ]
    },
    {
     "name": "stderr",
     "output_type": "stream",
     "text": [
      "INFO:root:File 'IE00B60SWY32.csv' loaded, 603 left\n",
      "INFO:root:File 'IE00B3Q19T94.csv' loaded, 602 left\n"
     ]
    },
    {
     "name": "stdout",
     "output_type": "stream",
     "text": [
      "   2846/Unknown - 1696s 592ms/step - loss: 0.2091 - mae: 0.1953"
     ]
    },
    {
     "name": "stderr",
     "output_type": "stream",
     "text": [
      "INFO:root:File 'DE000A0D8Q31.csv' loaded, 601 left\n"
     ]
    },
    {
     "name": "stdout",
     "output_type": "stream",
     "text": [
      "   2847/Unknown - 1696s 592ms/step - loss: 0.2091 - mae: 0.1953"
     ]
    },
    {
     "name": "stderr",
     "output_type": "stream",
     "text": [
      "INFO:root:File 'DE000ETFL011.csv' loaded in retry loop, 600 left\n"
     ]
    },
    {
     "name": "stdout",
     "output_type": "stream",
     "text": [
      "   2881/Unknown - 1715s 591ms/step - loss: 0.2080 - mae: 0.1953"
     ]
    },
    {
     "name": "stderr",
     "output_type": "stream",
     "text": [
      "INFO:root:File 'IE00B4L5ZY03.csv' loaded, 599 left\n"
     ]
    },
    {
     "name": "stdout",
     "output_type": "stream",
     "text": [
      "   2886/Unknown - 1718s 591ms/step - loss: 0.2079 - mae: 0.1953"
     ]
    },
    {
     "name": "stderr",
     "output_type": "stream",
     "text": [
      "INFO:root:File 'IE00B42TW061.csv' loaded, 598 left\n"
     ]
    },
    {
     "name": "stdout",
     "output_type": "stream",
     "text": [
      "   2901/Unknown - 1726s 591ms/step - loss: 0.2078 - mae: 0.1954"
     ]
    },
    {
     "name": "stderr",
     "output_type": "stream",
     "text": [
      "INFO:root:File 'IE00BK5H8015.csv' loaded, 597 left\n"
     ]
    },
    {
     "name": "stdout",
     "output_type": "stream",
     "text": [
      "   2909/Unknown - 1731s 591ms/step - loss: 0.2075 - mae: 0.1954"
     ]
    },
    {
     "name": "stderr",
     "output_type": "stream",
     "text": [
      "INFO:root:File 'LU2082999215.csv' loaded, 596 left\n"
     ]
    },
    {
     "name": "stdout",
     "output_type": "stream",
     "text": [
      "   2919/Unknown - 1737s 591ms/step - loss: 0.2069 - mae: 0.1952"
     ]
    },
    {
     "name": "stderr",
     "output_type": "stream",
     "text": [
      "INFO:root:File 'IE00B48X4842.csv' loaded, 595 left\n"
     ]
    },
    {
     "name": "stdout",
     "output_type": "stream",
     "text": [
      "   2920/Unknown - 1737s 591ms/step - loss: 0.2069 - mae: 0.1952"
     ]
    },
    {
     "name": "stderr",
     "output_type": "stream",
     "text": [
      "INFO:root:File 'DE000A0H0744.csv' loaded, 594 left\n"
     ]
    },
    {
     "name": "stdout",
     "output_type": "stream",
     "text": [
      "   2923/Unknown - 1739s 591ms/step - loss: 0.2068 - mae: 0.1952"
     ]
    },
    {
     "name": "stderr",
     "output_type": "stream",
     "text": [
      "INFO:root:File 'DE000ETFL573.csv' loaded, 593 left\n"
     ]
    },
    {
     "name": "stdout",
     "output_type": "stream",
     "text": [
      "   2928/Unknown - 1742s 591ms/step - loss: 0.2066 - mae: 0.1951"
     ]
    },
    {
     "name": "stderr",
     "output_type": "stream",
     "text": [
      "INFO:root:File 'IE00BMDPBZ72.csv' loaded, 592 left\n"
     ]
    },
    {
     "name": "stdout",
     "output_type": "stream",
     "text": [
      "   2931/Unknown - 1744s 591ms/step - loss: 0.2064 - mae: 0.1951"
     ]
    },
    {
     "name": "stderr",
     "output_type": "stream",
     "text": [
      "INFO:root:File 'IE00BLCHJN13.csv' loaded, 591 left\n"
     ]
    },
    {
     "name": "stdout",
     "output_type": "stream",
     "text": [
      "   2937/Unknown - 1748s 591ms/step - loss: 0.2065 - mae: 0.1952"
     ]
    },
    {
     "name": "stderr",
     "output_type": "stream",
     "text": [
      "INFO:root:File 'IE00BKWQ0P07.csv' loaded, 590 left\n",
      "INFO:root:File 'IE00B94ZB998.csv' loaded, 589 left\n"
     ]
    },
    {
     "name": "stdout",
     "output_type": "stream",
     "text": [
      "   2942/Unknown - 1751s 591ms/step - loss: 0.2065 - mae: 0.1952"
     ]
    },
    {
     "name": "stderr",
     "output_type": "stream",
     "text": [
      "INFO:root:File 'IE00BYXPXK00.csv' loaded, 588 left\n"
     ]
    },
    {
     "name": "stdout",
     "output_type": "stream",
     "text": [
      "   2944/Unknown - 1753s 591ms/step - loss: 0.2064 - mae: 0.1952"
     ]
    },
    {
     "name": "stderr",
     "output_type": "stream",
     "text": [
      "INFO:root:File 'IE00B466KX20.csv' loaded, 587 left\n"
     ]
    },
    {
     "name": "stdout",
     "output_type": "stream",
     "text": [
      "   2957/Unknown - 1760s 591ms/step - loss: 0.2060 - mae: 0.1951"
     ]
    },
    {
     "name": "stderr",
     "output_type": "stream",
     "text": [
      "INFO:root:File 'IE00BYZK4552.csv' loaded, 586 left\n"
     ]
    },
    {
     "name": "stdout",
     "output_type": "stream",
     "text": [
      "   2963/Unknown - 1763s 591ms/step - loss: 0.2058 - mae: 0.1951"
     ]
    },
    {
     "name": "stderr",
     "output_type": "stream",
     "text": [
      "INFO:root:File 'LU0603940916.csv' loaded, 585 left\n"
     ]
    },
    {
     "name": "stdout",
     "output_type": "stream",
     "text": [
      "   2974/Unknown - 1770s 591ms/step - loss: 0.2055 - mae: 0.1952"
     ]
    },
    {
     "name": "stderr",
     "output_type": "stream",
     "text": [
      "INFO:root:File 'IE00BJXRZ273.csv' loaded, 584 left\n"
     ]
    },
    {
     "name": "stdout",
     "output_type": "stream",
     "text": [
      "   2983/Unknown - 1775s 591ms/step - loss: 0.2060 - mae: 0.1955"
     ]
    },
    {
     "name": "stderr",
     "output_type": "stream",
     "text": [
      "INFO:root:File 'IE00BYSZ5R67.csv' loaded, 583 left\n"
     ]
    },
    {
     "name": "stdout",
     "output_type": "stream",
     "text": [
      "   2986/Unknown - 1777s 591ms/step - loss: 0.2061 - mae: 0.1956"
     ]
    },
    {
     "name": "stderr",
     "output_type": "stream",
     "text": [
      "INFO:root:File 'IE00BF20LF40.csv' loaded, 582 left\n"
     ]
    },
    {
     "name": "stdout",
     "output_type": "stream",
     "text": [
      "   2991/Unknown - 1780s 591ms/step - loss: 0.2063 - mae: 0.1957"
     ]
    },
    {
     "name": "stderr",
     "output_type": "stream",
     "text": [
      "INFO:root:File 'IE00BYXPXL17.csv' loaded, 581 left\n"
     ]
    },
    {
     "name": "stdout",
     "output_type": "stream",
     "text": [
      "   2992/Unknown - 1781s 591ms/step - loss: 0.2062 - mae: 0.1957"
     ]
    },
    {
     "name": "stderr",
     "output_type": "stream",
     "text": [
      "INFO:root:File 'LU1452600270.csv' loaded, 580 left\n"
     ]
    },
    {
     "name": "stdout",
     "output_type": "stream",
     "text": [
      "   2993/Unknown - 1781s 591ms/step - loss: 0.2062 - mae: 0.1957"
     ]
    },
    {
     "name": "stderr",
     "output_type": "stream",
     "text": [
      "INFO:root:File 'LU0908500753.csv' loaded, 579 left\n"
     ]
    },
    {
     "name": "stdout",
     "output_type": "stream",
     "text": [
      "   3000/Unknown - 1785s 591ms/step - loss: 0.2059 - mae: 0.1956"
     ]
    },
    {
     "name": "stderr",
     "output_type": "stream",
     "text": [
      "INFO:root:2023-03-14 08:22:08.771789\n",
      "INFO:root:Saved model to '/content/bigdata/chk/FPNWithAttention_2_ETF_Trained_GPU_64LB/cp_daily_valid_00_03000/model.h5'\n",
      "INFO:root:Saved optimizer config to '/content/bigdata/chk/FPNWithAttention_2_ETF_Trained_GPU_64LB/cp_daily_valid_00_03000/c.pickle'\n",
      "INFO:root:Saved optimizer weights to '/content/bigdata/chk/FPNWithAttention_2_ETF_Trained_GPU_64LB/cp_daily_valid_00_03000/w.pickle'\n",
      "INFO:root:Did a gc collect: 0\n"
     ]
    },
    {
     "name": "stdout",
     "output_type": "stream",
     "text": [
      "   3010/Unknown - 1794s 592ms/step - loss: 0.2055 - mae: 0.1955"
     ]
    },
    {
     "name": "stderr",
     "output_type": "stream",
     "text": [
      "INFO:root:File 'LU1602144229.csv' loaded, 578 left\n"
     ]
    },
    {
     "name": "stdout",
     "output_type": "stream",
     "text": [
      "   3016/Unknown - 1798s 592ms/step - loss: 0.2054 - mae: 0.1954"
     ]
    },
    {
     "name": "stderr",
     "output_type": "stream",
     "text": [
      "INFO:root:File 'IE00B0M63730.csv' loaded, 577 left\n"
     ]
    },
    {
     "name": "stdout",
     "output_type": "stream",
     "text": [
      "   3018/Unknown - 1799s 592ms/step - loss: 0.2053 - mae: 0.1954"
     ]
    },
    {
     "name": "stderr",
     "output_type": "stream",
     "text": [
      "INFO:root:File 'DE000ETF9603.csv' loaded, 576 left\n"
     ]
    },
    {
     "name": "stdout",
     "output_type": "stream",
     "text": [
      "   3022/Unknown - 1802s 592ms/step - loss: 0.2051 - mae: 0.1953"
     ]
    },
    {
     "name": "stderr",
     "output_type": "stream",
     "text": [
      "INFO:root:File 'IE00BJQRDL90.csv' loaded, 575 left\n"
     ]
    },
    {
     "name": "stdout",
     "output_type": "stream",
     "text": [
      "   3023/Unknown - 1802s 592ms/step - loss: 0.2050 - mae: 0.1953"
     ]
    },
    {
     "name": "stderr",
     "output_type": "stream",
     "text": [
      "INFO:root:File 'LU1650492330.csv' loaded, 574 left\n"
     ]
    },
    {
     "name": "stdout",
     "output_type": "stream",
     "text": [
      "   3028/Unknown - 1805s 592ms/step - loss: 0.2048 - mae: 0.1953"
     ]
    },
    {
     "name": "stderr",
     "output_type": "stream",
     "text": [
      "INFO:root:File 'IE00BNDS1P30.csv' loaded, 573 left\n"
     ]
    },
    {
     "name": "stdout",
     "output_type": "stream",
     "text": [
      "   3029/Unknown - 1806s 592ms/step - loss: 0.2048 - mae: 0.1953"
     ]
    },
    {
     "name": "stderr",
     "output_type": "stream",
     "text": [
      "INFO:root:File 'IE00BGL86Z12.csv' loaded, 572 left\n"
     ]
    },
    {
     "name": "stdout",
     "output_type": "stream",
     "text": [
      "   3037/Unknown - 1811s 592ms/step - loss: 0.2048 - mae: 0.1954"
     ]
    },
    {
     "name": "stderr",
     "output_type": "stream",
     "text": [
      "INFO:root:File 'IE00B1FZS798.csv' loaded, 571 left\n"
     ]
    },
    {
     "name": "stdout",
     "output_type": "stream",
     "text": [
      "   3043/Unknown - 1814s 592ms/step - loss: 0.2046 - mae: 0.1954"
     ]
    },
    {
     "name": "stderr",
     "output_type": "stream",
     "text": [
      "INFO:root:File 'IE00B4L60045.csv' loaded in retry loop, 570 left\n",
      "INFO:root:File 'IE00BF1B7389.csv' loaded, 569 left\n"
     ]
    },
    {
     "name": "stdout",
     "output_type": "stream",
     "text": [
      "   3046/Unknown - 1817s 592ms/step - loss: 0.2045 - mae: 0.1953"
     ]
    },
    {
     "name": "stderr",
     "output_type": "stream",
     "text": [
      "INFO:root:File 'IE0004U3TX15.csv' loaded, 568 left\n"
     ]
    },
    {
     "name": "stdout",
     "output_type": "stream",
     "text": [
      "   3047/Unknown - 1817s 592ms/step - loss: 0.2045 - mae: 0.1954"
     ]
    },
    {
     "name": "stderr",
     "output_type": "stream",
     "text": [
      "INFO:root:File 'IE00BCRY6557.csv' loaded, 567 left\n"
     ]
    },
    {
     "name": "stdout",
     "output_type": "stream",
     "text": [
      "   3048/Unknown - 1818s 593ms/step - loss: 0.2045 - mae: 0.1954"
     ]
    },
    {
     "name": "stderr",
     "output_type": "stream",
     "text": [
      "INFO:root:File 'IE00BH4GPZ28.csv' loaded, 566 left\n"
     ]
    },
    {
     "name": "stdout",
     "output_type": "stream",
     "text": [
      "   3051/Unknown - 1820s 593ms/step - loss: 0.2043 - mae: 0.1953"
     ]
    },
    {
     "name": "stderr",
     "output_type": "stream",
     "text": [
      "INFO:root:File 'IE00B3RBWM25.csv' loaded, 565 left\n"
     ]
    },
    {
     "name": "stdout",
     "output_type": "stream",
     "text": [
      "   3060/Unknown - 1825s 593ms/step - loss: 0.2039 - mae: 0.1951"
     ]
    },
    {
     "name": "stderr",
     "output_type": "stream",
     "text": [
      "INFO:root:File 'DE000ETFL441.csv' loaded, 564 left\n"
     ]
    },
    {
     "name": "stdout",
     "output_type": "stream",
     "text": [
      "   3061/Unknown - 1826s 593ms/step - loss: 0.2038 - mae: 0.1951"
     ]
    },
    {
     "name": "stderr",
     "output_type": "stream",
     "text": [
      "INFO:root:File 'IE00BMDFDY08.csv' loaded, 563 left\n"
     ]
    },
    {
     "name": "stdout",
     "output_type": "stream",
     "text": [
      "   3066/Unknown - 1829s 593ms/step - loss: 0.2036 - mae: 0.1950"
     ]
    },
    {
     "name": "stderr",
     "output_type": "stream",
     "text": [
      "INFO:root:File 'IE00BMP3HG27.csv' loaded, 562 left\n",
      "/tmp/ipykernel_1242/1318332062.py:23: RuntimeWarning: divide by zero encountered in arctanh\n",
      "  _y = np.arctanh(_y)\n"
     ]
    },
    {
     "name": "stdout",
     "output_type": "stream",
     "text": [
      "   3075/Unknown - 1834s 593ms/step - loss: 0.2032 - mae: 0.1949"
     ]
    },
    {
     "name": "stderr",
     "output_type": "stream",
     "text": [
      "INFO:root:File 'IE000YKE1AQ5.csv' loaded, 561 left\n"
     ]
    },
    {
     "name": "stdout",
     "output_type": "stream",
     "text": [
      "   3079/Unknown - 1837s 593ms/step - loss: 0.2030 - mae: 0.1948"
     ]
    },
    {
     "name": "stderr",
     "output_type": "stream",
     "text": [
      "INFO:root:File 'IE00BHZPJ890.csv' loaded, 560 left\n",
      "/tmp/ipykernel_1242/1318332062.py:23: RuntimeWarning: divide by zero encountered in arctanh\n",
      "  _y = np.arctanh(_y)\n"
     ]
    },
    {
     "name": "stdout",
     "output_type": "stream",
     "text": [
      "   3100/Unknown - 1848s 592ms/step - loss: 0.2038 - mae: 0.1949"
     ]
    },
    {
     "name": "stderr",
     "output_type": "stream",
     "text": [
      "INFO:root:File 'IE00B0M62V02.csv' loaded, 559 left\n"
     ]
    },
    {
     "name": "stdout",
     "output_type": "stream",
     "text": [
      "   3101/Unknown - 1849s 592ms/step - loss: 0.2038 - mae: 0.1949"
     ]
    },
    {
     "name": "stderr",
     "output_type": "stream",
     "text": [
      "INFO:root:File 'LU1940199711.csv' loaded, 558 left\n"
     ]
    },
    {
     "name": "stdout",
     "output_type": "stream",
     "text": [
      "   3110/Unknown - 1854s 592ms/step - loss: 0.2034 - mae: 0.1948"
     ]
    },
    {
     "name": "stderr",
     "output_type": "stream",
     "text": [
      "INFO:root:File 'IE00BF540Y54.csv' loaded, 557 left\n"
     ]
    },
    {
     "name": "stdout",
     "output_type": "stream",
     "text": [
      "   3111/Unknown - 1855s 592ms/step - loss: 0.2034 - mae: 0.1948"
     ]
    },
    {
     "name": "stderr",
     "output_type": "stream",
     "text": [
      "INFO:root:File 'LU1407888053.csv' loaded, 556 left\n"
     ]
    },
    {
     "name": "stdout",
     "output_type": "stream",
     "text": [
      "   3113/Unknown - 1857s 593ms/step - loss: 0.2033 - mae: 0.1947"
     ]
    },
    {
     "name": "stderr",
     "output_type": "stream",
     "text": [
      "INFO:root:File 'LU1291098827.csv' loaded, 555 left\n"
     ]
    },
    {
     "name": "stdout",
     "output_type": "stream",
     "text": [
      "   3114/Unknown - 1857s 593ms/step - loss: 0.2033 - mae: 0.1947"
     ]
    },
    {
     "name": "stderr",
     "output_type": "stream",
     "text": [
      "INFO:root:File 'IE00B60SWX25.csv' loaded, 554 left\n"
     ]
    },
    {
     "name": "stdout",
     "output_type": "stream",
     "text": [
      "   3118/Unknown - 1860s 593ms/step - loss: 0.2032 - mae: 0.1947"
     ]
    },
    {
     "name": "stderr",
     "output_type": "stream",
     "text": [
      "INFO:root:File 'IE00B6R52259.csv' loaded, 553 left\n"
     ]
    },
    {
     "name": "stdout",
     "output_type": "stream",
     "text": [
      "   3123/Unknown - 1863s 593ms/step - loss: 0.2030 - mae: 0.1946"
     ]
    },
    {
     "name": "stderr",
     "output_type": "stream",
     "text": [
      "INFO:root:File 'IE00BMH5YL08.csv' loaded, 552 left\n"
     ]
    },
    {
     "name": "stdout",
     "output_type": "stream",
     "text": [
      "   3129/Unknown - 1866s 593ms/step - loss: 0.2027 - mae: 0.1945"
     ]
    },
    {
     "name": "stderr",
     "output_type": "stream",
     "text": [
      "INFO:root:File 'DE000ETFL482.csv' loaded, 551 left\n",
      "INFO:root:File 'IE00BKX55S42.csv' loaded, 550 left\n"
     ]
    },
    {
     "name": "stdout",
     "output_type": "stream",
     "text": [
      "   3139/Unknown - 1872s 593ms/step - loss: 0.2023 - mae: 0.1944"
     ]
    },
    {
     "name": "stderr",
     "output_type": "stream",
     "text": [
      "INFO:root:File 'IE00B3VWM098.csv' loaded, 549 left\n"
     ]
    },
    {
     "name": "stdout",
     "output_type": "stream",
     "text": [
      "   3149/Unknown - 1878s 593ms/step - loss: 0.2019 - mae: 0.1943"
     ]
    },
    {
     "name": "stderr",
     "output_type": "stream",
     "text": [
      "INFO:root:File 'LU1753045928.csv' loaded, 548 left\n"
     ]
    },
    {
     "name": "stdout",
     "output_type": "stream",
     "text": [
      "   3152/Unknown - 1880s 593ms/step - loss: 0.2018 - mae: 0.1943"
     ]
    },
    {
     "name": "stderr",
     "output_type": "stream",
     "text": [
      "INFO:root:File 'IE00B60SX394.csv' loaded, 547 left\n"
     ]
    },
    {
     "name": "stdout",
     "output_type": "stream",
     "text": [
      "   3171/Unknown - 1890s 592ms/step - loss: 0.2010 - mae: 0.1941"
     ]
    },
    {
     "name": "stderr",
     "output_type": "stream",
     "text": [
      "INFO:root:File 'IE00BKWQ0D84.csv' loaded, 546 left\n"
     ]
    },
    {
     "name": "stdout",
     "output_type": "stream",
     "text": [
      "   3176/Unknown - 1893s 592ms/step - loss: 0.2008 - mae: 0.1940"
     ]
    },
    {
     "name": "stderr",
     "output_type": "stream",
     "text": [
      "INFO:root:File 'IE00BYSX4283.csv' loaded, 545 left\n",
      "INFO:root:File 'IE000BPQIAA3.csv' loaded, 544 left\n"
     ]
    },
    {
     "name": "stdout",
     "output_type": "stream",
     "text": [
      "   3178/Unknown - 1895s 592ms/step - loss: 0.2007 - mae: 0.1940"
     ]
    },
    {
     "name": "stderr",
     "output_type": "stream",
     "text": [
      "INFO:root:File 'IE00BBQ2W338.csv' loaded, 543 left\n"
     ]
    },
    {
     "name": "stdout",
     "output_type": "stream",
     "text": [
      "   3182/Unknown - 1897s 593ms/step - loss: 0.2006 - mae: 0.1940"
     ]
    },
    {
     "name": "stderr",
     "output_type": "stream",
     "text": [
      "INFO:root:File 'IE00BZ163H91.csv' loaded, 542 left\n"
     ]
    },
    {
     "name": "stdout",
     "output_type": "stream",
     "text": [
      "   3192/Unknown - 1903s 592ms/step - loss: 0.2097 - mae: 0.1945"
     ]
    },
    {
     "name": "stderr",
     "output_type": "stream",
     "text": [
      "INFO:root:File 'DE000A0H08F7.csv' loaded, 541 left\n"
     ]
    },
    {
     "name": "stdout",
     "output_type": "stream",
     "text": [
      "   3198/Unknown - 1907s 592ms/step - loss: 0.2094 - mae: 0.1944"
     ]
    },
    {
     "name": "stderr",
     "output_type": "stream",
     "text": [
      "INFO:root:File 'IE00BYX8XC17.csv' loaded, 540 left\n"
     ]
    },
    {
     "name": "stdout",
     "output_type": "stream",
     "text": [
      "   3205/Unknown - 1911s 592ms/step - loss: 0.2093 - mae: 0.1944"
     ]
    },
    {
     "name": "stderr",
     "output_type": "stream",
     "text": [
      "INFO:root:File 'IE00BMW3QX54.csv' loaded, 539 left\n"
     ]
    },
    {
     "name": "stdout",
     "output_type": "stream",
     "text": [
      "   3216/Unknown - 1917s 592ms/step - loss: 0.2089 - mae: 0.1943"
     ]
    },
    {
     "name": "stderr",
     "output_type": "stream",
     "text": [
      "INFO:root:File 'IE00B1XNHC34.csv' loaded, 538 left\n"
     ]
    },
    {
     "name": "stdout",
     "output_type": "stream",
     "text": [
      "   3217/Unknown - 1918s 592ms/step - loss: 0.2088 - mae: 0.1943"
     ]
    },
    {
     "name": "stderr",
     "output_type": "stream",
     "text": [
      "INFO:root:File 'IE00BF11F565.csv' loaded, 537 left\n"
     ]
    },
    {
     "name": "stdout",
     "output_type": "stream",
     "text": [
      "   3221/Unknown - 1920s 592ms/step - loss: 0.2087 - mae: 0.1943"
     ]
    },
    {
     "name": "stderr",
     "output_type": "stream",
     "text": [
      "INFO:root:File 'IE00BJXRZJ40.csv' loaded, 536 left\n"
     ]
    },
    {
     "name": "stdout",
     "output_type": "stream",
     "text": [
      "   3231/Unknown - 1926s 592ms/step - loss: 0.2093 - mae: 0.1946"
     ]
    },
    {
     "name": "stderr",
     "output_type": "stream",
     "text": [
      "INFO:root:File 'LU1650487413.csv' loaded, 535 left\n",
      "INFO:root:File 'IE00BKT1CS59.csv' loaded, 534 left\n",
      "INFO:root:File 'IE00BKWQ0F09.csv' loaded, 533 left\n"
     ]
    },
    {
     "name": "stdout",
     "output_type": "stream",
     "text": [
      "   3237/Unknown - 1930s 593ms/step - loss: 0.2094 - mae: 0.1946"
     ]
    },
    {
     "name": "stderr",
     "output_type": "stream",
     "text": [
      "INFO:root:File 'IE00BJRCLL96.csv' loaded, 532 left\n"
     ]
    },
    {
     "name": "stdout",
     "output_type": "stream",
     "text": [
      "   3247/Unknown - 1936s 592ms/step - loss: 0.2094 - mae: 0.1947"
     ]
    },
    {
     "name": "stderr",
     "output_type": "stream",
     "text": [
      "INFO:root:File 'IE00B42NKQ00.csv' loaded, 531 left\n",
      "INFO:root:File 'IE00BK5BQZ41.csv' loaded, 530 left\n"
     ]
    },
    {
     "name": "stdout",
     "output_type": "stream",
     "text": [
      "   3252/Unknown - 1939s 593ms/step - loss: 0.2093 - mae: 0.1948"
     ]
    },
    {
     "name": "stderr",
     "output_type": "stream",
     "text": [
      "INFO:root:File 'LU2090062949.csv' loaded, 529 left\n"
     ]
    },
    {
     "name": "stdout",
     "output_type": "stream",
     "text": [
      "   3257/Unknown - 1942s 593ms/step - loss: 0.2092 - mae: 0.1948"
     ]
    },
    {
     "name": "stderr",
     "output_type": "stream",
     "text": [
      "INFO:root:File 'IE000UU299V4.csv' loaded, 528 left\n"
     ]
    },
    {
     "name": "stdout",
     "output_type": "stream",
     "text": [
      "   3263/Unknown - 1946s 593ms/step - loss: 0.2093 - mae: 0.1949"
     ]
    },
    {
     "name": "stderr",
     "output_type": "stream",
     "text": [
      "INFO:root:File 'IE00B1FZS574.csv' loaded, 527 left\n"
     ]
    },
    {
     "name": "stdout",
     "output_type": "stream",
     "text": [
      "   3265/Unknown - 1947s 593ms/step - loss: 0.2092 - mae: 0.1949"
     ]
    },
    {
     "name": "stderr",
     "output_type": "stream",
     "text": [
      "INFO:root:File 'IE00BF16M727.csv' loaded, 526 left\n",
      "INFO:root:File 'IE00BK5BCD43.csv' loaded, 525 left\n"
     ]
    },
    {
     "name": "stdout",
     "output_type": "stream",
     "text": [
      "   3277/Unknown - 1954s 593ms/step - loss: 0.2105 - mae: 0.1955"
     ]
    },
    {
     "name": "stderr",
     "output_type": "stream",
     "text": [
      "INFO:root:File 'IE00BGYWT403.csv' loaded, 524 left\n"
     ]
    },
    {
     "name": "stdout",
     "output_type": "stream",
     "text": [
      "   3279/Unknown - 1956s 593ms/step - loss: 0.2106 - mae: 0.1955"
     ]
    },
    {
     "name": "stderr",
     "output_type": "stream",
     "text": [
      "INFO:root:File 'IE00BKSCBX74.csv' loaded, 523 left\n"
     ]
    },
    {
     "name": "stdout",
     "output_type": "stream",
     "text": [
      "   3285/Unknown - 1959s 593ms/step - loss: 0.2107 - mae: 0.1956"
     ]
    },
    {
     "name": "stderr",
     "output_type": "stream",
     "text": [
      "INFO:root:File 'LU1681039134.csv' loaded, 522 left\n"
     ]
    },
    {
     "name": "stdout",
     "output_type": "stream",
     "text": [
      "   3287/Unknown - 1960s 593ms/step - loss: 0.2106 - mae: 0.1956"
     ]
    },
    {
     "name": "stderr",
     "output_type": "stream",
     "text": [
      "INFO:root:File 'IE00B52MJD48.csv' loaded, 521 left\n",
      "INFO:root:File 'IE00BFWXDY69.csv' loaded, 520 left\n"
     ]
    },
    {
     "name": "stdout",
     "output_type": "stream",
     "text": [
      "   3299/Unknown - 1968s 593ms/step - loss: 0.2105 - mae: 0.1957"
     ]
    },
    {
     "name": "stderr",
     "output_type": "stream",
     "text": [
      "INFO:root:File 'IE00BNG8L385.csv' loaded, 519 left\n"
     ]
    },
    {
     "name": "stdout",
     "output_type": "stream",
     "text": [
      "   3301/Unknown - 1969s 593ms/step - loss: 0.2105 - mae: 0.1957"
     ]
    },
    {
     "name": "stderr",
     "output_type": "stream",
     "text": [
      "/tmp/ipykernel_1242/1318332062.py:23: RuntimeWarning: divide by zero encountered in arctanh\n",
      "  _y = np.arctanh(_y)\n"
     ]
    },
    {
     "name": "stdout",
     "output_type": "stream",
     "text": [
      "   3304/Unknown - 1971s 593ms/step - loss: 0.2104 - mae: 0.1956"
     ]
    },
    {
     "name": "stderr",
     "output_type": "stream",
     "text": [
      "INFO:root:File 'LU2090063327.csv' loaded, 518 left\n"
     ]
    },
    {
     "name": "stdout",
     "output_type": "stream",
     "text": [
      "   3309/Unknown - 1974s 593ms/step - loss: 0.2102 - mae: 0.1956"
     ]
    },
    {
     "name": "stderr",
     "output_type": "stream",
     "text": [
      "INFO:root:File 'LU0908501488.csv' loaded, 517 left\n",
      "INFO:root:File 'IE00BHZPJ015.csv' loaded, 516 left\n"
     ]
    },
    {
     "name": "stdout",
     "output_type": "stream",
     "text": [
      "   3313/Unknown - 1976s 593ms/step - loss: 0.2101 - mae: 0.1956"
     ]
    },
    {
     "name": "stderr",
     "output_type": "stream",
     "text": [
      "INFO:root:File 'IE00BYTRRH56.csv' loaded, 515 left\n"
     ]
    },
    {
     "name": "stdout",
     "output_type": "stream",
     "text": [
      "   3318/Unknown - 1979s 593ms/step - loss: 0.2101 - mae: 0.1957"
     ]
    },
    {
     "name": "stderr",
     "output_type": "stream",
     "text": [
      "INFO:root:File 'IE00B5MTXJ97.csv' loaded, 514 left\n"
     ]
    },
    {
     "name": "stdout",
     "output_type": "stream",
     "text": [
      "   3322/Unknown - 1982s 593ms/step - loss: 0.2099 - mae: 0.1957"
     ]
    },
    {
     "name": "stderr",
     "output_type": "stream",
     "text": [
      "INFO:root:File 'LU0378437502.csv' loaded, 513 left\n"
     ]
    },
    {
     "name": "stdout",
     "output_type": "stream",
     "text": [
      "   3328/Unknown - 1985s 593ms/step - loss: 0.2097 - mae: 0.1956"
     ]
    },
    {
     "name": "stderr",
     "output_type": "stream",
     "text": [
      "INFO:root:File 'IE00B4WXJH41.csv' loaded, 512 left\n"
     ]
    },
    {
     "name": "stdout",
     "output_type": "stream",
     "text": [
      "   3329/Unknown - 1986s 593ms/step - loss: 0.2098 - mae: 0.1957"
     ]
    },
    {
     "name": "stderr",
     "output_type": "stream",
     "text": [
      "INFO:root:File 'LU1079841273.csv' loaded, 511 left\n"
     ]
    },
    {
     "name": "stdout",
     "output_type": "stream",
     "text": [
      "   3330/Unknown - 1987s 593ms/step - loss: 0.2098 - mae: 0.1957"
     ]
    },
    {
     "name": "stderr",
     "output_type": "stream",
     "text": [
      "INFO:root:File 'LU1285960032.csv' loaded, 510 left\n"
     ]
    },
    {
     "name": "stdout",
     "output_type": "stream",
     "text": [
      "   3351/Unknown - 1998s 593ms/step - loss: 0.2090 - mae: 0.1955"
     ]
    },
    {
     "name": "stderr",
     "output_type": "stream",
     "text": [
      "INFO:root:File 'IE00B1FZSF77.csv' loaded, 509 left\n"
     ]
    },
    {
     "name": "stdout",
     "output_type": "stream",
     "text": [
      "   3355/Unknown - 2001s 593ms/step - loss: 0.2090 - mae: 0.1955"
     ]
    },
    {
     "name": "stderr",
     "output_type": "stream",
     "text": [
      "INFO:root:File 'IE00BLCHJZ35.csv' loaded, 508 left\n"
     ]
    },
    {
     "name": "stdout",
     "output_type": "stream",
     "text": [
      "   3361/Unknown - 2004s 593ms/step - loss: 0.2089 - mae: 0.1955"
     ]
    },
    {
     "name": "stderr",
     "output_type": "stream",
     "text": [
      "INFO:root:File 'IE00B3S5XW04.csv' loaded, 507 left\n"
     ]
    },
    {
     "name": "stdout",
     "output_type": "stream",
     "text": [
      "   3362/Unknown - 2005s 593ms/step - loss: 0.2090 - mae: 0.1956"
     ]
    },
    {
     "name": "stderr",
     "output_type": "stream",
     "text": [
      "INFO:root:File 'IE00B0M63060.csv' loaded in retry loop, 506 left\n"
     ]
    },
    {
     "name": "stdout",
     "output_type": "stream",
     "text": [
      "   3368/Unknown - 2009s 593ms/step - loss: 0.2089 - mae: 0.1956"
     ]
    },
    {
     "name": "stderr",
     "output_type": "stream",
     "text": [
      "INFO:root:File 'IE00BKPSPT20.csv' loaded, 505 left\n"
     ]
    },
    {
     "name": "stdout",
     "output_type": "stream",
     "text": [
      "   3372/Unknown - 2011s 593ms/step - loss: 0.2088 - mae: 0.1956"
     ]
    },
    {
     "name": "stderr",
     "output_type": "stream",
     "text": [
      "INFO:root:File 'IE00BKWQ0J47.csv' loaded, 504 left\n"
     ]
    },
    {
     "name": "stdout",
     "output_type": "stream",
     "text": [
      "   3378/Unknown - 2015s 593ms/step - loss: 0.2088 - mae: 0.1956"
     ]
    },
    {
     "name": "stderr",
     "output_type": "stream",
     "text": [
      "INFO:root:File 'LU1437017350.csv' loaded, 503 left\n"
     ]
    },
    {
     "name": "stdout",
     "output_type": "stream",
     "text": [
      "   3395/Unknown - 2024s 593ms/step - loss: 0.2083 - mae: 0.1955"
     ]
    },
    {
     "name": "stderr",
     "output_type": "stream",
     "text": [
      "INFO:root:File 'IE00B5V94313.csv' loaded, 502 left\n"
     ]
    },
    {
     "name": "stdout",
     "output_type": "stream",
     "text": [
      "   3404/Unknown - 2029s 592ms/step - loss: 0.2091 - mae: 0.1955"
     ]
    },
    {
     "name": "stderr",
     "output_type": "stream",
     "text": [
      "INFO:root:File 'IE00BFWXDV39.csv' loaded, 501 left\n"
     ]
    },
    {
     "name": "stdout",
     "output_type": "stream",
     "text": [
      "   3407/Unknown - 2031s 593ms/step - loss: 0.2089 - mae: 0.1955"
     ]
    },
    {
     "name": "stderr",
     "output_type": "stream",
     "text": [
      "INFO:root:File 'IE00BGDQ0L74.csv' loaded, 500 left\n"
     ]
    },
    {
     "name": "stdout",
     "output_type": "stream",
     "text": [
      "   3410/Unknown - 2033s 593ms/step - loss: 0.2088 - mae: 0.1954"
     ]
    },
    {
     "name": "stderr",
     "output_type": "stream",
     "text": [
      "INFO:root:File 'IE00B7K93397.csv' loaded, 499 left\n"
     ]
    },
    {
     "name": "stdout",
     "output_type": "stream",
     "text": [
      "   3418/Unknown - 2037s 593ms/step - loss: 0.2086 - mae: 0.1954"
     ]
    },
    {
     "name": "stderr",
     "output_type": "stream",
     "text": [
      "INFO:root:File 'DE000ETFL565.csv' loaded, 498 left\n"
     ]
    },
    {
     "name": "stdout",
     "output_type": "stream",
     "text": [
      "   3427/Unknown - 2042s 592ms/step - loss: 0.2084 - mae: 0.1954"
     ]
    },
    {
     "name": "stderr",
     "output_type": "stream",
     "text": [
      "INFO:root:File 'IE00B2NPL135.csv' loaded, 497 left\n"
     ]
    },
    {
     "name": "stdout",
     "output_type": "stream",
     "text": [
      "   3428/Unknown - 2043s 593ms/step - loss: 0.2083 - mae: 0.1954"
     ]
    },
    {
     "name": "stderr",
     "output_type": "stream",
     "text": [
      "INFO:root:File 'LU1829220216.csv' loaded, 496 left\n"
     ]
    },
    {
     "name": "stdout",
     "output_type": "stream",
     "text": [
      "   3430/Unknown - 2045s 593ms/step - loss: 0.2083 - mae: 0.1954"
     ]
    },
    {
     "name": "stderr",
     "output_type": "stream",
     "text": [
      "INFO:root:File 'IE00BZCQB185.csv' loaded in retry loop, 495 left\n"
     ]
    },
    {
     "name": "stdout",
     "output_type": "stream",
     "text": [
      "   3433/Unknown - 2047s 593ms/step - loss: 0.2083 - mae: 0.1955"
     ]
    },
    {
     "name": "stderr",
     "output_type": "stream",
     "text": [
      "INFO:root:File 'LU0947415054.csv' loaded, 494 left\n"
     ]
    },
    {
     "name": "stdout",
     "output_type": "stream",
     "text": [
      "   3443/Unknown - 2052s 593ms/step - loss: 0.2085 - mae: 0.1956"
     ]
    },
    {
     "name": "stderr",
     "output_type": "stream",
     "text": [
      "INFO:root:File 'IE00BM9GRP64.csv' loaded, 493 left\n"
     ]
    },
    {
     "name": "stdout",
     "output_type": "stream",
     "text": [
      "   3453/Unknown - 2058s 592ms/step - loss: 0.2083 - mae: 0.1956"
     ]
    },
    {
     "name": "stderr",
     "output_type": "stream",
     "text": [
      "INFO:root:File 'IE00BYSX4846.csv' loaded, 492 left\n"
     ]
    },
    {
     "name": "stdout",
     "output_type": "stream",
     "text": [
      "   3455/Unknown - 2059s 592ms/step - loss: 0.2082 - mae: 0.1956"
     ]
    },
    {
     "name": "stderr",
     "output_type": "stream",
     "text": [
      "INFO:root:File 'IE00BJXRT698.csv' loaded, 491 left\n"
     ]
    },
    {
     "name": "stdout",
     "output_type": "stream",
     "text": [
      "   3456/Unknown - 2060s 593ms/step - loss: 0.2081 - mae: 0.1956"
     ]
    },
    {
     "name": "stderr",
     "output_type": "stream",
     "text": [
      "INFO:root:File 'IE00BYPLS672.csv' loaded, 490 left\n"
     ]
    },
    {
     "name": "stdout",
     "output_type": "stream",
     "text": [
      "   3459/Unknown - 2062s 593ms/step - loss: 0.2080 - mae: 0.1955"
     ]
    },
    {
     "name": "stderr",
     "output_type": "stream",
     "text": [
      "INFO:root:File 'LU0136234068.csv' loaded, 489 left\n"
     ]
    },
    {
     "name": "stdout",
     "output_type": "stream",
     "text": [
      "   3471/Unknown - 2069s 592ms/step - loss: 0.2078 - mae: 0.1956"
     ]
    },
    {
     "name": "stderr",
     "output_type": "stream",
     "text": [
      "INFO:root:File 'LU0378434236.csv' loaded, 488 left\n"
     ]
    },
    {
     "name": "stdout",
     "output_type": "stream",
     "text": [
      "   3475/Unknown - 2071s 593ms/step - loss: 0.2077 - mae: 0.1956"
     ]
    },
    {
     "name": "stderr",
     "output_type": "stream",
     "text": [
      "INFO:root:File 'IE00BP3QZ825.csv' loaded, 487 left\n"
     ]
    },
    {
     "name": "stdout",
     "output_type": "stream",
     "text": [
      "   3482/Unknown - 2075s 592ms/step - loss: 0.2075 - mae: 0.1956"
     ]
    },
    {
     "name": "stderr",
     "output_type": "stream",
     "text": [
      "INFO:root:File 'IE00B1YZSC51.csv' loaded, 486 left\n"
     ]
    },
    {
     "name": "stdout",
     "output_type": "stream",
     "text": [
      "   3485/Unknown - 2077s 593ms/step - loss: 0.2074 - mae: 0.1955"
     ]
    },
    {
     "name": "stderr",
     "output_type": "stream",
     "text": [
      "INFO:root:File 'IE00B5M1WJ87.csv' loaded, 485 left\n"
     ]
    },
    {
     "name": "stdout",
     "output_type": "stream",
     "text": [
      "   3492/Unknown - 2081s 593ms/step - loss: 0.2073 - mae: 0.1956"
     ]
    },
    {
     "name": "stderr",
     "output_type": "stream",
     "text": [
      "INFO:root:File 'IE00BNGFMX61.csv' loaded, 484 left\n"
     ]
    },
    {
     "name": "stdout",
     "output_type": "stream",
     "text": [
      "   3497/Unknown - 2084s 593ms/step - loss: 0.2072 - mae: 0.1956"
     ]
    },
    {
     "name": "stderr",
     "output_type": "stream",
     "text": [
      "INFO:root:File 'IE00B5SG8Z57.csv' loaded, 483 left\n"
     ]
    },
    {
     "name": "stdout",
     "output_type": "stream",
     "text": [
      "   3504/Unknown - 2088s 593ms/step - loss: 0.2071 - mae: 0.1956"
     ]
    },
    {
     "name": "stderr",
     "output_type": "stream",
     "text": [
      "INFO:root:File 'LU0252633754.csv' loaded, 482 left\n"
     ]
    },
    {
     "name": "stdout",
     "output_type": "stream",
     "text": [
      "   3512/Unknown - 2093s 592ms/step - loss: 0.2067 - mae: 0.1955"
     ]
    },
    {
     "name": "stderr",
     "output_type": "stream",
     "text": [
      "INFO:root:File 'FR0010424135.csv' loaded, 481 left\n"
     ]
    },
    {
     "name": "stdout",
     "output_type": "stream",
     "text": [
      "   3522/Unknown - 2098s 592ms/step - loss: 0.2065 - mae: 0.1955"
     ]
    },
    {
     "name": "stderr",
     "output_type": "stream",
     "text": [
      "INFO:root:File 'IE00BMDH1538.csv' loaded, 480 left\n"
     ]
    },
    {
     "name": "stdout",
     "output_type": "stream",
     "text": [
      "   3532/Unknown - 2104s 592ms/step - loss: 0.2063 - mae: 0.1955"
     ]
    },
    {
     "name": "stderr",
     "output_type": "stream",
     "text": [
      "INFO:root:File 'IE00BMDBMT65.csv' loaded, 479 left\n"
     ]
    },
    {
     "name": "stdout",
     "output_type": "stream",
     "text": [
      "   3543/Unknown - 2110s 592ms/step - loss: 0.2060 - mae: 0.1955"
     ]
    },
    {
     "name": "stderr",
     "output_type": "stream",
     "text": [
      "INFO:root:File 'IE000L5NW549.csv' loaded, 478 left\n"
     ]
    },
    {
     "name": "stdout",
     "output_type": "stream",
     "text": [
      "   3547/Unknown - 2113s 592ms/step - loss: 0.2059 - mae: 0.1954"
     ]
    },
    {
     "name": "stderr",
     "output_type": "stream",
     "text": [
      "INFO:root:File 'IE00BD1F4K20.csv' loaded, 477 left\n"
     ]
    },
    {
     "name": "stdout",
     "output_type": "stream",
     "text": [
      "   3550/Unknown - 2114s 592ms/step - loss: 0.2058 - mae: 0.1954"
     ]
    },
    {
     "name": "stderr",
     "output_type": "stream",
     "text": [
      "INFO:root:File 'IE00BFTWP510.csv' loaded, 476 left\n"
     ]
    },
    {
     "name": "stdout",
     "output_type": "stream",
     "text": [
      "   3553/Unknown - 2116s 592ms/step - loss: 0.2057 - mae: 0.1954"
     ]
    },
    {
     "name": "stderr",
     "output_type": "stream",
     "text": [
      "INFO:root:File 'LU1598690169.csv' loaded, 475 left\n",
      "/tmp/ipykernel_1242/1318332062.py:23: RuntimeWarning: divide by zero encountered in arctanh\n",
      "  _y = np.arctanh(_y)\n"
     ]
    },
    {
     "name": "stdout",
     "output_type": "stream",
     "text": [
      "   3567/Unknown - 2124s 592ms/step - loss: 0.2052 - mae: 0.1953"
     ]
    },
    {
     "name": "stderr",
     "output_type": "stream",
     "text": [
      "INFO:root:File 'LU1215461325.csv' loaded, 474 left\n"
     ]
    },
    {
     "name": "stdout",
     "output_type": "stream",
     "text": [
      "   3570/Unknown - 2126s 592ms/step - loss: 0.2052 - mae: 0.1953"
     ]
    },
    {
     "name": "stderr",
     "output_type": "stream",
     "text": [
      "INFO:root:File 'LU1753045415.csv' loaded, 473 left\n"
     ]
    },
    {
     "name": "stdout",
     "output_type": "stream",
     "text": [
      "   3580/Unknown - 2132s 592ms/step - loss: 0.2050 - mae: 0.1953"
     ]
    },
    {
     "name": "stderr",
     "output_type": "stream",
     "text": [
      "INFO:root:File 'IE00B2NPKV68.csv' loaded, 472 left\n"
     ]
    },
    {
     "name": "stdout",
     "output_type": "stream",
     "text": [
      "   3582/Unknown - 2133s 592ms/step - loss: 0.2050 - mae: 0.1953"
     ]
    },
    {
     "name": "stderr",
     "output_type": "stream",
     "text": [
      "INFO:root:File 'IE00BYYHSM20.csv' loaded, 471 left\n"
     ]
    },
    {
     "name": "stdout",
     "output_type": "stream",
     "text": [
      "   3598/Unknown - 2142s 592ms/step - loss: 0.2045 - mae: 0.1952"
     ]
    },
    {
     "name": "stderr",
     "output_type": "stream",
     "text": [
      "INFO:root:File 'FR0010869578.csv' loaded, 470 left\n"
     ]
    },
    {
     "name": "stdout",
     "output_type": "stream",
     "text": [
      "   3599/Unknown - 2143s 592ms/step - loss: 0.2044 - mae: 0.1952"
     ]
    },
    {
     "name": "stderr",
     "output_type": "stream",
     "text": [
      "INFO:root:File 'FR0010424143.csv' loaded, 469 left\n"
     ]
    },
    {
     "name": "stdout",
     "output_type": "stream",
     "text": [
      "   3600/Unknown - 2144s 592ms/step - loss: 0.2044 - mae: 0.1952"
     ]
    },
    {
     "name": "stderr",
     "output_type": "stream",
     "text": [
      "INFO:root:File 'LU2109786827.csv' loaded, 468 left\n"
     ]
    },
    {
     "name": "stdout",
     "output_type": "stream",
     "text": [
      "   3602/Unknown - 2145s 592ms/step - loss: 0.2043 - mae: 0.1952"
     ]
    },
    {
     "name": "stderr",
     "output_type": "stream",
     "text": [
      "INFO:root:File 'IE00B8KGV557.csv' loaded, 467 left\n"
     ]
    },
    {
     "name": "stdout",
     "output_type": "stream",
     "text": [
      "   3608/Unknown - 2149s 592ms/step - loss: 0.2043 - mae: 0.1953"
     ]
    },
    {
     "name": "stderr",
     "output_type": "stream",
     "text": [
      "INFO:root:File 'DE0002635265.csv' loaded, 466 left\n"
     ]
    },
    {
     "name": "stdout",
     "output_type": "stream",
     "text": [
      "   3614/Unknown - 2152s 592ms/step - loss: 0.2046 - mae: 0.1954"
     ]
    },
    {
     "name": "stderr",
     "output_type": "stream",
     "text": [
      "INFO:root:File 'IE00BF59RW70.csv' loaded, 465 left\n",
      "INFO:root:File 'IE00B4X9L533.csv' loaded, 464 left\n"
     ]
    },
    {
     "name": "stdout",
     "output_type": "stream",
     "text": [
      "   3638/Unknown - 2166s 592ms/step - loss: 0.2049 - mae: 0.1954"
     ]
    },
    {
     "name": "stderr",
     "output_type": "stream",
     "text": [
      "INFO:root:File 'IE00B42Z5J44.csv' loaded, 463 left\n"
     ]
    },
    {
     "name": "stdout",
     "output_type": "stream",
     "text": [
      "   3654/Unknown - 2175s 592ms/step - loss: 0.2045 - mae: 0.1954"
     ]
    },
    {
     "name": "stderr",
     "output_type": "stream",
     "text": [
      "INFO:root:File 'IE00B6S2Z822.csv' loaded, 462 left\n"
     ]
    },
    {
     "name": "stdout",
     "output_type": "stream",
     "text": [
      "   3659/Unknown - 2178s 592ms/step - loss: 0.2044 - mae: 0.1953"
     ]
    },
    {
     "name": "stderr",
     "output_type": "stream",
     "text": [
      "INFO:root:File 'IE00BFNM3P36.csv' loaded, 461 left\n"
     ]
    },
    {
     "name": "stdout",
     "output_type": "stream",
     "text": [
      "   3665/Unknown - 2181s 592ms/step - loss: 0.2041 - mae: 0.1952"
     ]
    },
    {
     "name": "stderr",
     "output_type": "stream",
     "text": [
      "INFO:root:File 'IE00BFNM3H51.csv' loaded, 460 left\n"
     ]
    },
    {
     "name": "stdout",
     "output_type": "stream",
     "text": [
      "   3670/Unknown - 2184s 592ms/step - loss: 0.2041 - mae: 0.1954"
     ]
    },
    {
     "name": "stderr",
     "output_type": "stream",
     "text": [
      "INFO:root:File 'LU2300294316.csv' loaded, 459 left\n"
     ]
    },
    {
     "name": "stdout",
     "output_type": "stream",
     "text": [
      "   3680/Unknown - 2190s 592ms/step - loss: 0.2041 - mae: 0.1954"
     ]
    },
    {
     "name": "stderr",
     "output_type": "stream",
     "text": [
      "INFO:root:File 'IE00B53SZB19.csv' loaded, 458 left\n"
     ]
    },
    {
     "name": "stdout",
     "output_type": "stream",
     "text": [
      "   3683/Unknown - 2192s 592ms/step - loss: 0.2040 - mae: 0.1954"
     ]
    },
    {
     "name": "stderr",
     "output_type": "stream",
     "text": [
      "INFO:root:File 'IE00BKSBGT50.csv' loaded, 457 left\n",
      "INFO:root:File 'IE00BCLWRG39.csv' loaded, 456 left\n"
     ]
    },
    {
     "name": "stdout",
     "output_type": "stream",
     "text": [
      "   3688/Unknown - 2195s 592ms/step - loss: 0.2039 - mae: 0.1954"
     ]
    },
    {
     "name": "stderr",
     "output_type": "stream",
     "text": [
      "INFO:root:File 'LU2023679256.csv' loaded, 455 left\n"
     ]
    },
    {
     "name": "stdout",
     "output_type": "stream",
     "text": [
      "   3689/Unknown - 2196s 592ms/step - loss: 0.2039 - mae: 0.1954"
     ]
    },
    {
     "name": "stderr",
     "output_type": "stream",
     "text": [
      "INFO:root:File 'LU1861137484.csv' loaded, 454 left\n"
     ]
    },
    {
     "name": "stdout",
     "output_type": "stream",
     "text": [
      "   3698/Unknown - 2201s 592ms/step - loss: 0.2037 - mae: 0.1955"
     ]
    },
    {
     "name": "stderr",
     "output_type": "stream",
     "text": [
      "INFO:root:File 'IE00BZ048579.csv' loaded, 453 left\n"
     ]
    },
    {
     "name": "stdout",
     "output_type": "stream",
     "text": [
      "   3704/Unknown - 2204s 592ms/step - loss: 0.2035 - mae: 0.1954"
     ]
    },
    {
     "name": "stderr",
     "output_type": "stream",
     "text": [
      "INFO:root:File 'DE0006289481.csv' loaded, 452 left\n"
     ]
    },
    {
     "name": "stdout",
     "output_type": "stream",
     "text": [
      "   3707/Unknown - 2206s 592ms/step - loss: 0.2034 - mae: 0.1954"
     ]
    },
    {
     "name": "stderr",
     "output_type": "stream",
     "text": [
      "INFO:root:File 'IE00B3YC1100.csv' loaded, 451 left\n"
     ]
    },
    {
     "name": "stdout",
     "output_type": "stream",
     "text": [
      "   3711/Unknown - 2209s 592ms/step - loss: 0.2032 - mae: 0.1953"
     ]
    },
    {
     "name": "stderr",
     "output_type": "stream",
     "text": [
      "INFO:root:File 'LU0832436512.csv' loaded, 450 left\n"
     ]
    },
    {
     "name": "stdout",
     "output_type": "stream",
     "text": [
      "   3713/Unknown - 2210s 592ms/step - loss: 0.2031 - mae: 0.1953"
     ]
    },
    {
     "name": "stderr",
     "output_type": "stream",
     "text": [
      "INFO:root:File 'LU1602145119.csv' loaded, 449 left\n"
     ]
    },
    {
     "name": "stdout",
     "output_type": "stream",
     "text": [
      "   3716/Unknown - 2212s 592ms/step - loss: 0.2030 - mae: 0.1952"
     ]
    },
    {
     "name": "stderr",
     "output_type": "stream",
     "text": [
      "INFO:root:File 'IE00B5MTXK03.csv' loaded, 448 left\n"
     ]
    },
    {
     "name": "stdout",
     "output_type": "stream",
     "text": [
      "   3721/Unknown - 2215s 592ms/step - loss: 0.2028 - mae: 0.1952"
     ]
    },
    {
     "name": "stderr",
     "output_type": "stream",
     "text": [
      "INFO:root:File 'IE00BFNM3C07.csv' loaded, 447 left\n"
     ]
    },
    {
     "name": "stdout",
     "output_type": "stream",
     "text": [
      "   3735/Unknown - 2223s 592ms/step - loss: 0.2023 - mae: 0.1951"
     ]
    },
    {
     "name": "stderr",
     "output_type": "stream",
     "text": [
      "INFO:root:File 'IE00BJQRDN15.csv' loaded, 446 left\n"
     ]
    },
    {
     "name": "stdout",
     "output_type": "stream",
     "text": [
      "   3741/Unknown - 2226s 592ms/step - loss: 0.2021 - mae: 0.1950"
     ]
    },
    {
     "name": "stderr",
     "output_type": "stream",
     "text": [
      "INFO:root:File 'IE00BK72HJ67.csv' loaded, 445 left\n"
     ]
    },
    {
     "name": "stdout",
     "output_type": "stream",
     "text": [
      "   3744/Unknown - 2228s 592ms/step - loss: 0.2020 - mae: 0.1949"
     ]
    },
    {
     "name": "stderr",
     "output_type": "stream",
     "text": [
      "INFO:root:File 'IE00BMDBMN04.csv' loaded, 444 left\n"
     ]
    },
    {
     "name": "stdout",
     "output_type": "stream",
     "text": [
      "   3754/Unknown - 2234s 592ms/step - loss: 0.2017 - mae: 0.1949"
     ]
    },
    {
     "name": "stderr",
     "output_type": "stream",
     "text": [
      "INFO:root:File 'IE00BLF7VX27.csv' loaded, 443 left\n",
      "INFO:root:File 'LU1812092168.csv' loaded, 442 left\n"
     ]
    },
    {
     "name": "stdout",
     "output_type": "stream",
     "text": [
      "   3755/Unknown - 2235s 592ms/step - loss: 0.2016 - mae: 0.1949"
     ]
    },
    {
     "name": "stderr",
     "output_type": "stream",
     "text": [
      "INFO:root:File 'IE00B2QWDR12.csv' loaded, 441 left\n"
     ]
    },
    {
     "name": "stdout",
     "output_type": "stream",
     "text": [
      "   3756/Unknown - 2236s 592ms/step - loss: 0.2016 - mae: 0.1948"
     ]
    },
    {
     "name": "stderr",
     "output_type": "stream",
     "text": [
      "INFO:root:File 'IE00BP3QZB59.csv' loaded, 440 left\n"
     ]
    },
    {
     "name": "stdout",
     "output_type": "stream",
     "text": [
      "   3767/Unknown - 2242s 592ms/step - loss: 0.2018 - mae: 0.1950"
     ]
    },
    {
     "name": "stderr",
     "output_type": "stream",
     "text": [
      "INFO:root:File 'LU1291101555.csv' loaded, 439 left\n"
     ]
    },
    {
     "name": "stdout",
     "output_type": "stream",
     "text": [
      "   3770/Unknown - 2244s 592ms/step - loss: 0.2017 - mae: 0.1950"
     ]
    },
    {
     "name": "stderr",
     "output_type": "stream",
     "text": [
      "INFO:root:File 'LU1273488715.csv' loaded, 438 left\n"
     ]
    },
    {
     "name": "stdout",
     "output_type": "stream",
     "text": [
      "   3781/Unknown - 2250s 592ms/step - loss: 0.2013 - mae: 0.1949"
     ]
    },
    {
     "name": "stderr",
     "output_type": "stream",
     "text": [
      "INFO:root:File 'IE00B3VWN393.csv' loaded, 437 left\n"
     ]
    },
    {
     "name": "stdout",
     "output_type": "stream",
     "text": [
      "   3793/Unknown - 2257s 592ms/step - loss: 0.2012 - mae: 0.1949"
     ]
    },
    {
     "name": "stderr",
     "output_type": "stream",
     "text": [
      "INFO:root:File 'IE00BF0H7608.csv' loaded, 436 left\n"
     ]
    },
    {
     "name": "stdout",
     "output_type": "stream",
     "text": [
      "   3803/Unknown - 2262s 592ms/step - loss: 0.2008 - mae: 0.1947"
     ]
    },
    {
     "name": "stderr",
     "output_type": "stream",
     "text": [
      "INFO:root:File 'IE00B5MJYB88.csv' loaded, 435 left\n"
     ]
    },
    {
     "name": "stdout",
     "output_type": "stream",
     "text": [
      "   3806/Unknown - 2264s 592ms/step - loss: 0.2007 - mae: 0.1947"
     ]
    },
    {
     "name": "stderr",
     "output_type": "stream",
     "text": [
      "INFO:root:File 'IE00B44T3H88.csv' loaded, 434 left\n"
     ]
    },
    {
     "name": "stdout",
     "output_type": "stream",
     "text": [
      "   3807/Unknown - 2265s 592ms/step - loss: 0.2007 - mae: 0.1947"
     ]
    },
    {
     "name": "stderr",
     "output_type": "stream",
     "text": [
      "INFO:root:File 'IE00BJQRDK83.csv' loaded, 433 left\n"
     ]
    },
    {
     "name": "stdout",
     "output_type": "stream",
     "text": [
      "   3816/Unknown - 2270s 592ms/step - loss: 0.2003 - mae: 0.1945"
     ]
    },
    {
     "name": "stderr",
     "output_type": "stream",
     "text": [
      "INFO:root:File 'LU1861136247.csv' loaded, 432 left\n"
     ]
    },
    {
     "name": "stdout",
     "output_type": "stream",
     "text": [
      "   3821/Unknown - 2273s 592ms/step - loss: 0.2001 - mae: 0.1945"
     ]
    },
    {
     "name": "stderr",
     "output_type": "stream",
     "text": [
      "INFO:root:File 'IE00BG11HV38.csv' loaded, 431 left\n"
     ]
    },
    {
     "name": "stdout",
     "output_type": "stream",
     "text": [
      "   3827/Unknown - 2277s 592ms/step - loss: 0.2000 - mae: 0.1945"
     ]
    },
    {
     "name": "stderr",
     "output_type": "stream",
     "text": [
      "INFO:root:File 'IE00BQ70R696.csv' loaded, 430 left\n"
     ]
    },
    {
     "name": "stdout",
     "output_type": "stream",
     "text": [
      "   3838/Unknown - 2283s 592ms/step - loss: 0.1999 - mae: 0.1945"
     ]
    },
    {
     "name": "stderr",
     "output_type": "stream",
     "text": [
      "INFO:root:File 'IE00BMFNW783.csv' loaded, 429 left\n"
     ]
    },
    {
     "name": "stdout",
     "output_type": "stream",
     "text": [
      "   3840/Unknown - 2284s 592ms/step - loss: 0.1998 - mae: 0.1945"
     ]
    },
    {
     "name": "stderr",
     "output_type": "stream",
     "text": [
      "INFO:root:File 'LU1681040736.csv' loaded, 428 left\n"
     ]
    },
    {
     "name": "stdout",
     "output_type": "stream",
     "text": [
      "   3843/Unknown - 2286s 592ms/step - loss: 0.1997 - mae: 0.1945"
     ]
    },
    {
     "name": "stderr",
     "output_type": "stream",
     "text": [
      "INFO:root:File 'IE00B6YX5D40.csv' loaded, 427 left\n"
     ]
    },
    {
     "name": "stdout",
     "output_type": "stream",
     "text": [
      "   3846/Unknown - 2288s 592ms/step - loss: 0.1995 - mae: 0.1944"
     ]
    },
    {
     "name": "stderr",
     "output_type": "stream",
     "text": [
      "INFO:root:File 'LU0136240974.csv' loaded, 426 left\n"
     ]
    },
    {
     "name": "stdout",
     "output_type": "stream",
     "text": [
      "   3847/Unknown - 2289s 592ms/step - loss: 0.1995 - mae: 0.1944"
     ]
    },
    {
     "name": "stderr",
     "output_type": "stream",
     "text": [
      "INFO:root:File 'LU1048313891.csv' loaded, 425 left\n"
     ]
    },
    {
     "name": "stdout",
     "output_type": "stream",
     "text": [
      "   3859/Unknown - 2295s 592ms/step - loss: 0.1993 - mae: 0.1944"
     ]
    },
    {
     "name": "stderr",
     "output_type": "stream",
     "text": [
      "INFO:root:File 'LU0650624025.csv' loaded, 424 left\n"
     ]
    },
    {
     "name": "stdout",
     "output_type": "stream",
     "text": [
      "   3874/Unknown - 2304s 592ms/step - loss: 0.1989 - mae: 0.1943"
     ]
    },
    {
     "name": "stderr",
     "output_type": "stream",
     "text": [
      "INFO:root:File 'IE00BYSZ5T81.csv' loaded, 423 left\n",
      "INFO:root:File 'IE00B8FHGS14.csv' loaded, 422 left\n"
     ]
    },
    {
     "name": "stdout",
     "output_type": "stream",
     "text": [
      "   3879/Unknown - 2307s 592ms/step - loss: 0.1987 - mae: 0.1943"
     ]
    },
    {
     "name": "stderr",
     "output_type": "stream",
     "text": [
      "INFO:root:File 'IE00B428Z604.csv' loaded, 421 left\n"
     ]
    },
    {
     "name": "stdout",
     "output_type": "stream",
     "text": [
      "   3894/Unknown - 2315s 591ms/step - loss: 0.1986 - mae: 0.1942"
     ]
    },
    {
     "name": "stderr",
     "output_type": "stream",
     "text": [
      "INFO:root:File 'IE00BLP53M98.csv' loaded, 420 left\n"
     ]
    },
    {
     "name": "stdout",
     "output_type": "stream",
     "text": [
      "   3906/Unknown - 2322s 591ms/step - loss: 0.1981 - mae: 0.1941"
     ]
    },
    {
     "name": "stderr",
     "output_type": "stream",
     "text": [
      "INFO:root:File 'LU1650489385.csv' loaded, 419 left\n"
     ]
    },
    {
     "name": "stdout",
     "output_type": "stream",
     "text": [
      "   3907/Unknown - 2323s 591ms/step - loss: 0.1981 - mae: 0.1941"
     ]
    },
    {
     "name": "stderr",
     "output_type": "stream",
     "text": [
      "INFO:root:File 'IE00BX7RR706.csv' loaded, 418 left\n"
     ]
    },
    {
     "name": "stdout",
     "output_type": "stream",
     "text": [
      "   3912/Unknown - 2326s 591ms/step - loss: 0.1979 - mae: 0.1940"
     ]
    },
    {
     "name": "stderr",
     "output_type": "stream",
     "text": [
      "INFO:root:File 'IE00B6YX5L24.csv' loaded, 417 left\n"
     ]
    },
    {
     "name": "stdout",
     "output_type": "stream",
     "text": [
      "   3913/Unknown - 2327s 592ms/step - loss: 0.1979 - mae: 0.1940"
     ]
    },
    {
     "name": "stderr",
     "output_type": "stream",
     "text": [
      "INFO:root:File 'IE00BSKRJZ44.csv' loaded, 416 left\n"
     ]
    },
    {
     "name": "stdout",
     "output_type": "stream",
     "text": [
      "   3923/Unknown - 2332s 591ms/step - loss: 0.1975 - mae: 0.1939"
     ]
    },
    {
     "name": "stderr",
     "output_type": "stream",
     "text": [
      "INFO:root:File 'IE00BHZPJ783.csv' loaded, 415 left\n"
     ]
    },
    {
     "name": "stdout",
     "output_type": "stream",
     "text": [
      "   3931/Unknown - 2337s 591ms/step - loss: 0.1972 - mae: 0.1938"
     ]
    },
    {
     "name": "stderr",
     "output_type": "stream",
     "text": [
      "INFO:root:File 'IE00B4KBBD01.csv' loaded, 414 left\n"
     ]
    },
    {
     "name": "stdout",
     "output_type": "stream",
     "text": [
      "   3940/Unknown - 2342s 591ms/step - loss: 0.1970 - mae: 0.1937"
     ]
    },
    {
     "name": "stderr",
     "output_type": "stream",
     "text": [
      "INFO:root:File 'IE00BLCHJT74.csv' loaded, 413 left\n"
     ]
    },
    {
     "name": "stdout",
     "output_type": "stream",
     "text": [
      "   3944/Unknown - 2344s 591ms/step - loss: 0.1968 - mae: 0.1937"
     ]
    },
    {
     "name": "stderr",
     "output_type": "stream",
     "text": [
      "INFO:root:File 'IE00BMC38736.csv' loaded, 412 left\n"
     ]
    },
    {
     "name": "stdout",
     "output_type": "stream",
     "text": [
      "   3946/Unknown - 2346s 591ms/step - loss: 0.1968 - mae: 0.1937"
     ]
    },
    {
     "name": "stderr",
     "output_type": "stream",
     "text": [
      "INFO:root:File 'IE000O58J820.csv' loaded, 411 left\n"
     ]
    },
    {
     "name": "stdout",
     "output_type": "stream",
     "text": [
      "   3948/Unknown - 2347s 591ms/step - loss: 0.1967 - mae: 0.1937"
     ]
    },
    {
     "name": "stderr",
     "output_type": "stream",
     "text": [
      "INFO:root:File 'IE000NRGX9M3.csv' loaded, 410 left\n"
     ]
    },
    {
     "name": "stdout",
     "output_type": "stream",
     "text": [
      "   3949/Unknown - 2348s 592ms/step - loss: 0.1967 - mae: 0.1937"
     ]
    },
    {
     "name": "stderr",
     "output_type": "stream",
     "text": [
      "INFO:root:File 'IE00BJK9HH50.csv' loaded, 409 left\n"
     ]
    },
    {
     "name": "stdout",
     "output_type": "stream",
     "text": [
      "   3950/Unknown - 2349s 592ms/step - loss: 0.1967 - mae: 0.1937"
     ]
    },
    {
     "name": "stderr",
     "output_type": "stream",
     "text": [
      "INFO:root:File 'IE00BLRPN388.csv' loaded, 408 left\n"
     ]
    },
    {
     "name": "stdout",
     "output_type": "stream",
     "text": [
      "   3956/Unknown - 2352s 592ms/step - loss: 0.1965 - mae: 0.1936"
     ]
    },
    {
     "name": "stderr",
     "output_type": "stream",
     "text": [
      "INFO:root:File 'IE00BMCZLH06.csv' loaded, 407 left\n"
     ]
    },
    {
     "name": "stdout",
     "output_type": "stream",
     "text": [
      "   3958/Unknown - 2354s 592ms/step - loss: 0.1964 - mae: 0.1936"
     ]
    },
    {
     "name": "stderr",
     "output_type": "stream",
     "text": [
      "INFO:root:File 'IE00BF2B0M76.csv' loaded, 406 left\n"
     ]
    },
    {
     "name": "stdout",
     "output_type": "stream",
     "text": [
      "   3962/Unknown - 2356s 592ms/step - loss: 0.1963 - mae: 0.1935"
     ]
    },
    {
     "name": "stderr",
     "output_type": "stream",
     "text": [
      "INFO:root:File 'IE00BHZRQZ17.csv' loaded, 405 left\n"
     ]
    },
    {
     "name": "stdout",
     "output_type": "stream",
     "text": [
      "   3964/Unknown - 2357s 592ms/step - loss: 0.1962 - mae: 0.1935"
     ]
    },
    {
     "name": "stderr",
     "output_type": "stream",
     "text": [
      "INFO:root:File 'IE00BLRPQH31.csv' loaded, 404 left\n"
     ]
    },
    {
     "name": "stdout",
     "output_type": "stream",
     "text": [
      "   3967/Unknown - 2359s 592ms/step - loss: 0.1961 - mae: 0.1934"
     ]
    },
    {
     "name": "stderr",
     "output_type": "stream",
     "text": [
      "INFO:root:File 'LU0635178014.csv' loaded, 403 left\n"
     ]
    },
    {
     "name": "stdout",
     "output_type": "stream",
     "text": [
      "   3969/Unknown - 2361s 592ms/step - loss: 0.1961 - mae: 0.1935"
     ]
    },
    {
     "name": "stderr",
     "output_type": "stream",
     "text": [
      "INFO:root:File 'IE00BMW42074.csv' loaded, 402 left\n"
     ]
    },
    {
     "name": "stdout",
     "output_type": "stream",
     "text": [
      "   3970/Unknown - 2362s 592ms/step - loss: 0.1961 - mae: 0.1935"
     ]
    },
    {
     "name": "stderr",
     "output_type": "stream",
     "text": [
      "INFO:root:File 'IE00B4LN9N13.csv' loaded, 401 left\n"
     ]
    },
    {
     "name": "stdout",
     "output_type": "stream",
     "text": [
      "   3972/Unknown - 2363s 592ms/step - loss: 0.1961 - mae: 0.1935"
     ]
    },
    {
     "name": "stderr",
     "output_type": "stream",
     "text": [
      "INFO:root:File 'IE00B44CND37.csv' loaded, 400 left\n"
     ]
    },
    {
     "name": "stdout",
     "output_type": "stream",
     "text": [
      "   3977/Unknown - 2366s 592ms/step - loss: 0.1959 - mae: 0.1934"
     ]
    },
    {
     "name": "stderr",
     "output_type": "stream",
     "text": [
      "INFO:root:File 'IE00BMFNWC33.csv' loaded, 399 left\n"
     ]
    },
    {
     "name": "stdout",
     "output_type": "stream",
     "text": [
      "   3981/Unknown - 2368s 592ms/step - loss: 0.1957 - mae: 0.1934"
     ]
    },
    {
     "name": "stderr",
     "output_type": "stream",
     "text": [
      "INFO:root:File 'LU0392495700.csv' loaded, 398 left\n"
     ]
    },
    {
     "name": "stdout",
     "output_type": "stream",
     "text": [
      "   3982/Unknown - 2369s 592ms/step - loss: 0.1957 - mae: 0.1934"
     ]
    },
    {
     "name": "stderr",
     "output_type": "stream",
     "text": [
      "INFO:root:File 'LU1686832194.csv' loaded, 397 left\n"
     ]
    },
    {
     "name": "stdout",
     "output_type": "stream",
     "text": [
      "   3986/Unknown - 2372s 592ms/step - loss: 0.1956 - mae: 0.1933"
     ]
    },
    {
     "name": "stderr",
     "output_type": "stream",
     "text": [
      "INFO:root:File 'IE00BZ0PKV06.csv' loaded, 396 left\n"
     ]
    },
    {
     "name": "stdout",
     "output_type": "stream",
     "text": [
      "   3988/Unknown - 2373s 592ms/step - loss: 0.1956 - mae: 0.1933"
     ]
    },
    {
     "name": "stderr",
     "output_type": "stream",
     "text": [
      "INFO:root:File 'LU0496786574.csv' loaded, 395 left\n"
     ]
    },
    {
     "name": "stdout",
     "output_type": "stream",
     "text": [
      "   4000/Unknown - 2380s 592ms/step - loss: 0.1952 - mae: 0.1932"
     ]
    },
    {
     "name": "stderr",
     "output_type": "stream",
     "text": [
      "INFO:root:2023-03-14 08:32:02.929998\n",
      "INFO:root:Saved model to '/content/bigdata/chk/FPNWithAttention_2_ETF_Trained_GPU_64LB/cp_daily_valid_00_04000/model.h5'\n",
      "INFO:root:Saved optimizer config to '/content/bigdata/chk/FPNWithAttention_2_ETF_Trained_GPU_64LB/cp_daily_valid_00_04000/c.pickle'\n",
      "INFO:root:Saved optimizer weights to '/content/bigdata/chk/FPNWithAttention_2_ETF_Trained_GPU_64LB/cp_daily_valid_00_04000/w.pickle'\n",
      "INFO:root:Did a gc collect: 0\n"
     ]
    },
    {
     "name": "stdout",
     "output_type": "stream",
     "text": [
      "   4003/Unknown - 2384s 593ms/step - loss: 0.1951 - mae: 0.1932"
     ]
    },
    {
     "name": "stderr",
     "output_type": "stream",
     "text": [
      "INFO:root:File 'IE00BQN1KC32.csv' loaded, 394 left\n"
     ]
    },
    {
     "name": "stdout",
     "output_type": "stream",
     "text": [
      "   4014/Unknown - 2391s 593ms/step - loss: 0.1947 - mae: 0.1930"
     ]
    },
    {
     "name": "stderr",
     "output_type": "stream",
     "text": [
      "INFO:root:File 'IE00BC7GZJ81.csv' loaded, 393 left\n"
     ]
    },
    {
     "name": "stdout",
     "output_type": "stream",
     "text": [
      "   4027/Unknown - 2398s 592ms/step - loss: 0.1944 - mae: 0.1930"
     ]
    },
    {
     "name": "stderr",
     "output_type": "stream",
     "text": [
      "INFO:root:File 'LU1829219713.csv' loaded, 392 left\n"
     ]
    },
    {
     "name": "stdout",
     "output_type": "stream",
     "text": [
      "   4028/Unknown - 2398s 592ms/step - loss: 0.1943 - mae: 0.1929"
     ]
    },
    {
     "name": "stderr",
     "output_type": "stream",
     "text": [
      "INFO:root:File 'IE00BYVJRR92.csv' loaded, 391 left\n"
     ]
    },
    {
     "name": "stdout",
     "output_type": "stream",
     "text": [
      "   4031/Unknown - 2401s 593ms/step - loss: 0.1942 - mae: 0.1929"
     ]
    },
    {
     "name": "stderr",
     "output_type": "stream",
     "text": [
      "INFO:root:File 'IE00BNDS1Q47.csv' loaded, 390 left\n"
     ]
    },
    {
     "name": "stdout",
     "output_type": "stream",
     "text": [
      "   4038/Unknown - 2405s 592ms/step - loss: 0.1940 - mae: 0.1929"
     ]
    },
    {
     "name": "stderr",
     "output_type": "stream",
     "text": [
      "INFO:root:File 'LU0488317701.csv' loaded, 389 left\n"
     ]
    },
    {
     "name": "stdout",
     "output_type": "stream",
     "text": [
      "   4040/Unknown - 2406s 593ms/step - loss: 0.1939 - mae: 0.1928"
     ]
    },
    {
     "name": "stderr",
     "output_type": "stream",
     "text": [
      "INFO:root:File 'LU1650491795.csv' loaded, 388 left\n"
     ]
    },
    {
     "name": "stdout",
     "output_type": "stream",
     "text": [
      "   4048/Unknown - 2410s 592ms/step - loss: 0.1937 - mae: 0.1927"
     ]
    },
    {
     "name": "stderr",
     "output_type": "stream",
     "text": [
      "INFO:root:File 'LU1437016543.csv' loaded, 387 left\n"
     ]
    },
    {
     "name": "stdout",
     "output_type": "stream",
     "text": [
      "   4053/Unknown - 2413s 592ms/step - loss: 0.1936 - mae: 0.1927"
     ]
    },
    {
     "name": "stderr",
     "output_type": "stream",
     "text": [
      "INFO:root:File 'LU1681038243.csv' loaded, 386 left\n"
     ]
    },
    {
     "name": "stdout",
     "output_type": "stream",
     "text": [
      "   4061/Unknown - 2418s 592ms/step - loss: 0.1935 - mae: 0.1927"
     ]
    },
    {
     "name": "stderr",
     "output_type": "stream",
     "text": [
      "INFO:root:File 'LU1691909508.csv' loaded, 385 left\n",
      "INFO:root:File 'LU1737652583.csv' loaded, 384 left\n"
     ]
    },
    {
     "name": "stdout",
     "output_type": "stream",
     "text": [
      "   4065/Unknown - 2421s 592ms/step - loss: 0.1934 - mae: 0.1926"
     ]
    },
    {
     "name": "stderr",
     "output_type": "stream",
     "text": [
      "INFO:root:File 'IE00BKWQ0L68.csv' loaded, 383 left\n"
     ]
    },
    {
     "name": "stdout",
     "output_type": "stream",
     "text": [
      "   4068/Unknown - 2422s 593ms/step - loss: 0.1934 - mae: 0.1927"
     ]
    },
    {
     "name": "stderr",
     "output_type": "stream",
     "text": [
      "INFO:root:File 'IE00B7J7TB45.csv' loaded, 382 left\n"
     ]
    },
    {
     "name": "stdout",
     "output_type": "stream",
     "text": [
      "   4083/Unknown - 2431s 592ms/step - loss: 0.1933 - mae: 0.1927"
     ]
    },
    {
     "name": "stderr",
     "output_type": "stream",
     "text": [
      "INFO:root:File 'IE00B0M62S72.csv' loaded, 381 left\n"
     ]
    },
    {
     "name": "stdout",
     "output_type": "stream",
     "text": [
      "   4089/Unknown - 2434s 592ms/step - loss: 0.1932 - mae: 0.1927"
     ]
    },
    {
     "name": "stderr",
     "output_type": "stream",
     "text": [
      "INFO:root:File 'IE00BD1F4L37.csv' loaded, 380 left\n"
     ]
    },
    {
     "name": "stdout",
     "output_type": "stream",
     "text": [
      "   4090/Unknown - 2435s 592ms/step - loss: 0.1932 - mae: 0.1927"
     ]
    },
    {
     "name": "stderr",
     "output_type": "stream",
     "text": [
      "INFO:root:File 'LU1769088581.csv' loaded, 379 left\n",
      "INFO:root:File 'LU2082997193.csv' loaded, 378 left\n"
     ]
    },
    {
     "name": "stdout",
     "output_type": "stream",
     "text": [
      "   4103/Unknown - 2442s 592ms/step - loss: 0.1937 - mae: 0.1930"
     ]
    },
    {
     "name": "stderr",
     "output_type": "stream",
     "text": [
      "INFO:root:File 'DE0002635281.csv' loaded, 377 left\n"
     ]
    },
    {
     "name": "stdout",
     "output_type": "stream",
     "text": [
      "   4110/Unknown - 2446s 592ms/step - loss: 0.1936 - mae: 0.1930"
     ]
    },
    {
     "name": "stderr",
     "output_type": "stream",
     "text": [
      "INFO:root:File 'IE00BYVJRQ85.csv' loaded, 376 left\n"
     ]
    },
    {
     "name": "stdout",
     "output_type": "stream",
     "text": [
      "   4111/Unknown - 2447s 592ms/step - loss: 0.1936 - mae: 0.1930"
     ]
    },
    {
     "name": "stderr",
     "output_type": "stream",
     "text": [
      "INFO:root:File 'LU0959211243.csv' loaded, 375 left\n"
     ]
    },
    {
     "name": "stdout",
     "output_type": "stream",
     "text": [
      "   4117/Unknown - 2451s 592ms/step - loss: 0.1935 - mae: 0.1930"
     ]
    },
    {
     "name": "stderr",
     "output_type": "stream",
     "text": [
      "INFO:root:File 'IE00BKY81B71.csv' loaded, 374 left\n"
     ]
    },
    {
     "name": "stdout",
     "output_type": "stream",
     "text": [
      "   4124/Unknown - 2455s 592ms/step - loss: 0.1936 - mae: 0.1931"
     ]
    },
    {
     "name": "stderr",
     "output_type": "stream",
     "text": [
      "INFO:root:File 'IE00B0M63284.csv' loaded, 373 left\n",
      "INFO:root:File 'LU2082996542.csv' loaded, 372 left\n",
      "INFO:root:File 'IE00BMCZLJ20.csv' loaded, 371 left\n"
     ]
    },
    {
     "name": "stdout",
     "output_type": "stream",
     "text": [
      "   4126/Unknown - 2457s 593ms/step - loss: 0.1935 - mae: 0.1931"
     ]
    },
    {
     "name": "stderr",
     "output_type": "stream",
     "text": [
      "INFO:root:File 'IE00BMZ17W23.csv' loaded, 370 left\n"
     ]
    },
    {
     "name": "stdout",
     "output_type": "stream",
     "text": [
      "   4138/Unknown - 2464s 592ms/step - loss: 0.1933 - mae: 0.1931"
     ]
    },
    {
     "name": "stderr",
     "output_type": "stream",
     "text": [
      "INFO:root:File 'IE00BDFBTQ78.csv' loaded, 369 left\n",
      "INFO:root:File 'IE00BJK9H860.csv' loaded in retry loop, 368 left\n"
     ]
    },
    {
     "name": "stdout",
     "output_type": "stream",
     "text": [
      "   4139/Unknown - 2465s 593ms/step - loss: 0.1933 - mae: 0.1931"
     ]
    },
    {
     "name": "stderr",
     "output_type": "stream",
     "text": [
      "INFO:root:File 'LU1974693662.csv' loaded, 367 left\n"
     ]
    },
    {
     "name": "stdout",
     "output_type": "stream",
     "text": [
      "   4148/Unknown - 2470s 593ms/step - loss: 0.1934 - mae: 0.1931"
     ]
    },
    {
     "name": "stderr",
     "output_type": "stream",
     "text": [
      "INFO:root:File 'LU1792117696.csv' loaded, 366 left\n"
     ]
    },
    {
     "name": "stdout",
     "output_type": "stream",
     "text": [
      "   4157/Unknown - 2475s 592ms/step - loss: 0.1931 - mae: 0.1931"
     ]
    },
    {
     "name": "stderr",
     "output_type": "stream",
     "text": [
      "INFO:root:File 'LU1598688189.csv' loaded, 365 left\n"
     ]
    },
    {
     "name": "stdout",
     "output_type": "stream",
     "text": [
      "   4159/Unknown - 2476s 593ms/step - loss: 0.1931 - mae: 0.1931"
     ]
    },
    {
     "name": "stderr",
     "output_type": "stream",
     "text": [
      "INFO:root:File 'DE0005933949.csv' loaded, 364 left\n"
     ]
    },
    {
     "name": "stdout",
     "output_type": "stream",
     "text": [
      "   4164/Unknown - 2479s 593ms/step - loss: 0.1930 - mae: 0.1931"
     ]
    },
    {
     "name": "stderr",
     "output_type": "stream",
     "text": [
      "INFO:root:File 'IE00BK5BCH80.csv' loaded, 363 left\n"
     ]
    },
    {
     "name": "stdout",
     "output_type": "stream",
     "text": [
      "   4165/Unknown - 2480s 593ms/step - loss: 0.1930 - mae: 0.1931"
     ]
    },
    {
     "name": "stderr",
     "output_type": "stream",
     "text": [
      "INFO:root:File 'IE00B9CQXS71.csv' loaded, 362 left\n"
     ]
    },
    {
     "name": "stdout",
     "output_type": "stream",
     "text": [
      "   4175/Unknown - 2486s 593ms/step - loss: 0.1928 - mae: 0.1931"
     ]
    },
    {
     "name": "stderr",
     "output_type": "stream",
     "text": [
      "INFO:root:File 'LU2244386053.csv' loaded, 361 left\n"
     ]
    },
    {
     "name": "stdout",
     "output_type": "stream",
     "text": [
      "   4176/Unknown - 2487s 593ms/step - loss: 0.1928 - mae: 0.1931"
     ]
    },
    {
     "name": "stderr",
     "output_type": "stream",
     "text": [
      "INFO:root:File 'IE00BYTRRG40.csv' loaded, 360 left\n"
     ]
    },
    {
     "name": "stdout",
     "output_type": "stream",
     "text": [
      "   4181/Unknown - 2490s 593ms/step - loss: 0.1927 - mae: 0.1931"
     ]
    },
    {
     "name": "stderr",
     "output_type": "stream",
     "text": [
      "INFO:root:File 'IE000NDWFGA5.csv' loaded, 359 left\n"
     ]
    },
    {
     "name": "stdout",
     "output_type": "stream",
     "text": [
      "   4185/Unknown - 2492s 593ms/step - loss: 0.1927 - mae: 0.1931"
     ]
    },
    {
     "name": "stderr",
     "output_type": "stream",
     "text": [
      "INFO:root:File 'IE00BDFC6Q91.csv' loaded, 358 left\n",
      "INFO:root:File 'LU2009202107.csv' loaded, 357 left\n"
     ]
    },
    {
     "name": "stdout",
     "output_type": "stream",
     "text": [
      "   4204/Unknown - 2503s 593ms/step - loss: 0.1924 - mae: 0.1930"
     ]
    },
    {
     "name": "stderr",
     "output_type": "stream",
     "text": [
      "INFO:root:File 'IE00BYXVGX24.csv' loaded, 356 left\n"
     ]
    },
    {
     "name": "stdout",
     "output_type": "stream",
     "text": [
      "   4205/Unknown - 2504s 593ms/step - loss: 0.1925 - mae: 0.1930"
     ]
    },
    {
     "name": "stderr",
     "output_type": "stream",
     "text": [
      "INFO:root:File 'LU1287023342.csv' loaded, 355 left\n"
     ]
    },
    {
     "name": "stdout",
     "output_type": "stream",
     "text": [
      "   4213/Unknown - 2508s 593ms/step - loss: 0.1923 - mae: 0.1930"
     ]
    },
    {
     "name": "stderr",
     "output_type": "stream",
     "text": [
      "INFO:root:File 'IE00B3VTN290.csv' loaded, 354 left\n"
     ]
    },
    {
     "name": "stdout",
     "output_type": "stream",
     "text": [
      "   4214/Unknown - 2509s 593ms/step - loss: 0.1923 - mae: 0.1930"
     ]
    },
    {
     "name": "stderr",
     "output_type": "stream",
     "text": [
      "INFO:root:File 'LU1681047236.csv' loaded, 353 left\n"
     ]
    },
    {
     "name": "stdout",
     "output_type": "stream",
     "text": [
      "   4220/Unknown - 2513s 593ms/step - loss: 0.1922 - mae: 0.1930"
     ]
    },
    {
     "name": "stderr",
     "output_type": "stream",
     "text": [
      "INFO:root:File 'IE00BKY59G90.csv' loaded, 352 left\n"
     ]
    },
    {
     "name": "stdout",
     "output_type": "stream",
     "text": [
      "   4221/Unknown - 2514s 593ms/step - loss: 0.1922 - mae: 0.1930"
     ]
    },
    {
     "name": "stderr",
     "output_type": "stream",
     "text": [
      "INFO:root:File 'IE00BM8R0N95.csv' loaded, 351 left\n"
     ]
    },
    {
     "name": "stdout",
     "output_type": "stream",
     "text": [
      "   4228/Unknown - 2518s 593ms/step - loss: 0.1919 - mae: 0.1929"
     ]
    },
    {
     "name": "stderr",
     "output_type": "stream",
     "text": [
      "INFO:root:File 'IE00BX7RRJ27.csv' loaded, 350 left\n"
     ]
    },
    {
     "name": "stdout",
     "output_type": "stream",
     "text": [
      "   4233/Unknown - 2521s 593ms/step - loss: 0.1918 - mae: 0.1928"
     ]
    },
    {
     "name": "stderr",
     "output_type": "stream",
     "text": [
      "INFO:root:File 'LU0392494992.csv' loaded, 349 left\n"
     ]
    },
    {
     "name": "stdout",
     "output_type": "stream",
     "text": [
      "   4237/Unknown - 2523s 593ms/step - loss: 0.1916 - mae: 0.1928"
     ]
    },
    {
     "name": "stderr",
     "output_type": "stream",
     "text": [
      "INFO:root:File 'IE00BHZRR030.csv' loaded, 348 left\n"
     ]
    },
    {
     "name": "stdout",
     "output_type": "stream",
     "text": [
      "   4257/Unknown - 2534s 592ms/step - loss: 0.1911 - mae: 0.1927"
     ]
    },
    {
     "name": "stderr",
     "output_type": "stream",
     "text": [
      "INFO:root:File 'IE00B4WXJJ64.csv' loaded, 347 left\n"
     ]
    },
    {
     "name": "stdout",
     "output_type": "stream",
     "text": [
      "   4258/Unknown - 2535s 592ms/step - loss: 0.1911 - mae: 0.1927"
     ]
    },
    {
     "name": "stderr",
     "output_type": "stream",
     "text": [
      "INFO:root:File 'IE0032895942.csv' loaded, 346 left\n"
     ]
    },
    {
     "name": "stdout",
     "output_type": "stream",
     "text": [
      "   4270/Unknown - 2541s 592ms/step - loss: 0.1907 - mae: 0.1925"
     ]
    },
    {
     "name": "stderr",
     "output_type": "stream",
     "text": [
      "INFO:root:File 'IE00BGDPWW94.csv' loaded, 345 left\n"
     ]
    },
    {
     "name": "stdout",
     "output_type": "stream",
     "text": [
      "   4282/Unknown - 2548s 592ms/step - loss: 0.1905 - mae: 0.1924"
     ]
    },
    {
     "name": "stderr",
     "output_type": "stream",
     "text": [
      "INFO:root:File 'IE000VTOHNZ0.csv' loaded, 344 left\n"
     ]
    },
    {
     "name": "stdout",
     "output_type": "stream",
     "text": [
      "   4284/Unknown - 2549s 592ms/step - loss: 0.1904 - mae: 0.1924"
     ]
    },
    {
     "name": "stderr",
     "output_type": "stream",
     "text": [
      "INFO:root:File 'LU2082998670.csv' loaded, 343 left\n",
      "INFO:root:File 'IE00BYML9W36.csv' loaded, 342 left\n"
     ]
    },
    {
     "name": "stdout",
     "output_type": "stream",
     "text": [
      "   4290/Unknown - 2553s 592ms/step - loss: 0.1902 - mae: 0.1924"
     ]
    },
    {
     "name": "stderr",
     "output_type": "stream",
     "text": [
      "INFO:root:File 'IE00BN76Y761.csv' loaded, 341 left\n"
     ]
    },
    {
     "name": "stdout",
     "output_type": "stream",
     "text": [
      "   4293/Unknown - 2555s 592ms/step - loss: 0.1902 - mae: 0.1924"
     ]
    },
    {
     "name": "stderr",
     "output_type": "stream",
     "text": [
      "INFO:root:File 'IE00BD1F4N50.csv' loaded, 340 left\n"
     ]
    },
    {
     "name": "stdout",
     "output_type": "stream",
     "text": [
      "   4296/Unknown - 2557s 592ms/step - loss: 0.1901 - mae: 0.1923"
     ]
    },
    {
     "name": "stderr",
     "output_type": "stream",
     "text": [
      "INFO:root:File 'IE00B74DQ490.csv' loaded, 339 left\n"
     ]
    },
    {
     "name": "stdout",
     "output_type": "stream",
     "text": [
      "   4297/Unknown - 2558s 592ms/step - loss: 0.1901 - mae: 0.1923"
     ]
    },
    {
     "name": "stderr",
     "output_type": "stream",
     "text": [
      "INFO:root:File 'FR0011550193.csv' loaded, 338 left\n"
     ]
    },
    {
     "name": "stdout",
     "output_type": "stream",
     "text": [
      "   4299/Unknown - 2559s 592ms/step - loss: 0.1900 - mae: 0.1923"
     ]
    },
    {
     "name": "stderr",
     "output_type": "stream",
     "text": [
      "INFO:root:File 'IE00B0M63623.csv' loaded, 337 left\n"
     ]
    },
    {
     "name": "stdout",
     "output_type": "stream",
     "text": [
      "   4313/Unknown - 2567s 592ms/step - loss: 0.1899 - mae: 0.1922"
     ]
    },
    {
     "name": "stderr",
     "output_type": "stream",
     "text": [
      "INFO:root:File 'LU1681046857.csv' loaded, 336 left\n"
     ]
    },
    {
     "name": "stdout",
     "output_type": "stream",
     "text": [
      "   4325/Unknown - 2573s 592ms/step - loss: 0.1897 - mae: 0.1922"
     ]
    },
    {
     "name": "stderr",
     "output_type": "stream",
     "text": [
      "INFO:root:File 'LU1737653045.csv' loaded, 335 left\n"
     ]
    },
    {
     "name": "stdout",
     "output_type": "stream",
     "text": [
      "   4328/Unknown - 2575s 592ms/step - loss: 0.1896 - mae: 0.1922"
     ]
    },
    {
     "name": "stderr",
     "output_type": "stream",
     "text": [
      "INFO:root:File 'IE00BLF7VW10.csv' loaded, 334 left\n"
     ]
    },
    {
     "name": "stdout",
     "output_type": "stream",
     "text": [
      "   4335/Unknown - 2579s 592ms/step - loss: 0.1894 - mae: 0.1921"
     ]
    },
    {
     "name": "stderr",
     "output_type": "stream",
     "text": [
      "INFO:root:File 'LU1852211215.csv' loaded, 333 left\n"
     ]
    },
    {
     "name": "stdout",
     "output_type": "stream",
     "text": [
      "   4341/Unknown - 2583s 592ms/step - loss: 0.1892 - mae: 0.1920"
     ]
    },
    {
     "name": "stderr",
     "output_type": "stream",
     "text": [
      "INFO:root:File 'IE00BHZPJ452.csv' loaded, 332 left\n"
     ]
    },
    {
     "name": "stdout",
     "output_type": "stream",
     "text": [
      "   4350/Unknown - 2588s 592ms/step - loss: 0.1889 - mae: 0.1919"
     ]
    },
    {
     "name": "stderr",
     "output_type": "stream",
     "text": [
      "INFO:root:File 'LU1327051279.csv' loaded, 331 left\n"
     ]
    },
    {
     "name": "stdout",
     "output_type": "stream",
     "text": [
      "   4353/Unknown - 2590s 592ms/step - loss: 0.1888 - mae: 0.1918"
     ]
    },
    {
     "name": "stderr",
     "output_type": "stream",
     "text": [
      "INFO:root:File 'LU0950381748.csv' loaded, 330 left\n",
      "INFO:root:File 'IE00B3F81R35.csv' loaded, 329 left\n"
     ]
    },
    {
     "name": "stdout",
     "output_type": "stream",
     "text": [
      "   4354/Unknown - 2591s 592ms/step - loss: 0.1888 - mae: 0.1918"
     ]
    },
    {
     "name": "stderr",
     "output_type": "stream",
     "text": [
      "INFO:root:File 'FR0010524777.csv' loaded, 328 left\n"
     ]
    },
    {
     "name": "stdout",
     "output_type": "stream",
     "text": [
      "   4356/Unknown - 2592s 592ms/step - loss: 0.1888 - mae: 0.1918"
     ]
    },
    {
     "name": "stderr",
     "output_type": "stream",
     "text": [
      "/tmp/ipykernel_1242/1318332062.py:23: RuntimeWarning: divide by zero encountered in arctanh\n",
      "  _y = np.arctanh(_y)\n"
     ]
    },
    {
     "name": "stdout",
     "output_type": "stream",
     "text": [
      "   4359/Unknown - 2594s 592ms/step - loss: 0.1888 - mae: 0.1919"
     ]
    },
    {
     "name": "stderr",
     "output_type": "stream",
     "text": [
      "INFO:root:File 'LU2297533809.csv' loaded, 327 left\n"
     ]
    },
    {
     "name": "stdout",
     "output_type": "stream",
     "text": [
      "   4362/Unknown - 2596s 592ms/step - loss: 0.1890 - mae: 0.1919"
     ]
    },
    {
     "name": "stderr",
     "output_type": "stream",
     "text": [
      "INFO:root:File 'LU1048313974.csv' loaded, 326 left\n"
     ]
    },
    {
     "name": "stdout",
     "output_type": "stream",
     "text": [
      "   4369/Unknown - 2600s 592ms/step - loss: 0.1888 - mae: 0.1919"
     ]
    },
    {
     "name": "stderr",
     "output_type": "stream",
     "text": [
      "INFO:root:File 'LU0603933895.csv' loaded, 325 left\n"
     ]
    },
    {
     "name": "stdout",
     "output_type": "stream",
     "text": [
      "   4370/Unknown - 2601s 592ms/step - loss: 0.1888 - mae: 0.1919"
     ]
    },
    {
     "name": "stderr",
     "output_type": "stream",
     "text": [
      "INFO:root:File 'IE00BZ0PKT83.csv' loaded, 324 left\n"
     ]
    },
    {
     "name": "stdout",
     "output_type": "stream",
     "text": [
      "   4382/Unknown - 2607s 592ms/step - loss: 0.1890 - mae: 0.1920"
     ]
    },
    {
     "name": "stderr",
     "output_type": "stream",
     "text": [
      "INFO:root:File 'LU1435356149.csv' loaded, 323 left\n"
     ]
    },
    {
     "name": "stdout",
     "output_type": "stream",
     "text": [
      "   4390/Unknown - 2612s 592ms/step - loss: 0.1888 - mae: 0.1920"
     ]
    },
    {
     "name": "stderr",
     "output_type": "stream",
     "text": [
      "INFO:root:File 'IE00B5W4TY14.csv' loaded, 322 left\n"
     ]
    },
    {
     "name": "stdout",
     "output_type": "stream",
     "text": [
      "   4397/Unknown - 2616s 592ms/step - loss: 0.1887 - mae: 0.1920"
     ]
    },
    {
     "name": "stderr",
     "output_type": "stream",
     "text": [
      "INFO:root:File 'DE000ETFL235.csv' loaded, 321 left\n"
     ]
    },
    {
     "name": "stdout",
     "output_type": "stream",
     "text": [
      "   4407/Unknown - 2621s 592ms/step - loss: 0.1885 - mae: 0.1920"
     ]
    },
    {
     "name": "stderr",
     "output_type": "stream",
     "text": [
      "INFO:root:File 'LU0392496427.csv' loaded, 320 left\n"
     ]
    },
    {
     "name": "stdout",
     "output_type": "stream",
     "text": [
      "   4412/Unknown - 2624s 592ms/step - loss: 0.1884 - mae: 0.1919"
     ]
    },
    {
     "name": "stderr",
     "output_type": "stream",
     "text": [
      "INFO:root:File 'IE00BKWQ0C77.csv' loaded, 319 left\n"
     ]
    },
    {
     "name": "stdout",
     "output_type": "stream",
     "text": [
      "   4419/Unknown - 2628s 592ms/step - loss: 0.1882 - mae: 0.1919"
     ]
    },
    {
     "name": "stderr",
     "output_type": "stream",
     "text": [
      "INFO:root:File 'IE00BLDGH553.csv' loaded, 318 left\n"
     ]
    },
    {
     "name": "stdout",
     "output_type": "stream",
     "text": [
      "   4431/Unknown - 2634s 592ms/step - loss: 0.1879 - mae: 0.1918"
     ]
    },
    {
     "name": "stderr",
     "output_type": "stream",
     "text": [
      "INFO:root:File 'LU0259322260.csv' loaded, 317 left\n"
     ]
    },
    {
     "name": "stdout",
     "output_type": "stream",
     "text": [
      "   4432/Unknown - 2635s 592ms/step - loss: 0.1879 - mae: 0.1918"
     ]
    },
    {
     "name": "stderr",
     "output_type": "stream",
     "text": [
      "INFO:root:File 'DE000A0H0785.csv' loaded, 316 left\n"
     ]
    },
    {
     "name": "stdout",
     "output_type": "stream",
     "text": [
      "   4435/Unknown - 2637s 592ms/step - loss: 0.1878 - mae: 0.1918"
     ]
    },
    {
     "name": "stderr",
     "output_type": "stream",
     "text": [
      "INFO:root:File 'LU1799934903.csv' loaded, 315 left\n"
     ]
    },
    {
     "name": "stdout",
     "output_type": "stream",
     "text": [
      "   4441/Unknown - 2641s 592ms/step - loss: 0.1878 - mae: 0.1918"
     ]
    },
    {
     "name": "stderr",
     "output_type": "stream",
     "text": [
      "INFO:root:File 'IE00B3VWMM18.csv' loaded, 314 left\n"
     ]
    },
    {
     "name": "stdout",
     "output_type": "stream",
     "text": [
      "   4443/Unknown - 2642s 592ms/step - loss: 0.1877 - mae: 0.1918"
     ]
    },
    {
     "name": "stderr",
     "output_type": "stream",
     "text": [
      "/tmp/ipykernel_1242/1318332062.py:23: RuntimeWarning: divide by zero encountered in arctanh\n",
      "  _y = np.arctanh(_y)\n"
     ]
    },
    {
     "name": "stdout",
     "output_type": "stream",
     "text": [
      "   4444/Unknown - 2643s 592ms/step - loss: 0.1877 - mae: 0.1918"
     ]
    },
    {
     "name": "stderr",
     "output_type": "stream",
     "text": [
      "INFO:root:File 'LU2090062782.csv' loaded, 313 left\n",
      "/tmp/ipykernel_1242/1318332062.py:23: RuntimeWarning: divide by zero encountered in arctanh\n",
      "  _y = np.arctanh(_y)\n"
     ]
    },
    {
     "name": "stdout",
     "output_type": "stream",
     "text": [
      "   4457/Unknown - 2650s 592ms/step - loss: 0.1919 - mae: 0.1922"
     ]
    },
    {
     "name": "stderr",
     "output_type": "stream",
     "text": [
      "INFO:root:File 'LU1390062831.csv' loaded, 312 left\n"
     ]
    },
    {
     "name": "stdout",
     "output_type": "stream",
     "text": [
      "   4458/Unknown - 2651s 592ms/step - loss: 0.1919 - mae: 0.1922"
     ]
    },
    {
     "name": "stderr",
     "output_type": "stream",
     "text": [
      "INFO:root:File 'IE00B87RLX93.csv' loaded, 311 left\n"
     ]
    },
    {
     "name": "stdout",
     "output_type": "stream",
     "text": [
      "   4460/Unknown - 2652s 592ms/step - loss: 0.1919 - mae: 0.1922"
     ]
    },
    {
     "name": "stderr",
     "output_type": "stream",
     "text": [
      "INFO:root:File 'IE00BWBXM492.csv' loaded, 310 left\n"
     ]
    },
    {
     "name": "stdout",
     "output_type": "stream",
     "text": [
      "   4475/Unknown - 2660s 592ms/step - loss: 0.1917 - mae: 0.1922"
     ]
    },
    {
     "name": "stderr",
     "output_type": "stream",
     "text": [
      "INFO:root:File 'IE00B539F030.csv' loaded, 309 left\n"
     ]
    },
    {
     "name": "stdout",
     "output_type": "stream",
     "text": [
      "   4487/Unknown - 2667s 592ms/step - loss: 0.1919 - mae: 0.1923"
     ]
    },
    {
     "name": "stderr",
     "output_type": "stream",
     "text": [
      "INFO:root:File 'IE00B52SF786.csv' loaded, 308 left\n"
     ]
    },
    {
     "name": "stdout",
     "output_type": "stream",
     "text": [
      "   4495/Unknown - 2671s 592ms/step - loss: 0.1918 - mae: 0.1923"
     ]
    },
    {
     "name": "stderr",
     "output_type": "stream",
     "text": [
      "INFO:root:File 'LU2023678878.csv' loaded, 307 left\n"
     ]
    },
    {
     "name": "stdout",
     "output_type": "stream",
     "text": [
      "   4503/Unknown - 2676s 592ms/step - loss: 0.1919 - mae: 0.1924"
     ]
    },
    {
     "name": "stderr",
     "output_type": "stream",
     "text": [
      "INFO:root:File 'IE00B43HR379.csv' loaded, 306 left\n"
     ]
    },
    {
     "name": "stdout",
     "output_type": "stream",
     "text": [
      "   4511/Unknown - 2680s 591ms/step - loss: 0.1918 - mae: 0.1924"
     ]
    },
    {
     "name": "stderr",
     "output_type": "stream",
     "text": [
      "INFO:root:File 'IE00B23D8S39.csv' loaded, 305 left\n"
     ]
    },
    {
     "name": "stdout",
     "output_type": "stream",
     "text": [
      "   4513/Unknown - 2682s 592ms/step - loss: 0.1917 - mae: 0.1924"
     ]
    },
    {
     "name": "stderr",
     "output_type": "stream",
     "text": [
      "INFO:root:File 'DE0005933931.csv' loaded, 304 left\n"
     ]
    },
    {
     "name": "stdout",
     "output_type": "stream",
     "text": [
      "   4518/Unknown - 2685s 592ms/step - loss: 0.1917 - mae: 0.1924"
     ]
    },
    {
     "name": "stderr",
     "output_type": "stream",
     "text": [
      "INFO:root:File 'IE00BYSX4739.csv' loaded, 303 left\n"
     ]
    },
    {
     "name": "stdout",
     "output_type": "stream",
     "text": [
      "   4522/Unknown - 2687s 592ms/step - loss: 0.1918 - mae: 0.1925"
     ]
    },
    {
     "name": "stderr",
     "output_type": "stream",
     "text": [
      "INFO:root:File 'IE00B5MTZ488.csv' loaded, 302 left\n"
     ]
    },
    {
     "name": "stdout",
     "output_type": "stream",
     "text": [
      "   4526/Unknown - 2690s 592ms/step - loss: 0.1927 - mae: 0.1927"
     ]
    },
    {
     "name": "stderr",
     "output_type": "stream",
     "text": [
      "INFO:root:File 'IE00BKPTXQ89.csv' loaded, 301 left\n"
     ]
    },
    {
     "name": "stdout",
     "output_type": "stream",
     "text": [
      "   4537/Unknown - 2696s 591ms/step - loss: 0.1959 - mae: 0.1930"
     ]
    },
    {
     "name": "stderr",
     "output_type": "stream",
     "text": [
      "INFO:root:File 'IE00B469F816.csv' loaded, 300 left\n"
     ]
    },
    {
     "name": "stdout",
     "output_type": "stream",
     "text": [
      "   4540/Unknown - 2698s 592ms/step - loss: 0.1959 - mae: 0.1930"
     ]
    },
    {
     "name": "stderr",
     "output_type": "stream",
     "text": [
      "INFO:root:File 'IE000G6GSP88.csv' loaded, 299 left\n"
     ]
    },
    {
     "name": "stdout",
     "output_type": "stream",
     "text": [
      "   4542/Unknown - 2699s 592ms/step - loss: 0.1958 - mae: 0.1930"
     ]
    },
    {
     "name": "stderr",
     "output_type": "stream",
     "text": [
      "INFO:root:File 'IE00B3B8Q275.csv' loaded, 298 left\n"
     ]
    },
    {
     "name": "stdout",
     "output_type": "stream",
     "text": [
      "   4543/Unknown - 2700s 592ms/step - loss: 0.1960 - mae: 0.1930"
     ]
    },
    {
     "name": "stderr",
     "output_type": "stream",
     "text": [
      "INFO:root:File 'LU1048315243.csv' loaded, 297 left\n"
     ]
    },
    {
     "name": "stdout",
     "output_type": "stream",
     "text": [
      "   4549/Unknown - 2703s 592ms/step - loss: 0.1960 - mae: 0.1930"
     ]
    },
    {
     "name": "stderr",
     "output_type": "stream",
     "text": [
      "INFO:root:File 'LU1563454310.csv' loaded, 296 left\n"
     ]
    },
    {
     "name": "stdout",
     "output_type": "stream",
     "text": [
      "   4561/Unknown - 2710s 592ms/step - loss: 0.1958 - mae: 0.1930"
     ]
    },
    {
     "name": "stderr",
     "output_type": "stream",
     "text": [
      "INFO:root:File 'IE00BF2B0K52.csv' loaded, 295 left\n"
     ]
    },
    {
     "name": "stdout",
     "output_type": "stream",
     "text": [
      "   4582/Unknown - 2722s 591ms/step - loss: 0.1951 - mae: 0.1927"
     ]
    },
    {
     "name": "stderr",
     "output_type": "stream",
     "text": [
      "INFO:root:File 'FR0007056841.csv' loaded, 294 left\n"
     ]
    },
    {
     "name": "stdout",
     "output_type": "stream",
     "text": [
      "   4588/Unknown - 2725s 591ms/step - loss: 0.1950 - mae: 0.1927"
     ]
    },
    {
     "name": "stderr",
     "output_type": "stream",
     "text": [
      "INFO:root:File 'IE00B6SPMN59.csv' loaded, 293 left\n"
     ]
    },
    {
     "name": "stdout",
     "output_type": "stream",
     "text": [
      "   4591/Unknown - 2727s 591ms/step - loss: 0.1950 - mae: 0.1927"
     ]
    },
    {
     "name": "stderr",
     "output_type": "stream",
     "text": [
      "INFO:root:File 'IE00BLDGH447.csv' loaded, 292 left\n"
     ]
    },
    {
     "name": "stdout",
     "output_type": "stream",
     "text": [
      "   4598/Unknown - 2731s 591ms/step - loss: 0.1948 - mae: 0.1926"
     ]
    },
    {
     "name": "stderr",
     "output_type": "stream",
     "text": [
      "INFO:root:File 'LU1900065811.csv' loaded, 291 left\n"
     ]
    },
    {
     "name": "stdout",
     "output_type": "stream",
     "text": [
      "   4599/Unknown - 2732s 591ms/step - loss: 0.1948 - mae: 0.1926"
     ]
    },
    {
     "name": "stderr",
     "output_type": "stream",
     "text": [
      "INFO:root:File 'DE000A0F5UH1.csv' loaded, 290 left\n"
     ]
    },
    {
     "name": "stdout",
     "output_type": "stream",
     "text": [
      "   4603/Unknown - 2735s 591ms/step - loss: 0.1946 - mae: 0.1926"
     ]
    },
    {
     "name": "stderr",
     "output_type": "stream",
     "text": [
      "INFO:root:File 'IE00BJK3WF00.csv' loaded, 289 left\n",
      "INFO:root:File 'IE00BMQ8YK98.csv' loaded, 288 left\n"
     ]
    },
    {
     "name": "stdout",
     "output_type": "stream",
     "text": [
      "   4610/Unknown - 2739s 592ms/step - loss: 0.1948 - mae: 0.1926"
     ]
    },
    {
     "name": "stderr",
     "output_type": "stream",
     "text": [
      "INFO:root:File 'IE00BN4PXC48.csv' loaded, 287 left\n"
     ]
    },
    {
     "name": "stdout",
     "output_type": "stream",
     "text": [
      "   4620/Unknown - 2745s 591ms/step - loss: 0.1945 - mae: 0.1925"
     ]
    },
    {
     "name": "stderr",
     "output_type": "stream",
     "text": [
      "INFO:root:File 'IE00B3VWLG82.csv' loaded, 286 left\n"
     ]
    },
    {
     "name": "stdout",
     "output_type": "stream",
     "text": [
      "   4622/Unknown - 2746s 592ms/step - loss: 0.1945 - mae: 0.1925"
     ]
    },
    {
     "name": "stderr",
     "output_type": "stream",
     "text": [
      "INFO:root:File 'IE00B7452L46.csv' loaded, 285 left\n"
     ]
    },
    {
     "name": "stdout",
     "output_type": "stream",
     "text": [
      "   4624/Unknown - 2747s 592ms/step - loss: 0.1945 - mae: 0.1925"
     ]
    },
    {
     "name": "stderr",
     "output_type": "stream",
     "text": [
      "INFO:root:File 'DE000A0Q4R02.csv' loaded, 284 left\n"
     ]
    },
    {
     "name": "stdout",
     "output_type": "stream",
     "text": [
      "   4639/Unknown - 2756s 591ms/step - loss: 0.1941 - mae: 0.1924"
     ]
    },
    {
     "name": "stderr",
     "output_type": "stream",
     "text": [
      "INFO:root:File 'IE00BG0J4C88.csv' loaded, 283 left\n"
     ]
    },
    {
     "name": "stdout",
     "output_type": "stream",
     "text": [
      "   4645/Unknown - 2759s 591ms/step - loss: 0.1939 - mae: 0.1924"
     ]
    },
    {
     "name": "stderr",
     "output_type": "stream",
     "text": [
      "INFO:root:File 'IE00B4JNQZ49.csv' loaded, 282 left\n"
     ]
    },
    {
     "name": "stdout",
     "output_type": "stream",
     "text": [
      "   4663/Unknown - 2769s 591ms/step - loss: 0.1940 - mae: 0.1926"
     ]
    },
    {
     "name": "stderr",
     "output_type": "stream",
     "text": [
      "INFO:root:File 'IE00B4M7GH52.csv' loaded, 281 left\n",
      "INFO:root:File 'IE00BWBXM724.csv' loaded, 280 left\n"
     ]
    },
    {
     "name": "stdout",
     "output_type": "stream",
     "text": [
      "   4675/Unknown - 2776s 591ms/step - loss: 0.1938 - mae: 0.1926"
     ]
    },
    {
     "name": "stderr",
     "output_type": "stream",
     "text": [
      "INFO:root:File 'IE00BCRY6003.csv' loaded, 279 left\n"
     ]
    },
    {
     "name": "stdout",
     "output_type": "stream",
     "text": [
      "   4684/Unknown - 2781s 591ms/step - loss: 0.1936 - mae: 0.1926"
     ]
    },
    {
     "name": "stderr",
     "output_type": "stream",
     "text": [
      "INFO:root:File 'FR0010361683.csv' loaded, 278 left\n"
     ]
    },
    {
     "name": "stdout",
     "output_type": "stream",
     "text": [
      "   4685/Unknown - 2782s 591ms/step - loss: 0.1936 - mae: 0.1926"
     ]
    },
    {
     "name": "stderr",
     "output_type": "stream",
     "text": [
      "INFO:root:File 'IE00BGPP6697.csv' loaded, 277 left\n"
     ]
    },
    {
     "name": "stdout",
     "output_type": "stream",
     "text": [
      "   4697/Unknown - 2788s 591ms/step - loss: 0.1937 - mae: 0.1928"
     ]
    },
    {
     "name": "stderr",
     "output_type": "stream",
     "text": [
      "INFO:root:File 'IE00BFNM3F38.csv' loaded, 276 left\n"
     ]
    },
    {
     "name": "stdout",
     "output_type": "stream",
     "text": [
      "   4706/Unknown - 2793s 591ms/step - loss: 0.1937 - mae: 0.1928"
     ]
    },
    {
     "name": "stderr",
     "output_type": "stream",
     "text": [
      "INFO:root:File 'IE00B0M63391.csv' loaded, 275 left\n",
      "INFO:root:File 'IE00BLCHJH52.csv' loaded, 274 left\n"
     ]
    },
    {
     "name": "stdout",
     "output_type": "stream",
     "text": [
      "   4707/Unknown - 2794s 591ms/step - loss: 0.1936 - mae: 0.1928"
     ]
    },
    {
     "name": "stderr",
     "output_type": "stream",
     "text": [
      "INFO:root:File 'IE00BKS7L097.csv' loaded, 273 left\n"
     ]
    },
    {
     "name": "stdout",
     "output_type": "stream",
     "text": [
      "   4712/Unknown - 2797s 591ms/step - loss: 0.1935 - mae: 0.1928"
     ]
    },
    {
     "name": "stderr",
     "output_type": "stream",
     "text": [
      "INFO:root:File 'IE00B23LNQ02.csv' loaded, 272 left\n"
     ]
    },
    {
     "name": "stdout",
     "output_type": "stream",
     "text": [
      "   4721/Unknown - 2802s 591ms/step - loss: 0.1937 - mae: 0.1929"
     ]
    },
    {
     "name": "stderr",
     "output_type": "stream",
     "text": [
      "INFO:root:File 'LU1437017863.csv' loaded, 271 left\n"
     ]
    },
    {
     "name": "stdout",
     "output_type": "stream",
     "text": [
      "   4723/Unknown - 2804s 591ms/step - loss: 0.1938 - mae: 0.1930"
     ]
    },
    {
     "name": "stderr",
     "output_type": "stream",
     "text": [
      "INFO:root:File 'IE00B3T9LM79.csv' loaded, 270 left\n"
     ]
    },
    {
     "name": "stdout",
     "output_type": "stream",
     "text": [
      "   4727/Unknown - 2806s 591ms/step - loss: 0.1939 - mae: 0.1930"
     ]
    },
    {
     "name": "stderr",
     "output_type": "stream",
     "text": [
      "INFO:root:File 'IE00BKWQ0M75.csv' loaded, 269 left\n"
     ]
    },
    {
     "name": "stdout",
     "output_type": "stream",
     "text": [
      "   4731/Unknown - 2809s 591ms/step - loss: 0.1938 - mae: 0.1930"
     ]
    },
    {
     "name": "stderr",
     "output_type": "stream",
     "text": [
      "INFO:root:File 'IE00BJ5JPH63.csv' loaded, 268 left\n"
     ]
    },
    {
     "name": "stdout",
     "output_type": "stream",
     "text": [
      "   4741/Unknown - 2814s 591ms/step - loss: 0.1935 - mae: 0.1929"
     ]
    },
    {
     "name": "stderr",
     "output_type": "stream",
     "text": [
      "INFO:root:File 'DE000ETFL540.csv' loaded, 267 left\n"
     ]
    },
    {
     "name": "stdout",
     "output_type": "stream",
     "text": [
      "   4752/Unknown - 2820s 591ms/step - loss: 0.1933 - mae: 0.1929"
     ]
    },
    {
     "name": "stderr",
     "output_type": "stream",
     "text": [
      "INFO:root:File 'IE00B5MTY077.csv' loaded, 266 left\n"
     ]
    },
    {
     "name": "stdout",
     "output_type": "stream",
     "text": [
      "   4755/Unknown - 2822s 591ms/step - loss: 0.1932 - mae: 0.1928"
     ]
    },
    {
     "name": "stderr",
     "output_type": "stream",
     "text": [
      "INFO:root:File 'LU1681040819.csv' loaded, 265 left\n"
     ]
    },
    {
     "name": "stdout",
     "output_type": "stream",
     "text": [
      "   4756/Unknown - 2823s 591ms/step - loss: 0.1931 - mae: 0.1928"
     ]
    },
    {
     "name": "stderr",
     "output_type": "stream",
     "text": [
      "INFO:root:File 'IE00B3F81K65.csv' loaded, 264 left\n"
     ]
    },
    {
     "name": "stdout",
     "output_type": "stream",
     "text": [
      "   4774/Unknown - 2833s 591ms/step - loss: 0.1927 - mae: 0.1928"
     ]
    },
    {
     "name": "stderr",
     "output_type": "stream",
     "text": [
      "INFO:root:File 'LU2090062436.csv' loaded, 263 left\n"
     ]
    },
    {
     "name": "stdout",
     "output_type": "stream",
     "text": [
      "   4776/Unknown - 2834s 591ms/step - loss: 0.1927 - mae: 0.1927"
     ]
    },
    {
     "name": "stderr",
     "output_type": "stream",
     "text": [
      "INFO:root:File 'LU2109787635.csv' loaded, 262 left\n"
     ]
    },
    {
     "name": "stdout",
     "output_type": "stream",
     "text": [
      "   4788/Unknown - 2841s 591ms/step - loss: 0.1924 - mae: 0.1927"
     ]
    },
    {
     "name": "stderr",
     "output_type": "stream",
     "text": [
      "INFO:root:File 'LU2233156749.csv' loaded, 261 left\n"
     ]
    },
    {
     "name": "stdout",
     "output_type": "stream",
     "text": [
      "   4789/Unknown - 2841s 591ms/step - loss: 0.1924 - mae: 0.1927"
     ]
    },
    {
     "name": "stderr",
     "output_type": "stream",
     "text": [
      "INFO:root:File 'DE000A0H08E0.csv' loaded, 260 left\n"
     ]
    },
    {
     "name": "stdout",
     "output_type": "stream",
     "text": [
      "   4791/Unknown - 2843s 591ms/step - loss: 0.1924 - mae: 0.1927"
     ]
    },
    {
     "name": "stderr",
     "output_type": "stream",
     "text": [
      "INFO:root:File 'IE00B1FZS467.csv' loaded, 259 left\n"
     ]
    },
    {
     "name": "stdout",
     "output_type": "stream",
     "text": [
      "   4797/Unknown - 2846s 591ms/step - loss: 0.1923 - mae: 0.1927"
     ]
    },
    {
     "name": "stderr",
     "output_type": "stream",
     "text": [
      "INFO:root:File 'IE00BFXR5S54.csv' loaded, 258 left\n"
     ]
    },
    {
     "name": "stdout",
     "output_type": "stream",
     "text": [
      "   4800/Unknown - 2848s 591ms/step - loss: 0.1922 - mae: 0.1927"
     ]
    },
    {
     "name": "stderr",
     "output_type": "stream",
     "text": [
      "INFO:root:File 'IE00BD9MMF62.csv' loaded, 257 left\n"
     ]
    },
    {
     "name": "stdout",
     "output_type": "stream",
     "text": [
      "   4804/Unknown - 2851s 591ms/step - loss: 0.1922 - mae: 0.1926"
     ]
    },
    {
     "name": "stderr",
     "output_type": "stream",
     "text": [
      "INFO:root:File 'IE00B802KR88.csv' loaded, 256 left\n"
     ]
    },
    {
     "name": "stdout",
     "output_type": "stream",
     "text": [
      "   4821/Unknown - 2860s 591ms/step - loss: 0.1917 - mae: 0.1924"
     ]
    },
    {
     "name": "stderr",
     "output_type": "stream",
     "text": [
      "INFO:root:File 'DE000ETFL037.csv' loaded, 255 left\n"
     ]
    },
    {
     "name": "stdout",
     "output_type": "stream",
     "text": [
      "   4826/Unknown - 2863s 591ms/step - loss: 0.1918 - mae: 0.1925"
     ]
    },
    {
     "name": "stderr",
     "output_type": "stream",
     "text": [
      "INFO:root:File 'IE00BHBFDF83.csv' loaded, 254 left\n"
     ]
    },
    {
     "name": "stdout",
     "output_type": "stream",
     "text": [
      "   4827/Unknown - 2864s 591ms/step - loss: 0.1917 - mae: 0.1925"
     ]
    },
    {
     "name": "stderr",
     "output_type": "stream",
     "text": [
      "INFO:root:File 'IE00B6R52143.csv' loaded, 253 left\n"
     ]
    },
    {
     "name": "stdout",
     "output_type": "stream",
     "text": [
      "   4829/Unknown - 2865s 591ms/step - loss: 0.1919 - mae: 0.1925"
     ]
    },
    {
     "name": "stderr",
     "output_type": "stream",
     "text": [
      "INFO:root:File 'IE00BYTRR970.csv' loaded, 252 left\n"
     ]
    },
    {
     "name": "stdout",
     "output_type": "stream",
     "text": [
      "   4834/Unknown - 2868s 591ms/step - loss: 0.1920 - mae: 0.1926"
     ]
    },
    {
     "name": "stderr",
     "output_type": "stream",
     "text": [
      "INFO:root:File 'IE00BF4NQ904.csv' loaded, 251 left\n"
     ]
    },
    {
     "name": "stdout",
     "output_type": "stream",
     "text": [
      "   4860/Unknown - 2882s 591ms/step - loss: 0.1917 - mae: 0.1926"
     ]
    },
    {
     "name": "stderr",
     "output_type": "stream",
     "text": [
      "INFO:root:File 'LU0446734369.csv' loaded, 250 left\n"
     ]
    },
    {
     "name": "stdout",
     "output_type": "stream",
     "text": [
      "   4862/Unknown - 2883s 591ms/step - loss: 0.1917 - mae: 0.1926"
     ]
    },
    {
     "name": "stderr",
     "output_type": "stream",
     "text": [
      "INFO:root:File 'LU1834983477.csv' loaded, 249 left\n"
     ]
    },
    {
     "name": "stdout",
     "output_type": "stream",
     "text": [
      "   4867/Unknown - 2886s 591ms/step - loss: 0.1915 - mae: 0.1926"
     ]
    },
    {
     "name": "stderr",
     "output_type": "stream",
     "text": [
      "INFO:root:File 'IE00BRKWGL70.csv' loaded, 248 left\n"
     ]
    },
    {
     "name": "stdout",
     "output_type": "stream",
     "text": [
      "   4875/Unknown - 2891s 591ms/step - loss: 0.1918 - mae: 0.1927"
     ]
    },
    {
     "name": "stderr",
     "output_type": "stream",
     "text": [
      "INFO:root:File 'IE000HMSHYJ6.csv' loaded, 247 left\n"
     ]
    },
    {
     "name": "stdout",
     "output_type": "stream",
     "text": [
      "   4879/Unknown - 2893s 591ms/step - loss: 0.1919 - mae: 0.1927"
     ]
    },
    {
     "name": "stderr",
     "output_type": "stream",
     "text": [
      "INFO:root:File 'IE00BGDQ0T50.csv' loaded, 246 left\n"
     ]
    },
    {
     "name": "stdout",
     "output_type": "stream",
     "text": [
      "   4884/Unknown - 2896s 591ms/step - loss: 0.1918 - mae: 0.1927"
     ]
    },
    {
     "name": "stderr",
     "output_type": "stream",
     "text": [
      "INFO:root:File 'LU1781541252.csv' loaded, 245 left\n"
     ]
    },
    {
     "name": "stdout",
     "output_type": "stream",
     "text": [
      "   4891/Unknown - 2900s 591ms/step - loss: 0.1918 - mae: 0.1928"
     ]
    },
    {
     "name": "stderr",
     "output_type": "stream",
     "text": [
      "INFO:root:File 'IE00BF540Z61.csv' loaded, 244 left\n"
     ]
    },
    {
     "name": "stdout",
     "output_type": "stream",
     "text": [
      "   4902/Unknown - 2906s 590ms/step - loss: 0.1918 - mae: 0.1928"
     ]
    },
    {
     "name": "stderr",
     "output_type": "stream",
     "text": [
      "INFO:root:File 'IE00BMWXKN31.csv' loaded, 243 left\n"
     ]
    },
    {
     "name": "stdout",
     "output_type": "stream",
     "text": [
      "   4905/Unknown - 2908s 590ms/step - loss: 0.1918 - mae: 0.1928"
     ]
    },
    {
     "name": "stderr",
     "output_type": "stream",
     "text": [
      "INFO:root:File 'IE00B53HP851.csv' loaded, 242 left\n"
     ]
    },
    {
     "name": "stdout",
     "output_type": "stream",
     "text": [
      "   4906/Unknown - 2909s 591ms/step - loss: 0.1917 - mae: 0.1928"
     ]
    },
    {
     "name": "stderr",
     "output_type": "stream",
     "text": [
      "INFO:root:File 'LU1291104575.csv' loaded, 241 left\n"
     ]
    },
    {
     "name": "stdout",
     "output_type": "stream",
     "text": [
      "   4911/Unknown - 2912s 591ms/step - loss: 0.1917 - mae: 0.1928"
     ]
    },
    {
     "name": "stderr",
     "output_type": "stream",
     "text": [
      "INFO:root:File 'LU1048317025.csv' loaded, 240 left\n"
     ]
    },
    {
     "name": "stdout",
     "output_type": "stream",
     "text": [
      "   4913/Unknown - 2913s 591ms/step - loss: 0.1916 - mae: 0.1928"
     ]
    },
    {
     "name": "stderr",
     "output_type": "stream",
     "text": [
      "INFO:root:File 'IE00BKLWY790.csv' loaded, 239 left\n"
     ]
    },
    {
     "name": "stdout",
     "output_type": "stream",
     "text": [
      "   4914/Unknown - 2914s 591ms/step - loss: 0.1916 - mae: 0.1928"
     ]
    },
    {
     "name": "stderr",
     "output_type": "stream",
     "text": [
      "INFO:root:File 'IE00BF3N7102.csv' loaded, 238 left\n"
     ]
    },
    {
     "name": "stdout",
     "output_type": "stream",
     "text": [
      "   4918/Unknown - 2917s 591ms/step - loss: 0.1916 - mae: 0.1928"
     ]
    },
    {
     "name": "stderr",
     "output_type": "stream",
     "text": [
      "INFO:root:File 'IE00BZ0G8860.csv' loaded, 237 left\n"
     ]
    },
    {
     "name": "stdout",
     "output_type": "stream",
     "text": [
      "   4930/Unknown - 2923s 591ms/step - loss: 0.1913 - mae: 0.1927"
     ]
    },
    {
     "name": "stderr",
     "output_type": "stream",
     "text": [
      "INFO:root:File 'IE000JZ473P7.csv' loaded, 236 left\n"
     ]
    },
    {
     "name": "stdout",
     "output_type": "stream",
     "text": [
      "   4933/Unknown - 2925s 591ms/step - loss: 0.1912 - mae: 0.1927"
     ]
    },
    {
     "name": "stderr",
     "output_type": "stream",
     "text": [
      "INFO:root:File 'IE000IM4K4K2.csv' loaded, 235 left\n"
     ]
    },
    {
     "name": "stdout",
     "output_type": "stream",
     "text": [
      "   4935/Unknown - 2927s 591ms/step - loss: 0.1911 - mae: 0.1926"
     ]
    },
    {
     "name": "stderr",
     "output_type": "stream",
     "text": [
      "INFO:root:File 'IE00B5MTZM66.csv' loaded, 234 left\n",
      "INFO:root:File 'IE00B6QGFW01.csv' loaded, 233 left\n"
     ]
    },
    {
     "name": "stdout",
     "output_type": "stream",
     "text": [
      "   4941/Unknown - 2930s 591ms/step - loss: 0.1911 - mae: 0.1926"
     ]
    },
    {
     "name": "stderr",
     "output_type": "stream",
     "text": [
      "INFO:root:File 'IE00BKBF6H24.csv' loaded, 232 left\n"
     ]
    },
    {
     "name": "stdout",
     "output_type": "stream",
     "text": [
      "   4945/Unknown - 2933s 591ms/step - loss: 0.1910 - mae: 0.1926"
     ]
    },
    {
     "name": "stderr",
     "output_type": "stream",
     "text": [
      "INFO:root:File 'IE00B3LK4Z20.csv' loaded, 231 left\n"
     ]
    },
    {
     "name": "stdout",
     "output_type": "stream",
     "text": [
      "   4955/Unknown - 2938s 591ms/step - loss: 0.1908 - mae: 0.1926"
     ]
    },
    {
     "name": "stderr",
     "output_type": "stream",
     "text": [
      "INFO:root:File 'IE00BMDX0M10.csv' loaded, 230 left\n"
     ]
    },
    {
     "name": "stdout",
     "output_type": "stream",
     "text": [
      "   4958/Unknown - 2940s 591ms/step - loss: 0.1907 - mae: 0.1925"
     ]
    },
    {
     "name": "stderr",
     "output_type": "stream",
     "text": [
      "INFO:root:File 'IE00BYSZ6062.csv' loaded, 229 left\n"
     ]
    },
    {
     "name": "stdout",
     "output_type": "stream",
     "text": [
      "   4960/Unknown - 2941s 591ms/step - loss: 0.1906 - mae: 0.1925"
     ]
    },
    {
     "name": "stderr",
     "output_type": "stream",
     "text": [
      "INFO:root:File 'LU1841731745.csv' loaded, 228 left\n"
     ]
    },
    {
     "name": "stdout",
     "output_type": "stream",
     "text": [
      "   4961/Unknown - 2942s 591ms/step - loss: 0.1906 - mae: 0.1925"
     ]
    },
    {
     "name": "stderr",
     "output_type": "stream",
     "text": [
      "INFO:root:File 'IE00BMD8KP97.csv' loaded, 227 left\n"
     ]
    },
    {
     "name": "stdout",
     "output_type": "stream",
     "text": [
      "   4969/Unknown - 2947s 591ms/step - loss: 0.1905 - mae: 0.1925"
     ]
    },
    {
     "name": "stderr",
     "output_type": "stream",
     "text": [
      "INFO:root:File 'IE00BMH5YR69.csv' loaded, 226 left\n"
     ]
    },
    {
     "name": "stdout",
     "output_type": "stream",
     "text": [
      "   4971/Unknown - 2948s 591ms/step - loss: 0.1904 - mae: 0.1925"
     ]
    },
    {
     "name": "stderr",
     "output_type": "stream",
     "text": [
      "INFO:root:File 'LU1781541096.csv' loaded, 225 left\n"
     ]
    },
    {
     "name": "stdout",
     "output_type": "stream",
     "text": [
      "   4975/Unknown - 2950s 591ms/step - loss: 0.1903 - mae: 0.1924"
     ]
    },
    {
     "name": "stderr",
     "output_type": "stream",
     "text": [
      "INFO:root:File 'IE00BYTRRF33.csv' loaded, 224 left\n"
     ]
    },
    {
     "name": "stdout",
     "output_type": "stream",
     "text": [
      "   4979/Unknown - 2953s 591ms/step - loss: 0.1902 - mae: 0.1924"
     ]
    },
    {
     "name": "stderr",
     "output_type": "stream",
     "text": [
      "INFO:root:File 'LU1681048127.csv' loaded, 223 left\n"
     ]
    },
    {
     "name": "stdout",
     "output_type": "stream",
     "text": [
      "   4984/Unknown - 2956s 591ms/step - loss: 0.1912 - mae: 0.1925"
     ]
    },
    {
     "name": "stderr",
     "output_type": "stream",
     "text": [
      "INFO:root:File 'LU1324516308.csv' loaded, 222 left\n"
     ]
    },
    {
     "name": "stdout",
     "output_type": "stream",
     "text": [
      "   4997/Unknown - 2963s 590ms/step - loss: 0.1910 - mae: 0.1925"
     ]
    },
    {
     "name": "stderr",
     "output_type": "stream",
     "text": [
      "INFO:root:File 'IE00B4MKCJ84.csv' loaded, 221 left\n",
      "INFO:root:File 'LU1681038599.csv' loaded, 220 left\n"
     ]
    },
    {
     "name": "stdout",
     "output_type": "stream",
     "text": [
      "   4999/Unknown - 2964s 591ms/step - loss: 0.1910 - mae: 0.1925"
     ]
    },
    {
     "name": "stderr",
     "output_type": "stream",
     "text": [
      "INFO:root:File 'IE0002MXIF34.csv' loaded, 219 left\n"
     ]
    },
    {
     "name": "stdout",
     "output_type": "stream",
     "text": [
      "   5000/Unknown - 2965s 591ms/step - loss: 0.1909 - mae: 0.1925"
     ]
    },
    {
     "name": "stderr",
     "output_type": "stream",
     "text": [
      "INFO:root:2023-03-14 08:41:48.598815\n",
      "INFO:root:Saved model to '/content/bigdata/chk/FPNWithAttention_2_ETF_Trained_GPU_64LB/cp_daily_valid_00_05000/model.h5'\n",
      "INFO:root:Saved optimizer config to '/content/bigdata/chk/FPNWithAttention_2_ETF_Trained_GPU_64LB/cp_daily_valid_00_05000/c.pickle'\n",
      "INFO:root:Saved optimizer weights to '/content/bigdata/chk/FPNWithAttention_2_ETF_Trained_GPU_64LB/cp_daily_valid_00_05000/w.pickle'\n",
      "INFO:root:Did a gc collect: 0\n"
     ]
    },
    {
     "name": "stdout",
     "output_type": "stream",
     "text": [
      "   5001/Unknown - 2969s 591ms/step - loss: 0.1909 - mae: 0.1925"
     ]
    },
    {
     "name": "stderr",
     "output_type": "stream",
     "text": [
      "INFO:root:File 'IE00B2QWDY88.csv' loaded, 218 left\n"
     ]
    },
    {
     "name": "stdout",
     "output_type": "stream",
     "text": [
      "   5006/Unknown - 2972s 591ms/step - loss: 0.1909 - mae: 0.1925"
     ]
    },
    {
     "name": "stderr",
     "output_type": "stream",
     "text": [
      "INFO:root:File 'DE000A0D8Q23.csv' loaded, 217 left\n"
     ]
    },
    {
     "name": "stdout",
     "output_type": "stream",
     "text": [
      "   5012/Unknown - 2975s 591ms/step - loss: 0.1908 - mae: 0.1925"
     ]
    },
    {
     "name": "stderr",
     "output_type": "stream",
     "text": [
      "INFO:root:File 'IE00BMDPBY65.csv' loaded, 216 left\n"
     ]
    },
    {
     "name": "stdout",
     "output_type": "stream",
     "text": [
      "   5013/Unknown - 2976s 591ms/step - loss: 0.1908 - mae: 0.1926"
     ]
    },
    {
     "name": "stderr",
     "output_type": "stream",
     "text": [
      "INFO:root:File 'FR0011660927.csv' loaded, 215 left\n"
     ]
    },
    {
     "name": "stdout",
     "output_type": "stream",
     "text": [
      "   5022/Unknown - 2981s 591ms/step - loss: 0.1906 - mae: 0.1925"
     ]
    },
    {
     "name": "stderr",
     "output_type": "stream",
     "text": [
      "INFO:root:File 'IE00B5MTYL84.csv' loaded, 214 left\n"
     ]
    },
    {
     "name": "stdout",
     "output_type": "stream",
     "text": [
      "   5024/Unknown - 2982s 591ms/step - loss: 0.1908 - mae: 0.1926"
     ]
    },
    {
     "name": "stderr",
     "output_type": "stream",
     "text": [
      "INFO:root:File 'IE00BYTH5T38.csv' loaded, 213 left\n"
     ]
    },
    {
     "name": "stdout",
     "output_type": "stream",
     "text": [
      "   5025/Unknown - 2983s 591ms/step - loss: 0.1909 - mae: 0.1926"
     ]
    },
    {
     "name": "stderr",
     "output_type": "stream",
     "text": [
      "INFO:root:File 'IE00BHXMHK04.csv' loaded, 212 left\n"
     ]
    },
    {
     "name": "stdout",
     "output_type": "stream",
     "text": [
      "   5030/Unknown - 2986s 591ms/step - loss: 0.1909 - mae: 0.1926"
     ]
    },
    {
     "name": "stderr",
     "output_type": "stream",
     "text": [
      "INFO:root:File 'IE00B53L4X51.csv' loaded, 211 left\n"
     ]
    },
    {
     "name": "stdout",
     "output_type": "stream",
     "text": [
      "   5033/Unknown - 2988s 591ms/step - loss: 0.1908 - mae: 0.1926"
     ]
    },
    {
     "name": "stderr",
     "output_type": "stream",
     "text": [
      "INFO:root:File 'LU1650490474.csv' loaded, 210 left\n"
     ]
    },
    {
     "name": "stdout",
     "output_type": "stream",
     "text": [
      "   5047/Unknown - 2996s 591ms/step - loss: 0.1906 - mae: 0.1925"
     ]
    },
    {
     "name": "stderr",
     "output_type": "stream",
     "text": [
      "INFO:root:File 'LU0378438732.csv' loaded, 209 left\n"
     ]
    },
    {
     "name": "stdout",
     "output_type": "stream",
     "text": [
      "   5064/Unknown - 3005s 591ms/step - loss: 0.1903 - mae: 0.1925"
     ]
    },
    {
     "name": "stderr",
     "output_type": "stream",
     "text": [
      "INFO:root:File 'NL0010408704.csv' loaded, 208 left\n"
     ]
    },
    {
     "name": "stdout",
     "output_type": "stream",
     "text": [
      "   5066/Unknown - 3006s 591ms/step - loss: 0.1902 - mae: 0.1925"
     ]
    },
    {
     "name": "stderr",
     "output_type": "stream",
     "text": [
      "INFO:root:File 'DE000ETFL607.csv' loaded, 207 left\n"
     ]
    },
    {
     "name": "stdout",
     "output_type": "stream",
     "text": [
      "   5069/Unknown - 3008s 591ms/step - loss: 0.1901 - mae: 0.1925"
     ]
    },
    {
     "name": "stderr",
     "output_type": "stream",
     "text": [
      "INFO:root:File 'IE00BDFC6G93.csv' loaded, 206 left\n"
     ]
    },
    {
     "name": "stdout",
     "output_type": "stream",
     "text": [
      "   5084/Unknown - 3017s 591ms/step - loss: 0.1898 - mae: 0.1924"
     ]
    },
    {
     "name": "stderr",
     "output_type": "stream",
     "text": [
      "INFO:root:File 'IE00BYV1Y969.csv' loaded, 205 left\n"
     ]
    },
    {
     "name": "stdout",
     "output_type": "stream",
     "text": [
      "   5097/Unknown - 3024s 591ms/step - loss: 0.1898 - mae: 0.1925"
     ]
    },
    {
     "name": "stderr",
     "output_type": "stream",
     "text": [
      "INFO:root:File 'IE00B6YX5K17.csv' loaded, 204 left\n"
     ]
    },
    {
     "name": "stdout",
     "output_type": "stream",
     "text": [
      "   5098/Unknown - 3025s 591ms/step - loss: 0.1898 - mae: 0.1924"
     ]
    },
    {
     "name": "stderr",
     "output_type": "stream",
     "text": [
      "INFO:root:File 'IE00BJ38QD84.csv' loaded, 203 left\n"
     ]
    },
    {
     "name": "stdout",
     "output_type": "stream",
     "text": [
      "   5103/Unknown - 3027s 591ms/step - loss: 0.1898 - mae: 0.1925"
     ]
    },
    {
     "name": "stderr",
     "output_type": "stream",
     "text": [
      "INFO:root:File 'LU2082995734.csv' loaded, 202 left\n"
     ]
    },
    {
     "name": "stdout",
     "output_type": "stream",
     "text": [
      "   5106/Unknown - 3029s 591ms/step - loss: 0.1897 - mae: 0.1925"
     ]
    },
    {
     "name": "stderr",
     "output_type": "stream",
     "text": [
      "INFO:root:File 'IE00BYZTVT56.csv' loaded, 201 left\n"
     ]
    },
    {
     "name": "stdout",
     "output_type": "stream",
     "text": [
      "   5113/Unknown - 3033s 591ms/step - loss: 0.1896 - mae: 0.1924"
     ]
    },
    {
     "name": "stderr",
     "output_type": "stream",
     "text": [
      "INFO:root:File 'LU1291091228.csv' loaded, 200 left\n"
     ]
    },
    {
     "name": "stdout",
     "output_type": "stream",
     "text": [
      "   5119/Unknown - 3037s 591ms/step - loss: 0.1894 - mae: 0.1924"
     ]
    },
    {
     "name": "stderr",
     "output_type": "stream",
     "text": [
      "INFO:root:File 'IE00BJQRDM08.csv' loaded, 199 left\n",
      "INFO:root:File 'IE00BF0M6N54.csv' loaded, 198 left\n"
     ]
    },
    {
     "name": "stdout",
     "output_type": "stream",
     "text": [
      "   5129/Unknown - 3043s 591ms/step - loss: 0.1894 - mae: 0.1924"
     ]
    },
    {
     "name": "stderr",
     "output_type": "stream",
     "text": [
      "INFO:root:File 'IE00BYWZ0333.csv' loaded, 197 left\n"
     ]
    },
    {
     "name": "stdout",
     "output_type": "stream",
     "text": [
      "   5131/Unknown - 3044s 591ms/step - loss: 0.1894 - mae: 0.1924"
     ]
    },
    {
     "name": "stderr",
     "output_type": "stream",
     "text": [
      "INFO:root:File 'IE00B3FH7618.csv' loaded, 196 left\n"
     ]
    },
    {
     "name": "stdout",
     "output_type": "stream",
     "text": [
      "   5139/Unknown - 3049s 591ms/step - loss: 0.1893 - mae: 0.1924"
     ]
    },
    {
     "name": "stderr",
     "output_type": "stream",
     "text": [
      "INFO:root:File 'IE00B5SSQT16.csv' loaded, 195 left\n"
     ]
    },
    {
     "name": "stdout",
     "output_type": "stream",
     "text": [
      "   5142/Unknown - 3051s 591ms/step - loss: 0.1892 - mae: 0.1924"
     ]
    },
    {
     "name": "stderr",
     "output_type": "stream",
     "text": [
      "INFO:root:File 'FR0010261198.csv' loaded, 194 left\n"
     ]
    },
    {
     "name": "stdout",
     "output_type": "stream",
     "text": [
      "   5147/Unknown - 3054s 591ms/step - loss: 0.1891 - mae: 0.1923"
     ]
    },
    {
     "name": "stderr",
     "output_type": "stream",
     "text": [
      "INFO:root:File 'IE00BFWFPY67.csv' loaded, 193 left\n",
      "INFO:root:File 'IE00BYXYYK40.csv' loaded, 192 left\n"
     ]
    },
    {
     "name": "stdout",
     "output_type": "stream",
     "text": [
      "   5157/Unknown - 3059s 591ms/step - loss: 0.1889 - mae: 0.1923"
     ]
    },
    {
     "name": "stderr",
     "output_type": "stream",
     "text": [
      "INFO:root:File 'FR0007052782.csv' loaded, 191 left\n"
     ]
    },
    {
     "name": "stdout",
     "output_type": "stream",
     "text": [
      "   5158/Unknown - 3060s 591ms/step - loss: 0.1889 - mae: 0.1923"
     ]
    },
    {
     "name": "stderr",
     "output_type": "stream",
     "text": [
      "INFO:root:File 'IE00BJK9H753.csv' loaded, 190 left\n"
     ]
    },
    {
     "name": "stdout",
     "output_type": "stream",
     "text": [
      "   5162/Unknown - 3063s 591ms/step - loss: 0.1889 - mae: 0.1923"
     ]
    },
    {
     "name": "stderr",
     "output_type": "stream",
     "text": [
      "/tmp/ipykernel_1242/1318332062.py:23: RuntimeWarning: divide by zero encountered in arctanh\n",
      "  _y = np.arctanh(_y)\n"
     ]
    },
    {
     "name": "stdout",
     "output_type": "stream",
     "text": [
      "   5172/Unknown - 3068s 591ms/step - loss: 0.1888 - mae: 0.1923"
     ]
    },
    {
     "name": "stderr",
     "output_type": "stream",
     "text": [
      "INFO:root:File 'IE00B4K48X80.csv' loaded, 189 left\n"
     ]
    },
    {
     "name": "stdout",
     "output_type": "stream",
     "text": [
      "   5179/Unknown - 3072s 591ms/step - loss: 0.1886 - mae: 0.1922"
     ]
    },
    {
     "name": "stderr",
     "output_type": "stream",
     "text": [
      "INFO:root:File 'LU2037749822.csv' loaded, 188 left\n"
     ]
    },
    {
     "name": "stdout",
     "output_type": "stream",
     "text": [
      "   5180/Unknown - 3073s 591ms/step - loss: 0.1885 - mae: 0.1922"
     ]
    },
    {
     "name": "stderr",
     "output_type": "stream",
     "text": [
      "INFO:root:File 'LU1602144906.csv' loaded, 187 left\n"
     ]
    },
    {
     "name": "stdout",
     "output_type": "stream",
     "text": [
      "   5197/Unknown - 3082s 591ms/step - loss: 0.1882 - mae: 0.1921"
     ]
    },
    {
     "name": "stderr",
     "output_type": "stream",
     "text": [
      "INFO:root:File 'IE00BFNM3B99.csv' loaded, 186 left\n"
     ]
    },
    {
     "name": "stdout",
     "output_type": "stream",
     "text": [
      "   5202/Unknown - 3085s 591ms/step - loss: 0.1882 - mae: 0.1921"
     ]
    },
    {
     "name": "stderr",
     "output_type": "stream",
     "text": [
      "INFO:root:File 'LU1681038912.csv' loaded, 185 left\n"
     ]
    },
    {
     "name": "stdout",
     "output_type": "stream",
     "text": [
      "   5204/Unknown - 3086s 591ms/step - loss: 0.1882 - mae: 0.1921"
     ]
    },
    {
     "name": "stderr",
     "output_type": "stream",
     "text": [
      "INFO:root:File 'LU1829219556.csv' loaded, 184 left\n"
     ]
    },
    {
     "name": "stdout",
     "output_type": "stream",
     "text": [
      "   5208/Unknown - 3088s 591ms/step - loss: 0.1881 - mae: 0.1921"
     ]
    },
    {
     "name": "stderr",
     "output_type": "stream",
     "text": [
      "INFO:root:File 'IE00BF59RV63.csv' loaded, 183 left\n"
     ]
    }
   ],
   "source": [
    "model.fit(tfGenTraining,\n",
    "          epochs=200,\n",
    "          verbose = 1,\n",
    "          callbacks=[tensorboard_callback, cc])"
   ]
  },
  {
   "cell_type": "code",
   "execution_count": null,
   "metadata": {
    "colab": {
     "base_uri": "https://localhost:8080/"
    },
    "id": "2Nh12BlMEOBF",
    "outputId": "8bb69110-e6ee-48e6-e62b-1547db0c5ee4"
   },
   "outputs": [],
   "source": [
    "# copy_filenames = ['gs://crypto_nlp_training/chk/RobertaMLMTraining_1_GPU_512LB_10000VC_MaskedPrediction/cp_daily_valid_01_06000/model.h5'\n",
    "#                   ]\n",
    "\n",
    "# for p in copy_filenames:\n",
    "#   fn = p.split(\"/\")[-1]\n",
    "#   cpnt = p.split(\"/\")[-2]\n",
    "\n",
    "#   os.mkdir(os.path.join(\"/content\", cpnt))\n",
    "\n",
    "#   localPath = os.path.join(\"/content\", cpnt, fn)\n",
    "\n",
    "#   if (\"model.h5\" in p):\n",
    "#     localPathModel = localPath\n",
    "#   elif (\"w.pickle\" in p):\n",
    "#     localPathW = localPath\n",
    "\n",
    "#   with file_io.FileIO(p, mode='rb') as input_f:\n",
    "#     with file_io.FileIO(localPath, mode='wb+') as output_f:\n",
    "#       output_f.write(input_f.read())\n",
    "#       print(\"Pulled from bucket: '\" + fn + \"'\")"
   ]
  },
  {
   "cell_type": "code",
   "execution_count": null,
   "metadata": {
    "colab": {
     "base_uri": "https://localhost:8080/"
    },
    "id": "nYu7qfd3IsMu",
    "outputId": "d24bd442-2144-459f-eec5-0437fdd2cde3"
   },
   "outputs": [],
   "source": [
    "# print(f\"Loading {localPathModel}\")\n",
    "# model.load_weights(localPathModel)"
   ]
  },
  {
   "cell_type": "code",
   "execution_count": null,
   "metadata": {
    "id": "HRuwJfh2l7nS"
   },
   "outputs": [],
   "source": [
    "# model.load_weights(\"/content/model.h5\")"
   ]
  },
  {
   "cell_type": "code",
   "execution_count": null,
   "metadata": {
    "id": "3HLXTKPAfZ04"
   },
   "outputs": [],
   "source": [
    "# modelOld = CreateModelRobertaMLMTrainingDropout()\n",
    "# modelOld.load_weights(\"/content/cp_daily_valid_49_end/model.h5\")\n",
    "# modelOld.summary()"
   ]
  },
  {
   "cell_type": "code",
   "execution_count": null,
   "metadata": {
    "id": "NWKr6ROif078"
   },
   "outputs": [],
   "source": [
    "# model.get_layer(\"Roberta\").set_weights(modelOld.get_layer(\"Roberta\").get_weights())\n",
    "# model.get_layer(\"Categories\").set_weights(modelOld.get_layer(\"Categories\").get_weights())"
   ]
  },
  {
   "cell_type": "code",
   "execution_count": null,
   "metadata": {
    "id": "_mV2OpQAGDja"
   },
   "outputs": [],
   "source": [
    "# with open(\"/content/w.pickle\", 'rb') as pickle_file:\n",
    "#   w = pickle.load(pickle_file)\n",
    "# model.optimizer.set_weights(w)"
   ]
  },
  {
   "cell_type": "code",
   "execution_count": null,
   "metadata": {
    "id": "kXHVjhsDHHF9"
   },
   "outputs": [],
   "source": [
    "# model.optimizer.learning_rate = 5e-2"
   ]
  },
  {
   "cell_type": "markdown",
   "metadata": {
    "id": "HyBFN04Q-qcU"
   },
   "source": [
    "LR 5e-4  5000/Unknown - 5576s 1s/step - loss: 296.81093730\n"
   ]
  },
  {
   "cell_type": "markdown",
   "metadata": {
    "id": "zvFil-4dStzq"
   },
   "source": [
    "# Full sentence as y\n",
    "20000/Unknown - 21155s 1s/step - loss: 0.9579\n",
    "Saved model to: 'gs://crypto_nlp_training/chk/RobertaMLMTraining_1_GPU_512LB_10000VC_FullPrediction/cp_daily_valid_00_20000/model.h5'"
   ]
  },
  {
   "cell_type": "markdown",
   "metadata": {
    "id": "5le0oPyfbE79"
   },
   "source": [
    "# Masked sentence as y, LR 5e-4, Random state 11\n",
    "14000/Unknown - 15387s 1s/step - loss: 5.3956\n",
    "Saved model to: 'gs://crypto_nlp_training/chk/RobertaMLMTraining_1_GPU_512LB_10000VC_MaskedPrediction/cp_daily_valid_00_14000/model.h5'"
   ]
  },
  {
   "cell_type": "code",
   "execution_count": null,
   "metadata": {
    "id": "RLmWNTDIUpt6"
   },
   "outputs": [],
   "source": [
    "# A python generator function has to be applied on the dataStream\n",
    "\n",
    "def pythonGeneratorEval():\n",
    "  # Initialize the FileListToDataStream generator\n",
    "  dataStreamEval= DataStreamCreator.FileListToDataStream(fileList = [TRAIN_FILES[1]],\n",
    "                                                      batch_size = BATCH_SIZE,\n",
    "                                                      X_Block_lenght = X_BLOCK_LENGHT,\n",
    "                                                      y_type_dict=Y_TYPE_DICT,\n",
    "                                                      shuffle=False,\n",
    "                                                      parallel_generators = 1,\n",
    "                                                      random_seed = RANDOM_SEED,\n",
    "                                                      **DATA_STREAM_PARAMETERS\n",
    "                                                      )\n",
    "  \n",
    "  # This while has to integrated into the FileListToDataStream method\n",
    "  while True:  \n",
    "    try:\n",
    "      ne = next(dataStreamEval)\n",
    "      _X = ne['X']\n",
    "      _y = ne['y']\n",
    "    \n",
    "      # 'Blow up' the X array to a 2**n size\n",
    "      _X_new = np.zeros((_X.shape[0], _X.shape[1], TARGET_FEATURE_CNT))\n",
    "      _X_new[:,:,:_X.shape[2]] = _X\n",
    "\n",
    "      yield (_X_new, _y)\n",
    "    except StopIteration as si:\n",
    "      logging.warning(\"StopIteration in pythonGenerator\")\n",
    "      logging.warning(si)\n",
    "      return"
   ]
  },
  {
   "cell_type": "code",
   "execution_count": null,
   "metadata": {
    "id": "iUSw95cqUuE_"
   },
   "outputs": [],
   "source": [
    "# Create a Tensorflow dataset out of the python generator, which can be fed to the network\n",
    "tfGenEval = tf.data.Dataset.from_generator(pythonGeneratorEval, \n",
    "                                               output_types = (tf.float32, tf.float32),\n",
    "                                               output_shapes=(\n",
    "                                                   (BATCH_SIZE, X_BLOCK_LENGHT, TARGET_FEATURE_CNT),\n",
    "                                                   (BATCH_SIZE, 2)\n",
    "                                                   )\n",
    "                                               )\n",
    "tfGenEval"
   ]
  },
  {
   "cell_type": "code",
   "execution_count": null,
   "metadata": {
    "id": "qI3WKmspUe2Z",
    "tags": []
   },
   "outputs": [],
   "source": [
    "# it = tfGenEval.as_numpy_iterator()\n",
    "# ne = next(it)"
   ]
  },
  {
   "cell_type": "code",
   "execution_count": null,
   "metadata": {
    "id": "ktuZ3D04UzeE"
   },
   "outputs": [],
   "source": [
    "p = model.predict(tfGenEval)\n",
    "p.shape"
   ]
  },
  {
   "cell_type": "code",
   "execution_count": null,
   "metadata": {
    "id": "vgzPCL7KVXC1"
   },
   "outputs": [],
   "source": [
    "plt.plot(p[:,0])"
   ]
  },
  {
   "cell_type": "code",
   "execution_count": null,
   "metadata": {
    "tags": []
   },
   "outputs": [],
   "source": [
    "plt.plot(p[:,1])"
   ]
  },
  {
   "cell_type": "code",
   "execution_count": null,
   "metadata": {
    "tags": []
   },
   "outputs": [],
   "source": [
    "p.shape"
   ]
  },
  {
   "cell_type": "code",
   "execution_count": null,
   "metadata": {
    "tags": []
   },
   "outputs": [],
   "source": [
    "tickDF = pd.read_csv(TRAIN_FILES[1])\n",
    "tickDF"
   ]
  },
  {
   "cell_type": "code",
   "execution_count": null,
   "metadata": {
    "tags": []
   },
   "outputs": [],
   "source": [
    "tickDF.shape[0] - p.shape[0]"
   ]
  },
  {
   "cell_type": "code",
   "execution_count": null,
   "metadata": {
    "tags": []
   },
   "outputs": [],
   "source": [
    "tickDFcropped = tickDF.iloc[-p.shape[0]:, :]\n",
    "tickDFcropped"
   ]
  },
  {
   "cell_type": "code",
   "execution_count": null,
   "metadata": {
    "tags": []
   },
   "outputs": [],
   "source": [
    "p_dir = p[:,0]\n",
    "p_dir_derivation = p[:,1]"
   ]
  },
  {
   "cell_type": "code",
   "execution_count": null,
   "metadata": {
    "tags": []
   },
   "outputs": [],
   "source": [
    "# Plot the prediction again, now over the open price\n",
    "chart_name=\"Predicted direction of price movement with open price\"\n",
    "fig, ax1 = plt.subplots(figsize=(20,10))\n",
    "ax1.set_title(chart_name, fontsize=14)\n",
    "\n",
    "_ = ax1.plot(p_dir, color=\"blue\", label=\"Predicted y direction\")\n",
    "\n",
    "ax2 = ax1.twinx()\n",
    "\n",
    "ax2.plot(tickDFcropped.loc[:,'open'].values, color=\"black\", label=\"Price\")\n",
    "\n",
    "ax1.set_xlabel(\"Timesteps\")\n",
    "ax1.set_ylabel(\"Direction\")\n",
    "ax2.set_ylabel(\"Price\")\n",
    "\n",
    "# Show a legend\n",
    "lines, labels = ax1.get_legend_handles_labels()\n",
    "lines2, labels2 = ax2.get_legend_handles_labels()\n",
    "ax2.legend(lines + lines2, labels + labels2, loc=\"upper left\")\n",
    "\n",
    "# Save the figure\n",
    "# fig_name = \"FileListToDataStreamExample_\" + chart_name.replace(\" \", \"_\").replace(\"'\", \"\").replace(\"(\", \"\").replace(\")\", \"\") + \".svg\"\n",
    "# plt.savefig(os.path.join(IMG_SAVE_PATH, fig_name), bbox_inches=\"tight\")"
   ]
  },
  {
   "cell_type": "code",
   "execution_count": null,
   "metadata": {
    "tags": []
   },
   "outputs": [],
   "source": [
    "# Plot the prediction again, now over the open price\n",
    "chart_name=\"Predicted direction derv of price movement with open price\"\n",
    "fig, ax1 = plt.subplots(figsize=(20,10))\n",
    "ax1.set_title(chart_name, fontsize=14)\n",
    "\n",
    "_ = ax1.plot(p_dir_derivation, color=\"red\", label=\"Predicted y direction derv\")\n",
    "\n",
    "ax2 = ax1.twinx()\n",
    "\n",
    "ax2.plot(tickDFcropped.loc[:,'open'].values, color=\"black\", label=\"Price\")\n",
    "\n",
    "ax1.set_xlabel(\"Timesteps\")\n",
    "ax1.set_ylabel(\"Direction\")\n",
    "ax2.set_ylabel(\"Price\")\n",
    "\n",
    "# Show a legend\n",
    "lines, labels = ax1.get_legend_handles_labels()\n",
    "lines2, labels2 = ax2.get_legend_handles_labels()\n",
    "ax2.legend(lines + lines2, labels + labels2, loc=\"upper left\")\n",
    "\n",
    "# Save the figure\n",
    "# fig_name = \"FileListToDataStreamExample_\" + chart_name.replace(\" \", \"_\").replace(\"'\", \"\").replace(\"(\", \"\").replace(\")\", \"\") + \".svg\"\n",
    "# plt.savefig(os.path.join(IMG_SAVE_PATH, fig_name), bbox_inches=\"tight\")"
   ]
  },
  {
   "cell_type": "code",
   "execution_count": null,
   "metadata": {
    "tags": []
   },
   "outputs": [],
   "source": [
    "#@title Buy and sell signal thresholds\n",
    "BUY_SIGNAL_THRESHOLD_DIR = 0.0 #@param {type:\"number\"}\n",
    "BUY_SIGNAL_THRESHOLD_DIR_DER = -0.02 #@param {type:\"number\"}\n",
    "\n",
    "SELL_SIGNAL_THRESHOLD_DIR = 0.25 #@param {type:\"number\"}"
   ]
  },
  {
   "cell_type": "code",
   "execution_count": null,
   "metadata": {
    "tags": []
   },
   "outputs": [],
   "source": [
    "#@title Plot buy and sell signals\n",
    "chart_name=\"Buy and sell signals\"\n",
    "fig, ax1 = plt.subplots(figsize=(20,10))\n",
    "ax1.set_title(chart_name)\n",
    "\n",
    "x_datetimes = [datetime.datetime.fromtimestamp(ts) for ts in tickDFcropped.loc[:,'open'].index]\n",
    "\n",
    "_ = ax1.plot(x_datetimes, tickDFcropped.loc[:,'open'].values, color=\"black\", label=\"Price\", linewidth=2)\n",
    "\n",
    "# Color area axis\n",
    "ax2 = ax1.twinx()\n",
    "\n",
    "# Convert the float value prediction into rising and falling categories\n",
    "yCategoryFall = p_dir > SELL_SIGNAL_THRESHOLD_DIR\n",
    "yCategoryRise = (p_dir < BUY_SIGNAL_THRESHOLD_DIR) & (p_dir_derivation > BUY_SIGNAL_THRESHOLD_DIR_DER)\n",
    "\n",
    "ax2.fill_between(x_datetimes, yCategoryFall , alpha=0.5, color=\"red\", label=\"'Buy' signal\")\n",
    "ax2.fill_between(x_datetimes, yCategoryRise , alpha=0.5, color=\"green\", label=\"'Sell' signal\")\n",
    "\n",
    "# Remove tick marks and set limits for color area axis\n",
    "ax2.set_yticks([])\n",
    "ax2.set_ylim(-0.05,1.05)\n",
    "\n",
    "ax3 = ax1.twinx()\n",
    "_ = ax3.plot(x_datetimes, p_dir, color=\"blue\", label=\"Predicted price direction\")\n",
    "# _ = ax3.plot(x_datetimes, 10.0*p_dir_derivation, color=\"red\", label=\"10.0 * Predicted price direction derivation\")\n",
    "# ax3.set_ylim(-1.05,1.05)\n",
    "\n",
    "ax3.plot([np.min(x_datetimes), np.max(x_datetimes)], [0.0,0.0], color=\"gray\")\n",
    "\n",
    "# Show a legend\n",
    "lines, labels = ax1.get_legend_handles_labels()\n",
    "lines2, labels2 = ax2.get_legend_handles_labels()\n",
    "lines3, labels3 = ax3.get_legend_handles_labels()\n",
    "ax2.legend(lines + lines2 + lines3, labels + labels2 + labels3, loc=\"upper left\")\n",
    "\n",
    "# Save the figure\n",
    "# fig_name = chart_name.replace(\" \", \"_\").replace(\"'\", \"\") + \".svg\"\n",
    "# plt.savefig(os.path.join(IMG_SAVE_PATH, fig_name), bbox_inches=\"tight\")"
   ]
  }
 ],
 "metadata": {
  "colab": {
   "provenance": []
  },
  "gpuClass": "standard",
  "kernelspec": {
   "display_name": "Python 3 (ipykernel)",
   "language": "python",
   "name": "python3"
  },
  "language_info": {
   "codemirror_mode": {
    "name": "ipython",
    "version": 3
   },
   "file_extension": ".py",
   "mimetype": "text/x-python",
   "name": "python",
   "nbconvert_exporter": "python",
   "pygments_lexer": "ipython3",
   "version": "3.10.9"
  }
 },
 "nbformat": 4,
 "nbformat_minor": 4
}
