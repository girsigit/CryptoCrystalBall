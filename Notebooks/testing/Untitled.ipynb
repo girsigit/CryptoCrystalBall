{
 "cells": [
  {
   "cell_type": "code",
   "execution_count": null,
   "id": "0ff71f97-ba22-4ea4-b432-5c97a5aaae1f",
   "metadata": {
    "tags": []
   },
   "outputs": [],
   "source": [
    "import tensorflow as tf"
   ]
  },
  {
   "cell_type": "code",
   "execution_count": null,
   "id": "f5143213-37e1-489d-b54c-5060f34f672a",
   "metadata": {
    "tags": []
   },
   "outputs": [],
   "source": [
    "tf.test.gpu_device_name()"
   ]
  },
  {
   "cell_type": "code",
   "execution_count": 1,
   "id": "f652df5c-1abe-406b-88a9-9bf44dc096aa",
   "metadata": {
    "tags": []
   },
   "outputs": [
    {
     "name": "stdout",
     "output_type": "stream",
     "text": [
      "Copying gs://crypto_nlp_training/four_float_to_int/digitLimits.npy...\n",
      "/ [1/1 files][  768.0 B/  768.0 B] 100% Done                                    \n",
      "Operation completed over 1 objects/768.0 B.                                      \n"
     ]
    }
   ],
   "source": [
    "!gsutil -m cp -r gs://crypto_nlp_training/four_float_to_int/digitLimits.npy /content/digitLimits.npy"
   ]
  }
 ],
 "metadata": {
  "kernelspec": {
   "display_name": "Python 3 (ipykernel)",
   "language": "python",
   "name": "python3"
  },
  "language_info": {
   "codemirror_mode": {
    "name": "ipython",
    "version": 3
   },
   "file_extension": ".py",
   "mimetype": "text/x-python",
   "name": "python",
   "nbconvert_exporter": "python",
   "pygments_lexer": "ipython3",
   "version": "3.10.9"
  }
 },
 "nbformat": 4,
 "nbformat_minor": 5
}
