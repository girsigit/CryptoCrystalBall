{
 "cells": [
  {
   "cell_type": "markdown",
   "metadata": {
    "id": "RIbOPenP-I_d"
   },
   "source": [
    "# Mount drive and bucket\n",
    "Todo: Remove in public version"
   ]
  },
  {
   "cell_type": "code",
   "execution_count": 1,
   "metadata": {
    "id": "GHybPwDjX1gZ",
    "tags": []
   },
   "outputs": [],
   "source": [
    "# Check if the notebook is run in Google Colab\n",
    "import sys\n",
    "\n",
    "COLAB = 'google.colab' in sys.modules"
   ]
  },
  {
   "cell_type": "code",
   "execution_count": 2,
   "metadata": {
    "id": "T9d9adZx6uyl",
    "tags": []
   },
   "outputs": [],
   "source": [
    "# Uncomment this cell to provide logging output to a file in addition to the lab in the browser\n",
    "# This also keeps logging if the browser window is closed\n",
    "\n",
    "# import datetime\n",
    "# import logging\n",
    "\n",
    "# nblog = open(f\"/content/CryptoCrystalBall/Data/logs/nb_{datetime.datetime.utcnow().strftime('%Y%m%d_%H%M')}.log\", \"a+\")\n",
    "# print(nblog)\n",
    "# sys.stdout.echo = nblog\n",
    "# sys.stderr.echo = nblog\n",
    "\n",
    "# %autosave 60"
   ]
  },
  {
   "cell_type": "code",
   "execution_count": 3,
   "metadata": {
    "colab": {
     "base_uri": "https://localhost:8080/"
    },
    "id": "MTJ7bYMtHmvS",
    "outputId": "bc484701-1ff9-495f-8be6-1425fb448ff1"
   },
   "outputs": [
    {
     "name": "stdout",
     "output_type": "stream",
     "text": [
      "Run the command!\n"
     ]
    }
   ],
   "source": [
    "if COLAB:\n",
    "  from google.colab import auth\n",
    "  auth.authenticate_user()\n",
    "else:\n",
    "    print(\"Run the command!\")\n",
    "  #Todo #bring the command inside the notebook\n",
    "  #run this terminal inside docker: gcloud auth login b.girsule@gmail.com --no-launch-browser"
   ]
  },
  {
   "cell_type": "code",
   "execution_count": 4,
   "metadata": {
    "colab": {
     "base_uri": "https://localhost:8080/"
    },
    "id": "t9dbL-PU-okV",
    "outputId": "04750df3-bcb8-4c2e-a0f5-d3fe5cdc97bc"
   },
   "outputs": [
    {
     "name": "stderr",
     "output_type": "stream",
     "text": [
      "2023-04-17 19:17:39.615783: I tensorflow/core/platform/cpu_feature_guard.cc:193] This TensorFlow binary is optimized with oneAPI Deep Neural Network Library (oneDNN) to use the following CPU instructions in performance-critical operations:  AVX2 AVX_VNNI FMA\n",
      "To enable them in other operations, rebuild TensorFlow with the appropriate compiler flags.\n",
      "2023-04-17 19:17:39.697486: I tensorflow/core/util/util.cc:169] oneDNN custom operations are on. You may see slightly different numerical results due to floating-point round-off errors from different computation orders. To turn them off, set the environment variable `TF_ENABLE_ONEDNN_OPTS=0`.\n",
      "2023-04-17 19:17:39.719907: E tensorflow/stream_executor/cuda/cuda_blas.cc:2981] Unable to register cuBLAS factory: Attempting to register factory for plugin cuBLAS when one has already been registered\n",
      "2023-04-17 19:17:40.192192: W tensorflow/stream_executor/platform/default/dso_loader.cc:64] Could not load dynamic library 'libnvinfer.so.7'; dlerror: libnvinfer.so.7: cannot open shared object file: No such file or directory\n",
      "2023-04-17 19:17:40.192229: W tensorflow/stream_executor/platform/default/dso_loader.cc:64] Could not load dynamic library 'libnvinfer_plugin.so.7'; dlerror: libnvinfer_plugin.so.7: cannot open shared object file: No such file or directory\n",
      "2023-04-17 19:17:40.192233: W tensorflow/compiler/tf2tensorrt/utils/py_utils.cc:38] TF-TRT Warning: Cannot dlopen some TensorRT libraries. If you would like to use Nvidia GPU with TensorRT, please make sure the missing libraries mentioned above are installed properly.\n"
     ]
    },
    {
     "name": "stdout",
     "output_type": "stream",
     "text": [
      "TF Version is 2.10.0, ok!\n"
     ]
    }
   ],
   "source": [
    "# Check if the tf version is 2.10.0, this is required to use the 'ignore_class' in the  SparseCategoricalCrossentropy\n",
    "import tensorflow as tf\n",
    "\n",
    "if '2.10.0' != tf.__version__:\n",
    "  !pip uninstall tensorflow -y\n",
    "  !pip install tensorflow-gpu==2.10.0\n",
    "  please_restart_the_runtime\n",
    "else:\n",
    "  print(\"TF Version is 2.10.0, ok!\")"
   ]
  },
  {
   "cell_type": "code",
   "execution_count": 5,
   "metadata": {
    "id": "FYePtDVpqtkN"
   },
   "outputs": [],
   "source": [
    "from tensorflow import keras\n",
    "from tensorflow.python.lib.io import file_io\n",
    "\n",
    "from keras.layers import Input, Dense, Flatten, UnitNormalization, Permute, Conv1D, UpSampling1D, Add, LSTM, Concatenate, Multiply, Activation, Attention, Dropout\n",
    "from keras.models import Model\n",
    "from keras.optimizers import Adam"
   ]
  },
  {
   "cell_type": "code",
   "execution_count": 6,
   "metadata": {
    "id": "pxa3Ug_JplIq",
    "tags": []
   },
   "outputs": [],
   "source": [
    "import os\n",
    "from os import listdir\n",
    "from os.path import isfile, join"
   ]
  },
  {
   "cell_type": "code",
   "execution_count": 7,
   "metadata": {
    "id": "EcBnUrFKqyCK"
   },
   "outputs": [],
   "source": [
    "import pandas as pd\n",
    "import numpy as np\n",
    "import copy\n",
    "import matplotlib.pyplot as plt\n",
    "from tqdm import tqdm\n",
    "import pickle\n",
    "import gc\n",
    "import random\n",
    "import datetime"
   ]
  },
  {
   "cell_type": "code",
   "execution_count": 8,
   "metadata": {
    "id": "R_3vswfeRqmj"
   },
   "outputs": [],
   "source": [
    "# Set the google cloud bucket data\n",
    "project_id = 'tweetprediction'\n",
    "bucket_name = 'crypto_nlp_training'"
   ]
  },
  {
   "cell_type": "code",
   "execution_count": 9,
   "metadata": {
    "id": "X3s3eDubSFaJ",
    "tags": []
   },
   "outputs": [],
   "source": [
    "# Set the checkpoint path for saving train progress\n",
    "if COLAB:\n",
    "    raise NotImplementedError(\"Google Buckets have to be implemented in this notebook before using them in Colab!\")\n",
    "    CHECKPOINT_PATH = f\"gs://{bucket_name}/chk/\"\n",
    "else:\n",
    "    CHECKPOINT_PATH = f\"/content/bigdata/chk/\""
   ]
  },
  {
   "cell_type": "code",
   "execution_count": 10,
   "metadata": {
    "id": "8rvlsLwbpmWJ"
   },
   "outputs": [],
   "source": [
    "# Check if the notebook is run in google colab, if so, clone the repo\n",
    "if COLAB:\n",
    "    print(\"Running in Colab\")\n",
    "\n",
    "    # Clone the whole repo to get all data and code if not already done\n",
    "    if not os.path.exists(\"/content/CryptoCrystalBall\"):\n",
    "      !git clone https://github.com/girsigit/CryptoCrystalBall\n",
    "\n",
    "    %cd /content"
   ]
  },
  {
   "cell_type": "code",
   "execution_count": 11,
   "metadata": {
    "id": "q9OmJ6vFthwG"
   },
   "outputs": [],
   "source": [
    "# Try importing the Ta-Lib library, if this fails, try to install it and\n",
    "# import it again afterwards\n",
    "try:\n",
    "    import talib\n",
    "except:\n",
    "    !wget http://prdownloads.sourceforge.net/ta-lib/ta-lib-0.4.0-src.tar.gz\n",
    "    !tar -xzvf ta-lib-0.4.0-src.tar.gz\n",
    "    %cd ta-lib\n",
    "    !./configure --prefix=/usr\n",
    "    !make\n",
    "    !make install\n",
    "    !pip install Ta-Lib\n",
    "    %cd ..\n",
    "\n",
    "    import talib"
   ]
  },
  {
   "cell_type": "code",
   "execution_count": 12,
   "metadata": {
    "id": "axPYAbN9upgY",
    "tags": []
   },
   "outputs": [],
   "source": [
    "import logging\n",
    "logger = logging.getLogger()\n",
    "logger.setLevel(logging.INFO)"
   ]
  },
  {
   "cell_type": "markdown",
   "metadata": {
    "id": "Nbt7oQxzL2Zy"
   },
   "source": [
    "---\n",
    "# Add custom import path for DataStreamCreator and IndicatorCalculator\n",
    "\n",
    "These libs are not in the standard python directory, so their paths have to be added to the import paths"
   ]
  },
  {
   "cell_type": "code",
   "execution_count": 13,
   "metadata": {
    "colab": {
     "base_uri": "https://localhost:8080/"
    },
    "id": "ICDL0OwbL2Zz",
    "outputId": "2ef855be-5acf-4ce9-b5a0-5d6da772d9a1",
    "tags": []
   },
   "outputs": [
    {
     "data": {
      "text/plain": [
       "['', 'content']"
      ]
     },
     "execution_count": 13,
     "metadata": {},
     "output_type": "execute_result"
    }
   ],
   "source": [
    "# Get the current directory\n",
    "current_dir = os.getcwd()\n",
    "current_dir_splitted = [\"\", \"content\"]\n",
    "current_dir_splitted"
   ]
  },
  {
   "cell_type": "code",
   "execution_count": 14,
   "metadata": {
    "colab": {
     "base_uri": "https://localhost:8080/"
    },
    "id": "JJ8l6O2gL2Z1",
    "outputId": "270b62c5-c70f-4856-e97b-a3a0631d0328",
    "tags": []
   },
   "outputs": [
    {
     "name": "stdout",
     "output_type": "stream",
     "text": [
      "dsc_dir: /content/CryptoCrystalBall/DataStreamCreator\n",
      "ind_dir: /content/CryptoCrystalBall/IndicatorCalculator\n"
     ]
    }
   ],
   "source": [
    "# Create the import directories for the DataStreamCreator and the IndicatorCalculator\n",
    "dsc_dir = '/content/CryptoCrystalBall/DataStreamCreator'\n",
    "print(f\"dsc_dir: {dsc_dir}\")\n",
    "\n",
    "ind_dir = '/content/CryptoCrystalBall/IndicatorCalculator'\n",
    "print(f\"ind_dir: {ind_dir}\")\n",
    "\n",
    "# Add them to the import paths\n",
    "sys.path.insert(0, dsc_dir)\n",
    "sys.path.insert(0, ind_dir)"
   ]
  },
  {
   "cell_type": "code",
   "execution_count": 15,
   "metadata": {
    "id": "iqyTbcZDttLT",
    "tags": []
   },
   "outputs": [],
   "source": [
    "# Import the actual classes\n",
    "from IndicatorCalculator import IndicatorCalculator\n",
    "import DataStreamCreator"
   ]
  },
  {
   "cell_type": "markdown",
   "metadata": {
    "id": "zPsG4dqRL2Z5"
   },
   "source": [
    "---\n",
    "# Define all the parameters and variables"
   ]
  },
  {
   "cell_type": "code",
   "execution_count": 16,
   "metadata": {
    "id": "5J8ODl45L2Z6",
    "tags": []
   },
   "outputs": [],
   "source": [
    "# # Define the tick data path\n",
    "# DATA_PATH = os.path.join(os.sep, *current_dir_splitted, 'DemoData')\n",
    "# print(f\"DATA_PATH: {DATA_PATH}\")"
   ]
  },
  {
   "cell_type": "code",
   "execution_count": 17,
   "metadata": {
    "id": "7TUeLGiOL2Z7",
    "tags": []
   },
   "outputs": [],
   "source": [
    "# # Define the chart image save path\n",
    "# IMG_SAVE_PATH = os.path.join(os.sep, *current_dir_splitted, 'Documentation', 'Images')\n",
    "# print(f\"IMG_SAVE_PATH: {IMG_SAVE_PATH}\")"
   ]
  },
  {
   "cell_type": "code",
   "execution_count": 18,
   "metadata": {
    "id": "o23rkki9ttLZ",
    "tags": []
   },
   "outputs": [],
   "source": [
    "# Define a global random seed\n",
    "RANDOM_SEED = 42\n",
    "\n",
    "# Set the seed in np\n",
    "np.random.seed(RANDOM_SEED)"
   ]
  },
  {
   "cell_type": "code",
   "execution_count": 19,
   "metadata": {
    "id": "g9gBeRtnxKMD",
    "tags": []
   },
   "outputs": [],
   "source": [
    "# X_BLOCK_LENGHT defines how far into the past a 'slice of a chart' shall be\n",
    "# See: https://github.com/girsigit/CryptoCrystalBall/tree/main/DataStreamCreator#xblockgenerator\n",
    "\n",
    "# For this ML architecture, the X_BLOCK_LENGHT has to be a member of 2**n, otherwise the feature pyramid cannot be built correctly \n",
    "\n",
    "# X_BLOCK_LENGHT = 256\n",
    "X_BLOCK_LENGHT = 128"
   ]
  },
  {
   "cell_type": "code",
   "execution_count": 20,
   "metadata": {
    "id": "sh5dsBKr5Ko-",
    "tags": []
   },
   "outputs": [],
   "source": [
    "# How many examples shall be processed at the same time, limited by GPU memory\n",
    "BATCH_SIZE = 384 # for X_BLOCK_LENGHT = 256\n",
    "BATCH_SIZE = 512 # for X_BLOCK_LENGHT = 128"
   ]
  },
  {
   "cell_type": "code",
   "execution_count": 21,
   "metadata": {
    "id": "J331jHk-u345",
    "tags": []
   },
   "outputs": [],
   "source": [
    "# A fixed number of features is used\n",
    "FEATURES = 160"
   ]
  },
  {
   "cell_type": "code",
   "execution_count": 22,
   "metadata": {
    "id": "1JVT1Z2U0lW8",
    "tags": []
   },
   "outputs": [],
   "source": [
    "# Finanical indicator timespans\n",
    "# See: https://github.com/girsigit/CryptoCrystalBall/tree/main/IndicatorCalculator\n",
    "SHORTSPAN = 7\n",
    "MIDSPAN = 38\n",
    "LONGSPAN = 50"
   ]
  },
  {
   "cell_type": "code",
   "execution_count": 23,
   "metadata": {
    "id": "cCiPOonYg5Fx"
   },
   "outputs": [],
   "source": [
    "INDICATOR_MINMAX_PERIOD = 28"
   ]
  },
  {
   "cell_type": "code",
   "execution_count": 24,
   "metadata": {
    "id": "AnNz-Oke3J3p",
    "tags": []
   },
   "outputs": [],
   "source": [
    "# Additional settings for the data stream\n",
    "# For this notebook, the calculation of pattern indicators is turned off\n",
    "DATA_STREAM_PARAMETERS = {\n",
    "    \"calcPatternIndicators\": False, # No patterns are used\n",
    "    \"calcVolumeInidators\": False, # No volume indicators, these are wide spread and may disturb the classifer\n",
    "    \"dropna\": False # Drop all tick/indicator table rows containing nan values instead of just replacing them by 0 (which would lead to wrong predictions)\n",
    "}"
   ]
  },
  {
   "cell_type": "markdown",
   "metadata": {
    "id": "7xXpDFe9ROVQ"
   },
   "source": [
    "# Load the dataset"
   ]
  },
  {
   "cell_type": "code",
   "execution_count": 25,
   "metadata": {
    "colab": {
     "base_uri": "https://localhost:8080/"
    },
    "id": "7HHVGp9j6uyv",
    "outputId": "1c3d9e89-4963-4861-ca58-cc11f328144a",
    "tags": []
   },
   "outputs": [
    {
     "name": "stdout",
     "output_type": "stream",
     "text": [
      "The whole dataset contains 1064 files.\n",
      "['/content/dataset/ETF/tickdata/ticks/DE0002635265.csv', '/content/dataset/ETF/tickdata/ticks/DE0002635273.csv', '/content/dataset/ETF/tickdata/ticks/DE0002635281.csv']\n"
     ]
    }
   ],
   "source": [
    "# Define the dataset path\n",
    "DATASET_PATH = \"/content/dataset/ETF/tickdata/ticks\"\n",
    "\n",
    "# Get all file names\n",
    "ALL_FILES = [os.path.join(DATASET_PATH,f) for f in listdir(DATASET_PATH) if isfile(join(DATASET_PATH, f)) and \".csv\" in f ]\n",
    "\n",
    "# Sort them (as a stable basis for randomizing afterwards)\n",
    "ALL_FILES = sorted(ALL_FILES)\n",
    "\n",
    "print(f\"The whole dataset contains {len(ALL_FILES)} files.\")\n",
    "print(ALL_FILES[:3])"
   ]
  },
  {
   "cell_type": "markdown",
   "metadata": {
    "id": "oup6_m0p6uyw"
   },
   "source": [
    "### Split the dataset into 3 parts\n",
    "- The **train** set is used to train the machine-learning network then used to predicting future information\n",
    "- The **test** set is used in the next step. On it a trading (entry/exit) strategy will be developed\n",
    "- The **eval** set will then be used as an never-seen set to try and evalutate the combination of the ML network and the trading strategy"
   ]
  },
  {
   "cell_type": "code",
   "execution_count": 26,
   "metadata": {
    "colab": {
     "base_uri": "https://localhost:8080/"
    },
    "id": "KN2GGLLw6uyw",
    "outputId": "2708b4cf-603c-424c-8358-95cff704fe64",
    "tags": []
   },
   "outputs": [
    {
     "name": "stdout",
     "output_type": "stream",
     "text": [
      "train_split_index: 532\n",
      "test_split_index: 798\n",
      "The train set contains 532 files\n",
      "The test set contains 266 files\n",
      "The eval set contains 266 files\n"
     ]
    }
   ],
   "source": [
    "# It uses a fixed random seed to allow this cell to be copied to other notebooks producing the same result\n",
    "SPLIT_RANDOM_SEED = 666\n",
    "\n",
    "TRAIN_SET_SIZE = 0.5\n",
    "TEST_SET_SIZE = 0.25\n",
    "# EVAL_SET_SIZE: The rest\n",
    "\n",
    "# Files are shuffled before splitting\n",
    "random.Random(SPLIT_RANDOM_SEED).shuffle(ALL_FILES)\n",
    "\n",
    "train_split_index = int(len(ALL_FILES) * TRAIN_SET_SIZE)\n",
    "print(f\"train_split_index: {train_split_index}\")\n",
    "\n",
    "test_split_index = int(len(ALL_FILES) * (TRAIN_SET_SIZE + TEST_SET_SIZE))\n",
    "print(f\"test_split_index: {test_split_index}\")\n",
    "\n",
    "TRAIN_FILES = ALL_FILES[:train_split_index]\n",
    "TEST_FILES = ALL_FILES[train_split_index:test_split_index]\n",
    "EVAL_FILES = ALL_FILES[test_split_index:]\n",
    "\n",
    "print(f\"The train set contains {len(TRAIN_FILES)} files\")\n",
    "print(f\"The test set contains {len(TEST_FILES)} files\")\n",
    "print(f\"The eval set contains {len(EVAL_FILES)} files\")"
   ]
  },
  {
   "cell_type": "markdown",
   "metadata": {
    "id": "J9cA0AKquwZ2"
   },
   "source": [
    "---\n",
    "# Prepare data source\n",
    "\n",
    "For training a neural network, first the data source has to be prepared. For this purpose, the method `FileListToDataStream` from the `DataStreamCreator` class is used. This method creates a stream of `X-Block` and `y-data` arrays out of a list of .csv file names, pointing to tick tables (called `EXAMPLE_FILE_PATHS` in this example). For details about `X-Blocks` and `y-data`, please refer to the documentation of the `XBlockGenerator` and the `YDataGenerator` under https://github.com/girsigit/CryptoCrystalBall/tree/main/DataStreamCreator.\n",
    "\n",
    "<br>\n",
    "\n",
    "As y values for training the ML network the possible future gain and it derivation will be used. The y data type `PARAM_DICT_TEMPLATE_Y_DATA_TYPE_PAST_FUTURE_GAIN` will provide both past and future gain, but the model will only be trained on the future gain, as the past gain can be easily calculated directly, also in a live application."
   ]
  },
  {
   "cell_type": "code",
   "execution_count": 27,
   "metadata": {
    "colab": {
     "base_uri": "https://localhost:8080/"
    },
    "id": "2jHLlhXx6uyx",
    "outputId": "87264314-552b-4615-b83e-14da8e98fb2a"
   },
   "outputs": [
    {
     "data": {
      "text/plain": [
       "{'dataType': 3,\n",
       " 'gain_timespan': 60,\n",
       " 'direction_ma_timespan': 48,\n",
       " 'derivation_ma_timespan': 48}"
      ]
     },
     "execution_count": 27,
     "metadata": {},
     "output_type": "execute_result"
    }
   ],
   "source": [
    "Y_TYPE_DICT = copy.deepcopy(DataStreamCreator.YDataGenerator.PARAM_DICT_TEMPLATE_Y_DATA_TYPE_PAST_FUTURE_GAIN)\n",
    "\n",
    "Y_TYPE_DICT[\"gain_timespan\"] = 60\n",
    "# Y_TYPE_DICT[\"direction_ma_timespan\"] = 14\n",
    "# Y_TYPE_DICT[\"derivation_ma_timespan\"] = 14\n",
    "\n",
    "Y_TYPE_DICT"
   ]
  },
  {
   "cell_type": "code",
   "execution_count": 28,
   "metadata": {
    "colab": {
     "base_uri": "https://localhost:8080/"
    },
    "id": "GXnsuPxV6uyx",
    "outputId": "ea70408b-87e0-4269-8481-da57d106c379"
   },
   "outputs": [
    {
     "data": {
      "text/plain": [
       "(512, 128, 160)"
      ]
     },
     "execution_count": 28,
     "metadata": {},
     "output_type": "execute_result"
    }
   ],
   "source": [
    "XShape = (BATCH_SIZE, X_BLOCK_LENGHT, FEATURES)\n",
    "XShape"
   ]
  },
  {
   "cell_type": "code",
   "execution_count": 29,
   "metadata": {
    "id": "S2e6q_2su26o",
    "tags": []
   },
   "outputs": [],
   "source": [
    "# A python generator function has to be applied on the dataStream\n",
    "\n",
    "def pythonGeneratorSignalsTraining():\n",
    "  # Initialize the FileListToDataStream generator\n",
    "  dataStreamTraining = DataStreamCreator.FileListToDataStream(fileList = TRAIN_FILES,\n",
    "                                                      batch_size = BATCH_SIZE,\n",
    "                                                      X_Block_lenght = X_BLOCK_LENGHT,\n",
    "                                                      y_type_dict=Y_TYPE_DICT,\n",
    "                                                      shuffle=True,\n",
    "                                                      parallel_generators = np.min([BATCH_SIZE, 8]),\n",
    "                                                      random_seed = RANDOM_SEED,\n",
    "                                                      **DATA_STREAM_PARAMETERS\n",
    "                                                      )\n",
    "\n",
    "  # This while has to integrated into the FileListToDataStream method\n",
    "  while True:  \n",
    "    try:\n",
    "      ne = next(dataStreamTraining)\n",
    "      _X = ne['X']\n",
    "      _y = ne['y'][:,[1,3]]\n",
    "    \n",
    "      # Limit the y signal to avoid excess\n",
    "      _y /= 10.0\n",
    "      _y = np.clip(_y, -10.0, 10.0)\n",
    "\n",
    "      yield (_X, _y)\n",
    "    except StopIteration as si:\n",
    "      logging.warning(\"StopIteration in pythonGenerator\")\n",
    "      logging.warning(si)\n",
    "      return"
   ]
  },
  {
   "cell_type": "code",
   "execution_count": 30,
   "metadata": {
    "colab": {
     "base_uri": "https://localhost:8080/"
    },
    "id": "FoTRNHyEvnyg",
    "outputId": "05f527df-4de3-48e4-e4c4-2f3185da6fad",
    "tags": []
   },
   "outputs": [
    {
     "name": "stderr",
     "output_type": "stream",
     "text": [
      "2023-04-17 19:17:43.093097: I tensorflow/stream_executor/cuda/cuda_gpu_executor.cc:980] successful NUMA node read from SysFS had negative value (-1), but there must be at least one NUMA node, so returning NUMA node zero\n",
      "2023-04-17 19:17:43.118534: I tensorflow/stream_executor/cuda/cuda_gpu_executor.cc:980] successful NUMA node read from SysFS had negative value (-1), but there must be at least one NUMA node, so returning NUMA node zero\n",
      "2023-04-17 19:17:43.118684: I tensorflow/stream_executor/cuda/cuda_gpu_executor.cc:980] successful NUMA node read from SysFS had negative value (-1), but there must be at least one NUMA node, so returning NUMA node zero\n",
      "2023-04-17 19:17:43.119440: I tensorflow/core/platform/cpu_feature_guard.cc:193] This TensorFlow binary is optimized with oneAPI Deep Neural Network Library (oneDNN) to use the following CPU instructions in performance-critical operations:  AVX2 AVX_VNNI FMA\n",
      "To enable them in other operations, rebuild TensorFlow with the appropriate compiler flags.\n",
      "2023-04-17 19:17:43.121011: I tensorflow/stream_executor/cuda/cuda_gpu_executor.cc:980] successful NUMA node read from SysFS had negative value (-1), but there must be at least one NUMA node, so returning NUMA node zero\n",
      "2023-04-17 19:17:43.121126: I tensorflow/stream_executor/cuda/cuda_gpu_executor.cc:980] successful NUMA node read from SysFS had negative value (-1), but there must be at least one NUMA node, so returning NUMA node zero\n",
      "2023-04-17 19:17:43.121201: I tensorflow/stream_executor/cuda/cuda_gpu_executor.cc:980] successful NUMA node read from SysFS had negative value (-1), but there must be at least one NUMA node, so returning NUMA node zero\n",
      "2023-04-17 19:17:43.453998: I tensorflow/stream_executor/cuda/cuda_gpu_executor.cc:980] successful NUMA node read from SysFS had negative value (-1), but there must be at least one NUMA node, so returning NUMA node zero\n",
      "2023-04-17 19:17:43.454162: I tensorflow/stream_executor/cuda/cuda_gpu_executor.cc:980] successful NUMA node read from SysFS had negative value (-1), but there must be at least one NUMA node, so returning NUMA node zero\n",
      "2023-04-17 19:17:43.454246: I tensorflow/stream_executor/cuda/cuda_gpu_executor.cc:980] successful NUMA node read from SysFS had negative value (-1), but there must be at least one NUMA node, so returning NUMA node zero\n",
      "2023-04-17 19:17:43.454319: I tensorflow/core/common_runtime/gpu/gpu_device.cc:1616] Created device /job:localhost/replica:0/task:0/device:GPU:0 with 6179 MB memory:  -> device: 0, name: NVIDIA RTX A2000 8GB Laptop GPU, pci bus id: 0000:01:00.0, compute capability: 8.6\n"
     ]
    },
    {
     "data": {
      "text/plain": [
       "<PrefetchDataset element_spec=(TensorSpec(shape=(512, 128, 160), dtype=tf.float32, name=None), TensorSpec(shape=(512, 2), dtype=tf.float32, name=None))>"
      ]
     },
     "execution_count": 30,
     "metadata": {},
     "output_type": "execute_result"
    }
   ],
   "source": [
    "# Create a Tensorflow dataset out of the python generator, which can be fed to the network\n",
    "tfGenTraining = tf.data.Dataset.from_generator(pythonGeneratorSignalsTraining, \n",
    "                                               output_types = (tf.float32, tf.float32),\n",
    "                                               output_shapes=(\n",
    "                                                   (BATCH_SIZE, X_BLOCK_LENGHT, FEATURES),\n",
    "                                                   (BATCH_SIZE, 2)\n",
    "                                                   )\n",
    "                                               )\n",
    "\n",
    "tfGenTraining = tfGenTraining.prefetch(buffer_size=32)\n",
    "tfGenTraining"
   ]
  },
  {
   "cell_type": "markdown",
   "metadata": {
    "id": "moBea0tTbFbX"
   },
   "source": [
    "---\n",
    "# Create the neural network\n",
    "\n",
    "This approach uses a FPN (Feature-Pyramid-Network, https://jonathan-hui.medium.com/understanding-feature-pyramid-networks-for-object-detection-fpn-45b227b9106c) architecture, followed by LSTM and Dense regressor heads to extract the future gain information.\n",
    "The pyramid elements are built in a Res-Net style to provide a good information flow.\n",
    "\n",
    "\n",
    "Additionally, it is equipped with Attention layers to focus on relevant information. Futhermore, it uses antialiasing to smooth out disturbance.\n",
    "\n",
    "\n",
    "```\n",
    "Todo: Create Image of network structure\n",
    "```"
   ]
  },
  {
   "cell_type": "code",
   "execution_count": 31,
   "metadata": {
    "colab": {
     "base_uri": "https://localhost:8080/"
    },
    "id": "BDKIGdZQ6uyy",
    "outputId": "f41e3b62-29de-46f7-ea71-5a827d64f404",
    "tags": []
   },
   "outputs": [
    {
     "name": "stdout",
     "output_type": "stream",
     "text": [
      "256\n",
      "Step 0, using 64 filters with a kernel size of 2 at strides of 2\n",
      "attention_map.shape: (None, 64, 64)\n",
      "feature_conv_attentioned.shape: (None, 64, 64)\n",
      "Step 1, using 128 filters with a kernel size of 4 at strides of 2\n",
      "attention_map.shape: (None, 32, 128)\n",
      "feature_conv_attentioned.shape: (None, 32, 128)\n",
      "Step 2, using 256 filters with a kernel size of 8 at strides of 2\n",
      "attention_map.shape: (None, 16, 256)\n",
      "feature_conv_attentioned.shape: (None, 16, 256)\n",
      "Step 3, using 512 filters with a kernel size of 8 at strides of 2\n",
      "attention_map.shape: (None, 8, 512)\n",
      "feature_conv_attentioned.shape: (None, 8, 512)\n",
      "Step 4, using 1024 filters with a kernel size of 8 at strides of 2\n",
      "attention_map.shape: (None, 4, 1024)\n",
      "feature_conv_attentioned.shape: (None, 4, 1024)\n",
      "Step 5, using 2048 filters with a kernel size of 8 at strides of 2\n",
      "attention_map.shape: (None, 2, 2048)\n",
      "feature_conv_attentioned.shape: (None, 2, 2048)\n",
      "Building feature_map_layers, step 5. Shape of aligned_layer: (None, 2, 256)\n",
      "Building feature_map_layers, step 4. Shape of aligned_layer: (None, 4, 256)\n",
      "Building feature_map_layers, step 3. Shape of aligned_layer: (None, 8, 256)\n",
      "Building feature_map_layers, step 2. Shape of aligned_layer: (None, 16, 256)\n",
      "{'NAME': 'FPNWithAttentionBiggerTimebased', 'VERSION': '2_FutureOnly_60days', 'CNN_INITIAL_FILTERS': 64, 'CNN_EXTRACTOR_LAYERS': 6, 'CNN_INITIAL_KERNEL_SIZE': 2, 'CNN_MAX_KERNEL_SIZE': 8, 'FEATURE_PYRAMID_START_INDEX': 2, 'HEAD_LSTM_SIZE': 64, 'HEAD_DENSE_SIZE': 32}\n",
      "Model: \"FPNWithAttentionBiggerTimebased_2_FutureOnly_60days\"\n",
      "____________________________________________________________________________________________________________________________________________________________________________________________________________________________\n",
      " Layer (type)                                                           Output Shape                                     Param #                   Connected to                                                             \n",
      "============================================================================================================================================================================================================================\n",
      " input_1 (InputLayer)                                                   [(None, 128, 160)]                               0                         []                                                                       \n",
      "                                                                                                                                                                                                                            \n",
      " UnitNormalizationInput (UnitNormalization)                             (None, 128, 160)                                 0                         ['input_1[0][0]']                                                        \n",
      "                                                                                                                                                                                                                            \n",
      " ResNet_0_Conv1D_1 (Conv1D)                                             (None, 128, 160)                                 51360                     ['UnitNormalizationInput[1][0]']                                         \n",
      "                                                                                                                                                                                                                            \n",
      " ResNet_0_ReLU (Activation)                                             (None, 128, 160)                                 0                         ['ResNet_0_Conv1D_1[1][0]']                                              \n",
      "                                                                                                                                                                                                                            \n",
      " ResNet_0_Conv1D_2 (Conv1D)                                             (None, 128, 160)                                 51360                     ['ResNet_0_ReLU[1][0]']                                                  \n",
      "                                                                                                                                                                                                                            \n",
      " ResNet_0_Add (Add)                                                     (None, 128, 160)                                 0                         ['ResNet_0_Conv1D_2[1][0]',                                              \n",
      "                                                                                                                                                    'UnitNormalizationInput[1][0]']                                         \n",
      "                                                                                                                                                                                                                            \n",
      " ResNet_0_Feature_Conv1D_FilterDimReduction (Conv1D)                    (None, 64, 64)                                   20544                     ['ResNet_0_Add[1][0]']                                                   \n",
      "                                                                                                                                                                                                                            \n",
      " ResNet_1_Conv1D_1 (Conv1D)                                             (None, 64, 64)                                   16448                     ['ResNet_0_Feature_Conv1D_FilterDimReduction[1][0]']                     \n",
      "                                                                                                                                                                                                                            \n",
      " ResNet_1_ReLU (Activation)                                             (None, 64, 64)                                   0                         ['ResNet_1_Conv1D_1[1][0]']                                              \n",
      "                                                                                                                                                                                                                            \n",
      " ResNet_1_Conv1D_2 (Conv1D)                                             (None, 64, 64)                                   16448                     ['ResNet_1_ReLU[1][0]']                                                  \n",
      "                                                                                                                                                                                                                            \n",
      " ResNet_1_Add (Add)                                                     (None, 64, 64)                                   0                         ['ResNet_1_Conv1D_2[1][0]',                                              \n",
      "                                                                                                                                                    'ResNet_0_Feature_Conv1D_FilterDimReduction[1][0]']                     \n",
      "                                                                                                                                                                                                                            \n",
      " ResNet_1_Feature_Conv1D_FilterDimReduction (Conv1D)                    (None, 32, 128)                                  32896                     ['ResNet_1_Add[1][0]']                                                   \n",
      "                                                                                                                                                                                                                            \n",
      " ResNet_2_Conv1D_1 (Conv1D)                                             (None, 32, 128)                                  131200                    ['ResNet_1_Feature_Conv1D_FilterDimReduction[1][0]']                     \n",
      "                                                                                                                                                                                                                            \n",
      " ResNet_2_ReLU (Activation)                                             (None, 32, 128)                                  0                         ['ResNet_2_Conv1D_1[1][0]']                                              \n",
      "                                                                                                                                                                                                                            \n",
      " ResNet_2_Conv1D_2 (Conv1D)                                             (None, 32, 128)                                  131200                    ['ResNet_2_ReLU[1][0]']                                                  \n",
      "                                                                                                                                                                                                                            \n",
      " ResNet_2_Add (Add)                                                     (None, 32, 128)                                  0                         ['ResNet_2_Conv1D_2[1][0]',                                              \n",
      "                                                                                                                                                    'ResNet_1_Feature_Conv1D_FilterDimReduction[1][0]']                     \n",
      "                                                                                                                                                                                                                            \n",
      " ResNet_2_Feature_Conv1D_FilterDimReduction (Conv1D)                    (None, 16, 256)                                  262400                    ['ResNet_2_Add[1][0]']                                                   \n",
      "                                                                                                                                                                                                                            \n",
      " ResNet_3_Conv1D_1 (Conv1D)                                             (None, 16, 256)                                  524544                    ['ResNet_2_Feature_Conv1D_FilterDimReduction[1][0]']                     \n",
      "                                                                                                                                                                                                                            \n",
      " ResNet_3_ReLU (Activation)                                             (None, 16, 256)                                  0                         ['ResNet_3_Conv1D_1[1][0]']                                              \n",
      "                                                                                                                                                                                                                            \n",
      " ResNet_3_Conv1D_2 (Conv1D)                                             (None, 16, 256)                                  524544                    ['ResNet_3_ReLU[1][0]']                                                  \n",
      "                                                                                                                                                                                                                            \n",
      " ResNet_3_Add (Add)                                                     (None, 16, 256)                                  0                         ['ResNet_3_Conv1D_2[1][0]',                                              \n",
      "                                                                                                                                                    'ResNet_2_Feature_Conv1D_FilterDimReduction[1][0]']                     \n",
      "                                                                                                                                                                                                                            \n",
      " ResNet_3_Feature_Conv1D_FilterDimReduction (Conv1D)                    (None, 8, 512)                                   1049088                   ['ResNet_3_Add[1][0]']                                                   \n",
      "                                                                                                                                                                                                                            \n",
      " ResNet_4_Conv1D_1 (Conv1D)                                             (None, 8, 512)                                   2097664                   ['ResNet_3_Feature_Conv1D_FilterDimReduction[1][0]']                     \n",
      "                                                                                                                                                                                                                            \n",
      " ResNet_4_ReLU (Activation)                                             (None, 8, 512)                                   0                         ['ResNet_4_Conv1D_1[1][0]']                                              \n",
      "                                                                                                                                                                                                                            \n",
      " ResNet_4_Conv1D_2 (Conv1D)                                             (None, 8, 512)                                   2097664                   ['ResNet_4_ReLU[1][0]']                                                  \n",
      "                                                                                                                                                                                                                            \n",
      " ResNet_4_Add (Add)                                                     (None, 8, 512)                                   0                         ['ResNet_4_Conv1D_2[1][0]',                                              \n",
      "                                                                                                                                                    'ResNet_3_Feature_Conv1D_FilterDimReduction[1][0]']                     \n",
      "                                                                                                                                                                                                                            \n",
      " ResNet_4_Feature_Conv1D_FilterDimReduction (Conv1D)                    (None, 4, 1024)                                  4195328                   ['ResNet_4_Add[1][0]']                                                   \n",
      "                                                                                                                                                                                                                            \n",
      " ResNet_5_Conv1D_1 (Conv1D)                                             (None, 4, 1024)                                  8389632                   ['ResNet_4_Feature_Conv1D_FilterDimReduction[1][0]']                     \n",
      "                                                                                                                                                                                                                            \n",
      " ResNet_5_ReLU (Activation)                                             (None, 4, 1024)                                  0                         ['ResNet_5_Conv1D_1[1][0]']                                              \n",
      "                                                                                                                                                                                                                            \n",
      " ResNet_5_Conv1D_2 (Conv1D)                                             (None, 4, 1024)                                  8389632                   ['ResNet_5_ReLU[1][0]']                                                  \n",
      "                                                                                                                                                                                                                            \n",
      " ResNet_5_Add (Add)                                                     (None, 4, 1024)                                  0                         ['ResNet_5_Conv1D_2[1][0]',                                              \n",
      "                                                                                                                                                    'ResNet_4_Feature_Conv1D_FilterDimReduction[1][0]']                     \n",
      "                                                                                                                                                                                                                            \n",
      " ResNet_5_Feature_Conv1D_FilterDimReduction (Conv1D)                    (None, 2, 2048)                                  16779264                  ['ResNet_5_Add[1][0]']                                                   \n",
      "                                                                                                                                                                                                                            \n",
      " Attention_Layer_5 (Attention)                                          (None, 2, 2048)                                  0                         ['ResNet_5_Feature_Conv1D_FilterDimReduction[1][0]',                     \n",
      "                                                                                                                                                    'ResNet_5_Feature_Conv1D_FilterDimReduction[1][0]']                     \n",
      "                                                                                                                                                                                                                            \n",
      " Multiply_Apply_Attention_5 (Multiply)                                  (None, 2, 2048)                                  0                         ['ResNet_5_Feature_Conv1D_FilterDimReduction[1][0]',                     \n",
      "                                                                                                                                                    'Attention_Layer_5[1][0]']                                              \n",
      "                                                                                                                                                                                                                            \n",
      " Attention_Layer_4 (Attention)                                          (None, 4, 1024)                                  0                         ['ResNet_4_Feature_Conv1D_FilterDimReduction[1][0]',                     \n",
      "                                                                                                                                                    'ResNet_4_Feature_Conv1D_FilterDimReduction[1][0]']                     \n",
      "                                                                                                                                                                                                                            \n",
      " Channel_Depth_Alignment_5 (Conv1D)                                     (None, 2, 256)                                   524544                    ['Multiply_Apply_Attention_5[1][0]']                                     \n",
      "                                                                                                                                                                                                                            \n",
      " Multiply_Apply_Attention_4 (Multiply)                                  (None, 4, 1024)                                  0                         ['ResNet_4_Feature_Conv1D_FilterDimReduction[1][0]',                     \n",
      "                                                                                                                                                    'Attention_Layer_4[1][0]']                                              \n",
      "                                                                                                                                                                                                                            \n",
      " Pyramid_Upsampling_4 (UpSampling1D)                                    (None, 4, 256)                                   0                         ['Channel_Depth_Alignment_5[1][0]']                                      \n",
      "                                                                                                                                                                                                                            \n",
      " Channel_Depth_Alignment_4 (Conv1D)                                     (None, 4, 256)                                   262400                    ['Multiply_Apply_Attention_4[1][0]']                                     \n",
      "                                                                                                                                                                                                                            \n",
      " Attention_Layer_3 (Attention)                                          (None, 8, 512)                                   0                         ['ResNet_3_Feature_Conv1D_FilterDimReduction[1][0]',                     \n",
      "                                                                                                                                                    'ResNet_3_Feature_Conv1D_FilterDimReduction[1][0]']                     \n",
      "                                                                                                                                                                                                                            \n",
      " Pyramid_Add_4 (Add)                                                    (None, 4, 256)                                   0                         ['Pyramid_Upsampling_4[1][0]',                                           \n",
      "                                                                                                                                                    'Channel_Depth_Alignment_4[1][0]']                                      \n",
      "                                                                                                                                                                                                                            \n",
      " Multiply_Apply_Attention_3 (Multiply)                                  (None, 8, 512)                                   0                         ['ResNet_3_Feature_Conv1D_FilterDimReduction[1][0]',                     \n",
      "                                                                                                                                                    'Attention_Layer_3[1][0]']                                              \n",
      "                                                                                                                                                                                                                            \n",
      " Pyramid_Upsampling_3 (UpSampling1D)                                    (None, 8, 256)                                   0                         ['Pyramid_Add_4[1][0]']                                                  \n",
      "                                                                                                                                                                                                                            \n",
      " Channel_Depth_Alignment_3 (Conv1D)                                     (None, 8, 256)                                   131328                    ['Multiply_Apply_Attention_3[1][0]']                                     \n",
      "                                                                                                                                                                                                                            \n",
      " Pyramid_Add_3 (Add)                                                    (None, 8, 256)                                   0                         ['Pyramid_Upsampling_3[1][0]',                                           \n",
      "                                                                                                                                                    'Channel_Depth_Alignment_3[1][0]']                                      \n",
      "                                                                                                                                                                                                                            \n",
      " Attention_Layer_2 (Attention)                                          (None, 16, 256)                                  0                         ['ResNet_2_Feature_Conv1D_FilterDimReduction[1][0]',                     \n",
      "                                                                                                                                                    'ResNet_2_Feature_Conv1D_FilterDimReduction[1][0]']                     \n",
      "                                                                                                                                                                                                                            \n",
      " Pyramid_Upsampling_2 (UpSampling1D)                                    (None, 16, 256)                                  0                         ['Pyramid_Add_3[1][0]']                                                  \n",
      "                                                                                                                                                                                                                            \n",
      " Multiply_Apply_Attention_2 (Multiply)                                  (None, 16, 256)                                  0                         ['ResNet_2_Feature_Conv1D_FilterDimReduction[1][0]',                     \n",
      "                                                                                                                                                    'Attention_Layer_2[1][0]']                                              \n",
      "                                                                                                                                                                                                                            \n",
      " Pyramid_Add_2 (Add)                                                    (None, 16, 256)                                  0                         ['Pyramid_Upsampling_2[1][0]',                                           \n",
      "                                                                                                                                                    'Multiply_Apply_Attention_2[1][0]']                                     \n",
      "                                                                                                                                                                                                                            \n",
      " Anti_Alias_4 (Conv1D)                                                  (None, 4, 256)                                   196864                    ['Pyramid_Add_4[1][0]']                                                  \n",
      "                                                                                                                                                                                                                            \n",
      " Anti_Alias_3 (Conv1D)                                                  (None, 8, 256)                                   196864                    ['Pyramid_Add_3[1][0]']                                                  \n",
      "                                                                                                                                                                                                                            \n",
      " Anti_Alias_2 (Conv1D)                                                  (None, 16, 256)                                  196864                    ['Pyramid_Add_2[1][0]']                                                  \n",
      "                                                                                                                                                                                                                            \n",
      " PermutePredictorInput_5 (Permute)                                      (None, 256, 2)                                   0                         ['Channel_Depth_Alignment_5[1][0]']                                      \n",
      "                                                                                                                                                                                                                            \n",
      " PermutePredictorInput_4 (Permute)                                      (None, 256, 4)                                   0                         ['Anti_Alias_4[1][0]']                                                   \n",
      "                                                                                                                                                                                                                            \n",
      " PermutePredictorInput_3 (Permute)                                      (None, 256, 8)                                   0                         ['Anti_Alias_3[1][0]']                                                   \n",
      "                                                                                                                                                                                                                            \n",
      " PermutePredictorInput_2 (Permute)                                      (None, 256, 16)                                  0                         ['Anti_Alias_2[1][0]']                                                   \n",
      "                                                                                                                                                                                                                            \n",
      " Predictor_Head_5_LSTM (LSTM)                                           (None, 64)                                       17152                     ['PermutePredictorInput_5[1][0]']                                        \n",
      "                                                                                                                                                                                                                            \n",
      " Predictor_Head_4_LSTM (LSTM)                                           (None, 64)                                       17664                     ['PermutePredictorInput_4[1][0]']                                        \n",
      "                                                                                                                                                                                                                            \n",
      " Predictor_Head_3_LSTM (LSTM)                                           (None, 64)                                       18688                     ['PermutePredictorInput_3[1][0]']                                        \n",
      "                                                                                                                                                                                                                            \n",
      " Predictor_Head_2_LSTM (LSTM)                                           (None, 64)                                       20736                     ['PermutePredictorInput_2[1][0]']                                        \n",
      "                                                                                                                                                                                                                            \n",
      " Predictor_Head_5_Dense_Regressor (Dense)                               (None, 32)                                       2080                      ['Predictor_Head_5_LSTM[1][0]']                                          \n",
      "                                                                                                                                                                                                                            \n",
      " Predictor_Head_4_Dense_Regressor (Dense)                               (None, 32)                                       2080                      ['Predictor_Head_4_LSTM[1][0]']                                          \n",
      "                                                                                                                                                                                                                            \n",
      " Predictor_Head_3_Dense_Regressor (Dense)                               (None, 32)                                       2080                      ['Predictor_Head_3_LSTM[1][0]']                                          \n",
      "                                                                                                                                                                                                                            \n",
      " Predictor_Head_2_Dense_Regressor (Dense)                               (None, 32)                                       2080                      ['Predictor_Head_2_LSTM[1][0]']                                          \n",
      "                                                                                                                                                                                                                            \n",
      " Concatenate_regressors (Concatenate)                                   (None, 128)                                      0                         ['Predictor_Head_5_Dense_Regressor[1][0]',                               \n",
      "                                                                                                                                                    'Predictor_Head_4_Dense_Regressor[1][0]',                               \n",
      "                                                                                                                                                    'Predictor_Head_3_Dense_Regressor[1][0]',                               \n",
      "                                                                                                                                                    'Predictor_Head_2_Dense_Regressor[1][0]']                               \n",
      "                                                                                                                                                                                                                            \n",
      " Output (Dense)                                                         (None, 2)                                        258                       ['Concatenate_regressors[1][0]']                                         \n",
      "                                                                                                                                                                                                                            \n",
      "============================================================================================================================================================================================================================\n",
      "Total params: 46,352,898\n",
      "Trainable params: 46,352,898\n",
      "Non-trainable params: 0\n",
      "____________________________________________________________________________________________________________________________________________________________________________________________________________________________\n"
     ]
    }
   ],
   "source": [
    "# Create the CreateModelFPNWithAttention model\n",
    "def CreateModelFPNWithAttention():\n",
    "  # Define model parameters\n",
    "  mp = {\n",
    "      \"NAME\": \"FPNWithAttentionBiggerTimebased\",\n",
    "      \"VERSION\": \"2_FutureOnly_60days\",\n",
    "      \"CNN_INITIAL_FILTERS\": 64,\n",
    "      \"CNN_EXTRACTOR_LAYERS\": 6,\n",
    "      \"CNN_INITIAL_KERNEL_SIZE\": 2,\n",
    "      \"CNN_MAX_KERNEL_SIZE\": 8,\n",
    "      \"FEATURE_PYRAMID_START_INDEX\": 2,\n",
    "      \"HEAD_LSTM_SIZE\": 64,\n",
    "      \"HEAD_DENSE_SIZE\": 32\n",
    "      }\n",
    "  \n",
    "  # Create the model input  \n",
    "  inputTicksAndIndicators = Input(shape=(X_BLOCK_LENGHT, FEATURES), name='inputTicksAndIndicators', dtype='float32')\n",
    "\n",
    "  # Apply dropout on the input to make the model robust\n",
    "  inputTicksAndIndicators = Dropout(0.1, name='inputDropout')(inputTicksAndIndicators)\n",
    "\n",
    "  # Normalize the input data, as it has a wide value spread (range of 1e8)\n",
    "  normalized = UnitNormalization(name=\"UnitNormalizationInput\", axis=-2)(inputTicksAndIndicators)\n",
    "\n",
    "  # ----------------------------------------------------------------------------\n",
    "\n",
    "  # A 1D-CNN pyramid is used to extract higher-level features out of the time dimension\n",
    "  conv_layers = []\n",
    "  aligned_layers = []\n",
    "  feature_map_layers = []\n",
    "  anti_aliased_layers = []\n",
    "  anti_aliased_pyramid_indices = []\n",
    "  regressor_layers = []\n",
    "\n",
    "  finalFilters = mp[\"CNN_INITIAL_FILTERS\"] * 2**(mp[\"FEATURE_PYRAMID_START_INDEX\"])\n",
    "  print(finalFilters) \n",
    "\n",
    "  for i in range(mp[\"CNN_EXTRACTOR_LAYERS\"]):\n",
    "    if 0 == i:\n",
    "      source_layer = normalized\n",
    "    else:\n",
    "      source_layer = feature_conv\n",
    "    \n",
    "    filters = int(mp[\"CNN_INITIAL_FILTERS\"]*(2**i))\n",
    "    kernel_size = mp[\"CNN_INITIAL_KERNEL_SIZE\"]*(2**i)\n",
    "    kernel_size = int(np.min([mp[\"CNN_MAX_KERNEL_SIZE\"], kernel_size]))\n",
    "    strides = int(np.min([2,kernel_size]))\n",
    "\n",
    "    print(f\"Step {i}, using {filters} filters with a kernel size of {kernel_size} at strides of {strides}\")\n",
    "\n",
    "    # Create the feature extraction convolution\n",
    "    res_net_element = Conv1D(filters=source_layer.shape[-1],\n",
    "                          kernel_size=kernel_size,\n",
    "                          strides=1, \n",
    "                          padding=\"same\",\n",
    "                          name=f\"ResNet_{i}_Conv1D_1\")(source_layer)\n",
    "    \n",
    "    res_net_element = Activation(\"relu\",\n",
    "                              name=f\"ResNet_{i}_ReLU\")(res_net_element)\n",
    "    \n",
    "    res_net_element = Conv1D(filters=source_layer.shape[-1],\n",
    "                          kernel_size=kernel_size,\n",
    "                          strides=1, \n",
    "                          padding=\"same\",\n",
    "                          name=f\"ResNet_{i}_Conv1D_2\")(res_net_element)\n",
    "    \n",
    "    res_net_element = Add(name=f\"ResNet_{i}_Add\")([res_net_element, source_layer])\n",
    "        \n",
    "    feature_conv = Conv1D(filters=filters,\n",
    "                          kernel_size=kernel_size,\n",
    "                          strides=strides, \n",
    "                          padding=\"same\",\n",
    "                          name=f\"ResNet_{i}_Feature_Conv1D_FilterDimReduction\")(res_net_element)\n",
    "\n",
    "    attention_map = Attention(name=f\"Attention_Layer_{i}\")([feature_conv,feature_conv])\n",
    "    print(f\"attention_map.shape: {attention_map.shape}\")\n",
    "\n",
    "    feature_conv_attentioned = Multiply(name=f\"Multiply_Apply_Attention_{i}\")([feature_conv, attention_map])\n",
    "    print(f\"feature_conv_attentioned.shape: {feature_conv_attentioned.shape}\")\n",
    "    \n",
    "    conv_layers.append(feature_conv_attentioned)\n",
    "\n",
    "    # Apply the feature extraction pyramid\n",
    "    if mp[\"FEATURE_PYRAMID_START_INDEX\"] <= i:\n",
    "      # Apply a 1x1 convolution to align the channel depth    \n",
    "      if feature_conv_attentioned.shape[-1] != finalFilters:\n",
    "        aligned_layer = Conv1D(filters=finalFilters,\n",
    "                              kernel_size=1,\n",
    "                              strides=1,\n",
    "                              padding=\"same\",\n",
    "                              name=f\"Channel_Depth_Alignment_{i}\")(feature_conv_attentioned)\n",
    "      else:\n",
    "        aligned_layer = feature_conv_attentioned\n",
    "      \n",
    "      aligned_layers.append(aligned_layer)\n",
    "\n",
    "  # Go top-down through the aligned_layers to create the feature_map_layers\n",
    "  for i in range(mp[\"CNN_EXTRACTOR_LAYERS\"]-1, mp[\"FEATURE_PYRAMID_START_INDEX\"]-1, -1):\n",
    "    aligned_layers_index = i - mp[\"FEATURE_PYRAMID_START_INDEX\"]\n",
    "    aligned_layer = aligned_layers[aligned_layers_index]\n",
    "\n",
    "    print(f\"Building feature_map_layers, step {i}. Shape of aligned_layer: {aligned_layer.shape}\")\n",
    "\n",
    "    # The highest-filtered layer is taken as feature map directly\n",
    "    if i == mp[\"CNN_EXTRACTOR_LAYERS\"]-1:\n",
    "      feature_map_layers.append(aligned_layer)\n",
    "      anti_aliased_layers.append(feature_map_layers[-1])\n",
    "    else:\n",
    "      # Take the last feature_map_layer and scale it by two\n",
    "      upsampled = UpSampling1D(size=2,\n",
    "                               name=f\"Pyramid_Upsampling_{i}\")(feature_map_layers[-1])\n",
    "\n",
    "      # Add the aligned_layer\n",
    "      added = Add(name=f\"Pyramid_Add_{i}\")([upsampled, aligned_layer])\n",
    "\n",
    "      # Append as new feature_map_layer\n",
    "      feature_map_layers.append(added)\n",
    "\n",
    "      # Apply a convolution with a kernel size of 3 to \"reduce the aliasing effect\"\n",
    "      anti_aliased_layer = Conv1D(filters=feature_map_layers[-1].shape[-1],\n",
    "                                  kernel_size=3,\n",
    "                                  strides=1,\n",
    "                                  padding=\"same\",\n",
    "                                  name=f\"Anti_Alias_{i}\")(feature_map_layers[-1])\n",
    "\n",
    "      anti_aliased_layers.append(anti_aliased_layer)\n",
    "\n",
    "    # Helper storage to keep pyramid index consistent, also in predictor/regressor\n",
    "    anti_aliased_pyramid_indices.append(i)\n",
    "\n",
    "  # Apply the predictor head to each feature dimension layer\n",
    "  for n in range(len(anti_aliased_layers)):\n",
    "    predictor_input = anti_aliased_layers[n]\n",
    "\n",
    "    # Get the pyramid index\n",
    "    pyramid_index = anti_aliased_pyramid_indices[n]\n",
    "\n",
    "    # Permute the Conv output back\n",
    "    predictor_input = Permute((2, 1), name=f\"PermutePredictorInput_{pyramid_index}\")(predictor_input)\n",
    "\n",
    "    predictor = LSTM(units=mp[\"HEAD_LSTM_SIZE\"],\n",
    "                     name=f\"Predictor_Head_{pyramid_index}_LSTM\")(predictor_input)\n",
    "    \n",
    "    # Direction and derivation regressor\n",
    "    regressor = Dense(units=mp[\"HEAD_DENSE_SIZE\"],\n",
    "                      name=f\"Predictor_Head_{pyramid_index}_Dense_Regressor\",\n",
    "                      activation='relu')(predictor)\n",
    "    \n",
    "    regressor_layers.append(regressor)\n",
    "  \n",
    "  # Add all regressors together\n",
    "  regressor_conced = Concatenate(name=\"Concatenate_regressors\")(regressor_layers)\n",
    "  #regressor_conced = Dense(regressor_conced.shape[1], name=\"Combined_Regressor_1\")(regressor_conced)\n",
    "  #regressor_conced = Dense(regressor_conced.shape[1], name=\"Combined_Regressor_2\")(regressor_conced)\n",
    "\n",
    "  # The output are two values (direction and derivation) in the range [-1.0, 1.0]\n",
    "  output = Dense(2, activation=\"tanh\", name=\"Output\")(regressor_conced)\n",
    "  outputs = [output]\n",
    "\n",
    "  # Combine it all into a model object\n",
    "  model = Model(inputs=inputTicksAndIndicators, outputs=outputs, name=mp[\"NAME\"] + \"_\" + str(mp[\"VERSION\"]))\n",
    "\n",
    "  return model, mp\n",
    "\n",
    "model, model_config = CreateModelFPNWithAttention()\n",
    "print(model_config)\n",
    "model.summary(line_length=220)"
   ]
  },
  {
   "cell_type": "markdown",
   "metadata": {
    "id": "kXE8AjjoEWE4"
   },
   "source": [
    "# Train the model"
   ]
  },
  {
   "cell_type": "code",
   "execution_count": 32,
   "metadata": {
    "colab": {
     "base_uri": "https://localhost:8080/"
    },
    "id": "_jkOrQ01hZnE",
    "outputId": "787d6af2-ca35-4552-a165-8261fee184c9"
   },
   "outputs": [
    {
     "data": {
      "text/plain": [
       "'FPNWithAttentionBiggerTimebased_2_FutureOnly_60days_GPU_128LB'"
      ]
     },
     "execution_count": 32,
     "metadata": {},
     "output_type": "execute_result"
    }
   ],
   "source": [
    "# Define the checkpoint name for storing training progress\n",
    "CHKPNT_NAME = f\"{model.name}_GPU_{X_BLOCK_LENGHT}LB\"\n",
    "CHKPNT_NAME"
   ]
  },
  {
   "cell_type": "code",
   "execution_count": 33,
   "metadata": {
    "id": "g0VmovApkwAB"
   },
   "outputs": [],
   "source": [
    "# Set an optimizer\n",
    "optimizer = Adam(\n",
    "    learning_rate=1e-03,\n",
    "    epsilon=1e-06,\n",
    "    beta_1=0.9,\n",
    "    beta_2=0.98,\n",
    "    decay=0.01)"
   ]
  },
  {
   "cell_type": "code",
   "execution_count": 34,
   "metadata": {
    "id": "AOLSygN7Ut7_"
   },
   "outputs": [],
   "source": [
    "# Compile the model\n",
    "model.compile(\n",
    "    optimizer = optimizer,\n",
    "    loss = [\"mse\"], \n",
    "    metrics=[\"mae\"])"
   ]
  },
  {
   "cell_type": "code",
   "execution_count": 35,
   "metadata": {
    "id": "6_x1KHY76uy0"
   },
   "outputs": [],
   "source": [
    "#@title CustomCallback\n",
    "# This method stores the model weights every `save_freq` batches, or at least at the epoch's end\n",
    "\n",
    "class CustomCallback(tf.keras.callbacks.Callback):\n",
    "  def __init__(self, save_freq, val_freq, checkpoint_path, model_name, epoch_add=0):\n",
    "    self.save_freq = save_freq\n",
    "    self.val_freq = val_freq\n",
    "    self.checkpoint_path = checkpoint_path\n",
    "    self.model_name = model_name\n",
    "    self.current_epoch = 0\n",
    "    self.epoch_add = epoch_add\n",
    "\n",
    "  def on_epoch_begin(self, epoch, logs=None):\n",
    "    self.current_epoch = epoch + self.epoch_add\n",
    "    # keys = list(logs.keys())\n",
    "    # print(\"Start epoch {} of training; got log keys: {}\".format(epoch, keys))\n",
    "\n",
    "  def on_epoch_end(self, epoch, logs=None):\n",
    "    self.saveTheModel(-1, logs)\n",
    "\n",
    "  def on_train_batch_end(self, batch, logs=None):\n",
    "    self.saveTheModel(batch, logs)\n",
    "\n",
    "  def saveTheModel(self, batch, logs=None):\n",
    "    if (0 < batch and 0 == batch % self.save_freq) or (0 > batch):\n",
    "      logging.info(str(datetime.datetime.utcnow()))\n",
    "    \n",
    "      if 0 > batch:\n",
    "        _save_folder = os.path.join(self.checkpoint_path,\n",
    "                                    self.model_name,\n",
    "                                    \"cp_daily_valid_{:02d}_end\".format(self.current_epoch)\n",
    "                                    )\n",
    "      else:\n",
    "        _save_folder = os.path.join(self.checkpoint_path,\n",
    "                                    self.model_name,\n",
    "                                    \"cp_daily_valid_{:02d}_{:05d}\".format(self.current_epoch, batch)\n",
    "                                    )\n",
    "      \n",
    "      fp = os.path.join(_save_folder, \"model.h5\")\n",
    "      model.save(fp)\n",
    "      logging.info(f\"Saved model to '{fp}'\")\n",
    "      \n",
    "      # Save optimizer config\n",
    "      # c = copy.deepcopy(self.model.optimizer.get_config())\n",
    "\n",
    "#       fp = os.path.join(_save_folder, \"c.pickle\")\n",
    "#       with file_io.FileIO(fp, mode='wb+') as handle:\n",
    "#         pickle.dump(self.model.optimizer.get_config(), handle, protocol=pickle.HIGHEST_PROTOCOL)\n",
    "        \n",
    "#       logging.info(f\"Saved optimizer config to '{fp}'\")\n",
    "\n",
    "#       # Save optimizer weights\n",
    "#       # w = copy.deepcopy(self.model.optimizer.get_weights())\n",
    "\n",
    "#       fp = os.path.join(_save_folder, \"w.pickle\")\n",
    "#       with open(fp, \"wb\") as handle:\n",
    "#         # with file_io.FileIO(fp, mode='wb+') as handle:\n",
    "#         pickle.dump(self.model.optimizer.get_weights(), handle, protocol=pickle.HIGHEST_PROTOCOL)\n",
    "      \n",
    "#       logging.info(f\"Saved optimizer weights to '{fp}'\")\n",
    "        \n",
    "      logging.info(f\"Did a gc collect: {gc.collect()}\")\n",
    "\n",
    "    # if 0 < batch and 0 == batch % self.val_freq:\n",
    "    #   print(\"-------------------------EVAL-------------------------\")\n",
    "    #   model.evaluate(tfgenTest)\n",
    "    #   print(\"\\n-------------------------EVAL-------------------------\")"
   ]
  },
  {
   "cell_type": "code",
   "execution_count": 36,
   "metadata": {
    "id": "JyggHiDGNTEX"
   },
   "outputs": [],
   "source": [
    "# If the training is resumed from a previous checkpoint, these epochs can be added to keep model saving consistent\n",
    "epoch_add = 0"
   ]
  },
  {
   "cell_type": "code",
   "execution_count": 37,
   "metadata": {
    "id": "-pJ08IBN7cgB"
   },
   "outputs": [],
   "source": [
    "# Define how often the model shall be saved\n",
    "CALLBACK_EVERY_N_BATCHES = 2000"
   ]
  },
  {
   "cell_type": "code",
   "execution_count": 38,
   "metadata": {
    "id": "CuGT0rFvzH1n"
   },
   "outputs": [],
   "source": [
    "# Create the custom callback\n",
    "cc = CustomCallback(checkpoint_path = CHECKPOINT_PATH,\n",
    "                    model_name = CHKPNT_NAME,\n",
    "                    save_freq = CALLBACK_EVERY_N_BATCHES,\n",
    "                    val_freq = CALLBACK_EVERY_N_BATCHES,\n",
    "                    epoch_add = epoch_add)"
   ]
  },
  {
   "cell_type": "code",
   "execution_count": 39,
   "metadata": {
    "id": "LuuH0xBKGE1g",
    "tags": []
   },
   "outputs": [],
   "source": [
    "# Load the TensorBoard notebook extension\n",
    "%load_ext tensorboard"
   ]
  },
  {
   "cell_type": "code",
   "execution_count": 40,
   "metadata": {
    "colab": {
     "base_uri": "https://localhost:8080/"
    },
    "id": "mpUXurxwSp_3",
    "outputId": "df14c98f-60a6-46b0-e821-f2e4608bf04f"
   },
   "outputs": [
    {
     "data": {
      "text/plain": [
       "'/content/CryptoCrystalBall/Data/logs/FPNWithAttentionBiggerTimebased_2_FutureOnly_60days_GPU_128LB_20230417191744'"
      ]
     },
     "execution_count": 40,
     "metadata": {},
     "output_type": "execute_result"
    }
   ],
   "source": [
    "# Todo: Create more elegant solution\n",
    "log_dir = \"gs://ticks_with_indicators_with_volume/logs/TPU/\" + CHKPNT_NAME + \"_\" + datetime.datetime.now().strftime(\"%Y%m%d%H%M%S\")\n",
    "\n",
    "if not COLAB:\n",
    "    log_dir = os.path.join(\"/content/CryptoCrystalBall/Data/logs\",log_dir.split(\"/\")[-1])\n",
    "\n",
    "log_dir"
   ]
  },
  {
   "cell_type": "code",
   "execution_count": 41,
   "metadata": {
    "colab": {
     "base_uri": "https://localhost:8080/"
    },
    "id": "_X-ab7uc3gTt",
    "outputId": "538376b0-50cc-4e1c-b2a5-1e6f15629d67"
   },
   "outputs": [
    {
     "name": "stderr",
     "output_type": "stream",
     "text": [
      "2023-04-17 19:17:44.505874: I tensorflow/core/profiler/lib/profiler_session.cc:101] Profiler session initializing.\n",
      "2023-04-17 19:17:44.505897: I tensorflow/core/profiler/lib/profiler_session.cc:116] Profiler session started.\n",
      "2023-04-17 19:17:44.505932: I tensorflow/core/profiler/backends/gpu/cupti_tracer.cc:1664] Profiler found 1 GPUs\n",
      "2023-04-17 19:17:44.506115: W tensorflow/stream_executor/platform/default/dso_loader.cc:64] Could not load dynamic library 'libcupti.so.11.2'; dlerror: libcupti.so.11.2: cannot open shared object file: No such file or directory\n",
      "2023-04-17 19:17:44.596860: I tensorflow/core/profiler/lib/profiler_session.cc:128] Profiler session tear down.\n",
      "2023-04-17 19:17:44.596964: I tensorflow/core/profiler/backends/gpu/cupti_tracer.cc:1798] CUPTI activity buffer flushed\n"
     ]
    }
   ],
   "source": [
    "# Create a TensorBoard callback for moniting the training progress\n",
    "tensorboard_callback = tf.keras.callbacks.TensorBoard(\n",
    "    log_dir=log_dir,\n",
    "    histogram_freq=1,\n",
    "    update_freq=CALLBACK_EVERY_N_BATCHES,\n",
    "    profile_batch=(5,100)\n",
    "    )"
   ]
  },
  {
   "cell_type": "code",
   "execution_count": 42,
   "metadata": {
    "id": "uU-5O1CC6uy2",
    "tags": []
   },
   "outputs": [],
   "source": [
    "# Load previous weights if necessary\n",
    "MODEL_PATH = \"/content/CryptoCrystalBall/Data/strategies/etf_good_on_test_and_eval/FPNWithAttentionBiggerTimebased_2_FutureOnly_60days_GPU_128LB/cp_daily_valid_05_end/model.h5\"\n",
    "\n",
    "model.load_weights(MODEL_PATH)"
   ]
  },
  {
   "cell_type": "markdown",
   "metadata": {
    "id": "wTt69Mly6uy4"
   },
   "source": [
    "# Proof that the PredictionCalculator is working correctly"
   ]
  },
  {
   "cell_type": "code",
   "execution_count": 43,
   "metadata": {
    "id": "RLmWNTDIUpt6",
    "tags": []
   },
   "outputs": [],
   "source": [
    "# Create a generator for prediction\n",
    "# Todo: Use same method as for training to avoid different settings\n",
    "\n",
    "def pythonGeneratorPrediction(fileList):\n",
    "  # Initialize the FileListToDataStream generator\n",
    "  dataStream = DataStreamCreator.FileListToDataStream(fileList = fileList,\n",
    "                                                     batch_size = BATCH_SIZE,\n",
    "                                                     X_Block_lenght = X_BLOCK_LENGHT,\n",
    "                                                     y_type_dict=Y_TYPE_DICT,\n",
    "                                                     shuffle=False,\n",
    "                                                     parallel_generators = 1,\n",
    "                                                     random_seed = RANDOM_SEED,\n",
    "                                                     **DATA_STREAM_PARAMETERS\n",
    "                                                    )\n",
    "  \n",
    "  # This while has to integrated into the FileListToDataStream method\n",
    "  while True:  \n",
    "    try:\n",
    "      ne = next(dataStream)\n",
    "      _X = ne['X']\n",
    "      _y = np.zeros(ne['y'].shape)\n",
    "    \n",
    "      # Limit the y signal to avoid excess\n",
    "      # _y /= 10.0\n",
    "      # _y = np.clip(_y, -10.0, 10.0)\n",
    "\n",
    "      yield (_X, _y)\n",
    "    except StopIteration as si:\n",
    "      logging.warning(\"StopIteration in pythonGenerator\")\n",
    "      logging.warning(si)\n",
    "      return"
   ]
  },
  {
   "cell_type": "code",
   "execution_count": 44,
   "metadata": {
    "colab": {
     "base_uri": "https://localhost:8080/"
    },
    "id": "nX6nlDBHDDpl",
    "outputId": "3e98d5f3-e111-47ce-a516-22933fb5f12c"
   },
   "outputs": [
    {
     "data": {
      "text/plain": [
       "'/content/CryptoCrystalBall/Data/ETF/tickdata/predicted/wurst/cp_daily_valid_05_end/test/testfile.csv'"
      ]
     },
     "execution_count": 44,
     "metadata": {},
     "output_type": "execute_result"
    }
   ],
   "source": [
    "# Load a file to visualize the prediction results\n",
    "FILE_FOR_PC_PROOF = \"/content/CryptoCrystalBall/Data/ETF/tickdata/predicted/wurst/cp_daily_valid_05_end/test/testfile.csv\"\n",
    "FILE_FOR_PC_PROOF"
   ]
  },
  {
   "cell_type": "code",
   "execution_count": 45,
   "metadata": {
    "colab": {
     "base_uri": "https://localhost:8080/",
     "height": 455
    },
    "id": "-ZU-aFvrSGAy",
    "outputId": "7c91458d-6a6e-43eb-a302-392ed9964d4b"
   },
   "outputs": [
    {
     "data": {
      "text/html": [
       "<div>\n",
       "<style scoped>\n",
       "    .dataframe tbody tr th:only-of-type {\n",
       "        vertical-align: middle;\n",
       "    }\n",
       "\n",
       "    .dataframe tbody tr th {\n",
       "        vertical-align: top;\n",
       "    }\n",
       "\n",
       "    .dataframe thead th {\n",
       "        text-align: right;\n",
       "    }\n",
       "</style>\n",
       "<table border=\"1\" class=\"dataframe\">\n",
       "  <thead>\n",
       "    <tr style=\"text-align: right;\">\n",
       "      <th></th>\n",
       "      <th>open</th>\n",
       "      <th>high</th>\n",
       "      <th>low</th>\n",
       "      <th>close</th>\n",
       "      <th>volume</th>\n",
       "      <th>quoteVolume</th>\n",
       "      <th>p_future_gain</th>\n",
       "      <th>p_future_gain_derivation</th>\n",
       "    </tr>\n",
       "    <tr>\n",
       "      <th>startsAt</th>\n",
       "      <th></th>\n",
       "      <th></th>\n",
       "      <th></th>\n",
       "      <th></th>\n",
       "      <th></th>\n",
       "      <th></th>\n",
       "      <th></th>\n",
       "      <th></th>\n",
       "    </tr>\n",
       "  </thead>\n",
       "  <tbody>\n",
       "    <tr>\n",
       "      <th>1115078400</th>\n",
       "      <td>27.03</td>\n",
       "      <td>27.03</td>\n",
       "      <td>27.03</td>\n",
       "      <td>27.03</td>\n",
       "      <td>0.0</td>\n",
       "      <td>0.0</td>\n",
       "      <td>NaN</td>\n",
       "      <td>NaN</td>\n",
       "    </tr>\n",
       "    <tr>\n",
       "      <th>1115164800</th>\n",
       "      <td>27.08</td>\n",
       "      <td>27.08</td>\n",
       "      <td>27.08</td>\n",
       "      <td>27.08</td>\n",
       "      <td>0.0</td>\n",
       "      <td>0.0</td>\n",
       "      <td>NaN</td>\n",
       "      <td>NaN</td>\n",
       "    </tr>\n",
       "    <tr>\n",
       "      <th>1115251200</th>\n",
       "      <td>27.38</td>\n",
       "      <td>27.38</td>\n",
       "      <td>27.38</td>\n",
       "      <td>27.38</td>\n",
       "      <td>0.0</td>\n",
       "      <td>0.0</td>\n",
       "      <td>NaN</td>\n",
       "      <td>NaN</td>\n",
       "    </tr>\n",
       "    <tr>\n",
       "      <th>1115337600</th>\n",
       "      <td>27.50</td>\n",
       "      <td>27.50</td>\n",
       "      <td>27.50</td>\n",
       "      <td>27.50</td>\n",
       "      <td>0.0</td>\n",
       "      <td>0.0</td>\n",
       "      <td>NaN</td>\n",
       "      <td>NaN</td>\n",
       "    </tr>\n",
       "    <tr>\n",
       "      <th>1115424000</th>\n",
       "      <td>27.50</td>\n",
       "      <td>27.50</td>\n",
       "      <td>27.50</td>\n",
       "      <td>27.50</td>\n",
       "      <td>0.0</td>\n",
       "      <td>0.0</td>\n",
       "      <td>NaN</td>\n",
       "      <td>NaN</td>\n",
       "    </tr>\n",
       "    <tr>\n",
       "      <th>...</th>\n",
       "      <td>...</td>\n",
       "      <td>...</td>\n",
       "      <td>...</td>\n",
       "      <td>...</td>\n",
       "      <td>...</td>\n",
       "      <td>...</td>\n",
       "      <td>...</td>\n",
       "      <td>...</td>\n",
       "    </tr>\n",
       "    <tr>\n",
       "      <th>1211760000</th>\n",
       "      <td>39.05</td>\n",
       "      <td>39.05</td>\n",
       "      <td>39.05</td>\n",
       "      <td>39.05</td>\n",
       "      <td>0.0</td>\n",
       "      <td>0.0</td>\n",
       "      <td>0.003500</td>\n",
       "      <td>-0.000295</td>\n",
       "    </tr>\n",
       "    <tr>\n",
       "      <th>1211846400</th>\n",
       "      <td>38.93</td>\n",
       "      <td>38.93</td>\n",
       "      <td>38.93</td>\n",
       "      <td>38.93</td>\n",
       "      <td>0.0</td>\n",
       "      <td>0.0</td>\n",
       "      <td>0.003413</td>\n",
       "      <td>-0.000211</td>\n",
       "    </tr>\n",
       "    <tr>\n",
       "      <th>1211932800</th>\n",
       "      <td>39.30</td>\n",
       "      <td>39.30</td>\n",
       "      <td>39.30</td>\n",
       "      <td>39.30</td>\n",
       "      <td>0.0</td>\n",
       "      <td>0.0</td>\n",
       "      <td>0.003284</td>\n",
       "      <td>0.000032</td>\n",
       "    </tr>\n",
       "    <tr>\n",
       "      <th>1212019200</th>\n",
       "      <td>39.40</td>\n",
       "      <td>39.40</td>\n",
       "      <td>39.40</td>\n",
       "      <td>39.40</td>\n",
       "      <td>0.0</td>\n",
       "      <td>0.0</td>\n",
       "      <td>0.003527</td>\n",
       "      <td>-0.000011</td>\n",
       "    </tr>\n",
       "    <tr>\n",
       "      <th>1212105600</th>\n",
       "      <td>39.72</td>\n",
       "      <td>39.72</td>\n",
       "      <td>39.72</td>\n",
       "      <td>39.72</td>\n",
       "      <td>0.0</td>\n",
       "      <td>0.0</td>\n",
       "      <td>0.003895</td>\n",
       "      <td>0.000128</td>\n",
       "    </tr>\n",
       "  </tbody>\n",
       "</table>\n",
       "<p>1124 rows × 8 columns</p>\n",
       "</div>"
      ],
      "text/plain": [
       "             open   high    low  close  volume  quoteVolume  p_future_gain  \\\n",
       "startsAt                                                                     \n",
       "1115078400  27.03  27.03  27.03  27.03     0.0          0.0            NaN   \n",
       "1115164800  27.08  27.08  27.08  27.08     0.0          0.0            NaN   \n",
       "1115251200  27.38  27.38  27.38  27.38     0.0          0.0            NaN   \n",
       "1115337600  27.50  27.50  27.50  27.50     0.0          0.0            NaN   \n",
       "1115424000  27.50  27.50  27.50  27.50     0.0          0.0            NaN   \n",
       "...           ...    ...    ...    ...     ...          ...            ...   \n",
       "1211760000  39.05  39.05  39.05  39.05     0.0          0.0       0.003500   \n",
       "1211846400  38.93  38.93  38.93  38.93     0.0          0.0       0.003413   \n",
       "1211932800  39.30  39.30  39.30  39.30     0.0          0.0       0.003284   \n",
       "1212019200  39.40  39.40  39.40  39.40     0.0          0.0       0.003527   \n",
       "1212105600  39.72  39.72  39.72  39.72     0.0          0.0       0.003895   \n",
       "\n",
       "            p_future_gain_derivation  \n",
       "startsAt                              \n",
       "1115078400                       NaN  \n",
       "1115164800                       NaN  \n",
       "1115251200                       NaN  \n",
       "1115337600                       NaN  \n",
       "1115424000                       NaN  \n",
       "...                              ...  \n",
       "1211760000                 -0.000295  \n",
       "1211846400                 -0.000211  \n",
       "1211932800                  0.000032  \n",
       "1212019200                 -0.000011  \n",
       "1212105600                  0.000128  \n",
       "\n",
       "[1124 rows x 8 columns]"
      ]
     },
     "execution_count": 45,
     "metadata": {},
     "output_type": "execute_result"
    }
   ],
   "source": [
    "dfForPCProof = pd.read_csv(FILE_FOR_PC_PROOF)\n",
    "dfForPCProof.set_index(\"startsAt\", inplace=True)\n",
    "# dfForPCProof.sort_index(inplace=True)\n",
    "# dfForPCProof.drop(\"Unnamed: 0\", axis=1, inplace=True)\n",
    "dfForPCProof"
   ]
  },
  {
   "cell_type": "code",
   "execution_count": 46,
   "metadata": {
    "colab": {
     "base_uri": "https://localhost:8080/"
    },
    "id": "qvcYi4SyEt5Y",
    "outputId": "bcde07e1-8bac-411f-f74a-84e76e656fe7"
   },
   "outputs": [
    {
     "data": {
      "text/plain": [
       "100"
      ]
     },
     "execution_count": 46,
     "metadata": {},
     "output_type": "execute_result"
    }
   ],
   "source": [
    "# 4 times is reuqired as there are triple average indicators (or something like this)\n",
    "RING_IN_PERIOD = 2 * LONGSPAN\n",
    "RING_IN_PERIOD"
   ]
  },
  {
   "cell_type": "code",
   "execution_count": 47,
   "metadata": {
    "id": "RQwsDKNjPeVG"
   },
   "outputs": [],
   "source": [
    "# Get a slice of the full DF out\n",
    "def storeDFSlice(fullDF, slice_start_position):\n",
    "  # Todo: Check for DF boundaries\n",
    "\n",
    "  # Crop to match batch size\n",
    "  sliceDF = fullDF.iloc[slice_start_position:slice_start_position+RING_IN_PERIOD+INDICATOR_MINMAX_PERIOD+X_BLOCK_LENGHT,:]\n",
    "\n",
    "  # Drop the for the whole DF predicted values\n",
    "  old_chained_assignment = pd.options.mode.chained_assignment\n",
    "  pd.options.mode.chained_assignment = None\n",
    "  # sliceDF.drop([\"p_future_gain\",\"p_future_gain_derivation\"], axis=1, inplace=True)\n",
    "  pd.options.mode.chained_assignment = old_chained_assignment\n",
    "\n",
    "  # Store it\n",
    "  store_path = \"/content/sliceDF.csv\" # Todo tmp file\n",
    "  sliceDF.to_csv(store_path)\n",
    "\n",
    "  return sliceDF, store_path"
   ]
  },
  {
   "cell_type": "code",
   "execution_count": 48,
   "metadata": {},
   "outputs": [],
   "source": [
    "# Load a full DF\n",
    "fullDF = pd.read_csv(\"/content/CryptoCrystalBall/Data/ETF/tickdata/predicted/wurst/cp_daily_valid_05_end/test/testfile.csv\")"
   ]
  },
  {
   "cell_type": "code",
   "execution_count": 49,
   "metadata": {
    "colab": {
     "base_uri": "https://localhost:8080/",
     "height": 424
    },
    "id": "2_eyy6BKlRS8",
    "outputId": "81192084-139e-4b98-fe93-54d92d11dd28"
   },
   "outputs": [
    {
     "data": {
      "text/html": [
       "<div>\n",
       "<style scoped>\n",
       "    .dataframe tbody tr th:only-of-type {\n",
       "        vertical-align: middle;\n",
       "    }\n",
       "\n",
       "    .dataframe tbody tr th {\n",
       "        vertical-align: top;\n",
       "    }\n",
       "\n",
       "    .dataframe thead th {\n",
       "        text-align: right;\n",
       "    }\n",
       "</style>\n",
       "<table border=\"1\" class=\"dataframe\">\n",
       "  <thead>\n",
       "    <tr style=\"text-align: right;\">\n",
       "      <th></th>\n",
       "      <th>startsAt</th>\n",
       "      <th>open</th>\n",
       "      <th>high</th>\n",
       "      <th>low</th>\n",
       "      <th>close</th>\n",
       "      <th>volume</th>\n",
       "      <th>quoteVolume</th>\n",
       "      <th>p_future_gain</th>\n",
       "      <th>p_future_gain_derivation</th>\n",
       "    </tr>\n",
       "  </thead>\n",
       "  <tbody>\n",
       "    <tr>\n",
       "      <th>20</th>\n",
       "      <td>1116806400</td>\n",
       "      <td>28.14</td>\n",
       "      <td>28.14</td>\n",
       "      <td>28.14</td>\n",
       "      <td>28.14</td>\n",
       "      <td>0.0</td>\n",
       "      <td>0.0</td>\n",
       "      <td>NaN</td>\n",
       "      <td>NaN</td>\n",
       "    </tr>\n",
       "    <tr>\n",
       "      <th>21</th>\n",
       "      <td>1116892800</td>\n",
       "      <td>28.07</td>\n",
       "      <td>28.07</td>\n",
       "      <td>28.07</td>\n",
       "      <td>28.07</td>\n",
       "      <td>0.0</td>\n",
       "      <td>0.0</td>\n",
       "      <td>NaN</td>\n",
       "      <td>NaN</td>\n",
       "    </tr>\n",
       "    <tr>\n",
       "      <th>22</th>\n",
       "      <td>1116979200</td>\n",
       "      <td>28.12</td>\n",
       "      <td>28.12</td>\n",
       "      <td>28.12</td>\n",
       "      <td>28.12</td>\n",
       "      <td>0.0</td>\n",
       "      <td>0.0</td>\n",
       "      <td>NaN</td>\n",
       "      <td>NaN</td>\n",
       "    </tr>\n",
       "    <tr>\n",
       "      <th>23</th>\n",
       "      <td>1117065600</td>\n",
       "      <td>28.25</td>\n",
       "      <td>28.25</td>\n",
       "      <td>28.25</td>\n",
       "      <td>28.25</td>\n",
       "      <td>0.0</td>\n",
       "      <td>0.0</td>\n",
       "      <td>NaN</td>\n",
       "      <td>NaN</td>\n",
       "    </tr>\n",
       "    <tr>\n",
       "      <th>24</th>\n",
       "      <td>1117152000</td>\n",
       "      <td>28.28</td>\n",
       "      <td>28.28</td>\n",
       "      <td>28.28</td>\n",
       "      <td>28.28</td>\n",
       "      <td>0.0</td>\n",
       "      <td>0.0</td>\n",
       "      <td>NaN</td>\n",
       "      <td>NaN</td>\n",
       "    </tr>\n",
       "    <tr>\n",
       "      <th>...</th>\n",
       "      <td>...</td>\n",
       "      <td>...</td>\n",
       "      <td>...</td>\n",
       "      <td>...</td>\n",
       "      <td>...</td>\n",
       "      <td>...</td>\n",
       "      <td>...</td>\n",
       "      <td>...</td>\n",
       "      <td>...</td>\n",
       "    </tr>\n",
       "    <tr>\n",
       "      <th>271</th>\n",
       "      <td>1138492800</td>\n",
       "      <td>34.62</td>\n",
       "      <td>34.62</td>\n",
       "      <td>34.62</td>\n",
       "      <td>34.62</td>\n",
       "      <td>0.0</td>\n",
       "      <td>0.0</td>\n",
       "      <td>0.003682</td>\n",
       "      <td>-0.000694</td>\n",
       "    </tr>\n",
       "    <tr>\n",
       "      <th>272</th>\n",
       "      <td>1138579200</td>\n",
       "      <td>34.59</td>\n",
       "      <td>34.59</td>\n",
       "      <td>34.59</td>\n",
       "      <td>34.59</td>\n",
       "      <td>0.0</td>\n",
       "      <td>0.0</td>\n",
       "      <td>0.003945</td>\n",
       "      <td>-0.000694</td>\n",
       "    </tr>\n",
       "    <tr>\n",
       "      <th>273</th>\n",
       "      <td>1138665600</td>\n",
       "      <td>34.65</td>\n",
       "      <td>34.65</td>\n",
       "      <td>34.65</td>\n",
       "      <td>34.65</td>\n",
       "      <td>0.0</td>\n",
       "      <td>0.0</td>\n",
       "      <td>0.004268</td>\n",
       "      <td>-0.000521</td>\n",
       "    </tr>\n",
       "    <tr>\n",
       "      <th>274</th>\n",
       "      <td>1138752000</td>\n",
       "      <td>35.01</td>\n",
       "      <td>35.01</td>\n",
       "      <td>35.01</td>\n",
       "      <td>35.01</td>\n",
       "      <td>0.0</td>\n",
       "      <td>0.0</td>\n",
       "      <td>0.004228</td>\n",
       "      <td>-0.000872</td>\n",
       "    </tr>\n",
       "    <tr>\n",
       "      <th>275</th>\n",
       "      <td>1138838400</td>\n",
       "      <td>34.63</td>\n",
       "      <td>34.63</td>\n",
       "      <td>34.63</td>\n",
       "      <td>34.63</td>\n",
       "      <td>0.0</td>\n",
       "      <td>0.0</td>\n",
       "      <td>0.004356</td>\n",
       "      <td>-0.001005</td>\n",
       "    </tr>\n",
       "  </tbody>\n",
       "</table>\n",
       "<p>256 rows × 9 columns</p>\n",
       "</div>"
      ],
      "text/plain": [
       "       startsAt   open   high    low  close  volume  quoteVolume  \\\n",
       "20   1116806400  28.14  28.14  28.14  28.14     0.0          0.0   \n",
       "21   1116892800  28.07  28.07  28.07  28.07     0.0          0.0   \n",
       "22   1116979200  28.12  28.12  28.12  28.12     0.0          0.0   \n",
       "23   1117065600  28.25  28.25  28.25  28.25     0.0          0.0   \n",
       "24   1117152000  28.28  28.28  28.28  28.28     0.0          0.0   \n",
       "..          ...    ...    ...    ...    ...     ...          ...   \n",
       "271  1138492800  34.62  34.62  34.62  34.62     0.0          0.0   \n",
       "272  1138579200  34.59  34.59  34.59  34.59     0.0          0.0   \n",
       "273  1138665600  34.65  34.65  34.65  34.65     0.0          0.0   \n",
       "274  1138752000  35.01  35.01  35.01  35.01     0.0          0.0   \n",
       "275  1138838400  34.63  34.63  34.63  34.63     0.0          0.0   \n",
       "\n",
       "     p_future_gain  p_future_gain_derivation  \n",
       "20             NaN                       NaN  \n",
       "21             NaN                       NaN  \n",
       "22             NaN                       NaN  \n",
       "23             NaN                       NaN  \n",
       "24             NaN                       NaN  \n",
       "..             ...                       ...  \n",
       "271       0.003682                 -0.000694  \n",
       "272       0.003945                 -0.000694  \n",
       "273       0.004268                 -0.000521  \n",
       "274       0.004228                 -0.000872  \n",
       "275       0.004356                 -0.001005  \n",
       "\n",
       "[256 rows x 9 columns]"
      ]
     },
     "execution_count": 49,
     "metadata": {},
     "output_type": "execute_result"
    }
   ],
   "source": [
    "s0,_ = storeDFSlice(fullDF,20)\n",
    "s0.to_csv(\"/content/s0.csv\")\n",
    "s0"
   ]
  },
  {
   "cell_type": "code",
   "execution_count": 50,
   "metadata": {
    "colab": {
     "base_uri": "https://localhost:8080/",
     "height": 424
    },
    "id": "eKcGyfYblXaj",
    "outputId": "b0b4a105-3bdd-45cc-9ca8-116b83885f06"
   },
   "outputs": [
    {
     "data": {
      "text/html": [
       "<div>\n",
       "<style scoped>\n",
       "    .dataframe tbody tr th:only-of-type {\n",
       "        vertical-align: middle;\n",
       "    }\n",
       "\n",
       "    .dataframe tbody tr th {\n",
       "        vertical-align: top;\n",
       "    }\n",
       "\n",
       "    .dataframe thead th {\n",
       "        text-align: right;\n",
       "    }\n",
       "</style>\n",
       "<table border=\"1\" class=\"dataframe\">\n",
       "  <thead>\n",
       "    <tr style=\"text-align: right;\">\n",
       "      <th></th>\n",
       "      <th>startsAt</th>\n",
       "      <th>open</th>\n",
       "      <th>high</th>\n",
       "      <th>low</th>\n",
       "      <th>close</th>\n",
       "      <th>volume</th>\n",
       "      <th>quoteVolume</th>\n",
       "      <th>p_future_gain</th>\n",
       "      <th>p_future_gain_derivation</th>\n",
       "    </tr>\n",
       "  </thead>\n",
       "  <tbody>\n",
       "    <tr>\n",
       "      <th>21</th>\n",
       "      <td>1116892800</td>\n",
       "      <td>28.07</td>\n",
       "      <td>28.07</td>\n",
       "      <td>28.07</td>\n",
       "      <td>28.07</td>\n",
       "      <td>0.0</td>\n",
       "      <td>0.0</td>\n",
       "      <td>NaN</td>\n",
       "      <td>NaN</td>\n",
       "    </tr>\n",
       "    <tr>\n",
       "      <th>22</th>\n",
       "      <td>1116979200</td>\n",
       "      <td>28.12</td>\n",
       "      <td>28.12</td>\n",
       "      <td>28.12</td>\n",
       "      <td>28.12</td>\n",
       "      <td>0.0</td>\n",
       "      <td>0.0</td>\n",
       "      <td>NaN</td>\n",
       "      <td>NaN</td>\n",
       "    </tr>\n",
       "    <tr>\n",
       "      <th>23</th>\n",
       "      <td>1117065600</td>\n",
       "      <td>28.25</td>\n",
       "      <td>28.25</td>\n",
       "      <td>28.25</td>\n",
       "      <td>28.25</td>\n",
       "      <td>0.0</td>\n",
       "      <td>0.0</td>\n",
       "      <td>NaN</td>\n",
       "      <td>NaN</td>\n",
       "    </tr>\n",
       "    <tr>\n",
       "      <th>24</th>\n",
       "      <td>1117152000</td>\n",
       "      <td>28.28</td>\n",
       "      <td>28.28</td>\n",
       "      <td>28.28</td>\n",
       "      <td>28.28</td>\n",
       "      <td>0.0</td>\n",
       "      <td>0.0</td>\n",
       "      <td>NaN</td>\n",
       "      <td>NaN</td>\n",
       "    </tr>\n",
       "    <tr>\n",
       "      <th>25</th>\n",
       "      <td>1117238400</td>\n",
       "      <td>28.28</td>\n",
       "      <td>28.28</td>\n",
       "      <td>28.28</td>\n",
       "      <td>28.28</td>\n",
       "      <td>0.0</td>\n",
       "      <td>0.0</td>\n",
       "      <td>NaN</td>\n",
       "      <td>NaN</td>\n",
       "    </tr>\n",
       "    <tr>\n",
       "      <th>...</th>\n",
       "      <td>...</td>\n",
       "      <td>...</td>\n",
       "      <td>...</td>\n",
       "      <td>...</td>\n",
       "      <td>...</td>\n",
       "      <td>...</td>\n",
       "      <td>...</td>\n",
       "      <td>...</td>\n",
       "      <td>...</td>\n",
       "    </tr>\n",
       "    <tr>\n",
       "      <th>272</th>\n",
       "      <td>1138579200</td>\n",
       "      <td>34.59</td>\n",
       "      <td>34.59</td>\n",
       "      <td>34.59</td>\n",
       "      <td>34.59</td>\n",
       "      <td>0.0</td>\n",
       "      <td>0.0</td>\n",
       "      <td>0.003945</td>\n",
       "      <td>-0.000694</td>\n",
       "    </tr>\n",
       "    <tr>\n",
       "      <th>273</th>\n",
       "      <td>1138665600</td>\n",
       "      <td>34.65</td>\n",
       "      <td>34.65</td>\n",
       "      <td>34.65</td>\n",
       "      <td>34.65</td>\n",
       "      <td>0.0</td>\n",
       "      <td>0.0</td>\n",
       "      <td>0.004268</td>\n",
       "      <td>-0.000521</td>\n",
       "    </tr>\n",
       "    <tr>\n",
       "      <th>274</th>\n",
       "      <td>1138752000</td>\n",
       "      <td>35.01</td>\n",
       "      <td>35.01</td>\n",
       "      <td>35.01</td>\n",
       "      <td>35.01</td>\n",
       "      <td>0.0</td>\n",
       "      <td>0.0</td>\n",
       "      <td>0.004228</td>\n",
       "      <td>-0.000872</td>\n",
       "    </tr>\n",
       "    <tr>\n",
       "      <th>275</th>\n",
       "      <td>1138838400</td>\n",
       "      <td>34.63</td>\n",
       "      <td>34.63</td>\n",
       "      <td>34.63</td>\n",
       "      <td>34.63</td>\n",
       "      <td>0.0</td>\n",
       "      <td>0.0</td>\n",
       "      <td>0.004356</td>\n",
       "      <td>-0.001005</td>\n",
       "    </tr>\n",
       "    <tr>\n",
       "      <th>276</th>\n",
       "      <td>1138924800</td>\n",
       "      <td>34.67</td>\n",
       "      <td>34.67</td>\n",
       "      <td>34.67</td>\n",
       "      <td>34.67</td>\n",
       "      <td>0.0</td>\n",
       "      <td>0.0</td>\n",
       "      <td>0.004248</td>\n",
       "      <td>-0.000940</td>\n",
       "    </tr>\n",
       "  </tbody>\n",
       "</table>\n",
       "<p>256 rows × 9 columns</p>\n",
       "</div>"
      ],
      "text/plain": [
       "       startsAt   open   high    low  close  volume  quoteVolume  \\\n",
       "21   1116892800  28.07  28.07  28.07  28.07     0.0          0.0   \n",
       "22   1116979200  28.12  28.12  28.12  28.12     0.0          0.0   \n",
       "23   1117065600  28.25  28.25  28.25  28.25     0.0          0.0   \n",
       "24   1117152000  28.28  28.28  28.28  28.28     0.0          0.0   \n",
       "25   1117238400  28.28  28.28  28.28  28.28     0.0          0.0   \n",
       "..          ...    ...    ...    ...    ...     ...          ...   \n",
       "272  1138579200  34.59  34.59  34.59  34.59     0.0          0.0   \n",
       "273  1138665600  34.65  34.65  34.65  34.65     0.0          0.0   \n",
       "274  1138752000  35.01  35.01  35.01  35.01     0.0          0.0   \n",
       "275  1138838400  34.63  34.63  34.63  34.63     0.0          0.0   \n",
       "276  1138924800  34.67  34.67  34.67  34.67     0.0          0.0   \n",
       "\n",
       "     p_future_gain  p_future_gain_derivation  \n",
       "21             NaN                       NaN  \n",
       "22             NaN                       NaN  \n",
       "23             NaN                       NaN  \n",
       "24             NaN                       NaN  \n",
       "25             NaN                       NaN  \n",
       "..             ...                       ...  \n",
       "272       0.003945                 -0.000694  \n",
       "273       0.004268                 -0.000521  \n",
       "274       0.004228                 -0.000872  \n",
       "275       0.004356                 -0.001005  \n",
       "276       0.004248                 -0.000940  \n",
       "\n",
       "[256 rows x 9 columns]"
      ]
     },
     "execution_count": 50,
     "metadata": {},
     "output_type": "execute_result"
    }
   ],
   "source": [
    "s1,_ = storeDFSlice(fullDF,21)\n",
    "s1.to_csv(\"/content/s1.csv\")\n",
    "s1"
   ]
  },
  {
   "cell_type": "code",
   "execution_count": 51,
   "metadata": {
    "id": "F1BvuhSoLOtv"
   },
   "outputs": [],
   "source": [
    "# Create a generator for prediction\n",
    "def pythonGeneratorPrediction(fileList):\n",
    "    assert 1 == len(fileList) # This gen shall only be used for one file \n",
    "\n",
    "    batch_size = INDICATOR_MINMAX_PERIOD+RING_IN_PERIOD\n",
    "\n",
    "    # Initialize the FileListToDataStream generator\n",
    "    dataStream = DataStreamCreator.FileListToDataStream(fileList = fileList,\n",
    "                                                     batch_size = batch_size,\n",
    "                                                     X_Block_lenght = X_BLOCK_LENGHT,\n",
    "                                                     y_type_dict=Y_TYPE_DICT,\n",
    "                                                     shuffle=False,\n",
    "                                                     parallel_generators = 1,\n",
    "                                                     random_seed = RANDOM_SEED,\n",
    "                                                     **DATA_STREAM_PARAMETERS\n",
    "                                                    )\n",
    "\n",
    "    # This while has to integrated into the FileListToDataStream method\n",
    "    while True:  \n",
    "        try:\n",
    "            ne = next(dataStream)           \n",
    "            _X = ne['X']\n",
    "            _y = ne['y']\n",
    "\n",
    "            # Crop off the indicator ring-in-period and the X-Block period\n",
    "            _X = _X[-INDICATOR_MINMAX_PERIOD:]          \n",
    "            \n",
    "            _y = np.zeros((_X.shape[0],_y.shape[1]))\n",
    "\n",
    "            yield (_X, _y)\n",
    "        except StopIteration as si:\n",
    "            logging.warning(\"StopIteration in pythonGenerator\")\n",
    "            logging.warning(si)\n",
    "            return"
   ]
  },
  {
   "cell_type": "code",
   "execution_count": 52,
   "metadata": {
    "colab": {
     "base_uri": "https://localhost:8080/"
    },
    "id": "LGtn58fVD4zf",
    "outputId": "012fa0fa-dd78-4d1b-c8d9-5acb2c431d9f"
   },
   "outputs": [
    {
     "name": "stderr",
     "output_type": "stream",
     "text": [
      "INFO:root:File 's0.csv' loaded, 0 left\n"
     ]
    },
    {
     "data": {
      "text/plain": [
       "(28, 128, 116)"
      ]
     },
     "execution_count": 52,
     "metadata": {},
     "output_type": "execute_result"
    }
   ],
   "source": [
    "x0 = next(pythonGeneratorPrediction([\"/content/s0.csv\"]))[0]\n",
    "x0.shape"
   ]
  },
  {
   "cell_type": "code",
   "execution_count": 53,
   "metadata": {
    "colab": {
     "base_uri": "https://localhost:8080/"
    },
    "id": "XBeJy-o3FVWQ",
    "outputId": "8b776546-ab74-425f-8e27-39ac5f3da828"
   },
   "outputs": [
    {
     "name": "stderr",
     "output_type": "stream",
     "text": [
      "INFO:root:File 's1.csv' loaded, 0 left\n"
     ]
    },
    {
     "data": {
      "text/plain": [
       "(28, 128, 116)"
      ]
     },
     "execution_count": 53,
     "metadata": {},
     "output_type": "execute_result"
    }
   ],
   "source": [
    "x1 = next(pythonGeneratorPrediction([\"/content/s1.csv\"]))[0]\n",
    "x1.shape"
   ]
  },
  {
   "cell_type": "code",
   "execution_count": 54,
   "metadata": {
    "colab": {
     "base_uri": "https://localhost:8080/"
    },
    "id": "9zA10FG6FYHc",
    "outputId": "7d4ef0c0-bd39-4755-ca8d-96a0e18a363d"
   },
   "outputs": [
    {
     "data": {
      "text/plain": [
       "(27, 128, 116)"
      ]
     },
     "execution_count": 54,
     "metadata": {},
     "output_type": "execute_result"
    }
   ],
   "source": [
    "x0[1:,:,:].shape"
   ]
  },
  {
   "cell_type": "code",
   "execution_count": 55,
   "metadata": {
    "colab": {
     "base_uri": "https://localhost:8080/"
    },
    "id": "IwVd-s37Fbky",
    "outputId": "114f8703-e19f-4af2-cf68-29d967634489"
   },
   "outputs": [
    {
     "data": {
      "text/plain": [
       "(27, 128, 116)"
      ]
     },
     "execution_count": 55,
     "metadata": {},
     "output_type": "execute_result"
    }
   ],
   "source": [
    "x1[:-1,:,:].shape"
   ]
  },
  {
   "cell_type": "code",
   "execution_count": 56,
   "metadata": {
    "colab": {
     "base_uri": "https://localhost:8080/"
    },
    "id": "4fUcov5MFezh",
    "outputId": "e8305a5f-47fd-4cd2-e9dc-3ba1d0638eac",
    "tags": []
   },
   "outputs": [],
   "source": [
    "#x0[1:,:,:] - x1[:-1,:,:]"
   ]
  },
  {
   "cell_type": "markdown",
   "metadata": {
    "id": "753wpXwkF0UV"
   },
   "source": [
    "# XGen"
   ]
  },
  {
   "cell_type": "code",
   "execution_count": 57,
   "metadata": {
    "colab": {
     "base_uri": "https://localhost:8080/"
    },
    "id": "jQBKdl1cF0GQ",
    "outputId": "c073a8d3-467b-4030-8757-3b95f7235d02"
   },
   "outputs": [
    {
     "data": {
      "text/plain": [
       "(128, 128, 9)"
      ]
     },
     "execution_count": 57,
     "metadata": {},
     "output_type": "execute_result"
    }
   ],
   "source": [
    "df0 = pd.read_csv(\"/content/s0.csv\")\n",
    "df0.set_index(\"startsAt\", inplace=True)\n",
    "xg0 = DataStreamCreator.XBlockGenerator(df0,INDICATOR_MINMAX_PERIOD+RING_IN_PERIOD,X_BLOCK_LENGHT)\n",
    "x0Gend = next(xg0)\n",
    "x0Gend.shape"
   ]
  },
  {
   "cell_type": "code",
   "execution_count": 58,
   "metadata": {
    "colab": {
     "base_uri": "https://localhost:8080/"
    },
    "id": "h5tsOQJYH4be",
    "outputId": "f278d176-2fb4-492a-d8bb-9e3d78a11a5a"
   },
   "outputs": [
    {
     "data": {
      "text/plain": [
       "(128, 128, 9)"
      ]
     },
     "execution_count": 58,
     "metadata": {},
     "output_type": "execute_result"
    }
   ],
   "source": [
    "df1 = pd.read_csv(\"/content/s1.csv\")\n",
    "df1.set_index(\"startsAt\", inplace=True)\n",
    "xg1 = DataStreamCreator.XBlockGenerator(df1,INDICATOR_MINMAX_PERIOD+RING_IN_PERIOD,X_BLOCK_LENGHT)\n",
    "x1Gend = next(xg1)\n",
    "x1Gend.shape"
   ]
  },
  {
   "cell_type": "code",
   "execution_count": 59,
   "metadata": {
    "colab": {
     "base_uri": "https://localhost:8080/"
    },
    "id": "DWjFsKu4H9-l",
    "outputId": "c32b7c69-3d6c-4886-f6fe-53d89529fb73"
   },
   "outputs": [
    {
     "data": {
      "text/plain": [
       "0.0"
      ]
     },
     "execution_count": 59,
     "metadata": {},
     "output_type": "execute_result"
    }
   ],
   "source": [
    "np.max(x0Gend[1:,:,:] - x1Gend[:-1,:,:])"
   ]
  },
  {
   "cell_type": "markdown",
   "metadata": {
    "id": "n9lPYrpK8K6w"
   },
   "source": [
    "## --> XGen from raw DF are the same!"
   ]
  },
  {
   "cell_type": "markdown",
   "metadata": {
    "id": "hf74Nbmq8gZb"
   },
   "source": [
    "---\n",
    "# XGen after IndicatorCalculator"
   ]
  },
  {
   "cell_type": "code",
   "execution_count": 60,
   "metadata": {
    "id": "ULscVVzT8r3Q"
   },
   "outputs": [],
   "source": [
    "ic = IndicatorCalculator(SHORTSPAN, MIDSPAN, LONGSPAN)"
   ]
  },
  {
   "cell_type": "code",
   "execution_count": 61,
   "metadata": {
    "colab": {
     "base_uri": "https://localhost:8080/"
    },
    "id": "k0W45iRSAbF8",
    "outputId": "823d8724-0cfb-4eaa-d6c6-aff958e78773"
   },
   "outputs": [
    {
     "data": {
      "text/plain": [
       "{'calcPatternIndicators': False, 'calcVolumeInidators': False, 'dropna': False}"
      ]
     },
     "execution_count": 61,
     "metadata": {},
     "output_type": "execute_result"
    }
   ],
   "source": [
    "DATA_STREAM_PARAMETERS"
   ]
  },
  {
   "cell_type": "code",
   "execution_count": 62,
   "metadata": {
    "colab": {
     "base_uri": "https://localhost:8080/",
     "height": 455
    },
    "id": "Rs3-3gyl8gGI",
    "outputId": "21ed676e-ef13-4d75-8a0b-117d66682df5"
   },
   "outputs": [
    {
     "data": {
      "text/html": [
       "<div>\n",
       "<style scoped>\n",
       "    .dataframe tbody tr th:only-of-type {\n",
       "        vertical-align: middle;\n",
       "    }\n",
       "\n",
       "    .dataframe tbody tr th {\n",
       "        vertical-align: top;\n",
       "    }\n",
       "\n",
       "    .dataframe thead th {\n",
       "        text-align: right;\n",
       "    }\n",
       "</style>\n",
       "<table border=\"1\" class=\"dataframe\">\n",
       "  <thead>\n",
       "    <tr style=\"text-align: right;\">\n",
       "      <th></th>\n",
       "      <th>APO_12_26</th>\n",
       "      <th>AROONDOWN38</th>\n",
       "      <th>AROONDOWN50</th>\n",
       "      <th>AROONDOWN7</th>\n",
       "      <th>AROONOSC38</th>\n",
       "      <th>AROONOSC50</th>\n",
       "      <th>AROONOSC7</th>\n",
       "      <th>AROONUP38</th>\n",
       "      <th>AROONUP50</th>\n",
       "      <th>AROONUP7</th>\n",
       "      <th>...</th>\n",
       "      <th>c_WMA50</th>\n",
       "      <th>c_WMA7</th>\n",
       "      <th>close</th>\n",
       "      <th>high</th>\n",
       "      <th>low</th>\n",
       "      <th>open</th>\n",
       "      <th>v_MFI38</th>\n",
       "      <th>v_MFI50</th>\n",
       "      <th>v_MFI7</th>\n",
       "      <th>volume</th>\n",
       "    </tr>\n",
       "    <tr>\n",
       "      <th>startsAt</th>\n",
       "      <th></th>\n",
       "      <th></th>\n",
       "      <th></th>\n",
       "      <th></th>\n",
       "      <th></th>\n",
       "      <th></th>\n",
       "      <th></th>\n",
       "      <th></th>\n",
       "      <th></th>\n",
       "      <th></th>\n",
       "      <th></th>\n",
       "      <th></th>\n",
       "      <th></th>\n",
       "      <th></th>\n",
       "      <th></th>\n",
       "      <th></th>\n",
       "      <th></th>\n",
       "      <th></th>\n",
       "      <th></th>\n",
       "      <th></th>\n",
       "      <th></th>\n",
       "    </tr>\n",
       "  </thead>\n",
       "  <tbody>\n",
       "    <tr>\n",
       "      <th>1116806400</th>\n",
       "      <td>0.000000</td>\n",
       "      <td>0.000000</td>\n",
       "      <td>0.0</td>\n",
       "      <td>0.000000</td>\n",
       "      <td>0.000000</td>\n",
       "      <td>0.0</td>\n",
       "      <td>0.000000</td>\n",
       "      <td>0.000000</td>\n",
       "      <td>0.0</td>\n",
       "      <td>0.000000</td>\n",
       "      <td>...</td>\n",
       "      <td>0.000000</td>\n",
       "      <td>0.000000</td>\n",
       "      <td>28.14</td>\n",
       "      <td>28.14</td>\n",
       "      <td>28.14</td>\n",
       "      <td>28.14</td>\n",
       "      <td>0.0</td>\n",
       "      <td>0.0</td>\n",
       "      <td>0.0</td>\n",
       "      <td>0.0</td>\n",
       "    </tr>\n",
       "    <tr>\n",
       "      <th>1116892800</th>\n",
       "      <td>0.000000</td>\n",
       "      <td>0.000000</td>\n",
       "      <td>0.0</td>\n",
       "      <td>0.000000</td>\n",
       "      <td>0.000000</td>\n",
       "      <td>0.0</td>\n",
       "      <td>0.000000</td>\n",
       "      <td>0.000000</td>\n",
       "      <td>0.0</td>\n",
       "      <td>0.000000</td>\n",
       "      <td>...</td>\n",
       "      <td>0.000000</td>\n",
       "      <td>0.000000</td>\n",
       "      <td>28.07</td>\n",
       "      <td>28.07</td>\n",
       "      <td>28.07</td>\n",
       "      <td>28.07</td>\n",
       "      <td>0.0</td>\n",
       "      <td>0.0</td>\n",
       "      <td>0.0</td>\n",
       "      <td>0.0</td>\n",
       "    </tr>\n",
       "    <tr>\n",
       "      <th>1116979200</th>\n",
       "      <td>0.000000</td>\n",
       "      <td>0.000000</td>\n",
       "      <td>0.0</td>\n",
       "      <td>0.000000</td>\n",
       "      <td>0.000000</td>\n",
       "      <td>0.0</td>\n",
       "      <td>0.000000</td>\n",
       "      <td>0.000000</td>\n",
       "      <td>0.0</td>\n",
       "      <td>0.000000</td>\n",
       "      <td>...</td>\n",
       "      <td>0.000000</td>\n",
       "      <td>0.000000</td>\n",
       "      <td>28.12</td>\n",
       "      <td>28.12</td>\n",
       "      <td>28.12</td>\n",
       "      <td>28.12</td>\n",
       "      <td>0.0</td>\n",
       "      <td>0.0</td>\n",
       "      <td>0.0</td>\n",
       "      <td>0.0</td>\n",
       "    </tr>\n",
       "    <tr>\n",
       "      <th>1117065600</th>\n",
       "      <td>0.000000</td>\n",
       "      <td>0.000000</td>\n",
       "      <td>0.0</td>\n",
       "      <td>0.000000</td>\n",
       "      <td>0.000000</td>\n",
       "      <td>0.0</td>\n",
       "      <td>0.000000</td>\n",
       "      <td>0.000000</td>\n",
       "      <td>0.0</td>\n",
       "      <td>0.000000</td>\n",
       "      <td>...</td>\n",
       "      <td>0.000000</td>\n",
       "      <td>0.000000</td>\n",
       "      <td>28.25</td>\n",
       "      <td>28.25</td>\n",
       "      <td>28.25</td>\n",
       "      <td>28.25</td>\n",
       "      <td>0.0</td>\n",
       "      <td>0.0</td>\n",
       "      <td>0.0</td>\n",
       "      <td>0.0</td>\n",
       "    </tr>\n",
       "    <tr>\n",
       "      <th>1117152000</th>\n",
       "      <td>0.000000</td>\n",
       "      <td>0.000000</td>\n",
       "      <td>0.0</td>\n",
       "      <td>0.000000</td>\n",
       "      <td>0.000000</td>\n",
       "      <td>0.0</td>\n",
       "      <td>0.000000</td>\n",
       "      <td>0.000000</td>\n",
       "      <td>0.0</td>\n",
       "      <td>0.000000</td>\n",
       "      <td>...</td>\n",
       "      <td>0.000000</td>\n",
       "      <td>0.000000</td>\n",
       "      <td>28.28</td>\n",
       "      <td>28.28</td>\n",
       "      <td>28.28</td>\n",
       "      <td>28.28</td>\n",
       "      <td>0.0</td>\n",
       "      <td>0.0</td>\n",
       "      <td>0.0</td>\n",
       "      <td>0.0</td>\n",
       "    </tr>\n",
       "    <tr>\n",
       "      <th>...</th>\n",
       "      <td>...</td>\n",
       "      <td>...</td>\n",
       "      <td>...</td>\n",
       "      <td>...</td>\n",
       "      <td>...</td>\n",
       "      <td>...</td>\n",
       "      <td>...</td>\n",
       "      <td>...</td>\n",
       "      <td>...</td>\n",
       "      <td>...</td>\n",
       "      <td>...</td>\n",
       "      <td>...</td>\n",
       "      <td>...</td>\n",
       "      <td>...</td>\n",
       "      <td>...</td>\n",
       "      <td>...</td>\n",
       "      <td>...</td>\n",
       "      <td>...</td>\n",
       "      <td>...</td>\n",
       "      <td>...</td>\n",
       "      <td>...</td>\n",
       "    </tr>\n",
       "    <tr>\n",
       "      <th>1138492800</th>\n",
       "      <td>-0.101026</td>\n",
       "      <td>26.315789</td>\n",
       "      <td>2.0</td>\n",
       "      <td>28.571429</td>\n",
       "      <td>73.684211</td>\n",
       "      <td>98.0</td>\n",
       "      <td>71.428571</td>\n",
       "      <td>100.000000</td>\n",
       "      <td>100.0</td>\n",
       "      <td>100.000000</td>\n",
       "      <td>...</td>\n",
       "      <td>33.787506</td>\n",
       "      <td>34.324643</td>\n",
       "      <td>34.62</td>\n",
       "      <td>34.62</td>\n",
       "      <td>34.62</td>\n",
       "      <td>34.62</td>\n",
       "      <td>0.0</td>\n",
       "      <td>0.0</td>\n",
       "      <td>0.0</td>\n",
       "      <td>0.0</td>\n",
       "    </tr>\n",
       "    <tr>\n",
       "      <th>1138579200</th>\n",
       "      <td>-0.034038</td>\n",
       "      <td>23.684211</td>\n",
       "      <td>0.0</td>\n",
       "      <td>14.285714</td>\n",
       "      <td>73.684211</td>\n",
       "      <td>98.0</td>\n",
       "      <td>71.428571</td>\n",
       "      <td>97.368421</td>\n",
       "      <td>98.0</td>\n",
       "      <td>85.714286</td>\n",
       "      <td>...</td>\n",
       "      <td>33.827859</td>\n",
       "      <td>34.455357</td>\n",
       "      <td>34.59</td>\n",
       "      <td>34.59</td>\n",
       "      <td>34.59</td>\n",
       "      <td>34.59</td>\n",
       "      <td>0.0</td>\n",
       "      <td>0.0</td>\n",
       "      <td>0.0</td>\n",
       "      <td>0.0</td>\n",
       "    </tr>\n",
       "    <tr>\n",
       "      <th>1138665600</th>\n",
       "      <td>0.012885</td>\n",
       "      <td>21.052632</td>\n",
       "      <td>0.0</td>\n",
       "      <td>0.000000</td>\n",
       "      <td>78.947368</td>\n",
       "      <td>100.0</td>\n",
       "      <td>100.000000</td>\n",
       "      <td>100.000000</td>\n",
       "      <td>100.0</td>\n",
       "      <td>100.000000</td>\n",
       "      <td>...</td>\n",
       "      <td>33.869004</td>\n",
       "      <td>34.557857</td>\n",
       "      <td>34.65</td>\n",
       "      <td>34.65</td>\n",
       "      <td>34.65</td>\n",
       "      <td>34.65</td>\n",
       "      <td>0.0</td>\n",
       "      <td>0.0</td>\n",
       "      <td>0.0</td>\n",
       "      <td>0.0</td>\n",
       "    </tr>\n",
       "    <tr>\n",
       "      <th>1138752000</th>\n",
       "      <td>0.107564</td>\n",
       "      <td>18.421053</td>\n",
       "      <td>2.0</td>\n",
       "      <td>0.000000</td>\n",
       "      <td>81.578947</td>\n",
       "      <td>98.0</td>\n",
       "      <td>100.000000</td>\n",
       "      <td>100.000000</td>\n",
       "      <td>100.0</td>\n",
       "      <td>100.000000</td>\n",
       "      <td>...</td>\n",
       "      <td>33.922729</td>\n",
       "      <td>34.703214</td>\n",
       "      <td>35.01</td>\n",
       "      <td>35.01</td>\n",
       "      <td>35.01</td>\n",
       "      <td>35.01</td>\n",
       "      <td>0.0</td>\n",
       "      <td>0.0</td>\n",
       "      <td>0.0</td>\n",
       "      <td>0.0</td>\n",
       "    </tr>\n",
       "    <tr>\n",
       "      <th>1138838400</th>\n",
       "      <td>0.185192</td>\n",
       "      <td>15.789474</td>\n",
       "      <td>0.0</td>\n",
       "      <td>0.000000</td>\n",
       "      <td>81.578947</td>\n",
       "      <td>98.0</td>\n",
       "      <td>85.714286</td>\n",
       "      <td>97.368421</td>\n",
       "      <td>98.0</td>\n",
       "      <td>85.714286</td>\n",
       "      <td>...</td>\n",
       "      <td>33.959780</td>\n",
       "      <td>34.707143</td>\n",
       "      <td>34.63</td>\n",
       "      <td>34.63</td>\n",
       "      <td>34.63</td>\n",
       "      <td>34.63</td>\n",
       "      <td>0.0</td>\n",
       "      <td>0.0</td>\n",
       "      <td>0.0</td>\n",
       "      <td>0.0</td>\n",
       "    </tr>\n",
       "  </tbody>\n",
       "</table>\n",
       "<p>256 rows × 117 columns</p>\n",
       "</div>"
      ],
      "text/plain": [
       "            APO_12_26  AROONDOWN38  AROONDOWN50  AROONDOWN7  AROONOSC38  \\\n",
       "startsAt                                                                  \n",
       "1116806400   0.000000     0.000000          0.0    0.000000    0.000000   \n",
       "1116892800   0.000000     0.000000          0.0    0.000000    0.000000   \n",
       "1116979200   0.000000     0.000000          0.0    0.000000    0.000000   \n",
       "1117065600   0.000000     0.000000          0.0    0.000000    0.000000   \n",
       "1117152000   0.000000     0.000000          0.0    0.000000    0.000000   \n",
       "...               ...          ...          ...         ...         ...   \n",
       "1138492800  -0.101026    26.315789          2.0   28.571429   73.684211   \n",
       "1138579200  -0.034038    23.684211          0.0   14.285714   73.684211   \n",
       "1138665600   0.012885    21.052632          0.0    0.000000   78.947368   \n",
       "1138752000   0.107564    18.421053          2.0    0.000000   81.578947   \n",
       "1138838400   0.185192    15.789474          0.0    0.000000   81.578947   \n",
       "\n",
       "            AROONOSC50   AROONOSC7   AROONUP38  AROONUP50    AROONUP7  ...  \\\n",
       "startsAt                                                               ...   \n",
       "1116806400         0.0    0.000000    0.000000        0.0    0.000000  ...   \n",
       "1116892800         0.0    0.000000    0.000000        0.0    0.000000  ...   \n",
       "1116979200         0.0    0.000000    0.000000        0.0    0.000000  ...   \n",
       "1117065600         0.0    0.000000    0.000000        0.0    0.000000  ...   \n",
       "1117152000         0.0    0.000000    0.000000        0.0    0.000000  ...   \n",
       "...                ...         ...         ...        ...         ...  ...   \n",
       "1138492800        98.0   71.428571  100.000000      100.0  100.000000  ...   \n",
       "1138579200        98.0   71.428571   97.368421       98.0   85.714286  ...   \n",
       "1138665600       100.0  100.000000  100.000000      100.0  100.000000  ...   \n",
       "1138752000        98.0  100.000000  100.000000      100.0  100.000000  ...   \n",
       "1138838400        98.0   85.714286   97.368421       98.0   85.714286  ...   \n",
       "\n",
       "              c_WMA50     c_WMA7  close   high    low   open  v_MFI38  \\\n",
       "startsAt                                                                \n",
       "1116806400   0.000000   0.000000  28.14  28.14  28.14  28.14      0.0   \n",
       "1116892800   0.000000   0.000000  28.07  28.07  28.07  28.07      0.0   \n",
       "1116979200   0.000000   0.000000  28.12  28.12  28.12  28.12      0.0   \n",
       "1117065600   0.000000   0.000000  28.25  28.25  28.25  28.25      0.0   \n",
       "1117152000   0.000000   0.000000  28.28  28.28  28.28  28.28      0.0   \n",
       "...               ...        ...    ...    ...    ...    ...      ...   \n",
       "1138492800  33.787506  34.324643  34.62  34.62  34.62  34.62      0.0   \n",
       "1138579200  33.827859  34.455357  34.59  34.59  34.59  34.59      0.0   \n",
       "1138665600  33.869004  34.557857  34.65  34.65  34.65  34.65      0.0   \n",
       "1138752000  33.922729  34.703214  35.01  35.01  35.01  35.01      0.0   \n",
       "1138838400  33.959780  34.707143  34.63  34.63  34.63  34.63      0.0   \n",
       "\n",
       "            v_MFI50  v_MFI7  volume  \n",
       "startsAt                             \n",
       "1116806400      0.0     0.0     0.0  \n",
       "1116892800      0.0     0.0     0.0  \n",
       "1116979200      0.0     0.0     0.0  \n",
       "1117065600      0.0     0.0     0.0  \n",
       "1117152000      0.0     0.0     0.0  \n",
       "...             ...     ...     ...  \n",
       "1138492800      0.0     0.0     0.0  \n",
       "1138579200      0.0     0.0     0.0  \n",
       "1138665600      0.0     0.0     0.0  \n",
       "1138752000      0.0     0.0     0.0  \n",
       "1138838400      0.0     0.0     0.0  \n",
       "\n",
       "[256 rows x 117 columns]"
      ]
     },
     "execution_count": 62,
     "metadata": {},
     "output_type": "execute_result"
    }
   ],
   "source": [
    "dfI0 = ic.CreateAllIndicatorsTable(df0, **DATA_STREAM_PARAMETERS)\n",
    "dfI0"
   ]
  },
  {
   "cell_type": "code",
   "execution_count": 63,
   "metadata": {
    "colab": {
     "base_uri": "https://localhost:8080/",
     "height": 455
    },
    "id": "OUGRFXm3_xWE",
    "outputId": "9ab2a11e-4b0a-4a89-a844-51ff8a39e3d2"
   },
   "outputs": [
    {
     "data": {
      "text/html": [
       "<div>\n",
       "<style scoped>\n",
       "    .dataframe tbody tr th:only-of-type {\n",
       "        vertical-align: middle;\n",
       "    }\n",
       "\n",
       "    .dataframe tbody tr th {\n",
       "        vertical-align: top;\n",
       "    }\n",
       "\n",
       "    .dataframe thead th {\n",
       "        text-align: right;\n",
       "    }\n",
       "</style>\n",
       "<table border=\"1\" class=\"dataframe\">\n",
       "  <thead>\n",
       "    <tr style=\"text-align: right;\">\n",
       "      <th></th>\n",
       "      <th>APO_12_26</th>\n",
       "      <th>AROONDOWN38</th>\n",
       "      <th>AROONDOWN50</th>\n",
       "      <th>AROONDOWN7</th>\n",
       "      <th>AROONOSC38</th>\n",
       "      <th>AROONOSC50</th>\n",
       "      <th>AROONOSC7</th>\n",
       "      <th>AROONUP38</th>\n",
       "      <th>AROONUP50</th>\n",
       "      <th>AROONUP7</th>\n",
       "      <th>...</th>\n",
       "      <th>c_WMA50</th>\n",
       "      <th>c_WMA7</th>\n",
       "      <th>close</th>\n",
       "      <th>high</th>\n",
       "      <th>low</th>\n",
       "      <th>open</th>\n",
       "      <th>v_MFI38</th>\n",
       "      <th>v_MFI50</th>\n",
       "      <th>v_MFI7</th>\n",
       "      <th>volume</th>\n",
       "    </tr>\n",
       "    <tr>\n",
       "      <th>startsAt</th>\n",
       "      <th></th>\n",
       "      <th></th>\n",
       "      <th></th>\n",
       "      <th></th>\n",
       "      <th></th>\n",
       "      <th></th>\n",
       "      <th></th>\n",
       "      <th></th>\n",
       "      <th></th>\n",
       "      <th></th>\n",
       "      <th></th>\n",
       "      <th></th>\n",
       "      <th></th>\n",
       "      <th></th>\n",
       "      <th></th>\n",
       "      <th></th>\n",
       "      <th></th>\n",
       "      <th></th>\n",
       "      <th></th>\n",
       "      <th></th>\n",
       "      <th></th>\n",
       "    </tr>\n",
       "  </thead>\n",
       "  <tbody>\n",
       "    <tr>\n",
       "      <th>1116892800</th>\n",
       "      <td>0.000000</td>\n",
       "      <td>0.000000</td>\n",
       "      <td>0.0</td>\n",
       "      <td>0.000000</td>\n",
       "      <td>0.000000</td>\n",
       "      <td>0.0</td>\n",
       "      <td>0.000000</td>\n",
       "      <td>0.000000</td>\n",
       "      <td>0.0</td>\n",
       "      <td>0.000000</td>\n",
       "      <td>...</td>\n",
       "      <td>0.000000</td>\n",
       "      <td>0.000000</td>\n",
       "      <td>28.07</td>\n",
       "      <td>28.07</td>\n",
       "      <td>28.07</td>\n",
       "      <td>28.07</td>\n",
       "      <td>0.0</td>\n",
       "      <td>0.0</td>\n",
       "      <td>0.0</td>\n",
       "      <td>0.0</td>\n",
       "    </tr>\n",
       "    <tr>\n",
       "      <th>1116979200</th>\n",
       "      <td>0.000000</td>\n",
       "      <td>0.000000</td>\n",
       "      <td>0.0</td>\n",
       "      <td>0.000000</td>\n",
       "      <td>0.000000</td>\n",
       "      <td>0.0</td>\n",
       "      <td>0.000000</td>\n",
       "      <td>0.000000</td>\n",
       "      <td>0.0</td>\n",
       "      <td>0.000000</td>\n",
       "      <td>...</td>\n",
       "      <td>0.000000</td>\n",
       "      <td>0.000000</td>\n",
       "      <td>28.12</td>\n",
       "      <td>28.12</td>\n",
       "      <td>28.12</td>\n",
       "      <td>28.12</td>\n",
       "      <td>0.0</td>\n",
       "      <td>0.0</td>\n",
       "      <td>0.0</td>\n",
       "      <td>0.0</td>\n",
       "    </tr>\n",
       "    <tr>\n",
       "      <th>1117065600</th>\n",
       "      <td>0.000000</td>\n",
       "      <td>0.000000</td>\n",
       "      <td>0.0</td>\n",
       "      <td>0.000000</td>\n",
       "      <td>0.000000</td>\n",
       "      <td>0.0</td>\n",
       "      <td>0.000000</td>\n",
       "      <td>0.000000</td>\n",
       "      <td>0.0</td>\n",
       "      <td>0.000000</td>\n",
       "      <td>...</td>\n",
       "      <td>0.000000</td>\n",
       "      <td>0.000000</td>\n",
       "      <td>28.25</td>\n",
       "      <td>28.25</td>\n",
       "      <td>28.25</td>\n",
       "      <td>28.25</td>\n",
       "      <td>0.0</td>\n",
       "      <td>0.0</td>\n",
       "      <td>0.0</td>\n",
       "      <td>0.0</td>\n",
       "    </tr>\n",
       "    <tr>\n",
       "      <th>1117152000</th>\n",
       "      <td>0.000000</td>\n",
       "      <td>0.000000</td>\n",
       "      <td>0.0</td>\n",
       "      <td>0.000000</td>\n",
       "      <td>0.000000</td>\n",
       "      <td>0.0</td>\n",
       "      <td>0.000000</td>\n",
       "      <td>0.000000</td>\n",
       "      <td>0.0</td>\n",
       "      <td>0.000000</td>\n",
       "      <td>...</td>\n",
       "      <td>0.000000</td>\n",
       "      <td>0.000000</td>\n",
       "      <td>28.28</td>\n",
       "      <td>28.28</td>\n",
       "      <td>28.28</td>\n",
       "      <td>28.28</td>\n",
       "      <td>0.0</td>\n",
       "      <td>0.0</td>\n",
       "      <td>0.0</td>\n",
       "      <td>0.0</td>\n",
       "    </tr>\n",
       "    <tr>\n",
       "      <th>1117238400</th>\n",
       "      <td>0.000000</td>\n",
       "      <td>0.000000</td>\n",
       "      <td>0.0</td>\n",
       "      <td>0.000000</td>\n",
       "      <td>0.000000</td>\n",
       "      <td>0.0</td>\n",
       "      <td>0.000000</td>\n",
       "      <td>0.000000</td>\n",
       "      <td>0.0</td>\n",
       "      <td>0.000000</td>\n",
       "      <td>...</td>\n",
       "      <td>0.000000</td>\n",
       "      <td>0.000000</td>\n",
       "      <td>28.28</td>\n",
       "      <td>28.28</td>\n",
       "      <td>28.28</td>\n",
       "      <td>28.28</td>\n",
       "      <td>0.0</td>\n",
       "      <td>0.0</td>\n",
       "      <td>0.0</td>\n",
       "      <td>0.0</td>\n",
       "    </tr>\n",
       "    <tr>\n",
       "      <th>...</th>\n",
       "      <td>...</td>\n",
       "      <td>...</td>\n",
       "      <td>...</td>\n",
       "      <td>...</td>\n",
       "      <td>...</td>\n",
       "      <td>...</td>\n",
       "      <td>...</td>\n",
       "      <td>...</td>\n",
       "      <td>...</td>\n",
       "      <td>...</td>\n",
       "      <td>...</td>\n",
       "      <td>...</td>\n",
       "      <td>...</td>\n",
       "      <td>...</td>\n",
       "      <td>...</td>\n",
       "      <td>...</td>\n",
       "      <td>...</td>\n",
       "      <td>...</td>\n",
       "      <td>...</td>\n",
       "      <td>...</td>\n",
       "      <td>...</td>\n",
       "    </tr>\n",
       "    <tr>\n",
       "      <th>1138579200</th>\n",
       "      <td>-0.034038</td>\n",
       "      <td>23.684211</td>\n",
       "      <td>0.0</td>\n",
       "      <td>14.285714</td>\n",
       "      <td>73.684211</td>\n",
       "      <td>98.0</td>\n",
       "      <td>71.428571</td>\n",
       "      <td>97.368421</td>\n",
       "      <td>98.0</td>\n",
       "      <td>85.714286</td>\n",
       "      <td>...</td>\n",
       "      <td>33.827859</td>\n",
       "      <td>34.455357</td>\n",
       "      <td>34.59</td>\n",
       "      <td>34.59</td>\n",
       "      <td>34.59</td>\n",
       "      <td>34.59</td>\n",
       "      <td>0.0</td>\n",
       "      <td>0.0</td>\n",
       "      <td>0.0</td>\n",
       "      <td>0.0</td>\n",
       "    </tr>\n",
       "    <tr>\n",
       "      <th>1138665600</th>\n",
       "      <td>0.012885</td>\n",
       "      <td>21.052632</td>\n",
       "      <td>0.0</td>\n",
       "      <td>0.000000</td>\n",
       "      <td>78.947368</td>\n",
       "      <td>100.0</td>\n",
       "      <td>100.000000</td>\n",
       "      <td>100.000000</td>\n",
       "      <td>100.0</td>\n",
       "      <td>100.000000</td>\n",
       "      <td>...</td>\n",
       "      <td>33.869004</td>\n",
       "      <td>34.557857</td>\n",
       "      <td>34.65</td>\n",
       "      <td>34.65</td>\n",
       "      <td>34.65</td>\n",
       "      <td>34.65</td>\n",
       "      <td>0.0</td>\n",
       "      <td>0.0</td>\n",
       "      <td>0.0</td>\n",
       "      <td>0.0</td>\n",
       "    </tr>\n",
       "    <tr>\n",
       "      <th>1138752000</th>\n",
       "      <td>0.107564</td>\n",
       "      <td>18.421053</td>\n",
       "      <td>2.0</td>\n",
       "      <td>0.000000</td>\n",
       "      <td>81.578947</td>\n",
       "      <td>98.0</td>\n",
       "      <td>100.000000</td>\n",
       "      <td>100.000000</td>\n",
       "      <td>100.0</td>\n",
       "      <td>100.000000</td>\n",
       "      <td>...</td>\n",
       "      <td>33.922729</td>\n",
       "      <td>34.703214</td>\n",
       "      <td>35.01</td>\n",
       "      <td>35.01</td>\n",
       "      <td>35.01</td>\n",
       "      <td>35.01</td>\n",
       "      <td>0.0</td>\n",
       "      <td>0.0</td>\n",
       "      <td>0.0</td>\n",
       "      <td>0.0</td>\n",
       "    </tr>\n",
       "    <tr>\n",
       "      <th>1138838400</th>\n",
       "      <td>0.185192</td>\n",
       "      <td>15.789474</td>\n",
       "      <td>0.0</td>\n",
       "      <td>0.000000</td>\n",
       "      <td>81.578947</td>\n",
       "      <td>98.0</td>\n",
       "      <td>85.714286</td>\n",
       "      <td>97.368421</td>\n",
       "      <td>98.0</td>\n",
       "      <td>85.714286</td>\n",
       "      <td>...</td>\n",
       "      <td>33.959780</td>\n",
       "      <td>34.707143</td>\n",
       "      <td>34.63</td>\n",
       "      <td>34.63</td>\n",
       "      <td>34.63</td>\n",
       "      <td>34.63</td>\n",
       "      <td>0.0</td>\n",
       "      <td>0.0</td>\n",
       "      <td>0.0</td>\n",
       "      <td>0.0</td>\n",
       "    </tr>\n",
       "    <tr>\n",
       "      <th>1138924800</th>\n",
       "      <td>0.264615</td>\n",
       "      <td>13.157895</td>\n",
       "      <td>0.0</td>\n",
       "      <td>42.857143</td>\n",
       "      <td>81.578947</td>\n",
       "      <td>96.0</td>\n",
       "      <td>28.571429</td>\n",
       "      <td>94.736842</td>\n",
       "      <td>96.0</td>\n",
       "      <td>71.428571</td>\n",
       "      <td>...</td>\n",
       "      <td>33.996886</td>\n",
       "      <td>34.705357</td>\n",
       "      <td>34.67</td>\n",
       "      <td>34.67</td>\n",
       "      <td>34.67</td>\n",
       "      <td>34.67</td>\n",
       "      <td>0.0</td>\n",
       "      <td>0.0</td>\n",
       "      <td>0.0</td>\n",
       "      <td>0.0</td>\n",
       "    </tr>\n",
       "  </tbody>\n",
       "</table>\n",
       "<p>256 rows × 117 columns</p>\n",
       "</div>"
      ],
      "text/plain": [
       "            APO_12_26  AROONDOWN38  AROONDOWN50  AROONDOWN7  AROONOSC38  \\\n",
       "startsAt                                                                  \n",
       "1116892800   0.000000     0.000000          0.0    0.000000    0.000000   \n",
       "1116979200   0.000000     0.000000          0.0    0.000000    0.000000   \n",
       "1117065600   0.000000     0.000000          0.0    0.000000    0.000000   \n",
       "1117152000   0.000000     0.000000          0.0    0.000000    0.000000   \n",
       "1117238400   0.000000     0.000000          0.0    0.000000    0.000000   \n",
       "...               ...          ...          ...         ...         ...   \n",
       "1138579200  -0.034038    23.684211          0.0   14.285714   73.684211   \n",
       "1138665600   0.012885    21.052632          0.0    0.000000   78.947368   \n",
       "1138752000   0.107564    18.421053          2.0    0.000000   81.578947   \n",
       "1138838400   0.185192    15.789474          0.0    0.000000   81.578947   \n",
       "1138924800   0.264615    13.157895          0.0   42.857143   81.578947   \n",
       "\n",
       "            AROONOSC50   AROONOSC7   AROONUP38  AROONUP50    AROONUP7  ...  \\\n",
       "startsAt                                                               ...   \n",
       "1116892800         0.0    0.000000    0.000000        0.0    0.000000  ...   \n",
       "1116979200         0.0    0.000000    0.000000        0.0    0.000000  ...   \n",
       "1117065600         0.0    0.000000    0.000000        0.0    0.000000  ...   \n",
       "1117152000         0.0    0.000000    0.000000        0.0    0.000000  ...   \n",
       "1117238400         0.0    0.000000    0.000000        0.0    0.000000  ...   \n",
       "...                ...         ...         ...        ...         ...  ...   \n",
       "1138579200        98.0   71.428571   97.368421       98.0   85.714286  ...   \n",
       "1138665600       100.0  100.000000  100.000000      100.0  100.000000  ...   \n",
       "1138752000        98.0  100.000000  100.000000      100.0  100.000000  ...   \n",
       "1138838400        98.0   85.714286   97.368421       98.0   85.714286  ...   \n",
       "1138924800        96.0   28.571429   94.736842       96.0   71.428571  ...   \n",
       "\n",
       "              c_WMA50     c_WMA7  close   high    low   open  v_MFI38  \\\n",
       "startsAt                                                                \n",
       "1116892800   0.000000   0.000000  28.07  28.07  28.07  28.07      0.0   \n",
       "1116979200   0.000000   0.000000  28.12  28.12  28.12  28.12      0.0   \n",
       "1117065600   0.000000   0.000000  28.25  28.25  28.25  28.25      0.0   \n",
       "1117152000   0.000000   0.000000  28.28  28.28  28.28  28.28      0.0   \n",
       "1117238400   0.000000   0.000000  28.28  28.28  28.28  28.28      0.0   \n",
       "...               ...        ...    ...    ...    ...    ...      ...   \n",
       "1138579200  33.827859  34.455357  34.59  34.59  34.59  34.59      0.0   \n",
       "1138665600  33.869004  34.557857  34.65  34.65  34.65  34.65      0.0   \n",
       "1138752000  33.922729  34.703214  35.01  35.01  35.01  35.01      0.0   \n",
       "1138838400  33.959780  34.707143  34.63  34.63  34.63  34.63      0.0   \n",
       "1138924800  33.996886  34.705357  34.67  34.67  34.67  34.67      0.0   \n",
       "\n",
       "            v_MFI50  v_MFI7  volume  \n",
       "startsAt                             \n",
       "1116892800      0.0     0.0     0.0  \n",
       "1116979200      0.0     0.0     0.0  \n",
       "1117065600      0.0     0.0     0.0  \n",
       "1117152000      0.0     0.0     0.0  \n",
       "1117238400      0.0     0.0     0.0  \n",
       "...             ...     ...     ...  \n",
       "1138579200      0.0     0.0     0.0  \n",
       "1138665600      0.0     0.0     0.0  \n",
       "1138752000      0.0     0.0     0.0  \n",
       "1138838400      0.0     0.0     0.0  \n",
       "1138924800      0.0     0.0     0.0  \n",
       "\n",
       "[256 rows x 117 columns]"
      ]
     },
     "execution_count": 63,
     "metadata": {},
     "output_type": "execute_result"
    }
   ],
   "source": [
    "dfI1 = ic.CreateAllIndicatorsTable(df1, **DATA_STREAM_PARAMETERS)\n",
    "dfI1"
   ]
  },
  {
   "cell_type": "code",
   "execution_count": 64,
   "metadata": {
    "colab": {
     "base_uri": "https://localhost:8080/",
     "height": 455
    },
    "id": "UeG7DRDpCOkp",
    "outputId": "7e48da09-92bf-421f-d37e-56d8141c3823"
   },
   "outputs": [
    {
     "data": {
      "text/html": [
       "<div>\n",
       "<style scoped>\n",
       "    .dataframe tbody tr th:only-of-type {\n",
       "        vertical-align: middle;\n",
       "    }\n",
       "\n",
       "    .dataframe tbody tr th {\n",
       "        vertical-align: top;\n",
       "    }\n",
       "\n",
       "    .dataframe thead th {\n",
       "        text-align: right;\n",
       "    }\n",
       "</style>\n",
       "<table border=\"1\" class=\"dataframe\">\n",
       "  <thead>\n",
       "    <tr style=\"text-align: right;\">\n",
       "      <th></th>\n",
       "      <th>APO_12_26</th>\n",
       "      <th>AROONDOWN38</th>\n",
       "      <th>AROONDOWN50</th>\n",
       "      <th>AROONDOWN7</th>\n",
       "      <th>AROONOSC38</th>\n",
       "      <th>AROONOSC50</th>\n",
       "      <th>AROONOSC7</th>\n",
       "      <th>AROONUP38</th>\n",
       "      <th>AROONUP50</th>\n",
       "      <th>AROONUP7</th>\n",
       "      <th>...</th>\n",
       "      <th>c_WMA50</th>\n",
       "      <th>c_WMA7</th>\n",
       "      <th>close</th>\n",
       "      <th>high</th>\n",
       "      <th>low</th>\n",
       "      <th>open</th>\n",
       "      <th>v_MFI38</th>\n",
       "      <th>v_MFI50</th>\n",
       "      <th>v_MFI7</th>\n",
       "      <th>volume</th>\n",
       "    </tr>\n",
       "    <tr>\n",
       "      <th>startsAt</th>\n",
       "      <th></th>\n",
       "      <th></th>\n",
       "      <th></th>\n",
       "      <th></th>\n",
       "      <th></th>\n",
       "      <th></th>\n",
       "      <th></th>\n",
       "      <th></th>\n",
       "      <th></th>\n",
       "      <th></th>\n",
       "      <th></th>\n",
       "      <th></th>\n",
       "      <th></th>\n",
       "      <th></th>\n",
       "      <th></th>\n",
       "      <th></th>\n",
       "      <th></th>\n",
       "      <th></th>\n",
       "      <th></th>\n",
       "      <th></th>\n",
       "      <th></th>\n",
       "    </tr>\n",
       "  </thead>\n",
       "  <tbody>\n",
       "    <tr>\n",
       "      <th>1125446400</th>\n",
       "      <td>-0.188910</td>\n",
       "      <td>94.736842</td>\n",
       "      <td>0.0</td>\n",
       "      <td>71.428571</td>\n",
       "      <td>-50.000000</td>\n",
       "      <td>58.0</td>\n",
       "      <td>-71.428571</td>\n",
       "      <td>44.736842</td>\n",
       "      <td>58.0</td>\n",
       "      <td>0.000000</td>\n",
       "      <td>...</td>\n",
       "      <td>30.555663</td>\n",
       "      <td>30.195714</td>\n",
       "      <td>30.30</td>\n",
       "      <td>30.30</td>\n",
       "      <td>30.30</td>\n",
       "      <td>30.30</td>\n",
       "      <td>0.0</td>\n",
       "      <td>0.0</td>\n",
       "      <td>0.0</td>\n",
       "      <td>0.0</td>\n",
       "    </tr>\n",
       "    <tr>\n",
       "      <th>1125532800</th>\n",
       "      <td>-0.195897</td>\n",
       "      <td>92.105263</td>\n",
       "      <td>0.0</td>\n",
       "      <td>57.142857</td>\n",
       "      <td>-50.000000</td>\n",
       "      <td>56.0</td>\n",
       "      <td>42.857143</td>\n",
       "      <td>42.105263</td>\n",
       "      <td>56.0</td>\n",
       "      <td>100.000000</td>\n",
       "      <td>...</td>\n",
       "      <td>30.558643</td>\n",
       "      <td>30.299643</td>\n",
       "      <td>30.61</td>\n",
       "      <td>30.61</td>\n",
       "      <td>30.61</td>\n",
       "      <td>30.61</td>\n",
       "      <td>0.0</td>\n",
       "      <td>0.0</td>\n",
       "      <td>0.0</td>\n",
       "      <td>0.0</td>\n",
       "    </tr>\n",
       "    <tr>\n",
       "      <th>1125619200</th>\n",
       "      <td>-0.206474</td>\n",
       "      <td>89.473684</td>\n",
       "      <td>92.0</td>\n",
       "      <td>42.857143</td>\n",
       "      <td>-50.000000</td>\n",
       "      <td>-38.0</td>\n",
       "      <td>42.857143</td>\n",
       "      <td>39.473684</td>\n",
       "      <td>54.0</td>\n",
       "      <td>85.714286</td>\n",
       "      <td>...</td>\n",
       "      <td>30.558031</td>\n",
       "      <td>30.372143</td>\n",
       "      <td>30.53</td>\n",
       "      <td>30.53</td>\n",
       "      <td>30.53</td>\n",
       "      <td>30.53</td>\n",
       "      <td>0.0</td>\n",
       "      <td>0.0</td>\n",
       "      <td>0.0</td>\n",
       "      <td>0.0</td>\n",
       "    </tr>\n",
       "    <tr>\n",
       "      <th>1125705600</th>\n",
       "      <td>-0.231346</td>\n",
       "      <td>86.842105</td>\n",
       "      <td>90.0</td>\n",
       "      <td>28.571429</td>\n",
       "      <td>-50.000000</td>\n",
       "      <td>-38.0</td>\n",
       "      <td>42.857143</td>\n",
       "      <td>36.842105</td>\n",
       "      <td>52.0</td>\n",
       "      <td>71.428571</td>\n",
       "      <td>...</td>\n",
       "      <td>30.557169</td>\n",
       "      <td>30.431429</td>\n",
       "      <td>30.53</td>\n",
       "      <td>30.53</td>\n",
       "      <td>30.53</td>\n",
       "      <td>30.53</td>\n",
       "      <td>0.0</td>\n",
       "      <td>0.0</td>\n",
       "      <td>0.0</td>\n",
       "      <td>0.0</td>\n",
       "    </tr>\n",
       "    <tr>\n",
       "      <th>1125792000</th>\n",
       "      <td>-0.235385</td>\n",
       "      <td>84.210526</td>\n",
       "      <td>88.0</td>\n",
       "      <td>14.285714</td>\n",
       "      <td>-50.000000</td>\n",
       "      <td>-38.0</td>\n",
       "      <td>42.857143</td>\n",
       "      <td>34.210526</td>\n",
       "      <td>50.0</td>\n",
       "      <td>57.142857</td>\n",
       "      <td>...</td>\n",
       "      <td>30.556016</td>\n",
       "      <td>30.477500</td>\n",
       "      <td>30.53</td>\n",
       "      <td>30.53</td>\n",
       "      <td>30.53</td>\n",
       "      <td>30.53</td>\n",
       "      <td>0.0</td>\n",
       "      <td>0.0</td>\n",
       "      <td>0.0</td>\n",
       "      <td>0.0</td>\n",
       "    </tr>\n",
       "    <tr>\n",
       "      <th>...</th>\n",
       "      <td>...</td>\n",
       "      <td>...</td>\n",
       "      <td>...</td>\n",
       "      <td>...</td>\n",
       "      <td>...</td>\n",
       "      <td>...</td>\n",
       "      <td>...</td>\n",
       "      <td>...</td>\n",
       "      <td>...</td>\n",
       "      <td>...</td>\n",
       "      <td>...</td>\n",
       "      <td>...</td>\n",
       "      <td>...</td>\n",
       "      <td>...</td>\n",
       "      <td>...</td>\n",
       "      <td>...</td>\n",
       "      <td>...</td>\n",
       "      <td>...</td>\n",
       "      <td>...</td>\n",
       "      <td>...</td>\n",
       "      <td>...</td>\n",
       "    </tr>\n",
       "    <tr>\n",
       "      <th>1138492800</th>\n",
       "      <td>-0.101026</td>\n",
       "      <td>26.315789</td>\n",
       "      <td>2.0</td>\n",
       "      <td>28.571429</td>\n",
       "      <td>73.684211</td>\n",
       "      <td>98.0</td>\n",
       "      <td>71.428571</td>\n",
       "      <td>100.000000</td>\n",
       "      <td>100.0</td>\n",
       "      <td>100.000000</td>\n",
       "      <td>...</td>\n",
       "      <td>33.787506</td>\n",
       "      <td>34.324643</td>\n",
       "      <td>34.62</td>\n",
       "      <td>34.62</td>\n",
       "      <td>34.62</td>\n",
       "      <td>34.62</td>\n",
       "      <td>0.0</td>\n",
       "      <td>0.0</td>\n",
       "      <td>0.0</td>\n",
       "      <td>0.0</td>\n",
       "    </tr>\n",
       "    <tr>\n",
       "      <th>1138579200</th>\n",
       "      <td>-0.034038</td>\n",
       "      <td>23.684211</td>\n",
       "      <td>0.0</td>\n",
       "      <td>14.285714</td>\n",
       "      <td>73.684211</td>\n",
       "      <td>98.0</td>\n",
       "      <td>71.428571</td>\n",
       "      <td>97.368421</td>\n",
       "      <td>98.0</td>\n",
       "      <td>85.714286</td>\n",
       "      <td>...</td>\n",
       "      <td>33.827859</td>\n",
       "      <td>34.455357</td>\n",
       "      <td>34.59</td>\n",
       "      <td>34.59</td>\n",
       "      <td>34.59</td>\n",
       "      <td>34.59</td>\n",
       "      <td>0.0</td>\n",
       "      <td>0.0</td>\n",
       "      <td>0.0</td>\n",
       "      <td>0.0</td>\n",
       "    </tr>\n",
       "    <tr>\n",
       "      <th>1138665600</th>\n",
       "      <td>0.012885</td>\n",
       "      <td>21.052632</td>\n",
       "      <td>0.0</td>\n",
       "      <td>0.000000</td>\n",
       "      <td>78.947368</td>\n",
       "      <td>100.0</td>\n",
       "      <td>100.000000</td>\n",
       "      <td>100.000000</td>\n",
       "      <td>100.0</td>\n",
       "      <td>100.000000</td>\n",
       "      <td>...</td>\n",
       "      <td>33.869004</td>\n",
       "      <td>34.557857</td>\n",
       "      <td>34.65</td>\n",
       "      <td>34.65</td>\n",
       "      <td>34.65</td>\n",
       "      <td>34.65</td>\n",
       "      <td>0.0</td>\n",
       "      <td>0.0</td>\n",
       "      <td>0.0</td>\n",
       "      <td>0.0</td>\n",
       "    </tr>\n",
       "    <tr>\n",
       "      <th>1138752000</th>\n",
       "      <td>0.107564</td>\n",
       "      <td>18.421053</td>\n",
       "      <td>2.0</td>\n",
       "      <td>0.000000</td>\n",
       "      <td>81.578947</td>\n",
       "      <td>98.0</td>\n",
       "      <td>100.000000</td>\n",
       "      <td>100.000000</td>\n",
       "      <td>100.0</td>\n",
       "      <td>100.000000</td>\n",
       "      <td>...</td>\n",
       "      <td>33.922729</td>\n",
       "      <td>34.703214</td>\n",
       "      <td>35.01</td>\n",
       "      <td>35.01</td>\n",
       "      <td>35.01</td>\n",
       "      <td>35.01</td>\n",
       "      <td>0.0</td>\n",
       "      <td>0.0</td>\n",
       "      <td>0.0</td>\n",
       "      <td>0.0</td>\n",
       "    </tr>\n",
       "    <tr>\n",
       "      <th>1138838400</th>\n",
       "      <td>0.185192</td>\n",
       "      <td>15.789474</td>\n",
       "      <td>0.0</td>\n",
       "      <td>0.000000</td>\n",
       "      <td>81.578947</td>\n",
       "      <td>98.0</td>\n",
       "      <td>85.714286</td>\n",
       "      <td>97.368421</td>\n",
       "      <td>98.0</td>\n",
       "      <td>85.714286</td>\n",
       "      <td>...</td>\n",
       "      <td>33.959780</td>\n",
       "      <td>34.707143</td>\n",
       "      <td>34.63</td>\n",
       "      <td>34.63</td>\n",
       "      <td>34.63</td>\n",
       "      <td>34.63</td>\n",
       "      <td>0.0</td>\n",
       "      <td>0.0</td>\n",
       "      <td>0.0</td>\n",
       "      <td>0.0</td>\n",
       "    </tr>\n",
       "  </tbody>\n",
       "</table>\n",
       "<p>156 rows × 117 columns</p>\n",
       "</div>"
      ],
      "text/plain": [
       "            APO_12_26  AROONDOWN38  AROONDOWN50  AROONDOWN7  AROONOSC38  \\\n",
       "startsAt                                                                  \n",
       "1125446400  -0.188910    94.736842          0.0   71.428571  -50.000000   \n",
       "1125532800  -0.195897    92.105263          0.0   57.142857  -50.000000   \n",
       "1125619200  -0.206474    89.473684         92.0   42.857143  -50.000000   \n",
       "1125705600  -0.231346    86.842105         90.0   28.571429  -50.000000   \n",
       "1125792000  -0.235385    84.210526         88.0   14.285714  -50.000000   \n",
       "...               ...          ...          ...         ...         ...   \n",
       "1138492800  -0.101026    26.315789          2.0   28.571429   73.684211   \n",
       "1138579200  -0.034038    23.684211          0.0   14.285714   73.684211   \n",
       "1138665600   0.012885    21.052632          0.0    0.000000   78.947368   \n",
       "1138752000   0.107564    18.421053          2.0    0.000000   81.578947   \n",
       "1138838400   0.185192    15.789474          0.0    0.000000   81.578947   \n",
       "\n",
       "            AROONOSC50   AROONOSC7   AROONUP38  AROONUP50    AROONUP7  ...  \\\n",
       "startsAt                                                               ...   \n",
       "1125446400        58.0  -71.428571   44.736842       58.0    0.000000  ...   \n",
       "1125532800        56.0   42.857143   42.105263       56.0  100.000000  ...   \n",
       "1125619200       -38.0   42.857143   39.473684       54.0   85.714286  ...   \n",
       "1125705600       -38.0   42.857143   36.842105       52.0   71.428571  ...   \n",
       "1125792000       -38.0   42.857143   34.210526       50.0   57.142857  ...   \n",
       "...                ...         ...         ...        ...         ...  ...   \n",
       "1138492800        98.0   71.428571  100.000000      100.0  100.000000  ...   \n",
       "1138579200        98.0   71.428571   97.368421       98.0   85.714286  ...   \n",
       "1138665600       100.0  100.000000  100.000000      100.0  100.000000  ...   \n",
       "1138752000        98.0  100.000000  100.000000      100.0  100.000000  ...   \n",
       "1138838400        98.0   85.714286   97.368421       98.0   85.714286  ...   \n",
       "\n",
       "              c_WMA50     c_WMA7  close   high    low   open  v_MFI38  \\\n",
       "startsAt                                                                \n",
       "1125446400  30.555663  30.195714  30.30  30.30  30.30  30.30      0.0   \n",
       "1125532800  30.558643  30.299643  30.61  30.61  30.61  30.61      0.0   \n",
       "1125619200  30.558031  30.372143  30.53  30.53  30.53  30.53      0.0   \n",
       "1125705600  30.557169  30.431429  30.53  30.53  30.53  30.53      0.0   \n",
       "1125792000  30.556016  30.477500  30.53  30.53  30.53  30.53      0.0   \n",
       "...               ...        ...    ...    ...    ...    ...      ...   \n",
       "1138492800  33.787506  34.324643  34.62  34.62  34.62  34.62      0.0   \n",
       "1138579200  33.827859  34.455357  34.59  34.59  34.59  34.59      0.0   \n",
       "1138665600  33.869004  34.557857  34.65  34.65  34.65  34.65      0.0   \n",
       "1138752000  33.922729  34.703214  35.01  35.01  35.01  35.01      0.0   \n",
       "1138838400  33.959780  34.707143  34.63  34.63  34.63  34.63      0.0   \n",
       "\n",
       "            v_MFI50  v_MFI7  volume  \n",
       "startsAt                             \n",
       "1125446400      0.0     0.0     0.0  \n",
       "1125532800      0.0     0.0     0.0  \n",
       "1125619200      0.0     0.0     0.0  \n",
       "1125705600      0.0     0.0     0.0  \n",
       "1125792000      0.0     0.0     0.0  \n",
       "...             ...     ...     ...  \n",
       "1138492800      0.0     0.0     0.0  \n",
       "1138579200      0.0     0.0     0.0  \n",
       "1138665600      0.0     0.0     0.0  \n",
       "1138752000      0.0     0.0     0.0  \n",
       "1138838400      0.0     0.0     0.0  \n",
       "\n",
       "[156 rows x 117 columns]"
      ]
     },
     "execution_count": 64,
     "metadata": {},
     "output_type": "execute_result"
    }
   ],
   "source": [
    "dfI0c = dfI0.iloc[(RING_IN_PERIOD):]\n",
    "dfI0c"
   ]
  },
  {
   "cell_type": "code",
   "execution_count": 65,
   "metadata": {
    "colab": {
     "base_uri": "https://localhost:8080/",
     "height": 455
    },
    "id": "7eqAohyTClbu",
    "outputId": "3029039a-37e3-4a37-8642-976320def2dc"
   },
   "outputs": [
    {
     "data": {
      "text/html": [
       "<div>\n",
       "<style scoped>\n",
       "    .dataframe tbody tr th:only-of-type {\n",
       "        vertical-align: middle;\n",
       "    }\n",
       "\n",
       "    .dataframe tbody tr th {\n",
       "        vertical-align: top;\n",
       "    }\n",
       "\n",
       "    .dataframe thead th {\n",
       "        text-align: right;\n",
       "    }\n",
       "</style>\n",
       "<table border=\"1\" class=\"dataframe\">\n",
       "  <thead>\n",
       "    <tr style=\"text-align: right;\">\n",
       "      <th></th>\n",
       "      <th>APO_12_26</th>\n",
       "      <th>AROONDOWN38</th>\n",
       "      <th>AROONDOWN50</th>\n",
       "      <th>AROONDOWN7</th>\n",
       "      <th>AROONOSC38</th>\n",
       "      <th>AROONOSC50</th>\n",
       "      <th>AROONOSC7</th>\n",
       "      <th>AROONUP38</th>\n",
       "      <th>AROONUP50</th>\n",
       "      <th>AROONUP7</th>\n",
       "      <th>...</th>\n",
       "      <th>c_WMA50</th>\n",
       "      <th>c_WMA7</th>\n",
       "      <th>close</th>\n",
       "      <th>high</th>\n",
       "      <th>low</th>\n",
       "      <th>open</th>\n",
       "      <th>v_MFI38</th>\n",
       "      <th>v_MFI50</th>\n",
       "      <th>v_MFI7</th>\n",
       "      <th>volume</th>\n",
       "    </tr>\n",
       "    <tr>\n",
       "      <th>startsAt</th>\n",
       "      <th></th>\n",
       "      <th></th>\n",
       "      <th></th>\n",
       "      <th></th>\n",
       "      <th></th>\n",
       "      <th></th>\n",
       "      <th></th>\n",
       "      <th></th>\n",
       "      <th></th>\n",
       "      <th></th>\n",
       "      <th></th>\n",
       "      <th></th>\n",
       "      <th></th>\n",
       "      <th></th>\n",
       "      <th></th>\n",
       "      <th></th>\n",
       "      <th></th>\n",
       "      <th></th>\n",
       "      <th></th>\n",
       "      <th></th>\n",
       "      <th></th>\n",
       "    </tr>\n",
       "  </thead>\n",
       "  <tbody>\n",
       "    <tr>\n",
       "      <th>1125532800</th>\n",
       "      <td>-0.195897</td>\n",
       "      <td>92.105263</td>\n",
       "      <td>0.0</td>\n",
       "      <td>57.142857</td>\n",
       "      <td>-50.000000</td>\n",
       "      <td>56.0</td>\n",
       "      <td>42.857143</td>\n",
       "      <td>42.105263</td>\n",
       "      <td>56.0</td>\n",
       "      <td>100.000000</td>\n",
       "      <td>...</td>\n",
       "      <td>30.558643</td>\n",
       "      <td>30.299643</td>\n",
       "      <td>30.61</td>\n",
       "      <td>30.61</td>\n",
       "      <td>30.61</td>\n",
       "      <td>30.61</td>\n",
       "      <td>0.0</td>\n",
       "      <td>0.0</td>\n",
       "      <td>0.0</td>\n",
       "      <td>0.0</td>\n",
       "    </tr>\n",
       "    <tr>\n",
       "      <th>1125619200</th>\n",
       "      <td>-0.206474</td>\n",
       "      <td>89.473684</td>\n",
       "      <td>92.0</td>\n",
       "      <td>42.857143</td>\n",
       "      <td>-50.000000</td>\n",
       "      <td>-38.0</td>\n",
       "      <td>42.857143</td>\n",
       "      <td>39.473684</td>\n",
       "      <td>54.0</td>\n",
       "      <td>85.714286</td>\n",
       "      <td>...</td>\n",
       "      <td>30.558031</td>\n",
       "      <td>30.372143</td>\n",
       "      <td>30.53</td>\n",
       "      <td>30.53</td>\n",
       "      <td>30.53</td>\n",
       "      <td>30.53</td>\n",
       "      <td>0.0</td>\n",
       "      <td>0.0</td>\n",
       "      <td>0.0</td>\n",
       "      <td>0.0</td>\n",
       "    </tr>\n",
       "    <tr>\n",
       "      <th>1125705600</th>\n",
       "      <td>-0.231346</td>\n",
       "      <td>86.842105</td>\n",
       "      <td>90.0</td>\n",
       "      <td>28.571429</td>\n",
       "      <td>-50.000000</td>\n",
       "      <td>-38.0</td>\n",
       "      <td>42.857143</td>\n",
       "      <td>36.842105</td>\n",
       "      <td>52.0</td>\n",
       "      <td>71.428571</td>\n",
       "      <td>...</td>\n",
       "      <td>30.557169</td>\n",
       "      <td>30.431429</td>\n",
       "      <td>30.53</td>\n",
       "      <td>30.53</td>\n",
       "      <td>30.53</td>\n",
       "      <td>30.53</td>\n",
       "      <td>0.0</td>\n",
       "      <td>0.0</td>\n",
       "      <td>0.0</td>\n",
       "      <td>0.0</td>\n",
       "    </tr>\n",
       "    <tr>\n",
       "      <th>1125792000</th>\n",
       "      <td>-0.235385</td>\n",
       "      <td>84.210526</td>\n",
       "      <td>88.0</td>\n",
       "      <td>14.285714</td>\n",
       "      <td>-50.000000</td>\n",
       "      <td>-38.0</td>\n",
       "      <td>42.857143</td>\n",
       "      <td>34.210526</td>\n",
       "      <td>50.0</td>\n",
       "      <td>57.142857</td>\n",
       "      <td>...</td>\n",
       "      <td>30.556016</td>\n",
       "      <td>30.477500</td>\n",
       "      <td>30.53</td>\n",
       "      <td>30.53</td>\n",
       "      <td>30.53</td>\n",
       "      <td>30.53</td>\n",
       "      <td>0.0</td>\n",
       "      <td>0.0</td>\n",
       "      <td>0.0</td>\n",
       "      <td>0.0</td>\n",
       "    </tr>\n",
       "    <tr>\n",
       "      <th>1125878400</th>\n",
       "      <td>-0.201603</td>\n",
       "      <td>81.578947</td>\n",
       "      <td>86.0</td>\n",
       "      <td>0.000000</td>\n",
       "      <td>-50.000000</td>\n",
       "      <td>-38.0</td>\n",
       "      <td>100.000000</td>\n",
       "      <td>31.578947</td>\n",
       "      <td>48.0</td>\n",
       "      <td>100.000000</td>\n",
       "      <td>...</td>\n",
       "      <td>30.560847</td>\n",
       "      <td>30.550357</td>\n",
       "      <td>30.69</td>\n",
       "      <td>30.69</td>\n",
       "      <td>30.69</td>\n",
       "      <td>30.69</td>\n",
       "      <td>0.0</td>\n",
       "      <td>0.0</td>\n",
       "      <td>0.0</td>\n",
       "      <td>0.0</td>\n",
       "    </tr>\n",
       "    <tr>\n",
       "      <th>...</th>\n",
       "      <td>...</td>\n",
       "      <td>...</td>\n",
       "      <td>...</td>\n",
       "      <td>...</td>\n",
       "      <td>...</td>\n",
       "      <td>...</td>\n",
       "      <td>...</td>\n",
       "      <td>...</td>\n",
       "      <td>...</td>\n",
       "      <td>...</td>\n",
       "      <td>...</td>\n",
       "      <td>...</td>\n",
       "      <td>...</td>\n",
       "      <td>...</td>\n",
       "      <td>...</td>\n",
       "      <td>...</td>\n",
       "      <td>...</td>\n",
       "      <td>...</td>\n",
       "      <td>...</td>\n",
       "      <td>...</td>\n",
       "      <td>...</td>\n",
       "    </tr>\n",
       "    <tr>\n",
       "      <th>1138579200</th>\n",
       "      <td>-0.034038</td>\n",
       "      <td>23.684211</td>\n",
       "      <td>0.0</td>\n",
       "      <td>14.285714</td>\n",
       "      <td>73.684211</td>\n",
       "      <td>98.0</td>\n",
       "      <td>71.428571</td>\n",
       "      <td>97.368421</td>\n",
       "      <td>98.0</td>\n",
       "      <td>85.714286</td>\n",
       "      <td>...</td>\n",
       "      <td>33.827859</td>\n",
       "      <td>34.455357</td>\n",
       "      <td>34.59</td>\n",
       "      <td>34.59</td>\n",
       "      <td>34.59</td>\n",
       "      <td>34.59</td>\n",
       "      <td>0.0</td>\n",
       "      <td>0.0</td>\n",
       "      <td>0.0</td>\n",
       "      <td>0.0</td>\n",
       "    </tr>\n",
       "    <tr>\n",
       "      <th>1138665600</th>\n",
       "      <td>0.012885</td>\n",
       "      <td>21.052632</td>\n",
       "      <td>0.0</td>\n",
       "      <td>0.000000</td>\n",
       "      <td>78.947368</td>\n",
       "      <td>100.0</td>\n",
       "      <td>100.000000</td>\n",
       "      <td>100.000000</td>\n",
       "      <td>100.0</td>\n",
       "      <td>100.000000</td>\n",
       "      <td>...</td>\n",
       "      <td>33.869004</td>\n",
       "      <td>34.557857</td>\n",
       "      <td>34.65</td>\n",
       "      <td>34.65</td>\n",
       "      <td>34.65</td>\n",
       "      <td>34.65</td>\n",
       "      <td>0.0</td>\n",
       "      <td>0.0</td>\n",
       "      <td>0.0</td>\n",
       "      <td>0.0</td>\n",
       "    </tr>\n",
       "    <tr>\n",
       "      <th>1138752000</th>\n",
       "      <td>0.107564</td>\n",
       "      <td>18.421053</td>\n",
       "      <td>2.0</td>\n",
       "      <td>0.000000</td>\n",
       "      <td>81.578947</td>\n",
       "      <td>98.0</td>\n",
       "      <td>100.000000</td>\n",
       "      <td>100.000000</td>\n",
       "      <td>100.0</td>\n",
       "      <td>100.000000</td>\n",
       "      <td>...</td>\n",
       "      <td>33.922729</td>\n",
       "      <td>34.703214</td>\n",
       "      <td>35.01</td>\n",
       "      <td>35.01</td>\n",
       "      <td>35.01</td>\n",
       "      <td>35.01</td>\n",
       "      <td>0.0</td>\n",
       "      <td>0.0</td>\n",
       "      <td>0.0</td>\n",
       "      <td>0.0</td>\n",
       "    </tr>\n",
       "    <tr>\n",
       "      <th>1138838400</th>\n",
       "      <td>0.185192</td>\n",
       "      <td>15.789474</td>\n",
       "      <td>0.0</td>\n",
       "      <td>0.000000</td>\n",
       "      <td>81.578947</td>\n",
       "      <td>98.0</td>\n",
       "      <td>85.714286</td>\n",
       "      <td>97.368421</td>\n",
       "      <td>98.0</td>\n",
       "      <td>85.714286</td>\n",
       "      <td>...</td>\n",
       "      <td>33.959780</td>\n",
       "      <td>34.707143</td>\n",
       "      <td>34.63</td>\n",
       "      <td>34.63</td>\n",
       "      <td>34.63</td>\n",
       "      <td>34.63</td>\n",
       "      <td>0.0</td>\n",
       "      <td>0.0</td>\n",
       "      <td>0.0</td>\n",
       "      <td>0.0</td>\n",
       "    </tr>\n",
       "    <tr>\n",
       "      <th>1138924800</th>\n",
       "      <td>0.264615</td>\n",
       "      <td>13.157895</td>\n",
       "      <td>0.0</td>\n",
       "      <td>42.857143</td>\n",
       "      <td>81.578947</td>\n",
       "      <td>96.0</td>\n",
       "      <td>28.571429</td>\n",
       "      <td>94.736842</td>\n",
       "      <td>96.0</td>\n",
       "      <td>71.428571</td>\n",
       "      <td>...</td>\n",
       "      <td>33.996886</td>\n",
       "      <td>34.705357</td>\n",
       "      <td>34.67</td>\n",
       "      <td>34.67</td>\n",
       "      <td>34.67</td>\n",
       "      <td>34.67</td>\n",
       "      <td>0.0</td>\n",
       "      <td>0.0</td>\n",
       "      <td>0.0</td>\n",
       "      <td>0.0</td>\n",
       "    </tr>\n",
       "  </tbody>\n",
       "</table>\n",
       "<p>156 rows × 117 columns</p>\n",
       "</div>"
      ],
      "text/plain": [
       "            APO_12_26  AROONDOWN38  AROONDOWN50  AROONDOWN7  AROONOSC38  \\\n",
       "startsAt                                                                  \n",
       "1125532800  -0.195897    92.105263          0.0   57.142857  -50.000000   \n",
       "1125619200  -0.206474    89.473684         92.0   42.857143  -50.000000   \n",
       "1125705600  -0.231346    86.842105         90.0   28.571429  -50.000000   \n",
       "1125792000  -0.235385    84.210526         88.0   14.285714  -50.000000   \n",
       "1125878400  -0.201603    81.578947         86.0    0.000000  -50.000000   \n",
       "...               ...          ...          ...         ...         ...   \n",
       "1138579200  -0.034038    23.684211          0.0   14.285714   73.684211   \n",
       "1138665600   0.012885    21.052632          0.0    0.000000   78.947368   \n",
       "1138752000   0.107564    18.421053          2.0    0.000000   81.578947   \n",
       "1138838400   0.185192    15.789474          0.0    0.000000   81.578947   \n",
       "1138924800   0.264615    13.157895          0.0   42.857143   81.578947   \n",
       "\n",
       "            AROONOSC50   AROONOSC7   AROONUP38  AROONUP50    AROONUP7  ...  \\\n",
       "startsAt                                                               ...   \n",
       "1125532800        56.0   42.857143   42.105263       56.0  100.000000  ...   \n",
       "1125619200       -38.0   42.857143   39.473684       54.0   85.714286  ...   \n",
       "1125705600       -38.0   42.857143   36.842105       52.0   71.428571  ...   \n",
       "1125792000       -38.0   42.857143   34.210526       50.0   57.142857  ...   \n",
       "1125878400       -38.0  100.000000   31.578947       48.0  100.000000  ...   \n",
       "...                ...         ...         ...        ...         ...  ...   \n",
       "1138579200        98.0   71.428571   97.368421       98.0   85.714286  ...   \n",
       "1138665600       100.0  100.000000  100.000000      100.0  100.000000  ...   \n",
       "1138752000        98.0  100.000000  100.000000      100.0  100.000000  ...   \n",
       "1138838400        98.0   85.714286   97.368421       98.0   85.714286  ...   \n",
       "1138924800        96.0   28.571429   94.736842       96.0   71.428571  ...   \n",
       "\n",
       "              c_WMA50     c_WMA7  close   high    low   open  v_MFI38  \\\n",
       "startsAt                                                                \n",
       "1125532800  30.558643  30.299643  30.61  30.61  30.61  30.61      0.0   \n",
       "1125619200  30.558031  30.372143  30.53  30.53  30.53  30.53      0.0   \n",
       "1125705600  30.557169  30.431429  30.53  30.53  30.53  30.53      0.0   \n",
       "1125792000  30.556016  30.477500  30.53  30.53  30.53  30.53      0.0   \n",
       "1125878400  30.560847  30.550357  30.69  30.69  30.69  30.69      0.0   \n",
       "...               ...        ...    ...    ...    ...    ...      ...   \n",
       "1138579200  33.827859  34.455357  34.59  34.59  34.59  34.59      0.0   \n",
       "1138665600  33.869004  34.557857  34.65  34.65  34.65  34.65      0.0   \n",
       "1138752000  33.922729  34.703214  35.01  35.01  35.01  35.01      0.0   \n",
       "1138838400  33.959780  34.707143  34.63  34.63  34.63  34.63      0.0   \n",
       "1138924800  33.996886  34.705357  34.67  34.67  34.67  34.67      0.0   \n",
       "\n",
       "            v_MFI50  v_MFI7  volume  \n",
       "startsAt                             \n",
       "1125532800      0.0     0.0     0.0  \n",
       "1125619200      0.0     0.0     0.0  \n",
       "1125705600      0.0     0.0     0.0  \n",
       "1125792000      0.0     0.0     0.0  \n",
       "1125878400      0.0     0.0     0.0  \n",
       "...             ...     ...     ...  \n",
       "1138579200      0.0     0.0     0.0  \n",
       "1138665600      0.0     0.0     0.0  \n",
       "1138752000      0.0     0.0     0.0  \n",
       "1138838400      0.0     0.0     0.0  \n",
       "1138924800      0.0     0.0     0.0  \n",
       "\n",
       "[156 rows x 117 columns]"
      ]
     },
     "execution_count": 65,
     "metadata": {},
     "output_type": "execute_result"
    }
   ],
   "source": [
    "dfI1c = dfI1.iloc[(RING_IN_PERIOD):]\n",
    "dfI1c"
   ]
  },
  {
   "cell_type": "code",
   "execution_count": 66,
   "metadata": {
    "colab": {
     "base_uri": "https://localhost:8080/",
     "height": 848
    },
    "id": "WLmOzpsZEfb5",
    "outputId": "00f466f7-b2ae-483e-c4c4-9b725c86cff6"
   },
   "outputs": [
    {
     "data": {
      "image/png": "[encoded data removed]",
      "text/plain": [
       "<Figure size 2000x1000 with 1 Axes>"
      ]
     },
     "metadata": {},
     "output_type": "display_data"
    }
   ],
   "source": [
    "fig, ax1 = plt.subplots(figsize=(20,10))\n",
    "\n",
    "# x_datetimes = [datetime.datetime.fromtimestamp(ts) for ts in tickDFcropped.loc[:,'open'].index]\n",
    "\n",
    "# _ = ax1.plot(x_datetimes, tickDFcropped.loc[:,'open'].values, color=\"black\", label=\"Price\", linewidth=2)\n",
    "# _ = ax1.plot((dfI1c[\"FASTDRSI\"] - dfI0c[\"FASTDRSI\"]) / dfI0c[\"FASTDRSI\"])\n",
    "# _ = ax1.plot((dfI1c[\"FASTDRSI\"] - dfI0c[\"FASTDRSI\"]))\n",
    "_ = ax1.plot(dfI0[\"FASTDRSI\"])\n",
    "_ = ax1.plot(dfI1[\"FASTDRSI\"])\n",
    "\n",
    "# ax1.set_ylim(-0.01,0.0)"
   ]
  },
  {
   "cell_type": "code",
   "execution_count": 67,
   "metadata": {
    "tags": []
   },
   "outputs": [
    {
     "ename": "KeyError",
     "evalue": "'RSI50'",
     "output_type": "error",
     "traceback": [
      "\u001b[0;31m---------------------------------------------------------------------------\u001b[0m",
      "\u001b[0;31mKeyError\u001b[0m                                  Traceback (most recent call last)",
      "File \u001b[0;32m/opt/conda/lib/python3.10/site-packages/pandas/core/indexes/base.py:3802\u001b[0m, in \u001b[0;36mIndex.get_loc\u001b[0;34m(self, key, method, tolerance)\u001b[0m\n\u001b[1;32m   3801\u001b[0m \u001b[38;5;28;01mtry\u001b[39;00m:\n\u001b[0;32m-> 3802\u001b[0m     \u001b[38;5;28;01mreturn\u001b[39;00m \u001b[38;5;28;43mself\u001b[39;49m\u001b[38;5;241;43m.\u001b[39;49m\u001b[43m_engine\u001b[49m\u001b[38;5;241;43m.\u001b[39;49m\u001b[43mget_loc\u001b[49m\u001b[43m(\u001b[49m\u001b[43mcasted_key\u001b[49m\u001b[43m)\u001b[49m\n\u001b[1;32m   3803\u001b[0m \u001b[38;5;28;01mexcept\u001b[39;00m \u001b[38;5;167;01mKeyError\u001b[39;00m \u001b[38;5;28;01mas\u001b[39;00m err:\n",
      "File \u001b[0;32m/opt/conda/lib/python3.10/site-packages/pandas/_libs/index.pyx:138\u001b[0m, in \u001b[0;36mpandas._libs.index.IndexEngine.get_loc\u001b[0;34m()\u001b[0m\n",
      "File \u001b[0;32m/opt/conda/lib/python3.10/site-packages/pandas/_libs/index.pyx:165\u001b[0m, in \u001b[0;36mpandas._libs.index.IndexEngine.get_loc\u001b[0;34m()\u001b[0m\n",
      "File \u001b[0;32mpandas/_libs/hashtable_class_helper.pxi:5745\u001b[0m, in \u001b[0;36mpandas._libs.hashtable.PyObjectHashTable.get_item\u001b[0;34m()\u001b[0m\n",
      "File \u001b[0;32mpandas/_libs/hashtable_class_helper.pxi:5753\u001b[0m, in \u001b[0;36mpandas._libs.hashtable.PyObjectHashTable.get_item\u001b[0;34m()\u001b[0m\n",
      "\u001b[0;31mKeyError\u001b[0m: 'RSI50'",
      "\nThe above exception was the direct cause of the following exception:\n",
      "\u001b[0;31mKeyError\u001b[0m                                  Traceback (most recent call last)",
      "Cell \u001b[0;32mIn[67], line 8\u001b[0m\n\u001b[1;32m      1\u001b[0m fig, ax1 \u001b[38;5;241m=\u001b[39m plt\u001b[38;5;241m.\u001b[39msubplots(figsize\u001b[38;5;241m=\u001b[39m(\u001b[38;5;241m20\u001b[39m,\u001b[38;5;241m10\u001b[39m))\n\u001b[1;32m      3\u001b[0m \u001b[38;5;66;03m# x_datetimes = [datetime.datetime.fromtimestamp(ts) for ts in tickDFcropped.loc[:,'open'].index]\u001b[39;00m\n\u001b[1;32m      4\u001b[0m \n\u001b[1;32m      5\u001b[0m \u001b[38;5;66;03m# _ = ax1.plot(x_datetimes, tickDFcropped.loc[:,'open'].values, color=\"black\", label=\"Price\", linewidth=2)\u001b[39;00m\n\u001b[1;32m      6\u001b[0m \u001b[38;5;66;03m# _ = ax1.plot((dfI1c[\"FASTDRSI\"] - dfI0c[\"FASTDRSI\"]) / dfI0c[\"FASTDRSI\"])\u001b[39;00m\n\u001b[1;32m      7\u001b[0m \u001b[38;5;66;03m# _ = ax1.plot((dfI1c[\"FASTDRSI\"] - dfI0c[\"FASTDRSI\"]))\u001b[39;00m\n\u001b[0;32m----> 8\u001b[0m _ \u001b[38;5;241m=\u001b[39m ax1\u001b[38;5;241m.\u001b[39mplot(\u001b[43mdfI0c\u001b[49m\u001b[38;5;241;43m.\u001b[39;49m\u001b[43miloc\u001b[49m\u001b[43m[\u001b[49m\u001b[38;5;241;43m1\u001b[39;49m\u001b[43m:\u001b[49m\u001b[43m,\u001b[49m\u001b[43m:\u001b[49m\u001b[43m]\u001b[49m\u001b[43m[\u001b[49m\u001b[38;5;124;43m\"\u001b[39;49m\u001b[38;5;124;43mRSI50\u001b[39;49m\u001b[38;5;124;43m\"\u001b[39;49m\u001b[43m]\u001b[49m\u001b[38;5;241m.\u001b[39mvalues)\n\u001b[1;32m      9\u001b[0m _ \u001b[38;5;241m=\u001b[39m ax1\u001b[38;5;241m.\u001b[39mplot(dfI1c\u001b[38;5;241m.\u001b[39miloc[:\u001b[38;5;241m-\u001b[39m\u001b[38;5;241m1\u001b[39m,:][\u001b[38;5;124m\"\u001b[39m\u001b[38;5;124mRSI50\u001b[39m\u001b[38;5;124m\"\u001b[39m]\u001b[38;5;241m.\u001b[39mvalues)\n\u001b[1;32m     11\u001b[0m ax2 \u001b[38;5;241m=\u001b[39m ax1\u001b[38;5;241m.\u001b[39mtwinx()\n",
      "File \u001b[0;32m/opt/conda/lib/python3.10/site-packages/pandas/core/frame.py:3807\u001b[0m, in \u001b[0;36mDataFrame.__getitem__\u001b[0;34m(self, key)\u001b[0m\n\u001b[1;32m   3805\u001b[0m \u001b[38;5;28;01mif\u001b[39;00m \u001b[38;5;28mself\u001b[39m\u001b[38;5;241m.\u001b[39mcolumns\u001b[38;5;241m.\u001b[39mnlevels \u001b[38;5;241m>\u001b[39m \u001b[38;5;241m1\u001b[39m:\n\u001b[1;32m   3806\u001b[0m     \u001b[38;5;28;01mreturn\u001b[39;00m \u001b[38;5;28mself\u001b[39m\u001b[38;5;241m.\u001b[39m_getitem_multilevel(key)\n\u001b[0;32m-> 3807\u001b[0m indexer \u001b[38;5;241m=\u001b[39m \u001b[38;5;28;43mself\u001b[39;49m\u001b[38;5;241;43m.\u001b[39;49m\u001b[43mcolumns\u001b[49m\u001b[38;5;241;43m.\u001b[39;49m\u001b[43mget_loc\u001b[49m\u001b[43m(\u001b[49m\u001b[43mkey\u001b[49m\u001b[43m)\u001b[49m\n\u001b[1;32m   3808\u001b[0m \u001b[38;5;28;01mif\u001b[39;00m is_integer(indexer):\n\u001b[1;32m   3809\u001b[0m     indexer \u001b[38;5;241m=\u001b[39m [indexer]\n",
      "File \u001b[0;32m/opt/conda/lib/python3.10/site-packages/pandas/core/indexes/base.py:3804\u001b[0m, in \u001b[0;36mIndex.get_loc\u001b[0;34m(self, key, method, tolerance)\u001b[0m\n\u001b[1;32m   3802\u001b[0m     \u001b[38;5;28;01mreturn\u001b[39;00m \u001b[38;5;28mself\u001b[39m\u001b[38;5;241m.\u001b[39m_engine\u001b[38;5;241m.\u001b[39mget_loc(casted_key)\n\u001b[1;32m   3803\u001b[0m \u001b[38;5;28;01mexcept\u001b[39;00m \u001b[38;5;167;01mKeyError\u001b[39;00m \u001b[38;5;28;01mas\u001b[39;00m err:\n\u001b[0;32m-> 3804\u001b[0m     \u001b[38;5;28;01mraise\u001b[39;00m \u001b[38;5;167;01mKeyError\u001b[39;00m(key) \u001b[38;5;28;01mfrom\u001b[39;00m \u001b[38;5;21;01merr\u001b[39;00m\n\u001b[1;32m   3805\u001b[0m \u001b[38;5;28;01mexcept\u001b[39;00m \u001b[38;5;167;01mTypeError\u001b[39;00m:\n\u001b[1;32m   3806\u001b[0m     \u001b[38;5;66;03m# If we have a listlike key, _check_indexing_error will raise\u001b[39;00m\n\u001b[1;32m   3807\u001b[0m     \u001b[38;5;66;03m#  InvalidIndexError. Otherwise we fall through and re-raise\u001b[39;00m\n\u001b[1;32m   3808\u001b[0m     \u001b[38;5;66;03m#  the TypeError.\u001b[39;00m\n\u001b[1;32m   3809\u001b[0m     \u001b[38;5;28mself\u001b[39m\u001b[38;5;241m.\u001b[39m_check_indexing_error(key)\n",
      "\u001b[0;31mKeyError\u001b[0m: 'RSI50'"
     ]
    },
    {
     "data": {
      "image/png": "[encoded data removed]",
      "text/plain": [
       "<Figure size 2000x1000 with 1 Axes>"
      ]
     },
     "metadata": {},
     "output_type": "display_data"
    }
   ],
   "source": [
    "fig, ax1 = plt.subplots(figsize=(20,10))\n",
    "\n",
    "# x_datetimes = [datetime.datetime.fromtimestamp(ts) for ts in tickDFcropped.loc[:,'open'].index]\n",
    "\n",
    "# _ = ax1.plot(x_datetimes, tickDFcropped.loc[:,'open'].values, color=\"black\", label=\"Price\", linewidth=2)\n",
    "# _ = ax1.plot((dfI1c[\"FASTDRSI\"] - dfI0c[\"FASTDRSI\"]) / dfI0c[\"FASTDRSI\"])\n",
    "# _ = ax1.plot((dfI1c[\"FASTDRSI\"] - dfI0c[\"FASTDRSI\"]))\n",
    "_ = ax1.plot(dfI0c.iloc[1:,:][\"RSI50\"].values)\n",
    "_ = ax1.plot(dfI1c.iloc[:-1,:][\"RSI50\"].values)\n",
    "\n",
    "ax2 = ax1.twinx()\n",
    "\n",
    "_ = ax2.plot(dfI0c.iloc[1:,:][\"RSI50\"].values - dfI1c.iloc[:-1,:][\"RSI50\"].values)\n",
    "\n",
    "# _ = ax2.plot(dfI1c.iloc[:-1,:][\"open\"].values)\n",
    "# ax1.set_ylim(-0.01,0.0)"
   ]
  },
  {
   "cell_type": "code",
   "execution_count": null,
   "metadata": {
    "tags": []
   },
   "outputs": [],
   "source": [
    "fig, ax1 = plt.subplots(figsize=(20,10))\n",
    "\n",
    "# x_datetimes = [datetime.datetime.fromtimestamp(ts) for ts in tickDFcropped.loc[:,'open'].index]\n",
    "\n",
    "# _ = ax1.plot(x_datetimes, tickDFcropped.loc[:,'open'].values, color=\"black\", label=\"Price\", linewidth=2)\n",
    "# _ = ax1.plot((dfI1c[\"FASTDRSI\"] - dfI0c[\"FASTDRSI\"]) / dfI0c[\"FASTDRSI\"])\n",
    "# _ = ax1.plot((dfI1c[\"FASTDRSI\"] - dfI0c[\"FASTDRSI\"]))\n",
    "_ = ax1.plot(dfI0c.iloc[1:,:][\"DX50\"].values / dfI1c.iloc[:-1,:][\"DX50\"].values)\n",
    "\n",
    "ax2 = ax1.twinx()\n",
    "\n",
    "# _ = ax2.plot(dfI1c.iloc[:-1,:][\"open\"].values)\n",
    "# ax1.set_ylim(-0.01,0.0)"
   ]
  },
  {
   "cell_type": "code",
   "execution_count": 68,
   "metadata": {
    "id": "BbFiP5orA01B",
    "tags": []
   },
   "outputs": [
    {
     "name": "stderr",
     "output_type": "stream",
     "text": [
      "/opt/conda/lib/python3.10/site-packages/numpy/core/fromnumeric.py:84: FutureWarning: In a future version, DataFrame.max(axis=None) will return a scalar max over the entire DataFrame. To retain the old behavior, use 'frame.max(axis=0)' or just 'frame.max()'\n",
      "  return reduction(axis=axis, out=out, **passkwargs)\n"
     ]
    }
   ],
   "source": [
    "diffDF = (dfI0c.iloc[1:,:] - dfI1c.iloc[:-1,:]) / np.max(np.abs(dfI0c.iloc[1:,:]))\n",
    "\n",
    "difflist = []\n",
    "diffwithname = []\n",
    "\n",
    "for c in diffDF.columns:\n",
    "  #print(f\"{c}: {np.max(diffDF[c])}\")\n",
    "\n",
    "  difflist.append(np.max(diffDF[c]))\n",
    "  diffwithname.append(\n",
    "      [\n",
    "          c,\n",
    "          np.max(diffDF[c])\n",
    "      ]\n",
    "  )"
   ]
  },
  {
   "cell_type": "code",
   "execution_count": 69,
   "metadata": {
    "id": "9LyM0AR2IiX0"
   },
   "outputs": [],
   "source": [
    "diffwithname = sorted(diffwithname, key = lambda x: x[1])"
   ]
  },
  {
   "cell_type": "code",
   "execution_count": 71,
   "metadata": {
    "tags": []
   },
   "outputs": [
    {
     "name": "stdout",
     "output_type": "stream",
     "text": [
      "Indicator 'ATR50', deviation '-0.01%'\n",
      "Indicator 'NATR50', deviation '-0.01%'\n",
      "Indicator 'ATR38', deviation '-0.00%'\n",
      "Indicator 'NATR38', deviation '-0.00%'\n",
      "Indicator 'c_KAMA50', deviation '0.00%'\n",
      "Indicator 'FASTDRSI', deviation '0.00%'\n",
      "Indicator 'MACDHIST_12_26_9', deviation '0.01%'\n",
      "Indicator 'FASTKRSI', deviation '0.01%'\n"
     ]
    }
   ],
   "source": [
    "for el in diffwithname:\n",
    "    if 0.001 / 100.0 <= np.abs(el[1]):\n",
    "        print(f\"Indicator '{el[0]}', deviation '{el[1]:.2%}'\")"
   ]
  },
  {
   "cell_type": "code",
   "execution_count": null,
   "metadata": {},
   "outputs": [],
   "source": [
    "Indicator 'ATR50', deviation '-0.02%'\n",
    "Indicator 'CMO38', deviation '0.15%'\n",
    "Indicator 'DX38', deviation '0.20%'\n",
    "Indicator 'CMO50', deviation '0.30%'\n",
    "Indicator 'DX50', deviation '0.34%'\n",
    "Indicator 'ADX38', deviation '0.97%'\n",
    "Indicator 'ADX50', deviation '1.18%'\n",
    "Indicator 'HT_DCPHASE', deviation '3.29%'\n",
    "Indicator 'ADXR38', deviation '100.00%'\n",
    "Indicator 'ADXR50', deviation '100.00%'\n",
    "Indicator 'MINUS_DM50', deviation '-0.02%'\n",
    "Indicator 'NATR50', deviation '-0.02%'\n",
    "Indicator 'PLUS_DM50', deviation '-0.02%'\n",
    "Indicator 'c_HT_TRENDLINE', deviation '0.02%'\n",
    "Indicator 'RSI38', deviation '0.04%'\n",
    "Indicator 'PLUS_DI38', deviation '0.05%'\n",
    "Indicator 'RSI50', deviation '0.09%'\n",
    "Indicator 'PLUS_DI50', deviation '0.09%'\n",
    "Indicator 'SINE', deviation '14.80%'\n",
    "Indicator 'LEADSINE', deviation '17.11%'\n",
    "Indicator 'c_TEMA38', deviation '96.64%'\n",
    "Indicator 'c_TEMA50', deviation '98.47%'\n",
    "Indicator 'TRIX50', deviation '99.12%'\n",
    "Indicator 'TRIX38', deviation '100.00%'"
   ]
  },
  {
   "cell_type": "code",
   "execution_count": null,
   "metadata": {
    "colab": {
     "base_uri": "https://localhost:8080/",
     "height": 452
    },
    "id": "CdMUfJzmFrVs",
    "outputId": "b938317d-bca4-4502-8d5f-1ba7c235d0f8"
   },
   "outputs": [],
   "source": [
    "plt.plot(difflist)"
   ]
  },
  {
   "cell_type": "code",
   "execution_count": null,
   "metadata": {
    "colab": {
     "base_uri": "https://localhost:8080/"
    },
    "id": "TCCjYn5-jJZX",
    "outputId": "1b76edd1-7ded-47f9-9637-39e868457250"
   },
   "outputs": [],
   "source": [
    "# # Load a full DF\n",
    "# fullDF = pd.read_csv(\"/content/CryptoCrystalBall/Data/ETF/tickdata/predicted/wurst/cp_daily_valid_05_end/test/testfile.csv\")\n",
    "\n",
    "# Create empty placeholder columns\n",
    "fullDF.loc[:,\"new_p_future_gain\"] = np.nan\n",
    "fullDF.loc[:,\"new_p_future_gain_derivation\"] = np.nan\n",
    "\n",
    "# Create some slices\n",
    "for i in range(1):\n",
    "  # Get a slice\n",
    "  _, sliceDFPath = storeDFSlice(fullDF, i)\n",
    "\n",
    "  # Predict\n",
    "  with tf.device(\"CPU:0\"):  \n",
    "    p = model.predict(pythonGeneratorPrediction(fileList=[sliceDFPath]), verbose=1)\n",
    "\n",
    "  # Start and end index for inserting into the table\n",
    "  # The start index of the predicted data is at `i` plus: RING_IN_PERIOD (to let the indicators settle) + X_BLOCK_LENGHT (a slice of this size is additionally required to create the first block)\n",
    "  dfInsertStartIndex = i + RING_IN_PERIOD + X_BLOCK_LENGHT\n",
    "\n",
    "  # The end index includes also the INDICATOR_MINMAX_PERIOD (the timesteps that have been predicted )\n",
    "  dfInsertEndIndex = dfInsertStartIndex + INDICATOR_MINMAX_PERIOD\n",
    "\n",
    "  # Add the prediction to the full table\n",
    "  fullDF.loc[:,\"new_p_future_gain\"].values[dfInsertStartIndex:dfInsertEndIndex] = p[:,0]\n",
    "  fullDF.loc[:,\"new_p_future_gain_derivation\"].values[dfInsertStartIndex:dfInsertEndIndex] = p[:,1]"
   ]
  },
  {
   "cell_type": "code",
   "execution_count": null,
   "metadata": {
    "colab": {
     "base_uri": "https://localhost:8080/",
     "height": 447
    },
    "id": "00qly_HzkAOD",
    "outputId": "e2896974-2bbd-4097-e48e-929e751b2211"
   },
   "outputs": [],
   "source": [
    "plt.plot(fullDF[\"p_future_gain\"].values[:1000])\n",
    "plt.plot(fullDF[\"new_p_future_gain\"].values)"
   ]
  },
  {
   "cell_type": "code",
   "execution_count": null,
   "metadata": {
    "colab": {
     "base_uri": "https://localhost:8080/"
    },
    "id": "2y1JUk8VMU6W",
    "outputId": "45b2192d-b6f5-41bb-c7c4-7d35fa7f65df"
   },
   "outputs": [],
   "source": [
    "np.nanmax(fullDF[\"p_future_gain\"].values-fullDF[\"new_p_future_gain\"].values)"
   ]
  },
  {
   "cell_type": "code",
   "execution_count": null,
   "metadata": {
    "id": "7gKeMnwQafXx"
   },
   "outputs": [],
   "source": [
    "with tf.device(\"CPU:0\"):  \n",
    "  p = model.predict(pythonGeneratorPrediction(fileList=[\"/content/sliceDF.csv\"]), verbose=1)\n",
    "\n",
    "p.shape"
   ]
  },
  {
   "cell_type": "code",
   "execution_count": null,
   "metadata": {
    "id": "glfrzJOHTvYf"
   },
   "outputs": [],
   "source": [
    "gtSliceDF = pd.read_csv(\"/content/CryptoCrystalBall/Data/ETF/tickdata/predicted/wurst/cp_daily_valid_05_end/test/testfile.csv\") # dfForPCProof.iloc[slice_start_position:slice_start_position+64+128,:]\n",
    "gtSliceDF.set_index(\"startsAt\", inplace=True)\n",
    "gtSliceDF"
   ]
  },
  {
   "cell_type": "code",
   "execution_count": null,
   "metadata": {
    "id": "jMRai3-UcuAD"
   },
   "outputs": [],
   "source": [
    "# gtSliceDF.loc[:,\"p_future_gain\"].values[128:]"
   ]
  },
  {
   "cell_type": "code",
   "execution_count": null,
   "metadata": {
    "id": "BnIxPzMJjj_F"
   },
   "outputs": [],
   "source": [
    "plt.plot(p[:,0])\n",
    "plt.plot(gtSliceDF.loc[:,\"p_future_gain\"].values[X_BLOCK_LENGHT:X_BLOCK_LENGHT+INDICATOR_MINMAX_PERIOD])\n"
   ]
  },
  {
   "cell_type": "code",
   "execution_count": null,
   "metadata": {
    "id": "eZj1oDruNJDS"
   },
   "outputs": [],
   "source": [
    "plt.plot(gtSliceDF.loc[:,\"p_future_gain\"].values[128:300])\n",
    "plt.plot(p[:,0])"
   ]
  },
  {
   "cell_type": "code",
   "execution_count": null,
   "metadata": {
    "id": "azYcQmY3Pd40"
   },
   "outputs": [],
   "source": [
    "stop"
   ]
  },
  {
   "cell_type": "code",
   "execution_count": null,
   "metadata": {
    "id": "iUSw95cqUuE_",
    "tags": []
   },
   "outputs": [],
   "source": [
    "# Create a Tensorflow dataset out of the python generator, which can be fed to the network\n",
    "tfGenPrediction = tf.data.Dataset.from_generator(lambda: pythonGeneratorPrediction(fileList=[FILE_FOR_VISUALIZATION]), \n",
    "                                               output_types = (tf.float32, tf.float32),\n",
    "                                               output_shapes=(\n",
    "                                                   (BATCH_SIZE, X_BLOCK_LENGHT, FEATURES),\n",
    "                                                   (BATCH_SIZE, 4)\n",
    "                                                   )\n",
    "                                               )\n",
    "tfGenPrediction"
   ]
  },
  {
   "cell_type": "code",
   "execution_count": null,
   "metadata": {
    "id": "ktuZ3D04UzeE"
   },
   "outputs": [],
   "source": [
    "# Predict something\n",
    "p = model.predict(tfGenPrediction)\n",
    "p *= 10.0\n",
    "p.shape"
   ]
  },
  {
   "cell_type": "code",
   "execution_count": null,
   "metadata": {
    "id": "UzPvYpQn6uy5"
   },
   "outputs": [],
   "source": [
    "# Store the prediction results in nicely named variables\n",
    "p_future = p[:,0]\n",
    "p_future_derivation = p[:,1]"
   ]
  },
  {
   "cell_type": "code",
   "execution_count": null,
   "metadata": {
    "id": "_hnco1jd6uy5",
    "tags": []
   },
   "outputs": [],
   "source": [
    "# # Helper method to get the gain data from the past using the generator\n",
    "# def getPastDataFromGen(genIn, predictedShapeIn):\n",
    "#     it = genIn.as_numpy_iterator()\n",
    "\n",
    "#     y_past_data = np.empty((predictedShapeIn[0], 2))\n",
    "#     i = 0\n",
    "\n",
    "#     try:\n",
    "#         while (ne := next(it)):\n",
    "#             y_past_data[i:i+ne[1].shape[0],0] = ne[1][:,0]\n",
    "#             y_past_data[i:i+ne[1].shape[0],1] = ne[1][:,2]\n",
    "\n",
    "#             i += ne[1].shape[0]\n",
    "\n",
    "#     except StopIteration:\n",
    "#         pass\n",
    "\n",
    "#     return y_past_data\n",
    "    \n",
    "# y_past_data = getPastDataFromGen(tfGenPrediction, p.shape)\n",
    "# y_past_data.shape"
   ]
  },
  {
   "cell_type": "code",
   "execution_count": null,
   "metadata": {
    "id": "tYyNrtnc6uy5"
   },
   "outputs": [],
   "source": [
    "# Todo: Improve plotting of the results"
   ]
  },
  {
   "cell_type": "code",
   "execution_count": null,
   "metadata": {
    "id": "_meOAVfo6uy5",
    "tags": []
   },
   "outputs": [],
   "source": [
    "plt.plot(y_past_data[:,0])"
   ]
  },
  {
   "cell_type": "code",
   "execution_count": null,
   "metadata": {
    "id": "CFeKu85B6uy6",
    "tags": []
   },
   "outputs": [],
   "source": [
    "plt.plot(y_past_data[:,1])"
   ]
  },
  {
   "cell_type": "code",
   "execution_count": null,
   "metadata": {
    "id": "vgzPCL7KVXC1"
   },
   "outputs": [],
   "source": [
    "plt.plot(p_future)"
   ]
  },
  {
   "cell_type": "code",
   "execution_count": null,
   "metadata": {
    "id": "wA7NhGqg6uy6",
    "tags": []
   },
   "outputs": [],
   "source": [
    "plt.plot(p_future_derivation)"
   ]
  },
  {
   "cell_type": "markdown",
   "metadata": {
    "id": "6zFizVN56uy6"
   },
   "source": [
    "# Add the predictions to the tick table to visualize them"
   ]
  },
  {
   "cell_type": "code",
   "execution_count": null,
   "metadata": {
    "id": "nfI-zTOM6uy6",
    "tags": []
   },
   "outputs": [],
   "source": [
    "# Load the table\n",
    "tickDF = pd.read_csv(FILE_FOR_VISUALIZATION)\n",
    "tickDF"
   ]
  },
  {
   "cell_type": "code",
   "execution_count": null,
   "metadata": {
    "id": "kgBoZ-ps6uy7",
    "tags": []
   },
   "outputs": [],
   "source": [
    "# Because the data is cropped in the batching process (Todo: fix this) and can also not be used fully due to the X-Block and y-data creation,\n",
    "# the loaded DF has a bigger shape\n",
    "tickDF.shape[0] - p.shape[0]"
   ]
  },
  {
   "cell_type": "code",
   "execution_count": null,
   "metadata": {
    "id": "AFRHysN96uy7",
    "tags": []
   },
   "outputs": [],
   "source": [
    "# Crop the DF to meet the prediction\n",
    "tickDFcropped = tickDF.iloc[-p.shape[0]:, :]\n",
    "tickDFcropped"
   ]
  },
  {
   "cell_type": "code",
   "execution_count": null,
   "metadata": {
    "id": "iR6YuBqC6uy8",
    "tags": []
   },
   "outputs": [],
   "source": [
    "# Plot the prediction again, now over the open price\n",
    "chart_name=\"Predicted direction of price movement with open price\"\n",
    "fig, ax1 = plt.subplots(figsize=(20,10))\n",
    "ax1.set_title(chart_name, fontsize=14)\n",
    "\n",
    "_ = ax1.plot(p_future, color=\"green\", label=\"Predicted p_future\")\n",
    "_ = ax1.plot(p_future_derivation, color=\"red\", label=\"Predicted p_future_derivation\")\n",
    "# _ = ax1.plot(p_neutral, color=\"gray\", label=\"Predicted neutral\")\n",
    "\n",
    "ax2 = ax1.twinx()\n",
    "\n",
    "ax2.plot(tickDFcropped.loc[:,'open'].values, color=\"black\", label=\"Price\")\n",
    "\n",
    "ax1.set_xlabel(\"Timesteps\")\n",
    "ax1.set_ylabel(\"Direction\")\n",
    "ax2.set_ylabel(\"Price\")\n",
    "\n",
    "# Show a legend\n",
    "lines, labels = ax1.get_legend_handles_labels()\n",
    "lines2, labels2 = ax2.get_legend_handles_labels()\n",
    "ax2.legend(lines + lines2, labels + labels2, loc=\"upper left\")\n",
    "\n",
    "# Save the figure\n",
    "# fig_name = \"FileListToDataStreamExample_\" + chart_name.replace(\" \", \"_\").replace(\"'\", \"\").replace(\"(\", \"\").replace(\")\", \"\") + \".svg\"\n",
    "# plt.savefig(os.path.join(IMG_SAVE_PATH, fig_name), bbox_inches=\"tight\")"
   ]
  },
  {
   "cell_type": "markdown",
   "metadata": {
    "id": "ME-xJRDD8We2"
   },
   "source": [
    "# Check the signals created by the PredictionCalculator"
   ]
  },
  {
   "cell_type": "code",
   "execution_count": null,
   "metadata": {
    "id": "nVQ7Y4DS8MiQ"
   },
   "outputs": [],
   "source": [
    "# Create the import directories for the PredictionCalculator\n",
    "pc_dir = '/content/CryptoCrystalBall/SignalGenerator/scripts'\n",
    "print(f\"pc_dir: {pc_dir}\")\n",
    "\n",
    "# Add them to the import paths\n",
    "sys.path.insert(0, pc_dir)"
   ]
  },
  {
   "cell_type": "code",
   "execution_count": null,
   "metadata": {
    "id": "ynYH-dNa8xwI"
   },
   "outputs": [],
   "source": [
    "from PredictionCalculator import PredictionCalculator"
   ]
  },
  {
   "cell_type": "code",
   "execution_count": null,
   "metadata": {
    "id": "mwNeojmL86xT"
   },
   "outputs": [],
   "source": [
    "with tf.device(\"CPU:0\"):\n",
    "  pc = PredictionCalculator()"
   ]
  },
  {
   "cell_type": "code",
   "execution_count": null,
   "metadata": {
    "id": "ZMKaZi3i9Dvi"
   },
   "outputs": [],
   "source": [
    "tickDF = pd.read_csv(FILE_FOR_VISUALIZATION)\n",
    "tickDF.set_index(\"startsAt\", inplace=True)\n",
    "tickDF.sort_index(inplace=True)\n",
    "tickDF"
   ]
  },
  {
   "cell_type": "code",
   "execution_count": null,
   "metadata": {
    "id": "9wAAD9TO9I59"
   },
   "outputs": [],
   "source": [
    "latestSlice = copy.deepcopy(tickDF)\n",
    "latestSlice "
   ]
  },
  {
   "cell_type": "code",
   "execution_count": null,
   "metadata": {
    "id": "GAicTuOX9ORW"
   },
   "outputs": [],
   "source": [
    "preLatestSlice = copy.deepcopy(tickDF).iloc[:-1, :]\n",
    "preLatestSlice"
   ]
  },
  {
   "cell_type": "code",
   "execution_count": null,
   "metadata": {
    "id": "Matg4OBP9xVV"
   },
   "outputs": [],
   "source": [
    "pLatest = pc.predict(latestSlice)"
   ]
  },
  {
   "cell_type": "code",
   "execution_count": null,
   "metadata": {
    "id": "EZYAfzV092UN"
   },
   "outputs": [],
   "source": [
    "pPreLatest = pc.predict(preLatestSlice)"
   ]
  },
  {
   "cell_type": "code",
   "execution_count": null,
   "metadata": {
    "id": "qvjzGdRo95B7"
   },
   "outputs": [],
   "source": [
    "pLatest[\"tickDFlocal\"]"
   ]
  },
  {
   "cell_type": "code",
   "execution_count": null,
   "metadata": {
    "id": "Z071aEJGAHsO"
   },
   "outputs": [],
   "source": [
    "pPreLatest[\"tickDFlocal\"]"
   ]
  },
  {
   "cell_type": "code",
   "execution_count": null,
   "metadata": {
    "id": "rXMZT8pLe8Gk"
   },
   "outputs": [],
   "source": [
    "plt.plot(pPreLatest[\"tickDFlocal\"].index - pLatest[\"tickDFlocal\"].index)"
   ]
  },
  {
   "cell_type": "code",
   "execution_count": null,
   "metadata": {
    "id": "aVAkurjJfaRv"
   },
   "outputs": [],
   "source": [
    "pLatest[\"X_blocks\"][:-1,:,:].shape"
   ]
  },
  {
   "cell_type": "code",
   "execution_count": null,
   "metadata": {
    "id": "utT3sMEUfjMu"
   },
   "outputs": [],
   "source": [
    "pPreLatest[\"X_blocks\"][1:,:,:].shape"
   ]
  },
  {
   "cell_type": "code",
   "execution_count": null,
   "metadata": {
    "id": "aVKe6rZLfm_D"
   },
   "outputs": [],
   "source": [
    "pLatest[\"X_blocks\"][:-1,:,:] - pPreLatest[\"X_blocks\"][1:,:,:]"
   ]
  },
  {
   "cell_type": "code",
   "execution_count": null,
   "metadata": {
    "id": "f7xPBOe-fNjl"
   },
   "outputs": [],
   "source": [
    "pPreLatest[\"X_blocks\"] - pLatest[\"X_blocks\"]"
   ]
  },
  {
   "cell_type": "code",
   "execution_count": null,
   "metadata": {
    "id": "WAP1BGzF98v5"
   },
   "outputs": [],
   "source": [
    "plt.plot(pLatest[\"p_future\"])\n",
    "plt.plot(pPreLatest[\"p_future\"])"
   ]
  },
  {
   "cell_type": "code",
   "execution_count": null,
   "metadata": {
    "id": "iCRq2LmNAVEo"
   },
   "outputs": [],
   "source": [
    "plt.plot(pLatest[\"X_blocks\"][-2,:,11])\n",
    "plt.plot(pPreLatest[\"X_blocks\"][-1,:,11])"
   ]
  },
  {
   "cell_type": "code",
   "execution_count": null,
   "metadata": {
    "id": "13DVlHkiAY22"
   },
   "outputs": [],
   "source": [
    "plt.plot(pLatest[\"X_blocks\"][0,:,11] - pPreLatest[\"X_blocks\"][0,:,11])"
   ]
  },
  {
   "cell_type": "code",
   "execution_count": null,
   "metadata": {
    "id": "hcCWvp2v953c"
   },
   "outputs": [],
   "source": [
    "pPreLatest"
   ]
  },
  {
   "cell_type": "code",
   "execution_count": null,
   "metadata": {
    "id": "L-CmswD7-0Jc"
   },
   "outputs": [],
   "source": [
    "pLatest[\"X_blocks\"][-2,0,:]"
   ]
  },
  {
   "cell_type": "code",
   "execution_count": null,
   "metadata": {
    "id": "rYe5pvdR_mwe"
   },
   "outputs": [],
   "source": [
    "pPreLatest[\"X_blocks\"][-1,0,:]"
   ]
  },
  {
   "cell_type": "code",
   "execution_count": null,
   "metadata": {
    "id": "Mrk7bXb98MK8"
   },
   "outputs": [],
   "source": [
    "stop"
   ]
  },
  {
   "cell_type": "code",
   "execution_count": null,
   "metadata": {
    "id": "Fxj5FSp26uy8",
    "tags": []
   },
   "outputs": [],
   "source": [
    "#@title Buy and sell signal thresholds\n",
    "BUY_SIGNAL_THRESHOLD_FUTURE = 0.15 #@param {type:\"number\"}\n",
    "BUY_SIGNAL_THRESHOLD_PAST = 0.01 #@param {type:\"number\"}\n",
    "\n",
    "SELL_SIGNAL_THRESHOLD_PAST = 0.1 #@param {type:\"number\"}"
   ]
  },
  {
   "cell_type": "code",
   "execution_count": null,
   "metadata": {
    "id": "riJ4h9zx6uy8",
    "tags": []
   },
   "outputs": [],
   "source": [
    "#@title Plot buy and sell signals\n",
    "chart_name=\"Buy and sell signals\"\n",
    "fig, ax1 = plt.subplots(figsize=(20,10))\n",
    "ax1.set_title(chart_name)\n",
    "\n",
    "x_datetimes = [datetime.datetime.fromtimestamp(ts) for ts in tickDFcropped.loc[:,'open'].index]\n",
    "\n",
    "_ = ax1.plot(x_datetimes, tickDFcropped.loc[:,'open'].values, color=\"black\", label=\"Price\", linewidth=2)\n",
    "\n",
    "# Color area axis\n",
    "ax2 = ax1.twinx()\n",
    "\n",
    "# Convert the float value prediction into rising and falling categories\n",
    "yCategoryFall = p_future_gain <= SELL_SIGNAL_THRESHOLD_PAST\n",
    "yCategoryRise = (p_future_gain > p_past_gain) & (p_past_gain <= BUY_SIGNAL_THRESHOLD_FUTURE) #(p_future_gain >= BUY_SIGNAL_THRESHOLD_FUTURE)\n",
    "\n",
    "ax2.fill_between(x_datetimes, yCategoryFall , alpha=0.5, color=\"red\", label=\"'Buy' signal\")\n",
    "ax2.fill_between(x_datetimes, yCategoryRise , alpha=0.5, color=\"green\", label=\"'Sell' signal\")\n",
    "\n",
    "# Remove tick marks and set limits for color area axis\n",
    "ax2.set_yticks([])\n",
    "ax2.set_ylim(-0.05,1.05)\n",
    "\n",
    "ax3 = ax1.twinx()\n",
    "_ = ax3.plot(x_datetimes, p_future_gain, color=\"blue\", label=\"Predicted future gain\")\n",
    "# _ = ax3.plot(x_datetimes, 10.0*p_dir_derivation, color=\"red\", label=\"10.0 * Predicted price direction derivation\")\n",
    "# ax3.set_ylim(-1.05,1.05)\n",
    "\n",
    "ax3.plot([np.min(x_datetimes), np.max(x_datetimes)], [0.0,0.0], color=\"gray\")\n",
    "\n",
    "# Show a legend\n",
    "lines, labels = ax1.get_legend_handles_labels()\n",
    "lines2, labels2 = ax2.get_legend_handles_labels()\n",
    "lines3, labels3 = ax3.get_legend_handles_labels()\n",
    "ax2.legend(lines + lines2 + lines3, labels + labels2 + labels3, loc=\"upper left\")\n",
    "\n",
    "# Save the figure\n",
    "# fig_name = chart_name.replace(\" \", \"_\").replace(\"'\", \"\") + \".svg\"\n",
    "# plt.savefig(os.path.join(IMG_SAVE_PATH, fig_name), bbox_inches=\"tight\")"
   ]
  },
  {
   "cell_type": "markdown",
   "metadata": {
    "id": "u_tsS74J6uy8"
   },
   "source": [
    "# Add predictions to tick tables\n",
    "# Predict the test and eval set\n",
    "The future information for these sets is predicted using the trained model, additionally the past gain info is acquired using the `FileListToDataStream` generator. It is then stored together with the tick information as .csv files, which then can be used to develop a trading strategy.\n",
    "\n",
    "```\n",
    "Todo: Add link to finder notebooks\n",
    "```"
   ]
  },
  {
   "cell_type": "code",
   "execution_count": null,
   "metadata": {
    "id": "cCYrkTN_6uy8",
    "tags": []
   },
   "outputs": [],
   "source": [
    "stop"
   ]
  },
  {
   "cell_type": "code",
   "execution_count": null,
   "metadata": {
    "id": "GTF597f46uy8",
    "tags": []
   },
   "outputs": [],
   "source": [
    "# PREDICTED_SAVE_PATH = \"/content/dataset/etffancy/PastFutureGainV2/test\""
   ]
  },
  {
   "cell_type": "code",
   "execution_count": null,
   "metadata": {
    "id": "9KA2nm-a6uy9",
    "tags": []
   },
   "outputs": [],
   "source": [
    "# Get the model name and the checkpoint name\n",
    "model_name, checkpoint_name = tuple(MODEL_PATH.split(os.sep)[-3:-1])\n",
    "print(f\"model_name: '{model_name}'\")\n",
    "print(f\"checkpoint_name: '{checkpoint_name}'\")"
   ]
  },
  {
   "cell_type": "code",
   "execution_count": null,
   "metadata": {
    "id": "QjkhTxqI6uy9",
    "tags": []
   },
   "outputs": [],
   "source": [
    "# Replace the latest element in the DATASET_PATH with \"predicted\"\n",
    "prediction_save_path = DATASET_PATH.split(os.sep)[:-1]\n",
    "prediction_save_path += [\"predicted\"]\n",
    "\n",
    "# Preserve the root symbol\n",
    "if prediction_save_path[0] == \"\":\n",
    "    prediction_save_path[0] = os.sep\n",
    "\n",
    "# Add the model info to the path\n",
    "prediction_save_path += [model_name, checkpoint_name]\n",
    "    \n",
    "prediction_save_path"
   ]
  },
  {
   "cell_type": "code",
   "execution_count": null,
   "metadata": {
    "id": "ZnBAhjcH6uy9",
    "tags": []
   },
   "outputs": [],
   "source": [
    "# Check each path element and create it if necessary\n",
    "for i in range(1, len(prediction_save_path)):\n",
    "    partial_path_string = os.path.join(*prediction_save_path[:i+1])\n",
    "\n",
    "    if not os.path.exists(partial_path_string):\n",
    "        os.mkdir(partial_path_string)\n",
    "        \n",
    "# Create the test and eval save folders\n",
    "PREDICTION_SAVE_PATH_TEST = os.path.join(*(prediction_save_path + [\"test\"]))\n",
    "if not os.path.exists(PREDICTION_SAVE_PATH_TEST):\n",
    "    os.mkdir(PREDICTION_SAVE_PATH_TEST)\n",
    "\n",
    "PREDICTION_SAVE_PATH_EVAL = os.path.join(*(prediction_save_path + [\"eval\"]))\n",
    "if not os.path.exists(PREDICTION_SAVE_PATH_EVAL):\n",
    "    os.mkdir(PREDICTION_SAVE_PATH_EVAL)\n",
    "\n",
    "print(f\"PREDICTION_SAVE_PATH_TEST: '{PREDICTION_SAVE_PATH_TEST}'\")\n",
    "print(f\"PREDICTION_SAVE_PATH_EVAL: '{PREDICTION_SAVE_PATH_EVAL}'\")"
   ]
  },
  {
   "cell_type": "code",
   "execution_count": null,
   "metadata": {
    "id": "z6wspWmg6uy-",
    "tags": []
   },
   "outputs": [],
   "source": [
    "# Create a Tensorflow dataset out of the python generator, which can be fed to the network\n",
    "# https://stackoverflow.com/questions/52443273/how-do-you-send-arguments-to-a-generator-function-using-tf-data-dataset-from-gen\n",
    "\n",
    "fileList = TEST_FILES\n",
    "PREDICTED_SAVE_PATH = PREDICTION_SAVE_PATH_TEST\n",
    "\n",
    "pd.options.mode.chained_assignment = None  # default='warn'\n",
    "\n",
    "for file_index in tqdm(range(0, len(fileList))):\n",
    "    try:\n",
    "        filename = fileList[file_index]\n",
    "\n",
    "        logging.info(f\"\\nFile name: '{filename}' for index {file_index}\")\n",
    "\n",
    "        tfGenPrediction = tf.data.Dataset.from_generator(lambda: pythonGeneratorPrediction(fileList=[filename]), \n",
    "                                                       output_types = (tf.float32, tf.float32),\n",
    "                                                       output_shapes=(\n",
    "                                                           (BATCH_SIZE, X_BLOCK_LENGHT, FEATURES),\n",
    "                                                           (BATCH_SIZE, 4)\n",
    "                                                           )\n",
    "                                                       )\n",
    "        p = model.predict(tfGenPrediction, verbose = 0)\n",
    "\n",
    "        logging.info(f\"p.shape: {p.shape}\")\n",
    "\n",
    "        p_future_gain = p[:,0]\n",
    "        p_future_gain_derivation = p[:,1]\n",
    "        \n",
    "        # Load the tick table\n",
    "        tickDF = pd.read_csv(filename)\n",
    "        tickDFcropped = tickDF.iloc[-p.shape[0]:, :]\n",
    "        \n",
    "        # Add the predicted future gain\n",
    "        tickDFcropped.loc[:,\"p_future_gain\"] = p_future_gain\n",
    "        tickDFcropped.loc[:,\"p_future_gain_derivation\"] = p_future_gain_derivation\n",
    "        \n",
    "        # Get the (known) past data\n",
    "        y_past_data = getPastDataFromGen(tfGenPrediction, p.shape)\n",
    "\n",
    "        # Add the past gain\n",
    "        tickDFcropped.loc[:,\"p_past_gain\"] = y_past_data[:,0]\n",
    "        tickDFcropped.loc[:,\"p_past_gain_derivation\"] = y_past_data[:,1]\n",
    "\n",
    "        # Save the DF\n",
    "        tickDFcropped.to_csv(os.path.join(PREDICTED_SAVE_PATH, filename.split(os.path.sep)[-1]))\n",
    "\n",
    "        logging.info(\"Saved the predicted data.\")\n",
    "    except KeyboardInterrupt:\n",
    "        raise\n",
    "    except Exception as ex:\n",
    "        logging.warning(str(ex))"
   ]
  },
  {
   "cell_type": "code",
   "execution_count": null,
   "metadata": {
    "id": "izTgBXoA6uy-",
    "tags": []
   },
   "outputs": [],
   "source": [
    "# Create a Tensorflow dataset out of the python generator, which can be fed to the network\n",
    "# https://stackoverflow.com/questions/52443273/how-do-you-send-arguments-to-a-generator-function-using-tf-data-dataset-from-gen\n",
    "\n",
    "fileList = EVAL_FILES\n",
    "PREDICTED_SAVE_PATH = PREDICTION_SAVE_PATH_EVAL\n",
    "\n",
    "# fileList = TEST_FILES\n",
    "# PREDICTED_SAVE_PATH = \"/content/dataset/etffancy/FPNWithAttentionBiggerTimebased_1_FutureOnly/test\"\n",
    "\n",
    "pd.options.mode.chained_assignment = None  # default='warn'\n",
    "\n",
    "for file_index in tqdm(range(0, len(fileList))):\n",
    "    try:\n",
    "        filename = fileList[file_index]\n",
    "\n",
    "        logging.info(f\"\\nFile name: '{filename}' for index {file_index}\")\n",
    "\n",
    "        tfGenPrediction = tf.data.Dataset.from_generator(lambda: pythonGeneratorPrediction(fileList=[filename]), \n",
    "                                                       output_types = (tf.float32, tf.float32),\n",
    "                                                       output_shapes=(\n",
    "                                                           (BATCH_SIZE, X_BLOCK_LENGHT, FEATURES),\n",
    "                                                           (BATCH_SIZE, 4)\n",
    "                                                           )\n",
    "                                                       )\n",
    "        p = model.predict(tfGenPrediction, verbose = 0)\n",
    "\n",
    "        logging.info(f\"p.shape: {p.shape}\")\n",
    "\n",
    "        p_future_gain = p[:,0]\n",
    "        p_future_gain_derivation = p[:,1]\n",
    "        \n",
    "        # Load the tick table\n",
    "        tickDF = pd.read_csv(filename)\n",
    "        tickDFcropped = tickDF.iloc[-p.shape[0]:, :]\n",
    "        \n",
    "        # Add the predicted future gain\n",
    "        tickDFcropped.loc[:,\"p_future_gain\"] = p_future_gain\n",
    "        tickDFcropped.loc[:,\"p_future_gain_derivation\"] = p_future_gain_derivation\n",
    "        \n",
    "        # Get the (known) past data\n",
    "        y_past_data = getPastDataFromGen(tfGenPrediction, p.shape)\n",
    "\n",
    "        # Add the past gain\n",
    "        tickDFcropped.loc[:,\"p_past_gain\"] = y_past_data[:,0]\n",
    "        tickDFcropped.loc[:,\"p_past_gain_derivation\"] = y_past_data[:,1]\n",
    "\n",
    "        # Save the DF\n",
    "        tickDFcropped.to_csv(os.path.join(PREDICTED_SAVE_PATH, filename.split(os.path.sep)[-1]))\n",
    "\n",
    "        logging.info(\"Saved the predicted data.\")\n",
    "    except KeyboardInterrupt:\n",
    "        raise\n",
    "    except Exception as ex:\n",
    "        logging.warning(str(ex))"
   ]
  }
 ],
 "metadata": {
  "colab": {
   "provenance": []
  },
  "gpuClass": "standard",
  "kernelspec": {
   "display_name": "Python 3 (ipykernel)",
   "language": "python",
   "name": "python3"
  },
  "language_info": {
   "codemirror_mode": {
    "name": "ipython",
    "version": 3
   },
   "file_extension": ".py",
   "mimetype": "text/x-python",
   "name": "python",
   "nbconvert_exporter": "python",
   "pygments_lexer": "ipython3",
   "version": "3.10.9"
  }
 },
 "nbformat": 4,
 "nbformat_minor": 4
}
