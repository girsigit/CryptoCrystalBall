{
 "cells": [
  {
   "cell_type": "markdown",
   "metadata": {
    "id": "RIbOPenP-I_d"
   },
   "source": [
    "# Mount drive and bucket\n",
    "Todo: Remove in public version"
   ]
  },
  {
   "cell_type": "code",
   "execution_count": 1,
   "metadata": {},
   "outputs": [],
   "source": [
    "import logging\n",
    "logger = logging.getLogger()\n",
    "logger.setLevel(logging.INFO)"
   ]
  },
  {
   "cell_type": "code",
   "execution_count": 2,
   "metadata": {
    "colab": {
     "base_uri": "https://localhost:8080/"
    },
    "id": "t9dbL-PU-okV",
    "outputId": "14e73bf6-881d-4bc0-96f4-8a1b79cae570"
   },
   "outputs": [
    {
     "name": "stderr",
     "output_type": "stream",
     "text": [
      "2023-04-20 11:13:59.120809: I tensorflow/core/platform/cpu_feature_guard.cc:193] This TensorFlow binary is optimized with oneAPI Deep Neural Network Library (oneDNN) to use the following CPU instructions in performance-critical operations:  AVX2 AVX_VNNI FMA\n",
      "To enable them in other operations, rebuild TensorFlow with the appropriate compiler flags.\n",
      "2023-04-20 11:13:59.205495: I tensorflow/core/util/util.cc:169] oneDNN custom operations are on. You may see slightly different numerical results due to floating-point round-off errors from different computation orders. To turn them off, set the environment variable `TF_ENABLE_ONEDNN_OPTS=0`.\n",
      "2023-04-20 11:13:59.227976: E tensorflow/stream_executor/cuda/cuda_blas.cc:2981] Unable to register cuBLAS factory: Attempting to register factory for plugin cuBLAS when one has already been registered\n",
      "2023-04-20 11:13:59.719428: W tensorflow/stream_executor/platform/default/dso_loader.cc:64] Could not load dynamic library 'libnvinfer.so.7'; dlerror: libnvinfer.so.7: cannot open shared object file: No such file or directory\n",
      "2023-04-20 11:13:59.719466: W tensorflow/stream_executor/platform/default/dso_loader.cc:64] Could not load dynamic library 'libnvinfer_plugin.so.7'; dlerror: libnvinfer_plugin.so.7: cannot open shared object file: No such file or directory\n",
      "2023-04-20 11:13:59.719470: W tensorflow/compiler/tf2tensorrt/utils/py_utils.cc:38] TF-TRT Warning: Cannot dlopen some TensorRT libraries. If you would like to use Nvidia GPU with TensorRT, please make sure the missing libraries mentioned above are installed properly.\n"
     ]
    },
    {
     "name": "stdout",
     "output_type": "stream",
     "text": [
      "TF Version is 2.10.0, ok!\n"
     ]
    }
   ],
   "source": [
    "# Check if the tf version is 2.10.0, this is required to use the 'ignore_class' in the  SparseCategoricalCrossentropy\n",
    "import tensorflow as tf\n",
    "\n",
    "if '2.10.0' != tf.__version__:\n",
    "  !pip uninstall tensorflow -y\n",
    "  !pip install tensorflow-gpu==2.10.0\n",
    "  please_restart_the_runtime\n",
    "else:\n",
    "  print(\"TF Version is 2.10.0, ok!\")"
   ]
  },
  {
   "cell_type": "code",
   "execution_count": 3,
   "metadata": {
    "id": "FYePtDVpqtkN"
   },
   "outputs": [],
   "source": [
    "from tensorflow import keras\n",
    "from tensorflow.python.lib.io import file_io\n",
    "\n",
    "from keras.layers import Input, Dense, Flatten, UnitNormalization, Permute, Conv1D, UpSampling1D, Add, LSTM, Concatenate, Multiply, Activation, Attention, Dropout\n",
    "from keras.models import Model\n",
    "from keras.optimizers import Adam"
   ]
  },
  {
   "cell_type": "code",
   "execution_count": 4,
   "metadata": {
    "id": "pxa3Ug_JplIq",
    "tags": []
   },
   "outputs": [],
   "source": [
    "import os\n",
    "from os import listdir\n",
    "from os.path import isfile, join"
   ]
  },
  {
   "cell_type": "code",
   "execution_count": 5,
   "metadata": {
    "id": "EcBnUrFKqyCK"
   },
   "outputs": [],
   "source": [
    "import pandas as pd\n",
    "import numpy as np\n",
    "import copy\n",
    "import matplotlib.pyplot as plt\n",
    "from tqdm import tqdm\n",
    "import pickle\n",
    "import gc\n",
    "import random\n",
    "import datetime"
   ]
  },
  {
   "cell_type": "markdown",
   "metadata": {},
   "source": [
    "---\n",
    "# Add custom import path for DataStreamCreator, IndicatorCalculator and PredictionCalculator\n",
    "\n",
    "These libs are not in the standard python directory, so their paths have to be added to the import paths"
   ]
  },
  {
   "cell_type": "code",
   "execution_count": 6,
   "metadata": {},
   "outputs": [],
   "source": [
    "import sys"
   ]
  },
  {
   "cell_type": "code",
   "execution_count": 7,
   "metadata": {},
   "outputs": [
    {
     "name": "stdout",
     "output_type": "stream",
     "text": [
      "dsc_dir: /content/CryptoCrystalBall/DataStreamCreator\n",
      "ind_dir: /content/CryptoCrystalBall/IndicatorCalculator\n",
      "pc_dir: /content/CryptoCrystalBall/SignalGenerator/scripts\n"
     ]
    }
   ],
   "source": [
    "# Create the import directories for the DataStreamCreator, the IndicatorCalculator and the PredictionCalculator\n",
    "dsc_dir = '/content/CryptoCrystalBall/DataStreamCreator'\n",
    "print(f\"dsc_dir: {dsc_dir}\")\n",
    "\n",
    "ind_dir = '/content/CryptoCrystalBall/IndicatorCalculator'\n",
    "print(f\"ind_dir: {ind_dir}\")\n",
    "\n",
    "pc_dir = '/content/CryptoCrystalBall/SignalGenerator/scripts'\n",
    "print(f\"pc_dir: {pc_dir}\")\n",
    "\n",
    "# Add them to the import paths\n",
    "sys.path.insert(0, dsc_dir)\n",
    "sys.path.insert(0, ind_dir)\n",
    "sys.path.insert(0, pc_dir)"
   ]
  },
  {
   "cell_type": "code",
   "execution_count": 8,
   "metadata": {},
   "outputs": [],
   "source": [
    "# Import the actual classes\n",
    "from IndicatorCalculator import IndicatorCalculator\n",
    "import DataStreamCreator\n",
    "from PredictionCalculator import PredictionCalculator"
   ]
  },
  {
   "cell_type": "code",
   "execution_count": 9,
   "metadata": {},
   "outputs": [],
   "source": [
    "# Define a global random seed\n",
    "RANDOM_SEED = 42\n",
    "\n",
    "# Set the seed in np\n",
    "np.random.seed(RANDOM_SEED)"
   ]
  },
  {
   "cell_type": "code",
   "execution_count": 10,
   "metadata": {},
   "outputs": [],
   "source": [
    "# X_BLOCK_LENGHT defines how far into the past a 'slice of a chart' shall be\n",
    "# See: https://github.com/girsigit/CryptoCrystalBall/tree/main/DataStreamCreator#xblockgenerator\n",
    "\n",
    "# For this ML architecture, the X_BLOCK_LENGHT has to be a member of 2**n, otherwise the feature pyramid cannot be built correctly \n",
    "\n",
    "X_BLOCK_LENGHT = 128"
   ]
  },
  {
   "cell_type": "code",
   "execution_count": 11,
   "metadata": {},
   "outputs": [],
   "source": [
    "# A fixed number of features is used\n",
    "FEATURES = 149"
   ]
  },
  {
   "cell_type": "code",
   "execution_count": 12,
   "metadata": {},
   "outputs": [],
   "source": [
    "# Finanical indicator timespans\n",
    "# See: https://github.com/girsigit/CryptoCrystalBall/tree/main/IndicatorCalculator\n",
    "SHORTSPAN = 7\n",
    "MIDSPAN = 38\n",
    "LONGSPAN = 50"
   ]
  },
  {
   "cell_type": "code",
   "execution_count": 13,
   "metadata": {},
   "outputs": [],
   "source": [
    "COLAB = False"
   ]
  },
  {
   "cell_type": "code",
   "execution_count": 14,
   "metadata": {
    "id": "X3s3eDubSFaJ",
    "tags": []
   },
   "outputs": [],
   "source": [
    "# Set the checkpoint path for saving train progress\n",
    "if COLAB:\n",
    "    raise NotImplementedError(\"Google Buckets have to be implemented in this notebook before using them in Colab!\")\n",
    "    CHECKPOINT_PATH = f\"gs://{bucket_name}/chk/\"\n",
    "else:\n",
    "    CHECKPOINT_PATH = f\"/content/bigdata/chk/\""
   ]
  },
  {
   "cell_type": "code",
   "execution_count": 15,
   "metadata": {
    "colab": {
     "base_uri": "https://localhost:8080/"
    },
    "id": "8rvlsLwbpmWJ",
    "outputId": "12f0ff94-d55c-449f-f101-c4581499db7d"
   },
   "outputs": [],
   "source": [
    "# Check if the notebook is run in google colab, if so, clone the repo\n",
    "if COLAB:\n",
    "    print(\"Running in Colab\")\n",
    "\n",
    "    # Clone the whole repo to get all data and code if not already done\n",
    "    if not os.path.exists(\"/content/CryptoCrystalBall\"):\n",
    "      !git clone https://github.com/girsigit/CryptoCrystalBall\n",
    "\n",
    "    %cd /content"
   ]
  },
  {
   "cell_type": "code",
   "execution_count": 16,
   "metadata": {
    "id": "q9OmJ6vFthwG"
   },
   "outputs": [],
   "source": [
    "# Try importing the Ta-Lib library, if this fails, try to install it and\n",
    "# import it again afterwards\n",
    "try:\n",
    "    import talib\n",
    "except:\n",
    "    !wget http://prdownloads.sourceforge.net/ta-lib/ta-lib-0.4.0-src.tar.gz\n",
    "    !tar -xzvf ta-lib-0.4.0-src.tar.gz\n",
    "    %cd ta-lib\n",
    "    !./configure --prefix=/usr\n",
    "    !make\n",
    "    !make install\n",
    "    !pip install Ta-Lib\n",
    "    %cd ..\n",
    "\n",
    "    import talib"
   ]
  },
  {
   "cell_type": "code",
   "execution_count": 17,
   "metadata": {
    "id": "axPYAbN9upgY",
    "tags": []
   },
   "outputs": [],
   "source": [
    "import logging\n",
    "logger = logging.getLogger()\n",
    "logger.setLevel(logging.INFO)"
   ]
  },
  {
   "cell_type": "markdown",
   "metadata": {
    "id": "Nbt7oQxzL2Zy"
   },
   "source": [
    "---\n",
    "# Add custom import path for DataStreamCreator and IndicatorCalculator\n",
    "\n",
    "These libs are not in the standard python directory, so their paths have to be added to the import paths"
   ]
  },
  {
   "cell_type": "code",
   "execution_count": 18,
   "metadata": {
    "colab": {
     "base_uri": "https://localhost:8080/"
    },
    "id": "ICDL0OwbL2Zz",
    "outputId": "41c7541e-3a1e-4035-f2f3-182fed452a8e",
    "tags": []
   },
   "outputs": [
    {
     "data": {
      "text/plain": [
       "['', 'content']"
      ]
     },
     "execution_count": 18,
     "metadata": {},
     "output_type": "execute_result"
    }
   ],
   "source": [
    "# Get the current directory\n",
    "current_dir = os.getcwd()\n",
    "current_dir_splitted = [\"\", \"content\"]\n",
    "current_dir_splitted"
   ]
  },
  {
   "cell_type": "code",
   "execution_count": 19,
   "metadata": {
    "colab": {
     "base_uri": "https://localhost:8080/"
    },
    "id": "JJ8l6O2gL2Z1",
    "outputId": "de6d884a-f4be-47e2-c808-eeac3448580c",
    "tags": []
   },
   "outputs": [
    {
     "name": "stdout",
     "output_type": "stream",
     "text": [
      "dsc_dir: /content/CryptoCrystalBall/DataStreamCreator\n",
      "ind_dir: /content/CryptoCrystalBall/IndicatorCalculator\n"
     ]
    }
   ],
   "source": [
    "# Create the import directories for the DataStreamCreator and the IndicatorCalculator\n",
    "dsc_dir = '/content/CryptoCrystalBall/DataStreamCreator'\n",
    "print(f\"dsc_dir: {dsc_dir}\")\n",
    "\n",
    "ind_dir = '/content/CryptoCrystalBall/IndicatorCalculator'\n",
    "print(f\"ind_dir: {ind_dir}\")\n",
    "\n",
    "# Add them to the import paths\n",
    "sys.path.insert(0, dsc_dir)\n",
    "sys.path.insert(0, ind_dir)"
   ]
  },
  {
   "cell_type": "code",
   "execution_count": 20,
   "metadata": {
    "id": "iqyTbcZDttLT",
    "tags": []
   },
   "outputs": [],
   "source": [
    "# Import the actual classes\n",
    "from IndicatorCalculator import IndicatorCalculator\n",
    "import DataStreamCreator"
   ]
  },
  {
   "cell_type": "markdown",
   "metadata": {
    "id": "zPsG4dqRL2Z5"
   },
   "source": [
    "---\n",
    "# Define all the parameters and variables"
   ]
  },
  {
   "cell_type": "code",
   "execution_count": 21,
   "metadata": {
    "colab": {
     "base_uri": "https://localhost:8080/"
    },
    "id": "5J8ODl45L2Z6",
    "outputId": "690c2801-687e-47fe-cefc-616e029a62a5",
    "tags": []
   },
   "outputs": [],
   "source": [
    "# # Define the tick data path\n",
    "# DATA_PATH = os.path.join(os.sep, *current_dir_splitted, 'DemoData')\n",
    "# print(f\"DATA_PATH: {DATA_PATH}\")"
   ]
  },
  {
   "cell_type": "code",
   "execution_count": 22,
   "metadata": {
    "colab": {
     "base_uri": "https://localhost:8080/"
    },
    "id": "7TUeLGiOL2Z7",
    "outputId": "00651843-f462-4c20-e6cc-7cb0d7cd6d23",
    "tags": []
   },
   "outputs": [],
   "source": [
    "# # Define the chart image save path\n",
    "# IMG_SAVE_PATH = os.path.join(os.sep, *current_dir_splitted, 'Documentation', 'Images')\n",
    "# print(f\"IMG_SAVE_PATH: {IMG_SAVE_PATH}\")"
   ]
  },
  {
   "cell_type": "code",
   "execution_count": 23,
   "metadata": {
    "id": "o23rkki9ttLZ",
    "tags": []
   },
   "outputs": [],
   "source": [
    "# Define a global random seed\n",
    "RANDOM_SEED = 42\n",
    "\n",
    "# Set the seed in np\n",
    "np.random.seed(RANDOM_SEED)"
   ]
  },
  {
   "cell_type": "code",
   "execution_count": 24,
   "metadata": {
    "id": "g9gBeRtnxKMD",
    "tags": []
   },
   "outputs": [],
   "source": [
    "# X_BLOCK_LENGHT defines how far into the past a 'slice of a chart' shall be\n",
    "# See: https://github.com/girsigit/CryptoCrystalBall/tree/main/DataStreamCreator#xblockgenerator\n",
    "\n",
    "# For this ML architecture, the X_BLOCK_LENGHT has to be a member of 2**n, otherwise the feature pyramid cannot be built correctly \n",
    "\n",
    "# X_BLOCK_LENGHT = 256\n",
    "X_BLOCK_LENGHT = 128"
   ]
  },
  {
   "cell_type": "code",
   "execution_count": 25,
   "metadata": {
    "id": "sh5dsBKr5Ko-",
    "tags": []
   },
   "outputs": [],
   "source": [
    "# How many examples shall be processed at the same time, limited by GPU memory\n",
    "BATCH_SIZE = 384 # for X_BLOCK_LENGHT = 256\n",
    "BATCH_SIZE = 512 # for X_BLOCK_LENGHT = 128"
   ]
  },
  {
   "cell_type": "code",
   "execution_count": 26,
   "metadata": {
    "id": "J331jHk-u345",
    "tags": []
   },
   "outputs": [],
   "source": [
    "# A fixed number of features is used\n",
    "FEATURES = 116"
   ]
  },
  {
   "cell_type": "code",
   "execution_count": 27,
   "metadata": {
    "id": "1JVT1Z2U0lW8",
    "tags": []
   },
   "outputs": [],
   "source": [
    "# Finanical indicator timespans\n",
    "# See: https://github.com/girsigit/CryptoCrystalBall/tree/main/IndicatorCalculator\n",
    "SHORTSPAN = 7\n",
    "MIDSPAN = 38\n",
    "LONGSPAN = 50"
   ]
  },
  {
   "cell_type": "code",
   "execution_count": 28,
   "metadata": {
    "id": "AnNz-Oke3J3p",
    "tags": []
   },
   "outputs": [],
   "source": [
    "# Additional settings for the data stream\n",
    "# For this notebook, the calculation of pattern indicators is turned off\n",
    "DATA_STREAM_PARAMETERS = {\n",
    "    \"calcPatternIndicators\": False, # No patterns are used\n",
    "    \"calcVolumeInidators\": False, # No volume indicators, these are wide spread and may disturb the classifer\n",
    "    \"dropna\": True # Drop all tick/indicator table rows containing nan values instead of just replacing them by 0 (which would lead to wrong predictions)\n",
    "}"
   ]
  },
  {
   "cell_type": "markdown",
   "metadata": {
    "id": "7xXpDFe9ROVQ"
   },
   "source": [
    "# Load the dataset"
   ]
  },
  {
   "cell_type": "code",
   "execution_count": 29,
   "metadata": {
    "tags": []
   },
   "outputs": [
    {
     "name": "stdout",
     "output_type": "stream",
     "text": [
      "The train dataset contains 911 files.\n",
      "['/content/dataset/ETF/tickdata/ticks/train/DE0002635265.csv', '/content/dataset/ETF/tickdata/ticks/train/DE0002635273.csv', '/content/dataset/ETF/tickdata/ticks/train/DE0002635281.csv']\n"
     ]
    }
   ],
   "source": [
    "# Define the dataset path\n",
    "DATASET_PATH = \"/content/dataset/ETF/tickdata/ticks/train\"\n",
    "\n",
    "# Get all file names\n",
    "TRAIN_FILES = [os.path.join(DATASET_PATH,f) for f in listdir(DATASET_PATH) if isfile(join(DATASET_PATH, f)) and \".csv\" in f ]\n",
    "\n",
    "# Sort them (as a stable basis for randomizing afterwards)\n",
    "TRAIN_FILES = sorted(TRAIN_FILES)\n",
    "\n",
    "print(f\"The train dataset contains {len(TRAIN_FILES)} files.\")\n",
    "print(TRAIN_FILES[:3])"
   ]
  },
  {
   "cell_type": "markdown",
   "metadata": {},
   "source": [
    "### Not required, dataset is already prepared\n",
    "---\n",
    "### Split the dataset into 3 parts\n",
    "- The **train** set is used to train the machine-learning network then used to predicting future information\n",
    "- The **test** set is used in the next step. On it a trading (entry/exit) strategy will be developed\n",
    "- The **eval** set will then be used as an never-seen set to try and evalutate the combination of the ML network and the trading strategy"
   ]
  },
  {
   "cell_type": "code",
   "execution_count": 30,
   "metadata": {
    "tags": []
   },
   "outputs": [],
   "source": [
    "# # It uses a fixed random seed to allow this cell to be copied to other notebooks producing the same result\n",
    "# SPLIT_RANDOM_SEED = 666\n",
    "\n",
    "# TRAIN_SET_SIZE = 0.5\n",
    "# TEST_SET_SIZE = 0.25\n",
    "# # EVAL_SET_SIZE: The rest\n",
    "\n",
    "# # Files are shuffled before splitting\n",
    "# random.Random(SPLIT_RANDOM_SEED).shuffle(ALL_FILES)\n",
    "\n",
    "# train_split_index = int(len(ALL_FILES) * TRAIN_SET_SIZE)\n",
    "# print(f\"train_split_index: {train_split_index}\")\n",
    "\n",
    "# test_split_index = int(len(ALL_FILES) * (TRAIN_SET_SIZE + TEST_SET_SIZE))\n",
    "# print(f\"test_split_index: {test_split_index}\")\n",
    "\n",
    "# TRAIN_FILES = ALL_FILES[:train_split_index]\n",
    "# TEST_FILES = ALL_FILES[train_split_index:test_split_index]\n",
    "# EVAL_FILES = ALL_FILES[test_split_index:]\n",
    "\n",
    "# print(f\"The train set contains {len(TRAIN_FILES)} files\")\n",
    "# print(f\"The test set contains {len(TEST_FILES)} files\")\n",
    "# print(f\"The eval set contains {len(EVAL_FILES)} files\")"
   ]
  },
  {
   "cell_type": "markdown",
   "metadata": {
    "id": "J9cA0AKquwZ2"
   },
   "source": [
    "---\n",
    "# Prepare data source\n",
    "\n",
    "For training a neural network, first the data source has to be prepared. For this purpose, the method `FileListToDataStream` from the `DataStreamCreator` class is used. This method creates a stream of `X-Block` and `y-data` arrays out of a list of .csv file names, pointing to tick tables (called `EXAMPLE_FILE_PATHS` in this example). For details about `X-Blocks` and `y-data`, please refer to the documentation of the `XBlockGenerator` and the `YDataGenerator` under https://github.com/girsigit/CryptoCrystalBall/tree/main/DataStreamCreator.\n",
    "\n",
    "<br>\n",
    "\n",
    "As y values for training the ML network the possible future gain and it derivation will be used. The y data type `PARAM_DICT_TEMPLATE_Y_DATA_TYPE_PAST_FUTURE_GAIN` will provide both past and future gain, but the model will only be trained on the future gain, as the past gain can be easily calculated directly, also in a live application."
   ]
  },
  {
   "cell_type": "code",
   "execution_count": 31,
   "metadata": {},
   "outputs": [
    {
     "data": {
      "text/plain": [
       "{'dataType': 3,\n",
       " 'gain_timespan': 60,\n",
       " 'direction_ma_timespan': 48,\n",
       " 'derivation_ma_timespan': 48}"
      ]
     },
     "execution_count": 31,
     "metadata": {},
     "output_type": "execute_result"
    }
   ],
   "source": [
    "Y_TYPE_DICT = copy.deepcopy(DataStreamCreator.YDataGenerator.PARAM_DICT_TEMPLATE_Y_DATA_TYPE_PAST_FUTURE_GAIN)\n",
    "\n",
    "Y_TYPE_DICT[\"gain_timespan\"] = 60\n",
    "# Y_TYPE_DICT[\"direction_ma_timespan\"] = 14\n",
    "# Y_TYPE_DICT[\"derivation_ma_timespan\"] = 14\n",
    "\n",
    "Y_TYPE_DICT"
   ]
  },
  {
   "cell_type": "code",
   "execution_count": 32,
   "metadata": {},
   "outputs": [
    {
     "data": {
      "text/plain": [
       "(512, 128, 116)"
      ]
     },
     "execution_count": 32,
     "metadata": {},
     "output_type": "execute_result"
    }
   ],
   "source": [
    "XShape = (BATCH_SIZE, X_BLOCK_LENGHT, FEATURES)\n",
    "XShape"
   ]
  },
  {
   "cell_type": "code",
   "execution_count": 33,
   "metadata": {
    "id": "S2e6q_2su26o",
    "tags": []
   },
   "outputs": [],
   "source": [
    "# A python generator function has to be applied on the dataStream\n",
    "\n",
    "def pythonGeneratorSignalsTraining():\n",
    "  # Initialize the FileListToDataStream generator\n",
    "  dataStreamTraining = DataStreamCreator.FileListToDataStream(fileList = TRAIN_FILES,\n",
    "                                                      batch_size = BATCH_SIZE,\n",
    "                                                      X_Block_lenght = X_BLOCK_LENGHT,\n",
    "                                                      y_type_dict=Y_TYPE_DICT,\n",
    "                                                      shuffle=True,\n",
    "                                                      parallel_generators = np.min([BATCH_SIZE, 8]),\n",
    "                                                      random_seed = RANDOM_SEED,\n",
    "                                                      **DATA_STREAM_PARAMETERS\n",
    "                                                      )\n",
    "\n",
    "  # This while has to integrated into the FileListToDataStream method\n",
    "  while True:  \n",
    "    try:\n",
    "      ne = next(dataStreamTraining)\n",
    "      _X = ne['X']\n",
    "      _y = ne['y'][:,[1,3]]\n",
    "    \n",
    "      # Limit the y signal to avoid excess\n",
    "      _y /= 10.0\n",
    "      _y = np.clip(_y, -10.0, 10.0)\n",
    "\n",
    "      yield (_X, _y)\n",
    "    except StopIteration as si:\n",
    "      logging.warning(\"StopIteration in pythonGenerator\")\n",
    "      logging.warning(si)\n",
    "      return"
   ]
  },
  {
   "cell_type": "code",
   "execution_count": 34,
   "metadata": {
    "colab": {
     "base_uri": "https://localhost:8080/"
    },
    "id": "FoTRNHyEvnyg",
    "outputId": "d7fb1944-9236-47c2-c749-8a999e6fe3e3",
    "tags": []
   },
   "outputs": [
    {
     "name": "stderr",
     "output_type": "stream",
     "text": [
      "2023-04-20 11:14:02.679137: I tensorflow/stream_executor/cuda/cuda_gpu_executor.cc:980] successful NUMA node read from SysFS had negative value (-1), but there must be at least one NUMA node, so returning NUMA node zero\n",
      "2023-04-20 11:14:02.705003: I tensorflow/stream_executor/cuda/cuda_gpu_executor.cc:980] successful NUMA node read from SysFS had negative value (-1), but there must be at least one NUMA node, so returning NUMA node zero\n",
      "2023-04-20 11:14:02.705146: I tensorflow/stream_executor/cuda/cuda_gpu_executor.cc:980] successful NUMA node read from SysFS had negative value (-1), but there must be at least one NUMA node, so returning NUMA node zero\n",
      "2023-04-20 11:14:02.705793: I tensorflow/core/platform/cpu_feature_guard.cc:193] This TensorFlow binary is optimized with oneAPI Deep Neural Network Library (oneDNN) to use the following CPU instructions in performance-critical operations:  AVX2 AVX_VNNI FMA\n",
      "To enable them in other operations, rebuild TensorFlow with the appropriate compiler flags.\n",
      "2023-04-20 11:14:02.706968: I tensorflow/stream_executor/cuda/cuda_gpu_executor.cc:980] successful NUMA node read from SysFS had negative value (-1), but there must be at least one NUMA node, so returning NUMA node zero\n",
      "2023-04-20 11:14:02.707081: I tensorflow/stream_executor/cuda/cuda_gpu_executor.cc:980] successful NUMA node read from SysFS had negative value (-1), but there must be at least one NUMA node, so returning NUMA node zero\n",
      "2023-04-20 11:14:02.707155: I tensorflow/stream_executor/cuda/cuda_gpu_executor.cc:980] successful NUMA node read from SysFS had negative value (-1), but there must be at least one NUMA node, so returning NUMA node zero\n",
      "2023-04-20 11:14:03.041597: I tensorflow/stream_executor/cuda/cuda_gpu_executor.cc:980] successful NUMA node read from SysFS had negative value (-1), but there must be at least one NUMA node, so returning NUMA node zero\n",
      "2023-04-20 11:14:03.041757: I tensorflow/stream_executor/cuda/cuda_gpu_executor.cc:980] successful NUMA node read from SysFS had negative value (-1), but there must be at least one NUMA node, so returning NUMA node zero\n",
      "2023-04-20 11:14:03.041844: I tensorflow/stream_executor/cuda/cuda_gpu_executor.cc:980] successful NUMA node read from SysFS had negative value (-1), but there must be at least one NUMA node, so returning NUMA node zero\n",
      "2023-04-20 11:14:03.041917: I tensorflow/core/common_runtime/gpu/gpu_device.cc:1616] Created device /job:localhost/replica:0/task:0/device:GPU:0 with 6179 MB memory:  -> device: 0, name: NVIDIA RTX A2000 8GB Laptop GPU, pci bus id: 0000:01:00.0, compute capability: 8.6\n"
     ]
    },
    {
     "data": {
      "text/plain": [
       "<PrefetchDataset element_spec=(TensorSpec(shape=(512, 128, 116), dtype=tf.float32, name=None), TensorSpec(shape=(512, 2), dtype=tf.float32, name=None))>"
      ]
     },
     "execution_count": 34,
     "metadata": {},
     "output_type": "execute_result"
    }
   ],
   "source": [
    "# Create a Tensorflow dataset out of the python generator, which can be fed to the network\n",
    "tfGenTraining = tf.data.Dataset.from_generator(pythonGeneratorSignalsTraining, \n",
    "                                               output_types = (tf.float32, tf.float32),\n",
    "                                               output_shapes=(\n",
    "                                                   (BATCH_SIZE, X_BLOCK_LENGHT, FEATURES),\n",
    "                                                   (BATCH_SIZE, 2)\n",
    "                                                   )\n",
    "                                               )\n",
    "\n",
    "tfGenTraining = tfGenTraining.prefetch(buffer_size=32)\n",
    "tfGenTraining"
   ]
  },
  {
   "cell_type": "markdown",
   "metadata": {
    "id": "moBea0tTbFbX"
   },
   "source": [
    "---\n",
    "# Create the neural network\n",
    "\n",
    "This approach uses a FPN (Feature-Pyramid-Network, https://jonathan-hui.medium.com/understanding-feature-pyramid-networks-for-object-detection-fpn-45b227b9106c) architecture, followed by LSTM and Dense regressor heads to extract the future gain information.\n",
    "The pyramid elements are built in a Res-Net style to provide a good information flow.\n",
    "\n",
    "\n",
    "Additionally, it is equipped with Attention layers to focus on relevant information. Futhermore, it uses antialiasing to smooth out disturbance.\n",
    "\n",
    "\n",
    "```\n",
    "Todo: Create Image of network structure\n",
    "```"
   ]
  },
  {
   "cell_type": "code",
   "execution_count": 35,
   "metadata": {
    "tags": []
   },
   "outputs": [
    {
     "name": "stdout",
     "output_type": "stream",
     "text": [
      "256\n",
      "Step 0, using 64 filters with a kernel size of 2 at strides of 2\n",
      "attention_map.shape: (None, 64, 64)\n",
      "feature_conv_attentioned.shape: (None, 64, 64)\n",
      "Step 1, using 128 filters with a kernel size of 4 at strides of 2\n",
      "attention_map.shape: (None, 32, 128)\n",
      "feature_conv_attentioned.shape: (None, 32, 128)\n",
      "Step 2, using 256 filters with a kernel size of 8 at strides of 2\n",
      "attention_map.shape: (None, 16, 256)\n",
      "feature_conv_attentioned.shape: (None, 16, 256)\n",
      "Step 3, using 512 filters with a kernel size of 8 at strides of 2\n",
      "attention_map.shape: (None, 8, 512)\n",
      "feature_conv_attentioned.shape: (None, 8, 512)\n",
      "Step 4, using 1024 filters with a kernel size of 8 at strides of 2\n",
      "attention_map.shape: (None, 4, 1024)\n",
      "feature_conv_attentioned.shape: (None, 4, 1024)\n",
      "Step 5, using 2048 filters with a kernel size of 8 at strides of 2\n",
      "attention_map.shape: (None, 2, 2048)\n",
      "feature_conv_attentioned.shape: (None, 2, 2048)\n",
      "Building feature_map_layers, step 5. Shape of aligned_layer: (None, 2, 256)\n",
      "Building feature_map_layers, step 4. Shape of aligned_layer: (None, 4, 256)\n",
      "Building feature_map_layers, step 3. Shape of aligned_layer: (None, 8, 256)\n",
      "Building feature_map_layers, step 2. Shape of aligned_layer: (None, 16, 256)\n",
      "{'NAME': 'FPNWithAttentionBiggerTimebased', 'VERSION': '5_FutureOnly_60days_Stable2', 'CNN_INITIAL_FILTERS': 64, 'CNN_EXTRACTOR_LAYERS': 6, 'CNN_INITIAL_KERNEL_SIZE': 2, 'CNN_MAX_KERNEL_SIZE': 8, 'FEATURE_PYRAMID_START_INDEX': 2, 'HEAD_LSTM_SIZE': 64, 'HEAD_DENSE_SIZE': 32}\n",
      "Model: \"FPNWithAttentionBiggerTimebased_5_FutureOnly_60days_Stable2\"\n",
      "____________________________________________________________________________________________________________________________________________________________________________________________________________________________\n",
      " Layer (type)                                                           Output Shape                                     Param #                   Connected to                                                             \n",
      "============================================================================================================================================================================================================================\n",
      " input_1 (InputLayer)                                                   [(None, 128, 116)]                               0                         []                                                                       \n",
      "                                                                                                                                                                                                                            \n",
      " UnitNormalizationInput (UnitNormalization)                             (None, 128, 116)                                 0                         ['input_1[0][0]']                                                        \n",
      "                                                                                                                                                                                                                            \n",
      " ResNet_0_Conv1D_1 (Conv1D)                                             (None, 128, 116)                                 27028                     ['UnitNormalizationInput[1][0]']                                         \n",
      "                                                                                                                                                                                                                            \n",
      " ResNet_0_ReLU (Activation)                                             (None, 128, 116)                                 0                         ['ResNet_0_Conv1D_1[1][0]']                                              \n",
      "                                                                                                                                                                                                                            \n",
      " ResNet_0_Conv1D_2 (Conv1D)                                             (None, 128, 116)                                 27028                     ['ResNet_0_ReLU[1][0]']                                                  \n",
      "                                                                                                                                                                                                                            \n",
      " ResNet_0_Add (Add)                                                     (None, 128, 116)                                 0                         ['ResNet_0_Conv1D_2[1][0]',                                              \n",
      "                                                                                                                                                    'UnitNormalizationInput[1][0]']                                         \n",
      "                                                                                                                                                                                                                            \n",
      " ResNet_0_Feature_Conv1D_FilterDimReduction (Conv1D)                    (None, 64, 64)                                   14912                     ['ResNet_0_Add[1][0]']                                                   \n",
      "                                                                                                                                                                                                                            \n",
      " ResNet_1_Conv1D_1 (Conv1D)                                             (None, 64, 64)                                   16448                     ['ResNet_0_Feature_Conv1D_FilterDimReduction[1][0]']                     \n",
      "                                                                                                                                                                                                                            \n",
      " ResNet_1_ReLU (Activation)                                             (None, 64, 64)                                   0                         ['ResNet_1_Conv1D_1[1][0]']                                              \n",
      "                                                                                                                                                                                                                            \n",
      " ResNet_1_Conv1D_2 (Conv1D)                                             (None, 64, 64)                                   16448                     ['ResNet_1_ReLU[1][0]']                                                  \n",
      "                                                                                                                                                                                                                            \n",
      " ResNet_1_Add (Add)                                                     (None, 64, 64)                                   0                         ['ResNet_1_Conv1D_2[1][0]',                                              \n",
      "                                                                                                                                                    'ResNet_0_Feature_Conv1D_FilterDimReduction[1][0]']                     \n",
      "                                                                                                                                                                                                                            \n",
      " ResNet_1_Feature_Conv1D_FilterDimReduction (Conv1D)                    (None, 32, 128)                                  32896                     ['ResNet_1_Add[1][0]']                                                   \n",
      "                                                                                                                                                                                                                            \n",
      " ResNet_2_Conv1D_1 (Conv1D)                                             (None, 32, 128)                                  131200                    ['ResNet_1_Feature_Conv1D_FilterDimReduction[1][0]']                     \n",
      "                                                                                                                                                                                                                            \n",
      " ResNet_2_ReLU (Activation)                                             (None, 32, 128)                                  0                         ['ResNet_2_Conv1D_1[1][0]']                                              \n",
      "                                                                                                                                                                                                                            \n",
      " ResNet_2_Conv1D_2 (Conv1D)                                             (None, 32, 128)                                  131200                    ['ResNet_2_ReLU[1][0]']                                                  \n",
      "                                                                                                                                                                                                                            \n",
      " ResNet_2_Add (Add)                                                     (None, 32, 128)                                  0                         ['ResNet_2_Conv1D_2[1][0]',                                              \n",
      "                                                                                                                                                    'ResNet_1_Feature_Conv1D_FilterDimReduction[1][0]']                     \n",
      "                                                                                                                                                                                                                            \n",
      " ResNet_2_Feature_Conv1D_FilterDimReduction (Conv1D)                    (None, 16, 256)                                  262400                    ['ResNet_2_Add[1][0]']                                                   \n",
      "                                                                                                                                                                                                                            \n",
      " ResNet_3_Conv1D_1 (Conv1D)                                             (None, 16, 256)                                  524544                    ['ResNet_2_Feature_Conv1D_FilterDimReduction[1][0]']                     \n",
      "                                                                                                                                                                                                                            \n",
      " ResNet_3_ReLU (Activation)                                             (None, 16, 256)                                  0                         ['ResNet_3_Conv1D_1[1][0]']                                              \n",
      "                                                                                                                                                                                                                            \n",
      " ResNet_3_Conv1D_2 (Conv1D)                                             (None, 16, 256)                                  524544                    ['ResNet_3_ReLU[1][0]']                                                  \n",
      "                                                                                                                                                                                                                            \n",
      " ResNet_3_Add (Add)                                                     (None, 16, 256)                                  0                         ['ResNet_3_Conv1D_2[1][0]',                                              \n",
      "                                                                                                                                                    'ResNet_2_Feature_Conv1D_FilterDimReduction[1][0]']                     \n",
      "                                                                                                                                                                                                                            \n",
      " ResNet_3_Feature_Conv1D_FilterDimReduction (Conv1D)                    (None, 8, 512)                                   1049088                   ['ResNet_3_Add[1][0]']                                                   \n",
      "                                                                                                                                                                                                                            \n",
      " ResNet_4_Conv1D_1 (Conv1D)                                             (None, 8, 512)                                   2097664                   ['ResNet_3_Feature_Conv1D_FilterDimReduction[1][0]']                     \n",
      "                                                                                                                                                                                                                            \n",
      " ResNet_4_ReLU (Activation)                                             (None, 8, 512)                                   0                         ['ResNet_4_Conv1D_1[1][0]']                                              \n",
      "                                                                                                                                                                                                                            \n",
      " ResNet_4_Conv1D_2 (Conv1D)                                             (None, 8, 512)                                   2097664                   ['ResNet_4_ReLU[1][0]']                                                  \n",
      "                                                                                                                                                                                                                            \n",
      " ResNet_4_Add (Add)                                                     (None, 8, 512)                                   0                         ['ResNet_4_Conv1D_2[1][0]',                                              \n",
      "                                                                                                                                                    'ResNet_3_Feature_Conv1D_FilterDimReduction[1][0]']                     \n",
      "                                                                                                                                                                                                                            \n",
      " ResNet_4_Feature_Conv1D_FilterDimReduction (Conv1D)                    (None, 4, 1024)                                  4195328                   ['ResNet_4_Add[1][0]']                                                   \n",
      "                                                                                                                                                                                                                            \n",
      " ResNet_5_Conv1D_1 (Conv1D)                                             (None, 4, 1024)                                  8389632                   ['ResNet_4_Feature_Conv1D_FilterDimReduction[1][0]']                     \n",
      "                                                                                                                                                                                                                            \n",
      " ResNet_5_ReLU (Activation)                                             (None, 4, 1024)                                  0                         ['ResNet_5_Conv1D_1[1][0]']                                              \n",
      "                                                                                                                                                                                                                            \n",
      " ResNet_5_Conv1D_2 (Conv1D)                                             (None, 4, 1024)                                  8389632                   ['ResNet_5_ReLU[1][0]']                                                  \n",
      "                                                                                                                                                                                                                            \n",
      " ResNet_5_Add (Add)                                                     (None, 4, 1024)                                  0                         ['ResNet_5_Conv1D_2[1][0]',                                              \n",
      "                                                                                                                                                    'ResNet_4_Feature_Conv1D_FilterDimReduction[1][0]']                     \n",
      "                                                                                                                                                                                                                            \n",
      " ResNet_5_Feature_Conv1D_FilterDimReduction (Conv1D)                    (None, 2, 2048)                                  16779264                  ['ResNet_5_Add[1][0]']                                                   \n",
      "                                                                                                                                                                                                                            \n",
      " Attention_Layer_5 (Attention)                                          (None, 2, 2048)                                  0                         ['ResNet_5_Feature_Conv1D_FilterDimReduction[1][0]',                     \n",
      "                                                                                                                                                    'ResNet_5_Feature_Conv1D_FilterDimReduction[1][0]']                     \n",
      "                                                                                                                                                                                                                            \n",
      " Multiply_Apply_Attention_5 (Multiply)                                  (None, 2, 2048)                                  0                         ['ResNet_5_Feature_Conv1D_FilterDimReduction[1][0]',                     \n",
      "                                                                                                                                                    'Attention_Layer_5[1][0]']                                              \n",
      "                                                                                                                                                                                                                            \n",
      " Attention_Layer_4 (Attention)                                          (None, 4, 1024)                                  0                         ['ResNet_4_Feature_Conv1D_FilterDimReduction[1][0]',                     \n",
      "                                                                                                                                                    'ResNet_4_Feature_Conv1D_FilterDimReduction[1][0]']                     \n",
      "                                                                                                                                                                                                                            \n",
      " Channel_Depth_Alignment_5 (Conv1D)                                     (None, 2, 256)                                   524544                    ['Multiply_Apply_Attention_5[1][0]']                                     \n",
      "                                                                                                                                                                                                                            \n",
      " Multiply_Apply_Attention_4 (Multiply)                                  (None, 4, 1024)                                  0                         ['ResNet_4_Feature_Conv1D_FilterDimReduction[1][0]',                     \n",
      "                                                                                                                                                    'Attention_Layer_4[1][0]']                                              \n",
      "                                                                                                                                                                                                                            \n",
      " Pyramid_Upsampling_4 (UpSampling1D)                                    (None, 4, 256)                                   0                         ['Channel_Depth_Alignment_5[1][0]']                                      \n",
      "                                                                                                                                                                                                                            \n",
      " Channel_Depth_Alignment_4 (Conv1D)                                     (None, 4, 256)                                   262400                    ['Multiply_Apply_Attention_4[1][0]']                                     \n",
      "                                                                                                                                                                                                                            \n",
      " Attention_Layer_3 (Attention)                                          (None, 8, 512)                                   0                         ['ResNet_3_Feature_Conv1D_FilterDimReduction[1][0]',                     \n",
      "                                                                                                                                                    'ResNet_3_Feature_Conv1D_FilterDimReduction[1][0]']                     \n",
      "                                                                                                                                                                                                                            \n",
      " Pyramid_Add_4 (Add)                                                    (None, 4, 256)                                   0                         ['Pyramid_Upsampling_4[1][0]',                                           \n",
      "                                                                                                                                                    'Channel_Depth_Alignment_4[1][0]']                                      \n",
      "                                                                                                                                                                                                                            \n",
      " Multiply_Apply_Attention_3 (Multiply)                                  (None, 8, 512)                                   0                         ['ResNet_3_Feature_Conv1D_FilterDimReduction[1][0]',                     \n",
      "                                                                                                                                                    'Attention_Layer_3[1][0]']                                              \n",
      "                                                                                                                                                                                                                            \n",
      " Pyramid_Upsampling_3 (UpSampling1D)                                    (None, 8, 256)                                   0                         ['Pyramid_Add_4[1][0]']                                                  \n",
      "                                                                                                                                                                                                                            \n",
      " Channel_Depth_Alignment_3 (Conv1D)                                     (None, 8, 256)                                   131328                    ['Multiply_Apply_Attention_3[1][0]']                                     \n",
      "                                                                                                                                                                                                                            \n",
      " Pyramid_Add_3 (Add)                                                    (None, 8, 256)                                   0                         ['Pyramid_Upsampling_3[1][0]',                                           \n",
      "                                                                                                                                                    'Channel_Depth_Alignment_3[1][0]']                                      \n",
      "                                                                                                                                                                                                                            \n",
      " Attention_Layer_2 (Attention)                                          (None, 16, 256)                                  0                         ['ResNet_2_Feature_Conv1D_FilterDimReduction[1][0]',                     \n",
      "                                                                                                                                                    'ResNet_2_Feature_Conv1D_FilterDimReduction[1][0]']                     \n",
      "                                                                                                                                                                                                                            \n",
      " Pyramid_Upsampling_2 (UpSampling1D)                                    (None, 16, 256)                                  0                         ['Pyramid_Add_3[1][0]']                                                  \n",
      "                                                                                                                                                                                                                            \n",
      " Multiply_Apply_Attention_2 (Multiply)                                  (None, 16, 256)                                  0                         ['ResNet_2_Feature_Conv1D_FilterDimReduction[1][0]',                     \n",
      "                                                                                                                                                    'Attention_Layer_2[1][0]']                                              \n",
      "                                                                                                                                                                                                                            \n",
      " Pyramid_Add_2 (Add)                                                    (None, 16, 256)                                  0                         ['Pyramid_Upsampling_2[1][0]',                                           \n",
      "                                                                                                                                                    'Multiply_Apply_Attention_2[1][0]']                                     \n",
      "                                                                                                                                                                                                                            \n",
      " Anti_Alias_4 (Conv1D)                                                  (None, 4, 256)                                   196864                    ['Pyramid_Add_4[1][0]']                                                  \n",
      "                                                                                                                                                                                                                            \n",
      " Anti_Alias_3 (Conv1D)                                                  (None, 8, 256)                                   196864                    ['Pyramid_Add_3[1][0]']                                                  \n",
      "                                                                                                                                                                                                                            \n",
      " Anti_Alias_2 (Conv1D)                                                  (None, 16, 256)                                  196864                    ['Pyramid_Add_2[1][0]']                                                  \n",
      "                                                                                                                                                                                                                            \n",
      " PermutePredictorInput_5 (Permute)                                      (None, 256, 2)                                   0                         ['Channel_Depth_Alignment_5[1][0]']                                      \n",
      "                                                                                                                                                                                                                            \n",
      " PermutePredictorInput_4 (Permute)                                      (None, 256, 4)                                   0                         ['Anti_Alias_4[1][0]']                                                   \n",
      "                                                                                                                                                                                                                            \n",
      " PermutePredictorInput_3 (Permute)                                      (None, 256, 8)                                   0                         ['Anti_Alias_3[1][0]']                                                   \n",
      "                                                                                                                                                                                                                            \n",
      " PermutePredictorInput_2 (Permute)                                      (None, 256, 16)                                  0                         ['Anti_Alias_2[1][0]']                                                   \n",
      "                                                                                                                                                                                                                            \n",
      " Predictor_Head_5_LSTM (LSTM)                                           (None, 64)                                       17152                     ['PermutePredictorInput_5[1][0]']                                        \n",
      "                                                                                                                                                                                                                            \n",
      " Predictor_Head_4_LSTM (LSTM)                                           (None, 64)                                       17664                     ['PermutePredictorInput_4[1][0]']                                        \n",
      "                                                                                                                                                                                                                            \n",
      " Predictor_Head_3_LSTM (LSTM)                                           (None, 64)                                       18688                     ['PermutePredictorInput_3[1][0]']                                        \n",
      "                                                                                                                                                                                                                            \n",
      " Predictor_Head_2_LSTM (LSTM)                                           (None, 64)                                       20736                     ['PermutePredictorInput_2[1][0]']                                        \n",
      "                                                                                                                                                                                                                            \n",
      " Predictor_Head_5_Dense_Regressor (Dense)                               (None, 32)                                       2080                      ['Predictor_Head_5_LSTM[1][0]']                                          \n",
      "                                                                                                                                                                                                                            \n",
      " Predictor_Head_4_Dense_Regressor (Dense)                               (None, 32)                                       2080                      ['Predictor_Head_4_LSTM[1][0]']                                          \n",
      "                                                                                                                                                                                                                            \n",
      " Predictor_Head_3_Dense_Regressor (Dense)                               (None, 32)                                       2080                      ['Predictor_Head_3_LSTM[1][0]']                                          \n",
      "                                                                                                                                                                                                                            \n",
      " Predictor_Head_2_Dense_Regressor (Dense)                               (None, 32)                                       2080                      ['Predictor_Head_2_LSTM[1][0]']                                          \n",
      "                                                                                                                                                                                                                            \n",
      " Concatenate_regressors (Concatenate)                                   (None, 128)                                      0                         ['Predictor_Head_5_Dense_Regressor[1][0]',                               \n",
      "                                                                                                                                                    'Predictor_Head_4_Dense_Regressor[1][0]',                               \n",
      "                                                                                                                                                    'Predictor_Head_3_Dense_Regressor[1][0]',                               \n",
      "                                                                                                                                                    'Predictor_Head_2_Dense_Regressor[1][0]']                               \n",
      "                                                                                                                                                                                                                            \n",
      " Output (Dense)                                                         (None, 2)                                        258                       ['Concatenate_regressors[1][0]']                                         \n",
      "                                                                                                                                                                                                                            \n",
      "============================================================================================================================================================================================================================\n",
      "Total params: 46,298,602\n",
      "Trainable params: 46,298,602\n",
      "Non-trainable params: 0\n",
      "____________________________________________________________________________________________________________________________________________________________________________________________________________________________\n"
     ]
    }
   ],
   "source": [
    "# Create the CreateModelFPNWithAttention model\n",
    "def CreateModelFPNWithAttention():\n",
    "  # Define model parameters\n",
    "  mp = {\n",
    "      \"NAME\": \"FPNWithAttentionBiggerTimebased\",\n",
    "      \"VERSION\": \"5_FutureOnly_60days_Stable2\",\n",
    "      \"CNN_INITIAL_FILTERS\": 64,\n",
    "      \"CNN_EXTRACTOR_LAYERS\": 6,\n",
    "      \"CNN_INITIAL_KERNEL_SIZE\": 2,\n",
    "      \"CNN_MAX_KERNEL_SIZE\": 8,\n",
    "      \"FEATURE_PYRAMID_START_INDEX\": 2,\n",
    "      \"HEAD_LSTM_SIZE\": 64,\n",
    "      \"HEAD_DENSE_SIZE\": 32\n",
    "      }\n",
    "  \n",
    "  # Create the model input  \n",
    "  inputTicksAndIndicators = Input(shape=(X_BLOCK_LENGHT, FEATURES), name='inputTicksAndIndicators', dtype='float32')\n",
    "\n",
    "  # Apply dropout on the input to make the model robust\n",
    "  inputTicksAndIndicators = Dropout(0.1, name='inputDropout')(inputTicksAndIndicators)\n",
    "\n",
    "  # Normalize the input data, as it has a wide value spread (range of 1e8)\n",
    "  normalized = UnitNormalization(name=\"UnitNormalizationInput\", axis=-2)(inputTicksAndIndicators)\n",
    "\n",
    "  # ----------------------------------------------------------------------------\n",
    "\n",
    "  # A 1D-CNN pyramid is used to extract higher-level features out of the time dimension\n",
    "  conv_layers = []\n",
    "  aligned_layers = []\n",
    "  feature_map_layers = []\n",
    "  anti_aliased_layers = []\n",
    "  anti_aliased_pyramid_indices = []\n",
    "  regressor_layers = []\n",
    "\n",
    "  finalFilters = mp[\"CNN_INITIAL_FILTERS\"] * 2**(mp[\"FEATURE_PYRAMID_START_INDEX\"])\n",
    "  print(finalFilters) \n",
    "\n",
    "  for i in range(mp[\"CNN_EXTRACTOR_LAYERS\"]):\n",
    "    if 0 == i:\n",
    "      source_layer = normalized\n",
    "    else:\n",
    "      source_layer = feature_conv\n",
    "    \n",
    "    filters = int(mp[\"CNN_INITIAL_FILTERS\"]*(2**i))\n",
    "    kernel_size = mp[\"CNN_INITIAL_KERNEL_SIZE\"]*(2**i)\n",
    "    kernel_size = int(np.min([mp[\"CNN_MAX_KERNEL_SIZE\"], kernel_size]))\n",
    "    strides = int(np.min([2,kernel_size]))\n",
    "\n",
    "    print(f\"Step {i}, using {filters} filters with a kernel size of {kernel_size} at strides of {strides}\")\n",
    "\n",
    "    # Create the feature extraction convolution\n",
    "    res_net_element = Conv1D(filters=source_layer.shape[-1],\n",
    "                          kernel_size=kernel_size,\n",
    "                          strides=1, \n",
    "                          padding=\"same\",\n",
    "                          name=f\"ResNet_{i}_Conv1D_1\")(source_layer)\n",
    "    \n",
    "    res_net_element = Activation(\"relu\",\n",
    "                              name=f\"ResNet_{i}_ReLU\")(res_net_element)\n",
    "    \n",
    "    res_net_element = Conv1D(filters=source_layer.shape[-1],\n",
    "                          kernel_size=kernel_size,\n",
    "                          strides=1, \n",
    "                          padding=\"same\",\n",
    "                          name=f\"ResNet_{i}_Conv1D_2\")(res_net_element)\n",
    "    \n",
    "    res_net_element = Add(name=f\"ResNet_{i}_Add\")([res_net_element, source_layer])\n",
    "        \n",
    "    feature_conv = Conv1D(filters=filters,\n",
    "                          kernel_size=kernel_size,\n",
    "                          strides=strides, \n",
    "                          padding=\"same\",\n",
    "                          name=f\"ResNet_{i}_Feature_Conv1D_FilterDimReduction\")(res_net_element)\n",
    "\n",
    "    attention_map = Attention(name=f\"Attention_Layer_{i}\")([feature_conv,feature_conv])\n",
    "    print(f\"attention_map.shape: {attention_map.shape}\")\n",
    "\n",
    "    feature_conv_attentioned = Multiply(name=f\"Multiply_Apply_Attention_{i}\")([feature_conv, attention_map])\n",
    "    print(f\"feature_conv_attentioned.shape: {feature_conv_attentioned.shape}\")\n",
    "    \n",
    "    conv_layers.append(feature_conv_attentioned)\n",
    "\n",
    "    # Apply the feature extraction pyramid\n",
    "    if mp[\"FEATURE_PYRAMID_START_INDEX\"] <= i:\n",
    "      # Apply a 1x1 convolution to align the channel depth    \n",
    "      if feature_conv_attentioned.shape[-1] != finalFilters:\n",
    "        aligned_layer = Conv1D(filters=finalFilters,\n",
    "                              kernel_size=1,\n",
    "                              strides=1,\n",
    "                              padding=\"same\",\n",
    "                              name=f\"Channel_Depth_Alignment_{i}\")(feature_conv_attentioned)\n",
    "      else:\n",
    "        aligned_layer = feature_conv_attentioned\n",
    "      \n",
    "      aligned_layers.append(aligned_layer)\n",
    "\n",
    "  # Go top-down through the aligned_layers to create the feature_map_layers\n",
    "  for i in range(mp[\"CNN_EXTRACTOR_LAYERS\"]-1, mp[\"FEATURE_PYRAMID_START_INDEX\"]-1, -1):\n",
    "    aligned_layers_index = i - mp[\"FEATURE_PYRAMID_START_INDEX\"]\n",
    "    aligned_layer = aligned_layers[aligned_layers_index]\n",
    "\n",
    "    print(f\"Building feature_map_layers, step {i}. Shape of aligned_layer: {aligned_layer.shape}\")\n",
    "\n",
    "    # The highest-filtered layer is taken as feature map directly\n",
    "    if i == mp[\"CNN_EXTRACTOR_LAYERS\"]-1:\n",
    "      feature_map_layers.append(aligned_layer)\n",
    "      anti_aliased_layers.append(feature_map_layers[-1])\n",
    "    else:\n",
    "      # Take the last feature_map_layer and scale it by two\n",
    "      upsampled = UpSampling1D(size=2,\n",
    "                               name=f\"Pyramid_Upsampling_{i}\")(feature_map_layers[-1])\n",
    "\n",
    "      # Add the aligned_layer\n",
    "      added = Add(name=f\"Pyramid_Add_{i}\")([upsampled, aligned_layer])\n",
    "\n",
    "      # Append as new feature_map_layer\n",
    "      feature_map_layers.append(added)\n",
    "\n",
    "      # Apply a convolution with a kernel size of 3 to \"reduce the aliasing effect\"\n",
    "      anti_aliased_layer = Conv1D(filters=feature_map_layers[-1].shape[-1],\n",
    "                                  kernel_size=3,\n",
    "                                  strides=1,\n",
    "                                  padding=\"same\",\n",
    "                                  name=f\"Anti_Alias_{i}\")(feature_map_layers[-1])\n",
    "\n",
    "      anti_aliased_layers.append(anti_aliased_layer)\n",
    "\n",
    "    # Helper storage to keep pyramid index consistent, also in predictor/regressor\n",
    "    anti_aliased_pyramid_indices.append(i)\n",
    "\n",
    "  # Apply the predictor head to each feature dimension layer\n",
    "  for n in range(len(anti_aliased_layers)):\n",
    "    predictor_input = anti_aliased_layers[n]\n",
    "\n",
    "    # Get the pyramid index\n",
    "    pyramid_index = anti_aliased_pyramid_indices[n]\n",
    "\n",
    "    # Permute the Conv output back\n",
    "    predictor_input = Permute((2, 1), name=f\"PermutePredictorInput_{pyramid_index}\")(predictor_input)\n",
    "\n",
    "    predictor = LSTM(units=mp[\"HEAD_LSTM_SIZE\"],\n",
    "                     name=f\"Predictor_Head_{pyramid_index}_LSTM\")(predictor_input)\n",
    "    \n",
    "    # Direction and derivation regressor\n",
    "    regressor = Dense(units=mp[\"HEAD_DENSE_SIZE\"],\n",
    "                      name=f\"Predictor_Head_{pyramid_index}_Dense_Regressor\",\n",
    "                      activation='relu')(predictor)\n",
    "    \n",
    "    regressor_layers.append(regressor)\n",
    "  \n",
    "  # Add all regressors together\n",
    "  regressor_conced = Concatenate(name=\"Concatenate_regressors\")(regressor_layers)\n",
    "  #regressor_conced = Dense(regressor_conced.shape[1], name=\"Combined_Regressor_1\")(regressor_conced)\n",
    "  #regressor_conced = Dense(regressor_conced.shape[1], name=\"Combined_Regressor_2\")(regressor_conced)\n",
    "\n",
    "  # The output are two values (direction and derivation) in the range [-1.0, 1.0]\n",
    "  output = Dense(2, activation=\"tanh\", name=\"Output\")(regressor_conced)\n",
    "  outputs = [output]\n",
    "\n",
    "  # Combine it all into a model object\n",
    "  model = Model(inputs=inputTicksAndIndicators, outputs=outputs, name=mp[\"NAME\"] + \"_\" + str(mp[\"VERSION\"]))\n",
    "\n",
    "  return model, mp\n",
    "\n",
    "model, model_config = CreateModelFPNWithAttention()\n",
    "print(model_config)\n",
    "model.summary(line_length=220)"
   ]
  },
  {
   "cell_type": "markdown",
   "metadata": {
    "id": "kXE8AjjoEWE4"
   },
   "source": [
    "# Train the model"
   ]
  },
  {
   "cell_type": "code",
   "execution_count": 36,
   "metadata": {
    "colab": {
     "base_uri": "https://localhost:8080/",
     "height": 35
    },
    "id": "_jkOrQ01hZnE",
    "outputId": "afe655bf-d35c-4f71-ced0-d225a2ff6155"
   },
   "outputs": [
    {
     "data": {
      "text/plain": [
       "'FPNWithAttentionBiggerTimebased_5_FutureOnly_60days_Stable2_GPU_128LB'"
      ]
     },
     "execution_count": 36,
     "metadata": {},
     "output_type": "execute_result"
    }
   ],
   "source": [
    "# Define the checkpoint name for storing training progress\n",
    "CHKPNT_NAME = f\"{model.name}_GPU_{X_BLOCK_LENGHT}LB\"\n",
    "CHKPNT_NAME"
   ]
  },
  {
   "cell_type": "code",
   "execution_count": 37,
   "metadata": {
    "id": "g0VmovApkwAB"
   },
   "outputs": [],
   "source": [
    "# Set an optimizer\n",
    "optimizer = Adam(\n",
    "    learning_rate=1e-03,\n",
    "    epsilon=1e-06,\n",
    "    beta_1=0.9,\n",
    "    beta_2=0.98,\n",
    "    decay=0.01)"
   ]
  },
  {
   "cell_type": "code",
   "execution_count": 38,
   "metadata": {
    "id": "AOLSygN7Ut7_"
   },
   "outputs": [],
   "source": [
    "# Compile the model\n",
    "model.compile(\n",
    "    optimizer = optimizer,\n",
    "    loss = [\"mse\"], \n",
    "    metrics=[\"mae\"])"
   ]
  },
  {
   "cell_type": "code",
   "execution_count": 39,
   "metadata": {},
   "outputs": [],
   "source": [
    "#@title CustomCallback\n",
    "# This method stores the model weights every `save_freq` batches, or at least at the epoch's end\n",
    "\n",
    "class CustomCallback(tf.keras.callbacks.Callback):\n",
    "  def __init__(self, save_freq, val_freq, checkpoint_path, model_name, epoch_add=0):\n",
    "    self.save_freq = save_freq\n",
    "    self.val_freq = val_freq\n",
    "    self.checkpoint_path = checkpoint_path\n",
    "    self.model_name = model_name\n",
    "    self.current_epoch = 0\n",
    "    self.epoch_add = epoch_add\n",
    "\n",
    "  def on_epoch_begin(self, epoch, logs=None):\n",
    "    self.current_epoch = epoch + self.epoch_add\n",
    "    # keys = list(logs.keys())\n",
    "    # print(\"Start epoch {} of training; got log keys: {}\".format(epoch, keys))\n",
    "\n",
    "  def on_epoch_end(self, epoch, logs=None):\n",
    "    self.saveTheModel(-1, logs)\n",
    "\n",
    "  def on_train_batch_end(self, batch, logs=None):\n",
    "    self.saveTheModel(batch, logs)\n",
    "\n",
    "  def saveTheModel(self, batch, logs=None):\n",
    "    if (0 < batch and 0 == batch % self.save_freq) or (0 > batch):\n",
    "      logging.info(str(datetime.datetime.utcnow()))\n",
    "    \n",
    "      if 0 > batch:\n",
    "        _save_folder = os.path.join(self.checkpoint_path,\n",
    "                                    self.model_name,\n",
    "                                    \"cp_daily_valid_{:02d}_end\".format(self.current_epoch)\n",
    "                                    )\n",
    "      else:\n",
    "        _save_folder = os.path.join(self.checkpoint_path,\n",
    "                                    self.model_name,\n",
    "                                    \"cp_daily_valid_{:02d}_{:05d}\".format(self.current_epoch, batch)\n",
    "                                    )\n",
    "      \n",
    "      fp = os.path.join(_save_folder, \"model.h5\")\n",
    "      model.save(fp)\n",
    "      logging.info(f\"Saved model to '{fp}'\")\n",
    "      \n",
    "      # Save optimizer config\n",
    "      # c = copy.deepcopy(self.model.optimizer.get_config())\n",
    "\n",
    "#       fp = os.path.join(_save_folder, \"c.pickle\")\n",
    "#       with file_io.FileIO(fp, mode='wb+') as handle:\n",
    "#         pickle.dump(self.model.optimizer.get_config(), handle, protocol=pickle.HIGHEST_PROTOCOL)\n",
    "        \n",
    "#       logging.info(f\"Saved optimizer config to '{fp}'\")\n",
    "\n",
    "#       # Save optimizer weights\n",
    "#       # w = copy.deepcopy(self.model.optimizer.get_weights())\n",
    "\n",
    "#       fp = os.path.join(_save_folder, \"w.pickle\")\n",
    "#       with open(fp, \"wb\") as handle:\n",
    "#         # with file_io.FileIO(fp, mode='wb+') as handle:\n",
    "#         pickle.dump(self.model.optimizer.get_weights(), handle, protocol=pickle.HIGHEST_PROTOCOL)\n",
    "      \n",
    "#       logging.info(f\"Saved optimizer weights to '{fp}'\")\n",
    "        \n",
    "      logging.info(f\"Did a gc collect: {gc.collect()}\")\n",
    "\n",
    "    # if 0 < batch and 0 == batch % self.val_freq:\n",
    "    #   print(\"-------------------------EVAL-------------------------\")\n",
    "    #   model.evaluate(tfgenTest)\n",
    "    #   print(\"\\n-------------------------EVAL-------------------------\")"
   ]
  },
  {
   "cell_type": "code",
   "execution_count": 40,
   "metadata": {
    "id": "JyggHiDGNTEX"
   },
   "outputs": [],
   "source": [
    "# If the training is resumed from a previous checkpoint, these epochs can be added to keep model saving consistent\n",
    "epoch_add = 0"
   ]
  },
  {
   "cell_type": "code",
   "execution_count": 41,
   "metadata": {
    "id": "-pJ08IBN7cgB"
   },
   "outputs": [],
   "source": [
    "# Define how often the model shall be saved\n",
    "CALLBACK_EVERY_N_BATCHES = 2000"
   ]
  },
  {
   "cell_type": "code",
   "execution_count": 42,
   "metadata": {
    "id": "CuGT0rFvzH1n"
   },
   "outputs": [],
   "source": [
    "# Create the custom callback\n",
    "cc = CustomCallback(checkpoint_path = CHECKPOINT_PATH,\n",
    "                    model_name = CHKPNT_NAME,\n",
    "                    save_freq = CALLBACK_EVERY_N_BATCHES,\n",
    "                    val_freq = CALLBACK_EVERY_N_BATCHES,\n",
    "                    epoch_add = epoch_add)"
   ]
  },
  {
   "cell_type": "code",
   "execution_count": 43,
   "metadata": {
    "id": "LuuH0xBKGE1g",
    "tags": []
   },
   "outputs": [],
   "source": [
    "# Load the TensorBoard notebook extension\n",
    "%load_ext tensorboard"
   ]
  },
  {
   "cell_type": "code",
   "execution_count": 44,
   "metadata": {
    "colab": {
     "base_uri": "https://localhost:8080/",
     "height": 35
    },
    "id": "mpUXurxwSp_3",
    "outputId": "8d57d014-c4bc-49e1-a434-179a5be0529c"
   },
   "outputs": [
    {
     "data": {
      "text/plain": [
       "'/content/CryptoCrystalBall/Data/logs/FPNWithAttentionBiggerTimebased_5_FutureOnly_60days_Stable2_GPU_128LB_20230420111404'"
      ]
     },
     "execution_count": 44,
     "metadata": {},
     "output_type": "execute_result"
    }
   ],
   "source": [
    "# Todo: Create more elegant solution\n",
    "log_dir = \"gs://ticks_with_indicators_with_volume/logs/TPU/\" + CHKPNT_NAME + \"_\" + datetime.datetime.now().strftime(\"%Y%m%d%H%M%S\")\n",
    "\n",
    "if not COLAB:\n",
    "    log_dir = os.path.join(\"/content/CryptoCrystalBall/Data/logs\",log_dir.split(\"/\")[-1])\n",
    "\n",
    "log_dir"
   ]
  },
  {
   "cell_type": "code",
   "execution_count": 45,
   "metadata": {
    "id": "_X-ab7uc3gTt"
   },
   "outputs": [
    {
     "name": "stderr",
     "output_type": "stream",
     "text": [
      "2023-04-20 11:14:04.062337: I tensorflow/core/profiler/lib/profiler_session.cc:101] Profiler session initializing.\n",
      "2023-04-20 11:14:04.062374: I tensorflow/core/profiler/lib/profiler_session.cc:116] Profiler session started.\n",
      "2023-04-20 11:14:04.062424: I tensorflow/core/profiler/backends/gpu/cupti_tracer.cc:1664] Profiler found 1 GPUs\n",
      "2023-04-20 11:14:04.062799: W tensorflow/stream_executor/platform/default/dso_loader.cc:64] Could not load dynamic library 'libcupti.so.11.2'; dlerror: libcupti.so.11.2: cannot open shared object file: No such file or directory\n",
      "2023-04-20 11:14:04.156358: I tensorflow/core/profiler/lib/profiler_session.cc:128] Profiler session tear down.\n",
      "2023-04-20 11:14:04.156599: I tensorflow/core/profiler/backends/gpu/cupti_tracer.cc:1798] CUPTI activity buffer flushed\n"
     ]
    }
   ],
   "source": [
    "# Create a TensorBoard callback for moniting the training progress\n",
    "tensorboard_callback = tf.keras.callbacks.TensorBoard(\n",
    "    log_dir=log_dir,\n",
    "    histogram_freq=1,\n",
    "    update_freq=CALLBACK_EVERY_N_BATCHES,\n",
    "    profile_batch=(5,100)\n",
    "    )"
   ]
  },
  {
   "cell_type": "code",
   "execution_count": 46,
   "metadata": {
    "tags": []
   },
   "outputs": [],
   "source": [
    "# Load previous weights if necessary\n",
    "#MODEL_PATH = \"/content/CryptoCrystalBall/Notebooks/etf_pastfuture_based/FPNWithAttentionBiggerTimebased_2_FutureOnly_60days_GPU_128LB/cp_daily_valid_05_end/model.h5\"\n",
    "\n",
    "#model.load_weights(MODEL_PATH)"
   ]
  },
  {
   "cell_type": "code",
   "execution_count": 47,
   "metadata": {
    "tags": []
   },
   "outputs": [
    {
     "data": {
      "text/html": [
       "\n",
       "      <iframe id=\"tensorboard-frame-21cddccecca64fcd\" width=\"100%\" height=\"800\" frameborder=\"0\">\n",
       "      </iframe>\n",
       "      <script>\n",
       "        (function() {\n",
       "          const frame = document.getElementById(\"tensorboard-frame-21cddccecca64fcd\");\n",
       "          const url = new URL(\"/\", window.location);\n",
       "          const port = 6006;\n",
       "          if (port) {\n",
       "            url.port = port;\n",
       "          }\n",
       "          frame.src = url;\n",
       "        })();\n",
       "      </script>\n",
       "    "
      ],
      "text/plain": [
       "<IPython.core.display.HTML object>"
      ]
     },
     "metadata": {},
     "output_type": "display_data"
    }
   ],
   "source": [
    "# Activate the TensorBoard\n",
    "%tensorboard --logdir $log_dir --host 0.0.0.0 --port 6006"
   ]
  },
  {
   "cell_type": "code",
   "execution_count": 48,
   "metadata": {},
   "outputs": [
    {
     "ename": "NameError",
     "evalue": "name 'stop' is not defined",
     "output_type": "error",
     "traceback": [
      "\u001b[0;31m---------------------------------------------------------------------------\u001b[0m",
      "\u001b[0;31mNameError\u001b[0m                                 Traceback (most recent call last)",
      "Cell \u001b[0;32mIn[48], line 1\u001b[0m\n\u001b[0;32m----> 1\u001b[0m \u001b[43mstop\u001b[49m\n",
      "\u001b[0;31mNameError\u001b[0m: name 'stop' is not defined"
     ]
    }
   ],
   "source": [
    "stop"
   ]
  },
  {
   "cell_type": "markdown",
   "metadata": {},
   "source": [
    "# Start training"
   ]
  },
  {
   "cell_type": "code",
   "execution_count": null,
   "metadata": {
    "tags": []
   },
   "outputs": [],
   "source": [
    "# Train for one epoch on a higher learning rate to get the model going\n",
    "model.fit(tfGenTraining,\n",
    "          epochs=1,\n",
    "          verbose = 1,\n",
    "          callbacks=[tensorboard_callback, cc])"
   ]
  },
  {
   "cell_type": "code",
   "execution_count": null,
   "metadata": {
    "tags": []
   },
   "outputs": [],
   "source": [
    "# Decrease the learning rate to avoid overshooting\n",
    "model.optimizer.learning_rate = 5e-6\n",
    "logging.info(f\"Decreased learning rate: {model.optimizer.learning_rate.numpy()}\")"
   ]
  },
  {
   "cell_type": "code",
   "execution_count": null,
   "metadata": {},
   "outputs": [],
   "source": [
    "RANDOM_SEED += 1\n",
    "RANDOM_SEED"
   ]
  },
  {
   "cell_type": "code",
   "execution_count": null,
   "metadata": {},
   "outputs": [],
   "source": [
    "# Create a Tensorflow dataset out of the python generator, which can be fed to the network\n",
    "tfGenTraining = tf.data.Dataset.from_generator(pythonGeneratorSignalsTraining, \n",
    "                                               output_types = (tf.float32, tf.float32),\n",
    "                                               output_shapes=(\n",
    "                                                   (BATCH_SIZE, X_BLOCK_LENGHT, FEATURES),\n",
    "                                                   (BATCH_SIZE, 2)\n",
    "                                                   )\n",
    "                                               )\n",
    "\n",
    "tfGenTraining = tfGenTraining.prefetch(buffer_size=32)"
   ]
  },
  {
   "cell_type": "code",
   "execution_count": null,
   "metadata": {},
   "outputs": [],
   "source": [
    "# Create a new CustomCallback with 1 epoch added to the logging file name\n",
    "epoch_add = 1\n",
    "\n",
    "cc = CustomCallback(checkpoint_path = CHECKPOINT_PATH,\n",
    "                    model_name = CHKPNT_NAME,\n",
    "                    save_freq = CALLBACK_EVERY_N_BATCHES,\n",
    "                    val_freq = CALLBACK_EVERY_N_BATCHES,\n",
    "                    epoch_add = epoch_add)"
   ]
  },
  {
   "cell_type": "code",
   "execution_count": null,
   "metadata": {
    "colab": {
     "base_uri": "https://localhost:8080/"
    },
    "id": "DcUTfAbHb2FW",
    "outputId": "a6b2d3a2-f00f-4733-fd4b-268b42e7f2a6",
    "tags": []
   },
   "outputs": [],
   "source": [
    "# Train further on with the reduced learning rate\n",
    "model.fit(tfGenTraining,\n",
    "          epochs=3,\n",
    "          verbose = 1,\n",
    "          callbacks=[tensorboard_callback, cc])"
   ]
  },
  {
   "cell_type": "markdown",
   "metadata": {},
   "source": [
    "### Different random seed"
   ]
  },
  {
   "cell_type": "code",
   "execution_count": null,
   "metadata": {},
   "outputs": [],
   "source": [
    "RANDOM_SEED += 1\n",
    "RANDOM_SEED"
   ]
  },
  {
   "cell_type": "code",
   "execution_count": null,
   "metadata": {},
   "outputs": [],
   "source": [
    "# Create a Tensorflow dataset out of the python generator, which can be fed to the network\n",
    "tfGenTraining = tf.data.Dataset.from_generator(pythonGeneratorSignalsTraining, \n",
    "                                               output_types = (tf.float32, tf.float32),\n",
    "                                               output_shapes=(\n",
    "                                                   (BATCH_SIZE, X_BLOCK_LENGHT, FEATURES),\n",
    "                                                   (BATCH_SIZE, 2)\n",
    "                                                   )\n",
    "                                               )\n",
    "\n",
    "tfGenTraining = tfGenTraining.prefetch(buffer_size=32)"
   ]
  },
  {
   "cell_type": "code",
   "execution_count": null,
   "metadata": {},
   "outputs": [],
   "source": [
    "# Create a new CustomCallback with 1 epoch added to the logging file name\n",
    "epoch_add = 4\n",
    "\n",
    "cc = CustomCallback(checkpoint_path = CHECKPOINT_PATH,\n",
    "                    model_name = CHKPNT_NAME,\n",
    "                    save_freq = CALLBACK_EVERY_N_BATCHES,\n",
    "                    val_freq = CALLBACK_EVERY_N_BATCHES,\n",
    "                    epoch_add = epoch_add)"
   ]
  },
  {
   "cell_type": "code",
   "execution_count": null,
   "metadata": {},
   "outputs": [],
   "source": [
    "# Train further on with the reduced learning rate\n",
    "model.fit(tfGenTraining,\n",
    "          epochs=3,\n",
    "          verbose = 1,\n",
    "          callbacks=[tensorboard_callback, cc])"
   ]
  },
  {
   "cell_type": "code",
   "execution_count": null,
   "metadata": {},
   "outputs": [],
   "source": [
    "stop"
   ]
  },
  {
   "cell_type": "markdown",
   "metadata": {},
   "source": [
    "# Use the model to predict the future"
   ]
  },
  {
   "cell_type": "code",
   "execution_count": null,
   "metadata": {},
   "outputs": [],
   "source": [
    "Todo important: CustomCallback has to set MODEL_PATH \n",
    "--> The folder for the predicted data shall then be named like this"
   ]
  },
  {
   "cell_type": "code",
   "execution_count": 49,
   "metadata": {
    "tags": []
   },
   "outputs": [],
   "source": [
    "MODEL_PATH = \"/content/bigdata/chk/FPNWithAttentionBiggerTimebased_5_FutureOnly_60days_Stable2_GPU_128LB/cp_daily_valid_06_end/model.h5\""
   ]
  },
  {
   "cell_type": "code",
   "execution_count": 50,
   "metadata": {
    "tags": []
   },
   "outputs": [],
   "source": [
    "model = tf.keras.models.load_model(MODEL_PATH)"
   ]
  },
  {
   "cell_type": "code",
   "execution_count": 51,
   "metadata": {
    "tags": []
   },
   "outputs": [
    {
     "data": {
      "text/plain": [
       "'/content/dataset/ETF/tickdata/ticks/test'"
      ]
     },
     "execution_count": 51,
     "metadata": {},
     "output_type": "execute_result"
    }
   ],
   "source": [
    "TEST_PATH = DATASET_PATH.replace(\"train\", \"test\")\n",
    "TEST_PATH"
   ]
  },
  {
   "cell_type": "code",
   "execution_count": 52,
   "metadata": {
    "tags": []
   },
   "outputs": [
    {
     "data": {
      "text/plain": [
       "'/content/CryptoCrystalBall/Data/Crypto'"
      ]
     },
     "execution_count": 52,
     "metadata": {},
     "output_type": "execute_result"
    }
   ],
   "source": [
    "TEST_PATH = '/content/CryptoCrystalBall/Data/Crypto'\n",
    "TEST_PATH"
   ]
  },
  {
   "cell_type": "code",
   "execution_count": 53,
   "metadata": {
    "tags": []
   },
   "outputs": [
    {
     "data": {
      "text/plain": [
       "'/content/dataset/ETF/tickdata/ticks/eval'"
      ]
     },
     "execution_count": 53,
     "metadata": {},
     "output_type": "execute_result"
    }
   ],
   "source": [
    "EVAL_PATH = DATASET_PATH.replace(\"train\", \"eval\")\n",
    "EVAL_PATH"
   ]
  },
  {
   "cell_type": "code",
   "execution_count": 54,
   "metadata": {
    "tags": []
   },
   "outputs": [
    {
     "name": "stdout",
     "output_type": "stream",
     "text": [
      "The test dataset contains 1 files.\n",
      "['/content/CryptoCrystalBall/Data/Crypto/ETH-USDT.csv']\n"
     ]
    }
   ],
   "source": [
    "# Get test file names\n",
    "TEST_FILES = [os.path.join(TEST_PATH,f) for f in listdir(TEST_PATH) if isfile(join(TEST_PATH, f)) and \".csv\" in f ]\n",
    "\n",
    "# Sort them (as a stable basis for randomizing afterwards)\n",
    "TEST_FILES = sorted(TEST_FILES)\n",
    "\n",
    "print(f\"The test dataset contains {len(TEST_FILES)} files.\")\n",
    "print(TEST_FILES[:3])"
   ]
  },
  {
   "cell_type": "code",
   "execution_count": 55,
   "metadata": {
    "tags": []
   },
   "outputs": [
    {
     "name": "stdout",
     "output_type": "stream",
     "text": [
      "The eval dataset contains 1063 files.\n",
      "['/content/dataset/ETF/tickdata/ticks/eval/DE0002635265.csv', '/content/dataset/ETF/tickdata/ticks/eval/DE0002635273.csv', '/content/dataset/ETF/tickdata/ticks/eval/DE0002635281.csv']\n"
     ]
    }
   ],
   "source": [
    "# Get test file names\n",
    "EVAL_FILES = [os.path.join(EVAL_PATH,f) for f in listdir(EVAL_PATH) if isfile(join(EVAL_PATH, f)) and \".csv\" in f ]\n",
    "\n",
    "# Sort them (as a stable basis for randomizing afterwards)\n",
    "EVAL_FILES = sorted(EVAL_FILES)\n",
    "\n",
    "print(f\"The eval dataset contains {len(EVAL_FILES)} files.\")\n",
    "print(EVAL_FILES[:3])"
   ]
  },
  {
   "cell_type": "code",
   "execution_count": 56,
   "metadata": {
    "tags": []
   },
   "outputs": [],
   "source": [
    "BATCH_SIZE = 512"
   ]
  },
  {
   "cell_type": "code",
   "execution_count": 57,
   "metadata": {
    "id": "RLmWNTDIUpt6",
    "tags": []
   },
   "outputs": [],
   "source": [
    "# Create a generator for prediction\n",
    "# Todo: Use same method as for training to avoid different settings\n",
    "\n",
    "def pythonGeneratorPrediction(fileList):\n",
    "  # Initialize the FileListToDataStream generator\n",
    "  dataStream= DataStreamCreator.FileListToDataStream(fileList = fileList,\n",
    "                                                     batch_size = BATCH_SIZE,\n",
    "                                                     X_Block_lenght = X_BLOCK_LENGHT,\n",
    "                                                     y_type_dict=Y_TYPE_DICT,\n",
    "                                                     shuffle=False,\n",
    "                                                     parallel_generators = 1,\n",
    "                                                     random_seed = RANDOM_SEED,\n",
    "                                                     **DATA_STREAM_PARAMETERS\n",
    "                                                    )\n",
    "  \n",
    "  # This while has to integrated into the FileListToDataStream method\n",
    "  while True:  \n",
    "    try:\n",
    "      ne = next(dataStream)\n",
    "      _X = ne['X']\n",
    "      _y = ne['y']\n",
    "    \n",
    "      # Limit the y signal to avoid excess\n",
    "      _y /= 10.0\n",
    "      _y = np.clip(_y, -10.0, 10.0)\n",
    "\n",
    "      yield (_X, _y)\n",
    "    except StopIteration as si:\n",
    "      logging.warning(\"StopIteration in pythonGenerator\")\n",
    "      logging.warning(si)\n",
    "      return"
   ]
  },
  {
   "cell_type": "code",
   "execution_count": 58,
   "metadata": {
    "tags": []
   },
   "outputs": [
    {
     "data": {
      "text/plain": [
       "'/content/CryptoCrystalBall/Data/Crypto/ETH-USDT.csv'"
      ]
     },
     "execution_count": 58,
     "metadata": {},
     "output_type": "execute_result"
    }
   ],
   "source": [
    "# Load a file to visualize the prediction results\n",
    "FILE_FOR_VISUALIZATION = TEST_FILES[0]\n",
    "FILE_FOR_VISUALIZATION"
   ]
  },
  {
   "cell_type": "code",
   "execution_count": 59,
   "metadata": {
    "id": "iUSw95cqUuE_",
    "tags": []
   },
   "outputs": [
    {
     "data": {
      "text/plain": [
       "<FlatMapDataset element_spec=(TensorSpec(shape=(512, 128, 116), dtype=tf.float32, name=None), TensorSpec(shape=(512, 4), dtype=tf.float32, name=None))>"
      ]
     },
     "execution_count": 59,
     "metadata": {},
     "output_type": "execute_result"
    }
   ],
   "source": [
    "# Create a Tensorflow dataset out of the python generator, which can be fed to the network\n",
    "tfGenPrediction = tf.data.Dataset.from_generator(lambda: pythonGeneratorPrediction(fileList=[FILE_FOR_VISUALIZATION]), \n",
    "                                               output_types = (tf.float32, tf.float32),\n",
    "                                               output_shapes=(\n",
    "                                                   (BATCH_SIZE, X_BLOCK_LENGHT, FEATURES),\n",
    "                                                   (BATCH_SIZE, 4)\n",
    "                                                   )\n",
    "                                               )\n",
    "tfGenPrediction"
   ]
  },
  {
   "cell_type": "code",
   "execution_count": 60,
   "metadata": {
    "tags": []
   },
   "outputs": [
    {
     "name": "stderr",
     "output_type": "stream",
     "text": [
      "INFO:root:File 'ETH-USDT.csv' loaded, 0 left\n",
      "ERROR:root:X_slice_from_gen.shape[0]: 512\n",
      "ERROR:root:y_slice_from_gen.shape[0]: 57\n",
      "ERROR:root:X_slice_from_gen.shape[0]: 512\n",
      "ERROR:root:y_slice_from_gen.shape[0]: 0\n",
      "ERROR:root:X_slice_from_gen.shape[0]: 512\n",
      "ERROR:root:y_slice_from_gen.shape[0]: 0\n",
      "ERROR:root:X_slice_from_gen.shape[0]: 512\n",
      "ERROR:root:y_slice_from_gen.shape[0]: 0\n",
      "ERROR:root:X_slice_from_gen.shape[0]: 512\n",
      "ERROR:root:y_slice_from_gen.shape[0]: 0\n",
      "ERROR:root:X_slice_from_gen.shape[0]: 512\n",
      "ERROR:root:y_slice_from_gen.shape[0]: 0\n",
      "ERROR:root:X_slice_from_gen.shape[0]: 512\n",
      "ERROR:root:y_slice_from_gen.shape[0]: 0\n",
      "ERROR:root:X_slice_from_gen.shape[0]: 512\n",
      "ERROR:root:y_slice_from_gen.shape[0]: 0\n",
      "ERROR:root:X_slice_from_gen.shape[0]: 512\n",
      "ERROR:root:y_slice_from_gen.shape[0]: 0\n",
      "ERROR:root:X_slice_from_gen.shape[0]: 512\n",
      "ERROR:root:y_slice_from_gen.shape[0]: 0\n",
      "ERROR:root:X_slice_from_gen.shape[0]: 512\n",
      "ERROR:root:y_slice_from_gen.shape[0]: 0\n",
      "ERROR:root:X_slice_from_gen.shape[0]: 512\n",
      "ERROR:root:y_slice_from_gen.shape[0]: 0\n",
      "ERROR:root:X_slice_from_gen.shape[0]: 512\n",
      "ERROR:root:y_slice_from_gen.shape[0]: 0\n",
      "ERROR:root:X_slice_from_gen.shape[0]: 512\n",
      "ERROR:root:y_slice_from_gen.shape[0]: 0\n",
      "ERROR:root:X_slice_from_gen.shape[0]: 512\n",
      "ERROR:root:y_slice_from_gen.shape[0]: 0\n",
      "ERROR:root:X_slice_from_gen.shape[0]: 512\n",
      "ERROR:root:y_slice_from_gen.shape[0]: 0\n",
      "WARNING:root:StopIteration in pythonGenerator\n",
      "WARNING:root:\n"
     ]
    },
    {
     "ename": "StopIteration",
     "evalue": "",
     "output_type": "error",
     "traceback": [
      "\u001b[0;31m---------------------------------------------------------------------------\u001b[0m",
      "\u001b[0;31mOutOfRangeError\u001b[0m                           Traceback (most recent call last)",
      "File \u001b[0;32m/opt/conda/lib/python3.10/site-packages/tensorflow/python/data/ops/iterator_ops.py:766\u001b[0m, in \u001b[0;36mOwnedIterator.__next__\u001b[0;34m(self)\u001b[0m\n\u001b[1;32m    765\u001b[0m \u001b[38;5;28;01mtry\u001b[39;00m:\n\u001b[0;32m--> 766\u001b[0m   \u001b[38;5;28;01mreturn\u001b[39;00m \u001b[38;5;28;43mself\u001b[39;49m\u001b[38;5;241;43m.\u001b[39;49m\u001b[43m_next_internal\u001b[49m\u001b[43m(\u001b[49m\u001b[43m)\u001b[49m\n\u001b[1;32m    767\u001b[0m \u001b[38;5;28;01mexcept\u001b[39;00m errors\u001b[38;5;241m.\u001b[39mOutOfRangeError:\n",
      "File \u001b[0;32m/opt/conda/lib/python3.10/site-packages/tensorflow/python/data/ops/iterator_ops.py:749\u001b[0m, in \u001b[0;36mOwnedIterator._next_internal\u001b[0;34m(self)\u001b[0m\n\u001b[1;32m    748\u001b[0m \u001b[38;5;28;01mwith\u001b[39;00m context\u001b[38;5;241m.\u001b[39mexecution_mode(context\u001b[38;5;241m.\u001b[39mSYNC):\n\u001b[0;32m--> 749\u001b[0m   ret \u001b[38;5;241m=\u001b[39m \u001b[43mgen_dataset_ops\u001b[49m\u001b[38;5;241;43m.\u001b[39;49m\u001b[43miterator_get_next\u001b[49m\u001b[43m(\u001b[49m\n\u001b[1;32m    750\u001b[0m \u001b[43m      \u001b[49m\u001b[38;5;28;43mself\u001b[39;49m\u001b[38;5;241;43m.\u001b[39;49m\u001b[43m_iterator_resource\u001b[49m\u001b[43m,\u001b[49m\n\u001b[1;32m    751\u001b[0m \u001b[43m      \u001b[49m\u001b[43moutput_types\u001b[49m\u001b[38;5;241;43m=\u001b[39;49m\u001b[38;5;28;43mself\u001b[39;49m\u001b[38;5;241;43m.\u001b[39;49m\u001b[43m_flat_output_types\u001b[49m\u001b[43m,\u001b[49m\n\u001b[1;32m    752\u001b[0m \u001b[43m      \u001b[49m\u001b[43moutput_shapes\u001b[49m\u001b[38;5;241;43m=\u001b[39;49m\u001b[38;5;28;43mself\u001b[39;49m\u001b[38;5;241;43m.\u001b[39;49m\u001b[43m_flat_output_shapes\u001b[49m\u001b[43m)\u001b[49m\n\u001b[1;32m    754\u001b[0m   \u001b[38;5;28;01mtry\u001b[39;00m:\n\u001b[1;32m    755\u001b[0m     \u001b[38;5;66;03m# Fast path for the case `self._structure` is not a nested structure.\u001b[39;00m\n",
      "File \u001b[0;32m/opt/conda/lib/python3.10/site-packages/tensorflow/python/ops/gen_dataset_ops.py:3017\u001b[0m, in \u001b[0;36miterator_get_next\u001b[0;34m(iterator, output_types, output_shapes, name)\u001b[0m\n\u001b[1;32m   3016\u001b[0m \u001b[38;5;28;01mexcept\u001b[39;00m _core\u001b[38;5;241m.\u001b[39m_NotOkStatusException \u001b[38;5;28;01mas\u001b[39;00m e:\n\u001b[0;32m-> 3017\u001b[0m   \u001b[43m_ops\u001b[49m\u001b[38;5;241;43m.\u001b[39;49m\u001b[43mraise_from_not_ok_status\u001b[49m\u001b[43m(\u001b[49m\u001b[43me\u001b[49m\u001b[43m,\u001b[49m\u001b[43m \u001b[49m\u001b[43mname\u001b[49m\u001b[43m)\u001b[49m\n\u001b[1;32m   3018\u001b[0m \u001b[38;5;28;01mexcept\u001b[39;00m _core\u001b[38;5;241m.\u001b[39m_FallbackException:\n",
      "File \u001b[0;32m/opt/conda/lib/python3.10/site-packages/tensorflow/python/framework/ops.py:7209\u001b[0m, in \u001b[0;36mraise_from_not_ok_status\u001b[0;34m(e, name)\u001b[0m\n\u001b[1;32m   7208\u001b[0m e\u001b[38;5;241m.\u001b[39mmessage \u001b[38;5;241m+\u001b[39m\u001b[38;5;241m=\u001b[39m (\u001b[38;5;124m\"\u001b[39m\u001b[38;5;124m name: \u001b[39m\u001b[38;5;124m\"\u001b[39m \u001b[38;5;241m+\u001b[39m name \u001b[38;5;28;01mif\u001b[39;00m name \u001b[38;5;129;01mis\u001b[39;00m \u001b[38;5;129;01mnot\u001b[39;00m \u001b[38;5;28;01mNone\u001b[39;00m \u001b[38;5;28;01melse\u001b[39;00m \u001b[38;5;124m\"\u001b[39m\u001b[38;5;124m\"\u001b[39m)\n\u001b[0;32m-> 7209\u001b[0m \u001b[38;5;28;01mraise\u001b[39;00m core\u001b[38;5;241m.\u001b[39m_status_to_exception(e) \u001b[38;5;28;01mfrom\u001b[39;00m \u001b[38;5;28mNone\u001b[39m\n",
      "\u001b[0;31mOutOfRangeError\u001b[0m: {{function_node __wrapped__IteratorGetNext_output_types_2_device_/job:localhost/replica:0/task:0/device:CPU:0}} End of sequence [Op:IteratorGetNext]",
      "\nDuring handling of the above exception, another exception occurred:\n",
      "\u001b[0;31mStopIteration\u001b[0m                             Traceback (most recent call last)",
      "Cell \u001b[0;32mIn[60], line 3\u001b[0m\n\u001b[1;32m      1\u001b[0m it \u001b[38;5;241m=\u001b[39m tfGenPrediction\u001b[38;5;241m.\u001b[39mas_numpy_iterator()\n\u001b[1;32m      2\u001b[0m \u001b[38;5;28;01mwhile\u001b[39;00m \u001b[38;5;28;01mTrue\u001b[39;00m:\n\u001b[0;32m----> 3\u001b[0m     ne \u001b[38;5;241m=\u001b[39m \u001b[38;5;28;43mnext\u001b[39;49m\u001b[43m(\u001b[49m\u001b[43mit\u001b[49m\u001b[43m)\u001b[49m\n",
      "File \u001b[0;32m/opt/conda/lib/python3.10/site-packages/tensorflow/python/data/ops/dataset_ops.py:4635\u001b[0m, in \u001b[0;36m_NumpyIterator.__next__\u001b[0;34m(self)\u001b[0m\n\u001b[1;32m   4632\u001b[0m     numpy\u001b[38;5;241m.\u001b[39msetflags(write\u001b[38;5;241m=\u001b[39m\u001b[38;5;28;01mFalse\u001b[39;00m)\n\u001b[1;32m   4633\u001b[0m   \u001b[38;5;28;01mreturn\u001b[39;00m numpy\n\u001b[0;32m-> 4635\u001b[0m \u001b[38;5;28;01mreturn\u001b[39;00m nest\u001b[38;5;241m.\u001b[39mmap_structure(to_numpy, \u001b[38;5;28;43mnext\u001b[39;49m\u001b[43m(\u001b[49m\u001b[38;5;28;43mself\u001b[39;49m\u001b[38;5;241;43m.\u001b[39;49m\u001b[43m_iterator\u001b[49m\u001b[43m)\u001b[49m)\n",
      "File \u001b[0;32m/opt/conda/lib/python3.10/site-packages/tensorflow/python/data/ops/iterator_ops.py:768\u001b[0m, in \u001b[0;36mOwnedIterator.__next__\u001b[0;34m(self)\u001b[0m\n\u001b[1;32m    766\u001b[0m   \u001b[38;5;28;01mreturn\u001b[39;00m \u001b[38;5;28mself\u001b[39m\u001b[38;5;241m.\u001b[39m_next_internal()\n\u001b[1;32m    767\u001b[0m \u001b[38;5;28;01mexcept\u001b[39;00m errors\u001b[38;5;241m.\u001b[39mOutOfRangeError:\n\u001b[0;32m--> 768\u001b[0m   \u001b[38;5;28;01mraise\u001b[39;00m \u001b[38;5;167;01mStopIteration\u001b[39;00m\n",
      "\u001b[0;31mStopIteration\u001b[0m: "
     ]
    }
   ],
   "source": [
    "it = tfGenPrediction.as_numpy_iterator()\n",
    "while True:\n",
    "    ne = next(it)"
   ]
  },
  {
   "cell_type": "code",
   "execution_count": 61,
   "metadata": {
    "id": "ktuZ3D04UzeE",
    "tags": []
   },
   "outputs": [
    {
     "name": "stderr",
     "output_type": "stream",
     "text": [
      "INFO:root:File 'ETH-USDT.csv' loaded, 0 left\n",
      "2023-04-20 11:15:03.874135: I tensorflow/stream_executor/cuda/cuda_dnn.cc:384] Loaded cuDNN version 8700\n",
      "2023-04-20 11:15:04.458922: I tensorflow/stream_executor/cuda/cuda_blas.cc:1614] TensorFloat-32 will be used for the matrix multiplication. This will only be logged once.\n"
     ]
    },
    {
     "name": "stdout",
     "output_type": "stream",
     "text": [
      "     82/Unknown - 25s 125ms/step"
     ]
    },
    {
     "name": "stderr",
     "output_type": "stream",
     "text": [
      "ERROR:root:X_slice_from_gen.shape[0]: 512\n",
      "ERROR:root:y_slice_from_gen.shape[0]: 57\n"
     ]
    },
    {
     "name": "stdout",
     "output_type": "stream",
     "text": [
      "     83/Unknown - 25s 125ms/step"
     ]
    },
    {
     "name": "stderr",
     "output_type": "stream",
     "text": [
      "ERROR:root:X_slice_from_gen.shape[0]: 512\n",
      "ERROR:root:y_slice_from_gen.shape[0]: 0\n"
     ]
    },
    {
     "name": "stdout",
     "output_type": "stream",
     "text": [
      "     84/Unknown - 25s 125ms/step"
     ]
    },
    {
     "name": "stderr",
     "output_type": "stream",
     "text": [
      "ERROR:root:X_slice_from_gen.shape[0]: 512\n",
      "ERROR:root:y_slice_from_gen.shape[0]: 0\n"
     ]
    },
    {
     "name": "stdout",
     "output_type": "stream",
     "text": [
      "     85/Unknown - 25s 125ms/step"
     ]
    },
    {
     "name": "stderr",
     "output_type": "stream",
     "text": [
      "ERROR:root:X_slice_from_gen.shape[0]: 512\n",
      "ERROR:root:y_slice_from_gen.shape[0]: 0\n"
     ]
    },
    {
     "name": "stdout",
     "output_type": "stream",
     "text": [
      "     86/Unknown - 26s 125ms/step"
     ]
    },
    {
     "name": "stderr",
     "output_type": "stream",
     "text": [
      "ERROR:root:X_slice_from_gen.shape[0]: 512\n",
      "ERROR:root:y_slice_from_gen.shape[0]: 0\n"
     ]
    },
    {
     "name": "stdout",
     "output_type": "stream",
     "text": [
      "     87/Unknown - 26s 125ms/step"
     ]
    },
    {
     "name": "stderr",
     "output_type": "stream",
     "text": [
      "ERROR:root:X_slice_from_gen.shape[0]: 512\n",
      "ERROR:root:y_slice_from_gen.shape[0]: 0\n"
     ]
    },
    {
     "name": "stdout",
     "output_type": "stream",
     "text": [
      "     88/Unknown - 26s 125ms/step"
     ]
    },
    {
     "name": "stderr",
     "output_type": "stream",
     "text": [
      "ERROR:root:X_slice_from_gen.shape[0]: 512\n",
      "ERROR:root:y_slice_from_gen.shape[0]: 0\n"
     ]
    },
    {
     "name": "stdout",
     "output_type": "stream",
     "text": [
      "     89/Unknown - 26s 125ms/step"
     ]
    },
    {
     "name": "stderr",
     "output_type": "stream",
     "text": [
      "ERROR:root:X_slice_from_gen.shape[0]: 512\n",
      "ERROR:root:y_slice_from_gen.shape[0]: 0\n"
     ]
    },
    {
     "name": "stdout",
     "output_type": "stream",
     "text": [
      "     90/Unknown - 26s 125ms/step"
     ]
    },
    {
     "name": "stderr",
     "output_type": "stream",
     "text": [
      "ERROR:root:X_slice_from_gen.shape[0]: 512\n",
      "ERROR:root:y_slice_from_gen.shape[0]: 0\n"
     ]
    },
    {
     "name": "stdout",
     "output_type": "stream",
     "text": [
      "     91/Unknown - 26s 125ms/step"
     ]
    },
    {
     "name": "stderr",
     "output_type": "stream",
     "text": [
      "ERROR:root:X_slice_from_gen.shape[0]: 512\n",
      "ERROR:root:y_slice_from_gen.shape[0]: 0\n"
     ]
    },
    {
     "name": "stdout",
     "output_type": "stream",
     "text": [
      "     92/Unknown - 26s 125ms/step"
     ]
    },
    {
     "name": "stderr",
     "output_type": "stream",
     "text": [
      "ERROR:root:X_slice_from_gen.shape[0]: 512\n",
      "ERROR:root:y_slice_from_gen.shape[0]: 0\n"
     ]
    },
    {
     "name": "stdout",
     "output_type": "stream",
     "text": [
      "     93/Unknown - 26s 125ms/step"
     ]
    },
    {
     "name": "stderr",
     "output_type": "stream",
     "text": [
      "ERROR:root:X_slice_from_gen.shape[0]: 512\n",
      "ERROR:root:y_slice_from_gen.shape[0]: 0\n"
     ]
    },
    {
     "name": "stdout",
     "output_type": "stream",
     "text": [
      "     94/Unknown - 27s 125ms/step"
     ]
    },
    {
     "name": "stderr",
     "output_type": "stream",
     "text": [
      "ERROR:root:X_slice_from_gen.shape[0]: 512\n",
      "ERROR:root:y_slice_from_gen.shape[0]: 0\n"
     ]
    },
    {
     "name": "stdout",
     "output_type": "stream",
     "text": [
      "     95/Unknown - 27s 125ms/step"
     ]
    },
    {
     "name": "stderr",
     "output_type": "stream",
     "text": [
      "ERROR:root:X_slice_from_gen.shape[0]: 512\n",
      "ERROR:root:y_slice_from_gen.shape[0]: 0\n"
     ]
    },
    {
     "name": "stdout",
     "output_type": "stream",
     "text": [
      "     96/Unknown - 27s 125ms/step"
     ]
    },
    {
     "name": "stderr",
     "output_type": "stream",
     "text": [
      "ERROR:root:X_slice_from_gen.shape[0]: 512\n",
      "ERROR:root:y_slice_from_gen.shape[0]: 0\n"
     ]
    },
    {
     "name": "stdout",
     "output_type": "stream",
     "text": [
      "     97/Unknown - 27s 125ms/step"
     ]
    },
    {
     "name": "stderr",
     "output_type": "stream",
     "text": [
      "ERROR:root:X_slice_from_gen.shape[0]: 512\n",
      "ERROR:root:y_slice_from_gen.shape[0]: 0\n"
     ]
    },
    {
     "name": "stdout",
     "output_type": "stream",
     "text": [
      "     98/Unknown - 27s 125ms/step"
     ]
    },
    {
     "name": "stderr",
     "output_type": "stream",
     "text": [
      "WARNING:root:StopIteration in pythonGenerator\n",
      "WARNING:root:\n"
     ]
    },
    {
     "name": "stdout",
     "output_type": "stream",
     "text": [
      "98/98 [==============================] - 27s 126ms/step\n"
     ]
    },
    {
     "data": {
      "text/plain": [
       "(50176, 2)"
      ]
     },
     "execution_count": 61,
     "metadata": {},
     "output_type": "execute_result"
    }
   ],
   "source": [
    "# Predict something\n",
    "p = model.predict(tfGenPrediction)\n",
    "# p *= 10.0\n",
    "p.shape"
   ]
  },
  {
   "cell_type": "code",
   "execution_count": 62,
   "metadata": {},
   "outputs": [],
   "source": [
    "# Store the prediction results in nicely named variables\n",
    "p_future = p[:,0]\n",
    "p_future_derivation = p[:,1]"
   ]
  },
  {
   "cell_type": "code",
   "execution_count": null,
   "metadata": {
    "tags": []
   },
   "outputs": [],
   "source": [
    "# # Helper method to get the gain data from the past using the generator\n",
    "# def getPastDataFromGen(genIn, predictedShapeIn):\n",
    "#     it = genIn.as_numpy_iterator()\n",
    "\n",
    "#     y_past_data = np.empty((predictedShapeIn[0], 2))\n",
    "#     i = 0\n",
    "\n",
    "#     try:\n",
    "#         while (ne := next(it)):\n",
    "#             y_past_data[i:i+ne[1].shape[0],0] = ne[1][:,0]\n",
    "#             y_past_data[i:i+ne[1].shape[0],1] = ne[1][:,2]\n",
    "\n",
    "#             i += ne[1].shape[0]\n",
    "\n",
    "#     except StopIteration:\n",
    "#         pass\n",
    "\n",
    "#     return y_past_data\n",
    "    \n",
    "# y_past_data = getPastDataFromGen(tfGenPrediction, p.shape)\n",
    "# y_past_data.shape"
   ]
  },
  {
   "cell_type": "code",
   "execution_count": null,
   "metadata": {},
   "outputs": [],
   "source": [
    "# Todo: Improve plotting of the results"
   ]
  },
  {
   "cell_type": "code",
   "execution_count": null,
   "metadata": {
    "tags": []
   },
   "outputs": [],
   "source": [
    "# plt.plot(y_past_data[:,0])"
   ]
  },
  {
   "cell_type": "code",
   "execution_count": null,
   "metadata": {
    "tags": []
   },
   "outputs": [],
   "source": [
    "# plt.plot(y_past_data[:,1])"
   ]
  },
  {
   "cell_type": "code",
   "execution_count": 63,
   "metadata": {
    "id": "vgzPCL7KVXC1"
   },
   "outputs": [
    {
     "data": {
      "text/plain": [
       "[<matplotlib.lines.Line2D at 0x7fc09c2a7d00>]"
      ]
     },
     "execution_count": 63,
     "metadata": {},
     "output_type": "execute_result"
    },
    {
     "data": {
      "image/png": "[encoded data removed]",
      "text/plain": [
       "<Figure size 640x480 with 1 Axes>"
      ]
     },
     "metadata": {},
     "output_type": "display_data"
    }
   ],
   "source": [
    "plt.plot(p_future)"
   ]
  },
  {
   "cell_type": "code",
   "execution_count": 64,
   "metadata": {
    "tags": []
   },
   "outputs": [
    {
     "data": {
      "text/plain": [
       "[<matplotlib.lines.Line2D at 0x7fc07476c7f0>]"
      ]
     },
     "execution_count": 64,
     "metadata": {},
     "output_type": "execute_result"
    },
    {
     "data": {
      "image/png": "[encoded data removed]",
      "text/plain": [
       "<Figure size 640x480 with 1 Axes>"
      ]
     },
     "metadata": {},
     "output_type": "display_data"
    }
   ],
   "source": [
    "plt.plot(p_future_derivation)"
   ]
  },
  {
   "cell_type": "markdown",
   "metadata": {},
   "source": [
    "# Add the predictions to the tick table to visualize them"
   ]
  },
  {
   "cell_type": "code",
   "execution_count": 65,
   "metadata": {
    "tags": []
   },
   "outputs": [
    {
     "data": {
      "text/html": [
       "<div>\n",
       "<style scoped>\n",
       "    .dataframe tbody tr th:only-of-type {\n",
       "        vertical-align: middle;\n",
       "    }\n",
       "\n",
       "    .dataframe tbody tr th {\n",
       "        vertical-align: top;\n",
       "    }\n",
       "\n",
       "    .dataframe thead th {\n",
       "        text-align: right;\n",
       "    }\n",
       "</style>\n",
       "<table border=\"1\" class=\"dataframe\">\n",
       "  <thead>\n",
       "    <tr style=\"text-align: right;\">\n",
       "      <th></th>\n",
       "      <th>startsAt</th>\n",
       "      <th>open</th>\n",
       "      <th>high</th>\n",
       "      <th>low</th>\n",
       "      <th>close</th>\n",
       "      <th>volume</th>\n",
       "      <th>quoteVolume</th>\n",
       "    </tr>\n",
       "  </thead>\n",
       "  <tbody>\n",
       "    <tr>\n",
       "      <th>0</th>\n",
       "      <td>1492779600</td>\n",
       "      <td>51.000000</td>\n",
       "      <td>51.000000</td>\n",
       "      <td>51.000000</td>\n",
       "      <td>51.000000</td>\n",
       "      <td>0.000997</td>\n",
       "      <td>0.050873</td>\n",
       "    </tr>\n",
       "    <tr>\n",
       "      <th>1</th>\n",
       "      <td>1492783200</td>\n",
       "      <td>51.000000</td>\n",
       "      <td>51.000000</td>\n",
       "      <td>51.000000</td>\n",
       "      <td>51.000000</td>\n",
       "      <td>0.000003</td>\n",
       "      <td>0.000128</td>\n",
       "    </tr>\n",
       "    <tr>\n",
       "      <th>2</th>\n",
       "      <td>1492786800</td>\n",
       "      <td>51.000000</td>\n",
       "      <td>51.000000</td>\n",
       "      <td>51.000000</td>\n",
       "      <td>51.000000</td>\n",
       "      <td>0.000000</td>\n",
       "      <td>0.000000</td>\n",
       "    </tr>\n",
       "    <tr>\n",
       "      <th>3</th>\n",
       "      <td>1492790400</td>\n",
       "      <td>51.000000</td>\n",
       "      <td>51.000000</td>\n",
       "      <td>51.000000</td>\n",
       "      <td>51.000000</td>\n",
       "      <td>0.000000</td>\n",
       "      <td>0.000000</td>\n",
       "    </tr>\n",
       "    <tr>\n",
       "      <th>4</th>\n",
       "      <td>1492794000</td>\n",
       "      <td>51.000000</td>\n",
       "      <td>51.000000</td>\n",
       "      <td>51.000000</td>\n",
       "      <td>51.000000</td>\n",
       "      <td>0.000000</td>\n",
       "      <td>0.000000</td>\n",
       "    </tr>\n",
       "    <tr>\n",
       "      <th>...</th>\n",
       "      <td>...</td>\n",
       "      <td>...</td>\n",
       "      <td>...</td>\n",
       "      <td>...</td>\n",
       "      <td>...</td>\n",
       "      <td>...</td>\n",
       "      <td>...</td>\n",
       "    </tr>\n",
       "    <tr>\n",
       "      <th>42164</th>\n",
       "      <td>1647244800</td>\n",
       "      <td>2585.520259</td>\n",
       "      <td>2601.475445</td>\n",
       "      <td>2585.401150</td>\n",
       "      <td>2595.000000</td>\n",
       "      <td>16.632924</td>\n",
       "      <td>43103.997904</td>\n",
       "    </tr>\n",
       "    <tr>\n",
       "      <th>42165</th>\n",
       "      <td>1647248400</td>\n",
       "      <td>2595.000000</td>\n",
       "      <td>2607.820000</td>\n",
       "      <td>2586.804573</td>\n",
       "      <td>2594.990000</td>\n",
       "      <td>11.321535</td>\n",
       "      <td>29347.127692</td>\n",
       "    </tr>\n",
       "    <tr>\n",
       "      <th>42166</th>\n",
       "      <td>1647252000</td>\n",
       "      <td>2596.744850</td>\n",
       "      <td>2596.744850</td>\n",
       "      <td>2585.702991</td>\n",
       "      <td>2593.791600</td>\n",
       "      <td>3.353088</td>\n",
       "      <td>8694.047176</td>\n",
       "    </tr>\n",
       "    <tr>\n",
       "      <th>42167</th>\n",
       "      <td>1647255600</td>\n",
       "      <td>2589.081359</td>\n",
       "      <td>2591.849087</td>\n",
       "      <td>2577.827610</td>\n",
       "      <td>2580.003192</td>\n",
       "      <td>2.803050</td>\n",
       "      <td>7245.510782</td>\n",
       "    </tr>\n",
       "    <tr>\n",
       "      <th>42168</th>\n",
       "      <td>1647259200</td>\n",
       "      <td>2583.735088</td>\n",
       "      <td>2583.735088</td>\n",
       "      <td>2575.470790</td>\n",
       "      <td>2575.470790</td>\n",
       "      <td>2.826961</td>\n",
       "      <td>7295.181387</td>\n",
       "    </tr>\n",
       "  </tbody>\n",
       "</table>\n",
       "<p>42169 rows × 7 columns</p>\n",
       "</div>"
      ],
      "text/plain": [
       "         startsAt         open         high          low        close  \\\n",
       "0      1492779600    51.000000    51.000000    51.000000    51.000000   \n",
       "1      1492783200    51.000000    51.000000    51.000000    51.000000   \n",
       "2      1492786800    51.000000    51.000000    51.000000    51.000000   \n",
       "3      1492790400    51.000000    51.000000    51.000000    51.000000   \n",
       "4      1492794000    51.000000    51.000000    51.000000    51.000000   \n",
       "...           ...          ...          ...          ...          ...   \n",
       "42164  1647244800  2585.520259  2601.475445  2585.401150  2595.000000   \n",
       "42165  1647248400  2595.000000  2607.820000  2586.804573  2594.990000   \n",
       "42166  1647252000  2596.744850  2596.744850  2585.702991  2593.791600   \n",
       "42167  1647255600  2589.081359  2591.849087  2577.827610  2580.003192   \n",
       "42168  1647259200  2583.735088  2583.735088  2575.470790  2575.470790   \n",
       "\n",
       "          volume   quoteVolume  \n",
       "0       0.000997      0.050873  \n",
       "1       0.000003      0.000128  \n",
       "2       0.000000      0.000000  \n",
       "3       0.000000      0.000000  \n",
       "4       0.000000      0.000000  \n",
       "...          ...           ...  \n",
       "42164  16.632924  43103.997904  \n",
       "42165  11.321535  29347.127692  \n",
       "42166   3.353088   8694.047176  \n",
       "42167   2.803050   7245.510782  \n",
       "42168   2.826961   7295.181387  \n",
       "\n",
       "[42169 rows x 7 columns]"
      ]
     },
     "execution_count": 65,
     "metadata": {},
     "output_type": "execute_result"
    }
   ],
   "source": [
    "# Load the table\n",
    "tickDF = pd.read_csv(FILE_FOR_VISUALIZATION)\n",
    "tickDF"
   ]
  },
  {
   "cell_type": "code",
   "execution_count": null,
   "metadata": {
    "tags": []
   },
   "outputs": [],
   "source": [
    "# # Because the data is cropped in the batching process (Todo: fix this) and can also not be used fully due to the X-Block and y-data creation,\n",
    "# # the loaded DF has a bigger shape\n",
    "# tickDF.shape[0] - p.shape[0]"
   ]
  },
  {
   "cell_type": "code",
   "execution_count": null,
   "metadata": {
    "tags": []
   },
   "outputs": [],
   "source": [
    "# # Crop the DF to meet the prediction\n",
    "# tickDFcropped = tickDF.iloc[-p.shape[0]:, :]\n",
    "# tickDFcropped"
   ]
  },
  {
   "cell_type": "code",
   "execution_count": null,
   "metadata": {
    "tags": []
   },
   "outputs": [],
   "source": [
    "# # Plot the prediction again, now over the open price\n",
    "# chart_name=\"Predicted direction of price movement with open price\"\n",
    "# fig, ax1 = plt.subplots(figsize=(20,10))\n",
    "# ax1.set_title(chart_name, fontsize=14)\n",
    "\n",
    "# _ = ax1.plot(p_future, color=\"green\", label=\"Predicted p_future\")\n",
    "# _ = ax1.plot(p_future_derivation, color=\"red\", label=\"Predicted p_future_derivation\")\n",
    "# # _ = ax1.plot(p_neutral, color=\"gray\", label=\"Predicted neutral\")\n",
    "\n",
    "# ax2 = ax1.twinx()\n",
    "\n",
    "# ax2.plot(tickDFcropped.loc[:,'open'].values, color=\"black\", label=\"Price\")\n",
    "\n",
    "# ax1.set_xlabel(\"Timesteps\")\n",
    "# ax1.set_ylabel(\"Direction\")\n",
    "# ax2.set_ylabel(\"Price\")\n",
    "\n",
    "# # Show a legend\n",
    "# lines, labels = ax1.get_legend_handles_labels()\n",
    "# lines2, labels2 = ax2.get_legend_handles_labels()\n",
    "# ax2.legend(lines + lines2, labels + labels2, loc=\"upper left\")\n",
    "\n",
    "# # Save the figure\n",
    "# # fig_name = \"FileListToDataStreamExample_\" + chart_name.replace(\" \", \"_\").replace(\"'\", \"\").replace(\"(\", \"\").replace(\")\", \"\") + \".svg\"\n",
    "# # plt.savefig(os.path.join(IMG_SAVE_PATH, fig_name), bbox_inches=\"tight\")"
   ]
  },
  {
   "cell_type": "code",
   "execution_count": null,
   "metadata": {
    "tags": []
   },
   "outputs": [],
   "source": [
    "#@title Buy and sell signal thresholds\n",
    "BUY_SIGNAL_THRESHOLD_FUTURE = 0.15 #@param {type:\"number\"}\n",
    "BUY_SIGNAL_THRESHOLD_PAST = 0.01 #@param {type:\"number\"}\n",
    "\n",
    "SELL_SIGNAL_THRESHOLD_PAST = 0.1 #@param {type:\"number\"}"
   ]
  },
  {
   "cell_type": "code",
   "execution_count": null,
   "metadata": {
    "tags": []
   },
   "outputs": [],
   "source": [
    "# /content/bigdata/chk/FPNWithAttentionBiggerTimebased_3_FutureOnly_60days_GPU_128LB/cp_daily_valid_06_end/model.h5"
   ]
  },
  {
   "cell_type": "markdown",
   "metadata": {},
   "source": [
    "# Add predictions to tick tables\n",
    "# Predict the test and eval set\n",
    "The future information for these sets is predicted using the trained model, additionally the past gain info is acquired using the `FileListToDataStream` generator. It is then stored together with the tick information as .csv files, which then can be used to develop a trading strategy.\n",
    "\n",
    "```\n",
    "Todo: Add link to finder notebooks\n",
    "```"
   ]
  },
  {
   "cell_type": "code",
   "execution_count": null,
   "metadata": {
    "tags": []
   },
   "outputs": [],
   "source": [
    "stop"
   ]
  },
  {
   "cell_type": "code",
   "execution_count": 66,
   "metadata": {
    "tags": []
   },
   "outputs": [],
   "source": [
    "BATCH_SIZE = 512"
   ]
  },
  {
   "cell_type": "code",
   "execution_count": 67,
   "metadata": {
    "tags": []
   },
   "outputs": [],
   "source": [
    "# Create a generator for prediction\n",
    "# Todo: Use same method as for training to avoid different settings\n",
    "\n",
    "def pythonGeneratorPrediction(fileList):\n",
    "    assert 1 == len(fileList) # This gen shall only be used for one file\n",
    "    \n",
    "    # Find a batch size which minimizes the non-predicted timestaps (e.g. an optimal divider)\n",
    "    tickDF = pd.read_csv(fileList[0])\n",
    "    timesteps = tickDF.shape[0]\n",
    "    \n",
    "    # Compensate the timesteps by the X_BLOCK_LENGHT (as the first block ends at index X_BLOCK_LENGHT)\n",
    "    timesteps -= X_BLOCK_LENGHT\n",
    "    \n",
    "    residue_list = []\n",
    "    min_residue = timesteps + 1\n",
    "\n",
    "    for batch_size in range(BATCH_SIZE, 31, -1):\n",
    "        residue = timesteps % batch_size\n",
    "\n",
    "        # If the residue is bigger than the min one, this batch size can be ignored\n",
    "        if residue <= min_residue:    \n",
    "            residue_list.append((batch_size, residue))\n",
    "\n",
    "        min_residue = np.min([min_residue, residue])\n",
    "\n",
    "    # Use only batch sizes with the minimum residue\n",
    "    residue_list = list(filter(lambda x: x[1] == min_residue, residue_list))\n",
    "\n",
    "    # Sort the residue list by the batch size\n",
    "    residue_list = sorted(residue_list, key=lambda tup: tup[1])\n",
    "\n",
    "    logging.info(f\"Picked a batch size of {residue_list[0][0]} with a residue of {residue_list[0][1]}.\")\n",
    "\n",
    "    batch_size = residue_list[0][0]\n",
    "    \n",
    "    batch_size=256\n",
    "\n",
    "    # Initialize the FileListToDataStream generator\n",
    "    dataStream = DataStreamCreator.FileListToDataStream(fileList = fileList,\n",
    "                                                     batch_size = batch_size,\n",
    "                                                     X_Block_lenght = X_BLOCK_LENGHT,\n",
    "                                                     y_type_dict=Y_TYPE_DICT,\n",
    "                                                     shuffle=False,\n",
    "                                                     parallel_generators = 1,\n",
    "                                                     random_seed = RANDOM_SEED,\n",
    "                                                     **DATA_STREAM_PARAMETERS\n",
    "                                                    )\n",
    "\n",
    "    # This while has to integrated into the FileListToDataStream method\n",
    "    while True:  \n",
    "        try:\n",
    "            ne = next(dataStream)\n",
    "            _X = ne['X']\n",
    "            _y = ne['y']\n",
    "\n",
    "            # Limit the y signal to avoid excess\n",
    "            # _y /= 10.0\n",
    "            # _y = np.clip(_y, -10.0, 10.0)\n",
    "            _y = np.zeros(_y.shape)\n",
    "\n",
    "            yield (_X, _y)\n",
    "        except StopIteration as si:\n",
    "            logging.warning(\"StopIteration in pythonGenerator\")\n",
    "            logging.warning(si)\n",
    "            return"
   ]
  },
  {
   "cell_type": "code",
   "execution_count": 68,
   "metadata": {
    "tags": []
   },
   "outputs": [],
   "source": [
    "# PREDICTED_SAVE_PATH = \"/content/dataset/etffancy/PastFutureGainV2/test\""
   ]
  },
  {
   "cell_type": "code",
   "execution_count": 69,
   "metadata": {
    "tags": []
   },
   "outputs": [
    {
     "name": "stdout",
     "output_type": "stream",
     "text": [
      "model_name: 'FPNWithAttentionBiggerTimebased_5_FutureOnly_60days_Stable2_GPU_128LB'\n",
      "checkpoint_name: 'cp_daily_valid_06_end'\n"
     ]
    }
   ],
   "source": [
    "# Get the model name and the checkpoint name\n",
    "model_name, checkpoint_name = tuple(MODEL_PATH.split(os.sep)[-3:-1])\n",
    "print(f\"model_name: '{model_name}'\")\n",
    "print(f\"checkpoint_name: '{checkpoint_name}'\")"
   ]
  },
  {
   "cell_type": "code",
   "execution_count": 70,
   "metadata": {
    "tags": []
   },
   "outputs": [
    {
     "data": {
      "text/plain": [
       "['/',\n",
       " 'content',\n",
       " 'dataset',\n",
       " 'ETF',\n",
       " 'tickdata',\n",
       " 'ticks',\n",
       " 'predicted',\n",
       " 'FPNWithAttentionBiggerTimebased_5_FutureOnly_60days_Stable2_GPU_128LB',\n",
       " 'cp_daily_valid_06_end']"
      ]
     },
     "execution_count": 70,
     "metadata": {},
     "output_type": "execute_result"
    }
   ],
   "source": [
    "# Replace the latest element in the DATASET_PATH with \"predicted\"\n",
    "prediction_save_path = DATASET_PATH.split(os.sep)[:-1]\n",
    "prediction_save_path += [\"predicted\"]\n",
    "\n",
    "# Preserve the root symbol\n",
    "if prediction_save_path[0] == \"\":\n",
    "    prediction_save_path[0] = os.sep\n",
    "\n",
    "# Add the model info to the path\n",
    "prediction_save_path += [model_name, checkpoint_name]\n",
    "    \n",
    "prediction_save_path"
   ]
  },
  {
   "cell_type": "code",
   "execution_count": 71,
   "metadata": {
    "tags": []
   },
   "outputs": [
    {
     "data": {
      "text/plain": [
       "['/',\n",
       " 'content',\n",
       " 'CryptoCrystalBall',\n",
       " 'Data',\n",
       " 'Crypto',\n",
       " 'predicted',\n",
       " 'FPNWithAttentionBiggerTimebased_5_FutureOnly_60days_Stable2_GPU_128LB',\n",
       " 'cp_daily_valid_06_end']"
      ]
     },
     "execution_count": 71,
     "metadata": {},
     "output_type": "execute_result"
    }
   ],
   "source": [
    "# Replace the latest element in the DATASET_PATH with \"predicted\"\n",
    "prediction_save_path = TEST_FILES[0].split(os.sep)[:-1]\n",
    "prediction_save_path += [\"predicted\"]\n",
    "\n",
    "# Preserve the root symbol\n",
    "if prediction_save_path[0] == \"\":\n",
    "    prediction_save_path[0] = os.sep\n",
    "\n",
    "# Add the model info to the path\n",
    "prediction_save_path += [model_name, checkpoint_name]\n",
    "    \n",
    "prediction_save_path"
   ]
  },
  {
   "cell_type": "code",
   "execution_count": 72,
   "metadata": {
    "tags": []
   },
   "outputs": [
    {
     "name": "stdout",
     "output_type": "stream",
     "text": [
      "PREDICTION_SAVE_PATH_TEST: '/content/CryptoCrystalBall/Data/Crypto/predicted/FPNWithAttentionBiggerTimebased_5_FutureOnly_60days_Stable2_GPU_128LB/cp_daily_valid_06_end/test'\n",
      "PREDICTION_SAVE_PATH_EVAL: '/content/CryptoCrystalBall/Data/Crypto/predicted/FPNWithAttentionBiggerTimebased_5_FutureOnly_60days_Stable2_GPU_128LB/cp_daily_valid_06_end/eval'\n"
     ]
    }
   ],
   "source": [
    "# Check each path element and create it if necessary\n",
    "for i in range(1, len(prediction_save_path)):\n",
    "    partial_path_string = os.path.join(*prediction_save_path[:i+1])\n",
    "\n",
    "    if not os.path.exists(partial_path_string):\n",
    "        os.mkdir(partial_path_string)\n",
    "        \n",
    "# Create the test and eval save folders\n",
    "PREDICTION_SAVE_PATH_TEST = os.path.join(*(prediction_save_path + [\"test\"]))\n",
    "if not os.path.exists(PREDICTION_SAVE_PATH_TEST):\n",
    "    os.mkdir(PREDICTION_SAVE_PATH_TEST)\n",
    "\n",
    "PREDICTION_SAVE_PATH_EVAL = os.path.join(*(prediction_save_path + [\"eval\"]))\n",
    "if not os.path.exists(PREDICTION_SAVE_PATH_EVAL):\n",
    "    os.mkdir(PREDICTION_SAVE_PATH_EVAL)\n",
    "\n",
    "print(f\"PREDICTION_SAVE_PATH_TEST: '{PREDICTION_SAVE_PATH_TEST}'\")\n",
    "print(f\"PREDICTION_SAVE_PATH_EVAL: '{PREDICTION_SAVE_PATH_EVAL}'\")"
   ]
  },
  {
   "cell_type": "code",
   "execution_count": 74,
   "metadata": {
    "tags": []
   },
   "outputs": [],
   "source": [
    "fileList=[FILE_FOR_VISUALIZATION]"
   ]
  },
  {
   "cell_type": "code",
   "execution_count": 75,
   "metadata": {
    "tags": []
   },
   "outputs": [
    {
     "data": {
      "text/html": [
       "<div>\n",
       "<style scoped>\n",
       "    .dataframe tbody tr th:only-of-type {\n",
       "        vertical-align: middle;\n",
       "    }\n",
       "\n",
       "    .dataframe tbody tr th {\n",
       "        vertical-align: top;\n",
       "    }\n",
       "\n",
       "    .dataframe thead th {\n",
       "        text-align: right;\n",
       "    }\n",
       "</style>\n",
       "<table border=\"1\" class=\"dataframe\">\n",
       "  <thead>\n",
       "    <tr style=\"text-align: right;\">\n",
       "      <th></th>\n",
       "      <th>open</th>\n",
       "      <th>high</th>\n",
       "      <th>low</th>\n",
       "      <th>close</th>\n",
       "      <th>volume</th>\n",
       "      <th>quoteVolume</th>\n",
       "    </tr>\n",
       "    <tr>\n",
       "      <th>startsAt</th>\n",
       "      <th></th>\n",
       "      <th></th>\n",
       "      <th></th>\n",
       "      <th></th>\n",
       "      <th></th>\n",
       "      <th></th>\n",
       "    </tr>\n",
       "  </thead>\n",
       "  <tbody>\n",
       "    <tr>\n",
       "      <th>1492779600</th>\n",
       "      <td>51.000000</td>\n",
       "      <td>51.000000</td>\n",
       "      <td>51.000000</td>\n",
       "      <td>51.000000</td>\n",
       "      <td>0.000997</td>\n",
       "      <td>0.050873</td>\n",
       "    </tr>\n",
       "    <tr>\n",
       "      <th>1492783200</th>\n",
       "      <td>51.000000</td>\n",
       "      <td>51.000000</td>\n",
       "      <td>51.000000</td>\n",
       "      <td>51.000000</td>\n",
       "      <td>0.000003</td>\n",
       "      <td>0.000128</td>\n",
       "    </tr>\n",
       "    <tr>\n",
       "      <th>1492786800</th>\n",
       "      <td>51.000000</td>\n",
       "      <td>51.000000</td>\n",
       "      <td>51.000000</td>\n",
       "      <td>51.000000</td>\n",
       "      <td>0.000000</td>\n",
       "      <td>0.000000</td>\n",
       "    </tr>\n",
       "    <tr>\n",
       "      <th>1492790400</th>\n",
       "      <td>51.000000</td>\n",
       "      <td>51.000000</td>\n",
       "      <td>51.000000</td>\n",
       "      <td>51.000000</td>\n",
       "      <td>0.000000</td>\n",
       "      <td>0.000000</td>\n",
       "    </tr>\n",
       "    <tr>\n",
       "      <th>1492794000</th>\n",
       "      <td>51.000000</td>\n",
       "      <td>51.000000</td>\n",
       "      <td>51.000000</td>\n",
       "      <td>51.000000</td>\n",
       "      <td>0.000000</td>\n",
       "      <td>0.000000</td>\n",
       "    </tr>\n",
       "    <tr>\n",
       "      <th>...</th>\n",
       "      <td>...</td>\n",
       "      <td>...</td>\n",
       "      <td>...</td>\n",
       "      <td>...</td>\n",
       "      <td>...</td>\n",
       "      <td>...</td>\n",
       "    </tr>\n",
       "    <tr>\n",
       "      <th>1647244800</th>\n",
       "      <td>2585.520259</td>\n",
       "      <td>2601.475445</td>\n",
       "      <td>2585.401150</td>\n",
       "      <td>2595.000000</td>\n",
       "      <td>16.632924</td>\n",
       "      <td>43103.997904</td>\n",
       "    </tr>\n",
       "    <tr>\n",
       "      <th>1647248400</th>\n",
       "      <td>2595.000000</td>\n",
       "      <td>2607.820000</td>\n",
       "      <td>2586.804573</td>\n",
       "      <td>2594.990000</td>\n",
       "      <td>11.321535</td>\n",
       "      <td>29347.127692</td>\n",
       "    </tr>\n",
       "    <tr>\n",
       "      <th>1647252000</th>\n",
       "      <td>2596.744850</td>\n",
       "      <td>2596.744850</td>\n",
       "      <td>2585.702991</td>\n",
       "      <td>2593.791600</td>\n",
       "      <td>3.353088</td>\n",
       "      <td>8694.047176</td>\n",
       "    </tr>\n",
       "    <tr>\n",
       "      <th>1647255600</th>\n",
       "      <td>2589.081359</td>\n",
       "      <td>2591.849087</td>\n",
       "      <td>2577.827610</td>\n",
       "      <td>2580.003192</td>\n",
       "      <td>2.803050</td>\n",
       "      <td>7245.510782</td>\n",
       "    </tr>\n",
       "    <tr>\n",
       "      <th>1647259200</th>\n",
       "      <td>2583.735088</td>\n",
       "      <td>2583.735088</td>\n",
       "      <td>2575.470790</td>\n",
       "      <td>2575.470790</td>\n",
       "      <td>2.826961</td>\n",
       "      <td>7295.181387</td>\n",
       "    </tr>\n",
       "  </tbody>\n",
       "</table>\n",
       "<p>42169 rows × 6 columns</p>\n",
       "</div>"
      ],
      "text/plain": [
       "                   open         high          low        close     volume  \\\n",
       "startsAt                                                                    \n",
       "1492779600    51.000000    51.000000    51.000000    51.000000   0.000997   \n",
       "1492783200    51.000000    51.000000    51.000000    51.000000   0.000003   \n",
       "1492786800    51.000000    51.000000    51.000000    51.000000   0.000000   \n",
       "1492790400    51.000000    51.000000    51.000000    51.000000   0.000000   \n",
       "1492794000    51.000000    51.000000    51.000000    51.000000   0.000000   \n",
       "...                 ...          ...          ...          ...        ...   \n",
       "1647244800  2585.520259  2601.475445  2585.401150  2595.000000  16.632924   \n",
       "1647248400  2595.000000  2607.820000  2586.804573  2594.990000  11.321535   \n",
       "1647252000  2596.744850  2596.744850  2585.702991  2593.791600   3.353088   \n",
       "1647255600  2589.081359  2591.849087  2577.827610  2580.003192   2.803050   \n",
       "1647259200  2583.735088  2583.735088  2575.470790  2575.470790   2.826961   \n",
       "\n",
       "             quoteVolume  \n",
       "startsAt                  \n",
       "1492779600      0.050873  \n",
       "1492783200      0.000128  \n",
       "1492786800      0.000000  \n",
       "1492790400      0.000000  \n",
       "1492794000      0.000000  \n",
       "...                  ...  \n",
       "1647244800  43103.997904  \n",
       "1647248400  29347.127692  \n",
       "1647252000   8694.047176  \n",
       "1647255600   7245.510782  \n",
       "1647259200   7295.181387  \n",
       "\n",
       "[42169 rows x 6 columns]"
      ]
     },
     "execution_count": 75,
     "metadata": {},
     "output_type": "execute_result"
    }
   ],
   "source": [
    "df = pd.read_csv(fileList[0])\n",
    "df.set_index(\"startsAt\", inplace = True)\n",
    "df.sort_index(inplace = True)\n",
    "df"
   ]
  },
  {
   "cell_type": "code",
   "execution_count": 76,
   "metadata": {
    "tags": []
   },
   "outputs": [
    {
     "data": {
      "text/plain": [
       "512"
      ]
     },
     "execution_count": 76,
     "metadata": {},
     "output_type": "execute_result"
    }
   ],
   "source": [
    "BATCH_SIZE"
   ]
  },
  {
   "cell_type": "code",
   "execution_count": null,
   "metadata": {
    "tags": []
   },
   "outputs": [
    {
     "name": "stderr",
     "output_type": "stream",
     "text": [
      "  0%|                                                     | 0/1 [00:00<?, ?it/s]INFO:root:\n",
      "File name: '/content/CryptoCrystalBall/Data/Crypto/ETH-USDT.csv' for index 0\n",
      "INFO:root:Picked a batch size of 40 with a residue of 1.\n"
     ]
    }
   ],
   "source": [
    "fileList = TEST_FILES\n",
    "PREDICTED_SAVE_PATH = PREDICTION_SAVE_PATH_TEST\n",
    "\n",
    "pd.options.mode.chained_assignment = None  # default='warn'\n",
    "\n",
    "for file_index in tqdm(range(0, len(fileList))):\n",
    "    try:\n",
    "        filename = fileList[file_index]\n",
    "\n",
    "        logging.info(f\"\\nFile name: '{filename}' for index {file_index}\")\n",
    "        \n",
    "        p = model.predict(pythonGeneratorPrediction(fileList=[filename]), verbose = 1)\n",
    "\n",
    "        p_future_gain = p[:,0]\n",
    "        p_future_gain_derivation = p[:,1]\n",
    "\n",
    "        # Load the tick table\n",
    "        tickDF = pd.read_csv(filename)\n",
    "        tickDF.set_index(\"startsAt\", inplace=True)\n",
    "        \n",
    "        logging.info(f\"tickDF.shape: {tickDF.shape}, p.shape: {p.shape}, len difference: {tickDF.shape[0] - p.shape[0]}\")\n",
    "        \n",
    "        # Important: If you want to create one X-Block, e.g. for predicting on live data, you have to feed a `tick_and_indicator_DF` with one more row,\n",
    "        # as the latest row is ignored. This is due to the circumstance that in a live environment the latest tick would change during the day, and therefore\n",
    "        # cannot be used. --> If you want a 128-timesteps X-Block, you have to feed 129 `tick_and_indicator_DF`-rows.\n",
    "\n",
    "        # For a X_BLOCK_LEN of 128, tickDF.iloc[:129] will be the first row that has a prediced value\n",
    "\n",
    "        startIndex = tickDF.index[X_BLOCK_LENGHT]\n",
    "        endIndex = tickDF.index[X_BLOCK_LENGHT+p.shape[0]-1]\n",
    "        \n",
    "        tickDF.loc[startIndex:endIndex, \"p_future_gain\"] = p[:,0]\n",
    "        tickDF.loc[startIndex:endIndex, \"p_future_gain_derivation\"] = p[:,1]       \n",
    "        \n",
    "        # Save the DF\n",
    "        tickDF.to_csv(os.path.join(PREDICTED_SAVE_PATH, filename.split(os.path.sep)[-1]))\n",
    "\n",
    "        logging.info(\"Saved the predicted data.\\n\")\n",
    "        \n",
    "    except KeyboardInterrupt:\n",
    "        raise\n",
    "    except Exception as ex:\n",
    "        logging.warning(str(ex))"
   ]
  },
  {
   "cell_type": "code",
   "execution_count": null,
   "metadata": {},
   "outputs": [],
   "source": [
    "stop"
   ]
  },
  {
   "cell_type": "code",
   "execution_count": null,
   "metadata": {
    "tags": []
   },
   "outputs": [],
   "source": [
    "fileList = EVAL_FILES\n",
    "PREDICTED_SAVE_PATH = PREDICTION_SAVE_PATH_EVAL\n",
    "\n",
    "pd.options.mode.chained_assignment = None  # default='warn'\n",
    "\n",
    "for file_index in tqdm(range(0, len(fileList))):\n",
    "    try:\n",
    "        filename = fileList[file_index]\n",
    "\n",
    "        logging.info(f\"\\nFile name: '{filename}' for index {file_index}\")\n",
    "        \n",
    "        p = model.predict(pythonGeneratorPrediction(fileList=[filename]), verbose = 0)        \n",
    "\n",
    "        p_future_gain = p[:,0]\n",
    "        p_future_gain_derivation = p[:,1]        \n",
    "\n",
    "        # Load the tick table\n",
    "        tickDF = pd.read_csv(filename)\n",
    "        tickDF.set_index(\"startsAt\", inplace=True)\n",
    "        \n",
    "        logging.info(f\"tickDF.shape: {tickDF.shape}, p.shape: {p.shape}, len difference: {tickDF.shape[0] - p.shape[0]}\")\n",
    "        \n",
    "        # Important: If you want to create one X-Block, e.g. for predicting on live data, you have to feed a `tick_and_indicator_DF` with one more row,\n",
    "        # as the latest row is ignored. This is due to the circumstance that in a live environment the latest tick would change during the day, and therefore\n",
    "        # cannot be used. --> If you want a 128-timesteps X-Block, you have to feed 129 `tick_and_indicator_DF`-rows.\n",
    "\n",
    "        # For a X_BLOCK_LEN of 128, tickDF.iloc[:129] will be the first row that has a prediced value\n",
    "\n",
    "        startIndex = tickDF.index[X_BLOCK_LENGHT]\n",
    "        endIndex = tickDF.index[X_BLOCK_LENGHT+p.shape[0]-1]\n",
    "        \n",
    "        tickDF.loc[startIndex:endIndex, \"p_future_gain\"] = p[:,0]\n",
    "        tickDF.loc[startIndex:endIndex, \"p_future_gain_derivation\"] = p[:,1]       \n",
    "        \n",
    "        # Save the DF\n",
    "        tickDF.to_csv(os.path.join(PREDICTED_SAVE_PATH, filename.split(os.path.sep)[-1]))\n",
    "\n",
    "        logging.info(\"Saved the predicted data.\\n\")\n",
    "        \n",
    "    except KeyboardInterrupt:\n",
    "        raise\n",
    "    except Exception as ex:\n",
    "        logging.warning(str(ex))"
   ]
  }
 ],
 "metadata": {
  "colab": {
   "provenance": []
  },
  "gpuClass": "standard",
  "kernelspec": {
   "display_name": "Python 3 (ipykernel)",
   "language": "python",
   "name": "python3"
  },
  "language_info": {
   "codemirror_mode": {
    "name": "ipython",
    "version": 3
   },
   "file_extension": ".py",
   "mimetype": "text/x-python",
   "name": "python",
   "nbconvert_exporter": "python",
   "pygments_lexer": "ipython3",
   "version": "3.10.9"
  }
 },
 "nbformat": 4,
 "nbformat_minor": 4
}
